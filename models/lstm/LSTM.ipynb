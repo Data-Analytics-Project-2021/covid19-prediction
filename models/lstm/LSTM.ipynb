{
 "cells": [
  {
   "cell_type": "markdown",
   "id": "0f8c1478",
   "metadata": {},
   "source": [
    "# LSTM "
   ]
  },
  {
   "cell_type": "markdown",
   "id": "2cf7bb52",
   "metadata": {},
   "source": [
    "## Outline\n",
    "1. [Imports](#imports)\n",
    "2. [Data](#data)\n",
    "3. [Model](#model)\n",
    "5. [Train](#train)\n",
    "6. [Predict](#predict)"
   ]
  },
  {
   "cell_type": "markdown",
   "id": "e53bf128",
   "metadata": {},
   "source": [
    "<a name=imports></a>\n",
    "## Imports"
   ]
  },
  {
   "cell_type": "code",
   "execution_count": 1,
   "id": "2adfac1f",
   "metadata": {},
   "outputs": [],
   "source": [
    "import os\n",
    "import datetime\n",
    "\n",
    "import matplotlib.pyplot as plt\n",
    "import seaborn as sns\n",
    "import numpy as np\n",
    "import pandas as pd\n",
    "import tensorflow as tf\n",
    "from sklearn.model_selection import train_test_split\n",
    "\n",
    "import preprocessing"
   ]
  },
  {
   "cell_type": "markdown",
   "id": "ef7eeeb2",
   "metadata": {},
   "source": [
    "<a name=data></a>\n",
    "## Data"
   ]
  },
  {
   "cell_type": "markdown",
   "id": "3dec6091",
   "metadata": {},
   "source": [
    "### Ingestion "
   ]
  },
  {
   "cell_type": "code",
   "execution_count": 2,
   "id": "93038d23",
   "metadata": {},
   "outputs": [
    {
     "name": "stdout",
     "output_type": "stream",
     "text": [
      "Parent Directory /covid19-prediction/models\n",
      "Path: /covid19-prediction/models/../cleaned_datasets/india/daily_cases_india.csv\n",
      "Exists: True\n",
      "India Cases:\n",
      "          Date  Confirmed  Deaths  Recovered\n",
      "0  2020-01-30        NaN     NaN        NaN\n",
      "1  2020-01-31        0.0     0.0        0.0\n",
      "2  2020-02-01        0.0     0.0        0.0\n",
      "3  2020-02-02        1.0     0.0        0.0\n",
      "4  2020-02-03        1.0     0.0        0.0 \n",
      "\n",
      "India Vacc:\n",
      "          Date  Total_Doses\n",
      "0  2021-01-15          NaN\n",
      "1  2021-01-16          NaN\n",
      "2  2021-01-17      33120.0\n",
      "3  2021-01-18     229748.0\n",
      "4  2021-01-19     220786.0 \n",
      "\n",
      "USA Cases:\n",
      "          Date  Confirmed  Deaths  Recovered\n",
      "0  2020-04-12        NaN     NaN        NaN\n",
      "1  2020-04-13    25255.0  1542.0    11785.0\n",
      "2  2020-04-14    26694.0  2327.0     6484.0\n",
      "3  2020-04-15    29318.0  2474.0     6093.0\n",
      "4  2020-04-16    31235.0  4607.0     5234.0 \n",
      "\n",
      "USA Vacc:\n",
      "          Date  Total_Doses\n",
      "0  2020-12-20     556208.0\n",
      "1  2020-12-21     614117.0\n",
      "2  2020-12-22     811071.0\n",
      "3  2020-12-23    1008025.0\n",
      "4  2020-12-24    1476305.0 \n",
      "\n"
     ]
    }
   ],
   "source": [
    "# Check preprocessing.py for implementation\n",
    "(india_cases_df, india_vacc_df, usa_cases_df, usa_vacc_df) = preprocessing.ingestion()"
   ]
  },
  {
   "cell_type": "markdown",
   "id": "1602826b",
   "metadata": {},
   "source": [
    "### Pre-Processing"
   ]
  },
  {
   "cell_type": "markdown",
   "id": "7d144fbf",
   "metadata": {},
   "source": [
    "### Multivariate"
   ]
  },
  {
   "cell_type": "code",
   "execution_count": 3,
   "id": "aed7181b",
   "metadata": {},
   "outputs": [
    {
     "name": "stdout",
     "output_type": "stream",
     "text": [
      "India:\n",
      "          Date  Confirmed  Total_Doses\n",
      "0  2020-01-30        NaN          NaN\n",
      "1  2020-01-31        0.0          NaN\n",
      "2  2020-02-01        0.0          NaN\n",
      "3  2020-02-02        1.0          NaN\n",
      "4  2020-02-03        1.0          NaN\n",
      "USA:\n",
      "          Date  Confirmed  Total_Doses\n",
      "0  2020-04-12        NaN          NaN\n",
      "1  2020-04-13    25255.0          NaN\n",
      "2  2020-04-14    26694.0          NaN\n",
      "3  2020-04-15    29318.0          NaN\n",
      "4  2020-04-16    31235.0          NaN\n"
     ]
    }
   ],
   "source": [
    "# Check preprocessing.py for implementation\n",
    "# Number of Null in India - 563\n",
    "# Number of Null in USA - 261\n",
    "(india_multi, usa_multi) = preprocessing.multivariate(india_cases_df, india_vacc_df, usa_cases_df, usa_vacc_df)"
   ]
  },
  {
   "cell_type": "markdown",
   "id": "006b0567",
   "metadata": {},
   "source": [
    "### Univariate "
   ]
  },
  {
   "cell_type": "code",
   "execution_count": 4,
   "id": "1d462517",
   "metadata": {},
   "outputs": [
    {
     "name": "stdout",
     "output_type": "stream",
     "text": [
      "India Cases:\n",
      "    Confirmed\n",
      "1        0.0\n",
      "2        0.0\n",
      "3        1.0\n",
      "4        1.0\n",
      "5        0.0 \n",
      "\n",
      "USA Cases:\n",
      "    Confirmed\n",
      "1    25255.0\n",
      "2    26694.0\n",
      "3    29318.0\n",
      "4    31235.0\n",
      "5    32175.0 \n",
      "\n"
     ]
    }
   ],
   "source": [
    "# Check preprocessing.py for implementation\n",
    "# Number of Null in India - 0\n",
    "# Number of Null in USA - 0\n",
    "(india_cases_uni, usa_cases_uni) = preprocessing.univariate(india_cases_df, usa_cases_df)"
   ]
  },
  {
   "cell_type": "markdown",
   "id": "80fd3d2d",
   "metadata": {},
   "source": [
    "### Drop Null"
   ]
  },
  {
   "cell_type": "code",
   "execution_count": 5,
   "id": "900d9a2f",
   "metadata": {},
   "outputs": [
    {
     "name": "stdout",
     "output_type": "stream",
     "text": [
      "India:\n",
      "            Date  Confirmed  Total_Doses\n",
      "353  2021-01-17    13788.0      33120.0\n",
      "354  2021-01-18    10050.0     229748.0\n",
      "355  2021-01-19    13816.0     220786.0\n",
      "356  2021-01-20    15244.0     131649.0\n",
      "357  2021-01-21    14545.0     237050.0\n",
      "USA:\n",
      "            Date  Confirmed  Total_Doses\n",
      "252  2020-12-20   185355.0     556208.0\n",
      "253  2020-12-21   189716.0     614117.0\n",
      "254  2020-12-22   201947.0     811071.0\n",
      "255  2020-12-23   225777.0    1008025.0\n",
      "256  2020-12-24   204900.0    1476305.0\n"
     ]
    }
   ],
   "source": [
    "(india_multi, usa_multi) = preprocessing.dropNull(india_multi, usa_multi)"
   ]
  },
  {
   "cell_type": "markdown",
   "id": "95a94db2",
   "metadata": {},
   "source": [
    "### Normalize"
   ]
  },
  {
   "cell_type": "code",
   "execution_count": 6,
   "id": "eb573fcf",
   "metadata": {},
   "outputs": [
    {
     "name": "stdout",
     "output_type": "stream",
     "text": [
      "India Cases univariate:\n",
      "    Confirmed\n",
      "1  -0.661747\n",
      "2  -0.661747\n",
      "3  -0.661734\n",
      "4  -0.661734\n",
      "5  -0.661747 \n",
      "\n",
      "USA Cases univariate:\n",
      "    Confirmed\n",
      "1  -0.596456\n",
      "2  -0.584433\n",
      "3  -0.562508\n",
      "4  -0.546491\n",
      "5  -0.538637 \n",
      "\n",
      "India Cases multivariate:\n",
      "      Confirmed  Total_Doses\n",
      "353  -0.562592    -1.302360\n",
      "354  -0.601182    -1.243797\n",
      "355  -0.562303    -1.246466\n",
      "356  -0.547561    -1.273014\n",
      "357  -0.554777    -1.241622 \n",
      "\n",
      "USA Cases multivariate:\n",
      "      Confirmed  Total_Doses\n",
      "252   0.492914    -1.809935\n",
      "253   0.523316    -1.809749\n",
      "254   0.608584    -1.809118\n",
      "255   0.774713    -1.808487\n",
      "256   0.629171    -1.806987 \n",
      "\n"
     ]
    }
   ],
   "source": [
    "# Check preprocessing.py for implementation\n",
    "(india_uni_norm, usa_uni_norm, india_multi_norm, usa_multi_norm) = preprocessing.normalize(india_cases_uni, \n",
    "                                                                                           usa_cases_uni, \n",
    "                                                                                           india_multi, \n",
    "                                                                                           usa_multi)"
   ]
  },
  {
   "cell_type": "markdown",
   "id": "59ca1bb8",
   "metadata": {},
   "source": [
    "### Create Splits"
   ]
  },
  {
   "cell_type": "code",
   "execution_count": 7,
   "id": "a462f2e0",
   "metadata": {},
   "outputs": [
    {
     "name": "stdout",
     "output_type": "stream",
     "text": [
      "India:\n",
      "      Confirmed\n",
      "1    -0.661747\n",
      "2    -0.661747\n",
      "3    -0.661734\n",
      "4    -0.661734\n",
      "5    -0.661747\n",
      "..         ...\n",
      "565  -0.199747\n",
      "566  -0.183686\n",
      "567  -0.181453\n",
      "568  -0.209217\n",
      "569  -0.255301\n",
      "\n",
      "[569 rows x 1 columns] \n",
      "\n",
      "USA:\n",
      "      Confirmed\n",
      "1    -0.596456\n",
      "2    -0.584433\n",
      "3    -0.562508\n",
      "4    -0.546491\n",
      "5    -0.538637\n",
      "..         ...\n",
      "507   0.882933\n",
      "508   0.655423\n",
      "509   1.161010\n",
      "510  -0.188293\n",
      "511  -0.412010\n",
      "\n",
      "[511 rows x 1 columns] \n",
      "\n",
      "India:\n",
      "      Confirmed  Total_Doses\n",
      "353  -0.562592    -1.302360\n",
      "354  -0.601182    -1.243797\n",
      "355  -0.562303    -1.246466\n",
      "356  -0.547561    -1.273014\n",
      "357  -0.554777    -1.241622\n",
      "..         ...          ...\n",
      "638  -0.557172     1.442780\n",
      "639  -0.572482     0.707335\n",
      "640  -0.575745    -0.078616\n",
      "641  -0.597332     0.183795\n",
      "642  -0.582053    -0.697398\n",
      "\n",
      "[279 rows x 2 columns] \n",
      "\n",
      "USA:\n",
      "      Confirmed  Total_Doses\n",
      "252   0.492914    -1.809935\n",
      "253   0.523316    -1.809749\n",
      "254   0.608584    -1.809118\n",
      "255   0.774713    -1.808487\n",
      "256   0.629171    -1.806987\n",
      "..         ...          ...\n",
      "557  -0.249237     0.782734\n",
      "558  -0.135924     0.786331\n",
      "559  -0.589158     0.792055\n",
      "560  -0.672229     0.797098\n",
      "561  -0.002421     0.806190\n",
      "\n",
      "[310 rows x 2 columns] \n",
      "\n"
     ]
    }
   ],
   "source": [
    "# Create train test splits\n",
    "(india_uni_train, india_uni_test, usa_uni_train, usa_uni_test) = preprocessing.split(india_uni_norm, usa_uni_norm, 0.2)\n",
    "(india_multi_train, india_multi_test, \n",
    " usa_multi_train, usa_multi_test) = preprocessing.split(india_multi_norm, usa_multi_norm, 0.2)"
   ]
  },
  {
   "cell_type": "markdown",
   "id": "6b59486c",
   "metadata": {},
   "source": [
    "### Data Transformation\n",
    "Simple conversion from pandas dataframe to numpy array by extracting the values"
   ]
  },
  {
   "cell_type": "code",
   "execution_count": 8,
   "id": "04919305",
   "metadata": {},
   "outputs": [],
   "source": [
    "# Univariate\n",
    "india_uni_train_np, india_uni_test_np = india_uni_train.values,  india_uni_test.values\n",
    "usa_uni_train_np, usa_uni_test_np = usa_uni_train.values, usa_uni_test.values\n",
    "# Multivariate\n",
    "india_multi_train_np, india_multi_test_np = india_multi_train.values,  india_multi_test.values\n",
    "usa_multi_train_np, usa_multi_test_np = usa_multi_train.values, usa_multi_test.values"
   ]
  },
  {
   "cell_type": "code",
   "execution_count": 9,
   "id": "82382dfd",
   "metadata": {},
   "outputs": [
    {
     "name": "stdout",
     "output_type": "stream",
     "text": [
      "(569, 1) (143, 1)\n",
      "(279, 2) (70, 2)\n"
     ]
    }
   ],
   "source": [
    "print(india_uni_train_np.shape, india_uni_test_np.shape)\n",
    "print(india_multi_train_np.shape, india_multi_test_np.shape)"
   ]
  },
  {
   "cell_type": "markdown",
   "id": "08417e8c",
   "metadata": {},
   "source": [
    "### Reshape\n",
    "Converts the exiting train data set to match the input parameters of an LSTM (Samples, Time Steps, Features). The `lstm_data_transform()` method takes in 3 arguments: X data, y data and number of features.\n",
    "\n",
    "We will be performing autoregression on the univariate data, therefore the X and y values are the same. As for the multivariate data, we will be using the confirmed column (index 0) as the y value."
   ]
  },
  {
   "cell_type": "code",
   "execution_count": 15,
   "id": "e12116cc",
   "metadata": {},
   "outputs": [],
   "source": [
    "# Univariate\n",
    "india_uni_train_X, india_uni_train_y = preprocessing.lstm_data_transform(india_uni_train_np, india_uni_train_np, 3)\n",
    "usa_uni_train_X, usa_uni_train_y = preprocessing.lstm_data_transform(usa_uni_train_np, usa_uni_train_np, 3)\n",
    "# Multivariate\n",
    "india_multi_train_X, india_multi_train_y = preprocessing.lstm_data_transform(india_multi_train_np, india_multi_train_np[:,0], 3)\n",
    "usa_multi_train_X, usa_multi_train_y = preprocessing.lstm_data_transform(usa_multi_train_np, usa_multi_train_np[:,0], 3)"
   ]
  },
  {
   "cell_type": "code",
   "execution_count": 17,
   "id": "b3bb95e4",
   "metadata": {},
   "outputs": [
    {
     "name": "stdout",
     "output_type": "stream",
     "text": [
      "Univariate India shape: (566, 3, 1) (566, 1)\n",
      "Multivariate India shape: (276, 3, 2) (276,)\n"
     ]
    }
   ],
   "source": [
    "print(\"Univariate India shape:\",india_uni_train_X.shape, india_uni_train_y.shape)\n",
    "print(\"Multivariate India shape:\",india_multi_train_X.shape, india_multi_train_y.shape)"
   ]
  },
  {
   "cell_type": "markdown",
   "id": "80dd5436",
   "metadata": {},
   "source": [
    "The univariate array shape for the India dataset has 566 samples, 3 as the time step, and 1 feature for the X values. The y values is just the 566 samples.\n",
    "\n",
    "Similarly, the multivariate array shape for the India dataset has 276 samples, 3 as the time step, and 2 features for the X values. The y values is just the 276 samples of the 0th column (Confirmed cases)."
   ]
  },
  {
   "cell_type": "markdown",
   "id": "a762c122",
   "metadata": {},
   "source": [
    "<a name=model></a>\n",
    "## Model\n",
    "We will define 4 models in total. One for the univariate data and another for the multivariate for each country."
   ]
  },
  {
   "cell_type": "code",
   "execution_count": 19,
   "id": "f54c1702",
   "metadata": {},
   "outputs": [],
   "source": [
    "import LSTMmodels"
   ]
  },
  {
   "cell_type": "code",
   "execution_count": 21,
   "id": "7902a9b1",
   "metadata": {},
   "outputs": [
    {
     "name": "stdout",
     "output_type": "stream",
     "text": [
      "WARNING:tensorflow:Layer lstm will not use cuDNN kernels since it doesn't meet the criteria. It will use a generic GPU kernel as fallback when running on GPU.\n",
      "Model: \"sequential\"\n",
      "_________________________________________________________________\n",
      "Layer (type)                 Output Shape              Param #   \n",
      "=================================================================\n",
      "lstm (LSTM)                  (None, 100)               41600     \n",
      "_________________________________________________________________\n",
      "dense (Dense)                (None, 10)                1010      \n",
      "=================================================================\n",
      "Total params: 42,610\n",
      "Trainable params: 42,610\n",
      "Non-trainable params: 0\n",
      "_________________________________________________________________\n",
      "WARNING:tensorflow:Layer lstm_1 will not use cuDNN kernels since it doesn't meet the criteria. It will use a generic GPU kernel as fallback when running on GPU.\n",
      "Model: \"sequential_1\"\n",
      "_________________________________________________________________\n",
      "Layer (type)                 Output Shape              Param #   \n",
      "=================================================================\n",
      "lstm_1 (LSTM)                (None, 100)               41600     \n",
      "_________________________________________________________________\n",
      "dense_1 (Dense)              (None, 10)                1010      \n",
      "=================================================================\n",
      "Total params: 42,610\n",
      "Trainable params: 42,610\n",
      "Non-trainable params: 0\n",
      "_________________________________________________________________\n"
     ]
    }
   ],
   "source": [
    "univariate_model_ind = LSTMmodels.build_lstm(time_steps=india_uni_train_X.shape[0], features=india_uni_train_X.shape[1])\n",
    "univariate_model_usa = LSTMmodels.build_lstm(time_steps=usa_uni_train_X.shape[0], features=usa_uni_train_X.shape[1])"
   ]
  },
  {
   "cell_type": "code",
   "execution_count": 22,
   "id": "4060b57f",
   "metadata": {},
   "outputs": [
    {
     "name": "stdout",
     "output_type": "stream",
     "text": [
      "WARNING:tensorflow:Layer lstm_2 will not use cuDNN kernels since it doesn't meet the criteria. It will use a generic GPU kernel as fallback when running on GPU.\n",
      "Model: \"sequential_2\"\n",
      "_________________________________________________________________\n",
      "Layer (type)                 Output Shape              Param #   \n",
      "=================================================================\n",
      "lstm_2 (LSTM)                (None, 100)               41600     \n",
      "_________________________________________________________________\n",
      "dense_2 (Dense)              (None, 10)                1010      \n",
      "=================================================================\n",
      "Total params: 42,610\n",
      "Trainable params: 42,610\n",
      "Non-trainable params: 0\n",
      "_________________________________________________________________\n",
      "WARNING:tensorflow:Layer lstm_3 will not use cuDNN kernels since it doesn't meet the criteria. It will use a generic GPU kernel as fallback when running on GPU.\n",
      "Model: \"sequential_3\"\n",
      "_________________________________________________________________\n",
      "Layer (type)                 Output Shape              Param #   \n",
      "=================================================================\n",
      "lstm_3 (LSTM)                (None, 100)               41600     \n",
      "_________________________________________________________________\n",
      "dense_3 (Dense)              (None, 10)                1010      \n",
      "=================================================================\n",
      "Total params: 42,610\n",
      "Trainable params: 42,610\n",
      "Non-trainable params: 0\n",
      "_________________________________________________________________\n"
     ]
    }
   ],
   "source": [
    "multivariate_model_ind = LSTMmodels.build_lstm(time_steps=india_multi_train_X.shape[0], features=india_multi_train_X.shape[1])\n",
    "multivariate_model_usa = LSTMmodels.build_lstm(time_steps=usa_multi_train_X.shape[0], features=usa_multi_train_X.shape[1])"
   ]
  },
  {
   "cell_type": "markdown",
   "id": "a8fc33e6",
   "metadata": {},
   "source": [
    "#### Grid Search"
   ]
  },
  {
   "cell_type": "code",
   "execution_count": null,
   "id": "641a5242",
   "metadata": {},
   "outputs": [],
   "source": [
    "# Using KerasClassifier wrapper \n",
    "keras_estimator = KerasRegressor(build_fn=build_univariate_non_stacked, verbose=1)"
   ]
  },
  {
   "cell_type": "code",
   "execution_count": null,
   "id": "7ca7ac96",
   "metadata": {},
   "outputs": [],
   "source": [
    "# Defining parameters for the gridserach\n",
    "param_grid = {\n",
    "#     'epochs': [10,100,300,],\n",
    "    'lstm_nparams':[15,50],\n",
    "#     'n_steps': [3, 6, 15],\n",
    "#     'optimizer': ['RMSprop','Adam','Adamax','sgd']\n",
    "}\n",
    "\n",
    "kfold_splits = 5"
   ]
  },
  {
   "cell_type": "code",
   "execution_count": null,
   "id": "5cd971de",
   "metadata": {},
   "outputs": [],
   "source": [
    "# Defining GridSearch\n",
    "grid = GridSearchCV(estimator=keras_estimator,\n",
    "                    verbose=-1,\n",
    "                    return_train_score=True,\n",
    "                    cv=kfold_splits,\n",
    "                    param_grid=param_grid,\n",
    "#                     scoring=\"neg_mean_absolute_error\",\n",
    ")"
   ]
  },
  {
   "cell_type": "code",
   "execution_count": null,
   "id": "559eaa1b",
   "metadata": {
    "scrolled": true
   },
   "outputs": [],
   "source": [
    "# Fitting GridSearch\n",
    "grid_result = grid.fit(india_cases_train_X, india_cases_train_y, )\n",
    "\n",
    "# summarize results\n",
    "print(\"Best: %f using %s\" % (grid_result.best_score_, grid_result.best_params_))\n",
    "means = grid_result.cv_results_['mean_test_score']\n",
    "stds = grid_result.cv_results_['std_test_score']\n",
    "params = grid_result.cv_results_['params']\n",
    "for mean, stdev, param in zip(means, stds, params):\n",
    "    print(\"%f (%f) with: %r\" % (mean, stdev, param))"
   ]
  },
  {
   "cell_type": "code",
   "execution_count": null,
   "id": "45b6f3d7",
   "metadata": {},
   "outputs": [],
   "source": [
    "# Writing the gridsearch results to file\n",
    "file1 = open(\"univariate_non_stacked_india.txt\", \"w\")\n",
    "file1.write(\"mean,stdev,pram\")\n",
    "means = grid_result.cv_results_['mean_test_score']\n",
    "stds = grid_result.cv_results_['std_test_score']\n",
    "params = grid_result.cv_results_['params']\n",
    "for mean, stdev, param in zip(means, stds, params):\n",
    "    file1.write(\"%f,%f,%r\" % (mean, stdev, param))\n",
    "    file1.write(\"\\n\")\n",
    "file1.close()"
   ]
  },
  {
   "cell_type": "code",
   "execution_count": null,
   "id": "47e25ecc",
   "metadata": {
    "scrolled": true
   },
   "outputs": [],
   "source": [
    "sorted(grid_result.cv_results_.keys())"
   ]
  },
  {
   "cell_type": "code",
   "execution_count": null,
   "id": "6721d560",
   "metadata": {},
   "outputs": [],
   "source": [
    "grid_result.cv_results_['split2_train_score']"
   ]
  },
  {
   "cell_type": "markdown",
   "id": "da4324a8",
   "metadata": {},
   "source": [
    "#### Grid Search"
   ]
  },
  {
   "cell_type": "code",
   "execution_count": null,
   "id": "8735fa8e",
   "metadata": {},
   "outputs": [],
   "source": [
    "# Using KerasClassifier wrapper \n",
    "keras_estimator = KerasRegressor(build_fn=build_univariate_stacked, verbose=1)"
   ]
  },
  {
   "cell_type": "code",
   "execution_count": null,
   "id": "07ccdd07",
   "metadata": {},
   "outputs": [],
   "source": [
    "# Defining parameters for the gridserach\n",
    "param_grid = {\n",
    "    'epochs': [10,100,300,],\n",
    "    'lstm_nparams_l1':[15,50,100,150],\n",
    "    'lstm_nparams_l2':[15,50,100,150],\n",
    "    'n_steps': [3, 6, 15],\n",
    "#     'optimizer': ['RMSprop','Adam','Adamax','sgd']\n",
    "}\n",
    "\n",
    "kfold_splits = 5"
   ]
  },
  {
   "cell_type": "code",
   "execution_count": null,
   "id": "82aafcda",
   "metadata": {},
   "outputs": [],
   "source": [
    "# Defining GridSearch\n",
    "grid = GridSearchCV(estimator=keras_estimator,\n",
    "                    verbose=-1,\n",
    "                    return_train_score=True,\n",
    "                    cv=kfold_splits,\n",
    "                    param_grid=param_grid,\n",
    "                    scoring=\"neg_mean_absolute_error\",\n",
    ")"
   ]
  },
  {
   "cell_type": "code",
   "execution_count": null,
   "id": "e7a7e8b9",
   "metadata": {
    "scrolled": true
   },
   "outputs": [],
   "source": [
    "# Fitting GridSearch\n",
    "grid_result = grid.fit(india_cases_train_X, india_cases_train_y, )\n",
    "\n",
    "# summarize results\n",
    "print(\"Best: %f using %s\" % (grid_result.best_score_, grid_result.best_params_))\n",
    "means = grid_result.cv_results_['mean_test_score']\n",
    "stds = grid_result.cv_results_['std_test_score']\n",
    "params = grid_result.cv_results_['params']\n",
    "for mean, stdev, param in zip(means, stds, params):\n",
    "    print(\"%f (%f) with: %r\" % (mean, stdev, param))"
   ]
  },
  {
   "cell_type": "code",
   "execution_count": null,
   "id": "9457d5b0",
   "metadata": {},
   "outputs": [],
   "source": [
    "# Writing the gridsearch results to file\n",
    "file1 = open(\"univariate_stacked_india.txt\", \"w\")\n",
    "file1.write(\"Best: %f using %s\" % (grid_result.best_score_, grid_result.best_params_))\n",
    "file1.write(\"\\n\")\n",
    "means = grid_result.cv_results_['mean_test_score']\n",
    "stds = grid_result.cv_results_['std_test_score']\n",
    "params = grid_result.cv_results_['params']\n",
    "for mean, stdev, param in zip(means, stds, params):\n",
    "    file1.write(\"%f (%f) with: %r\" % (mean, stdev, param))\n",
    "    file1.write(\"\\n\")\n",
    "file1.close()"
   ]
  },
  {
   "cell_type": "markdown",
   "id": "16645e09",
   "metadata": {},
   "source": [
    "<a name=train></a>\n",
    "## Train "
   ]
  },
  {
   "cell_type": "code",
   "execution_count": null,
   "id": "e3f51362",
   "metadata": {},
   "outputs": [],
   "source": [
    "# Tensorboard callback\n",
    "logdir = os.path.join(parentDir+\"/logs\", datetime.datetime.now().strftime(\"%Y%m%d-%H%M%S\"))\n",
    "tensorboard_callback = tf.keras.callbacks.TensorBoard(logdir, histogram_freq=1)"
   ]
  },
  {
   "cell_type": "code",
   "execution_count": null,
   "id": "e0d28e87",
   "metadata": {},
   "outputs": [],
   "source": [
    "def train_models(model,train_X,train_y,test_X,test_y):\n",
    "    model.fit(train_X,train_y,\n",
    "              validation_data=(test_X,test_y),\n",
    "              epochs=300,\n",
    "              callbacks=[tensorboard_callback])\n",
    "    return model\n",
    "#     model.save(save_name)"
   ]
  },
  {
   "cell_type": "markdown",
   "id": "ef5ef20a",
   "metadata": {},
   "source": [
    "### Univariate non-stacked -- Rolling"
   ]
  },
  {
   "cell_type": "code",
   "execution_count": null,
   "id": "5b18a205",
   "metadata": {
    "scrolled": true
   },
   "outputs": [],
   "source": [
    "# Fit the model\n",
    "model_uni_non_stacked_india = build_univariate_non_stacked()\n",
    "model_uni_non_stacked_india.fit(india_cases_train_X,\n",
    "          india_cases_train_y, \n",
    "          validation_data=(india_cases_test_X, india_cases_test_y),\n",
    "          epochs=300,\n",
    "          callbacks=[tensorboard_callback])\n",
    "\n",
    "model_uni_non_stacked_india.save('univar_non_stack_rolling_india.h5')"
   ]
  },
  {
   "cell_type": "code",
   "execution_count": null,
   "id": "2c709214",
   "metadata": {
    "scrolled": true
   },
   "outputs": [],
   "source": [
    "# Fit the model\n",
    "model_uni_non_stacked_usa = build_univariate_non_stacked()\n",
    "model_uni_non_stacked_usa.fit(usa_cases_train_X,\n",
    "          usa_cases_train_y, \n",
    "          validation_data=(usa_cases_test_X, usa_cases_test_y),\n",
    "          epochs=300,\n",
    "          callbacks=[tensorboard_callback])\n",
    "\n",
    "model_uni_non_stacked_usa.save('univar_non_stack_rolling_usa.h5')"
   ]
  },
  {
   "cell_type": "markdown",
   "id": "68f7b0ec",
   "metadata": {},
   "source": [
    "### Univariate non-stacked -- Long-Term"
   ]
  },
  {
   "cell_type": "code",
   "execution_count": null,
   "id": "e6664228",
   "metadata": {
    "scrolled": true
   },
   "outputs": [],
   "source": [
    "# Fit the model\n",
    "model_uni_non_stacked_long_india = build_univariate_non_stacked_long()\n",
    "model_uni_non_stacked_long_india.fit(india_cases_train_X,\n",
    "          india_cases_train_y, \n",
    "          validation_data=(india_cases_test_X, india_cases_test_y),\n",
    "          epochs=300,\n",
    "          callbacks=[tensorboard_callback])\n",
    "\n",
    "model_uni_non_stacked_long_india.save('univar_non_stacked_long_term_india.h5')"
   ]
  },
  {
   "cell_type": "code",
   "execution_count": null,
   "id": "872952f9",
   "metadata": {
    "scrolled": true
   },
   "outputs": [],
   "source": [
    "# Fit the model\n",
    "model_uni_non_stacked_usa = build_univariate_non_stacked()\n",
    "model_uni_non_stacked_usa.fit(usa_cases_train_X,\n",
    "          usa_cases_train_y, \n",
    "          validation_data=(usa_cases_test_X, usa_cases_test_y),\n",
    "          epochs=300,\n",
    "          callbacks=[tensorboard_callback])\n",
    "\n",
    "model_uni_non_stacked_usa.save('univar_non_stack_rolling_usa.h5')"
   ]
  },
  {
   "cell_type": "markdown",
   "id": "8b89f52c",
   "metadata": {},
   "source": [
    "### Univariate stacked -- Rolling"
   ]
  },
  {
   "cell_type": "code",
   "execution_count": null,
   "id": "5aa3385d",
   "metadata": {
    "scrolled": true
   },
   "outputs": [],
   "source": [
    "# Fit the model\n",
    "model_uni_stacked_india = build_univariate_stacked()\n",
    "model_uni_stacked_india.fit(india_cases_train_X,\n",
    "          india_cases_train_y, \n",
    "          validation_data=(india_cases_test_X, india_cases_test_y),\n",
    "          epochs=300,\n",
    "          callbacks=[tensorboard_callback])\n",
    "\n",
    "model_uni_stacked_india.save('univar_stacked_rolling_india.h5')"
   ]
  },
  {
   "cell_type": "code",
   "execution_count": null,
   "id": "0b1ab8d9",
   "metadata": {
    "scrolled": true
   },
   "outputs": [],
   "source": [
    "# Fit the model\n",
    "model_uni_stacked_usa = build_univariate_stacked()\n",
    "model_uni_stacked_usa.fit(usa_cases_train_X,\n",
    "          usa_cases_train_y, \n",
    "          validation_data=(usa_cases_test_X, usa_cases_test_y),\n",
    "          epochs=300,\n",
    "          callbacks=[tensorboard_callback])\n",
    "\n",
    "model_uni_stacked_usa.save('univar_stacked_rolling_usa.h5')"
   ]
  },
  {
   "cell_type": "markdown",
   "id": "aaac6dfd",
   "metadata": {},
   "source": [
    "### Univariate stacked -- Long-Term"
   ]
  },
  {
   "cell_type": "code",
   "execution_count": null,
   "id": "063d484f",
   "metadata": {
    "scrolled": true
   },
   "outputs": [],
   "source": [
    "# Fit the model\n",
    "model_uni_stacked_long_india = build_univariate_stacked_long()\n",
    "model_uni_stacked_long_india.fit(india_cases_train_X,\n",
    "          india_cases_train_y, \n",
    "          validation_data=(india_cases_test_X, india_cases_test_y),\n",
    "          epochs=300,\n",
    "          callbacks=[tensorboard_callback])\n",
    "\n",
    "model_uni_stacked_long_india.save('univar_stacked_long_term.h5')"
   ]
  },
  {
   "cell_type": "code",
   "execution_count": null,
   "id": "3791b354",
   "metadata": {},
   "outputs": [],
   "source": [
    "# Fit the model\n",
    "model_uni_stacked_long_usa = build_univariate_stacked()\n",
    "model_uni_stacked_long_usa.fit(usa_cases_train_X,\n",
    "          usa_cases_train_y, \n",
    "          validation_data=(usa_cases_test_X, usa_cases_test_y),\n",
    "          epochs=300,\n",
    "          callbacks=[tensorboard_callback])\n",
    "\n",
    "model_uni_stacked_long_usa.save('univar_stacked_long_term_usa.h5')"
   ]
  },
  {
   "cell_type": "markdown",
   "id": "70cf08b0",
   "metadata": {},
   "source": [
    "<a name=predict></a>\n",
    "## Predict"
   ]
  },
  {
   "cell_type": "code",
   "execution_count": null,
   "id": "22220d18",
   "metadata": {},
   "outputs": [],
   "source": [
    "india_cases_test_X.shape"
   ]
  },
  {
   "cell_type": "code",
   "execution_count": null,
   "id": "52f0a9d1",
   "metadata": {
    "scrolled": true
   },
   "outputs": [],
   "source": [
    "india_cases_test.shape"
   ]
  },
  {
   "cell_type": "code",
   "execution_count": null,
   "id": "f188788c",
   "metadata": {},
   "outputs": [],
   "source": [
    "models_india = [model_uni_non_stacked_india,model_uni_non_stacked_long_india,model_uni_stacked_india ,model_uni_stacked_long_india]\n",
    "models_india\n",
    "models_usa = [model_uni_non_stacked_usa,model_uni_non_stacked_long_usa,model_uni_stacked_usa ,model_uni_stacked_long_usa]"
   ]
  },
  {
   "cell_type": "code",
   "execution_count": null,
   "id": "0d412a0f",
   "metadata": {},
   "outputs": [],
   "source": [
    "def make_predictions(test_X, model):\n",
    "    x_input = np.array(test_X)\n",
    "    y_hat = model.predict(x_input)\n",
    "    return()"
   ]
  },
  {
   "cell_type": "markdown",
   "id": "b0eb4666",
   "metadata": {},
   "source": [
    "### Univariate Non Stacked -- Rolling"
   ]
  },
  {
   "cell_type": "code",
   "execution_count": null,
   "id": "bdbf5c15",
   "metadata": {
    "scrolled": true
   },
   "outputs": [],
   "source": [
    "# Predictions for india cases on test dataset\n",
    "x_input_uni_non_stacked_india = np.array(india_cases_test_X)\n",
    "print(x_input_uni_non_stacked_india.shape)\n",
    "yhat_uni_non_stacked_india = model_uni_non_stacked_india.predict(x_input_uni_non_stacked_india)\n",
    "print(yhat_uni_non_stacked_india.shape)"
   ]
  },
  {
   "cell_type": "code",
   "execution_count": null,
   "id": "968eb6d2",
   "metadata": {},
   "outputs": [],
   "source": [
    "# Predictions for usa cases on test dataset\n",
    "x_input_uni_non_stacked_usa = np.array(usa_cases_test_X)\n",
    "print(x_input_uni_non_stacked_usa.shape)\n",
    "yhat_uni_non_stacked_usa = model_uni_non_stacked_usa.predict(x_input_uni_non_stacked_usa)\n",
    "print(yhat_uni_non_stacked_usa.shape)"
   ]
  },
  {
   "cell_type": "markdown",
   "id": "3d02bef8",
   "metadata": {},
   "source": [
    "### Univariate Non Stacked -- Long-Term"
   ]
  },
  {
   "cell_type": "code",
   "execution_count": null,
   "id": "7cd9283c",
   "metadata": {},
   "outputs": [],
   "source": [
    "# Predictions for india cases on test dataset\n",
    "x_input_uni_non_stacked_long_india = np.array(india_cases_test_X)\n",
    "print(x_input_uni_non_stacked_long_india.shape)\n",
    "yhat_uni_non_stacked_long_india = model_uni_non_stacked_long_india.predict(x_input_uni_non_stacked_long_india)\n",
    "print(yhat_uni_non_stacked_long_india.shape)"
   ]
  },
  {
   "cell_type": "code",
   "execution_count": null,
   "id": "39b55a27",
   "metadata": {},
   "outputs": [],
   "source": [
    "# Predictions for usa cases on test dataset\n",
    "x_input_uni_non_stacked_long_usa = np.array(usa_cases_test_X)\n",
    "print(x_input_uni_non_stacked_long_usa.shape)\n",
    "yhat_uni_non_stacked_long_usa = model_uni_non_stacked_long_usa.predict(x_input_uni_non_stacked_long_usa)\n",
    "print(yhat_uni_non_stacked_long_usa.shape)"
   ]
  },
  {
   "cell_type": "markdown",
   "id": "37c2cfeb",
   "metadata": {},
   "source": [
    "### Univariate Stacked -- Rolling"
   ]
  },
  {
   "cell_type": "code",
   "execution_count": null,
   "id": "f65945b6",
   "metadata": {},
   "outputs": [],
   "source": [
    "# Predictions for india cases on test dataset\n",
    "x_input_uni_stacked_india = np.array(india_cases_test_X)\n",
    "print(x_input_uni_stacked_india.shape)\n",
    "yhat_uni_stacked_india = model_uni_stacked_india.predict(x_input_uni_stacked_india)\n",
    "print(yhat_uni_stacked_india.shape)"
   ]
  },
  {
   "cell_type": "code",
   "execution_count": null,
   "id": "9e183614",
   "metadata": {},
   "outputs": [],
   "source": [
    "# Predictions for usa cases on test dataset\n",
    "x_input_uni_stacked_usa = np.array(usa_cases_test_X)\n",
    "print(x_input_uni_stacked_usa.shape)\n",
    "yhat_uni_stacked_usa = model_uni_stacked_usa.predict(x_input_uni_stacked_usa)\n",
    "print(yhat_uni_stacked_usa.shape)"
   ]
  },
  {
   "cell_type": "markdown",
   "id": "374f7fc5",
   "metadata": {},
   "source": [
    "### Univariate Stacked -- Long-Term"
   ]
  },
  {
   "cell_type": "code",
   "execution_count": null,
   "id": "5a4c2292",
   "metadata": {},
   "outputs": [],
   "source": [
    "# Predictions for india cases on test dataset\n",
    "x_input_uni_stacked_long_india = np.array(india_cases_test_X)\n",
    "print(x_input_uni_stacked_long_india.shape)\n",
    "yhat_uni_stacked_long_india = model_uni_stacked_long_india.predict(x_input_uni_stacked_long_india)\n",
    "print(yhat_uni_stacked_long_india.shape)"
   ]
  },
  {
   "cell_type": "code",
   "execution_count": null,
   "id": "5ee448fd",
   "metadata": {},
   "outputs": [],
   "source": [
    "# Predictions for usa cases on test dataset\n",
    "x_input_uni_stacked_long_usa = np.array(usa_cases_test_X)\n",
    "print(x_input_uni_stacked_long_usa.shape)\n",
    "yhat_uni_stacked_long_usa = model_uni_stacked_long_usa.predict(x_input_uni_stacked_long_usa)\n",
    "print(yhat_uni_stacked_long_usa.shape)"
   ]
  },
  {
   "cell_type": "markdown",
   "id": "e0545385",
   "metadata": {},
   "source": [
    "## Evaluate"
   ]
  },
  {
   "cell_type": "markdown",
   "id": "d33bc7d5",
   "metadata": {},
   "source": [
    "### Univariate Non Stacked -- Rolling"
   ]
  },
  {
   "cell_type": "markdown",
   "id": "db2aecf0",
   "metadata": {},
   "source": [
    "#### India"
   ]
  },
  {
   "cell_type": "code",
   "execution_count": null,
   "id": "78a9db5c",
   "metadata": {
    "scrolled": false
   },
   "outputs": [],
   "source": [
    "mape = MeanAbsolutePercentageError()\n",
    "mape(india_cases_test_y, yhat_uni_non_stacked_india).numpy()"
   ]
  },
  {
   "cell_type": "code",
   "execution_count": null,
   "id": "cebce6d8",
   "metadata": {},
   "outputs": [],
   "source": [
    "mae = MeanAbsoluteError()\n",
    "mae(india_cases_test_y, yhat_uni_non_stacked_india).numpy()"
   ]
  },
  {
   "cell_type": "markdown",
   "id": "e3156fa8",
   "metadata": {},
   "source": [
    "#### USA"
   ]
  },
  {
   "cell_type": "code",
   "execution_count": null,
   "id": "1180a458",
   "metadata": {
    "scrolled": false
   },
   "outputs": [],
   "source": [
    "mape = MeanAbsolutePercentageError()\n",
    "mape(usa_cases_test_y, yhat_uni_non_stacked_usa).numpy()"
   ]
  },
  {
   "cell_type": "code",
   "execution_count": null,
   "id": "b05e8a80",
   "metadata": {},
   "outputs": [],
   "source": [
    "mae = MeanAbsoluteError()\n",
    "mae(usa_cases_test_y, yhat_uni_non_stacked_usa).numpy()"
   ]
  },
  {
   "cell_type": "markdown",
   "id": "0b98f46b",
   "metadata": {},
   "source": [
    "### Univariate Non Stacked -- Long-Term"
   ]
  },
  {
   "cell_type": "markdown",
   "id": "ccddbfa9",
   "metadata": {},
   "source": [
    "#### India "
   ]
  },
  {
   "cell_type": "code",
   "execution_count": null,
   "id": "725a15ed",
   "metadata": {
    "scrolled": true
   },
   "outputs": [],
   "source": [
    "mape = MeanAbsolutePercentageError()\n",
    "mape(india_cases_test_y, yhat_uni_non_stacked_long_india).numpy()"
   ]
  },
  {
   "cell_type": "code",
   "execution_count": null,
   "id": "4fab6bc5",
   "metadata": {},
   "outputs": [],
   "source": [
    "mae = MeanAbsoluteError()\n",
    "mae(india_cases_test_y, yhat_uni_non_stacked_long_india).numpy()"
   ]
  },
  {
   "cell_type": "markdown",
   "id": "7401983a",
   "metadata": {},
   "source": [
    "#### USA "
   ]
  },
  {
   "cell_type": "code",
   "execution_count": null,
   "id": "6c5d800d",
   "metadata": {
    "scrolled": true
   },
   "outputs": [],
   "source": [
    "mape = MeanAbsolutePercentageError()\n",
    "mape(usa_cases_test_y, yhat_uni_non_stacked_long_usa).numpy()"
   ]
  },
  {
   "cell_type": "code",
   "execution_count": null,
   "id": "b22be3dc",
   "metadata": {},
   "outputs": [],
   "source": [
    "mae = MeanAbsoluteError()\n",
    "mae(usa_cases_test_y, yhat_uni_non_stacked_long_usa).numpy()"
   ]
  },
  {
   "cell_type": "markdown",
   "id": "65ad0336",
   "metadata": {},
   "source": [
    "### Univariate Stacked -- Rolling"
   ]
  },
  {
   "cell_type": "markdown",
   "id": "18297388",
   "metadata": {},
   "source": [
    "#### India "
   ]
  },
  {
   "cell_type": "code",
   "execution_count": null,
   "id": "65f5312e",
   "metadata": {
    "scrolled": false
   },
   "outputs": [],
   "source": [
    "mape = MeanAbsolutePercentageError()\n",
    "mape(india_cases_test_y, yhat_uni_stacked_india).numpy()"
   ]
  },
  {
   "cell_type": "code",
   "execution_count": null,
   "id": "753f4acc",
   "metadata": {},
   "outputs": [],
   "source": [
    "mae = MeanAbsoluteError()\n",
    "mae(india_cases_test_y, yhat_uni_stacked_india).numpy()"
   ]
  },
  {
   "cell_type": "markdown",
   "id": "cdd6dc61",
   "metadata": {},
   "source": [
    "#### USA "
   ]
  },
  {
   "cell_type": "code",
   "execution_count": null,
   "id": "4a1aa967",
   "metadata": {
    "scrolled": false
   },
   "outputs": [],
   "source": [
    "mape = MeanAbsolutePercentageError()\n",
    "mape(usa_cases_test_y, yhat_uni_stacked_usa).numpy()"
   ]
  },
  {
   "cell_type": "code",
   "execution_count": null,
   "id": "e4a371d1",
   "metadata": {},
   "outputs": [],
   "source": [
    "mae = MeanAbsoluteError()\n",
    "mae(usa_cases_test_y, yhat_uni_stacked_usa).numpy()"
   ]
  },
  {
   "cell_type": "markdown",
   "id": "5c633b40",
   "metadata": {},
   "source": [
    "### Univariate Stacked -- Long-Term"
   ]
  },
  {
   "cell_type": "markdown",
   "id": "77ef8065",
   "metadata": {},
   "source": [
    "#### India "
   ]
  },
  {
   "cell_type": "code",
   "execution_count": null,
   "id": "b104deb5",
   "metadata": {
    "scrolled": false
   },
   "outputs": [],
   "source": [
    "mape = MeanAbsolutePercentageError()\n",
    "mape(india_cases_test_y, yhat_uni_stacked_long_india).numpy()"
   ]
  },
  {
   "cell_type": "code",
   "execution_count": null,
   "id": "d6b50390",
   "metadata": {},
   "outputs": [],
   "source": [
    "mae = MeanAbsoluteError()\n",
    "mae(india_cases_test_y, yhat_uni_stacked_long_india).numpy()"
   ]
  },
  {
   "cell_type": "markdown",
   "id": "f71ad83c",
   "metadata": {},
   "source": [
    "#### USA"
   ]
  },
  {
   "cell_type": "code",
   "execution_count": null,
   "id": "f6d3dc87",
   "metadata": {
    "scrolled": false
   },
   "outputs": [],
   "source": [
    "mape = MeanAbsolutePercentageError()\n",
    "mape(usa_cases_test_y, yhat_uni_stacked_long_usa).numpy()"
   ]
  },
  {
   "cell_type": "code",
   "execution_count": null,
   "id": "1d47b1df",
   "metadata": {},
   "outputs": [],
   "source": [
    "mae = MeanAbsoluteError()\n",
    "mae(usa_cases_test_y, yhat_uni_stacked_long_usa).numpy()"
   ]
  },
  {
   "cell_type": "markdown",
   "id": "0825df30",
   "metadata": {},
   "source": [
    "## Plots"
   ]
  },
  {
   "cell_type": "code",
   "execution_count": null,
   "id": "bc64f443",
   "metadata": {},
   "outputs": [],
   "source": [
    "# Reversing Z-score normalization\n",
    "\n",
    "casted_mean = india_cases_mean.to_numpy()\n",
    "casted_std = india_cases_std.to_numpy()\n",
    "\n",
    "india_cases_test_scaled = (india_cases_std[0]*india_cases_test)+india_cases_mean[0]\n",
    "yhat_uni_non_stacked_india_scaled = (india_cases_std[0]*yhat_uni_non_stacked_india)+india_cases_mean[0]\n",
    "yhat_uni_non_stacked_long_india_scaled = (india_cases_std[0]*yhat_uni_non_stacked_long_india)+india_cases_mean[0]\n",
    "yhat_uni_stacked_india_scaled = (india_cases_std[0]*yhat_uni_stacked_india)+india_cases_mean[0]\n",
    "yhat_uni_stacked_long_india_scaled = (india_cases_std[0]*yhat_uni_stacked_long_india)+india_cases_mean[0]\n",
    "\n",
    "usa_cases_test_scaled = (usa_cases_std[0]*usa_cases_test)+usa_cases_mean[0]\n",
    "yhat_uni_non_stacked_usa_scaled = (usa_cases_std[0]*yhat_uni_non_stacked_usa)+usa_cases_mean[0]\n",
    "yhat_uni_non_stacked_long_usa_scaled = (usa_cases_std[0]*yhat_uni_non_stacked_long_usa)+usa_cases_mean[0]\n",
    "yhat_uni_stacked_usa_scaled = (usa_cases_std[0]*yhat_uni_stacked_usa)+usa_cases_mean[0]\n",
    "yhat_uni_stacked_long_usa_scaled = (usa_cases_std[0]*yhat_uni_stacked_long_usa)+usa_cases_mean[0]\n",
    "\n",
    "print(yhat_uni_non_stacked_india_scaled.size)\n",
    "print(india_cases_test_scaled.size)"
   ]
  },
  {
   "cell_type": "code",
   "execution_count": null,
   "id": "57ae832d",
   "metadata": {},
   "outputs": [],
   "source": [
    "def plot_fore_test(test, fore, title):\n",
    "    \n",
    "    fig, ax = plt.subplots()\n",
    "    fig.set_size_inches(12, 8)\n",
    "\n",
    "    ax.plot(test, color='blue', label='Test')\n",
    "    ax.plot(fore, color='red', label='Forecast')\n",
    "    ax.legend(loc='best')\n",
    "    plt.title(title)\n",
    "    plt.show()"
   ]
  },
  {
   "cell_type": "markdown",
   "id": "0e24b209",
   "metadata": {},
   "source": [
    "### Univariate Non Stacked -- Rolling"
   ]
  },
  {
   "cell_type": "code",
   "execution_count": null,
   "id": "8a6ed686",
   "metadata": {
    "scrolled": true
   },
   "outputs": [],
   "source": [
    "plot_fore_test(india_cases_test_scaled, yhat_uni_non_stacked_india_scaled, title='Daily cases')"
   ]
  },
  {
   "cell_type": "code",
   "execution_count": null,
   "id": "9825385f",
   "metadata": {
    "scrolled": false
   },
   "outputs": [],
   "source": [
    "plot_fore_test(usa_cases_test_scaled, yhat_uni_non_stacked_usa_scaled, title='Daily cases')"
   ]
  },
  {
   "cell_type": "markdown",
   "id": "d4459e30",
   "metadata": {},
   "source": [
    "### Univariate Non Stacked -- Long-Term"
   ]
  },
  {
   "cell_type": "code",
   "execution_count": null,
   "id": "b6fa557e",
   "metadata": {
    "scrolled": true
   },
   "outputs": [],
   "source": [
    "plot_fore_test(india_cases_test_scaled, yhat_uni_non_stacked_long_india_scaled, title='Daily cases')"
   ]
  },
  {
   "cell_type": "code",
   "execution_count": null,
   "id": "d75fa60c",
   "metadata": {
    "scrolled": true
   },
   "outputs": [],
   "source": [
    "plot_fore_test(usa_cases_test_scaled, yhat_uni_non_stacked_long_usa_scaled, title='Daily cases')"
   ]
  },
  {
   "cell_type": "markdown",
   "id": "0be1fbe7",
   "metadata": {},
   "source": [
    "### Univariate Stacked -- Rolling"
   ]
  },
  {
   "cell_type": "code",
   "execution_count": null,
   "id": "46fa9fe6",
   "metadata": {
    "scrolled": true
   },
   "outputs": [],
   "source": [
    "plot_fore_test(india_cases_test_scaled, yhat_uni_stacked_india_scaled, title='Daily cases')"
   ]
  },
  {
   "cell_type": "code",
   "execution_count": null,
   "id": "c4d11157",
   "metadata": {
    "scrolled": true
   },
   "outputs": [],
   "source": [
    "plot_fore_test(usa_cases_test_scaled, yhat_uni_stacked_usa_scaled, title='Daily cases')"
   ]
  },
  {
   "cell_type": "markdown",
   "id": "3add4e46",
   "metadata": {},
   "source": [
    "### Univariate Stacked -- Long-Term"
   ]
  },
  {
   "cell_type": "code",
   "execution_count": null,
   "id": "9f703c5c",
   "metadata": {
    "scrolled": true
   },
   "outputs": [],
   "source": [
    "plot_fore_test(india_cases_test_scaled, yhat_uni_stacked_long_india_scaled, title='Daily cases')"
   ]
  },
  {
   "cell_type": "code",
   "execution_count": null,
   "id": "d76580e0",
   "metadata": {
    "scrolled": true
   },
   "outputs": [],
   "source": [
    "plot_fore_test(usa_cases_test_scaled, yhat_uni_stacked_long_usa_scaled, title='Daily cases')"
   ]
  },
  {
   "cell_type": "markdown",
   "id": "c88208ec",
   "metadata": {},
   "source": [
    "#  Evaluation Metrics"
   ]
  },
  {
   "cell_type": "code",
   "execution_count": null,
   "id": "0032dc8c",
   "metadata": {},
   "outputs": [],
   "source": [
    "keras_mape = MeanAbsolutePercentageError()\n",
    "keras_mape(india_cases_test_scaled[3:], yhat_uni_non_stacked_india_scaled).numpy()"
   ]
  },
  {
   "cell_type": "code",
   "execution_count": null,
   "id": "5b6f19f0",
   "metadata": {},
   "outputs": [],
   "source": [
    "def MAPE(Y_actual,Y_Predicted, title):\n",
    "    mask = Y_actual != 0\n",
    "    \n",
    "    mape = np.mean(np.abs((Y_actual - Y_Predicted)/Y_actual)[mask])*100\n",
    "    print(f\"MAPE of {title} is {mape}%\")\n",
    "    \n",
    "mape_non_stacked_india = MAPE(india_cases_test_scaled[3:], yhat_uni_non_stacked_india_scaled, title=\"India Non-stacked\")\n",
    "mape_stacked_india = MAPE(india_cases_test_scaled[3:], yhat_uni_stacked_india_scaled, title=\"India Stacked\")\n",
    "# mape_vacc = MAPE(val['Confirmed'], roll_fc, title=\"Daily Cases\")"
   ]
  },
  {
   "cell_type": "code",
   "execution_count": null,
   "id": "66b1fc57",
   "metadata": {},
   "outputs": [],
   "source": [
    "mape_non_stacked_usa = MAPE(usa_cases_test_scaled[3:], yhat_uni_non_stacked_usa_scaled, title=\"USA Non-stacked\")\n",
    "mape_stacked_usa = MAPE(usa_cases_test_scaled[3:], yhat_uni_stacked_usa_scaled, title=\"USA Stacked\")"
   ]
  },
  {
   "cell_type": "code",
   "execution_count": null,
   "id": "e61e0bd0",
   "metadata": {},
   "outputs": [],
   "source": [
    "from sklearn.metrics import mean_absolute_error\n",
    "\n",
    "print('MAE of USA Non-stacked:', mean_absolute_error(usa_cases_test_scaled[3:], yhat_uni_non_stacked_usa_scaled))\n",
    "print('MAE of USA Stacked:', mean_absolute_error(usa_cases_test_scaled[3:], yhat_uni_stacked_usa_scaled))"
   ]
  },
  {
   "cell_type": "code",
   "execution_count": null,
   "id": "20c0eadd",
   "metadata": {},
   "outputs": [],
   "source": [
    "print('MAE of India Non-stacked:', mean_absolute_error(india_cases_test_scaled[3:], yhat_uni_non_stacked_india_scaled))\n",
    "print('MAE of Inida stacked:', mean_absolute_error(india_cases_test_scaled[3:], yhat_uni_stacked_india_scaled))"
   ]
  },
  {
   "cell_type": "code",
   "execution_count": null,
   "id": "1d9e1f6f",
   "metadata": {},
   "outputs": [],
   "source": []
  }
 ],
 "metadata": {
  "kernelspec": {
   "display_name": "Python 3",
   "language": "python",
   "name": "python3"
  },
  "language_info": {
   "codemirror_mode": {
    "name": "ipython",
    "version": 3
   },
   "file_extension": ".py",
   "mimetype": "text/x-python",
   "name": "python",
   "nbconvert_exporter": "python",
   "pygments_lexer": "ipython3",
   "version": "3.6.9"
  }
 },
 "nbformat": 4,
 "nbformat_minor": 5
}
