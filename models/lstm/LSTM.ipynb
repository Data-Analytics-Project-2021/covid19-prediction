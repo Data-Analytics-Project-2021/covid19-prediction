{
 "cells": [
  {
   "cell_type": "markdown",
   "id": "0f8c1478",
   "metadata": {},
   "source": [
    "# LSTM "
   ]
  },
  {
   "cell_type": "markdown",
   "id": "2cf7bb52",
   "metadata": {},
   "source": [
    "## Outline\n",
    "1. [Imports](#imports)\n",
    "2. [Data](#data)\n",
    "3. [Model](#model)\n",
    "5. [Train](#train)\n",
    "6. [Predict](#predict)"
   ]
  },
  {
   "cell_type": "markdown",
   "id": "e53bf128",
   "metadata": {},
   "source": [
    "<a name=imports></a>\n",
    "## Imports"
   ]
  },
  {
   "cell_type": "code",
   "execution_count": null,
   "id": "2adfac1f",
   "metadata": {},
   "outputs": [],
   "source": [
    "%load_ext autoreload\n",
    "%autoreload 2\n",
    "import os\n",
    "import datetime\n",
    "\n",
    "import matplotlib.pyplot as plt\n",
    "import seaborn as sns\n",
    "import numpy as np\n",
    "import pandas as pd\n",
    "import tensorflow as tf\n",
    "from sklearn.model_selection import train_test_split\n",
    "\n",
    "import preprocessing"
   ]
  },
  {
   "cell_type": "markdown",
   "id": "ef7eeeb2",
   "metadata": {},
   "source": [
    "<a name=data></a>\n",
    "## Data"
   ]
  },
  {
   "cell_type": "markdown",
   "id": "3dec6091",
   "metadata": {},
   "source": [
    "### Ingestion "
   ]
  },
  {
   "cell_type": "code",
   "execution_count": null,
   "id": "93038d23",
   "metadata": {
    "scrolled": true
   },
   "outputs": [],
   "source": [
    "# Check preprocessing.py for implementation\n",
    "(india_cases_df, india_vacc_df, usa_cases_df, usa_vacc_df) = preprocessing.ingestion()"
   ]
  },
  {
   "cell_type": "markdown",
   "id": "1602826b",
   "metadata": {},
   "source": [
    "### Pre-Processing"
   ]
  },
  {
   "cell_type": "markdown",
   "id": "7d144fbf",
   "metadata": {},
   "source": [
    "### Multivariate"
   ]
  },
  {
   "cell_type": "code",
   "execution_count": null,
   "id": "aed7181b",
   "metadata": {
    "scrolled": true
   },
   "outputs": [],
   "source": [
    "# Check preprocessing.py for implementation\n",
    "# Number of Null in India - 563\n",
    "# Number of Null in USA - 261\n",
    "(india_multi, usa_multi) = preprocessing.multivariate(india_cases_df, india_vacc_df, usa_cases_df, usa_vacc_df)"
   ]
  },
  {
   "cell_type": "markdown",
   "id": "006b0567",
   "metadata": {},
   "source": [
    "### Univariate "
   ]
  },
  {
   "cell_type": "code",
   "execution_count": null,
   "id": "1d462517",
   "metadata": {
    "scrolled": true
   },
   "outputs": [],
   "source": [
    "# Check preprocessing.py for implementation\n",
    "# Number of Null in India - 0\n",
    "# Number of Null in USA - 0\n",
    "(india_cases_uni, usa_cases_uni) = preprocessing.univariate(india_cases_df, usa_cases_df)"
   ]
  },
  {
   "cell_type": "markdown",
   "id": "80fd3d2d",
   "metadata": {},
   "source": [
    "### Drop Null"
   ]
  },
  {
   "cell_type": "code",
   "execution_count": null,
   "id": "900d9a2f",
   "metadata": {
    "scrolled": true
   },
   "outputs": [],
   "source": [
    "(india_multi, usa_multi) = preprocessing.dropNull(india_multi, usa_multi)"
   ]
  },
  {
   "cell_type": "markdown",
   "id": "95a94db2",
   "metadata": {},
   "source": [
    "### Normalize"
   ]
  },
  {
   "cell_type": "code",
   "execution_count": null,
   "id": "eb573fcf",
   "metadata": {
    "scrolled": true
   },
   "outputs": [],
   "source": [
    "# Check preprocessing.py for implementation\n",
    "(india_uni_norm, usa_uni_norm, india_multi_norm, usa_multi_norm,india_cases_mean,india_cases_std,usa_cases_mean,usa_cases_std,india_multi_mean,india_multi_std,\n",
    "usa_multi_std) = preprocessing.normalize(india_cases_uni, \n",
    "                                                                                           usa_cases_uni, \n",
    "                                                                                           india_multi, \n",
    "                                                                                           usa_multi)"
   ]
  },
  {
   "cell_type": "markdown",
   "id": "59ca1bb8",
   "metadata": {},
   "source": [
    "### Create Splits"
   ]
  },
  {
   "cell_type": "code",
   "execution_count": null,
   "id": "a462f2e0",
   "metadata": {
    "scrolled": true
   },
   "outputs": [],
   "source": [
    "# Create train test splits\n",
    "(india_uni_train, india_uni_test, usa_uni_train, usa_uni_test) = preprocessing.split(india_uni_norm, usa_uni_norm, 0.2)\n",
    "(india_multi_train, india_multi_test, \n",
    " usa_multi_train, usa_multi_test) = preprocessing.split(india_multi_norm, usa_multi_norm, 0.2)"
   ]
  },
  {
   "cell_type": "markdown",
   "id": "6b59486c",
   "metadata": {},
   "source": [
    "### Data Transformation\n",
    "Simple conversion from pandas dataframe to numpy array by extracting the values"
   ]
  },
  {
   "cell_type": "code",
   "execution_count": null,
   "id": "04919305",
   "metadata": {},
   "outputs": [],
   "source": [
    "# Univariate\n",
    "india_uni_train_np, india_uni_test_np = india_uni_train.values,  india_uni_test.values\n",
    "usa_uni_train_np, usa_uni_test_np = usa_uni_train.values, usa_uni_test.values\n",
    "# Multivariate\n",
    "india_multi_train_np, india_multi_test_np = india_multi_train.values,  india_multi_test.values\n",
    "usa_multi_train_np, usa_multi_test_np = usa_multi_train.values, usa_multi_test.values"
   ]
  },
  {
   "cell_type": "code",
   "execution_count": null,
   "id": "82382dfd",
   "metadata": {},
   "outputs": [],
   "source": [
    "print(india_uni_train_np.shape, india_uni_test_np.shape)\n",
    "print(india_multi_train_np.shape, india_multi_test_np.shape)"
   ]
  },
  {
   "cell_type": "markdown",
   "id": "08417e8c",
   "metadata": {},
   "source": [
    "### Reshape\n",
    "Converts the exiting train data set to match the input parameters of an LSTM (Samples, Time Steps, Features). The `lstm_data_transform()` method takes in 3 arguments: X data, y data and number of features.\n",
    "\n",
    "We will be performing autoregression on the univariate data, therefore the X and y values are the same. As for the multivariate data, we will be using the confirmed column (index 0) as the y value."
   ]
  },
  {
   "cell_type": "code",
   "execution_count": null,
   "id": "8621d09b",
   "metadata": {},
   "outputs": [],
   "source": [
    "india_uni_train_np"
   ]
  },
  {
   "cell_type": "code",
   "execution_count": null,
   "id": "cf728eb8",
   "metadata": {},
   "outputs": [],
   "source": [
    "timesteps = 14"
   ]
  },
  {
   "cell_type": "code",
   "execution_count": null,
   "id": "e12116cc",
   "metadata": {},
   "outputs": [],
   "source": [
    "# Univariate\n",
    "india_uni_train_X, india_uni_train_y = preprocessing.lstm_data_transform(india_uni_train_np, india_uni_train_np, timesteps)\n",
    "usa_uni_train_X, usa_uni_train_y = preprocessing.lstm_data_transform(usa_uni_train_np, usa_uni_train_np, timesteps)\n",
    "# Multivariate\n",
    "india_multi_train_X, india_multi_train_y = preprocessing.lstm_data_transform(india_multi_train_np, india_multi_train_np[:,0], timesteps)\n",
    "usa_multi_train_X, usa_multi_train_y = preprocessing.lstm_data_transform(usa_multi_train_np, usa_multi_train_np[:,0], timesteps)"
   ]
  },
  {
   "cell_type": "code",
   "execution_count": null,
   "id": "b3bb95e4",
   "metadata": {},
   "outputs": [],
   "source": [
    "print(\"Univariate India shape:\",india_uni_train_X.shape, india_uni_train_y.shape)\n",
    "print(\"Multivariate India shape:\",india_multi_train_X.shape, india_multi_train_y.shape)"
   ]
  },
  {
   "cell_type": "markdown",
   "id": "206827da",
   "metadata": {},
   "source": [
    "The univariate array shape for the India dataset has 566 samples, 3 as the time step, and 1 feature for the X values. The y values is just the 566 samples.\n",
    "\n",
    "Similarly, the multivariate array shape for the India dataset has 276 samples, 3 as the time step, and 2 features for the X values. The y values is just the 276 samples of the 0th column (Confirmed cases)."
   ]
  },
  {
   "cell_type": "markdown",
   "id": "a762c122",
   "metadata": {},
   "source": [
    "<a name=model></a>\n",
    "## Model\n",
    "We will define 4 models in total. One for the univariate data and another for the multivariate for each country."
   ]
  },
  {
   "cell_type": "code",
   "execution_count": null,
   "id": "f54c1702",
   "metadata": {},
   "outputs": [],
   "source": [
    "import LSTMmodels\n",
    "from keras.wrappers.scikit_learn import KerasRegressor\n",
    "import tensorflow as tf"
   ]
  },
  {
   "cell_type": "code",
   "execution_count": null,
   "id": "77bca529",
   "metadata": {
    "scrolled": true
   },
   "outputs": [],
   "source": [
    "univariate_model_ind = LSTMmodels.build_lstm(time_steps=india_uni_train_X.shape[1], features=india_uni_train_X.shape[2])\n",
    "univariate_model_usa = LSTMmodels.build_lstm(time_steps=usa_uni_train_X.shape[1], features=usa_uni_train_X.shape[2])"
   ]
  },
  {
   "cell_type": "code",
   "execution_count": null,
   "id": "ccb83162",
   "metadata": {
    "scrolled": true
   },
   "outputs": [],
   "source": [
    "multivariate_model_ind = LSTMmodels.build_lstm(time_steps=india_multi_train_X.shape[1], features=india_multi_train_X.shape[2], outputs=2)\n",
    "multivariate_model_usa = LSTMmodels.build_lstm(time_steps=usa_multi_train_X.shape[1], features=usa_multi_train_X.shape[2], outputs=2)"
   ]
  },
  {
   "cell_type": "markdown",
   "id": "16645e09",
   "metadata": {},
   "source": [
    "<a name=train></a>\n",
    "## Train "
   ]
  },
  {
   "cell_type": "code",
   "execution_count": null,
   "id": "e3f51362",
   "metadata": {},
   "outputs": [],
   "source": [
    "# Get the path of the current working directory\n",
    "curPath = os.getcwd()\n",
    "# Appened the parent directory to the current path to step out of the current folder\n",
    "parentDir = os.path.abspath(os.path.join(curPath, os.pardir))\n",
    "# Tensorboard callback\n",
    "logdir = os.path.join(parentDir+\"/logs\", datetime.datetime.now().strftime(\"%Y%m%d-%H%M%S\"))\n",
    "tensorboard_callback = tf.keras.callbacks.TensorBoard(logdir, histogram_freq=1)"
   ]
  },
  {
   "cell_type": "code",
   "execution_count": null,
   "id": "e0d28e87",
   "metadata": {},
   "outputs": [],
   "source": [
    "def train_models(model,train_X,train_y,test_X,test_y):\n",
    "    model.fit(train_X,train_y,\n",
    "              validation_data=(test_X,test_y),\n",
    "              epochs=300,\n",
    "              callbacks=[tensorboard_callback])\n",
    "    return model\n",
    "#     model.save(save_name)"
   ]
  },
  {
   "cell_type": "code",
   "execution_count": null,
   "id": "3de47952",
   "metadata": {
    "scrolled": true
   },
   "outputs": [],
   "source": [
    "# Train the model on univariate India dataset \n",
    "univariate_model_ind = LSTMmodels.train_model(univariate_model_ind,india_uni_train_X,india_uni_train_y,tensorboard_callback)"
   ]
  },
  {
   "cell_type": "code",
   "execution_count": null,
   "id": "1a75a35c",
   "metadata": {
    "scrolled": true
   },
   "outputs": [],
   "source": [
    "# Train the model on univariate USA dataset \n",
    "univariate_model_usa = LSTMmodels.train_model(univariate_model_usa,usa_uni_train_X,usa_uni_train_y,tensorboard_callback)"
   ]
  },
  {
   "cell_type": "code",
   "execution_count": null,
   "id": "d07dce40",
   "metadata": {
    "scrolled": true
   },
   "outputs": [],
   "source": [
    "# Train the model on multivariate India dataset\n",
    "multivariate_model_ind = LSTMmodels.train_model(multivariate_model_ind,india_multi_train_X,india_multi_train_y,tensorboard_callback)"
   ]
  },
  {
   "cell_type": "code",
   "execution_count": null,
   "id": "58301316",
   "metadata": {
    "scrolled": true
   },
   "outputs": [],
   "source": [
    "# Train the model on multivariate USA dataset\n",
    "multivariate_model_usa = LSTMmodels.train_model(multivariate_model_usa,usa_multi_train_X,usa_multi_train_y,tensorboard_callback)"
   ]
  },
  {
   "cell_type": "markdown",
   "id": "70cf08b0",
   "metadata": {},
   "source": [
    "<a name=predict></a>\n",
    "## Predict"
   ]
  },
  {
   "cell_type": "code",
   "execution_count": null,
   "id": "79445521",
   "metadata": {},
   "outputs": [],
   "source": [
    "import evaluate"
   ]
  },
  {
   "cell_type": "code",
   "execution_count": null,
   "id": "160f684c",
   "metadata": {
    "scrolled": true
   },
   "outputs": [],
   "source": [
    "india_uni_test_np.shape"
   ]
  },
  {
   "cell_type": "code",
   "execution_count": null,
   "id": "6b3834dc",
   "metadata": {},
   "outputs": [],
   "source": [
    "india_multi_test_np.shape"
   ]
  },
  {
   "cell_type": "code",
   "execution_count": null,
   "id": "41787e64",
   "metadata": {
    "scrolled": true
   },
   "outputs": [],
   "source": [
    "# Univariate Long-Term\n",
    "yhat_uni_india = evaluate.make_predictions(univariate_model_ind,india_uni_test_np,timesteps,india_uni_test_np.shape[1])\n",
    "yhat_uni_usa = evaluate.make_predictions(univariate_model_usa,usa_uni_test_np,timesteps,usa_uni_test_np.shape[1])"
   ]
  },
  {
   "cell_type": "code",
   "execution_count": null,
   "id": "247d68f1",
   "metadata": {
    "scrolled": true
   },
   "outputs": [],
   "source": [
    "# Univariate Rolling Short-Term\n",
    "yhat_uni_india_short, y_uni_india_short = evaluate.make_predictions_short(univariate_model_ind,india_uni_test_np,timesteps,india_uni_test_np.shape[1])\n",
    "yhat_uni_usa_short, y_uni_usa_short = evaluate.make_predictions_short(univariate_model_usa,usa_uni_test_np,timesteps,usa_uni_test_np.shape[1])"
   ]
  },
  {
   "cell_type": "code",
   "execution_count": null,
   "id": "5761139a",
   "metadata": {
    "scrolled": true
   },
   "outputs": [],
   "source": [
    "# Multivariate Rolling Short-Term\n",
    "yhat_multi_india = evaluate.make_predictions_short(multivariate_model_ind,india_multi_test_np,timesteps,india_multi_test_np.shape[1])\n",
    "yhat_multi_usa = evaluate.make_predictions_short(multivariate_model_usa,usa_multi_test_np,timesteps,usa_multi_test_np.shape[1])"
   ]
  },
  {
   "cell_type": "code",
   "execution_count": null,
   "id": "be412108",
   "metadata": {
    "scrolled": true
   },
   "outputs": [],
   "source": [
    "yhat_multi_india = yhat_multi_india[0]"
   ]
  },
  {
   "cell_type": "code",
   "execution_count": null,
   "id": "d96b9d34",
   "metadata": {
    "scrolled": true
   },
   "outputs": [],
   "source": [
    "yhat_multi_india"
   ]
  },
  {
   "cell_type": "code",
   "execution_count": null,
   "id": "29f716fa",
   "metadata": {
    "scrolled": false
   },
   "outputs": [],
   "source": [
    "yhat_uni_india.shape"
   ]
  },
  {
   "cell_type": "markdown",
   "id": "e0545385",
   "metadata": {},
   "source": [
    "## Evaluate"
   ]
  },
  {
   "cell_type": "code",
   "execution_count": null,
   "id": "47d80a9a",
   "metadata": {},
   "outputs": [],
   "source": [
    "from tensorflow.keras.losses import MeanAbsolutePercentageError, MeanAbsoluteError"
   ]
  },
  {
   "cell_type": "markdown",
   "id": "77e56f5a",
   "metadata": {},
   "source": [
    "### Denormalize Data "
   ]
  },
  {
   "cell_type": "code",
   "execution_count": null,
   "id": "6773259c",
   "metadata": {},
   "outputs": [],
   "source": [
    "type(np.array(india_cases_mean))\n",
    "np.array(india_cases_mean)"
   ]
  },
  {
   "cell_type": "code",
   "execution_count": null,
   "id": "484d8081",
   "metadata": {},
   "outputs": [],
   "source": [
    "# Denormalize univariate India data\n",
    "india_uni_test_np_denorm = preprocessing.de_normalize(india_uni_test_np.flatten()[timesteps:],np.array(india_cases_mean),np.array(india_cases_std))\n",
    "yhat_uni_india_denorm = preprocessing.de_normalize(yhat_uni_india.flatten()[timesteps:],np.array(india_cases_mean),np.array(india_cases_std))"
   ]
  },
  {
   "cell_type": "code",
   "execution_count": null,
   "id": "8f6e7eb3",
   "metadata": {
    "scrolled": true
   },
   "outputs": [],
   "source": [
    "india_uni_test_np_denorm = np.round(india_uni_test_np_denorm)\n",
    "yhat_uni_india_denorm = np.round(yhat_uni_india_denorm)"
   ]
  },
  {
   "cell_type": "code",
   "execution_count": null,
   "id": "7fac3e13",
   "metadata": {},
   "outputs": [],
   "source": [
    "# Denormalize univariate short India data\n",
    "india_uni_test_short_denorm = preprocessing.de_normalize(y_uni_india_short.flatten()[timesteps:],np.array(india_cases_mean),np.array(india_cases_std))\n",
    "yhat_uni_india_short_denorm = preprocessing.de_normalize(yhat_uni_india_short.flatten()[timesteps:],np.array(india_cases_mean),np.array(india_cases_std))"
   ]
  },
  {
   "cell_type": "code",
   "execution_count": null,
   "id": "e79394d4",
   "metadata": {},
   "outputs": [],
   "source": [
    "india_uni_test_short_denorm = np.round(india_uni_test_short_denorm)\n",
    "yhat_uni_india_short_denorm = np.round(yhat_uni_india_short_denorm)"
   ]
  },
  {
   "cell_type": "code",
   "execution_count": null,
   "id": "ed841693",
   "metadata": {},
   "outputs": [],
   "source": [
    "# Denormalize univariate USA data\n",
    "usa_uni_test_np_denorm = preprocessing.de_normalize(usa_uni_test_np.flatten()[timesteps:],np.array(usa_cases_mean),np.array(usa_cases_std))\n",
    "yhat_uni_usa_denorm = preprocessing.de_normalize(yhat_uni_usa.flatten()[timesteps:],np.array(usa_cases_mean),np.array(usa_cases_std))"
   ]
  },
  {
   "cell_type": "code",
   "execution_count": null,
   "id": "cdb088f3",
   "metadata": {},
   "outputs": [],
   "source": [
    "usa_uni_test_np_denorm = np.round(usa_uni_test_np_denorm)\n",
    "yhat_uni_usa_denorm = np.round(yhat_uni_usa_denorm)"
   ]
  },
  {
   "cell_type": "code",
   "execution_count": null,
   "id": "4d8c4b22",
   "metadata": {},
   "outputs": [],
   "source": [
    "# Denormalize univariate short USA data\n",
    "usa_uni_test_short_denorm = preprocessing.de_normalize(y_uni_usa_short.flatten()[timesteps:],np.array(usa_cases_mean),np.array(usa_cases_std))\n",
    "yhat_uni_usa_short_denorm = preprocessing.de_normalize(yhat_uni_usa_short.flatten()[timesteps:],np.array(usa_cases_mean),np.array(usa_cases_std))"
   ]
  },
  {
   "cell_type": "code",
   "execution_count": null,
   "id": "74f6ecc7",
   "metadata": {},
   "outputs": [],
   "source": [
    "usa_uni_test_short_denorm = np.round(usa_uni_test_short_denorm)\n",
    "yhat_uni_usa_short_denorm = np.round(yhat_uni_usa_short_denorm)"
   ]
  },
  {
   "cell_type": "code",
   "execution_count": null,
   "id": "ea703576",
   "metadata": {},
   "outputs": [],
   "source": [
    "yhat_multi_india.shape"
   ]
  },
  {
   "cell_type": "code",
   "execution_count": null,
   "id": "0dcad239",
   "metadata": {
    "scrolled": true
   },
   "outputs": [],
   "source": [
    "# Denormalize multivariate India data\n",
    "india_multi_test_np_denorm = preprocessing.de_normalize(india_multi_test_np[:,0].flatten()[timesteps:],np.array(india_multi_mean[0]),np.array(india_multi_std[0]))\n",
    "yhat_multi_india_denorm = preprocessing.de_normalize(yhat_multi_india.flatten()[timesteps:],np.array(india_multi_mean[0]),np.array(india_multi_std[0]))"
   ]
  },
  {
   "cell_type": "code",
   "execution_count": null,
   "id": "b8568d9c",
   "metadata": {},
   "outputs": [],
   "source": [
    "india_multi_test_np_denorm = np.round(india_multi_test_np_denorm)\n",
    "yhat_multi_india_denorm = np.round(yhat_multi_india_denorm)"
   ]
  },
  {
   "cell_type": "markdown",
   "id": "01705a67",
   "metadata": {},
   "source": [
    "### Get Metrics \n",
    "Return format: (mape, mae, rmse)"
   ]
  },
  {
   "cell_type": "code",
   "execution_count": null,
   "id": "76842330",
   "metadata": {},
   "outputs": [],
   "source": [
    "denorm_test = evaluate.evaluate((india_cases_uni.values)[uni_india_size:].flatten(),india_uni_test_np_denorm)\n",
    "denorm_test"
   ]
  },
  {
   "cell_type": "code",
   "execution_count": null,
   "id": "81ae9417",
   "metadata": {},
   "outputs": [],
   "source": [
    "uni_india_eval = evaluate.evaluate(india_uni_test_np_denorm[:-1], yhat_uni_india_denorm[:-1])\n",
    "uni_india_eval.insert(0,'Univariate India')\n",
    "uni_india_eval"
   ]
  },
  {
   "cell_type": "code",
   "execution_count": null,
   "id": "487bda45",
   "metadata": {},
   "outputs": [],
   "source": [
    "uni_usa_eval = evaluate.evaluate(usa_uni_test_np_denorm, yhat_uni_usa_denorm)\n",
    "uni_usa_eval.insert(0,'Univariate USA')\n",
    "uni_usa_eval"
   ]
  },
  {
   "cell_type": "code",
   "execution_count": null,
   "id": "cc384b5c",
   "metadata": {},
   "outputs": [],
   "source": [
    "# Short term\n",
    "uni_india_short_eval = evaluate.evaluate(india_uni_test_short_denorm[:-1], yhat_uni_india_short_denorm[:-1])\n",
    "uni_india_short_eval.insert(0,'Univariate Short-Term India')\n",
    "uni_india_short_eval"
   ]
  },
  {
   "cell_type": "code",
   "execution_count": null,
   "id": "a6d960e0",
   "metadata": {},
   "outputs": [],
   "source": [
    "uni_usa_short_eval = evaluate.evaluate(usa_uni_test_short_denorm, yhat_uni_usa_short_denorm)\n",
    "uni_usa_short_eval.insert(0,'Univariate Short-Term USA')\n",
    "uni_usa_short_eval"
   ]
  },
  {
   "cell_type": "code",
   "execution_count": null,
   "id": "d7e143bc",
   "metadata": {},
   "outputs": [],
   "source": [
    "india_multi_test_np_denorm[14:-1]"
   ]
  },
  {
   "cell_type": "code",
   "execution_count": null,
   "id": "084fe3ff",
   "metadata": {},
   "outputs": [],
   "source": [
    "yhat_multi_india_denorm.size"
   ]
  },
  {
   "cell_type": "code",
   "execution_count": null,
   "id": "4e742132",
   "metadata": {
    "scrolled": true
   },
   "outputs": [],
   "source": [
    "# Multivariate India\n",
    "multi_india_eval = evaluate.evaluate(india_multi_test_np_denorm[14:-1], yhat_multi_india_denorm[:-1])\n",
    "multi_india_eval.insert(0,'Multivariate Short-Term India')\n",
    "multi_india_eval"
   ]
  },
  {
   "cell_type": "markdown",
   "id": "8b10832c",
   "metadata": {},
   "source": [
    "### Visualize performance"
   ]
  },
  {
   "cell_type": "code",
   "execution_count": null,
   "id": "43e35d71",
   "metadata": {},
   "outputs": [],
   "source": [
    "d = [uni_india_eval,uni_usa_eval,uni_india_short_eval,uni_usa_short_eval,multi_india_eval]\n",
    "pd.DataFrame(data=d, columns=['Models','MAPE','MAE','RMSE'])"
   ]
  },
  {
   "cell_type": "markdown",
   "id": "0825df30",
   "metadata": {},
   "source": [
    "## Plots"
   ]
  },
  {
   "cell_type": "markdown",
   "id": "b012dd0c",
   "metadata": {},
   "source": [
    "#### Long-Term Rolling forecasts"
   ]
  },
  {
   "cell_type": "code",
   "execution_count": null,
   "id": "e31fcbff",
   "metadata": {
    "scrolled": false
   },
   "outputs": [],
   "source": [
    "evaluate.plot_fore_test(india_uni_test_np_denorm[:-1], yhat_uni_india_denorm[:-1], 'Univariate Long-Term India')"
   ]
  },
  {
   "cell_type": "code",
   "execution_count": null,
   "id": "8048c0f3",
   "metadata": {
    "scrolled": false
   },
   "outputs": [],
   "source": [
    "evaluate.plot_fore_test(usa_uni_test_np_denorm, yhat_uni_usa_denorm, 'Univariate Long-Term USA')"
   ]
  },
  {
   "cell_type": "markdown",
   "id": "63dc04fa",
   "metadata": {},
   "source": [
    "#### Short-Term Rolling Forecast"
   ]
  },
  {
   "cell_type": "code",
   "execution_count": null,
   "id": "45ce9e04",
   "metadata": {},
   "outputs": [],
   "source": [
    "evaluate.plot_fore_test(india_uni_test_short_denorm[:-1], yhat_uni_india_short_denorm[:-1], \"Univariate Short-Term India\")"
   ]
  },
  {
   "cell_type": "code",
   "execution_count": null,
   "id": "827d4694",
   "metadata": {},
   "outputs": [],
   "source": [
    "evaluate.plot_fore_test(usa_uni_test_short_denorm, yhat_uni_usa_short_denorm, \"Univariate Short-Term USA\")"
   ]
  },
  {
   "cell_type": "code",
   "execution_count": null,
   "id": "9a115c1f",
   "metadata": {},
   "outputs": [],
   "source": [
    "evaluate.plot_fore_test(india_multi_test_np_denorm[14:-1], yhat_multi_india_denorm[:-1], \"Multivariate Short-Term India\")"
   ]
  },
  {
   "cell_type": "code",
   "execution_count": null,
   "id": "bc64f443",
   "metadata": {},
   "outputs": [],
   "source": [
    "# Reversing Z-score normalization\n",
    "\n",
    "casted_mean = india_cases_mean.to_numpy()\n",
    "casted_std = india_cases_std.to_numpy()\n",
    "\n",
    "india_cases_test_scaled = (india_cases_std[0]*india_cases_test)+india_cases_mean[0]\n",
    "yhat_uni_non_stacked_india_scaled = (india_cases_std[0]*yhat_uni_non_stacked_india)+india_cases_mean[0]\n",
    "yhat_uni_non_stacked_long_india_scaled = (india_cases_std[0]*yhat_uni_non_stacked_long_india)+india_cases_mean[0]\n",
    "yhat_uni_stacked_india_scaled = (india_cases_std[0]*yhat_uni_stacked_india)+india_cases_mean[0]\n",
    "yhat_uni_stacked_long_india_scaled = (india_cases_std[0]*yhat_uni_stacked_long_india)+india_cases_mean[0]\n",
    "\n",
    "usa_cases_test_scaled = (usa_cases_std[0]*usa_cases_test)+usa_cases_mean[0]\n",
    "yhat_uni_non_stacked_usa_scaled = (usa_cases_std[0]*yhat_uni_non_stacked_usa)+usa_cases_mean[0]\n",
    "yhat_uni_non_stacked_long_usa_scaled = (usa_cases_std[0]*yhat_uni_non_stacked_long_usa)+usa_cases_mean[0]\n",
    "yhat_uni_stacked_usa_scaled = (usa_cases_std[0]*yhat_uni_stacked_usa)+usa_cases_mean[0]\n",
    "yhat_uni_stacked_long_usa_scaled = (usa_cases_std[0]*yhat_uni_stacked_long_usa)+usa_cases_mean[0]\n",
    "\n",
    "print(yhat_uni_non_stacked_india_scaled.size)\n",
    "print(india_cases_test_scaled.size)"
   ]
  },
  {
   "cell_type": "code",
   "execution_count": null,
   "id": "57ae832d",
   "metadata": {},
   "outputs": [],
   "source": [
    "def plot_fore_test(test, fore, title):\n",
    "    \n",
    "    fig, ax = plt.subplots()\n",
    "    fig.set_size_inches(12, 8)\n",
    "\n",
    "    ax.plot(test, color='blue', label='Test')\n",
    "    ax.plot(fore, color='red', label='Forecast')\n",
    "    ax.legend(loc='best')\n",
    "    plt.title(title)\n",
    "    plt.show()"
   ]
  },
  {
   "cell_type": "markdown",
   "id": "0e24b209",
   "metadata": {},
   "source": [
    "### Univariate Non Stacked -- Rolling"
   ]
  },
  {
   "cell_type": "code",
   "execution_count": null,
   "id": "8a6ed686",
   "metadata": {
    "scrolled": true
   },
   "outputs": [],
   "source": [
    "plot_fore_test(india_cases_test_scaled, yhat_uni_non_stacked_india_scaled, title='Daily cases')"
   ]
  },
  {
   "cell_type": "code",
   "execution_count": null,
   "id": "9825385f",
   "metadata": {
    "scrolled": false
   },
   "outputs": [],
   "source": [
    "plot_fore_test(usa_cases_test_scaled, yhat_uni_non_stacked_usa_scaled, title='Daily cases')"
   ]
  },
  {
   "cell_type": "markdown",
   "id": "d4459e30",
   "metadata": {},
   "source": [
    "### Univariate Non Stacked -- Long-Term"
   ]
  },
  {
   "cell_type": "code",
   "execution_count": null,
   "id": "b6fa557e",
   "metadata": {
    "scrolled": true
   },
   "outputs": [],
   "source": [
    "plot_fore_test(india_cases_test_scaled, yhat_uni_non_stacked_long_india_scaled, title='Daily cases')"
   ]
  },
  {
   "cell_type": "code",
   "execution_count": null,
   "id": "d75fa60c",
   "metadata": {
    "scrolled": true
   },
   "outputs": [],
   "source": [
    "plot_fore_test(usa_cases_test_scaled, yhat_uni_non_stacked_long_usa_scaled, title='Daily cases')"
   ]
  },
  {
   "cell_type": "markdown",
   "id": "0be1fbe7",
   "metadata": {},
   "source": [
    "### Univariate Stacked -- Rolling"
   ]
  },
  {
   "cell_type": "code",
   "execution_count": null,
   "id": "46fa9fe6",
   "metadata": {
    "scrolled": true
   },
   "outputs": [],
   "source": [
    "plot_fore_test(india_cases_test_scaled, yhat_uni_stacked_india_scaled, title='Daily cases')"
   ]
  },
  {
   "cell_type": "code",
   "execution_count": null,
   "id": "c4d11157",
   "metadata": {
    "scrolled": true
   },
   "outputs": [],
   "source": [
    "plot_fore_test(usa_cases_test_scaled, yhat_uni_stacked_usa_scaled, title='Daily cases')"
   ]
  },
  {
   "cell_type": "markdown",
   "id": "3add4e46",
   "metadata": {},
   "source": [
    "### Univariate Stacked -- Long-Term"
   ]
  },
  {
   "cell_type": "code",
   "execution_count": null,
   "id": "9f703c5c",
   "metadata": {
    "scrolled": true
   },
   "outputs": [],
   "source": [
    "plot_fore_test(india_cases_test_scaled, yhat_uni_stacked_long_india_scaled, title='Daily cases')"
   ]
  },
  {
   "cell_type": "code",
   "execution_count": null,
   "id": "d76580e0",
   "metadata": {
    "scrolled": true
   },
   "outputs": [],
   "source": [
    "plot_fore_test(usa_cases_test_scaled, yhat_uni_stacked_long_usa_scaled, title='Daily cases')"
   ]
  }
 ],
 "metadata": {
  "kernelspec": {
   "display_name": "Python 3",
   "language": "python",
   "name": "python3"
  },
  "language_info": {
   "codemirror_mode": {
    "name": "ipython",
    "version": 3
   },
   "file_extension": ".py",
   "mimetype": "text/x-python",
   "name": "python",
   "nbconvert_exporter": "python",
   "pygments_lexer": "ipython3",
   "version": "3.6.9"
  }
 },
 "nbformat": 4,
 "nbformat_minor": 5
}
