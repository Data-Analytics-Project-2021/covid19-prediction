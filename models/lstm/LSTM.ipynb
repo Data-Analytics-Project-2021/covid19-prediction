{
 "cells": [
  {
   "cell_type": "markdown",
   "id": "f5d0a131",
   "metadata": {},
   "source": [
    "# LSTM "
   ]
  },
  {
   "cell_type": "markdown",
   "id": "72383c65",
   "metadata": {},
   "source": [
    "## Outline\n",
    "1. [Imports](#imports)\n",
    "2. [Data](#data)\n",
    "3. [Model](#model)\n",
    "5. [Train](#train)\n",
    "6. [Predict](#predict)"
   ]
  },
  {
   "cell_type": "markdown",
   "id": "04e902ed",
   "metadata": {},
   "source": [
    "<a name=imports></a>\n",
    "## Imports"
   ]
  },
  {
   "cell_type": "code",
   "execution_count": 1,
   "id": "b1f68681",
   "metadata": {},
   "outputs": [],
   "source": [
    "import os\n",
    "import datetime\n",
    "\n",
    "import matplotlib.pyplot as plt\n",
    "import seaborn as sns\n",
    "import numpy as np\n",
    "import pandas as pd\n",
    "import tensorflow as tf\n",
    "from sklearn.model_selection import train_test_split"
   ]
  },
  {
   "cell_type": "markdown",
   "id": "1f335be7",
   "metadata": {},
   "source": [
    "<a name=data></a>\n",
    "## Data"
   ]
  },
  {
   "cell_type": "markdown",
   "id": "42e68bd5",
   "metadata": {},
   "source": [
    "### Ingestion "
   ]
  },
  {
   "cell_type": "code",
   "execution_count": 2,
   "id": "4f6ed14c",
   "metadata": {},
   "outputs": [
    {
     "name": "stdout",
     "output_type": "stream",
     "text": [
      "Parent Directory /covid19-prediction/models\n",
      "Path: /covid19-prediction/models/../cleaned_datasets/india/daily_cases_india.csv\n",
      "Exists: True\n"
     ]
    }
   ],
   "source": [
    "# Get the path of the current working directory\n",
    "curPath = os.getcwd()\n",
    "# Appened the parent directory to the current path to step out of the current folder\n",
    "parentDir = os.path.abspath(os.path.join(curPath, os.pardir))\n",
    "print(\"Parent Directory\", parentDir)\n",
    "# Save the path to all of the datasets\n",
    "india_cases_path = os.path.join(parentDir, \"../cleaned_datasets/india/daily_cases_india.csv\")\n",
    "india_vacc_path = os.path.join(parentDir, \"../cleaned_datasets/india/daily_vacc_india.csv\")\n",
    "usa_cases_path = os.path.join(parentDir, \"../cleaned_datasets/usa/daily_cases_usa.csv\")\n",
    "usa_vacc_path = os.path.join(parentDir, \"../cleaned_datasets/usa/vacc_usa.csv\")\n",
    "\n",
    "# Quick check to make sure the path exists\n",
    "print(\"Path:\", india_cases_path)\n",
    "print(\"Exists:\", os.path.exists(india_cases_path))"
   ]
  },
  {
   "cell_type": "code",
   "execution_count": 3,
   "id": "5c18b18a",
   "metadata": {
    "scrolled": true
   },
   "outputs": [
    {
     "name": "stdout",
     "output_type": "stream",
     "text": [
      "India Cases:\n",
      "    Unnamed: 0        Date  Confirmed  Deaths  Recovered  Active\n",
      "0           0  2020-01-30        1.0     0.0        0.0     0.0\n",
      "1           1  2020-01-31        0.0     0.0        0.0     0.0\n",
      "2           2  2020-02-01        0.0     0.0        0.0     0.0\n",
      "3           3  2020-02-02        1.0     0.0        0.0     0.0\n",
      "4           4  2020-02-03        1.0     0.0        0.0     0.0 \n",
      "\n",
      "India Vacc:\n",
      "    Updated On  Total_Doses  First_Dose  Second_Dose\n",
      "0  2021-01-16          NaN         NaN          NaN\n",
      "1  2021-01-17      20656.0     20656.0          0.0\n",
      "2  2021-01-18      81690.0     81690.0          0.0\n",
      "3  2021-01-19     192152.0    192152.0          0.0\n",
      "4  2021-01-20     111510.0    111510.0          0.0 \n",
      "\n",
      "USA Cases:\n",
      "          Date  Confirmed  Deaths  Recovered\n",
      "0  2020-04-12        NaN     NaN        NaN\n",
      "1  2020-04-13    25322.0  1546.0    11785.0\n",
      "2  2020-04-14    26713.0  2305.0     6484.0\n",
      "3  2020-04-15    29380.0  2478.0     6093.0\n",
      "4  2020-04-16    31542.0  4616.0     5234.0 \n",
      "\n",
      "USA Vacc:\n",
      "          date  total_doses  people_vacc  people_fully_vacc  daily_vacc\n",
      "0  2020-12-20     556208.0          0.0                0.0         0.0\n",
      "1  2020-12-21     614117.0          0.0                0.0     57909.0\n",
      "2  2020-12-22          0.0          0.0                0.0    127432.0\n",
      "3  2020-12-23    1008025.0          0.0                0.0    150606.0\n",
      "4  2020-12-24          0.0          0.0                0.0    191001.0 \n",
      "\n"
     ]
    }
   ],
   "source": [
    "# Load the data as a pandas dataframe\n",
    "india_cases_df = pd.read_csv(india_cases_path)\n",
    "india_vacc_df =  pd.read_csv(india_vacc_path)\n",
    "\n",
    "usa_cases_df = pd.read_csv(usa_cases_path)\n",
    "usa_vacc_df = pd.read_csv(usa_vacc_path)\n",
    "\n",
    "# Visualize the datasets\n",
    "print('India Cases:\\n',india_cases_df.head(),'\\n')\n",
    "print('India Vacc:\\n',india_vacc_df.head(),'\\n')\n",
    "\n",
    "print('USA Cases:\\n',usa_cases_df.head(),'\\n')\n",
    "print('USA Vacc:\\n',usa_vacc_df.head(),'\\n')"
   ]
  },
  {
   "cell_type": "markdown",
   "id": "7327c3b0",
   "metadata": {},
   "source": [
    "### Pre-Processing"
   ]
  },
  {
   "cell_type": "markdown",
   "id": "897297ae",
   "metadata": {},
   "source": [
    "### Multivariate"
   ]
  },
  {
   "cell_type": "code",
   "execution_count": 8,
   "id": "03503052",
   "metadata": {},
   "outputs": [],
   "source": [
    "india_cases_multi_df = india_cases_df[[\"Date\",\"Confirmed\",\"Deaths\",\"Recovered\",\"Active\"]]"
   ]
  },
  {
   "cell_type": "markdown",
   "id": "87fd4455",
   "metadata": {},
   "source": [
    "### Univariate "
   ]
  },
  {
   "cell_type": "code",
   "execution_count": 9,
   "id": "d328699c",
   "metadata": {},
   "outputs": [
    {
     "name": "stdout",
     "output_type": "stream",
     "text": [
      "India Cases:\n",
      "    Confirmed\n",
      "1        0.0\n",
      "2        0.0\n",
      "3        1.0\n",
      "4        1.0\n",
      "5        0.0 \n",
      "\n",
      "USA Cases:\n",
      "    Confirmed\n",
      "1    25322.0\n",
      "2    26713.0\n",
      "3    29380.0\n",
      "4    31542.0\n",
      "5    32022.0 \n",
      "\n"
     ]
    }
   ],
   "source": [
    "# Select only the Confirmed column for univariate analysis\n",
    "# Selecting from the first index because the 0th index is NaN\n",
    "india_cases_df = india_cases_df[[\"Confirmed\"]][1:]\n",
    "usa_cases_df = usa_cases_df[[\"Confirmed\"]][1:]\n",
    "\n",
    "# Visualize the datasets\n",
    "print('India Cases:\\n',india_cases_df.head(),'\\n')\n",
    "print('USA Cases:\\n',usa_cases_df.head(),'\\n')"
   ]
  },
  {
   "cell_type": "code",
   "execution_count": 10,
   "id": "1dcbb1f6",
   "metadata": {},
   "outputs": [
    {
     "name": "stdout",
     "output_type": "stream",
     "text": [
      "India Cases:\n",
      "    Confirmed\n",
      "1  -0.687995\n",
      "2  -0.687995\n",
      "3  -0.687983\n",
      "4  -0.687983\n",
      "5  -0.687995 \n",
      "\n",
      "USA Cases:\n",
      "    Confirmed\n",
      "1  -0.817861\n",
      "2  -0.797170\n",
      "3  -0.757499\n",
      "4  -0.725340\n",
      "5  -0.718200 \n",
      "\n"
     ]
    }
   ],
   "source": [
    "# Normalize the data\n",
    "india_cases_mean = india_cases_df.mean()\n",
    "india_cases_std = india_cases_df.std()\n",
    "\n",
    "usa_cases_mean = usa_cases_df.mean()\n",
    "usa_cases_std = usa_cases_df.std()\n",
    "\n",
    "\n",
    "india_cases_df = (india_cases_df-india_cases_mean)/india_cases_std\n",
    "usa_cases_df = (usa_cases_df-usa_cases_mean)/usa_cases_std\n",
    "\n",
    "# Visualize the datasets\n",
    "print('India Cases:\\n',india_cases_df.head(),'\\n')\n",
    "print('USA Cases:\\n',usa_cases_df.head(),'\\n')"
   ]
  },
  {
   "cell_type": "code",
   "execution_count": 11,
   "id": "285d674b",
   "metadata": {},
   "outputs": [
    {
     "name": "stdout",
     "output_type": "stream",
     "text": [
      "India Cases:\n",
      "      Confirmed\n",
      "1    -0.687995\n",
      "2    -0.687995\n",
      "3    -0.687983\n",
      "4    -0.687983\n",
      "5    -0.687995\n",
      "..         ...\n",
      "492   0.750239\n",
      "493   0.576535\n",
      "494   0.398886\n",
      "495   0.475509\n",
      "496   0.486403\n",
      "\n",
      "[496 rows x 1 columns] \n",
      "\n",
      "USA Cases:\n",
      "      Confirmed\n",
      "1    -0.817861\n",
      "2    -0.797170\n",
      "3    -0.757499\n",
      "4    -0.725340\n",
      "5    -0.718200\n",
      "..         ...\n",
      "434  -1.128237\n",
      "435  -1.020678\n",
      "436  -1.035523\n",
      "437  -1.001267\n",
      "438  -0.989828\n",
      "\n",
      "[438 rows x 1 columns] \n",
      "\n"
     ]
    }
   ],
   "source": [
    "# Create train test splits\n",
    "india_cases_train, india_cases_test = train_test_split(india_cases_df, test_size=0.2, shuffle=False)\n",
    "india_vacc_train, india_vacc_test = train_test_split(india_vacc_df, test_size=0.2, shuffle=False)\n",
    "\n",
    "usa_cases_train, usa_cases_test = train_test_split(usa_cases_df, test_size=0.2, shuffle=False)\n",
    "usa_vacc_train, usa_vacc_test = train_test_split(usa_vacc_df, test_size=0.2, shuffle=False)\n",
    "\n",
    "# Visualize splits\n",
    "print('India Cases:\\n',india_cases_train,'\\n')\n",
    "print('USA Cases:\\n',usa_cases_train,'\\n')"
   ]
  },
  {
   "cell_type": "code",
   "execution_count": 12,
   "id": "17fa1445",
   "metadata": {
    "scrolled": true
   },
   "outputs": [
    {
     "name": "stdout",
     "output_type": "stream",
     "text": [
      "India Cases:\n",
      " [-6.87995117e-01 -6.87995117e-01 -6.87982552e-01 -6.87982552e-01\n",
      " -6.87995117e-01 -6.87995117e-01 -6.87995117e-01 -6.87995117e-01\n",
      " -6.87995117e-01 -6.87995117e-01 -6.87995117e-01 -6.87995117e-01\n",
      " -6.87995117e-01 -6.87995117e-01 -6.87995117e-01 -6.87995117e-01\n",
      " -6.87995117e-01 -6.87995117e-01 -6.87995117e-01 -6.87995117e-01\n",
      " -6.87995117e-01 -6.87995117e-01 -6.87995117e-01 -6.87995117e-01\n",
      " -6.87995117e-01 -6.87995117e-01 -6.87995117e-01 -6.87995117e-01\n",
      " -6.87995117e-01 -6.87995117e-01 -6.87995117e-01 -6.87969986e-01\n",
      " -6.87995117e-01 -6.87706113e-01 -6.87969986e-01 -6.87982552e-01\n",
      " -6.87957421e-01 -6.87932290e-01 -6.87944855e-01 -6.87831767e-01\n",
      " -6.87919725e-01 -6.87856898e-01 -6.87882028e-01 -6.87743809e-01\n",
      " -6.87856898e-01 -6.87919725e-01 -6.87706113e-01 -6.87819202e-01\n",
      " -6.87517632e-01 -6.87366848e-01 -6.86914494e-01 -6.87165802e-01\n",
      " -6.86700882e-01 -6.87530198e-01 -6.86474705e-01 -6.87115540e-01\n",
      " -6.85984655e-01 -6.86738578e-01 -6.87530198e-01 -6.85142775e-01\n",
      " -6.86160571e-01 -6.80443321e-01 -6.81146982e-01 -6.87693548e-01\n",
      " -6.81523944e-01 -6.81637032e-01 -6.73042309e-01 -6.81297767e-01\n",
      " -6.80393059e-01 -6.77829721e-01 -6.77025536e-01 -6.77339671e-01\n",
      " -6.78457990e-01 -6.72313517e-01 -6.75002509e-01 -6.77503021e-01\n",
      " -6.74072671e-01 -6.76409832e-01 -6.70780540e-01 -6.64208844e-01\n",
      " -6.76384702e-01 -6.68631859e-01 -6.71785771e-01 -6.66546005e-01\n",
      " -6.69737613e-01 -6.65967998e-01 -6.67802544e-01 -6.68380551e-01\n",
      " -6.64460151e-01 -6.66156478e-01 -6.65364859e-01 -6.57913586e-01\n",
      " -6.57310448e-01 -6.52736648e-01 -6.38588024e-01 -6.50763882e-01\n",
      " -6.42923082e-01 -6.45725163e-01 -6.45976471e-01 -6.48879074e-01\n",
      " -6.33297997e-01 -6.42671774e-01 -6.43714701e-01 -6.40711574e-01\n",
      " -6.38462371e-01 -6.40410005e-01 -6.26877086e-01 -6.24539924e-01\n",
      " -6.29817386e-01 -6.10755697e-01 -6.18219536e-01 -6.10114863e-01\n",
      " -6.05465670e-01 -6.04699182e-01 -5.98617536e-01 -6.07400740e-01\n",
      " -6.14575574e-01 -5.96355767e-01 -5.96267809e-01 -5.86152674e-01\n",
      " -5.83250070e-01 -5.77645909e-01 -5.90475167e-01 -5.77155859e-01\n",
      " -5.66952766e-01 -5.63736028e-01 -5.68988359e-01 -5.56837632e-01\n",
      " -5.51484778e-01 -5.81918140e-01 -5.59602016e-01 -6.82504044e-01\n",
      " -4.24725177e-01 -6.87995117e-01 -5.44020939e-01 -5.38102643e-01\n",
      " -4.09433104e-01 -5.50102586e-01 -5.26140397e-01 -5.17281801e-01\n",
      " -5.05595993e-01 -4.94324843e-01 -5.01763551e-01 -5.00356228e-01\n",
      " -4.87351055e-01 -4.75363678e-01 -4.70664224e-01 -4.54882101e-01\n",
      " -4.37868570e-01 -4.43485297e-01 -4.55259062e-01 -4.53612997e-01\n",
      " -4.47393131e-01 -4.25340881e-01 -4.01868743e-01 -3.75745308e-01\n",
      " -3.83309670e-01 -4.08402743e-01 -4.02094920e-01 -3.75380912e-01\n",
      " -3.54937031e-01 -3.47297277e-01 -3.28549723e-01 -3.26966485e-01\n",
      " -3.29906785e-01 -3.18208412e-01 -2.77408608e-01 -2.48520788e-01\n",
      " -2.45040177e-01 -2.01752426e-01 -1.80039442e-01 -2.21417253e-01\n",
      " -2.13777500e-01 -1.13505730e-01 -6.83959989e-02 -7.33467605e-02\n",
      " -7.71792028e-02 -5.99646258e-02 -1.29375811e-01 -6.49256036e-01\n",
      "  5.53552846e-01 -2.47564180e-02  8.15341709e-02 -2.28787125e-04\n",
      " -2.23815603e-02 -3.39668450e-02 -2.81993334e-02  1.92098630e-02\n",
      "  9.78189094e-02  8.52409594e-02  1.21203090e-01  9.18629171e-02\n",
      " -1.44779333e-02  7.80284286e-02  1.53873090e-01  1.23138160e-01\n",
      "  1.25387363e-01  1.16566463e-01  3.71657976e-02  3.32721674e-03\n",
      "  1.23376902e-01  1.87460364e-01  1.77759887e-01  1.90023702e-01\n",
      "  1.82019552e-01  8.36200248e-02  7.81792132e-02  3.10464553e-02\n",
      "  3.88694999e-01  2.82881895e-01  2.72904979e-01  3.01667145e-01\n",
      "  2.98538364e-01  1.90589144e-01  2.96590730e-01  3.66027045e-01\n",
      "  3.59216607e-01  3.98056211e-01  4.50830826e-01  4.52966942e-01\n",
      "  2.64574129e-01  4.39195280e-01  5.14951984e-01  5.25205338e-01\n",
      "  5.38009465e-01  4.97825365e-01  4.68912415e-01 -6.87995117e-01\n",
      "  1.49752737e+00  5.42080650e-01  5.23609534e-01  4.84820192e-01\n",
      "  4.75622330e-01  4.04703299e-01  2.55451660e-01  3.59291999e-01\n",
      "  3.99011180e-01  3.93281365e-01  3.84611249e-01  4.25297965e-01\n",
      "  3.44502541e-01  1.98982821e-01  3.23166518e-01  4.02944145e-01\n",
      "  2.41114556e-01  4.05419526e-01  2.64825437e-01  2.47397249e-01\n",
      "  8.18483055e-02  2.17328283e-01  2.98689149e-01  1.97814241e-01\n",
      "  2.32695748e-01  2.46655891e-01  1.50518133e-01  7.39840137e-03\n",
      "  1.10019898e-01  1.62781948e-01  1.08285875e-01  9.37225940e-02\n",
      "  8.94377979e-02  1.21732475e-02 -1.00060768e-01 -8.91146793e-03\n",
      "  1.36433975e-02 -4.86541407e-03 -1.73805372e-02 -5.81049489e-02\n",
      " -1.20693130e-01 -2.29735538e-01 -1.36462688e-01 -6.12211643e-02\n",
      " -7.67142836e-02 -8.14891298e-02 -9.78869568e-02 -1.19650203e-01\n",
      " -2.06615230e-01 -1.06808380e-01 -5.70871527e-02 -8.94053221e-02\n",
      " -5.52526066e-02 -1.14083738e-01 -1.11206265e-01 -2.09593226e-01\n",
      " -1.31587318e-01 -8.60503644e-02 -1.24073218e-01 -1.26523468e-01\n",
      " -1.71557807e-01 -3.04147746e-01 -3.30962277e-01 -1.93346184e-01\n",
      " -1.15315145e-01 -1.11470138e-01 -1.07072253e-01 -1.19926641e-01\n",
      " -1.34376834e-01 -2.10824634e-01 -1.30393607e-01 -1.28973718e-01\n",
      " -1.46653215e-01 -1.68768292e-01 -1.62636384e-01 -2.00810023e-01\n",
      " -2.96985477e-01 -2.28051777e-01 -2.41283127e-01 -2.28164865e-01\n",
      " -2.27448638e-01 -2.35503050e-01 -2.73576165e-01 -3.54170542e-01\n",
      " -2.84897577e-01 -2.91921627e-01 -3.18912073e-01 -3.10644050e-01\n",
      " -3.07841969e-01 -3.47837589e-01 -4.10739904e-01 -3.56495139e-01\n",
      " -3.86300231e-01 -4.00373462e-01 -3.71950562e-01 -3.53454316e-01\n",
      " -3.82191350e-01 -4.42266454e-01 -3.87054154e-01 -3.77479331e-01\n",
      " -3.98149389e-01 -4.08126304e-01 -4.52620331e-01 -4.36423550e-01\n",
      " -4.81520716e-01 -4.29789027e-01 -4.13793293e-01 -4.36247635e-01\n",
      " -1.96512661e-01 -7.11341602e-01 -4.80616008e-01 -4.82236943e-01\n",
      " -4.60712439e-01 -4.32339800e-01 -4.60071604e-01 -6.87995117e-01\n",
      " -2.24747080e-01 -4.83041128e-01 -5.29872316e-01 -4.87351055e-01\n",
      " -4.75062108e-01 -4.92100770e-01 -4.97529016e-01 -4.97704932e-01\n",
      " -5.14743593e-01 -5.61713001e-01 -5.14391762e-01 -4.96448393e-01\n",
      " -5.05231597e-01 -5.08862993e-01 -5.01411720e-01 -5.22094343e-01\n",
      " -5.73624986e-01 -5.28552951e-01 -5.41407339e-01 -4.51074789e-01\n",
      " -5.23614755e-01 -5.24092239e-01 -5.44297378e-01 -5.79493020e-01\n",
      " -5.49285836e-01 -5.25914220e-01 -5.32083824e-01 -5.40816766e-01\n",
      " -5.36469143e-01 -5.39334051e-01 -5.73524463e-01 -5.48934005e-01\n",
      " -5.25612651e-01 -5.71023951e-01 -5.35413651e-01 -5.34772816e-01\n",
      " -5.41620951e-01 -5.73386243e-01 -5.42111001e-01 -5.26140397e-01\n",
      " -5.22219997e-01 -5.12167689e-01 -5.08762470e-01 -5.09579220e-01\n",
      " -5.55003086e-01 -5.15321601e-01 -4.77675708e-01 -4.79698735e-01\n",
      " -4.80817055e-01 -4.77499793e-01 -4.93106001e-01 -5.33616801e-01\n",
      " -4.99652566e-01 -4.69269466e-01 -4.76419170e-01 -4.58249624e-01\n",
      " -4.52343893e-01 -4.54291527e-01 -4.94638978e-01 -4.62810858e-01\n",
      " -4.00825816e-01 -3.95410135e-01 -3.75343216e-01 -3.69839577e-01\n",
      " -3.57638589e-01 -3.80243716e-01 -3.24817804e-01 -2.37262204e-01\n",
      " -1.88822646e-01 -1.73404919e-01 -1.37053261e-01 -9.80377414e-02\n",
      " -1.76395480e-01 -9.41299067e-02 -1.60486064e-02  5.48452939e-02\n",
      "  9.43006017e-02  1.00030417e-01  1.66702348e-01  1.83177206e-02\n",
      " -1.59983449e-02  2.20859156e-01  3.35656510e-01  4.31945053e-01\n",
      "  4.83714438e-01  6.13250989e-01  5.30621019e-01  7.66272243e-01\n",
      "  9.05157440e-01  9.70233567e-01  1.13881077e+00  1.23298833e+00\n",
      "  1.43444914e+00  1.34427994e+00  1.62870999e+00  1.83436764e+00\n",
      "  2.04312894e+00  2.26100014e+00  2.59652104e+00  2.75243234e+00\n",
      "  2.56853793e+00  3.02077869e+00  3.26562778e+00  3.49528531e+00\n",
      "  3.66950437e+00  3.70600681e+00  3.74747258e+00  3.37091313e+00\n",
      "  3.84719148e+00  4.07815581e+00  4.16921715e+00  4.36320156e+00\n",
      "  4.24376758e+00  3.93682036e+00  3.80181787e+00  4.11381637e+00\n",
      "  4.49435905e+00  4.51643643e+00  4.35170423e+00  4.38094389e+00\n",
      "  3.91714297e+00  3.45785303e+00  3.69004877e+00  3.86980917e+00\n",
      "  3.62374124e+00  3.40955169e+00  3.22197563e+00  2.84772821e+00\n",
      "  2.62339840e+00  2.67115943e+00  2.78143324e+00  2.57336304e+00\n",
      "  2.54506579e+00  2.33827726e+00  2.10547838e+00  1.78018570e+00\n",
      "  1.93717761e+00  1.96704553e+00  1.65374023e+00  1.49574308e+00\n",
      "  1.39224201e+00  1.23116634e+00  9.14217082e-01  9.80537182e-01\n",
      "  9.97701498e-01  9.75209459e-01  8.26498132e-01  7.50238812e-01\n",
      "  5.76534935e-01  3.98885526e-01  4.75509242e-01  4.86403430e-01] \n",
      "\n",
      "USA Cases:\n",
      " [-8.17861165e-01 -7.97170404e-01 -7.57499478e-01 -7.25340295e-01\n",
      " -7.18200420e-01 -7.11060546e-01 -7.99029746e-01 -8.18233033e-01\n",
      " -7.77149007e-01 -7.67703548e-01 -7.71035490e-01 -6.55875268e-01\n",
      " -7.04500787e-01 -7.87263829e-01 -8.57204847e-01 -8.28318106e-01\n",
      " -7.85449111e-01 -7.56978862e-01 -6.85832991e-01 -7.64029488e-01\n",
      " -8.18322282e-01 -8.58528698e-01 -8.36469462e-01 -8.34654744e-01\n",
      " -7.69339770e-01 -7.88037315e-01 -8.16135695e-01 -9.00817578e-01\n",
      " -9.23888297e-01 -8.64389345e-01 -8.84693362e-01 -7.93927711e-01\n",
      " -8.21654223e-01 -8.19869254e-01 -9.06767474e-01 -8.73537309e-01\n",
      " -8.93023216e-01 -8.49618730e-01 -8.15258086e-01 -8.38730422e-01\n",
      " -8.76839501e-01 -8.86314709e-01 -9.13907348e-01 -9.22638819e-01\n",
      " -9.07213716e-01 -8.67096547e-01 -8.28392479e-01 -8.25834024e-01\n",
      " -8.98392996e-01 -8.91297746e-01 -8.81867162e-01 -8.99062359e-01\n",
      " -8.75322278e-01 -7.51430585e-01 -8.51582196e-01 -9.17581408e-01\n",
      " -9.45679788e-01 -9.28082973e-01 -8.72555576e-01 -8.65966067e-01\n",
      " -8.07880216e-01 -8.12089766e-01 -9.02528173e-01 -9.17804529e-01\n",
      " -8.37674316e-01 -7.91919622e-01 -7.77506001e-01 -7.20104387e-01\n",
      " -7.02091079e-01 -8.03789663e-01 -7.25786537e-01 -6.53108567e-01\n",
      " -6.51011229e-01 -5.93550116e-01 -5.06294903e-01 -5.67697822e-01\n",
      " -5.69096047e-01 -6.02370836e-01 -4.90527681e-01 -4.35744021e-01\n",
      " -3.78387032e-01 -3.85512031e-01 -4.81736711e-01 -4.51793863e-01\n",
      " -5.10787074e-01 -3.14232287e-01 -3.14009166e-01 -2.90209585e-01\n",
      " -1.84539446e-01 -2.83039961e-01 -2.98732810e-01 -3.36975761e-01\n",
      " -1.92066064e-01 -1.84807192e-01 -6.52291732e-02 -1.32105995e-01\n",
      " -2.22574151e-01 -2.73029263e-01 -3.02972110e-01 -2.12518829e-01\n",
      " -1.51696025e-01 -1.76209593e-01 -8.52654453e-02 -2.20640435e-01\n",
      " -3.36291523e-01 -3.50258902e-01 -2.50598158e-01 -1.73234646e-01\n",
      " -1.76730209e-01 -1.77548320e-01 -3.10379730e-01 -4.97503933e-01\n",
      " -5.10623452e-01 -3.66323619e-01 -3.78089537e-01 -3.36440271e-01\n",
      " -2.91191318e-01 -3.61816573e-01 -4.62191305e-01 -5.11203567e-01\n",
      " -4.11170954e-01 -4.17343970e-01 -4.30850232e-01 -2.23139391e-01\n",
      " -4.49458530e-01 -5.89563686e-01 -6.70497136e-01 -5.54474180e-01\n",
      " -5.43570997e-01 -5.32310820e-01 -4.58591619e-01 -5.26063430e-01\n",
      " -6.78038628e-01 -6.68578295e-01 -5.88909198e-01 -5.64514628e-01\n",
      " -5.06964267e-01 -4.98619539e-01 -5.17436082e-01 -6.76610653e-01\n",
      " -6.75733043e-01 -5.45236967e-01 -6.02608832e-01 -6.44124225e-01\n",
      " -4.34851537e-01 -5.42291769e-01 -7.29817591e-01 -8.30698064e-01\n",
      " -8.17266175e-01 -6.70110393e-01 -6.78782365e-01 -4.77512285e-01\n",
      " -5.65555859e-01 -6.83988523e-01 -6.95620568e-01 -6.08573602e-01\n",
      " -6.24325949e-01 -5.19191301e-01 -4.60748456e-01 -5.50710871e-01\n",
      " -6.00719740e-01 -4.39358583e-01 -5.92761755e-01 -6.34663892e-01\n",
      " -4.83551429e-01 -4.03525339e-01 -5.16945216e-01 -6.15609353e-01\n",
      " -7.06434503e-01 -5.34720528e-01 -5.93713738e-01 -5.09701218e-01\n",
      " -3.70339798e-01 -4.52864845e-01 -6.64115873e-01 -6.19238789e-01\n",
      " -5.16781594e-01 -4.50246891e-01 -3.14157913e-01 -3.47566575e-01\n",
      " -3.66293870e-01 -5.00716877e-01 -5.68471308e-01 -4.25078834e-01\n",
      " -3.14024040e-01 -2.23258389e-01 -1.64756045e-01 -3.41378684e-01\n",
      " -4.36279512e-01 -1.91352076e-01 -2.73416006e-01 -2.64119295e-01\n",
      " -5.92644033e-02  4.50818835e-02  4.67627289e-02 -2.59984117e-01\n",
      " -1.98462201e-01 -3.23857518e-02 -2.38774017e-02  1.65626760e-01\n",
      "  2.99425028e-01  1.50067784e-01  3.72281495e-01  6.54007756e-02\n",
      "  7.12957618e-01  3.44852478e-01  7.39018159e-01  7.11767639e-01\n",
      "  7.64468836e-01  6.45575055e-01 -5.22286522e-02  9.60116264e-01\n",
      "  1.00725431e+00  1.23089599e+00  1.49825453e+00  1.34928403e+00\n",
      "  8.41281983e-01  1.19635685e+00  1.24075795e+00  1.38490903e+00\n",
      "  1.65626888e+00  1.80541787e+00  1.49548783e+00  9.79379050e-01\n",
      "  1.38065486e+00  1.44241477e+00  1.55504628e+00  5.33538529e-01\n",
      "  1.85448963e+00  1.14988817e+00  8.93432814e-01  1.13767601e+00\n",
      "  1.68877018e+00  1.84208410e+00  2.14497839e+00  2.29667097e+00\n",
      "  2.08858826e+00  1.46196017e+00  1.65467728e+00  2.23446482e+00\n",
      "  2.10074092e+00  2.28994759e+00  2.38614252e+00  2.07860731e+00\n",
      "  1.58525688e+00  1.80938943e+00  2.09958069e+00  2.38184372e+00\n",
      "  2.33842436e+00  2.50173411e+00  1.79744501e+00  1.56200766e+00\n",
      "  1.65060160e+00  1.79841187e+00  2.15860365e+00  1.85892231e+00\n",
      "  4.11729300e-01  2.05550684e+00  1.10327074e+00  1.30385658e+00\n",
      "  1.79832262e+00  2.10407286e+00  2.65531578e+00  1.25509719e+00\n",
      "  3.21529016e+00  1.82595989e+00  1.52238136e+00  2.24486226e+00\n",
      "  2.61798018e+00  3.09953495e+00  3.31264532e+00  2.65954020e+00\n",
      "  1.96932261e+00  1.95904417e+00  2.05461436e+00  2.21911409e+00\n",
      "  2.35499482e+00  2.46752221e+00  1.90079469e+00  1.42997949e+00\n",
      "  8.99114964e-01  1.26600038e+00  1.56171017e+00  1.66120729e+00\n",
      "  1.62208673e+00  1.39732944e+00  8.52110792e-01  9.31155149e-01\n",
      "  9.52678895e-01  1.11548290e+00  1.28325507e+00  1.28591765e+00\n",
      "  9.57870179e-01  5.18396046e-01  7.33722752e-01  5.04532790e-01\n",
      "  6.36025473e-01  6.49189616e-01  7.58459442e-01  4.52486082e-01\n",
      "  1.66638242e-01  8.34438327e-02  2.06621538e-01  2.31194605e-01\n",
      "  3.84211034e-01  2.90396062e-01  1.23248632e-01 -2.08353902e-01\n",
      " -3.84173305e-01 -3.14500032e-01 -1.52871129e-01 -1.33816590e-01\n",
      " -3.22816286e-02 -1.06744567e-01 -3.35518037e-01 -3.74311353e-01\n",
      " -1.24624002e-01 -7.87949342e-02 -3.44384656e-02 -3.90347597e-02\n",
      " -2.16713505e-01 -4.21137028e-01 -3.70116677e-01 -3.47908693e-01\n",
      " -1.94951763e-01 -1.79437411e-01 -1.99027441e-01 -3.19393821e-01\n",
      " -5.69408417e-01 -5.29975486e-01 -3.62277690e-01 -3.29151649e-01\n",
      " -2.60668355e-01 -2.78131298e-01 -3.97858064e-01 -6.18837171e-01\n",
      " -3.72883379e-01 -3.86553263e-01 -3.11584583e-01 -2.97051964e-01\n",
      " -2.72761517e-01 -3.52222368e-01 -6.79823596e-01 -4.49146160e-01\n",
      " -4.00580141e-01  9.78277043e-02 -1.85179060e-01 -4.22625778e-02\n",
      " -2.45183753e-01 -5.45430339e-01 -1.78143309e-01 -2.83977070e-01\n",
      " -2.00395917e-01 -1.74068907e-02 -1.39811109e-01 -2.46195235e-01\n",
      " -6.56604130e-01 -8.08922723e-02 -2.88707236e-01 -7.90180553e-02\n",
      " -2.75527377e-03  5.77551603e-02 -1.73428017e-01 -5.09284726e-01\n",
      " -1.79496910e-01 -3.33674845e-02 -6.97064693e-02 -9.43241607e-02\n",
      " -1.02980417e-03 -4.01026383e-01 -5.61257060e-01 -1.95710375e-01\n",
      " -2.90849199e-01 -2.45674619e-01 -2.05602075e-01 -2.56384431e-01\n",
      " -3.96653210e-01 -7.03950421e-01 -5.03096835e-01 -4.44088749e-01\n",
      " -3.72675132e-01 -3.24361983e-01 -3.30311878e-01 -5.07068390e-01\n",
      " -7.51861952e-01 -4.57684260e-01 -5.98265408e-01 -5.22181123e-01\n",
      " -4.83447306e-01 -4.87136241e-01 -6.84330642e-01 -8.69387257e-01\n",
      " -6.61676416e-01 -6.94817332e-01 -6.60322815e-01 -6.15311858e-01\n",
      " -5.75551683e-01 -7.58049843e-01 -9.38346542e-01 -7.72493214e-01\n",
      " -7.86564716e-01 -7.59329071e-01 -7.45391441e-01 -7.75483036e-01\n",
      " -8.90598633e-01 -9.97116632e-01 -8.22026091e-01 -8.58082456e-01\n",
      " -8.31828544e-01 -7.88438933e-01 -8.70562361e-01 -1.00904617e+00\n",
      " -1.09149684e+00 -1.10665420e+00 -8.65504950e-01 -9.43165957e-01\n",
      " -9.09370553e-01 -9.42972586e-01 -9.81751028e-01 -1.11012002e+00\n",
      " -9.69062876e-01 -1.00318553e+00 -9.13327233e-01 -9.79966059e-01\n",
      " -8.26667010e-01 -1.06528756e+00 -1.11781026e+00 -1.01083114e+00\n",
      " -1.03338124e+00 -1.00785619e+00 -1.03634132e+00 -8.79264083e-01\n",
      " -1.06830713e+00 -1.12823745e+00 -1.02067822e+00 -1.03552321e+00\n",
      " -1.00126668e+00 -9.89828010e-01] \n",
      "\n"
     ]
    }
   ],
   "source": [
    "# Convert to numpy array\n",
    "india_cases_train, india_cases_test = india_cases_train.to_numpy().flatten(), india_cases_test.to_numpy()\n",
    "usa_cases_train, usa_cases_test = usa_cases_train.to_numpy().flatten(), usa_cases_test.to_numpy()\n",
    "\n",
    "# Visualize outputs\n",
    "print('India Cases:\\n',india_cases_train,'\\n')\n",
    "print('USA Cases:\\n',usa_cases_train,'\\n')"
   ]
  },
  {
   "cell_type": "code",
   "execution_count": 13,
   "id": "80961213",
   "metadata": {},
   "outputs": [],
   "source": [
    "# univariate data preparation\n",
    "from numpy import array\n",
    "\n",
    "# split a univariate sequence into samples\n",
    "def split_sequence(sequence, n_steps):\n",
    "    X, y = list(), list()\n",
    "    for i in range(len(sequence)):\n",
    "        # find the end of this pattern\n",
    "        end_ix = i + n_steps\n",
    "        # check if we are beyond the sequence\n",
    "        if end_ix > len(sequence)-1:\n",
    "            break\n",
    "        # gather input and output parts of the pattern\n",
    "        seq_x, seq_y = sequence[i:end_ix], sequence[end_ix]\n",
    "        X.append(seq_x)\n",
    "        y.append(seq_y)\n",
    "    return array(X), array(y)"
   ]
  },
  {
   "cell_type": "code",
   "execution_count": 14,
   "id": "6a9fb009",
   "metadata": {},
   "outputs": [
    {
     "name": "stdout",
     "output_type": "stream",
     "text": [
      "[-0.68799512 -0.68799512 -0.68798255] -0.687982551549953\n",
      "[-0.68799512 -0.68798255 -0.68798255] -0.6879951169346211\n",
      "[-0.68798255 -0.68798255 -0.68799512] -0.6879951169346211\n",
      "[-0.68798255 -0.68799512 -0.68799512] -0.6879951169346211\n",
      "[-0.68799512 -0.68799512 -0.68799512] -0.6879951169346211\n"
     ]
    }
   ],
   "source": [
    "# choose a number of time steps\n",
    "n_steps = 3\n",
    "# split into samples\n",
    "india_cases_train_X, india_cases_train_y = split_sequence(india_cases_train, n_steps)\n",
    "india_cases_test_X, india_cases_test_y = split_sequence(india_cases_test, n_steps)\n",
    "\n",
    "\n",
    "# summarize the data\n",
    "for i in range(0,5):\n",
    "    print(india_cases_train_X[i], india_cases_train_y[i])"
   ]
  },
  {
   "cell_type": "code",
   "execution_count": 15,
   "id": "36f0269a",
   "metadata": {},
   "outputs": [
    {
     "name": "stdout",
     "output_type": "stream",
     "text": [
      "India Cases:\n",
      " [[[-0.68799512]\n",
      "  [-0.68799512]\n",
      "  [-0.68798255]]\n",
      "\n",
      " [[-0.68799512]\n",
      "  [-0.68798255]\n",
      "  [-0.68798255]]\n",
      "\n",
      " [[-0.68798255]\n",
      "  [-0.68798255]\n",
      "  [-0.68799512]]\n",
      "\n",
      " ...\n",
      "\n",
      " [[ 0.82649813]\n",
      "  [ 0.75023881]\n",
      "  [ 0.57653493]]\n",
      "\n",
      " [[ 0.75023881]\n",
      "  [ 0.57653493]\n",
      "  [ 0.39888553]]\n",
      "\n",
      " [[ 0.57653493]\n",
      "  [ 0.39888553]\n",
      "  [ 0.47550924]]] \n",
      "\n"
     ]
    }
   ],
   "source": [
    "# Reshape the data into [samples, timesteps, features]\n",
    "# univariate\n",
    "n_features = 1\n",
    "\n",
    "india_cases_train_X = india_cases_train_X.reshape((india_cases_train_X.shape[0], \n",
    "                                                   india_cases_train_X.shape[1], n_features))\n",
    "india_cases_test_X = india_cases_test_X.reshape((india_cases_test_X.shape[0], \n",
    "                                                 india_cases_test_X.shape[1], n_features))\n",
    "\n",
    "# Visualize outputs\n",
    "print('India Cases:\\n',india_cases_train_X,'\\n')"
   ]
  },
  {
   "cell_type": "markdown",
   "id": "f84142ab",
   "metadata": {},
   "source": [
    "<a name=model></a>\n",
    "## Model "
   ]
  },
  {
   "cell_type": "markdown",
   "id": "4a02b95e",
   "metadata": {},
   "source": [
    "### Univariate non-stacked"
   ]
  },
  {
   "cell_type": "code",
   "execution_count": 40,
   "id": "6209e75d",
   "metadata": {},
   "outputs": [],
   "source": [
    "from tensorflow.keras import Sequential\n",
    "from tensorflow.keras.layers import LSTM, Dense\n",
    "from tensorflow.keras.losses import MeanAbsolutePercentageError, MeanAbsoluteError\n",
    "from keras.wrappers.scikit_learn import KerasRegressor\n",
    "\n",
    "from sklearn.pipeline import Pipeline\n",
    "from sklearn.model_selection import GridSearchCV"
   ]
  },
  {
   "cell_type": "code",
   "execution_count": 41,
   "id": "5a3bf1a6",
   "metadata": {
    "scrolled": false
   },
   "outputs": [],
   "source": [
    "# Define the model\n",
    "def build_univariate_non_stacked(optimizer=\"adam\", lstm_nparams=100, n_steps=3, n_features=1):\n",
    "    model_uni = Sequential()\n",
    "    model_uni.add(LSTM(lstm_nparams, activation='relu', input_shape=(n_steps, n_features)))\n",
    "    model_uni.add(Dense(1))\n",
    "    model_uni.compile(optimizer=optimizer,loss='mae', metrics=[\"mae\"])\n",
    "    model_uni.summary()\n",
    "    return model_uni"
   ]
  },
  {
   "cell_type": "markdown",
   "id": "0bfbe78d",
   "metadata": {},
   "source": [
    "#### Grid Search"
   ]
  },
  {
   "cell_type": "code",
   "execution_count": 48,
   "id": "ba6dd043",
   "metadata": {},
   "outputs": [
    {
     "ename": "ValueError",
     "evalue": "score is not a legal parameter",
     "output_type": "error",
     "traceback": [
      "\u001b[0;31m---------------------------------------------------------------------------\u001b[0m",
      "\u001b[0;31mValueError\u001b[0m                                Traceback (most recent call last)",
      "\u001b[0;32m<ipython-input-48-3da3008c0a5c>\u001b[0m in \u001b[0;36m<module>\u001b[0;34m\u001b[0m\n\u001b[1;32m      1\u001b[0m \u001b[0;31m# Using KerasClassifier wrapper\u001b[0m\u001b[0;34m\u001b[0m\u001b[0;34m\u001b[0m\u001b[0;34m\u001b[0m\u001b[0m\n\u001b[0;32m----> 2\u001b[0;31m \u001b[0mkeras_estimator\u001b[0m \u001b[0;34m=\u001b[0m \u001b[0mKerasRegressor\u001b[0m\u001b[0;34m(\u001b[0m\u001b[0mbuild_fn\u001b[0m\u001b[0;34m=\u001b[0m\u001b[0mbuild_univariate_non_stacked\u001b[0m\u001b[0;34m,\u001b[0m \u001b[0mverbose\u001b[0m\u001b[0;34m=\u001b[0m\u001b[0;36m1\u001b[0m\u001b[0;34m,\u001b[0m \u001b[0mscore\u001b[0m\u001b[0;34m=\u001b[0m\u001b[0;34m\"mae\"\u001b[0m\u001b[0;34m)\u001b[0m\u001b[0;34m\u001b[0m\u001b[0;34m\u001b[0m\u001b[0m\n\u001b[0m",
      "\u001b[0;32m/usr/local/lib/python3.6/dist-packages/keras/wrappers/scikit_learn.py\u001b[0m in \u001b[0;36m__init__\u001b[0;34m(self, build_fn, **sk_params)\u001b[0m\n\u001b[1;32m     72\u001b[0m     \u001b[0mself\u001b[0m\u001b[0;34m.\u001b[0m\u001b[0mbuild_fn\u001b[0m \u001b[0;34m=\u001b[0m \u001b[0mbuild_fn\u001b[0m\u001b[0;34m\u001b[0m\u001b[0;34m\u001b[0m\u001b[0m\n\u001b[1;32m     73\u001b[0m     \u001b[0mself\u001b[0m\u001b[0;34m.\u001b[0m\u001b[0msk_params\u001b[0m \u001b[0;34m=\u001b[0m \u001b[0msk_params\u001b[0m\u001b[0;34m\u001b[0m\u001b[0;34m\u001b[0m\u001b[0m\n\u001b[0;32m---> 74\u001b[0;31m     \u001b[0mself\u001b[0m\u001b[0;34m.\u001b[0m\u001b[0mcheck_params\u001b[0m\u001b[0;34m(\u001b[0m\u001b[0msk_params\u001b[0m\u001b[0;34m)\u001b[0m\u001b[0;34m\u001b[0m\u001b[0;34m\u001b[0m\u001b[0m\n\u001b[0m\u001b[1;32m     75\u001b[0m \u001b[0;34m\u001b[0m\u001b[0m\n\u001b[1;32m     76\u001b[0m   \u001b[0;32mdef\u001b[0m \u001b[0mcheck_params\u001b[0m\u001b[0;34m(\u001b[0m\u001b[0mself\u001b[0m\u001b[0;34m,\u001b[0m \u001b[0mparams\u001b[0m\u001b[0;34m)\u001b[0m\u001b[0;34m:\u001b[0m\u001b[0;34m\u001b[0m\u001b[0;34m\u001b[0m\u001b[0m\n",
      "\u001b[0;32m/usr/local/lib/python3.6/dist-packages/keras/wrappers/scikit_learn.py\u001b[0m in \u001b[0;36mcheck_params\u001b[0;34m(self, params)\u001b[0m\n\u001b[1;32m    101\u001b[0m       \u001b[0;32melse\u001b[0m\u001b[0;34m:\u001b[0m\u001b[0;34m\u001b[0m\u001b[0;34m\u001b[0m\u001b[0m\n\u001b[1;32m    102\u001b[0m         \u001b[0;32mif\u001b[0m \u001b[0mparams_name\u001b[0m \u001b[0;34m!=\u001b[0m \u001b[0;34m'nb_epoch'\u001b[0m\u001b[0;34m:\u001b[0m\u001b[0;34m\u001b[0m\u001b[0;34m\u001b[0m\u001b[0m\n\u001b[0;32m--> 103\u001b[0;31m           \u001b[0;32mraise\u001b[0m \u001b[0mValueError\u001b[0m\u001b[0;34m(\u001b[0m\u001b[0;34m'{} is not a legal parameter'\u001b[0m\u001b[0;34m.\u001b[0m\u001b[0mformat\u001b[0m\u001b[0;34m(\u001b[0m\u001b[0mparams_name\u001b[0m\u001b[0;34m)\u001b[0m\u001b[0;34m)\u001b[0m\u001b[0;34m\u001b[0m\u001b[0;34m\u001b[0m\u001b[0m\n\u001b[0m\u001b[1;32m    104\u001b[0m \u001b[0;34m\u001b[0m\u001b[0m\n\u001b[1;32m    105\u001b[0m   \u001b[0;32mdef\u001b[0m \u001b[0mget_params\u001b[0m\u001b[0;34m(\u001b[0m\u001b[0mself\u001b[0m\u001b[0;34m,\u001b[0m \u001b[0;34m**\u001b[0m\u001b[0mparams\u001b[0m\u001b[0;34m)\u001b[0m\u001b[0;34m:\u001b[0m  \u001b[0;31m# pylint: disable=unused-argument\u001b[0m\u001b[0;34m\u001b[0m\u001b[0;34m\u001b[0m\u001b[0m\n",
      "\u001b[0;31mValueError\u001b[0m: score is not a legal parameter"
     ]
    }
   ],
   "source": [
    "# Using KerasClassifier wrapper \n",
    "keras_estimator = KerasRegressor(build_fn=build_univariate_non_stacked, verbose=1)"
   ]
  },
  {
   "cell_type": "code",
   "execution_count": 60,
   "id": "8e65a5c1",
   "metadata": {},
   "outputs": [],
   "source": [
    "# Defining parameters for the gridserach\n",
    "param_grid = {\n",
    "#     'epochs': [10,100,300,],\n",
    "    'lstm_nparams':[15,50],\n",
    "#     'n_steps': [3, 6, 15],\n",
    "#     'optimizer': ['RMSprop','Adam','Adamax','sgd']\n",
    "}\n",
    "\n",
    "kfold_splits = 5"
   ]
  },
  {
   "cell_type": "code",
   "execution_count": 64,
   "id": "1829694f",
   "metadata": {},
   "outputs": [],
   "source": [
    "# Defining GridSearch\n",
    "grid = GridSearchCV(estimator=keras_estimator,\n",
    "                    verbose=-1,\n",
    "                    return_train_score=True,\n",
    "                    cv=kfold_splits,\n",
    "                    param_grid=param_grid,\n",
    "#                     scoring=\"neg_mean_absolute_error\",\n",
    ")"
   ]
  },
  {
   "cell_type": "code",
   "execution_count": null,
   "id": "bcc73262",
   "metadata": {
    "scrolled": true
   },
   "outputs": [
    {
     "name": "stdout",
     "output_type": "stream",
     "text": [
      "WARNING:tensorflow:Layer lstm_1125 will not use cuDNN kernels since it doesn't meet the criteria. It will use a generic GPU kernel as fallback when running on GPU.\n",
      "Model: \"sequential_756\"\n",
      "_________________________________________________________________\n",
      "Layer (type)                 Output Shape              Param #   \n",
      "=================================================================\n",
      "lstm_1125 (LSTM)             (None, 15)                1020      \n",
      "_________________________________________________________________\n",
      "dense_756 (Dense)            (None, 1)                 16        \n",
      "=================================================================\n",
      "Total params: 1,036\n",
      "Trainable params: 1,036\n",
      "Non-trainable params: 0\n",
      "_________________________________________________________________\n",
      "13/13 [==============================] - 1s 4ms/step - loss: 0.7573 - mae: 0.7573\n",
      "4/4 [==============================] - 0s 2ms/step - loss: 0.7643 - mae: 0.7643\n",
      "13/13 [==============================] - 0s 1ms/step - loss: 0.7321 - mae: 0.7321\n",
      "WARNING:tensorflow:Layer lstm_1126 will not use cuDNN kernels since it doesn't meet the criteria. It will use a generic GPU kernel as fallback when running on GPU.\n",
      "Model: \"sequential_757\"\n",
      "_________________________________________________________________\n",
      "Layer (type)                 Output Shape              Param #   \n",
      "=================================================================\n",
      "lstm_1126 (LSTM)             (None, 15)                1020      \n",
      "_________________________________________________________________\n",
      "dense_757 (Dense)            (None, 1)                 16        \n",
      "=================================================================\n",
      "Total params: 1,036\n",
      "Trainable params: 1,036\n",
      "Non-trainable params: 0\n",
      "_________________________________________________________________\n",
      "13/13 [==============================] - 1s 4ms/step - loss: 0.8093 - mae: 0.8093\n",
      "4/4 [==============================] - 0s 2ms/step - loss: 0.3719 - mae: 0.3719\n",
      "13/13 [==============================] - 0s 2ms/step - loss: 0.7836 - mae: 0.7836\n",
      "WARNING:tensorflow:Layer lstm_1127 will not use cuDNN kernels since it doesn't meet the criteria. It will use a generic GPU kernel as fallback when running on GPU.\n",
      "Model: \"sequential_758\"\n",
      "_________________________________________________________________\n",
      "Layer (type)                 Output Shape              Param #   \n",
      "=================================================================\n",
      "lstm_1127 (LSTM)             (None, 15)                1020      \n",
      "_________________________________________________________________\n",
      "dense_758 (Dense)            (None, 1)                 16        \n",
      "=================================================================\n",
      "Total params: 1,036\n",
      "Trainable params: 1,036\n",
      "Non-trainable params: 0\n",
      "_________________________________________________________________\n",
      "13/13 [==============================] - 1s 4ms/step - loss: 0.7143 - mae: 0.7143\n",
      "4/4 [==============================] - 0s 2ms/step - loss: 0.2320 - mae: 0.2320\n",
      "13/13 [==============================] - 0s 2ms/step - loss: 0.6815 - mae: 0.6815\n",
      "WARNING:tensorflow:Layer lstm_1128 will not use cuDNN kernels since it doesn't meet the criteria. It will use a generic GPU kernel as fallback when running on GPU.\n",
      "Model: \"sequential_759\"\n",
      "_________________________________________________________________\n",
      "Layer (type)                 Output Shape              Param #   \n",
      "=================================================================\n",
      "lstm_1128 (LSTM)             (None, 15)                1020      \n",
      "_________________________________________________________________\n",
      "dense_759 (Dense)            (None, 1)                 16        \n",
      "=================================================================\n",
      "Total params: 1,036\n",
      "Trainable params: 1,036\n",
      "Non-trainable params: 0\n",
      "_________________________________________________________________\n",
      "13/13 [==============================] - 1s 5ms/step - loss: 0.6369 - mae: 0.6369\n",
      "4/4 [==============================] - 0s 2ms/step - loss: 0.4582 - mae: 0.4582\n",
      "13/13 [==============================] - 0s 2ms/step - loss: 0.6022 - mae: 0.6022\n",
      "WARNING:tensorflow:Layer lstm_1129 will not use cuDNN kernels since it doesn't meet the criteria. It will use a generic GPU kernel as fallback when running on GPU.\n",
      "Model: \"sequential_760\"\n",
      "_________________________________________________________________\n",
      "Layer (type)                 Output Shape              Param #   \n",
      "=================================================================\n",
      "lstm_1129 (LSTM)             (None, 15)                1020      \n",
      "_________________________________________________________________\n",
      "dense_760 (Dense)            (None, 1)                 16        \n",
      "=================================================================\n",
      "Total params: 1,036\n",
      "Trainable params: 1,036\n",
      "Non-trainable params: 0\n",
      "_________________________________________________________________\n",
      "13/13 [==============================] - 1s 4ms/step - loss: 0.4077 - mae: 0.4077\n",
      "4/4 [==============================] - 0s 2ms/step - loss: 1.7104 - mae: 1.7104\n",
      "13/13 [==============================] - 0s 1ms/step - loss: 0.3856 - mae: 0.3856\n",
      "WARNING:tensorflow:Layer lstm_1130 will not use cuDNN kernels since it doesn't meet the criteria. It will use a generic GPU kernel as fallback when running on GPU.\n",
      "Model: \"sequential_761\"\n",
      "_________________________________________________________________\n",
      "Layer (type)                 Output Shape              Param #   \n",
      "=================================================================\n",
      "lstm_1130 (LSTM)             (None, 50)                10400     \n",
      "_________________________________________________________________\n",
      "dense_761 (Dense)            (None, 1)                 51        \n",
      "=================================================================\n",
      "Total params: 10,451\n",
      "Trainable params: 10,451\n",
      "Non-trainable params: 0\n",
      "_________________________________________________________________\n",
      "13/13 [==============================] - 1s 4ms/step - loss: 0.6942 - mae: 0.6942\n",
      "4/4 [==============================] - 0s 2ms/step - loss: 0.5851 - mae: 0.5851\n",
      "13/13 [==============================] - 0s 1ms/step - loss: 0.6459 - mae: 0.6459\n",
      "WARNING:tensorflow:Layer lstm_1131 will not use cuDNN kernels since it doesn't meet the criteria. It will use a generic GPU kernel as fallback when running on GPU.\n",
      "Model: \"sequential_762\"\n",
      "_________________________________________________________________\n",
      "Layer (type)                 Output Shape              Param #   \n",
      "=================================================================\n",
      "lstm_1131 (LSTM)             (None, 50)                10400     \n",
      "_________________________________________________________________\n",
      "dense_762 (Dense)            (None, 1)                 51        \n",
      "=================================================================\n",
      "Total params: 10,451\n",
      "Trainable params: 10,451\n",
      "Non-trainable params: 0\n",
      "_________________________________________________________________\n",
      "13/13 [==============================] - 1s 4ms/step - loss: 0.7332 - mae: 0.7332\n",
      "4/4 [==============================] - 0s 1ms/step - loss: 0.3486 - mae: 0.3486\n",
      "13/13 [==============================] - 0s 2ms/step - loss: 0.6820 - mae: 0.6820\n",
      "WARNING:tensorflow:Layer lstm_1132 will not use cuDNN kernels since it doesn't meet the criteria. It will use a generic GPU kernel as fallback when running on GPU.\n",
      "Model: \"sequential_763\"\n",
      "_________________________________________________________________\n",
      "Layer (type)                 Output Shape              Param #   \n",
      "=================================================================\n",
      "lstm_1132 (LSTM)             (None, 50)                10400     \n",
      "_________________________________________________________________\n",
      "dense_763 (Dense)            (None, 1)                 51        \n",
      "=================================================================\n",
      "Total params: 10,451\n",
      "Trainable params: 10,451\n",
      "Non-trainable params: 0\n",
      "_________________________________________________________________\n",
      "13/13 [==============================] - 1s 4ms/step - loss: 0.7703 - mae: 0.7703\n",
      "4/4 [==============================] - 0s 2ms/step - loss: 0.2194 - mae: 0.2194\n"
     ]
    },
    {
     "name": "stdout",
     "output_type": "stream",
     "text": [
      "13/13 [==============================] - 0s 2ms/step - loss: 0.7156 - mae: 0.7156\n",
      "WARNING:tensorflow:Layer lstm_1133 will not use cuDNN kernels since it doesn't meet the criteria. It will use a generic GPU kernel as fallback when running on GPU.\n",
      "Model: \"sequential_764\"\n",
      "_________________________________________________________________\n",
      "Layer (type)                 Output Shape              Param #   \n",
      "=================================================================\n",
      "lstm_1133 (LSTM)             (None, 50)                10400     \n",
      "_________________________________________________________________\n",
      "dense_764 (Dense)            (None, 1)                 51        \n",
      "=================================================================\n",
      "Total params: 10,451\n",
      "Trainable params: 10,451\n",
      "Non-trainable params: 0\n",
      "_________________________________________________________________\n",
      "13/13 [==============================] - 1s 4ms/step - loss: 0.7043 - mae: 0.7043\n",
      "4/4 [==============================] - 0s 2ms/step - loss: 0.3832 - mae: 0.3832\n",
      "13/13 [==============================] - 0s 1ms/step - loss: 0.6505 - mae: 0.6505\n",
      "WARNING:tensorflow:Layer lstm_1134 will not use cuDNN kernels since it doesn't meet the criteria. It will use a generic GPU kernel as fallback when running on GPU.\n",
      "Model: \"sequential_765\"\n",
      "_________________________________________________________________\n",
      "Layer (type)                 Output Shape              Param #   \n",
      "=================================================================\n",
      "lstm_1134 (LSTM)             (None, 50)                10400     \n",
      "_________________________________________________________________\n",
      "dense_765 (Dense)            (None, 1)                 51        \n",
      "=================================================================\n",
      "Total params: 10,451\n",
      "Trainable params: 10,451\n",
      "Non-trainable params: 0\n",
      "_________________________________________________________________\n",
      "13/13 [==============================] - 1s 4ms/step - loss: 0.3986 - mae: 0.3986\n",
      "4/4 [==============================] - 0s 2ms/step - loss: 1.6617 - mae: 1.6617\n",
      "13/13 [==============================] - 0s 2ms/step - loss: 0.3641 - mae: 0.3641\n",
      "WARNING:tensorflow:Layer lstm_1135 will not use cuDNN kernels since it doesn't meet the criteria. It will use a generic GPU kernel as fallback when running on GPU.\n"
     ]
    }
   ],
   "source": [
    "# Fitting GridSearch\n",
    "grid_result = grid.fit(india_cases_train_X, india_cases_train_y, )\n",
    "\n",
    "# summarize results\n",
    "print(\"Best: %f using %s\" % (grid_result.best_score_, grid_result.best_params_))\n",
    "means = grid_result.cv_results_['mean_test_score']\n",
    "stds = grid_result.cv_results_['std_test_score']\n",
    "params = grid_result.cv_results_['params']\n",
    "for mean, stdev, param in zip(means, stds, params):\n",
    "    print(\"%f (%f) with: %r\" % (mean, stdev, param))"
   ]
  },
  {
   "cell_type": "code",
   "execution_count": null,
   "id": "0a61dcc8",
   "metadata": {},
   "outputs": [],
   "source": [
    "# Writing the gridsearch results to file\n",
    "file1 = open(\"univariate_non_stacked_india.txt\", \"w\")\n",
    "file1.write(\"mean,stdev,pram\")\n",
    "means = grid_result.cv_results_['mean_test_score']\n",
    "stds = grid_result.cv_results_['std_test_score']\n",
    "params = grid_result.cv_results_['params']\n",
    "for mean, stdev, param in zip(means, stds, params):\n",
    "    file1.write(\"%f,%f,%r\" % (mean, stdev, param))\n",
    "    file1.write(\"\\n\")\n",
    "file1.close()"
   ]
  },
  {
   "cell_type": "code",
   "execution_count": 63,
   "id": "ecc006cf",
   "metadata": {
    "scrolled": true
   },
   "outputs": [
    {
     "data": {
      "text/plain": [
       "['mean_fit_time',\n",
       " 'mean_score_time',\n",
       " 'mean_test_score',\n",
       " 'mean_train_score',\n",
       " 'param_lstm_nparams',\n",
       " 'params',\n",
       " 'rank_test_score',\n",
       " 'split0_test_score',\n",
       " 'split0_train_score',\n",
       " 'split1_test_score',\n",
       " 'split1_train_score',\n",
       " 'split2_test_score',\n",
       " 'split2_train_score',\n",
       " 'split3_test_score',\n",
       " 'split3_train_score',\n",
       " 'split4_test_score',\n",
       " 'split4_train_score',\n",
       " 'std_fit_time',\n",
       " 'std_score_time',\n",
       " 'std_test_score',\n",
       " 'std_train_score']"
      ]
     },
     "execution_count": 63,
     "metadata": {},
     "output_type": "execute_result"
    }
   ],
   "source": [
    "sorted(grid_result.cv_results_.keys())"
   ]
  },
  {
   "cell_type": "code",
   "execution_count": 59,
   "id": "98cd7b86",
   "metadata": {},
   "outputs": [
    {
     "data": {
      "text/plain": [
       "array([-0.71060584, -0.65173599])"
      ]
     },
     "execution_count": 59,
     "metadata": {},
     "output_type": "execute_result"
    }
   ],
   "source": [
    "grid_result.cv_results_['split2_train_score']"
   ]
  },
  {
   "cell_type": "markdown",
   "id": "31edcef3",
   "metadata": {},
   "source": [
    "### Univariate stacked "
   ]
  },
  {
   "cell_type": "code",
   "execution_count": null,
   "id": "2fca1f0d",
   "metadata": {},
   "outputs": [],
   "source": [
    "# Define the model\n",
    "def build_univariate_stacked(optimizer=\"adam\",lstm_nparams_l1=100, lstm_nparams_l2=150, n_steps=3, n_features=1):\n",
    "    model_uni_stacked = Sequential()\n",
    "    model_uni_stacked.add(LSTM(lstm_nparams_l1, activation='relu', return_sequences=True, input_shape=(n_steps, n_features)))\n",
    "    model_uni_stacked.add(LSTM(lstm_nparams_l2, activation='relu'))\n",
    "    model_uni_stacked.add(Dense(1))\n",
    "    model_uni_stacked.compile(optimizer=optimizer,loss='mae')\n",
    "    model_uni_stacked.summary()\n",
    "    return model_uni_stacked"
   ]
  },
  {
   "cell_type": "markdown",
   "id": "31103e54",
   "metadata": {},
   "source": [
    "#### Grid Search"
   ]
  },
  {
   "cell_type": "code",
   "execution_count": null,
   "id": "07d090ad",
   "metadata": {},
   "outputs": [],
   "source": [
    "# Using KerasClassifier wrapper \n",
    "keras_estimator = KerasRegressor(build_fn=build_univariate_stacked, verbose=1)"
   ]
  },
  {
   "cell_type": "code",
   "execution_count": null,
   "id": "d5796d5c",
   "metadata": {},
   "outputs": [],
   "source": [
    "# Defining parameters for the gridserach\n",
    "param_grid = {\n",
    "    'epochs': [10,100,300,],\n",
    "    'lstm_nparams_l1':[15,50,100,150],\n",
    "    'lstm_nparams_l2':[15,50,100,150],\n",
    "    'n_steps': [3, 6, 15],\n",
    "#     'optimizer': ['RMSprop','Adam','Adamax','sgd']\n",
    "}\n",
    "\n",
    "kfold_splits = 5"
   ]
  },
  {
   "cell_type": "code",
   "execution_count": null,
   "id": "4ac03a3a",
   "metadata": {},
   "outputs": [],
   "source": [
    "# Defining GridSearch\n",
    "grid = GridSearchCV(estimator=keras_estimator,\n",
    "                    verbose=-1,\n",
    "                    return_train_score=True,\n",
    "                    cv=kfold_splits,\n",
    "                    param_grid=param_grid,\n",
    "                    scoring=\"neg_mean_absolute_error\",\n",
    ")"
   ]
  },
  {
   "cell_type": "code",
   "execution_count": null,
   "id": "e1044188",
   "metadata": {
    "scrolled": true
   },
   "outputs": [],
   "source": [
    "# Fitting GridSearch\n",
    "grid_result = grid.fit(india_cases_train_X, india_cases_train_y, )\n",
    "\n",
    "# summarize results\n",
    "print(\"Best: %f using %s\" % (grid_result.best_score_, grid_result.best_params_))\n",
    "means = grid_result.cv_results_['mean_test_score']\n",
    "stds = grid_result.cv_results_['std_test_score']\n",
    "params = grid_result.cv_results_['params']\n",
    "for mean, stdev, param in zip(means, stds, params):\n",
    "    print(\"%f (%f) with: %r\" % (mean, stdev, param))"
   ]
  },
  {
   "cell_type": "code",
   "execution_count": null,
   "id": "d547763e",
   "metadata": {},
   "outputs": [],
   "source": [
    "# Writing the gridsearch results to file\n",
    "file1 = open(\"univariate_stacked_india.txt\", \"w\")\n",
    "file1.write(\"Best: %f using %s\" % (grid_result.best_score_, grid_result.best_params_))\n",
    "file1.write(\"\\n\")\n",
    "means = grid_result.cv_results_['mean_test_score']\n",
    "stds = grid_result.cv_results_['std_test_score']\n",
    "params = grid_result.cv_results_['params']\n",
    "for mean, stdev, param in zip(means, stds, params):\n",
    "    file1.write(\"%f (%f) with: %r\" % (mean, stdev, param))\n",
    "    file1.write(\"\\n\")\n",
    "file1.close()"
   ]
  },
  {
   "cell_type": "markdown",
   "id": "384f9fbe",
   "metadata": {},
   "source": [
    "## Multivariate "
   ]
  },
  {
   "cell_type": "code",
   "execution_count": null,
   "id": "826f821c",
   "metadata": {},
   "outputs": [],
   "source": [
    "# Define the model\n",
    "model_uni = Sequential()\n",
    "model_uni.add(LSTM(50, activation='relu', input_shape=(n_steps, n_features)))\n",
    "model_uni.add(Dense(1))\n",
    "model_uni.compile(optimizer='adam',loss='mae')\n",
    "model_uni.summary()"
   ]
  },
  {
   "cell_type": "markdown",
   "id": "0b153b4b",
   "metadata": {},
   "source": [
    "<a name=train></a>\n",
    "## Train "
   ]
  },
  {
   "cell_type": "code",
   "execution_count": null,
   "id": "0c1eb46a",
   "metadata": {},
   "outputs": [],
   "source": [
    "# Tensorboard callback\n",
    "logdir = os.path.join(parentDir+\"/logs\", datetime.datetime.now().strftime(\"%Y%m%d-%H%M%S\"))\n",
    "tensorboard_callback = tf.keras.callbacks.TensorBoard(logdir, histogram_freq=1)"
   ]
  },
  {
   "cell_type": "markdown",
   "id": "7ecefd7e",
   "metadata": {},
   "source": [
    "### Univariate non-stacked"
   ]
  },
  {
   "cell_type": "code",
   "execution_count": null,
   "id": "e165ffb4",
   "metadata": {
    "scrolled": true
   },
   "outputs": [],
   "source": [
    "# Fit the model\n",
    "model_uni = build_univariate_non_stacked()\n",
    "model_uni.fit(india_cases_train_X,\n",
    "          india_cases_train_y, \n",
    "          validation_data=(india_cases_test_X, india_cases_test_y),\n",
    "          epochs=500,\n",
    "          callbacks=[tensorboard_callback])\n",
    "\n",
    "model_uni.save('univar_1_50.h5')"
   ]
  },
  {
   "cell_type": "markdown",
   "id": "8d2e5cb8",
   "metadata": {},
   "source": [
    "### Univariate stacked "
   ]
  },
  {
   "cell_type": "code",
   "execution_count": null,
   "id": "746c30ca",
   "metadata": {
    "scrolled": true
   },
   "outputs": [],
   "source": [
    "# Fit the model\n",
    "model_uni_stacked.fit(india_cases_train_X,\n",
    "          india_cases_train_y, \n",
    "          validation_data=(india_cases_test_X, india_cases_test_y),\n",
    "          epochs=500,\n",
    "          callbacks=[tensorboard_callback])\n",
    "\n",
    "model_uni_stacked.save('univar_2_50.h5')"
   ]
  },
  {
   "cell_type": "markdown",
   "id": "54a57a4e",
   "metadata": {},
   "source": [
    "<a name=predict></a>\n",
    "## Predict"
   ]
  },
  {
   "cell_type": "code",
   "execution_count": null,
   "id": "36e7445e",
   "metadata": {},
   "outputs": [],
   "source": [
    "india_cases_test_X"
   ]
  },
  {
   "cell_type": "markdown",
   "id": "ddad0ce4",
   "metadata": {},
   "source": [
    "### Univariate "
   ]
  },
  {
   "cell_type": "code",
   "execution_count": null,
   "id": "4d56c3f1",
   "metadata": {
    "scrolled": true
   },
   "outputs": [],
   "source": [
    "x_input = np.array(india_cases_test_X)\n",
    "print(x_input)\n",
    "yhat = model_uni.predict(x_input)\n",
    "print(yhat)"
   ]
  },
  {
   "cell_type": "code",
   "execution_count": null,
   "id": "73816cb4",
   "metadata": {},
   "outputs": [],
   "source": [
    "# Reversing Z-score normalization\n",
    "\n",
    "india_cases_df = (india_cases_df-india_cases_mean)/india_cases_std\n",
    "usa_cases_df = (usa_cases_df-usa_cases_mean)/usa_cases_std\n",
    "\n",
    "x_input_scaled = india_cases_std*x_input+india_cases_mean\n",
    "yhat_scaled = india_cases_std*yhat+india_cases_mean"
   ]
  },
  {
   "cell_type": "markdown",
   "id": "9dc16329",
   "metadata": {},
   "source": [
    "#### Plot"
   ]
  },
  {
   "cell_type": "code",
   "execution_count": null,
   "id": "4246121d",
   "metadata": {},
   "outputs": [],
   "source": [
    "def plot_fore_test(test, fore, title):\n",
    "    \n",
    "    fig, ax = plt.subplots()\n",
    "    fig.set_size_inches(7, 7)\n",
    "\n",
    "    ax.plot(test, color='blue', label='Test')\n",
    "    ax.plot(fore, color='red', label='Forecast')\n",
    "    ax.legend(loc='best')\n",
    "    plt.title(title)\n",
    "    plt.show()"
   ]
  },
  {
   "cell_type": "code",
   "execution_count": null,
   "id": "d4dae349",
   "metadata": {},
   "outputs": [],
   "source": [
    "plot_fore_test(x_input_scaled, yhat_scaled, title='Daily cases')"
   ]
  },
  {
   "cell_type": "markdown",
   "id": "e9275375",
   "metadata": {},
   "source": [
    "### Univariate stacked "
   ]
  },
  {
   "cell_type": "markdown",
   "id": "6b710285",
   "metadata": {},
   "source": [
    "### Univariate "
   ]
  },
  {
   "cell_type": "code",
   "execution_count": null,
   "id": "cb583c53",
   "metadata": {},
   "outputs": [],
   "source": [
    "x_input = np.array(india_cases_test_X)\n",
    "print(x_input)\n",
    "yhat_stacked = model_uni_stacked.predict(x_input)\n",
    "print(yhat)"
   ]
  },
  {
   "cell_type": "markdown",
   "id": "db0bb151",
   "metadata": {},
   "source": [
    "## Evaluate"
   ]
  },
  {
   "cell_type": "markdown",
   "id": "c9e6821b",
   "metadata": {},
   "source": [
    "### Univariate "
   ]
  },
  {
   "cell_type": "code",
   "execution_count": null,
   "id": "34561aec",
   "metadata": {
    "scrolled": false
   },
   "outputs": [],
   "source": [
    "mape = MeanAbsolutePercentageError()\n",
    "mape(india_cases_test_y, yhat).numpy()"
   ]
  },
  {
   "cell_type": "code",
   "execution_count": null,
   "id": "50fcbf0a",
   "metadata": {},
   "outputs": [],
   "source": [
    "mae = MeanAbsoluteError()\n",
    "mae(india_cases_test_y, yhat).numpy()"
   ]
  },
  {
   "cell_type": "markdown",
   "id": "38bf82b6",
   "metadata": {},
   "source": [
    "### Univariate stacked "
   ]
  },
  {
   "cell_type": "code",
   "execution_count": null,
   "id": "4808f077",
   "metadata": {
    "scrolled": true
   },
   "outputs": [],
   "source": [
    "mape(india_cases_test_y, yhat_stacked).numpy()"
   ]
  },
  {
   "cell_type": "code",
   "execution_count": null,
   "id": "436791dd",
   "metadata": {},
   "outputs": [],
   "source": []
  }
 ],
 "metadata": {
  "kernelspec": {
   "display_name": "Python 3",
   "language": "python",
   "name": "python3"
  },
  "language_info": {
   "codemirror_mode": {
    "name": "ipython",
    "version": 3
   },
   "file_extension": ".py",
   "mimetype": "text/x-python",
   "name": "python",
   "nbconvert_exporter": "python",
   "pygments_lexer": "ipython3",
   "version": "3.6.9"
  }
 },
 "nbformat": 4,
 "nbformat_minor": 5
}
