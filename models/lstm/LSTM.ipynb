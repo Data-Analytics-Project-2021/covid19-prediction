{
 "cells": [
  {
   "cell_type": "markdown",
   "id": "0f8c1478",
   "metadata": {},
   "source": [
    "# LSTM "
   ]
  },
  {
   "cell_type": "markdown",
   "id": "2cf7bb52",
   "metadata": {},
   "source": [
    "## Outline\n",
    "1. [Imports](#imports)\n",
    "2. [Data](#data)\n",
    "3. [Model](#model)\n",
    "5. [Train](#train)\n",
    "6. [Predict](#predict)"
   ]
  },
  {
   "cell_type": "markdown",
   "id": "e53bf128",
   "metadata": {},
   "source": [
    "<a name=imports></a>\n",
    "## Imports"
   ]
  },
  {
   "cell_type": "code",
   "execution_count": 1,
   "id": "2adfac1f",
   "metadata": {},
   "outputs": [],
   "source": [
    "%load_ext autoreload\n",
    "%autoreload 2\n",
    "%load_ext tensorboard\n",
    "\n",
    "import os\n",
    "import datetime\n",
    "\n",
    "import matplotlib.pyplot as plt\n",
    "import seaborn as sns\n",
    "import numpy as np\n",
    "import pandas as pd\n",
    "import tensorflow as tf\n",
    "from sklearn.model_selection import train_test_split\n",
    "\n",
    "import preprocessing"
   ]
  },
  {
   "cell_type": "markdown",
   "id": "ef7eeeb2",
   "metadata": {},
   "source": [
    "<a name=data></a>\n",
    "## Data"
   ]
  },
  {
   "cell_type": "markdown",
   "id": "3dec6091",
   "metadata": {},
   "source": [
    "### Ingestion\n",
    "Load in the dataset as pandas dataframe."
   ]
  },
  {
   "cell_type": "code",
   "execution_count": 2,
   "id": "93038d23",
   "metadata": {
    "scrolled": true
   },
   "outputs": [
    {
     "name": "stdout",
     "output_type": "stream",
     "text": [
      "Parent Directory /covid19-prediction/models\n",
      "Path: /covid19-prediction/models/../cleaned_datasets/india/daily_cases_india.csv\n",
      "Exists: True\n"
     ]
    },
    {
     "ename": "FileNotFoundError",
     "evalue": "[Errno 2] No such file or directory: '/covid19-prediction/models/../cleaned_datasets/usa/vacc_usa.csv'",
     "output_type": "error",
     "traceback": [
      "\u001b[0;31m---------------------------------------------------------------------------\u001b[0m",
      "\u001b[0;31mFileNotFoundError\u001b[0m                         Traceback (most recent call last)",
      "\u001b[0;32m<ipython-input-2-e826f27e5af1>\u001b[0m in \u001b[0;36m<module>\u001b[0;34m\u001b[0m\n\u001b[1;32m      1\u001b[0m \u001b[0;31m# Check preprocessing.py for implementation\u001b[0m\u001b[0;34m\u001b[0m\u001b[0;34m\u001b[0m\u001b[0;34m\u001b[0m\u001b[0m\n\u001b[0;32m----> 2\u001b[0;31m \u001b[0;34m(\u001b[0m\u001b[0mindia_cases_df\u001b[0m\u001b[0;34m,\u001b[0m \u001b[0mindia_vacc_df\u001b[0m\u001b[0;34m,\u001b[0m \u001b[0musa_cases_df\u001b[0m\u001b[0;34m,\u001b[0m \u001b[0musa_vacc_df\u001b[0m\u001b[0;34m)\u001b[0m \u001b[0;34m=\u001b[0m \u001b[0mpreprocessing\u001b[0m\u001b[0;34m.\u001b[0m\u001b[0mingestion\u001b[0m\u001b[0;34m(\u001b[0m\u001b[0;34m)\u001b[0m\u001b[0;34m\u001b[0m\u001b[0;34m\u001b[0m\u001b[0m\n\u001b[0m",
      "\u001b[0;32m/covid19-prediction/models/lstm/preprocessing.py\u001b[0m in \u001b[0;36mingestion\u001b[0;34m()\u001b[0m\n\u001b[1;32m     38\u001b[0m \u001b[0;34m\u001b[0m\u001b[0m\n\u001b[1;32m     39\u001b[0m         \u001b[0musa_cases_df\u001b[0m \u001b[0;34m=\u001b[0m \u001b[0mpd\u001b[0m\u001b[0;34m.\u001b[0m\u001b[0mread_csv\u001b[0m\u001b[0;34m(\u001b[0m\u001b[0musa_cases_path\u001b[0m\u001b[0;34m)\u001b[0m\u001b[0;34m\u001b[0m\u001b[0;34m\u001b[0m\u001b[0m\n\u001b[0;32m---> 40\u001b[0;31m         \u001b[0musa_vacc_df\u001b[0m \u001b[0;34m=\u001b[0m \u001b[0mpd\u001b[0m\u001b[0;34m.\u001b[0m\u001b[0mread_csv\u001b[0m\u001b[0;34m(\u001b[0m\u001b[0musa_vacc_path\u001b[0m\u001b[0;34m)\u001b[0m\u001b[0;34m\u001b[0m\u001b[0;34m\u001b[0m\u001b[0m\n\u001b[0m\u001b[1;32m     41\u001b[0m \u001b[0;34m\u001b[0m\u001b[0m\n\u001b[1;32m     42\u001b[0m         \u001b[0;31m# Rename columns to keep consistent name pattern\u001b[0m\u001b[0;34m\u001b[0m\u001b[0;34m\u001b[0m\u001b[0;34m\u001b[0m\u001b[0m\n",
      "\u001b[0;32m/usr/local/lib/python3.6/dist-packages/pandas/io/parsers.py\u001b[0m in \u001b[0;36mread_csv\u001b[0;34m(filepath_or_buffer, sep, delimiter, header, names, index_col, usecols, squeeze, prefix, mangle_dupe_cols, dtype, engine, converters, true_values, false_values, skipinitialspace, skiprows, skipfooter, nrows, na_values, keep_default_na, na_filter, verbose, skip_blank_lines, parse_dates, infer_datetime_format, keep_date_col, date_parser, dayfirst, cache_dates, iterator, chunksize, compression, thousands, decimal, lineterminator, quotechar, quoting, doublequote, escapechar, comment, encoding, dialect, error_bad_lines, warn_bad_lines, delim_whitespace, low_memory, memory_map, float_precision)\u001b[0m\n\u001b[1;32m    686\u001b[0m     )\n\u001b[1;32m    687\u001b[0m \u001b[0;34m\u001b[0m\u001b[0m\n\u001b[0;32m--> 688\u001b[0;31m     \u001b[0;32mreturn\u001b[0m \u001b[0m_read\u001b[0m\u001b[0;34m(\u001b[0m\u001b[0mfilepath_or_buffer\u001b[0m\u001b[0;34m,\u001b[0m \u001b[0mkwds\u001b[0m\u001b[0;34m)\u001b[0m\u001b[0;34m\u001b[0m\u001b[0;34m\u001b[0m\u001b[0m\n\u001b[0m\u001b[1;32m    689\u001b[0m \u001b[0;34m\u001b[0m\u001b[0m\n\u001b[1;32m    690\u001b[0m \u001b[0;34m\u001b[0m\u001b[0m\n",
      "\u001b[0;32m/usr/local/lib/python3.6/dist-packages/pandas/io/parsers.py\u001b[0m in \u001b[0;36m_read\u001b[0;34m(filepath_or_buffer, kwds)\u001b[0m\n\u001b[1;32m    452\u001b[0m \u001b[0;34m\u001b[0m\u001b[0m\n\u001b[1;32m    453\u001b[0m     \u001b[0;31m# Create the parser.\u001b[0m\u001b[0;34m\u001b[0m\u001b[0;34m\u001b[0m\u001b[0;34m\u001b[0m\u001b[0m\n\u001b[0;32m--> 454\u001b[0;31m     \u001b[0mparser\u001b[0m \u001b[0;34m=\u001b[0m \u001b[0mTextFileReader\u001b[0m\u001b[0;34m(\u001b[0m\u001b[0mfp_or_buf\u001b[0m\u001b[0;34m,\u001b[0m \u001b[0;34m**\u001b[0m\u001b[0mkwds\u001b[0m\u001b[0;34m)\u001b[0m\u001b[0;34m\u001b[0m\u001b[0;34m\u001b[0m\u001b[0m\n\u001b[0m\u001b[1;32m    455\u001b[0m \u001b[0;34m\u001b[0m\u001b[0m\n\u001b[1;32m    456\u001b[0m     \u001b[0;32mif\u001b[0m \u001b[0mchunksize\u001b[0m \u001b[0;32mor\u001b[0m \u001b[0miterator\u001b[0m\u001b[0;34m:\u001b[0m\u001b[0;34m\u001b[0m\u001b[0;34m\u001b[0m\u001b[0m\n",
      "\u001b[0;32m/usr/local/lib/python3.6/dist-packages/pandas/io/parsers.py\u001b[0m in \u001b[0;36m__init__\u001b[0;34m(self, f, engine, **kwds)\u001b[0m\n\u001b[1;32m    946\u001b[0m             \u001b[0mself\u001b[0m\u001b[0;34m.\u001b[0m\u001b[0moptions\u001b[0m\u001b[0;34m[\u001b[0m\u001b[0;34m\"has_index_names\"\u001b[0m\u001b[0;34m]\u001b[0m \u001b[0;34m=\u001b[0m \u001b[0mkwds\u001b[0m\u001b[0;34m[\u001b[0m\u001b[0;34m\"has_index_names\"\u001b[0m\u001b[0;34m]\u001b[0m\u001b[0;34m\u001b[0m\u001b[0;34m\u001b[0m\u001b[0m\n\u001b[1;32m    947\u001b[0m \u001b[0;34m\u001b[0m\u001b[0m\n\u001b[0;32m--> 948\u001b[0;31m         \u001b[0mself\u001b[0m\u001b[0;34m.\u001b[0m\u001b[0m_make_engine\u001b[0m\u001b[0;34m(\u001b[0m\u001b[0mself\u001b[0m\u001b[0;34m.\u001b[0m\u001b[0mengine\u001b[0m\u001b[0;34m)\u001b[0m\u001b[0;34m\u001b[0m\u001b[0;34m\u001b[0m\u001b[0m\n\u001b[0m\u001b[1;32m    949\u001b[0m \u001b[0;34m\u001b[0m\u001b[0m\n\u001b[1;32m    950\u001b[0m     \u001b[0;32mdef\u001b[0m \u001b[0mclose\u001b[0m\u001b[0;34m(\u001b[0m\u001b[0mself\u001b[0m\u001b[0;34m)\u001b[0m\u001b[0;34m:\u001b[0m\u001b[0;34m\u001b[0m\u001b[0;34m\u001b[0m\u001b[0m\n",
      "\u001b[0;32m/usr/local/lib/python3.6/dist-packages/pandas/io/parsers.py\u001b[0m in \u001b[0;36m_make_engine\u001b[0;34m(self, engine)\u001b[0m\n\u001b[1;32m   1178\u001b[0m     \u001b[0;32mdef\u001b[0m \u001b[0m_make_engine\u001b[0m\u001b[0;34m(\u001b[0m\u001b[0mself\u001b[0m\u001b[0;34m,\u001b[0m \u001b[0mengine\u001b[0m\u001b[0;34m=\u001b[0m\u001b[0;34m\"c\"\u001b[0m\u001b[0;34m)\u001b[0m\u001b[0;34m:\u001b[0m\u001b[0;34m\u001b[0m\u001b[0;34m\u001b[0m\u001b[0m\n\u001b[1;32m   1179\u001b[0m         \u001b[0;32mif\u001b[0m \u001b[0mengine\u001b[0m \u001b[0;34m==\u001b[0m \u001b[0;34m\"c\"\u001b[0m\u001b[0;34m:\u001b[0m\u001b[0;34m\u001b[0m\u001b[0;34m\u001b[0m\u001b[0m\n\u001b[0;32m-> 1180\u001b[0;31m             \u001b[0mself\u001b[0m\u001b[0;34m.\u001b[0m\u001b[0m_engine\u001b[0m \u001b[0;34m=\u001b[0m \u001b[0mCParserWrapper\u001b[0m\u001b[0;34m(\u001b[0m\u001b[0mself\u001b[0m\u001b[0;34m.\u001b[0m\u001b[0mf\u001b[0m\u001b[0;34m,\u001b[0m \u001b[0;34m**\u001b[0m\u001b[0mself\u001b[0m\u001b[0;34m.\u001b[0m\u001b[0moptions\u001b[0m\u001b[0;34m)\u001b[0m\u001b[0;34m\u001b[0m\u001b[0;34m\u001b[0m\u001b[0m\n\u001b[0m\u001b[1;32m   1181\u001b[0m         \u001b[0;32melse\u001b[0m\u001b[0;34m:\u001b[0m\u001b[0;34m\u001b[0m\u001b[0;34m\u001b[0m\u001b[0m\n\u001b[1;32m   1182\u001b[0m             \u001b[0;32mif\u001b[0m \u001b[0mengine\u001b[0m \u001b[0;34m==\u001b[0m \u001b[0;34m\"python\"\u001b[0m\u001b[0;34m:\u001b[0m\u001b[0;34m\u001b[0m\u001b[0;34m\u001b[0m\u001b[0m\n",
      "\u001b[0;32m/usr/local/lib/python3.6/dist-packages/pandas/io/parsers.py\u001b[0m in \u001b[0;36m__init__\u001b[0;34m(self, src, **kwds)\u001b[0m\n\u001b[1;32m   2008\u001b[0m         \u001b[0mkwds\u001b[0m\u001b[0;34m[\u001b[0m\u001b[0;34m\"usecols\"\u001b[0m\u001b[0;34m]\u001b[0m \u001b[0;34m=\u001b[0m \u001b[0mself\u001b[0m\u001b[0;34m.\u001b[0m\u001b[0musecols\u001b[0m\u001b[0;34m\u001b[0m\u001b[0;34m\u001b[0m\u001b[0m\n\u001b[1;32m   2009\u001b[0m \u001b[0;34m\u001b[0m\u001b[0m\n\u001b[0;32m-> 2010\u001b[0;31m         \u001b[0mself\u001b[0m\u001b[0;34m.\u001b[0m\u001b[0m_reader\u001b[0m \u001b[0;34m=\u001b[0m \u001b[0mparsers\u001b[0m\u001b[0;34m.\u001b[0m\u001b[0mTextReader\u001b[0m\u001b[0;34m(\u001b[0m\u001b[0msrc\u001b[0m\u001b[0;34m,\u001b[0m \u001b[0;34m**\u001b[0m\u001b[0mkwds\u001b[0m\u001b[0;34m)\u001b[0m\u001b[0;34m\u001b[0m\u001b[0;34m\u001b[0m\u001b[0m\n\u001b[0m\u001b[1;32m   2011\u001b[0m         \u001b[0mself\u001b[0m\u001b[0;34m.\u001b[0m\u001b[0munnamed_cols\u001b[0m \u001b[0;34m=\u001b[0m \u001b[0mself\u001b[0m\u001b[0;34m.\u001b[0m\u001b[0m_reader\u001b[0m\u001b[0;34m.\u001b[0m\u001b[0munnamed_cols\u001b[0m\u001b[0;34m\u001b[0m\u001b[0;34m\u001b[0m\u001b[0m\n\u001b[1;32m   2012\u001b[0m \u001b[0;34m\u001b[0m\u001b[0m\n",
      "\u001b[0;32mpandas/_libs/parsers.pyx\u001b[0m in \u001b[0;36mpandas._libs.parsers.TextReader.__cinit__\u001b[0;34m()\u001b[0m\n",
      "\u001b[0;32mpandas/_libs/parsers.pyx\u001b[0m in \u001b[0;36mpandas._libs.parsers.TextReader._setup_parser_source\u001b[0;34m()\u001b[0m\n",
      "\u001b[0;31mFileNotFoundError\u001b[0m: [Errno 2] No such file or directory: '/covid19-prediction/models/../cleaned_datasets/usa/vacc_usa.csv'"
     ]
    }
   ],
   "source": [
    "# Check preprocessing.py for implementation\n",
    "(india_cases_df, india_vacc_df, usa_cases_df, usa_vacc_df) = preprocessing.ingestion()"
   ]
  },
  {
   "cell_type": "markdown",
   "id": "1602826b",
   "metadata": {},
   "source": [
    "### Pre-Processing\n",
    "Filter out unnecessary columns. "
   ]
  },
  {
   "cell_type": "markdown",
   "id": "7d144fbf",
   "metadata": {},
   "source": [
    "#### Multivariate"
   ]
  },
  {
   "cell_type": "code",
   "execution_count": null,
   "id": "aed7181b",
   "metadata": {
    "scrolled": true
   },
   "outputs": [],
   "source": [
    "# Check preprocessing.py for implementation\n",
    "# Number of Null in India - 563\n",
    "# Number of Null in USA - 261\n",
    "(india_multi, usa_multi) = preprocessing.multivariate(india_cases_df, india_vacc_df, usa_cases_df, usa_vacc_df)"
   ]
  },
  {
   "cell_type": "markdown",
   "id": "006b0567",
   "metadata": {},
   "source": [
    "#### Univariate "
   ]
  },
  {
   "cell_type": "code",
   "execution_count": null,
   "id": "1d462517",
   "metadata": {
    "scrolled": true
   },
   "outputs": [],
   "source": [
    "# Check preprocessing.py for implementation\n",
    "# Number of Null in India - 0\n",
    "# Number of Null in USA - 0\n",
    "(india_cases_uni, usa_cases_uni) = preprocessing.univariate(india_cases_df, usa_cases_df)"
   ]
  },
  {
   "cell_type": "markdown",
   "id": "80fd3d2d",
   "metadata": {},
   "source": [
    "### Drop Null\n",
    "Merging the vaccination and #cases datasets together for multivariate time series produces null values. Dropping the nuWe solve this by dropping the null values.ll values ensures that we take an inner join."
   ]
  },
  {
   "cell_type": "code",
   "execution_count": null,
   "id": "900d9a2f",
   "metadata": {
    "scrolled": true
   },
   "outputs": [],
   "source": [
    "(india_multi, usa_multi) = preprocessing.dropNull(india_multi, usa_multi)"
   ]
  },
  {
   "cell_type": "markdown",
   "id": "95a94db2",
   "metadata": {},
   "source": [
    "### Normalize\n",
    "Perform a Z-score normalization."
   ]
  },
  {
   "cell_type": "code",
   "execution_count": null,
   "id": "eb573fcf",
   "metadata": {
    "scrolled": true
   },
   "outputs": [],
   "source": [
    "# Check preprocessing.py for implementation\n",
    "(india_uni_norm, usa_uni_norm, india_multi_norm, usa_multi_norm,india_cases_mean,india_cases_std,usa_cases_mean,\n",
    " usa_cases_std,india_multi_mean,india_multi_std,\n",
    "usa_multi_std) = preprocessing.normalize(india_cases_uni, usa_cases_uni, india_multi, usa_multi)"
   ]
  },
  {
   "cell_type": "markdown",
   "id": "59ca1bb8",
   "metadata": {},
   "source": [
    "### Create Splits\n",
    "Break the dataset into train and test. The current split is 80:20."
   ]
  },
  {
   "cell_type": "code",
   "execution_count": null,
   "id": "a462f2e0",
   "metadata": {
    "scrolled": true
   },
   "outputs": [],
   "source": [
    "# Create train test splits\n",
    "(india_uni_train, india_uni_test, usa_uni_train, usa_uni_test) = preprocessing.split(india_uni_norm, usa_uni_norm, 0.2)\n",
    "(india_multi_train, india_multi_test, \n",
    " usa_multi_train, usa_multi_test) = preprocessing.split(india_multi_norm, usa_multi_norm, 0.2)"
   ]
  },
  {
   "cell_type": "markdown",
   "id": "6b59486c",
   "metadata": {},
   "source": [
    "### Data Transformation\n",
    "Simple conversion from pandas dataframe to numpy array by extracting the values."
   ]
  },
  {
   "cell_type": "code",
   "execution_count": null,
   "id": "04919305",
   "metadata": {},
   "outputs": [],
   "source": [
    "# Univariate\n",
    "india_uni_train_np, india_uni_test_np = india_uni_train.values,  india_uni_test.values\n",
    "usa_uni_train_np, usa_uni_test_np = usa_uni_train.values, usa_uni_test.values\n",
    "# Multivariate\n",
    "india_multi_train_np, india_multi_test_np = india_multi_train.values,  india_multi_test.values\n",
    "usa_multi_train_np, usa_multi_test_np = usa_multi_train.values, usa_multi_test.values"
   ]
  },
  {
   "cell_type": "code",
   "execution_count": null,
   "id": "82382dfd",
   "metadata": {},
   "outputs": [],
   "source": [
    "print(india_uni_train_np.shape, india_uni_test_np.shape)\n",
    "print(india_multi_train_np.shape, india_multi_test_np.shape)"
   ]
  },
  {
   "cell_type": "markdown",
   "id": "08417e8c",
   "metadata": {},
   "source": [
    "### Reshape\n",
    "Converts the exiting train data set to match the input parameters of an LSTM (Samples, Time Steps, Features). The `lstm_data_transform()` method takes in 3 arguments: X data, y data and number of features.\n",
    "\n",
    "We will be performing autoregression on the univariate data, therefore the X and y values are the same. As for the multivariate data, we will be using the confirmed column (index 0) as the y value."
   ]
  },
  {
   "cell_type": "code",
   "execution_count": null,
   "id": "8621d09b",
   "metadata": {},
   "outputs": [],
   "source": [
    "india_uni_train_np"
   ]
  },
  {
   "cell_type": "code",
   "execution_count": null,
   "id": "cf728eb8",
   "metadata": {},
   "outputs": [],
   "source": [
    "timesteps = 14"
   ]
  },
  {
   "cell_type": "code",
   "execution_count": null,
   "id": "e12116cc",
   "metadata": {},
   "outputs": [],
   "source": [
    "# Univariate\n",
    "india_uni_train_X, india_uni_train_y = preprocessing.lstm_data_transform(india_uni_train_np, india_uni_train_np,\n",
    "                                                                         timesteps)\n",
    "usa_uni_train_X, usa_uni_train_y = preprocessing.lstm_data_transform(usa_uni_train_np, usa_uni_train_np,\n",
    "                                                                     timesteps)\n",
    "# Multivariate\n",
    "india_multi_train_X, india_multi_train_y = preprocessing.lstm_data_transform(india_multi_train_np,\n",
    "                                                                             india_multi_train_np, timesteps)\n",
    "usa_multi_train_X, usa_multi_train_y = preprocessing.lstm_data_transform(usa_multi_train_np,\n",
    "                                                                         usa_multi_train_np, timesteps)"
   ]
  },
  {
   "cell_type": "code",
   "execution_count": null,
   "id": "b3bb95e4",
   "metadata": {},
   "outputs": [],
   "source": [
    "print(\"Univariate India shape:\",india_uni_train_X.shape, india_uni_train_y.shape)\n",
    "print(\"Multivariate India shape:\",india_multi_train_X.shape, india_multi_train_y.shape)"
   ]
  },
  {
   "cell_type": "markdown",
   "id": "206827da",
   "metadata": {},
   "source": [
    "The univariate array shape for the India dataset has 566 samples, 3 as the time step, and 1 feature for the X values. The y values is just the 566 samples.\n",
    "\n",
    "Similarly, the multivariate array shape for the India dataset has 276 samples, 3 as the time step, and 2 features for the X values. The y values is just the 276 samples of the 0th column (Confirmed cases)."
   ]
  },
  {
   "cell_type": "markdown",
   "id": "a762c122",
   "metadata": {},
   "source": [
    "<a name=model></a>\n",
    "## Model\n",
    "We will define 4 models in total. One for the univariate data and another for the multivariate for each country."
   ]
  },
  {
   "cell_type": "code",
   "execution_count": null,
   "id": "f54c1702",
   "metadata": {},
   "outputs": [],
   "source": [
    "import LSTMmodels\n",
    "from keras.wrappers.scikit_learn import KerasRegressor\n",
    "import tensorflow as tf"
   ]
  },
  {
   "cell_type": "code",
   "execution_count": null,
   "id": "77bca529",
   "metadata": {
    "scrolled": true
   },
   "outputs": [],
   "source": [
    "univariate_model_ind = LSTMmodels.build_lstm(time_steps=india_uni_train_X.shape[1],\n",
    "                                             features=india_uni_train_X.shape[2])\n",
    "univariate_model_usa = LSTMmodels.build_lstm(time_steps=usa_uni_train_X.shape[1],\n",
    "                                             features=usa_uni_train_X.shape[2])"
   ]
  },
  {
   "cell_type": "code",
   "execution_count": null,
   "id": "ccb83162",
   "metadata": {
    "scrolled": true
   },
   "outputs": [],
   "source": [
    "multivariate_model_ind = LSTMmodels.build_lstm(time_steps=india_multi_train_X.shape[1],\n",
    "                                               features=india_multi_train_X.shape[2], outputs=2)\n",
    "multivariate_model_usa = LSTMmodels.build_lstm(time_steps=usa_multi_train_X.shape[1],\n",
    "                                               features=usa_multi_train_X.shape[2], outputs=2)"
   ]
  },
  {
   "cell_type": "markdown",
   "id": "16645e09",
   "metadata": {},
   "source": [
    "<a name=train></a>\n",
    "## Train "
   ]
  },
  {
   "cell_type": "code",
   "execution_count": null,
   "id": "e3f51362",
   "metadata": {},
   "outputs": [],
   "source": [
    "# Get the path of the current working directory\n",
    "curPath = os.getcwd()\n",
    "# Appened the parent directory to the current path to step out of the current folder\n",
    "parentDir = os.path.abspath(os.path.join(curPath, os.pardir))\n",
    "# Tensorboard callback\n",
    "logdir = os.path.join(parentDir+\"/logs\", datetime.datetime.now().strftime(\"%Y%m%d-%H%M%S\"))\n",
    "tensorboard_callback = tf.keras.callbacks.TensorBoard(logdir, histogram_freq=1)"
   ]
  },
  {
   "cell_type": "code",
   "execution_count": null,
   "id": "e0d28e87",
   "metadata": {},
   "outputs": [],
   "source": [
    "def train_models(model,train_X,train_y,test_X,test_y):\n",
    "    model.fit(train_X,train_y,\n",
    "              validation_data=(test_X,test_y),\n",
    "              epochs=300,\n",
    "              callbacks=[tensorboard_callback])\n",
    "    return model\n",
    "#     model.save(save_name)"
   ]
  },
  {
   "cell_type": "code",
   "execution_count": null,
   "id": "3de47952",
   "metadata": {
    "scrolled": true
   },
   "outputs": [],
   "source": [
    "# Train the model on univariate India dataset \n",
    "univariate_model_ind = LSTMmodels.train_model(univariate_model_ind,india_uni_train_X,india_uni_train_y,\n",
    "                                              tensorboard_callback)"
   ]
  },
  {
   "cell_type": "code",
   "execution_count": null,
   "id": "1a75a35c",
   "metadata": {
    "scrolled": true
   },
   "outputs": [],
   "source": [
    "# Train the model on univariate USA dataset \n",
    "univariate_model_usa = LSTMmodels.train_model(univariate_model_usa,usa_uni_train_X,usa_uni_train_y,\n",
    "                                              tensorboard_callback)"
   ]
  },
  {
   "cell_type": "code",
   "execution_count": null,
   "id": "d07dce40",
   "metadata": {
    "scrolled": true
   },
   "outputs": [],
   "source": [
    "# Train the model on multivariate India dataset\n",
    "multivariate_model_ind = LSTMmodels.train_model(multivariate_model_ind,india_multi_train_X,india_multi_train_y,\n",
    "                                                tensorboard_callback)"
   ]
  },
  {
   "cell_type": "code",
   "execution_count": null,
   "id": "58301316",
   "metadata": {
    "scrolled": true
   },
   "outputs": [],
   "source": [
    "# Train the model on multivariate USA dataset\n",
    "multivariate_model_usa = LSTMmodels.train_model(multivariate_model_usa,usa_multi_train_X,usa_multi_train_y,\n",
    "                                                tensorboard_callback)"
   ]
  },
  {
   "cell_type": "markdown",
   "id": "70cf08b0",
   "metadata": {},
   "source": [
    "<a name=predict></a>\n",
    "## Predict\n",
    "There are 2 different types of prediction methods. \n",
    "1. Long-term predictions\n",
    "\n",
    "This type of prediction uses a sliding window to continue to predict into the future by continuing to use the forecasted values.\n",
    "\n",
    "2. Rolling short-term predictions\n",
    "\n",
    "This prediction method continues to train the LSTM model every 14 iterations. Unlike the long-term predictions, this model forecasts one day at a time."
   ]
  },
  {
   "cell_type": "code",
   "execution_count": null,
   "id": "79445521",
   "metadata": {},
   "outputs": [],
   "source": [
    "import evaluate"
   ]
  },
  {
   "cell_type": "markdown",
   "id": "e3dff70d",
   "metadata": {},
   "source": [
    "#### Long-Term "
   ]
  },
  {
   "cell_type": "code",
   "execution_count": null,
   "id": "41787e64",
   "metadata": {
    "scrolled": true
   },
   "outputs": [],
   "source": [
    "# Univariate Long-Term\n",
    "yhat_uni_india = evaluate.make_predictions(univariate_model_ind,india_uni_test_np,timesteps,india_uni_test_np.shape[1])\n",
    "yhat_uni_usa = evaluate.make_predictions(univariate_model_usa,usa_uni_test_np,timesteps,usa_uni_test_np.shape[1])"
   ]
  },
  {
   "cell_type": "markdown",
   "id": "b7596ddb",
   "metadata": {},
   "source": [
    "#### Rolling Short-Term "
   ]
  },
  {
   "cell_type": "code",
   "execution_count": null,
   "id": "247d68f1",
   "metadata": {
    "scrolled": true
   },
   "outputs": [],
   "source": [
    "# Univariate Rolling Short-Term\n",
    "yhat_uni_india_short, y_uni_india_short, univariate_model_ind = evaluate.make_predictions_short(univariate_model_ind,\n",
    "                                                                                                india_uni_train_np,\n",
    "                                                                                                india_uni_test_np,timesteps,\n",
    "                                                                                                india_uni_test_np.shape[1],\n",
    "                                                                                               tensorboard_callback)\n",
    "yhat_uni_usa_short, y_uni_usa_short, univariate_model_usa = evaluate.make_predictions_short(univariate_model_usa, \n",
    "                                                                                            usa_uni_train_np,\n",
    "                                                                                            usa_uni_test_np,timesteps,\n",
    "                                                                                            usa_uni_test_np.shape[1],\n",
    "                                                                                           tensorboard_callback)"
   ]
  },
  {
   "cell_type": "code",
   "execution_count": null,
   "id": "40d378a3",
   "metadata": {
    "scrolled": true
   },
   "outputs": [],
   "source": [
    "# Reshaping the data to standard dim 1\n",
    "yhat_uni_india_short = np.concatenate(yhat_uni_india_short).flatten()\n",
    "yhat_uni_india_short"
   ]
  },
  {
   "cell_type": "code",
   "execution_count": null,
   "id": "9cb195d5",
   "metadata": {
    "scrolled": true
   },
   "outputs": [],
   "source": [
    "# Reshaping the data to standard dim 1\n",
    "yhat_uni_usa_short = np.concatenate(yhat_uni_usa_short).flatten()\n",
    "yhat_uni_usa_short"
   ]
  },
  {
   "cell_type": "markdown",
   "id": "e45795ae",
   "metadata": {},
   "source": [
    "TODO: Need to fix index out of bounds error"
   ]
  },
  {
   "cell_type": "code",
   "execution_count": null,
   "id": "5761139a",
   "metadata": {
    "scrolled": true
   },
   "outputs": [],
   "source": [
    "# Multivariate Rolling Short-Term\n",
    "yhat_multi_india, y_multi_india_short, multivariate_model_ind = evaluate.make_predictions_short(multivariate_model_ind, india_multi_train_np,india_multi_test_np,timesteps,\n",
    "                                                                                                india_multi_test_np.shape[1],\n",
    "                                                                                               tensorboard_callback)\n",
    "yhat_multi_usa, y_multi_india_short = evaluate.make_predictions_short(multivariate_model_usa,usa_multi_train_np,usa_multi_test_np,\n",
    "                                                                      timesteps,usa_multi_test_np.shape[1],\n",
    "                                                                     tensorboard_callback)"
   ]
  },
  {
   "cell_type": "markdown",
   "id": "e0545385",
   "metadata": {},
   "source": [
    "## Evaluate"
   ]
  },
  {
   "cell_type": "markdown",
   "id": "77e56f5a",
   "metadata": {},
   "source": [
    "### Denormalize Data\n",
    "First step is to denormalize the data back to it's original scale."
   ]
  },
  {
   "cell_type": "markdown",
   "id": "4be85990",
   "metadata": {},
   "source": [
    "#### Long-Term "
   ]
  },
  {
   "cell_type": "markdown",
   "id": "a5c71f0b",
   "metadata": {},
   "source": [
    "##### Univariate "
   ]
  },
  {
   "cell_type": "code",
   "execution_count": null,
   "id": "1a4281f5",
   "metadata": {},
   "outputs": [],
   "source": [
    "yhat_uni_india_short.size"
   ]
  },
  {
   "cell_type": "code",
   "execution_count": null,
   "id": "e018b14b",
   "metadata": {
    "scrolled": true
   },
   "outputs": [],
   "source": [
    "y_uni_india_short.size"
   ]
  },
  {
   "cell_type": "code",
   "execution_count": null,
   "id": "ae052ffa",
   "metadata": {},
   "outputs": [],
   "source": [
    "yhat_uni_usa_short.size"
   ]
  },
  {
   "cell_type": "code",
   "execution_count": null,
   "id": "8ccb77cc",
   "metadata": {},
   "outputs": [],
   "source": [
    "y_uni_usa_short.size"
   ]
  },
  {
   "cell_type": "code",
   "execution_count": null,
   "id": "484d8081",
   "metadata": {},
   "outputs": [],
   "source": [
    "# Denormalize univariate India data\n",
    "india_uni_test_np_denorm = preprocessing.de_normalize(india_uni_test_np.flatten()[timesteps:],np.array(india_cases_mean),np.array(india_cases_std))\n",
    "yhat_uni_india_denorm = preprocessing.de_normalize(yhat_uni_india.flatten()[timesteps:],np.array(india_cases_mean),np.array(india_cases_std))"
   ]
  },
  {
   "cell_type": "code",
   "execution_count": null,
   "id": "8f6e7eb3",
   "metadata": {
    "scrolled": true
   },
   "outputs": [],
   "source": [
    "india_uni_test_np_denorm = np.round(india_uni_test_np_denorm)\n",
    "yhat_uni_india_denorm = np.round(yhat_uni_india_denorm)"
   ]
  },
  {
   "cell_type": "code",
   "execution_count": null,
   "id": "ed841693",
   "metadata": {},
   "outputs": [],
   "source": [
    "# Denormalize univariate USA data\n",
    "usa_uni_test_np_denorm = preprocessing.de_normalize(usa_uni_test_np,np.array(usa_cases_mean),np.array(usa_cases_std))\n",
    "yhat_uni_usa_denorm = preprocessing.de_normalize(yhat_uni_usa.flatten()[timesteps:],np.array(usa_cases_mean),np.array(usa_cases_std))"
   ]
  },
  {
   "cell_type": "code",
   "execution_count": null,
   "id": "cdb088f3",
   "metadata": {},
   "outputs": [],
   "source": [
    "usa_uni_test_np_denorm = np.round(usa_uni_test_np_denorm)\n",
    "yhat_uni_usa_denorm = np.round(yhat_uni_usa_denorm)"
   ]
  },
  {
   "cell_type": "markdown",
   "id": "ab85838f",
   "metadata": {},
   "source": [
    "##### Multivariate\n",
    "::TODO"
   ]
  },
  {
   "cell_type": "markdown",
   "id": "56fb0e07",
   "metadata": {},
   "source": [
    "#### Rolling Short-Term "
   ]
  },
  {
   "cell_type": "markdown",
   "id": "86aa684a",
   "metadata": {},
   "source": [
    "##### Univariate "
   ]
  },
  {
   "cell_type": "code",
   "execution_count": null,
   "id": "7fac3e13",
   "metadata": {},
   "outputs": [],
   "source": [
    "# Denormalize univariate short India data\n",
    "india_uni_test_short_denorm = preprocessing.de_normalize(y_uni_india_short,np.array(india_cases_mean),np.array(india_cases_std))\n",
    "yhat_uni_india_short_denorm = preprocessing.de_normalize(yhat_uni_india_short,np.array(india_cases_mean),np.array(india_cases_std))"
   ]
  },
  {
   "cell_type": "code",
   "execution_count": null,
   "id": "e79394d4",
   "metadata": {},
   "outputs": [],
   "source": [
    "india_uni_test_short_denorm = np.round(india_uni_test_short_denorm)\n",
    "yhat_uni_india_short_denorm = np.round(yhat_uni_india_short_denorm)"
   ]
  },
  {
   "cell_type": "code",
   "execution_count": null,
   "id": "4d8c4b22",
   "metadata": {},
   "outputs": [],
   "source": [
    "# Denormalize univariate short USA data\n",
    "usa_uni_test_short_denorm = preprocessing.de_normalize(y_uni_usa_short,np.array(usa_cases_mean),np.array(usa_cases_std))\n",
    "yhat_uni_usa_short_denorm = preprocessing.de_normalize(yhat_uni_usa_short,np.array(usa_cases_mean),np.array(usa_cases_std))"
   ]
  },
  {
   "cell_type": "code",
   "execution_count": null,
   "id": "74f6ecc7",
   "metadata": {},
   "outputs": [],
   "source": [
    "usa_uni_test_short_denorm = np.round(usa_uni_test_short_denorm)\n",
    "yhat_uni_usa_short_denorm = np.round(yhat_uni_usa_short_denorm)"
   ]
  },
  {
   "cell_type": "markdown",
   "id": "4e9604b7",
   "metadata": {},
   "source": [
    "##### Multivariate"
   ]
  },
  {
   "cell_type": "code",
   "execution_count": null,
   "id": "0dcad239",
   "metadata": {
    "scrolled": false
   },
   "outputs": [],
   "source": [
    "# Denormalize multivariate India data\n",
    "india_multi_test_np_denorm = preprocessing.de_normalize(india_multi_test_np[:,0].flatten()[timesteps:],np.array(india_multi_mean[0]),np.array(india_multi_std[0]))\n",
    "yhat_multi_india_denorm = preprocessing.de_normalize(yhat_multi_india.flatten()[timesteps:],np.array(india_multi_mean[0]),np.array(india_multi_std[0]))"
   ]
  },
  {
   "cell_type": "code",
   "execution_count": null,
   "id": "b8568d9c",
   "metadata": {},
   "outputs": [],
   "source": [
    "india_multi_test_np_denorm = np.round(india_multi_test_np_denorm)\n",
    "yhat_multi_india_denorm = np.round(yhat_multi_india_denorm)"
   ]
  },
  {
   "cell_type": "code",
   "execution_count": null,
   "id": "6a5f2340",
   "metadata": {},
   "outputs": [],
   "source": [
    "usa_multi_test_np_denorm = preprocessing.de_normalize(usa_multi_test_np[:,0].flatten()[timesteps:],np.array(usa_multi_mean[0]),np.array(usa_multi_std[0]))\n",
    "yhat_multi_usa_denorm = preprocessing.de_normalize(yhat_multi_usa.flatten()[timesteps:],np.array(usa_multi_mean[0]),np.array(usa_multi_std[0]))"
   ]
  },
  {
   "cell_type": "code",
   "execution_count": null,
   "id": "b42e94c4",
   "metadata": {},
   "outputs": [],
   "source": [
    "usa_multi_test_np_denorm = np.round(usa_multi_test_np_denorm)\n",
    "yhat_multi_usa_denorm = np.round(yhat_multi_usa_denorm)"
   ]
  },
  {
   "cell_type": "markdown",
   "id": "01705a67",
   "metadata": {},
   "source": [
    "### Get Metrics \n",
    "Return format: (mape, mae, rmse)"
   ]
  },
  {
   "cell_type": "code",
   "execution_count": null,
   "id": "a05b3e17",
   "metadata": {
    "scrolled": true
   },
   "outputs": [],
   "source": [
    "india_cases_uni.values[-(india_uni_test_short_denorm.size):].flatten()"
   ]
  },
  {
   "cell_type": "code",
   "execution_count": null,
   "id": "10e0aea9",
   "metadata": {
    "scrolled": true
   },
   "outputs": [],
   "source": [
    "india_uni_test_short_denorm"
   ]
  },
  {
   "cell_type": "code",
   "execution_count": null,
   "id": "76842330",
   "metadata": {
    "scrolled": true
   },
   "outputs": [],
   "source": [
    "denorm_test = evaluate.evaluate(india_cases_uni.values[-(india_uni_test_short_denorm.size):].flatten(),india_uni_test_short_denorm)\n",
    "denorm_test"
   ]
  },
  {
   "cell_type": "code",
   "execution_count": null,
   "id": "81ae9417",
   "metadata": {},
   "outputs": [],
   "source": [
    "uni_india_eval = evaluate.evaluate(india_uni_test_np_denorm[:-1], yhat_uni_india_denorm[:-1])\n",
    "uni_india_eval.insert(0,'Univariate India')\n",
    "uni_india_eval"
   ]
  },
  {
   "cell_type": "code",
   "execution_count": null,
   "id": "920785a9",
   "metadata": {},
   "outputs": [],
   "source": [
    "usa_uni_test_np_denorm.flatten()[timesteps:].size"
   ]
  },
  {
   "cell_type": "code",
   "execution_count": null,
   "id": "c000acc9",
   "metadata": {},
   "outputs": [],
   "source": [
    "yhat_uni_usa_denorm.size"
   ]
  },
  {
   "cell_type": "code",
   "execution_count": null,
   "id": "487bda45",
   "metadata": {
    "scrolled": true
   },
   "outputs": [],
   "source": [
    "uni_usa_eval = evaluate.evaluate(usa_uni_test_np_denorm[timesteps:], yhat_uni_usa_denorm)\n",
    "uni_usa_eval.insert(0,'Univariate USA')\n",
    "uni_usa_eval"
   ]
  },
  {
   "cell_type": "code",
   "execution_count": null,
   "id": "cc384b5c",
   "metadata": {},
   "outputs": [],
   "source": [
    "# Short term\n",
    "uni_india_short_eval = evaluate.evaluate(india_uni_test_short_denorm[:-1], yhat_uni_india_short_denorm[:-1])\n",
    "uni_india_short_eval.insert(0,'Univariate Short-Term India')\n",
    "uni_india_short_eval"
   ]
  },
  {
   "cell_type": "code",
   "execution_count": null,
   "id": "a6d960e0",
   "metadata": {
    "scrolled": true
   },
   "outputs": [],
   "source": [
    "uni_usa_short_eval = evaluate.evaluate(usa_uni_test_short_denorm, yhat_uni_usa_short_denorm)\n",
    "uni_usa_short_eval.insert(0,'Univariate Short-Term USA')\n",
    "uni_usa_short_eval"
   ]
  },
  {
   "cell_type": "code",
   "execution_count": null,
   "id": "4e742132",
   "metadata": {
    "scrolled": true
   },
   "outputs": [],
   "source": [
    "# Multivariate India\n",
    "multi_india_eval = evaluate.evaluate(india_multi_test_np_denorm[14:-1], yhat_multi_india_denorm[:-1])\n",
    "multi_india_eval.insert(0,'Multivariate Short-Term India')\n",
    "multi_india_eval"
   ]
  },
  {
   "cell_type": "markdown",
   "id": "8b10832c",
   "metadata": {},
   "source": [
    "### Visualize performance\n",
    "TODO: Still need to add multivariate metrics"
   ]
  },
  {
   "cell_type": "code",
   "execution_count": null,
   "id": "43e35d71",
   "metadata": {},
   "outputs": [],
   "source": [
    "d = [uni_india_eval,uni_usa_eval,uni_india_short_eval,uni_usa_short_eval]\n",
    "pd.DataFrame(data=d, columns=['Models','MAPE','MAE','RMSE'])"
   ]
  },
  {
   "cell_type": "markdown",
   "id": "0825df30",
   "metadata": {},
   "source": [
    "## Plots"
   ]
  },
  {
   "cell_type": "code",
   "execution_count": null,
   "id": "2e946792",
   "metadata": {},
   "outputs": [],
   "source": [
    "%tensorboard --logdir logdir"
   ]
  },
  {
   "cell_type": "code",
   "execution_count": null,
   "id": "c9e60a0d",
   "metadata": {},
   "outputs": [],
   "source": [
    "from tensorboard import notebook\n",
    "notebook.list() # View open TensorBoard instances\n",
    "notebook.display(port=6006, height=1000)"
   ]
  },
  {
   "cell_type": "markdown",
   "id": "b012dd0c",
   "metadata": {},
   "source": [
    "#### Long-Term Rolling forecasts"
   ]
  },
  {
   "cell_type": "code",
   "execution_count": null,
   "id": "e31fcbff",
   "metadata": {
    "scrolled": false
   },
   "outputs": [],
   "source": [
    "evaluate.plot_fore_test(india_uni_test_np_denorm[:-1], yhat_uni_india_denorm[:-1], 'Univariate Long-Term India')"
   ]
  },
  {
   "cell_type": "code",
   "execution_count": null,
   "id": "8048c0f3",
   "metadata": {
    "scrolled": false
   },
   "outputs": [],
   "source": [
    "evaluate.plot_fore_test(usa_uni_test_np_denorm[timesteps:], yhat_uni_usa_denorm, 'Univariate Long-Term USA')"
   ]
  },
  {
   "cell_type": "markdown",
   "id": "63dc04fa",
   "metadata": {},
   "source": [
    "#### Short-Term Rolling Forecast"
   ]
  },
  {
   "cell_type": "code",
   "execution_count": null,
   "id": "45ce9e04",
   "metadata": {},
   "outputs": [],
   "source": [
    "evaluate.plot_fore_test(india_uni_test_short_denorm[:-1], yhat_uni_india_short_denorm[:-1], \"Univariate Short-Term India\")"
   ]
  },
  {
   "cell_type": "code",
   "execution_count": null,
   "id": "827d4694",
   "metadata": {},
   "outputs": [],
   "source": [
    "evaluate.plot_fore_test(usa_uni_test_short_denorm, yhat_uni_usa_short_denorm, \"Univariate Short-Term USA\")"
   ]
  },
  {
   "cell_type": "code",
   "execution_count": null,
   "id": "9a115c1f",
   "metadata": {},
   "outputs": [],
   "source": [
    "evaluate.plot_fore_test(india_multi_test_np_denorm[14:-1], yhat_multi_india_denorm[:-1], \"Multivariate Short-Term India\")"
   ]
  }
 ],
 "metadata": {
  "kernelspec": {
   "display_name": "Python 3",
   "language": "python",
   "name": "python3"
  },
  "language_info": {
   "codemirror_mode": {
    "name": "ipython",
    "version": 3
   },
   "file_extension": ".py",
   "mimetype": "text/x-python",
   "name": "python",
   "nbconvert_exporter": "python",
   "pygments_lexer": "ipython3",
   "version": "3.6.9"
  }
 },
 "nbformat": 4,
 "nbformat_minor": 5
}
