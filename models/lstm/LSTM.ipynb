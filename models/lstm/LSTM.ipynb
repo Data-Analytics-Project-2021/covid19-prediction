{
 "cells": [
  {
   "cell_type": "code",
   "execution_count": null,
   "id": "95bb346a",
   "metadata": {},
   "outputs": [],
   "source": []
  },
  {
   "cell_type": "markdown",
   "id": "4d344ea7",
   "metadata": {},
   "source": [
    "# LSTM "
   ]
  },
  {
   "cell_type": "markdown",
   "id": "ec33ccf8",
   "metadata": {},
   "source": [
    "## Outline\n",
    "1. [Imports](#imports)\n",
    "2. [Data](#data)\n",
    "3. [Model](#model)\n",
    "5. [Train](#train)\n",
    "6. [Predict](#predict)"
   ]
  },
  {
   "cell_type": "markdown",
   "id": "08f44781",
   "metadata": {},
   "source": [
    "<a name=imports></a>\n",
    "## Imports"
   ]
  },
  {
   "cell_type": "code",
   "execution_count": null,
   "id": "8697cc28",
   "metadata": {},
   "outputs": [],
   "source": [
    "import os\n",
    "import datetime\n",
    "\n",
    "import matplotlib.pyplot as plt\n",
    "import seaborn as sns\n",
    "import numpy as np\n",
    "import pandas as pd\n",
    "import tensorflow as tf\n",
    "from sklearn.model_selection import train_test_split"
   ]
  },
  {
   "cell_type": "markdown",
   "id": "f0949d15",
   "metadata": {},
   "source": [
    "<a name=data></a>\n",
    "## Data"
   ]
  },
  {
   "cell_type": "markdown",
   "id": "cd0fbcc9",
   "metadata": {},
   "source": [
    "### Ingestion "
   ]
  },
  {
   "cell_type": "code",
   "execution_count": null,
   "id": "a667be42",
   "metadata": {},
   "outputs": [],
   "source": [
    "# Get the path of the current working directory\n",
    "curPath = os.getcwd()\n",
    "# Appened the parent directory to the current path to step out of the current folder\n",
    "parentDir = os.path.abspath(os.path.join(curPath, os.pardir))\n",
    "print(\"Parent Directory\", parentDir)\n",
    "# Save the path to all of the datasets\n",
    "india_cases_path = os.path.join(parentDir, \"../cleaned_datasets/india/daily_cases_india.csv\")\n",
    "india_vacc_path = os.path.join(parentDir, \"../cleaned_datasets/india/daily_vacc_india.csv\")\n",
    "usa_cases_path = os.path.join(parentDir, \"../cleaned_datasets/usa/daily_cases_usa.csv\")\n",
    "usa_vacc_path = os.path.join(parentDir, \"../cleaned_datasets/usa/vacc_usa.csv\")\n",
    "\n",
    "# Quick check to make sure the path exists\n",
    "print(\"Path:\", india_cases_path)\n",
    "print(\"Exists:\", os.path.exists(india_cases_path))"
   ]
  },
  {
   "cell_type": "code",
   "execution_count": null,
   "id": "50a8b6f8",
   "metadata": {
    "scrolled": true
   },
   "outputs": [],
   "source": [
    "# Load the data as a pandas dataframe\n",
    "india_cases_df = pd.read_csv(india_cases_path)\n",
    "india_vacc_df =  pd.read_csv(india_vacc_path)\n",
    "\n",
    "usa_cases_df = pd.read_csv(usa_cases_path)\n",
    "usa_vacc_df = pd.read_csv(usa_vacc_path)\n",
    "\n",
    "# Visualize the datasets\n",
    "print('India Cases:\\n',india_cases_df.head(),'\\n')\n",
    "print('India Vacc:\\n',india_vacc_df.head(),'\\n')\n",
    "\n",
    "print('USA Cases:\\n',usa_cases_df.head(),'\\n')\n",
    "print('USA Vacc:\\n',usa_vacc_df.head(),'\\n')"
   ]
  },
  {
   "cell_type": "markdown",
   "id": "c4267df3",
   "metadata": {},
   "source": [
    "### Pre-Processing"
   ]
  },
  {
   "cell_type": "markdown",
   "id": "9aa9e8f6",
   "metadata": {},
   "source": [
    "### Multivariate"
   ]
  },
  {
   "cell_type": "code",
   "execution_count": null,
   "id": "195b5862",
   "metadata": {},
   "outputs": [],
   "source": [
    "india_cases_multi_df = india_cases_df[[\"Date\",\"Confirmed\",\"Deaths\",\"Recovered\",\"Active\"]]"
   ]
  },
  {
   "cell_type": "markdown",
   "id": "377933b9",
   "metadata": {},
   "source": [
    "### Univariate "
   ]
  },
  {
   "cell_type": "code",
   "execution_count": null,
   "id": "9dcec8d0",
   "metadata": {},
   "outputs": [],
   "source": [
    "# Select only the Confirmed column for univariate analysis\n",
    "# Selecting from the first index because the 0th index is NaN\n",
    "india_cases_df = india_cases_df[[\"Confirmed\"]][1:]\n",
    "usa_cases_df = usa_cases_df[[\"Confirmed\"]][1:]\n",
    "\n",
    "# Visualize the datasets\n",
    "print('India Cases:\\n',india_cases_df.head(),'\\n')\n",
    "print('USA Cases:\\n',usa_cases_df.head(),'\\n')"
   ]
  },
  {
   "cell_type": "code",
   "execution_count": null,
   "id": "3121b870",
   "metadata": {},
   "outputs": [],
   "source": [
    "# Normalize the data\n",
    "india_cases_mean = india_cases_df.mean()\n",
    "india_cases_std = india_cases_df.std()\n",
    "\n",
    "usa_cases_mean = usa_cases_df.mean()\n",
    "usa_cases_std = usa_cases_df.std()\n",
    "\n",
    "\n",
    "india_cases_normalized_df = (india_cases_df-india_cases_mean)/india_cases_std\n",
    "usa_cases_normalized_df = (usa_cases_df-usa_cases_mean)/usa_cases_std\n",
    "\n",
    "# Visualize the datasets\n",
    "print('India Cases:\\n',india_cases_normalized_df.head(),'\\n')\n",
    "print('USA Cases:\\n',usa_cases_normalized_df.head(),'\\n')"
   ]
  },
  {
   "cell_type": "code",
   "execution_count": null,
   "id": "4ecb82ca",
   "metadata": {},
   "outputs": [],
   "source": [
    "# Create train test splits\n",
    "india_cases_train, india_cases_test = train_test_split(india_cases_normalized_df, test_size=0.2, shuffle=False)\n",
    "india_vacc_train, india_vacc_test = train_test_split(india_vacc_df, test_size=0.2, shuffle=False)\n",
    "\n",
    "usa_cases_train, usa_cases_test = train_test_split(usa_cases_normalized_df, test_size=0.2, shuffle=False)\n",
    "usa_vacc_train, usa_vacc_test = train_test_split(usa_vacc_df, test_size=0.2, shuffle=False)\n",
    "\n",
    "# Visualize splits\n",
    "print('India Cases:\\n',india_cases_train,'\\n')\n",
    "print('USA Cases:\\n',usa_cases_train,'\\n')"
   ]
  },
  {
   "cell_type": "code",
   "execution_count": null,
   "id": "81a88ff4",
   "metadata": {
    "scrolled": true
   },
   "outputs": [],
   "source": [
    "# Convert to numpy array\n",
    "india_cases_train, india_cases_test = india_cases_train.to_numpy().flatten(), india_cases_test.to_numpy()\n",
    "usa_cases_train, usa_cases_test = usa_cases_train.to_numpy().flatten(), usa_cases_test.to_numpy()\n",
    "\n",
    "# Visualize outputs\n",
    "print('India Cases:\\n',india_cases_train,'\\n')\n",
    "print('USA Cases:\\n',usa_cases_train,'\\n')"
   ]
  },
  {
   "cell_type": "code",
   "execution_count": null,
   "id": "cb371ce8",
   "metadata": {},
   "outputs": [],
   "source": [
    "# univariate data preparation\n",
    "from numpy import array\n",
    "\n",
    "# split a univariate sequence into samples\n",
    "def split_sequence(sequence, n_steps):\n",
    "    X, y = list(), list()\n",
    "    for i in range(len(sequence)):\n",
    "        # find the end of this pattern\n",
    "        end_ix = i + n_steps\n",
    "        # check if we are beyond the sequence\n",
    "        if end_ix > len(sequence)-1:\n",
    "            break\n",
    "        # gather input and output parts of the pattern\n",
    "        seq_x, seq_y = sequence[i:end_ix], sequence[end_ix]\n",
    "        X.append(seq_x)\n",
    "        y.append(seq_y)\n",
    "    return array(X), array(y)"
   ]
  },
  {
   "cell_type": "code",
   "execution_count": null,
   "id": "97cc3851",
   "metadata": {},
   "outputs": [],
   "source": [
    "# choose a number of time steps\n",
    "n_steps = 3\n",
    "# split into samples\n",
    "india_cases_train_X, india_cases_train_y = split_sequence(india_cases_train, n_steps)\n",
    "india_cases_test_X, india_cases_test_y = split_sequence(india_cases_test, n_steps)\n",
    "usa_cases_train_X, usa_cases_train_y = split_sequence(usa_cases_train, n_steps)\n",
    "usa_cases_test_X, usa_cases_test_y = split_sequence(usa_cases_test, n_steps)\n",
    "\n",
    "# summarize the data\n",
    "for i in range(0,5):\n",
    "    print(india_cases_train_X[i], india_cases_train_y[i])\n",
    "print()\n",
    "# summarize the data\n",
    "for i in range(0,5):\n",
    "    print(usa_cases_train_X[i], usa_cases_train_y[i])"
   ]
  },
  {
   "cell_type": "code",
   "execution_count": null,
   "id": "6149ce9d",
   "metadata": {
    "scrolled": true
   },
   "outputs": [],
   "source": [
    "# Reshape the data into [samples, timesteps, features]\n",
    "# univariate\n",
    "n_features = 1\n",
    "\n",
    "india_cases_train_X = india_cases_train_X.reshape((india_cases_train_X.shape[0], \n",
    "                                                   india_cases_train_X.shape[1], n_features))\n",
    "india_cases_test_X = india_cases_test_X.reshape((india_cases_test_X.shape[0], \n",
    "                                                 india_cases_test_X.shape[1], n_features))\n",
    "\n",
    "usa_cases_train_X = usa_cases_train_X.reshape((usa_cases_train_X.shape[0], \n",
    "                                                   usa_cases_train_X.shape[1], n_features))\n",
    "usa_cases_test_X = usa_cases_test_X.reshape((usa_cases_test_X.shape[0], \n",
    "                                                   usa_cases_test_X.shape[1], n_features))\n",
    "\n",
    "# Visualize outputs\n",
    "print('India Cases:\\n',india_cases_train_X,'\\n')\n",
    "print('USA Cases:\\n',usa_cases_train_X,'\\n')"
   ]
  },
  {
   "cell_type": "markdown",
   "id": "d12c6db8",
   "metadata": {},
   "source": [
    "<a name=model></a>\n",
    "## Model "
   ]
  },
  {
   "cell_type": "code",
   "execution_count": null,
   "id": "33a5a26d",
   "metadata": {},
   "outputs": [],
   "source": [
    "# Imports for model components\n",
    "from tensorflow.keras import Sequential\n",
    "from tensorflow.keras.layers import LSTM, Dense\n",
    "from tensorflow.keras.losses import MeanAbsolutePercentageError, MeanAbsoluteError\n",
    "from keras.wrappers.scikit_learn import KerasRegressor\n",
    "\n",
    "from sklearn.pipeline import Pipeline\n",
    "from sklearn.model_selection import GridSearchCV"
   ]
  },
  {
   "cell_type": "markdown",
   "id": "1234237a",
   "metadata": {},
   "source": [
    "### Univariate non-stacked -- Rolling"
   ]
  },
  {
   "cell_type": "code",
   "execution_count": null,
   "id": "23461c97",
   "metadata": {
    "scrolled": false
   },
   "outputs": [],
   "source": [
    "# Define the model\n",
    "def build_univariate_non_stacked(optimizer=\"adam\", lstm_nparams=100, n_steps=3, n_features=1):\n",
    "    model_uni = Sequential()\n",
    "    model_uni.add(LSTM(lstm_nparams, activation='relu', input_shape=(n_steps, n_features)))\n",
    "    model_uni.add(Dense(1))\n",
    "    model_uni.compile(optimizer=optimizer,loss='mae', metrics=[\"mae\"])\n",
    "    model_uni.summary()\n",
    "    return model_uni"
   ]
  },
  {
   "cell_type": "markdown",
   "id": "85a5bf00",
   "metadata": {},
   "source": [
    "### Univariate non-stacked -- Long-Term"
   ]
  },
  {
   "cell_type": "code",
   "execution_count": null,
   "id": "3291f09d",
   "metadata": {},
   "outputs": [],
   "source": [
    "# Define the model\n",
    "def build_univariate_non_stacked_long(optimizer=\"adam\", lstm_nparams=100, n_steps=3, n_features=1):\n",
    "    model_uni = Sequential()\n",
    "    model_uni.add(LSTM(lstm_nparams, activation='relu', input_shape=(n_steps, n_features)))\n",
    "    model_uni.add(Dense(10))\n",
    "    model_uni.compile(optimizer=optimizer,loss='mae', metrics=[\"mae\"])\n",
    "    model_uni.summary()\n",
    "    return model_uni"
   ]
  },
  {
   "cell_type": "markdown",
   "id": "0858e035",
   "metadata": {},
   "source": [
    "#### Grid Search"
   ]
  },
  {
   "cell_type": "code",
   "execution_count": null,
   "id": "d904ca4e",
   "metadata": {},
   "outputs": [],
   "source": [
    "# Using KerasClassifier wrapper \n",
    "keras_estimator = KerasRegressor(build_fn=build_univariate_non_stacked, verbose=1)"
   ]
  },
  {
   "cell_type": "code",
   "execution_count": null,
   "id": "e15a4af8",
   "metadata": {},
   "outputs": [],
   "source": [
    "# Defining parameters for the gridserach\n",
    "param_grid = {\n",
    "#     'epochs': [10,100,300,],\n",
    "    'lstm_nparams':[15,50],\n",
    "#     'n_steps': [3, 6, 15],\n",
    "#     'optimizer': ['RMSprop','Adam','Adamax','sgd']\n",
    "}\n",
    "\n",
    "kfold_splits = 5"
   ]
  },
  {
   "cell_type": "code",
   "execution_count": null,
   "id": "6a906af8",
   "metadata": {},
   "outputs": [],
   "source": [
    "# Defining GridSearch\n",
    "grid = GridSearchCV(estimator=keras_estimator,\n",
    "                    verbose=-1,\n",
    "                    return_train_score=True,\n",
    "                    cv=kfold_splits,\n",
    "                    param_grid=param_grid,\n",
    "#                     scoring=\"neg_mean_absolute_error\",\n",
    ")"
   ]
  },
  {
   "cell_type": "code",
   "execution_count": null,
   "id": "5a4033ec",
   "metadata": {
    "scrolled": true
   },
   "outputs": [],
   "source": [
    "# Fitting GridSearch\n",
    "grid_result = grid.fit(india_cases_train_X, india_cases_train_y, )\n",
    "\n",
    "# summarize results\n",
    "print(\"Best: %f using %s\" % (grid_result.best_score_, grid_result.best_params_))\n",
    "means = grid_result.cv_results_['mean_test_score']\n",
    "stds = grid_result.cv_results_['std_test_score']\n",
    "params = grid_result.cv_results_['params']\n",
    "for mean, stdev, param in zip(means, stds, params):\n",
    "    print(\"%f (%f) with: %r\" % (mean, stdev, param))"
   ]
  },
  {
   "cell_type": "code",
   "execution_count": null,
   "id": "a7d65eb0",
   "metadata": {},
   "outputs": [],
   "source": [
    "# Writing the gridsearch results to file\n",
    "file1 = open(\"univariate_non_stacked_india.txt\", \"w\")\n",
    "file1.write(\"mean,stdev,pram\")\n",
    "means = grid_result.cv_results_['mean_test_score']\n",
    "stds = grid_result.cv_results_['std_test_score']\n",
    "params = grid_result.cv_results_['params']\n",
    "for mean, stdev, param in zip(means, stds, params):\n",
    "    file1.write(\"%f,%f,%r\" % (mean, stdev, param))\n",
    "    file1.write(\"\\n\")\n",
    "file1.close()"
   ]
  },
  {
   "cell_type": "code",
   "execution_count": null,
   "id": "106af879",
   "metadata": {
    "scrolled": true
   },
   "outputs": [],
   "source": [
    "sorted(grid_result.cv_results_.keys())"
   ]
  },
  {
   "cell_type": "code",
   "execution_count": null,
   "id": "678c6c3c",
   "metadata": {},
   "outputs": [],
   "source": [
    "grid_result.cv_results_['split2_train_score']"
   ]
  },
  {
   "cell_type": "markdown",
   "id": "f07f8b93",
   "metadata": {},
   "source": [
    "### Univariate stacked -- Rolling"
   ]
  },
  {
   "cell_type": "code",
   "execution_count": null,
   "id": "e960323e",
   "metadata": {},
   "outputs": [],
   "source": [
    "# Define the model\n",
    "def build_univariate_stacked(optimizer=\"adam\",lstm_nparams_l1=100, lstm_nparams_l2=150, n_steps=3, n_features=1):\n",
    "    model_uni_stacked = Sequential()\n",
    "    model_uni_stacked.add(LSTM(lstm_nparams_l1, activation='relu', return_sequences=True, input_shape=(n_steps, n_features)))\n",
    "    model_uni_stacked.add(LSTM(lstm_nparams_l2, activation='relu'))\n",
    "    model_uni_stacked.add(Dense(1))\n",
    "    model_uni_stacked.compile(optimizer=optimizer,loss='mae')\n",
    "    model_uni_stacked.summary()\n",
    "    return model_uni_stacked"
   ]
  },
  {
   "cell_type": "markdown",
   "id": "85acc197",
   "metadata": {},
   "source": [
    "### Univariate stacked -- Long-Term"
   ]
  },
  {
   "cell_type": "code",
   "execution_count": null,
   "id": "476ba956",
   "metadata": {},
   "outputs": [],
   "source": [
    "# Define the model\n",
    "def build_univariate_stacked_long(optimizer=\"adam\",lstm_nparams_l1=100, lstm_nparams_l2=150, n_steps=3, n_features=1):\n",
    "    model_uni_stacked = Sequential()\n",
    "    model_uni_stacked.add(LSTM(lstm_nparams_l1, activation='relu', return_sequences=True, input_shape=(n_steps, n_features)))\n",
    "    model_uni_stacked.add(LSTM(lstm_nparams_l2, activation='relu'))\n",
    "    model_uni_stacked.add(Dense(10))\n",
    "    model_uni_stacked.compile(optimizer=optimizer,loss='mae')\n",
    "    model_uni_stacked.summary()\n",
    "    return model_uni_stacked"
   ]
  },
  {
   "cell_type": "markdown",
   "id": "3ebc3e3b",
   "metadata": {},
   "source": [
    "#### Grid Search"
   ]
  },
  {
   "cell_type": "code",
   "execution_count": null,
   "id": "f8964fb5",
   "metadata": {},
   "outputs": [],
   "source": [
    "# Using KerasClassifier wrapper \n",
    "keras_estimator = KerasRegressor(build_fn=build_univariate_stacked, verbose=1)"
   ]
  },
  {
   "cell_type": "code",
   "execution_count": null,
   "id": "d651d4fd",
   "metadata": {},
   "outputs": [],
   "source": [
    "# Defining parameters for the gridserach\n",
    "param_grid = {\n",
    "    'epochs': [10,100,300,],\n",
    "    'lstm_nparams_l1':[15,50,100,150],\n",
    "    'lstm_nparams_l2':[15,50,100,150],\n",
    "    'n_steps': [3, 6, 15],\n",
    "#     'optimizer': ['RMSprop','Adam','Adamax','sgd']\n",
    "}\n",
    "\n",
    "kfold_splits = 5"
   ]
  },
  {
   "cell_type": "code",
   "execution_count": null,
   "id": "eafe3037",
   "metadata": {},
   "outputs": [],
   "source": [
    "# Defining GridSearch\n",
    "grid = GridSearchCV(estimator=keras_estimator,\n",
    "                    verbose=-1,\n",
    "                    return_train_score=True,\n",
    "                    cv=kfold_splits,\n",
    "                    param_grid=param_grid,\n",
    "                    scoring=\"neg_mean_absolute_error\",\n",
    ")"
   ]
  },
  {
   "cell_type": "code",
   "execution_count": null,
   "id": "b61a2beb",
   "metadata": {
    "scrolled": true
   },
   "outputs": [],
   "source": [
    "# Fitting GridSearch\n",
    "grid_result = grid.fit(india_cases_train_X, india_cases_train_y, )\n",
    "\n",
    "# summarize results\n",
    "print(\"Best: %f using %s\" % (grid_result.best_score_, grid_result.best_params_))\n",
    "means = grid_result.cv_results_['mean_test_score']\n",
    "stds = grid_result.cv_results_['std_test_score']\n",
    "params = grid_result.cv_results_['params']\n",
    "for mean, stdev, param in zip(means, stds, params):\n",
    "    print(\"%f (%f) with: %r\" % (mean, stdev, param))"
   ]
  },
  {
   "cell_type": "code",
   "execution_count": null,
   "id": "48436367",
   "metadata": {},
   "outputs": [],
   "source": [
    "# Writing the gridsearch results to file\n",
    "file1 = open(\"univariate_stacked_india.txt\", \"w\")\n",
    "file1.write(\"Best: %f using %s\" % (grid_result.best_score_, grid_result.best_params_))\n",
    "file1.write(\"\\n\")\n",
    "means = grid_result.cv_results_['mean_test_score']\n",
    "stds = grid_result.cv_results_['std_test_score']\n",
    "params = grid_result.cv_results_['params']\n",
    "for mean, stdev, param in zip(means, stds, params):\n",
    "    file1.write(\"%f (%f) with: %r\" % (mean, stdev, param))\n",
    "    file1.write(\"\\n\")\n",
    "file1.close()"
   ]
  },
  {
   "cell_type": "markdown",
   "id": "538bf989",
   "metadata": {},
   "source": [
    "## Multivariate "
   ]
  },
  {
   "cell_type": "code",
   "execution_count": null,
   "id": "b28b1dcb",
   "metadata": {},
   "outputs": [],
   "source": [
    "# Define the model\n",
    "model_uni = Sequential()\n",
    "model_uni.add(LSTM(150, activation='relu', input_shape=(n_steps, n_features)))\n",
    "model_uni.add(Dense(1))\n",
    "model_uni.compile(optimizer='adam',loss='mae')\n",
    "model_uni.summary()"
   ]
  },
  {
   "cell_type": "markdown",
   "id": "1e297790",
   "metadata": {},
   "source": [
    "<a name=train></a>\n",
    "## Train "
   ]
  },
  {
   "cell_type": "code",
   "execution_count": null,
   "id": "4a128186",
   "metadata": {},
   "outputs": [],
   "source": [
    "# Tensorboard callback\n",
    "logdir = os.path.join(parentDir+\"/logs\", datetime.datetime.now().strftime(\"%Y%m%d-%H%M%S\"))\n",
    "tensorboard_callback = tf.keras.callbacks.TensorBoard(logdir, histogram_freq=1)"
   ]
  },
  {
   "cell_type": "code",
   "execution_count": null,
   "id": "ab1f57d0",
   "metadata": {},
   "outputs": [],
   "source": [
    "def train_models(model,train_X,train_y,test_X,test_y):\n",
    "    model.fit(train_X,train_y,\n",
    "              validation_data=(test_X,test_y),\n",
    "              epochs=300,\n",
    "              callbacks=[tensorboard_callback])\n",
    "    return model\n",
    "#     model.save(save_name)"
   ]
  },
  {
   "cell_type": "code",
   "execution_count": null,
   "id": "1f54d38d",
   "metadata": {},
   "outputs": [],
   "source": [
    "# Define all of the LSTM models\n",
    "model_uni_non_stacked_india = build_univariate_non_stacked()\n",
    "model_uni_non_stacked_usa = build_univariate_non_stacked()\n",
    "model_uni_non_stacked_long_india = build_univariate_non_stacked_long()\n",
    "model_uni_non_stacked_long_usa = build_univariate_non_stacked_long()\n",
    "model_uni_stacked_india = build_univariate_stacked()\n",
    "model_uni_stacked_usa = build_univariate_stacked()\n",
    "model_uni_stacked_long_india = build_univariate_stacked_long()\n",
    "model_uni_stacked_long_usa = build_univariate_stacked()"
   ]
  },
  {
   "cell_type": "code",
   "execution_count": null,
   "id": "1838b3e8",
   "metadata": {},
   "outputs": [],
   "source": [
    "models_india = [model_uni_non_stacked_india,model_uni_non_stacked_long_india,model_uni_stacked_india ,model_uni_stacked_long_india]\n",
    "models_usa = [model_uni_non_stacked_usa,model_uni_non_stacked_long_usa,model_uni_stacked_usa ,model_uni_stacked_long_usa]"
   ]
  },
  {
   "cell_type": "code",
   "execution_count": null,
   "id": "7fc0d21f",
   "metadata": {
    "scrolled": true
   },
   "outputs": [],
   "source": [
    "models_india_trained = []\n",
    "for m in models_india:\n",
    "    models_india_trained.append(train_models(m,india_cases_train_X,india_cases_train_y,india_cases_test_X,india_cases_test_y))"
   ]
  },
  {
   "cell_type": "code",
   "execution_count": null,
   "id": "6670396b",
   "metadata": {},
   "outputs": [],
   "source": [
    "for m in models_usa:\n",
    "    train_models(m,usa_cases_train_X,usa_cases_train_y,usa_cases_test_X,usa_cases_test_y)"
   ]
  },
  {
   "cell_type": "markdown",
   "id": "ffb7d534",
   "metadata": {},
   "source": [
    "### Univariate non-stacked -- Rolling"
   ]
  },
  {
   "cell_type": "code",
   "execution_count": null,
   "id": "1f3bb4a0",
   "metadata": {
    "scrolled": true
   },
   "outputs": [],
   "source": [
    "# Fit the model\n",
    "model_uni_non_stacked_india = build_univariate_non_stacked()\n",
    "model_uni_non_stacked_india.fit(india_cases_train_X,\n",
    "          india_cases_train_y, \n",
    "          validation_data=(india_cases_test_X, india_cases_test_y),\n",
    "          epochs=300,\n",
    "          callbacks=[tensorboard_callback])\n",
    "\n",
    "model_uni_non_stacked_india.save('univar_non_stack_rolling_india.h5')"
   ]
  },
  {
   "cell_type": "code",
   "execution_count": null,
   "id": "4b58a5f8",
   "metadata": {
    "scrolled": true
   },
   "outputs": [],
   "source": [
    "# Fit the model\n",
    "model_uni_non_stacked_usa = build_univariate_non_stacked()\n",
    "model_uni_non_stacked_usa.fit(usa_cases_train_X,\n",
    "          usa_cases_train_y, \n",
    "          validation_data=(usa_cases_test_X, usa_cases_test_y),\n",
    "          epochs=300,\n",
    "          callbacks=[tensorboard_callback])\n",
    "\n",
    "model_uni_non_stacked_usa.save('univar_non_stack_rolling_usa.h5')"
   ]
  },
  {
   "cell_type": "markdown",
   "id": "fba35f63",
   "metadata": {},
   "source": [
    "### Univariate non-stacked -- Long-Term"
   ]
  },
  {
   "cell_type": "code",
   "execution_count": null,
   "id": "1c550372",
   "metadata": {
    "scrolled": true
   },
   "outputs": [],
   "source": [
    "# Fit the model\n",
    "model_uni_non_stacked_long_india = build_univariate_non_stacked_long()\n",
    "model_uni_non_stacked_long_india.fit(india_cases_train_X,\n",
    "          india_cases_train_y, \n",
    "          validation_data=(india_cases_test_X, india_cases_test_y),\n",
    "          epochs=300,\n",
    "          callbacks=[tensorboard_callback])\n",
    "\n",
    "model_uni_non_stacked_long_india.save('univar_non_stacked_long_term_india.h5')"
   ]
  },
  {
   "cell_type": "code",
   "execution_count": null,
   "id": "74f76789",
   "metadata": {
    "scrolled": true
   },
   "outputs": [],
   "source": [
    "# Fit the model\n",
    "model_uni_non_stacked_usa = build_univariate_non_stacked()\n",
    "model_uni_non_stacked_usa.fit(usa_cases_train_X,\n",
    "          usa_cases_train_y, \n",
    "          validation_data=(usa_cases_test_X, usa_cases_test_y),\n",
    "          epochs=300,\n",
    "          callbacks=[tensorboard_callback])\n",
    "\n",
    "model_uni_non_stacked_usa.save('univar_non_stack_rolling_usa.h5')"
   ]
  },
  {
   "cell_type": "markdown",
   "id": "439f07d7",
   "metadata": {},
   "source": [
    "### Univariate stacked -- Rolling"
   ]
  },
  {
   "cell_type": "code",
   "execution_count": null,
   "id": "b527943f",
   "metadata": {
    "scrolled": true
   },
   "outputs": [],
   "source": [
    "# Fit the model\n",
    "model_uni_stacked_india = build_univariate_stacked()\n",
    "model_uni_stacked_india.fit(india_cases_train_X,\n",
    "          india_cases_train_y, \n",
    "          validation_data=(india_cases_test_X, india_cases_test_y),\n",
    "          epochs=300,\n",
    "          callbacks=[tensorboard_callback])\n",
    "\n",
    "model_uni_stacked_india.save('univar_stacked_rolling_india.h5')"
   ]
  },
  {
   "cell_type": "code",
   "execution_count": null,
   "id": "11191063",
   "metadata": {
    "scrolled": true
   },
   "outputs": [],
   "source": [
    "# Fit the model\n",
    "model_uni_stacked_usa = build_univariate_stacked()\n",
    "model_uni_stacked_usa.fit(usa_cases_train_X,\n",
    "          usa_cases_train_y, \n",
    "          validation_data=(usa_cases_test_X, usa_cases_test_y),\n",
    "          epochs=300,\n",
    "          callbacks=[tensorboard_callback])\n",
    "\n",
    "model_uni_stacked_usa.save('univar_stacked_rolling_usa.h5')"
   ]
  },
  {
   "cell_type": "markdown",
   "id": "fe222e3d",
   "metadata": {},
   "source": [
    "### Univariate stacked -- Long-Term"
   ]
  },
  {
   "cell_type": "code",
   "execution_count": null,
   "id": "4e25dc73",
   "metadata": {
    "scrolled": true
   },
   "outputs": [],
   "source": [
    "# Fit the model\n",
    "model_uni_stacked_long_india = build_univariate_stacked_long()\n",
    "model_uni_stacked_long_india.fit(india_cases_train_X,\n",
    "          india_cases_train_y, \n",
    "          validation_data=(india_cases_test_X, india_cases_test_y),\n",
    "          epochs=300,\n",
    "          callbacks=[tensorboard_callback])\n",
    "\n",
    "model_uni_stacked_long_india.save('univar_stacked_long_term.h5')"
   ]
  },
  {
   "cell_type": "code",
   "execution_count": null,
   "id": "9b858834",
   "metadata": {},
   "outputs": [],
   "source": [
    "# Fit the model\n",
    "model_uni_stacked_long_usa = build_univariate_stacked()\n",
    "model_uni_stacked_long_usa.fit(usa_cases_train_X,\n",
    "          usa_cases_train_y, \n",
    "          validation_data=(usa_cases_test_X, usa_cases_test_y),\n",
    "          epochs=300,\n",
    "          callbacks=[tensorboard_callback])\n",
    "\n",
    "model_uni_stacked_long_usa.save('univar_stacked_long_term_usa.h5')"
   ]
  },
  {
   "cell_type": "markdown",
   "id": "66bac9be",
   "metadata": {},
   "source": [
    "<a name=predict></a>\n",
    "## Predict"
   ]
  },
  {
   "cell_type": "code",
   "execution_count": null,
   "id": "a370ad49",
   "metadata": {},
   "outputs": [],
   "source": [
    "india_cases_test_X.shape"
   ]
  },
  {
   "cell_type": "code",
   "execution_count": null,
   "id": "466bc1bc",
   "metadata": {
    "scrolled": true
   },
   "outputs": [],
   "source": [
    "india_cases_test.shape"
   ]
  },
  {
   "cell_type": "code",
   "execution_count": null,
   "id": "4414b5d4",
   "metadata": {},
   "outputs": [],
   "source": [
    "models_india = [model_uni_non_stacked_india,model_uni_non_stacked_long_india,model_uni_stacked_india ,model_uni_stacked_long_india]\n",
    "models_india\n",
    "models_usa = [model_uni_non_stacked_usa,model_uni_non_stacked_long_usa,model_uni_stacked_usa ,model_uni_stacked_long_usa]"
   ]
  },
  {
   "cell_type": "code",
   "execution_count": null,
   "id": "0e7de7fe",
   "metadata": {},
   "outputs": [],
   "source": [
    "def make_predictions(test_X, model):\n",
    "    x_input = np.array(test_X)\n",
    "    y_hat = model.predict(x_input)\n",
    "    return()"
   ]
  },
  {
   "cell_type": "markdown",
   "id": "414831d6",
   "metadata": {},
   "source": [
    "### Univariate Non Stacked -- Rolling"
   ]
  },
  {
   "cell_type": "code",
   "execution_count": null,
   "id": "41dfcb35",
   "metadata": {
    "scrolled": true
   },
   "outputs": [],
   "source": [
    "# Predictions for india cases on test dataset\n",
    "x_input_uni_non_stacked_india = np.array(india_cases_test_X)\n",
    "print(x_input_uni_non_stacked_india.shape)\n",
    "yhat_uni_non_stacked_india = model_uni_non_stacked_india.predict(x_input_uni_non_stacked_india)\n",
    "print(yhat_uni_non_stacked_india.shape)"
   ]
  },
  {
   "cell_type": "code",
   "execution_count": null,
   "id": "03f63c2f",
   "metadata": {},
   "outputs": [],
   "source": [
    "# Predictions for usa cases on test dataset\n",
    "x_input_uni_non_stacked_usa = np.array(usa_cases_test_X)\n",
    "print(x_input_uni_non_stacked_usa.shape)\n",
    "yhat_uni_non_stacked_usa = model_uni_non_stacked_usa.predict(x_input_uni_non_stacked_usa)\n",
    "print(yhat_uni_non_stacked_usa.shape)"
   ]
  },
  {
   "cell_type": "markdown",
   "id": "4151259e",
   "metadata": {},
   "source": [
    "### Univariate Non Stacked -- Long-Term"
   ]
  },
  {
   "cell_type": "code",
   "execution_count": null,
   "id": "a9e9db56",
   "metadata": {},
   "outputs": [],
   "source": [
    "# Predictions for india cases on test dataset\n",
    "x_input_uni_non_stacked_long_india = np.array(india_cases_test_X)\n",
    "print(x_input_uni_non_stacked_long_india.shape)\n",
    "yhat_uni_non_stacked_long_india = model_uni_non_stacked_long_india.predict(x_input_uni_non_stacked_long_india)\n",
    "print(yhat_uni_non_stacked_long_india.shape)"
   ]
  },
  {
   "cell_type": "code",
   "execution_count": null,
   "id": "237c564f",
   "metadata": {},
   "outputs": [],
   "source": [
    "# Predictions for usa cases on test dataset\n",
    "x_input_uni_non_stacked_long_usa = np.array(usa_cases_test_X)\n",
    "print(x_input_uni_non_stacked_long_usa.shape)\n",
    "yhat_uni_non_stacked_long_usa = model_uni_non_stacked_long_usa.predict(x_input_uni_non_stacked_long_usa)\n",
    "print(yhat_uni_non_stacked_long_usa.shape)"
   ]
  },
  {
   "cell_type": "markdown",
   "id": "ead09bc2",
   "metadata": {},
   "source": [
    "### Univariate Stacked -- Rolling"
   ]
  },
  {
   "cell_type": "code",
   "execution_count": null,
   "id": "b34924b7",
   "metadata": {},
   "outputs": [],
   "source": [
    "# Predictions for india cases on test dataset\n",
    "x_input_uni_stacked_india = np.array(india_cases_test_X)\n",
    "print(x_input_uni_stacked_india.shape)\n",
    "yhat_uni_stacked_india = model_uni_stacked_india.predict(x_input_uni_stacked_india)\n",
    "print(yhat_uni_stacked_india.shape)"
   ]
  },
  {
   "cell_type": "code",
   "execution_count": null,
   "id": "21aa8b9b",
   "metadata": {},
   "outputs": [],
   "source": [
    "# Predictions for usa cases on test dataset\n",
    "x_input_uni_stacked_usa = np.array(usa_cases_test_X)\n",
    "print(x_input_uni_stacked_usa.shape)\n",
    "yhat_uni_stacked_usa = model_uni_stacked_usa.predict(x_input_uni_stacked_usa)\n",
    "print(yhat_uni_stacked_usa.shape)"
   ]
  },
  {
   "cell_type": "markdown",
   "id": "4aa02eb6",
   "metadata": {},
   "source": [
    "### Univariate Stacked -- Long-Term"
   ]
  },
  {
   "cell_type": "code",
   "execution_count": null,
   "id": "b32e90c1",
   "metadata": {},
   "outputs": [],
   "source": [
    "# Predictions for india cases on test dataset\n",
    "x_input_uni_stacked_long_india = np.array(india_cases_test_X)\n",
    "print(x_input_uni_stacked_long_india.shape)\n",
    "yhat_uni_stacked_long_india = model_uni_stacked_long_india.predict(x_input_uni_stacked_long_india)\n",
    "print(yhat_uni_stacked_long_india.shape)"
   ]
  },
  {
   "cell_type": "code",
   "execution_count": null,
   "id": "79941528",
   "metadata": {},
   "outputs": [],
   "source": [
    "# Predictions for usa cases on test dataset\n",
    "x_input_uni_stacked_long_usa = np.array(usa_cases_test_X)\n",
    "print(x_input_uni_stacked_long_usa.shape)\n",
    "yhat_uni_stacked_long_usa = model_uni_stacked_long_usa.predict(x_input_uni_stacked_long_usa)\n",
    "print(yhat_uni_stacked_long_usa.shape)"
   ]
  },
  {
   "cell_type": "markdown",
   "id": "164c3ec1",
   "metadata": {},
   "source": [
    "## Evaluate"
   ]
  },
  {
   "cell_type": "markdown",
   "id": "4585b9cb",
   "metadata": {},
   "source": [
    "### Univariate Non Stacked -- Rolling"
   ]
  },
  {
   "cell_type": "markdown",
   "id": "33f40453",
   "metadata": {},
   "source": [
    "#### India"
   ]
  },
  {
   "cell_type": "code",
   "execution_count": null,
   "id": "1ec48b26",
   "metadata": {
    "scrolled": false
   },
   "outputs": [],
   "source": [
    "mape = MeanAbsolutePercentageError()\n",
    "mape(india_cases_test_y, yhat_uni_non_stacked_india).numpy()"
   ]
  },
  {
   "cell_type": "code",
   "execution_count": null,
   "id": "198e590a",
   "metadata": {},
   "outputs": [],
   "source": [
    "mae = MeanAbsoluteError()\n",
    "mae(india_cases_test_y, yhat_uni_non_stacked_india).numpy()"
   ]
  },
  {
   "cell_type": "markdown",
   "id": "cececb95",
   "metadata": {},
   "source": [
    "#### USA"
   ]
  },
  {
   "cell_type": "code",
   "execution_count": null,
   "id": "11d90820",
   "metadata": {
    "scrolled": false
   },
   "outputs": [],
   "source": [
    "mape = MeanAbsolutePercentageError()\n",
    "mape(usa_cases_test_y, yhat_uni_non_stacked_usa).numpy()"
   ]
  },
  {
   "cell_type": "code",
   "execution_count": null,
   "id": "25650779",
   "metadata": {},
   "outputs": [],
   "source": [
    "mae = MeanAbsoluteError()\n",
    "mae(usa_cases_test_y, yhat_uni_non_stacked_usa).numpy()"
   ]
  },
  {
   "cell_type": "markdown",
   "id": "b7fbe23c",
   "metadata": {},
   "source": [
    "### Univariate Non Stacked -- Long-Term"
   ]
  },
  {
   "cell_type": "markdown",
   "id": "529a46b3",
   "metadata": {},
   "source": [
    "#### India "
   ]
  },
  {
   "cell_type": "code",
   "execution_count": null,
   "id": "ed59bbb3",
   "metadata": {
    "scrolled": true
   },
   "outputs": [],
   "source": [
    "mape = MeanAbsolutePercentageError()\n",
    "mape(india_cases_test_y, yhat_uni_non_stacked_long_india).numpy()"
   ]
  },
  {
   "cell_type": "code",
   "execution_count": null,
   "id": "51f6f3b3",
   "metadata": {},
   "outputs": [],
   "source": [
    "mae = MeanAbsoluteError()\n",
    "mae(india_cases_test_y, yhat_uni_non_stacked_long_india).numpy()"
   ]
  },
  {
   "cell_type": "markdown",
   "id": "f6dda2b1",
   "metadata": {},
   "source": [
    "#### USA "
   ]
  },
  {
   "cell_type": "code",
   "execution_count": null,
   "id": "c6d19447",
   "metadata": {
    "scrolled": true
   },
   "outputs": [],
   "source": [
    "mape = MeanAbsolutePercentageError()\n",
    "mape(usa_cases_test_y, yhat_uni_non_stacked_long_usa).numpy()"
   ]
  },
  {
   "cell_type": "code",
   "execution_count": null,
   "id": "3fdad53d",
   "metadata": {},
   "outputs": [],
   "source": [
    "mae = MeanAbsoluteError()\n",
    "mae(usa_cases_test_y, yhat_uni_non_stacked_long_usa).numpy()"
   ]
  },
  {
   "cell_type": "markdown",
   "id": "ff9b3d88",
   "metadata": {},
   "source": [
    "### Univariate Stacked -- Rolling"
   ]
  },
  {
   "cell_type": "markdown",
   "id": "d427b727",
   "metadata": {},
   "source": [
    "#### India "
   ]
  },
  {
   "cell_type": "code",
   "execution_count": null,
   "id": "5fefc70a",
   "metadata": {
    "scrolled": false
   },
   "outputs": [],
   "source": [
    "mape = MeanAbsolutePercentageError()\n",
    "mape(india_cases_test_y, yhat_uni_stacked_india).numpy()"
   ]
  },
  {
   "cell_type": "code",
   "execution_count": null,
   "id": "774c8101",
   "metadata": {},
   "outputs": [],
   "source": [
    "mae = MeanAbsoluteError()\n",
    "mae(india_cases_test_y, yhat_uni_stacked_india).numpy()"
   ]
  },
  {
   "cell_type": "markdown",
   "id": "37f0270b",
   "metadata": {},
   "source": [
    "#### USA "
   ]
  },
  {
   "cell_type": "code",
   "execution_count": null,
   "id": "dc4f1af9",
   "metadata": {
    "scrolled": false
   },
   "outputs": [],
   "source": [
    "mape = MeanAbsolutePercentageError()\n",
    "mape(usa_cases_test_y, yhat_uni_stacked_usa).numpy()"
   ]
  },
  {
   "cell_type": "code",
   "execution_count": null,
   "id": "28055b55",
   "metadata": {},
   "outputs": [],
   "source": [
    "mae = MeanAbsoluteError()\n",
    "mae(usa_cases_test_y, yhat_uni_stacked_usa).numpy()"
   ]
  },
  {
   "cell_type": "markdown",
   "id": "495682be",
   "metadata": {},
   "source": [
    "### Univariate Stacked -- Long-Term"
   ]
  },
  {
   "cell_type": "markdown",
   "id": "ff9417dd",
   "metadata": {},
   "source": [
    "#### India "
   ]
  },
  {
   "cell_type": "code",
   "execution_count": null,
   "id": "64ff2415",
   "metadata": {
    "scrolled": false
   },
   "outputs": [],
   "source": [
    "mape = MeanAbsolutePercentageError()\n",
    "mape(india_cases_test_y, yhat_uni_stacked_long_india).numpy()"
   ]
  },
  {
   "cell_type": "code",
   "execution_count": null,
   "id": "b2b8976c",
   "metadata": {},
   "outputs": [],
   "source": [
    "mae = MeanAbsoluteError()\n",
    "mae(india_cases_test_y, yhat_uni_stacked_long_india).numpy()"
   ]
  },
  {
   "cell_type": "markdown",
   "id": "004c392e",
   "metadata": {},
   "source": [
    "#### USA"
   ]
  },
  {
   "cell_type": "code",
   "execution_count": null,
   "id": "27280275",
   "metadata": {
    "scrolled": false
   },
   "outputs": [],
   "source": [
    "mape = MeanAbsolutePercentageError()\n",
    "mape(usa_cases_test_y, yhat_uni_stacked_long_usa).numpy()"
   ]
  },
  {
   "cell_type": "code",
   "execution_count": null,
   "id": "0ec760f6",
   "metadata": {},
   "outputs": [],
   "source": [
    "mae = MeanAbsoluteError()\n",
    "mae(usa_cases_test_y, yhat_uni_stacked_long_usa).numpy()"
   ]
  },
  {
   "cell_type": "markdown",
   "id": "e2d05d0d",
   "metadata": {},
   "source": [
    "## Plots"
   ]
  },
  {
   "cell_type": "code",
   "execution_count": null,
   "id": "ab585072",
   "metadata": {},
   "outputs": [],
   "source": [
    "# Reversing Z-score normalization\n",
    "\n",
    "casted_mean = india_cases_mean.to_numpy()\n",
    "casted_std = india_cases_std.to_numpy()\n",
    "\n",
    "india_cases_test_scaled = (india_cases_std[0]*india_cases_test)+india_cases_mean[0]\n",
    "yhat_uni_non_stacked_india_scaled = (india_cases_std[0]*yhat_uni_non_stacked_india)+india_cases_mean[0]\n",
    "yhat_uni_non_stacked_long_india_scaled = (india_cases_std[0]*yhat_uni_non_stacked_long_india)+india_cases_mean[0]\n",
    "yhat_uni_stacked_india_scaled = (india_cases_std[0]*yhat_uni_stacked_india)+india_cases_mean[0]\n",
    "yhat_uni_stacked_long_india_scaled = (india_cases_std[0]*yhat_uni_stacked_long_india)+india_cases_mean[0]\n",
    "\n",
    "usa_cases_test_scaled = (usa_cases_std[0]*usa_cases_test)+usa_cases_mean[0]\n",
    "yhat_uni_non_stacked_usa_scaled = (usa_cases_std[0]*yhat_uni_non_stacked_usa)+usa_cases_mean[0]\n",
    "yhat_uni_non_stacked_long_usa_scaled = (usa_cases_std[0]*yhat_uni_non_stacked_long_usa)+usa_cases_mean[0]\n",
    "yhat_uni_stacked_usa_scaled = (usa_cases_std[0]*yhat_uni_stacked_usa)+usa_cases_mean[0]\n",
    "yhat_uni_stacked_long_usa_scaled = (usa_cases_std[0]*yhat_uni_stacked_long_usa)+usa_cases_mean[0]\n",
    "\n",
    "print(yhat_uni_non_stacked_india_scaled.size)\n",
    "print(india_cases_test_scaled.size)"
   ]
  },
  {
   "cell_type": "code",
   "execution_count": null,
   "id": "c99237e1",
   "metadata": {},
   "outputs": [],
   "source": [
    "def plot_fore_test(test, fore, title):\n",
    "    \n",
    "    fig, ax = plt.subplots()\n",
    "    fig.set_size_inches(12, 8)\n",
    "\n",
    "    ax.plot(test, color='blue', label='Test')\n",
    "    ax.plot(fore, color='red', label='Forecast')\n",
    "    ax.legend(loc='best')\n",
    "    plt.title(title)\n",
    "    plt.show()"
   ]
  },
  {
   "cell_type": "markdown",
   "id": "3c65f229",
   "metadata": {},
   "source": [
    "### Univariate Non Stacked -- Rolling"
   ]
  },
  {
   "cell_type": "code",
   "execution_count": null,
   "id": "567b8174",
   "metadata": {
    "scrolled": true
   },
   "outputs": [],
   "source": [
    "plot_fore_test(india_cases_test_scaled, yhat_uni_non_stacked_india_scaled, title='Daily cases')"
   ]
  },
  {
   "cell_type": "code",
   "execution_count": null,
   "id": "85996694",
   "metadata": {
    "scrolled": false
   },
   "outputs": [],
   "source": [
    "plot_fore_test(usa_cases_test_scaled, yhat_uni_non_stacked_usa_scaled, title='Daily cases')"
   ]
  },
  {
   "cell_type": "markdown",
   "id": "688ffdad",
   "metadata": {},
   "source": [
    "### Univariate Non Stacked -- Long-Term"
   ]
  },
  {
   "cell_type": "code",
   "execution_count": null,
   "id": "3a85b6f9",
   "metadata": {
    "scrolled": true
   },
   "outputs": [],
   "source": [
    "plot_fore_test(india_cases_test_scaled, yhat_uni_non_stacked_long_india_scaled, title='Daily cases')"
   ]
  },
  {
   "cell_type": "code",
   "execution_count": null,
   "id": "be400cae",
   "metadata": {
    "scrolled": true
   },
   "outputs": [],
   "source": [
    "plot_fore_test(usa_cases_test_scaled, yhat_uni_non_stacked_long_usa_scaled, title='Daily cases')"
   ]
  },
  {
   "cell_type": "markdown",
   "id": "53cf3226",
   "metadata": {},
   "source": [
    "### Univariate Stacked -- Rolling"
   ]
  },
  {
   "cell_type": "code",
   "execution_count": null,
   "id": "05e96618",
   "metadata": {
    "scrolled": true
   },
   "outputs": [],
   "source": [
    "plot_fore_test(india_cases_test_scaled, yhat_uni_stacked_india_scaled, title='Daily cases')"
   ]
  },
  {
   "cell_type": "code",
   "execution_count": null,
   "id": "f73d1109",
   "metadata": {
    "scrolled": true
   },
   "outputs": [],
   "source": [
    "plot_fore_test(usa_cases_test_scaled, yhat_uni_stacked_usa_scaled, title='Daily cases')"
   ]
  },
  {
   "cell_type": "markdown",
   "id": "a35ff2d2",
   "metadata": {},
   "source": [
    "### Univariate Stacked -- Long-Term"
   ]
  },
  {
   "cell_type": "code",
   "execution_count": null,
   "id": "72f6e949",
   "metadata": {
    "scrolled": true
   },
   "outputs": [],
   "source": [
    "plot_fore_test(india_cases_test_scaled, yhat_uni_stacked_long_india_scaled, title='Daily cases')"
   ]
  },
  {
   "cell_type": "code",
   "execution_count": null,
   "id": "fc97d816",
   "metadata": {
    "scrolled": true
   },
   "outputs": [],
   "source": [
    "plot_fore_test(usa_cases_test_scaled, yhat_uni_stacked_long_usa_scaled, title='Daily cases')"
   ]
  },
  {
   "cell_type": "markdown",
   "id": "93051980",
   "metadata": {},
   "source": [
    "#  Evaluation Metrics"
   ]
  },
  {
   "cell_type": "code",
   "execution_count": null,
   "id": "9cd9651d",
   "metadata": {},
   "outputs": [],
   "source": [
    "keras_mape = MeanAbsolutePercentageError()\n",
    "keras_mape(india_cases_test_scaled[3:], yhat_uni_non_stacked_india_scaled).numpy()"
   ]
  },
  {
   "cell_type": "code",
   "execution_count": null,
   "id": "bd370af6",
   "metadata": {},
   "outputs": [],
   "source": [
    "def MAPE(Y_actual,Y_Predicted, title):\n",
    "    mask = Y_actual != 0\n",
    "    \n",
    "    mape = np.mean(np.abs((Y_actual - Y_Predicted)/Y_actual)[mask])*100\n",
    "    print(mape)\n",
    "    \n",
    "mape_non_stacked_india = MAPE(india_cases_test_scaled[3:], yhat_uni_non_stacked_india_scaled, title=\"Daily Cases\")\n",
    "mape_stacked_india = MAPE(india_cases_test_scaled[3:], yhat_uni_stacked_india_scaled, title=\"Daily Cases\")\n",
    "# mape_vacc = MAPE(val['Confirmed'], roll_fc, title=\"Daily Cases\")"
   ]
  },
  {
   "cell_type": "code",
   "execution_count": null,
   "id": "61426300",
   "metadata": {},
   "outputs": [],
   "source": [
    "mape_non_stacked_usa = MAPE(usa_cases_test_scaled[3:], yhat_uni_non_stacked_usa_scaled, title=\"Daily Cases\")\n",
    "mape_stacked_usa = MAPE(usa_cases_test_scaled[3:], yhat_uni_stacked_usa_scaled, title=\"Daily Cases\")"
   ]
  },
  {
   "cell_type": "code",
   "execution_count": null,
   "id": "b279112e",
   "metadata": {},
   "outputs": [],
   "source": [
    "from sklearn.metrics import mean_absolute_error\n",
    "\n",
    "print(mean_absolute_error(usa_cases_test_scaled[3:], yhat_uni_non_stacked_usa_scaled))\n",
    "print(mean_absolute_error(usa_cases_test_scaled[3:], yhat_uni_stacked_usa_scaled))"
   ]
  },
  {
   "cell_type": "code",
   "execution_count": null,
   "id": "7f263b58",
   "metadata": {},
   "outputs": [],
   "source": [
    "print(mean_absolute_error(india_cases_test_scaled[3:], yhat_uni_non_stacked_india_scaled))\n",
    "print(mean_absolute_error(india_cases_test_scaled[3:], yhat_uni_stacked_india_scaled))"
   ]
  },
  {
   "cell_type": "code",
   "execution_count": null,
   "id": "c668cbaf",
   "metadata": {},
   "outputs": [],
   "source": []
  }
 ],
 "metadata": {
  "kernelspec": {
   "display_name": "Python 3",
   "language": "python",
   "name": "python3"
  },
  "language_info": {
   "codemirror_mode": {
    "name": "ipython",
    "version": 3
   },
   "file_extension": ".py",
   "mimetype": "text/x-python",
   "name": "python",
   "nbconvert_exporter": "python",
   "pygments_lexer": "ipython3",
   "version": "3.8.3"
  }
 },
 "nbformat": 4,
 "nbformat_minor": 5
}
