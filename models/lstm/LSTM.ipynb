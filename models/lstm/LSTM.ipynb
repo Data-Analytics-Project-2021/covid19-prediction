{
 "cells": [
  {
   "cell_type": "markdown",
   "id": "0d5fe7e8",
   "metadata": {},
   "source": [
    "# LSTM "
   ]
  },
  {
   "cell_type": "markdown",
   "id": "dd34e8d1",
   "metadata": {},
   "source": [
    "## Outline\n",
    "1. [Imports](#imports)\n",
    "2. [Data](#data)\n",
    "3. [Model](#model)\n",
    "5. [Train](#train)\n",
    "6. [Predict](#predict)"
   ]
  },
  {
   "cell_type": "markdown",
   "id": "e1d9ac7f",
   "metadata": {},
   "source": [
    "<a name=imports></a>\n",
    "## Imports"
   ]
  },
  {
   "cell_type": "code",
   "execution_count": null,
   "id": "f0523a96",
   "metadata": {},
   "outputs": [],
   "source": [
    "%load_ext autoreload\n",
    "%autoreload 2\n",
    "import os\n",
    "import datetime\n",
    "\n",
    "import matplotlib.pyplot as plt\n",
    "import seaborn as sns\n",
    "import numpy as np\n",
    "import pandas as pd\n",
    "import tensorflow as tf\n",
    "from sklearn.model_selection import train_test_split\n",
    "\n",
    "import preprocessing"
   ]
  },
  {
   "cell_type": "markdown",
   "id": "7c491998",
   "metadata": {},
   "source": [
    "<a name=data></a>\n",
    "## Data"
   ]
  },
  {
   "cell_type": "markdown",
   "id": "0a309e7a",
   "metadata": {},
   "source": [
    "### Ingestion\n",
    "Load in the dataset as pandas dataframe."
   ]
  },
  {
   "cell_type": "code",
   "execution_count": null,
   "id": "afaf737e",
   "metadata": {
    "scrolled": true
   },
   "outputs": [],
   "source": [
    "# Check preprocessing.py for implementation\n",
    "(india_cases_df, india_vacc_df, usa_cases_df, usa_vacc_df) = preprocessing.ingestion()"
   ]
  },
  {
   "cell_type": "markdown",
   "id": "f3c20324",
   "metadata": {},
   "source": [
    "### Pre-Processing\n",
    "Filter out unnecessary columns. "
   ]
  },
  {
   "cell_type": "markdown",
   "id": "de114c86",
   "metadata": {},
   "source": [
    "#### Multivariate"
   ]
  },
  {
   "cell_type": "code",
   "execution_count": null,
   "id": "605ccfb9",
   "metadata": {
    "scrolled": true
   },
   "outputs": [],
   "source": [
    "# Check preprocessing.py for implementation\n",
    "# Number of Null in India - 563\n",
    "# Number of Null in USA - 261\n",
    "(india_multi, usa_multi) = preprocessing.multivariate(india_cases_df, india_vacc_df, usa_cases_df, usa_vacc_df)"
   ]
  },
  {
   "cell_type": "markdown",
   "id": "89f5285c",
   "metadata": {},
   "source": [
    "#### Univariate "
   ]
  },
  {
   "cell_type": "code",
   "execution_count": null,
   "id": "e4b1809c",
   "metadata": {
    "scrolled": true
   },
   "outputs": [],
   "source": [
    "# Check preprocessing.py for implementation\n",
    "# Number of Null in India - 0\n",
    "# Number of Null in USA - 0\n",
    "(india_cases_uni, usa_cases_uni) = preprocessing.univariate(india_cases_df, usa_cases_df)"
   ]
  },
  {
   "cell_type": "markdown",
   "id": "0cfda042",
   "metadata": {},
   "source": [
    "### Drop Null\n",
    "Merging the vaccination and #cases datasets together for multivariate time series produces null values. Dropping the nuWe solve this by dropping the null values.ll values ensures that we take an inner join."
   ]
  },
  {
   "cell_type": "code",
   "execution_count": null,
   "id": "5da88ec8",
   "metadata": {
    "scrolled": true
   },
   "outputs": [],
   "source": [
    "(india_multi, usa_multi) = preprocessing.dropNull(india_multi, usa_multi)"
   ]
  },
  {
   "cell_type": "markdown",
   "id": "232ea188",
   "metadata": {},
   "source": [
    "### Normalize\n",
    "Perform a Z-score normalization."
   ]
  },
  {
   "cell_type": "code",
   "execution_count": null,
   "id": "80d9ac95",
   "metadata": {
    "scrolled": true
   },
   "outputs": [],
   "source": [
    "# Check preprocessing.py for implementation\n",
    "(india_uni_norm, usa_uni_norm, india_multi_norm, usa_multi_norm,india_cases_mean,india_cases_std,usa_cases_mean,usa_cases_std,india_multi_mean,india_multi_std,\n",
    "usa_multi_mean, usa_multi_std) = preprocessing.normalize(india_cases_uni, \n",
    "                                                                                           usa_cases_uni, \n",
    "                                                                                           india_multi, \n",
    "                                                                                           usa_multi)"
   ]
  },
  {
   "cell_type": "markdown",
   "id": "cb5eeb1a",
   "metadata": {},
   "source": [
    "### Create Splits\n",
    "Break the dataset into train and test. The current split is 80:20."
   ]
  },
  {
   "cell_type": "code",
   "execution_count": null,
   "id": "b0091c73",
   "metadata": {
    "scrolled": true
   },
   "outputs": [],
   "source": [
    "# Create train test splits\n",
    "(india_uni_train, india_uni_test, usa_uni_train, usa_uni_test) = preprocessing.split(india_uni_norm, usa_uni_norm, 0.2)\n",
    "(india_multi_train, india_multi_test, \n",
    " usa_multi_train, usa_multi_test) = preprocessing.split(india_multi_norm, usa_multi_norm, 0.2)"
   ]
  },
  {
   "cell_type": "markdown",
   "id": "f2d3cf70",
   "metadata": {},
   "source": [
    "### Data Transformation\n",
    "Simple conversion from pandas dataframe to numpy array by extracting the values."
   ]
  },
  {
   "cell_type": "code",
   "execution_count": null,
   "id": "e4177f33",
   "metadata": {},
   "outputs": [],
   "source": [
    "# Univariate\n",
    "india_uni_train_np, india_uni_test_np = india_uni_train.values,  india_uni_test.values\n",
    "usa_uni_train_np, usa_uni_test_np = usa_uni_train.values, usa_uni_test.values\n",
    "# Multivariate\n",
    "india_multi_train_np, india_multi_test_np = india_multi_train.values,  india_multi_test.values\n",
    "usa_multi_train_np, usa_multi_test_np = usa_multi_train.values, usa_multi_test.values"
   ]
  },
  {
   "cell_type": "code",
   "execution_count": null,
   "id": "f1494860",
   "metadata": {},
   "outputs": [],
   "source": [
    "print(india_uni_train_np.shape, india_uni_test_np.shape)\n",
    "print(india_multi_train_np.shape, india_multi_test_np.shape)"
   ]
  },
  {
   "cell_type": "markdown",
   "id": "70313f46",
   "metadata": {},
   "source": [
    "### Reshape\n",
    "Converts the exiting train data set to match the input parameters of an LSTM (Samples, Time Steps, Features). The `lstm_data_transform()` method takes in 3 arguments: X data, y data and number of features.\n",
    "\n",
    "We will be performing autoregression on the univariate data, therefore the X and y values are the same. As for the multivariate data, we will be using the confirmed column (index 0) as the y value."
   ]
  },
  {
   "cell_type": "code",
   "execution_count": null,
   "id": "ea412c7e",
   "metadata": {},
   "outputs": [],
   "source": [
    "india_uni_train_np"
   ]
  },
  {
   "cell_type": "code",
   "execution_count": null,
   "id": "c258e12e",
   "metadata": {},
   "outputs": [],
   "source": [
    "timesteps = 14"
   ]
  },
  {
   "cell_type": "code",
   "execution_count": null,
   "id": "7186d5c4",
   "metadata": {},
   "outputs": [],
   "source": [
    "# Univariate\n",
    "india_uni_train_X, india_uni_train_y = preprocessing.lstm_data_transform(india_uni_train_np, india_uni_train_np,\n",
    "                                                                         timesteps)\n",
    "usa_uni_train_X, usa_uni_train_y = preprocessing.lstm_data_transform(usa_uni_train_np, usa_uni_train_np,\n",
    "                                                                     timesteps)\n",
    "# Multivariate\n",
    "india_multi_train_X, india_multi_train_y = preprocessing.lstm_data_transform(india_multi_train_np, india_multi_train_np, timesteps)\n",
    "usa_multi_train_X, usa_multi_train_y = preprocessing.lstm_data_transform(usa_multi_train_np, usa_multi_train_np, timesteps)\n",
    "# usa_multi_train_X, usa_multi_train_y = preprocessing.lstm_data_transform(usa_multi_train_np, usa_multi_train_np[:,0], timesteps)"
   ]
  },
  {
   "cell_type": "code",
   "execution_count": null,
   "id": "e7de6ec7",
   "metadata": {},
   "outputs": [],
   "source": [
    "print(\"Univariate India shape:\",india_uni_train_X.shape, india_uni_train_y.shape)\n",
    "print(\"Multivariate India shape:\",india_multi_train_X.shape, india_multi_train_y.shape)"
   ]
  },
  {
   "cell_type": "markdown",
   "id": "ee9390a9",
   "metadata": {},
   "source": [
    "The univariate array shape for the India dataset has 566 samples, 3 as the time step, and 1 feature for the X values. The y values is just the 566 samples.\n",
    "\n",
    "Similarly, the multivariate array shape for the India dataset has 276 samples, 3 as the time step, and 2 features for the X values. The y values is just the 276 samples of the 0th column (Confirmed cases)."
   ]
  },
  {
   "cell_type": "markdown",
   "id": "b317a133",
   "metadata": {},
   "source": [
    "<a name=model></a>\n",
    "## Model\n",
    "We will define 4 models in total. One for the univariate data and another for the multivariate for each country."
   ]
  },
  {
   "cell_type": "code",
   "execution_count": null,
   "id": "e32d9552",
   "metadata": {},
   "outputs": [],
   "source": [
    "import LSTMmodels\n",
    "from keras.wrappers.scikit_learn import KerasRegressor\n",
    "import tensorflow as tf"
   ]
  },
  {
   "cell_type": "code",
   "execution_count": null,
   "id": "c428d507",
   "metadata": {
    "scrolled": true
   },
   "outputs": [],
   "source": [
    "univariate_model_ind = LSTMmodels.build_lstm(time_steps=india_uni_train_X.shape[1],\n",
    "                                             features=india_uni_train_X.shape[2])\n",
    "univariate_model_usa = LSTMmodels.build_lstm(time_steps=usa_uni_train_X.shape[1],\n",
    "                                             features=usa_uni_train_X.shape[2])"
   ]
  },
  {
   "cell_type": "code",
   "execution_count": null,
   "id": "1b44cd5f",
   "metadata": {
    "scrolled": true
   },
   "outputs": [],
   "source": [
    "multivariate_model_ind = LSTMmodels.build_lstm(time_steps=india_multi_train_X.shape[1],\n",
    "                                               features=india_multi_train_X.shape[2], outputs=2)\n",
    "multivariate_model_usa = LSTMmodels.build_lstm(time_steps=usa_multi_train_X.shape[1],\n",
    "                                               features=usa_multi_train_X.shape[2], outputs=2)"
   ]
  },
  {
   "cell_type": "markdown",
   "id": "9b8e6136",
   "metadata": {},
   "source": [
    "<a name=train></a>\n",
    "## Train "
   ]
  },
  {
   "cell_type": "code",
   "execution_count": null,
   "id": "a26763b0",
   "metadata": {},
   "outputs": [],
   "source": [
    "# Get the path of the current working directory\n",
    "curPath = os.getcwd()\n",
    "# Appened the parent directory to the current path to step out of the current folder\n",
    "parentDir = os.path.abspath(os.path.join(curPath, os.pardir))\n",
    "# Tensorboard callback\n",
    "logdir = os.path.join(parentDir+\"/logs\", datetime.datetime.now().strftime(\"%Y%m%d-%H%M%S\"))\n",
    "tensorboard_callback = tf.keras.callbacks.TensorBoard(logdir, histogram_freq=1)"
   ]
  },
  {
   "cell_type": "code",
   "execution_count": null,
   "id": "93b996f1",
   "metadata": {},
   "outputs": [],
   "source": [
    "def train_models(model,train_X,train_y,test_X,test_y):\n",
    "    model.fit(train_X,train_y,\n",
    "              validation_data=(test_X,test_y),\n",
    "              epochs=300,\n",
    "              callbacks=[tensorboard_callback])\n",
    "    return model\n",
    "#     model.save(save_name)"
   ]
  },
  {
   "cell_type": "code",
   "execution_count": null,
   "id": "e7513882",
   "metadata": {
    "scrolled": true
   },
   "outputs": [],
   "source": [
    "# Train the model on univariate India dataset \n",
    "univariate_model_ind = LSTMmodels.train_model(univariate_model_ind,india_uni_train_X,india_uni_train_y,\n",
    "                                              tensorboard_callback)"
   ]
  },
  {
   "cell_type": "code",
   "execution_count": null,
   "id": "722bc174",
   "metadata": {
    "scrolled": true
   },
   "outputs": [],
   "source": [
    "# Train the model on univariate USA dataset \n",
    "univariate_model_usa = LSTMmodels.train_model(univariate_model_usa,usa_uni_train_X,usa_uni_train_y,\n",
    "                                              tensorboard_callback)"
   ]
  },
  {
   "cell_type": "code",
   "execution_count": null,
   "id": "8b00e741",
   "metadata": {
    "scrolled": true
   },
   "outputs": [],
   "source": [
    "# Train the model on multivariate India dataset\n",
    "multivariate_model_ind = LSTMmodels.train_model(multivariate_model_ind,india_multi_train_X,india_multi_train_y,\n",
    "                                                tensorboard_callback)"
   ]
  },
  {
   "cell_type": "code",
   "execution_count": null,
   "id": "9c2d136b",
   "metadata": {
    "scrolled": true
   },
   "outputs": [],
   "source": [
    "# Train the model on multivariate USA dataset\n",
    "multivariate_model_usa = LSTMmodels.train_model(multivariate_model_usa,usa_multi_train_X,usa_multi_train_y,\n",
    "                                                tensorboard_callback)"
   ]
  },
  {
   "cell_type": "markdown",
   "id": "e867789b",
   "metadata": {},
   "source": [
    "<a name=predict></a>\n",
    "## Predict\n",
    "There are 2 different types of prediction methods. \n",
    "1. Long-term predictions\n",
    "\n",
    "This type of prediction uses a sliding window to continue to predict into the future by continuing to use the forecasted values.\n",
    "\n",
    "2. Rolling short-term predictions\n",
    "\n",
    "This prediction method continues to train the LSTM model every 14 iterations. Unlike the long-term predictions, this model forecasts one day at a time."
   ]
  },
  {
   "cell_type": "code",
   "execution_count": null,
   "id": "4756af61",
   "metadata": {},
   "outputs": [],
   "source": [
    "import evaluate"
   ]
  },
  {
   "cell_type": "code",
   "execution_count": null,
   "id": "de095795",
   "metadata": {
    "scrolled": true
   },
   "outputs": [],
   "source": [
    "india_uni_test_np.shape"
   ]
  },
  {
   "cell_type": "markdown",
   "id": "ce599ee4",
   "metadata": {},
   "source": [
    "#### Long-Term "
   ]
  },
  {
   "cell_type": "code",
   "execution_count": null,
   "id": "396e4040",
   "metadata": {
    "scrolled": true
   },
   "outputs": [],
   "source": [
    "# Univariate Long-Term\n",
    "yhat_uni_india = evaluate.make_predictions(univariate_model_ind,india_uni_test_np,timesteps,india_uni_test_np.shape[1])\n",
    "yhat_uni_usa = evaluate.make_predictions(univariate_model_usa,usa_uni_test_np,timesteps,usa_uni_test_np.shape[1])"
   ]
  },
  {
   "cell_type": "code",
   "execution_count": null,
   "id": "b3c2753e",
   "metadata": {},
   "outputs": [],
   "source": [
    "#Multivariate Long-Term \n",
    "yhat_multi_india_long = evaluate.make_predictions(multivariate_model_ind,india_multi_test_np,timesteps,india_multi_test_np.shape[1])\n",
    "yhat_multi_usa_long = evaluate.make_predictions(multivariate_model_usa,usa_multi_test_np,timesteps,usa_multi_test_np.shape[1])"
   ]
  },
  {
   "cell_type": "markdown",
   "id": "bc3035bf",
   "metadata": {},
   "source": [
    "#### Rolling Short-Term "
   ]
  },
  {
   "cell_type": "code",
   "execution_count": null,
   "id": "0e79df33",
   "metadata": {
    "scrolled": true
   },
   "outputs": [],
   "source": [
    "# Univariate Rolling Short-Term\n",
    "yhat_uni_india_short, y_uni_india_short, univariate_model_ind = evaluate.make_predictions_short(univariate_model_ind,\n",
    "                                                                                                india_uni_train_np,\n",
    "                                                                                                india_uni_test_np,timesteps,\n",
    "                                                                                                india_uni_test_np.shape[1],\n",
    "                                                                                               tensorboard_callback)\n",
    "yhat_uni_usa_short, y_uni_usa_short, univariate_model_usa = evaluate.make_predictions_short(univariate_model_usa, \n",
    "                                                                                            usa_uni_train_np,\n",
    "                                                                                            usa_uni_test_np,timesteps,\n",
    "                                                                                            usa_uni_test_np.shape[1],\n",
    "                                                                                           tensorboard_callback)"
   ]
  },
  {
   "cell_type": "code",
   "execution_count": null,
   "id": "a4dddd57",
   "metadata": {
    "scrolled": true
   },
   "outputs": [],
   "source": [
    "# Reshaping the data to standard dim 1\n",
    "yhat_uni_india_short = np.concatenate(yhat_uni_india_short).flatten()\n",
    "yhat_uni_india_short"
   ]
  },
  {
   "cell_type": "code",
   "execution_count": null,
   "id": "fb87595a",
   "metadata": {},
   "outputs": [],
   "source": [
    "# Reshaping the data to standard dim 1\n",
    "yhat_uni_usa_short = np.concatenate(yhat_uni_usa_short).flatten()\n",
    "yhat_uni_usa_short"
   ]
  },
  {
   "cell_type": "code",
   "execution_count": null,
   "id": "27e4d71b",
   "metadata": {},
   "outputs": [],
   "source": [
    "india_multi_test_np.shape"
   ]
  },
  {
   "cell_type": "code",
   "execution_count": null,
   "id": "f1af0151",
   "metadata": {
    "scrolled": true
   },
   "outputs": [],
   "source": [
    "# Multivariate Rolling Short-Term\n",
    "yhat_multi_india, y_multi_india_short, multivariate_model_ind = evaluate.make_predictions_short(multivariate_model_ind, india_multi_train_np,india_multi_test_np,timesteps,\n",
    "                                                                                                india_multi_test_np.shape[1],\n",
    "                                                                                               tensorboard_callback, india_multi_test_np.shape[0])\n",
    "yhat_multi_usa, y_multi_india_short, multivariate_model_usa = evaluate.make_predictions_short(multivariate_model_usa,usa_multi_train_np,usa_multi_test_np,\n",
    "                                                                      timesteps,usa_multi_test_np.shape[1],\n",
    "                                                                     tensorboard_callback, usa_multi_test_np.shape[0])"
   ]
  },
  {
   "cell_type": "code",
   "execution_count": null,
   "id": "caf1a927",
   "metadata": {
    "scrolled": true
   },
   "outputs": [],
   "source": [
    "# print(yhat_multi_india)\n",
    "# print(yhat_multi_usa.shape)\n",
    "yhat_multi_india = np.concatenate(yhat_multi_india).flatten()\n",
    "print(yhat_multi_india)\n",
    "yhat_multi_usa = np.concatenate(yhat_multi_usa).flatten()\n",
    "print(yhat_multi_usa)\n",
    "\n",
    "# yhat_multi_india = yhat_multi_india[0]\n",
    "# yhat_multi_usa = yhat_multi_usa[0]\n",
    "yhat_multi_india_long = yhat_multi_india_long[0]\n",
    "yhat_multi_usa_long = yhat_multi_usa_long[0]"
   ]
  },
  {
   "cell_type": "code",
   "execution_count": null,
   "id": "8cf36087",
   "metadata": {
    "scrolled": true
   },
   "outputs": [],
   "source": [
    "print(yhat_multi_india.shape,\n",
    "yhat_multi_usa.shape,\n",
    "yhat_multi_india_long.shape,\n",
    "yhat_multi_usa_long.shape)"
   ]
  },
  {
   "cell_type": "markdown",
   "id": "a4116fc8",
   "metadata": {},
   "source": [
    "TODO: Need to fix index out of bounds error"
   ]
  },
  {
   "cell_type": "markdown",
   "id": "d9cfc1ba",
   "metadata": {},
   "source": [
    "## Evaluate"
   ]
  },
  {
   "cell_type": "markdown",
   "id": "2be08534",
   "metadata": {},
   "source": [
    "### Denormalize Data\n",
    "First step is to denormalize the data back to it's original scale."
   ]
  },
  {
   "cell_type": "markdown",
   "id": "50952ff2",
   "metadata": {},
   "source": [
    "#### Long-Term "
   ]
  },
  {
   "cell_type": "markdown",
   "id": "f3800604",
   "metadata": {},
   "source": [
    "##### Univariate "
   ]
  },
  {
   "cell_type": "code",
   "execution_count": null,
   "id": "35020917",
   "metadata": {},
   "outputs": [],
   "source": [
    "yhat_uni_india_short.size"
   ]
  },
  {
   "cell_type": "code",
   "execution_count": null,
   "id": "1e3d06ce",
   "metadata": {
    "scrolled": true
   },
   "outputs": [],
   "source": [
    "y_uni_india_short.size"
   ]
  },
  {
   "cell_type": "code",
   "execution_count": null,
   "id": "2dd4c0da",
   "metadata": {},
   "outputs": [],
   "source": [
    "yhat_uni_usa_short.size"
   ]
  },
  {
   "cell_type": "code",
   "execution_count": null,
   "id": "338a101b",
   "metadata": {},
   "outputs": [],
   "source": [
    "y_uni_usa_short.size"
   ]
  },
  {
   "cell_type": "code",
   "execution_count": null,
   "id": "02889989",
   "metadata": {},
   "outputs": [],
   "source": [
    "# Denormalize univariate India data\n",
    "india_uni_test_np_denorm = preprocessing.de_normalize(india_uni_test_np.flatten()[timesteps:],np.array(india_cases_mean),np.array(india_cases_std))\n",
    "yhat_uni_india_denorm = preprocessing.de_normalize(yhat_uni_india.flatten()[timesteps:],np.array(india_cases_mean),np.array(india_cases_std))"
   ]
  },
  {
   "cell_type": "code",
   "execution_count": null,
   "id": "7a563c84",
   "metadata": {
    "scrolled": true
   },
   "outputs": [],
   "source": [
    "india_uni_test_np_denorm = np.round(india_uni_test_np_denorm)\n",
    "yhat_uni_india_denorm = np.round(yhat_uni_india_denorm)"
   ]
  },
  {
   "cell_type": "code",
   "execution_count": null,
   "id": "e6ab5753",
   "metadata": {},
   "outputs": [],
   "source": [
    "# Denormalize univariate USA data\n",
    "usa_uni_test_np_denorm = preprocessing.de_normalize(usa_uni_test_np,np.array(usa_cases_mean),np.array(usa_cases_std))\n",
    "yhat_uni_usa_denorm = preprocessing.de_normalize(yhat_uni_usa.flatten()[timesteps:],np.array(usa_cases_mean),np.array(usa_cases_std))"
   ]
  },
  {
   "cell_type": "code",
   "execution_count": null,
   "id": "c72b3359",
   "metadata": {},
   "outputs": [],
   "source": [
    "usa_uni_test_np_denorm = np.round(usa_uni_test_np_denorm)\n",
    "yhat_uni_usa_denorm = np.round(yhat_uni_usa_denorm)"
   ]
  },
  {
   "cell_type": "code",
   "execution_count": null,
   "id": "1470f46c",
   "metadata": {},
   "outputs": [],
   "source": [
    "yhat_multi_india.shape"
   ]
  },
  {
   "cell_type": "markdown",
   "id": "9791b82f",
   "metadata": {},
   "source": [
    "##### Multivariate\n",
    "::TODO"
   ]
  },
  {
   "cell_type": "code",
   "execution_count": null,
   "id": "62eaacd0",
   "metadata": {},
   "outputs": [],
   "source": [
    "# Denormalize multivariate India data - long term\n",
    "india_multi_test_np_long_denorm = preprocessing.de_normalize(india_multi_test_np[:,0].flatten()[timesteps:],np.array(india_multi_mean[0]),np.array(india_multi_std[0]))\n",
    "yhat_multi_india_long_denorm = preprocessing.de_normalize(yhat_multi_india_long[:,0].flatten()[timesteps:],np.array(india_multi_mean[0]),np.array(india_multi_std[0]))"
   ]
  },
  {
   "cell_type": "code",
   "execution_count": null,
   "id": "3752a3cc",
   "metadata": {},
   "outputs": [],
   "source": [
    "india_multi_test_np_long_denorm = np.round(india_multi_test_np_long_denorm)\n",
    "yhat_multi_india_long_denorm = np.round(yhat_multi_india_long_denorm)"
   ]
  },
  {
   "cell_type": "code",
   "execution_count": null,
   "id": "504d7d54",
   "metadata": {},
   "outputs": [],
   "source": [
    "# Denormalize multivariate USA data - long term\n",
    "usa_multi_test_np_long_denorm = preprocessing.de_normalize(usa_multi_test_np[:,0].flatten()[timesteps:],np.array(usa_multi_mean[0]),np.array(usa_multi_std[0]))\n",
    "yhat_multi_usa_long_denorm = preprocessing.de_normalize(yhat_multi_usa_long[:,0].flatten()[timesteps:],np.array(usa_multi_mean[0]),np.array(usa_multi_std[0]))"
   ]
  },
  {
   "cell_type": "code",
   "execution_count": null,
   "id": "d2e9bcc0",
   "metadata": {},
   "outputs": [],
   "source": [
    "usa_multi_test_np_long_denorm = np.round(usa_multi_test_np_long_denorm)\n",
    "yhat_multi_usa_long_denorm = np.round(yhat_multi_usa_long_denorm)"
   ]
  },
  {
   "cell_type": "markdown",
   "id": "e42d2804",
   "metadata": {},
   "source": [
    "#### Rolling Short-Term "
   ]
  },
  {
   "cell_type": "code",
   "execution_count": null,
   "id": "3d097782",
   "metadata": {},
   "outputs": [],
   "source": [
    "yhat_multi_usa"
   ]
  },
  {
   "cell_type": "code",
   "execution_count": null,
   "id": "45adeeaf",
   "metadata": {},
   "outputs": [],
   "source": [
    "yhat_multi_india_long[0]"
   ]
  },
  {
   "cell_type": "markdown",
   "id": "7ccd62bb",
   "metadata": {},
   "source": [
    "##### Univariate "
   ]
  },
  {
   "cell_type": "code",
   "execution_count": null,
   "id": "397bbe66",
   "metadata": {},
   "outputs": [],
   "source": [
    "# Denormalize univariate short India data\n",
    "india_uni_test_short_denorm = preprocessing.de_normalize(y_uni_india_short,np.array(india_cases_mean),np.array(india_cases_std))\n",
    "yhat_uni_india_short_denorm = preprocessing.de_normalize(yhat_uni_india_short,np.array(india_cases_mean),np.array(india_cases_std))"
   ]
  },
  {
   "cell_type": "code",
   "execution_count": null,
   "id": "23fd8b1b",
   "metadata": {},
   "outputs": [],
   "source": [
    "india_uni_test_short_denorm = np.round(india_uni_test_short_denorm)\n",
    "yhat_uni_india_short_denorm = np.round(yhat_uni_india_short_denorm)"
   ]
  },
  {
   "cell_type": "code",
   "execution_count": null,
   "id": "29c36a6e",
   "metadata": {},
   "outputs": [],
   "source": [
    "# Denormalize univariate short USA data\n",
    "usa_uni_test_short_denorm = preprocessing.de_normalize(y_uni_usa_short,np.array(usa_cases_mean),np.array(usa_cases_std))\n",
    "yhat_uni_usa_short_denorm = preprocessing.de_normalize(yhat_uni_usa_short,np.array(usa_cases_mean),np.array(usa_cases_std))"
   ]
  },
  {
   "cell_type": "code",
   "execution_count": null,
   "id": "4cdc959e",
   "metadata": {},
   "outputs": [],
   "source": [
    "usa_uni_test_short_denorm = np.round(usa_uni_test_short_denorm)\n",
    "yhat_uni_usa_short_denorm = np.round(yhat_uni_usa_short_denorm)"
   ]
  },
  {
   "cell_type": "markdown",
   "id": "e9f6baa0",
   "metadata": {},
   "source": [
    "##### Multivariate"
   ]
  },
  {
   "cell_type": "code",
   "execution_count": null,
   "id": "8c78fbf1",
   "metadata": {
    "scrolled": true
   },
   "outputs": [],
   "source": [
    "# Denormalize multivariate India data - short term\n",
    "india_multi_test_np_denorm = preprocessing.de_normalize(india_multi_test_np[:,0].flatten()[timesteps:],np.array(india_multi_mean[0]),np.array(india_multi_std[0]))\n",
    "# yhat_multi_india_denorm = preprocessing.de_normalize(yhat_multi_india[:,0].flatten()[timesteps:],np.array(india_multi_mean[0]),np.array(india_multi_std[0]))\n",
    "yhat_multi_india_denorm = preprocessing.de_normalize(yhat_multi_india.flatten()[timesteps:],np.array(india_multi_mean[0]),np.array(india_multi_std[0]))"
   ]
  },
  {
   "cell_type": "code",
   "execution_count": null,
   "id": "8b717b19",
   "metadata": {},
   "outputs": [],
   "source": [
    "india_multi_test_np_denorm = np.round(india_multi_test_np_denorm)\n",
    "yhat_multi_india_denorm = np.round(yhat_multi_india_denorm)"
   ]
  },
  {
   "cell_type": "code",
   "execution_count": null,
   "id": "d29e16b9",
   "metadata": {},
   "outputs": [],
   "source": [
    "# Denormalize multivariate USA data - short term\n",
    "usa_multi_test_np_denorm = preprocessing.de_normalize(usa_multi_test_np[:,0].flatten()[timesteps:],np.array(usa_multi_mean[0]),np.array(usa_multi_std[0]))\n",
    "# yhat_multi_usa_denorm = preprocessing.de_normalize(yhat_multi_usa[:,0].flatten()[timesteps:],np.array(usa_multi_mean[0]),np.array(usa_multi_std[0]))\n",
    "yhat_multi_usa_denorm = preprocessing.de_normalize(yhat_multi_usa.flatten()[timesteps:],np.array(usa_multi_mean[0]),np.array(usa_multi_std[0]))"
   ]
  },
  {
   "cell_type": "code",
   "execution_count": null,
   "id": "70925094",
   "metadata": {},
   "outputs": [],
   "source": [
    "usa_multi_test_np_denorm = np.round(usa_multi_test_np_denorm)\n",
    "yhat_multi_usa_denorm = np.round(yhat_multi_usa_denorm)"
   ]
  },
  {
   "cell_type": "code",
   "execution_count": null,
   "id": "72679edd",
   "metadata": {
    "scrolled": false
   },
   "outputs": [],
   "source": [
    "# # Denormalize multivariate India data\n",
    "# india_multi_test_np_denorm = preprocessing.de_normalize(india_multi_test_np[:,0].flatten()[timesteps:],np.array(india_multi_mean[0]),np.array(india_multi_std[0]))\n",
    "# yhat_multi_india_denorm = preprocessing.de_normalize(yhat_multi_india.flatten()[timesteps:],np.array(india_multi_mean[0]),np.array(india_multi_std[0]))"
   ]
  },
  {
   "cell_type": "code",
   "execution_count": null,
   "id": "00f117dd",
   "metadata": {
    "scrolled": true
   },
   "outputs": [],
   "source": [
    "# COME BACK Multivariate India\n",
    "multi_india_eval = evaluate.evaluate(india_multi_test_np_denorm[14:-1], yhat_multi_india_denorm[:-1])\n",
    "multi_india_eval.insert(0,'Multivariate Short-Term India')\n",
    "multi_india_eval"
   ]
  },
  {
   "cell_type": "markdown",
   "id": "843ea101",
   "metadata": {},
   "source": [
    "### Get Metrics \n",
    "Return format: (mape, mae, rmse)"
   ]
  },
  {
   "cell_type": "markdown",
   "id": "e8b01161",
   "metadata": {},
   "source": [
    "#### Short-Term Rolling Forecast"
   ]
  },
  {
   "cell_type": "code",
   "execution_count": null,
   "id": "ad8ce941",
   "metadata": {
    "scrolled": true
   },
   "outputs": [],
   "source": [
    "denorm_test = evaluate.evaluate(india_cases_uni.values[-(india_uni_test_short_denorm.size):].flatten(),india_uni_test_short_denorm)\n",
    "denorm_test"
   ]
  },
  {
   "cell_type": "code",
   "execution_count": null,
   "id": "493f23fd",
   "metadata": {},
   "outputs": [],
   "source": [
    "uni_india_eval = evaluate.evaluate(india_uni_test_np_denorm, yhat_uni_india_denorm)\n",
    "uni_india_eval.insert(0,'Univariate India')\n",
    "uni_india_eval"
   ]
  },
  {
   "cell_type": "code",
   "execution_count": null,
   "id": "7988dca5",
   "metadata": {},
   "outputs": [],
   "source": [
    "usa_uni_test_np_denorm.flatten()[timesteps:].size"
   ]
  },
  {
   "cell_type": "code",
   "execution_count": null,
   "id": "b299ca31",
   "metadata": {},
   "outputs": [],
   "source": [
    "yhat_uni_usa_denorm.size"
   ]
  },
  {
   "cell_type": "code",
   "execution_count": null,
   "id": "5b158c39",
   "metadata": {
    "scrolled": true
   },
   "outputs": [],
   "source": [
    "uni_usa_eval = evaluate.evaluate(usa_uni_test_np_denorm[timesteps:], yhat_uni_usa_denorm)\n",
    "uni_usa_eval.insert(0,'Univariate USA')\n",
    "uni_usa_eval"
   ]
  },
  {
   "cell_type": "code",
   "execution_count": null,
   "id": "884a4694",
   "metadata": {},
   "outputs": [],
   "source": [
    "# Short term\n",
    "uni_india_short_eval = evaluate.evaluate(india_uni_test_short_denorm, yhat_uni_india_short_denorm)\n",
    "uni_india_short_eval.insert(0,'Univariate Short-Term India')\n",
    "uni_india_short_eval"
   ]
  },
  {
   "cell_type": "code",
   "execution_count": null,
   "id": "296a4476",
   "metadata": {
    "scrolled": true
   },
   "outputs": [],
   "source": [
    "uni_usa_short_eval = evaluate.evaluate(usa_uni_test_short_denorm, yhat_uni_usa_short_denorm)\n",
    "uni_usa_short_eval.insert(0,'Univariate Short-Term USA')\n",
    "uni_usa_short_eval"
   ]
  },
  {
   "cell_type": "code",
   "execution_count": null,
   "id": "4be8f961",
   "metadata": {
    "scrolled": true
   },
   "outputs": [],
   "source": [
    "# Multivariate India\n",
    "multi_india_eval = evaluate.evaluate(india_multi_test_np_denorm[14:], yhat_multi_india_denorm)\n",
    "multi_india_eval.insert(0,'Multivariate Short-Term India')\n",
    "multi_india_eval"
   ]
  },
  {
   "cell_type": "markdown",
   "id": "34e28f9a",
   "metadata": {},
   "source": [
    "### Visualize performance\n",
    "TODO: Still need to add multivariate metrics"
   ]
  },
  {
   "cell_type": "code",
   "execution_count": null,
   "id": "95c68a65",
   "metadata": {
    "scrolled": true
   },
   "outputs": [],
   "source": [
    "d = [uni_india_eval,uni_usa_eval,uni_india_short_eval,uni_usa_short_eval]\n",
    "pd.DataFrame(data=d, columns=['Models','MAPE','MAE','RMSE'])"
   ]
  },
  {
   "cell_type": "markdown",
   "id": "6176e2f9",
   "metadata": {},
   "source": [
    "## Plots"
   ]
  },
  {
   "cell_type": "markdown",
   "id": "3a51798a",
   "metadata": {},
   "source": [
    "#### Long-Term Rolling forecasts"
   ]
  },
  {
   "cell_type": "code",
   "execution_count": null,
   "id": "56c45996",
   "metadata": {
    "scrolled": false
   },
   "outputs": [],
   "source": [
    "evaluate.plot_fore_test(india_uni_test_np_denorm[timesteps:], yhat_uni_india_denorm, 'Univariate Long-Term India')"
   ]
  },
  {
   "cell_type": "code",
   "execution_count": null,
   "id": "30017d70",
   "metadata": {
    "scrolled": false
   },
   "outputs": [],
   "source": [
    "evaluate.plot_fore_test(usa_uni_test_np_denorm[timesteps:], yhat_uni_usa_denorm, 'Univariate Long-Term USA')"
   ]
  },
  {
   "cell_type": "code",
   "execution_count": null,
   "id": "cd27e4cb",
   "metadata": {},
   "outputs": [],
   "source": [
    "evaluate.plot_fore_test(india_multi_test_np_long_denorm[14:], yhat_multi_india_long_denorm[:60], \"Multivariate Long-Term India\")"
   ]
  },
  {
   "cell_type": "code",
   "execution_count": null,
   "id": "d1f83d4a",
   "metadata": {},
   "outputs": [],
   "source": [
    "evaluate.plot_fore_test(usa_multi_test_np_long_denorm[14:], yhat_multi_usa_long_denorm[:60], \"Multivariate Long-Term USA\")"
   ]
  },
  {
   "cell_type": "markdown",
   "id": "e134c994",
   "metadata": {},
   "source": [
    "#### Short-Term Rolling Forecast"
   ]
  },
  {
   "cell_type": "code",
   "execution_count": null,
   "id": "483de689",
   "metadata": {
    "scrolled": true
   },
   "outputs": [],
   "source": [
    "evaluate.plot_fore_test(india_uni_test_short_denorm, yhat_uni_india_short_denorm, \"Univariate Short-Term India\")"
   ]
  },
  {
   "cell_type": "code",
   "execution_count": null,
   "id": "f26b7cdc",
   "metadata": {},
   "outputs": [],
   "source": [
    "evaluate.plot_fore_test(usa_uni_test_short_denorm, yhat_uni_usa_short_denorm, \"Univariate Short-Term USA\")"
   ]
  },
  {
   "cell_type": "code",
   "execution_count": null,
   "id": "3f78c75a",
   "metadata": {},
   "outputs": [],
   "source": [
    "evaluate.plot_fore_test(india_multi_test_np_denorm[14:], yhat_multi_india_denorm, \"Multivariate Short-Term India\")"
   ]
  },
  {
   "cell_type": "code",
   "execution_count": null,
   "id": "6a80afb6",
   "metadata": {},
   "outputs": [],
   "source": [
    "evaluate.plot_fore_test(usa_multi_test_np_denorm[14:], yhat_multi_usa_denorm, \"Multivariate Short-Term USA\")"
   ]
  }
 ],
 "metadata": {
  "kernelspec": {
   "display_name": "Python 3",
   "language": "python",
   "name": "python3"
  },
  "language_info": {
   "codemirror_mode": {
    "name": "ipython",
    "version": 3
   },
   "file_extension": ".py",
   "mimetype": "text/x-python",
   "name": "python",
   "nbconvert_exporter": "python",
   "pygments_lexer": "ipython3",
   "version": "3.6.9"
  }
 },
 "nbformat": 4,
 "nbformat_minor": 5
}
