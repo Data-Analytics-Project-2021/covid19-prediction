{
 "cells": [
  {
   "cell_type": "markdown",
   "id": "0d5fe7e8",
   "metadata": {},
   "source": [
    "# LSTM "
   ]
  },
  {
   "cell_type": "markdown",
   "id": "dd34e8d1",
   "metadata": {},
   "source": [
    "## Outline\n",
    "1. [Imports](#imports)\n",
    "2. [Data](#data)\n",
    "3. [Model](#model)\n",
    "5. [Train](#train)\n",
    "6. [Predict](#predict)\n",
    "7. [Evaluate](#evaluate)\n",
    "7. [Metrics](#metrics)\n",
    "8. [Plots](#plots)"
   ]
  },
  {
   "cell_type": "markdown",
   "id": "e1d9ac7f",
   "metadata": {},
   "source": [
    "<a name=imports></a>\n",
    "## Imports"
   ]
  },
  {
   "cell_type": "code",
   "execution_count": null,
   "id": "f0523a96",
   "metadata": {},
   "outputs": [],
   "source": [
    "%load_ext autoreload\n",
    "%autoreload 2\n",
    "%load_ext tensorboard\n",
    "\n",
    "import os\n",
    "import datetime\n",
    "\n",
    "import matplotlib.pyplot as plt\n",
    "import seaborn as sns\n",
    "import numpy as np\n",
    "import pandas as pd\n",
    "import tensorflow as tf\n",
    "from sklearn.model_selection import train_test_split\n",
    "\n",
    "import preprocessing"
   ]
  },
  {
   "cell_type": "code",
   "execution_count": null,
   "id": "d8ec9064",
   "metadata": {},
   "outputs": [],
   "source": [
    "print(\"Num GPUs Available: \", len(tf.config.list_physical_devices('GPU')))"
   ]
  },
  {
   "cell_type": "markdown",
   "id": "7c491998",
   "metadata": {},
   "source": [
    "***\n",
    "<a name=data></a>\n",
    "## Data"
   ]
  },
  {
   "cell_type": "markdown",
   "id": "0a309e7a",
   "metadata": {},
   "source": [
    "### Ingestion\n",
    "Load in the dataset as pandas dataframe."
   ]
  },
  {
   "cell_type": "code",
   "execution_count": null,
   "id": "afaf737e",
   "metadata": {
    "scrolled": true
   },
   "outputs": [],
   "source": [
    "# Check preprocessing.py for implementation\n",
    "(india_cases_df, india_vacc_df, usa_cases_df, usa_vacc_df) = preprocessing.ingestion()"
   ]
  },
  {
   "cell_type": "markdown",
   "id": "f3c20324",
   "metadata": {},
   "source": [
    "### Pre-Processing\n",
    "Filter out unnecessary columns. "
   ]
  },
  {
   "cell_type": "markdown",
   "id": "de114c86",
   "metadata": {},
   "source": [
    "#### Multivariate"
   ]
  },
  {
   "cell_type": "code",
   "execution_count": null,
   "id": "605ccfb9",
   "metadata": {
    "scrolled": true
   },
   "outputs": [],
   "source": [
    "# Check preprocessing.py for implementation\n",
    "# Number of Null in India - 563\n",
    "# Number of Null in USA - 261\n",
    "(india_multi, usa_multi) = preprocessing.multivariate(india_cases_df, india_vacc_df, usa_cases_df, usa_vacc_df)"
   ]
  },
  {
   "cell_type": "markdown",
   "id": "89f5285c",
   "metadata": {},
   "source": [
    "#### Univariate "
   ]
  },
  {
   "cell_type": "code",
   "execution_count": null,
   "id": "e4b1809c",
   "metadata": {
    "scrolled": true
   },
   "outputs": [],
   "source": [
    "# Check preprocessing.py for implementation\n",
    "# Number of Null in India - 0\n",
    "# Number of Null in USA - 0\n",
    "(india_cases_uni, usa_cases_uni) = preprocessing.univariate(india_cases_df, usa_cases_df)"
   ]
  },
  {
   "cell_type": "markdown",
   "id": "0cfda042",
   "metadata": {},
   "source": [
    "### Drop Null\n",
    "Merging the vaccination and #cases datasets together for multivariate time series produces null values. Dropping the nuWe solve this by dropping the null values.ll values ensures that we take an inner join."
   ]
  },
  {
   "cell_type": "code",
   "execution_count": null,
   "id": "5da88ec8",
   "metadata": {
    "scrolled": true
   },
   "outputs": [],
   "source": [
    "(india_multi, usa_multi) = preprocessing.dropNull(india_multi, usa_multi)"
   ]
  },
  {
   "cell_type": "markdown",
   "id": "232ea188",
   "metadata": {},
   "source": [
    "### Normalize\n",
    "Perform a Z-score normalization."
   ]
  },
  {
   "cell_type": "code",
   "execution_count": null,
   "id": "80d9ac95",
   "metadata": {
    "scrolled": true
   },
   "outputs": [],
   "source": [
    "# Check preprocessing.py for implementation\n",
    "(india_uni_norm, usa_uni_norm, india_multi_norm, usa_multi_norm,india_cases_mean,india_cases_std,usa_cases_mean,usa_cases_std,india_multi_mean,india_multi_std,\n",
    "usa_multi_mean, usa_multi_std) = preprocessing.normalize(india_cases_uni, \n",
    "                                                                                           usa_cases_uni, \n",
    "                                                                                           india_multi, \n",
    "                                                                                           usa_multi)"
   ]
  },
  {
   "cell_type": "markdown",
   "id": "cb5eeb1a",
   "metadata": {},
   "source": [
    "### Create Splits\n",
    "Break the dataset into train and test. The current split is 80:20."
   ]
  },
  {
   "cell_type": "code",
   "execution_count": null,
   "id": "b0091c73",
   "metadata": {
    "scrolled": true
   },
   "outputs": [],
   "source": [
    "# Create train test splits\n",
    "(india_uni_train, india_uni_test, usa_uni_train, usa_uni_test) = preprocessing.split(india_uni_norm, usa_uni_norm, 0.2)\n",
    "(india_multi_train, india_multi_test, \n",
    " usa_multi_train, usa_multi_test) = preprocessing.split(india_multi_norm, usa_multi_norm, 0.2)"
   ]
  },
  {
   "cell_type": "markdown",
   "id": "f2d3cf70",
   "metadata": {},
   "source": [
    "### Data Transformation\n",
    "Simple conversion from pandas dataframe to numpy array by extracting the values."
   ]
  },
  {
   "cell_type": "code",
   "execution_count": null,
   "id": "e4177f33",
   "metadata": {},
   "outputs": [],
   "source": [
    "# Univariate\n",
    "india_uni_train_np, india_uni_test_np = india_uni_train.values,  india_uni_test.values\n",
    "usa_uni_train_np, usa_uni_test_np = usa_uni_train.values, usa_uni_test.values\n",
    "# Multivariate\n",
    "india_multi_train_np, india_multi_test_np = india_multi_train.values,  india_multi_test.values\n",
    "usa_multi_train_np, usa_multi_test_np = usa_multi_train.values, usa_multi_test.values"
   ]
  },
  {
   "cell_type": "code",
   "execution_count": null,
   "id": "f1494860",
   "metadata": {},
   "outputs": [],
   "source": [
    "print(india_uni_train_np.shape, india_uni_test_np.shape)\n",
    "print(india_multi_train_np.shape, india_multi_test_np.shape)"
   ]
  },
  {
   "cell_type": "markdown",
   "id": "70313f46",
   "metadata": {},
   "source": [
    "### Reshape\n",
    "Converts the exiting train data set to match the input parameters of an LSTM (Samples, Time Steps, Features). The `lstm_data_transform()` method takes in 3 arguments: X data, y data and number of features.\n",
    "\n",
    "We will be performing autoregression on the univariate data, therefore the X and y values are the same. As for the multivariate data, we will be using the confirmed column (index 0) as the y value."
   ]
  },
  {
   "cell_type": "code",
   "execution_count": null,
   "id": "ea412c7e",
   "metadata": {},
   "outputs": [],
   "source": [
    "india_uni_train_np"
   ]
  },
  {
   "cell_type": "code",
   "execution_count": null,
   "id": "c258e12e",
   "metadata": {},
   "outputs": [],
   "source": [
    "timesteps = 14"
   ]
  },
  {
   "cell_type": "code",
   "execution_count": null,
   "id": "7186d5c4",
   "metadata": {},
   "outputs": [],
   "source": [
    "# Univariate\n",
    "india_uni_train_X, india_uni_train_y = preprocessing.lstm_data_transform(india_uni_train_np, india_uni_train_np,\n",
    "                                                                         timesteps)\n",
    "usa_uni_train_X, usa_uni_train_y = preprocessing.lstm_data_transform(usa_uni_train_np, usa_uni_train_np,\n",
    "                                                                     timesteps)\n",
    "# Multivariate\n",
    "india_multi_train_X, india_multi_train_y = preprocessing.lstm_data_transform(india_multi_train_np, india_multi_train_np, timesteps)\n",
    "usa_multi_train_X, usa_multi_train_y = preprocessing.lstm_data_transform(usa_multi_train_np, usa_multi_train_np, timesteps)"
   ]
  },
  {
   "cell_type": "code",
   "execution_count": null,
   "id": "e7de6ec7",
   "metadata": {},
   "outputs": [],
   "source": [
    "print(\"Univariate India shape:\",india_uni_train_X.shape, india_uni_train_y.shape)\n",
    "print(\"Multivariate India shape:\",india_multi_train_X.shape, india_multi_train_y.shape)"
   ]
  },
  {
   "cell_type": "markdown",
   "id": "ee9390a9",
   "metadata": {},
   "source": [
    "The univariate array shape for the India dataset has 566 samples, 3 as the time step, and 1 feature for the X values. The y values is just the 566 samples.\n",
    "\n",
    "Similarly, the multivariate array shape for the India dataset has 276 samples, 3 as the time step, and 2 features for the X values. The y values is just the 276 samples of the 0th column (Confirmed cases)."
   ]
  },
  {
   "cell_type": "markdown",
   "id": "b317a133",
   "metadata": {},
   "source": [
    "***\n",
    "<a name=model></a>\n",
    "## Model\n",
    "We will define 4 models in total. One for the univariate data and another for the multivariate for each country."
   ]
  },
  {
   "cell_type": "code",
   "execution_count": null,
   "id": "e32d9552",
   "metadata": {},
   "outputs": [],
   "source": [
    "import LSTMmodels\n",
    "from keras.wrappers.scikit_learn import KerasRegressor\n",
    "import tensorflow as tf"
   ]
  },
  {
   "cell_type": "code",
   "execution_count": null,
   "id": "c428d507",
   "metadata": {
    "scrolled": true
   },
   "outputs": [],
   "source": [
    "univariate_model_ind = LSTMmodels.build_lstm(time_steps=india_uni_train_X.shape[1],\n",
    "                                             features=india_uni_train_X.shape[2])\n",
    "univariate_model_usa = LSTMmodels.build_lstm(time_steps=usa_uni_train_X.shape[1],\n",
    "                                             features=usa_uni_train_X.shape[2])"
   ]
  },
  {
   "cell_type": "code",
   "execution_count": null,
   "id": "1b44cd5f",
   "metadata": {
    "scrolled": true
   },
   "outputs": [],
   "source": [
    "multivariate_model_ind = LSTMmodels.build_lstm(time_steps=india_multi_train_X.shape[1],\n",
    "                                               features=india_multi_train_X.shape[2], outputs=2)\n",
    "multivariate_model_usa = LSTMmodels.build_lstm(time_steps=usa_multi_train_X.shape[1],\n",
    "                                               features=usa_multi_train_X.shape[2], outputs=2)"
   ]
  },
  {
   "cell_type": "markdown",
   "id": "9b8e6136",
   "metadata": {},
   "source": [
    "***\n",
    "<a name=train></a>\n",
    "## Train "
   ]
  },
  {
   "cell_type": "code",
   "execution_count": null,
   "id": "a26763b0",
   "metadata": {},
   "outputs": [],
   "source": [
    "# Get the path of the current working directory\n",
    "curPath = os.getcwd()\n",
    "# Appened the parent directory to the current path to step out of the current folder\n",
    "parentDir = os.path.abspath(os.path.join(curPath, os.pardir))\n",
    "# Tensorboard callback\n",
    "logdir = os.path.join(parentDir+\"/logs\", datetime.datetime.now().strftime(\"%Y%m%d-%H%M%S\"))\n",
    "tensorboard_callback = tf.keras.callbacks.TensorBoard(logdir, histogram_freq=1)"
   ]
  },
  {
   "cell_type": "code",
   "execution_count": null,
   "id": "93b996f1",
   "metadata": {},
   "outputs": [],
   "source": [
    "def train_models(model,train_X,train_y,test_X,test_y):\n",
    "    model.fit(train_X,train_y,\n",
    "              validation_data=(test_X,test_y),\n",
    "              epochs=300,\n",
    "              callbacks=[tensorboard_callback])\n",
    "    return model\n",
    "#     model.save(save_name)"
   ]
  },
  {
   "cell_type": "code",
   "execution_count": null,
   "id": "e7513882",
   "metadata": {
    "scrolled": true
   },
   "outputs": [],
   "source": [
    "# Train the model on univariate India dataset \n",
    "univariate_model_ind = LSTMmodels.train_model(univariate_model_ind,india_uni_train_X,india_uni_train_y,\n",
    "                                              tensorboard_callback)"
   ]
  },
  {
   "cell_type": "code",
   "execution_count": null,
   "id": "722bc174",
   "metadata": {
    "scrolled": true
   },
   "outputs": [],
   "source": [
    "# Train the model on univariate USA dataset \n",
    "univariate_model_usa = LSTMmodels.train_model(univariate_model_usa,usa_uni_train_X,usa_uni_train_y,\n",
    "                                              tensorboard_callback)"
   ]
  },
  {
   "cell_type": "code",
   "execution_count": null,
   "id": "8b00e741",
   "metadata": {
    "scrolled": true
   },
   "outputs": [],
   "source": [
    "# Train the model on multivariate India dataset\n",
    "multivariate_model_ind = LSTMmodels.train_model(multivariate_model_ind,india_multi_train_X,india_multi_train_y,\n",
    "                                                tensorboard_callback)"
   ]
  },
  {
   "cell_type": "code",
   "execution_count": null,
   "id": "9c2d136b",
   "metadata": {
    "scrolled": true
   },
   "outputs": [],
   "source": [
    "# Train the model on multivariate USA dataset\n",
    "multivariate_model_usa = LSTMmodels.train_model(multivariate_model_usa,usa_multi_train_X,usa_multi_train_y,\n",
    "                                                tensorboard_callback)"
   ]
  },
  {
   "cell_type": "markdown",
   "id": "e867789b",
   "metadata": {},
   "source": [
    "***\n",
    "<a name=predict></a>\n",
    "## Predict\n",
    "There are 2 different types of prediction methods. \n",
    "1. Long-term predictions\n",
    "\n",
    "This type of prediction uses a sliding window to continue to predict into the future by continuing to use the forecasted values.\n",
    "\n",
    "2. Rolling short-term predictions\n",
    "\n",
    "This prediction method continues to train the LSTM model every 14 iterations. Unlike the long-term predictions, this model forecasts one day at a time."
   ]
  },
  {
   "cell_type": "code",
   "execution_count": null,
   "id": "4756af61",
   "metadata": {},
   "outputs": [],
   "source": [
    "import evaluate"
   ]
  },
  {
   "cell_type": "markdown",
   "id": "ce599ee4",
   "metadata": {},
   "source": [
    "#### Long-Term "
   ]
  },
  {
   "cell_type": "code",
   "execution_count": null,
   "id": "396e4040",
   "metadata": {
    "scrolled": true
   },
   "outputs": [],
   "source": [
    "# Univariate Long-Term\n",
    "yhat_uni_india = evaluate.make_predictions(univariate_model_ind,india_uni_test_np,timesteps,india_uni_test_np.shape[1])\n",
    "yhat_uni_usa = evaluate.make_predictions(univariate_model_usa,usa_uni_test_np,timesteps,usa_uni_test_np.shape[1])"
   ]
  },
  {
   "cell_type": "code",
   "execution_count": null,
   "id": "b3c2753e",
   "metadata": {},
   "outputs": [],
   "source": [
    "# Multivariate Long-Term \n",
    "yhat_multi_india_long = evaluate.make_predictions(multivariate_model_ind,india_multi_test_np,timesteps,india_multi_test_np.shape[1])\n",
    "yhat_multi_usa_long = evaluate.make_predictions(multivariate_model_usa,usa_multi_test_np,timesteps,usa_multi_test_np.shape[1])"
   ]
  },
  {
   "cell_type": "markdown",
   "id": "bc3035bf",
   "metadata": {},
   "source": [
    "#### Rolling Short-Term "
   ]
  },
  {
   "cell_type": "code",
   "execution_count": null,
   "id": "0e79df33",
   "metadata": {
    "scrolled": true
   },
   "outputs": [],
   "source": [
    "# Univariate Rolling Short-Term\n",
    "yhat_uni_india_short, y_uni_india_short, univariate_model_ind = evaluate.make_predictions_short(univariate_model_ind,\n",
    "                                                                                                india_uni_train_np,\n",
    "                                                                                                india_uni_test_np,timesteps,\n",
    "                                                                                                india_uni_test_np.shape[1],\n",
    "                                                                                               tensorboard_callback)\n",
    "yhat_uni_usa_short, y_uni_usa_short, univariate_model_usa = evaluate.make_predictions_short(univariate_model_usa, \n",
    "                                                                                            usa_uni_train_np,\n",
    "                                                                                            usa_uni_test_np,timesteps,\n",
    "                                                                                            usa_uni_test_np.shape[1],\n",
    "                                                                                           tensorboard_callback)"
   ]
  },
  {
   "cell_type": "code",
   "execution_count": null,
   "id": "f1af0151",
   "metadata": {
    "scrolled": true
   },
   "outputs": [],
   "source": [
    "# Multivariate Rolling Short-Term\n",
    "yhat_multi_india, y_multi_india_short, multivariate_model_ind = evaluate.make_predictions_short(multivariate_model_ind, india_multi_train_np,india_multi_test_np,timesteps,\n",
    "                                                                                                india_multi_test_np.shape[1],\n",
    "                                                                                               tensorboard_callback, india_multi_test_np.shape[0])\n",
    "yhat_multi_usa, y_multi_india_short, multivariate_model_usa = evaluate.make_predictions_short(multivariate_model_usa,usa_multi_train_np,usa_multi_test_np,\n",
    "                                                                      timesteps,usa_multi_test_np.shape[1],\n",
    "                                                                     tensorboard_callback, usa_multi_test_np.shape[0])"
   ]
  },
  {
   "cell_type": "code",
   "execution_count": null,
   "id": "caf1a927",
   "metadata": {
    "scrolled": true
   },
   "outputs": [],
   "source": [
    "# print(yhat_multi_india)\n",
    "# print(yhat_multi_usa.shape)\n",
    "yhat_multi_india = np.concatenate(yhat_multi_india).flatten()\n",
    "print(yhat_multi_india)\n",
    "yhat_multi_usa = np.concatenate(yhat_multi_usa).flatten()\n",
    "print(yhat_multi_usa)\n",
    "\n",
    "# yhat_multi_india = yhat_multi_india[0]\n",
    "# yhat_multi_usa = yhat_multi_usa[0]\n",
    "yhat_multi_india_long = yhat_multi_india_long[0]\n",
    "yhat_multi_usa_long = yhat_multi_usa_long[0]"
   ]
  },
  {
   "cell_type": "code",
   "execution_count": null,
   "id": "8cf36087",
   "metadata": {
    "scrolled": true
   },
   "outputs": [],
   "source": [
    "print(yhat_multi_india.shape,\n",
    "yhat_multi_usa.shape,\n",
    "yhat_multi_india_long.shape,\n",
    "yhat_multi_usa_long.shape)"
   ]
  },
  {
   "cell_type": "markdown",
   "id": "d9cfc1ba",
   "metadata": {},
   "source": [
    "***\n",
    "<a name=evaluate></a>\n",
    "## Evaluate"
   ]
  },
  {
   "cell_type": "markdown",
   "id": "2be08534",
   "metadata": {},
   "source": [
    "### Denormalize Data\n",
    "First step is to denormalize the data back to it's original scale."
   ]
  },
  {
   "cell_type": "markdown",
   "id": "50952ff2",
   "metadata": {},
   "source": [
    "#### Long-Term "
   ]
  },
  {
   "cell_type": "markdown",
   "id": "f3800604",
   "metadata": {},
   "source": [
    "##### Univariate "
   ]
  },
  {
   "cell_type": "code",
   "execution_count": null,
   "id": "02889989",
   "metadata": {},
   "outputs": [],
   "source": [
    "# Denormalize univariate India data\n",
    "india_uni_test_np_denorm = preprocessing.de_normalize(india_uni_test_np.flatten()[timesteps:],np.array(india_cases_mean),np.array(india_cases_std))\n",
    "yhat_uni_india_denorm = preprocessing.de_normalize(yhat_uni_india.flatten()[timesteps:],np.array(india_cases_mean),np.array(india_cases_std))\n",
    "\n",
    "# Round values to avoid floating point errors\n",
    "india_uni_test_np_long_denorm = np.round(india_uni_test_np_denorm)\n",
    "yhat_uni_india_long_denorm = np.round(yhat_uni_india_denorm)"
   ]
  },
  {
   "cell_type": "code",
   "execution_count": null,
   "id": "e6ab5753",
   "metadata": {},
   "outputs": [],
   "source": [
    "# Denormalize univariate USA data\n",
    "usa_uni_test_np_denorm = preprocessing.de_normalize(usa_uni_test_np.flatten()[timesteps:],np.array(usa_cases_mean),np.array(usa_cases_std))\n",
    "yhat_uni_usa_denorm = preprocessing.de_normalize(yhat_uni_usa.flatten()[timesteps:],np.array(usa_cases_mean),np.array(usa_cases_std))\n",
    "\n",
    "# Round values to avoid floating point errors\n",
    "usa_uni_test_np_long_denorm = np.round(usa_uni_test_np_denorm)\n",
    "yhat_uni_usa_long_denorm = np.round(yhat_uni_usa_denorm)"
   ]
  },
  {
   "cell_type": "markdown",
   "id": "9791b82f",
   "metadata": {},
   "source": [
    "##### Multivariate"
   ]
  },
  {
   "cell_type": "code",
   "execution_count": null,
   "id": "62eaacd0",
   "metadata": {},
   "outputs": [],
   "source": [
    "# Denormalize multivariate India data - long term\n",
    "india_multi_test_np_long_denorm = preprocessing.de_normalize(india_multi_test_np[:,0].flatten()[timesteps:],np.array(india_multi_mean[0]),np.array(india_multi_std[0]))\n",
    "yhat_multi_india_long_denorm = preprocessing.de_normalize(yhat_multi_india_long[:,0].flatten()[0::2][timesteps:],np.array(india_multi_mean[0]),np.array(india_multi_std[0]))\n",
    "\n",
    "# Round values to avoid floating point errors\n",
    "india_multi_test_np_long_denorm = np.round(india_multi_test_np_long_denorm)\n",
    "yhat_multi_india_long_denorm = np.round(yhat_multi_india_long_denorm)"
   ]
  },
  {
   "cell_type": "code",
   "execution_count": null,
   "id": "504d7d54",
   "metadata": {},
   "outputs": [],
   "source": [
    "# Denormalize multivariate USA data - long term\n",
    "usa_multi_test_np_long_denorm = preprocessing.de_normalize(usa_multi_test_np[:,0].flatten()[timesteps:],np.array(usa_multi_mean[0]),np.array(usa_multi_std[0]))\n",
    "yhat_multi_usa_long_denorm = preprocessing.de_normalize(yhat_multi_usa_long[:,0].flatten()[0::2][timesteps:],np.array(usa_multi_mean[0]),np.array(usa_multi_std[0]))\n",
    "\n",
    "# Round values to avoid floating point errors\n",
    "usa_multi_test_np_long_denorm = np.round(usa_multi_test_np_long_denorm)\n",
    "yhat_multi_usa_long_denorm = np.round(yhat_multi_usa_long_denorm)"
   ]
  },
  {
   "cell_type": "markdown",
   "id": "e42d2804",
   "metadata": {},
   "source": [
    "#### Rolling Short-Term "
   ]
  },
  {
   "cell_type": "code",
   "execution_count": null,
   "id": "45adeeaf",
   "metadata": {},
   "outputs": [],
   "source": [
    "yhat_multi_india_long[0]"
   ]
  },
  {
   "cell_type": "markdown",
   "id": "7ccd62bb",
   "metadata": {},
   "source": [
    "##### Univariate "
   ]
  },
  {
   "cell_type": "code",
   "execution_count": null,
   "id": "397bbe66",
   "metadata": {},
   "outputs": [],
   "source": [
    "# Reshaping the data to standard dim 1\n",
    "yhat_uni_india_short = np.concatenate(yhat_uni_india_short).flatten()\n",
    "\n",
    "# Denormalize univariate short India data\n",
    "india_uni_test_short_denorm = preprocessing.de_normalize(y_uni_india_short,np.array(india_cases_mean),np.array(india_cases_std))\n",
    "yhat_uni_india_short_denorm = preprocessing.de_normalize(yhat_uni_india_short,np.array(india_cases_mean),np.array(india_cases_std))\n",
    "\n",
    "# Round values to avoid floating point errors\n",
    "india_uni_test_short_denorm = np.round(india_uni_test_short_denorm)\n",
    "yhat_uni_india_short_denorm = np.round(yhat_uni_india_short_denorm)"
   ]
  },
  {
   "cell_type": "code",
   "execution_count": null,
   "id": "29c36a6e",
   "metadata": {},
   "outputs": [],
   "source": [
    "# Reshaping the data to standard dim 1\n",
    "yhat_uni_usa_short = np.concatenate(yhat_uni_usa_short).flatten()\n",
    "\n",
    "# Denormalize univariate short USA data\n",
    "usa_uni_test_short_denorm = preprocessing.de_normalize(y_uni_usa_short,np.array(usa_cases_mean),np.array(usa_cases_std))\n",
    "yhat_uni_usa_short_denorm = preprocessing.de_normalize(yhat_uni_usa_short,np.array(usa_cases_mean),np.array(usa_cases_std))\n",
    "\n",
    "# Round values to avoid floating point errors\n",
    "usa_uni_test_short_denorm = np.round(usa_uni_test_short_denorm)\n",
    "yhat_uni_usa_short_denorm = np.round(yhat_uni_usa_short_denorm)"
   ]
  },
  {
   "cell_type": "markdown",
   "id": "e9f6baa0",
   "metadata": {},
   "source": [
    "##### Multivariate"
   ]
  },
  {
   "cell_type": "code",
   "execution_count": null,
   "id": "8c78fbf1",
   "metadata": {
    "scrolled": true
   },
   "outputs": [],
   "source": [
    "# Denormalize multivariate India data - short term\n",
    "india_multi_test_np_denorm = preprocessing.de_normalize(india_multi_test_np[:,0].flatten(),np.array(india_multi_mean[0]),np.array(india_multi_std[0]))\n",
    "yhat_multi_india_denorm = preprocessing.de_normalize(yhat_multi_india.flatten(),np.array(india_multi_mean[0]),np.array(india_multi_std[0]))\n",
    "\n",
    "# Round values to avoid floating point errors\n",
    "india_multi_test_np_short_denorm = np.round(india_multi_test_np_denorm)\n",
    "yhat_multi_india_short_denorm = np.round(yhat_multi_india_denorm)[0::2]"
   ]
  },
  {
   "cell_type": "code",
   "execution_count": null,
   "id": "d29e16b9",
   "metadata": {},
   "outputs": [],
   "source": [
    "# Denormalize multivariate USA data - short term\n",
    "usa_multi_test_np_denorm = preprocessing.de_normalize(usa_multi_test_np[:,0].flatten(),np.array(usa_multi_mean[0]),np.array(usa_multi_std[0]))\n",
    "yhat_multi_usa_denorm = preprocessing.de_normalize(yhat_multi_usa.flatten(),np.array(usa_multi_mean[0]),np.array(usa_multi_std[0]))\n",
    "\n",
    "# Round values to avoid floating point errors\n",
    "usa_multi_test_np_short_denorm = np.round(usa_multi_test_np_denorm)\n",
    "yhat_multi_usa_short_denorm = np.round(yhat_multi_usa_denorm)[0::2]"
   ]
  },
  {
   "cell_type": "markdown",
   "id": "843ea101",
   "metadata": {},
   "source": [
    "***\n",
    "<a name=metrics></a>\n",
    "## Get Metrics \n",
    "Return format: (mape, mae, rmse)"
   ]
  },
  {
   "cell_type": "markdown",
   "id": "e8b4e428",
   "metadata": {},
   "source": [
    "#### Long-Term"
   ]
  },
  {
   "cell_type": "code",
   "execution_count": null,
   "id": "ad8ce941",
   "metadata": {
    "scrolled": true
   },
   "outputs": [],
   "source": [
    "# Check to ensure data matches\n",
    "denorm_test = evaluate.evaluate(india_cases_uni.values[-(india_uni_test_short_denorm.size):].flatten(),india_uni_test_short_denorm)\n",
    "denorm_test"
   ]
  },
  {
   "cell_type": "markdown",
   "id": "9ae9ec1f",
   "metadata": {},
   "source": [
    "##### Univariate"
   ]
  },
  {
   "cell_type": "code",
   "execution_count": null,
   "id": "493f23fd",
   "metadata": {
    "scrolled": true
   },
   "outputs": [],
   "source": [
    "# Univariate Long-Term India\n",
    "uni_india_eval_long = evaluate.evaluate(india_uni_test_np_long_denorm, yhat_uni_india_long_denorm)\n",
    "uni_india_eval_long.insert(0,'Univariate Long-Term India')\n",
    "uni_india_eval_long"
   ]
  },
  {
   "cell_type": "code",
   "execution_count": null,
   "id": "5b158c39",
   "metadata": {
    "scrolled": true
   },
   "outputs": [],
   "source": [
    "# Univariate Long-Term USA\n",
    "uni_usa_eval_long = evaluate.evaluate(usa_uni_test_np_long_denorm, yhat_uni_usa_long_denorm)\n",
    "uni_usa_eval_long.insert(0,'Univariate Long-Term USA')\n",
    "uni_usa_eval_long"
   ]
  },
  {
   "cell_type": "markdown",
   "id": "00878751",
   "metadata": {},
   "source": [
    "##### Multivariate"
   ]
  },
  {
   "cell_type": "code",
   "execution_count": null,
   "id": "38767d35",
   "metadata": {
    "scrolled": true
   },
   "outputs": [],
   "source": [
    "# Multivariate Long-Term India\n",
    "multi_india_eval_long = evaluate.evaluate(india_multi_test_np_long_denorm, yhat_multi_india_long_denorm)\n",
    "multi_india_eval_long.insert(0,'Multivariate Long-Term India')\n",
    "multi_india_eval_long"
   ]
  },
  {
   "cell_type": "code",
   "execution_count": null,
   "id": "5ba703c4",
   "metadata": {},
   "outputs": [],
   "source": [
    "# Multivariate Long-Term USA\n",
    "multi_usa_eval_long = evaluate.evaluate(usa_multi_test_np_long_denorm, yhat_multi_usa_long_denorm)\n",
    "multi_usa_eval_long.insert(0,'Multivariate Long-Term USA')\n",
    "multi_usa_eval_long"
   ]
  },
  {
   "cell_type": "markdown",
   "id": "e8b01161",
   "metadata": {},
   "source": [
    "#### Short-Term Rolling Forecast"
   ]
  },
  {
   "cell_type": "markdown",
   "id": "063b156c",
   "metadata": {},
   "source": [
    "##### Univariate "
   ]
  },
  {
   "cell_type": "code",
   "execution_count": null,
   "id": "884a4694",
   "metadata": {},
   "outputs": [],
   "source": [
    "# Univariate Short-Term India\n",
    "uni_india_eval_short = evaluate.evaluate(india_uni_test_short_denorm, yhat_uni_india_short_denorm)\n",
    "uni_india_eval_short.insert(0,'Univariate Short-Term India')\n",
    "uni_india_eval_short"
   ]
  },
  {
   "cell_type": "code",
   "execution_count": null,
   "id": "296a4476",
   "metadata": {
    "scrolled": true
   },
   "outputs": [],
   "source": [
    "# Univariate Short-Term USA\n",
    "uni_usa_eval_short = evaluate.evaluate(usa_uni_test_short_denorm, yhat_uni_usa_short_denorm)\n",
    "uni_usa_eval_short.insert(0,'Univariate Short-Term USA')\n",
    "uni_usa_eval_short"
   ]
  },
  {
   "cell_type": "markdown",
   "id": "6d6d1594",
   "metadata": {},
   "source": [
    "##### Multivariate"
   ]
  },
  {
   "cell_type": "code",
   "execution_count": null,
   "id": "4be8f961",
   "metadata": {
    "scrolled": true
   },
   "outputs": [],
   "source": [
    "# Multivariate Short-Term India\n",
    "multi_india_eval_short = evaluate.evaluate(india_multi_test_np_short_denorm, yhat_multi_india_short_denorm)\n",
    "multi_india_eval_short.insert(0,'Multivariate Short-Term India')\n",
    "multi_india_eval_short"
   ]
  },
  {
   "cell_type": "code",
   "execution_count": null,
   "id": "74b1fbcc",
   "metadata": {},
   "outputs": [],
   "source": [
    "# Multivariate Short-Term USA\n",
    "multi_usa_eval_short = evaluate.evaluate(usa_multi_test_np_short_denorm, yhat_multi_usa_short_denorm)\n",
    "multi_usa_eval_short.insert(0,'Multivariate Short-Term USA')\n",
    "multi_usa_eval_short"
   ]
  },
  {
   "cell_type": "markdown",
   "id": "34e28f9a",
   "metadata": {},
   "source": [
    "### Visualize performance\n",
    "TODO: Still need to add multivariate metrics"
   ]
  },
  {
   "cell_type": "code",
   "execution_count": null,
   "id": "95c68a65",
   "metadata": {
    "scrolled": true
   },
   "outputs": [],
   "source": [
    "d = [uni_india_eval_long,uni_usa_eval_long,uni_india_eval_short,uni_usa_eval_short,multi_india_eval_long,\n",
    "    multi_usa_eval_long,multi_india_eval_short,multi_usa_eval_short]\n",
    "metrics_table = pd.DataFrame(data=d, columns=['Models','MAPE','MAE','RMSE'])\n",
    "metrics_table"
   ]
  },
  {
   "cell_type": "markdown",
   "id": "6176e2f9",
   "metadata": {},
   "source": [
    "***\n",
    "<a name=plots></a>\n",
    "## Plots\n",
    "March 1st - "
   ]
  },
  {
   "cell_type": "code",
   "execution_count": null,
   "id": "82f065ce",
   "metadata": {
    "scrolled": true
   },
   "outputs": [],
   "source": [
    "%tensorboard --logdir logdir"
   ]
  },
  {
   "cell_type": "markdown",
   "id": "3a51798a",
   "metadata": {},
   "source": [
    "#### Long-Term Rolling forecasts"
   ]
  },
  {
   "cell_type": "markdown",
   "id": "7ccebdc9",
   "metadata": {},
   "source": [
    "##### Univariate"
   ]
  },
  {
   "cell_type": "code",
   "execution_count": null,
   "id": "56c45996",
   "metadata": {
    "scrolled": true
   },
   "outputs": [],
   "source": [
    "evaluate.plot_fore_test(india_uni_test_np_long_denorm, yhat_uni_india_long_denorm, 'Univariate Long-Term India')"
   ]
  },
  {
   "cell_type": "code",
   "execution_count": null,
   "id": "30017d70",
   "metadata": {
    "scrolled": true
   },
   "outputs": [],
   "source": [
    "evaluate.plot_fore_test(usa_uni_test_np_long_denorm, yhat_uni_usa_long_denorm, 'Univariate Long-Term USA')"
   ]
  },
  {
   "cell_type": "markdown",
   "id": "187acbf6",
   "metadata": {},
   "source": [
    "##### Multivariate"
   ]
  },
  {
   "cell_type": "code",
   "execution_count": null,
   "id": "cd27e4cb",
   "metadata": {
    "scrolled": false
   },
   "outputs": [],
   "source": [
    "evaluate.plot_fore_test(india_multi_test_np_long_denorm, yhat_multi_india_long_denorm, \"Multivariate Long-Term India\")"
   ]
  },
  {
   "cell_type": "code",
   "execution_count": null,
   "id": "d1f83d4a",
   "metadata": {
    "scrolled": true
   },
   "outputs": [],
   "source": [
    "evaluate.plot_fore_test(usa_multi_test_np_long_denorm, yhat_multi_usa_long_denorm, \"Multivariate Long-Term USA\")"
   ]
  },
  {
   "cell_type": "markdown",
   "id": "e134c994",
   "metadata": {},
   "source": [
    "#### Short-Term Rolling Forecast"
   ]
  },
  {
   "cell_type": "markdown",
   "id": "f7ef4ca4",
   "metadata": {},
   "source": [
    "##### Univariate"
   ]
  },
  {
   "cell_type": "code",
   "execution_count": null,
   "id": "483de689",
   "metadata": {
    "scrolled": true
   },
   "outputs": [],
   "source": [
    "evaluate.plot_fore_test(india_uni_test_short_denorm, yhat_uni_india_short_denorm, \"Univariate Short-Term India\")"
   ]
  },
  {
   "cell_type": "code",
   "execution_count": null,
   "id": "f26b7cdc",
   "metadata": {
    "scrolled": false
   },
   "outputs": [],
   "source": [
    "evaluate.plot_fore_test(usa_uni_test_short_denorm, yhat_uni_usa_short_denorm, \"Univariate Short-Term USA\")"
   ]
  },
  {
   "cell_type": "markdown",
   "id": "63ca4ab0",
   "metadata": {},
   "source": [
    "##### Multivariate"
   ]
  },
  {
   "cell_type": "code",
   "execution_count": null,
   "id": "3f78c75a",
   "metadata": {
    "scrolled": false
   },
   "outputs": [],
   "source": [
    "evaluate.plot_fore_test(india_multi_test_np_short_denorm, yhat_multi_india_short_denorm, \"Multivariate Short-Term India\")"
   ]
  },
  {
   "cell_type": "code",
   "execution_count": null,
   "id": "6a80afb6",
   "metadata": {
    "scrolled": false
   },
   "outputs": [],
   "source": [
    "evaluate.plot_fore_test(usa_multi_test_np_short_denorm, yhat_multi_usa_short_denorm, \"Multivariate Short-Term USA\")"
   ]
  },
  {
   "cell_type": "markdown",
   "id": "3a6b16e8",
   "metadata": {},
   "source": [
    "***\n",
    "## Save Results\n",
    "Split = 80:20\n",
    "India has 568 train, 143 test\n",
    "Usa has 511 train, 143 test\n",
    "\n",
    "Long-term predictions have 14 less days in test"
   ]
  },
  {
   "cell_type": "code",
   "execution_count": null,
   "id": "7734bd61",
   "metadata": {},
   "outputs": [],
   "source": [
    "# Get the path of the current working directory\n",
    "curPath = os.getcwd()\n",
    "# Appened the parent directory to the current path to step out of the current folder\n",
    "parentDir = os.path.abspath(os.path.join(curPath, os.pardir))\n",
    "print(\"Parent Directory\", parentDir)\n",
    "figpath = os.path.join(parentDir,\"../figures/lstm\")"
   ]
  },
  {
   "cell_type": "code",
   "execution_count": null,
   "id": "26a3b18d",
   "metadata": {},
   "outputs": [],
   "source": [
    "import plotting"
   ]
  },
  {
   "cell_type": "code",
   "execution_count": null,
   "id": "1796ee80",
   "metadata": {},
   "outputs": [],
   "source": [
    "dates = india_cases_df.values[1:,0]\n",
    "dates_df = pd.to_datetime(dates,format='%Y-%m-%d')\n",
    "dates_df[-129:]"
   ]
  },
  {
   "cell_type": "code",
   "execution_count": null,
   "id": "cc5db217",
   "metadata": {},
   "outputs": [],
   "source": [
    "# Train values India\n",
    "india_train_df = india_cases_df[['Date','Confirmed']][1:]\n",
    "india_train_df['Date'] = pd.to_datetime(india_train_df['Date'],format='%Y-%m-%d')\n",
    "india_train_df.set_index(['Date'],inplace=True)\n",
    "india_train_df.loc['2021-03-01':]"
   ]
  },
  {
   "cell_type": "code",
   "execution_count": null,
   "id": "0316c889",
   "metadata": {},
   "outputs": [],
   "source": [
    "# Train values USA\n",
    "usa_train_df = usa_cases_df[['Date','Confirmed']][1:]\n",
    "usa_train_df['Date'] = pd.to_datetime(usa_train_df['Date'],format='%Y-%m-%d')\n",
    "usa_train_df.set_index(['Date'],inplace=True)\n",
    "usa_train_df"
   ]
  },
  {
   "cell_type": "markdown",
   "id": "424102c3",
   "metadata": {},
   "source": [
    "#### Long-Term"
   ]
  },
  {
   "cell_type": "code",
   "execution_count": null,
   "id": "252f7c30",
   "metadata": {
    "scrolled": true
   },
   "outputs": [],
   "source": [
    "# Univariate India\n",
    "\n",
    "# Y values\n",
    "y_india_uni_long_df = pd.DataFrame({'y_india_uni_long':india_uni_test_np_long_denorm})\n",
    "y_india_uni_long_df.set_index(dates_df[-129:],inplace=True)\n",
    "print(y_india_uni_long_df.head())\n",
    "\n",
    "# yhat values\n",
    "yhat_uni_india_long_df = pd.DataFrame({'yhat_india_uni_long':yhat_uni_india_long_denorm})\n",
    "yhat_uni_india_long_df.set_index(dates_df[-129:],inplace=True)\n",
    "print(yhat_uni_india_long_df.head())"
   ]
  },
  {
   "cell_type": "code",
   "execution_count": null,
   "id": "fb554eb4",
   "metadata": {
    "scrolled": false
   },
   "outputs": [],
   "source": [
    "plotting.plot_train_test_fore(train=india_train_df,test=y_india_uni_long_df,fore=yhat_uni_india_long_df,\n",
    "                              title='India - Long Term',figpath=figpath+'/india_unilstm.eps')"
   ]
  },
  {
   "cell_type": "code",
   "execution_count": null,
   "id": "78191006",
   "metadata": {},
   "outputs": [],
   "source": [
    "# Univariate USA\n",
    "\n",
    "# Y values\n",
    "y_usa_uni_long_df = pd.DataFrame({'y_usa_uni_long':usa_uni_test_np_long_denorm})\n",
    "y_usa_uni_long_df.set_index(dates_df[-114:],inplace=True)\n",
    "print(y_usa_uni_long_df.head())\n",
    "\n",
    "# yhat values\n",
    "yhat_uni_usa_long_df = pd.DataFrame({'yhat_usa_uni_long':yhat_uni_usa_long_denorm})\n",
    "yhat_uni_usa_long_df.set_index(dates_df[-114:],inplace=True)\n",
    "print(yhat_uni_usa_long_df.head())"
   ]
  },
  {
   "cell_type": "code",
   "execution_count": null,
   "id": "9c171849",
   "metadata": {
    "scrolled": false
   },
   "outputs": [],
   "source": [
    "plotting.plot_train_test_fore(train=usa_train_df,test=y_usa_uni_long_df,fore=yhat_uni_usa_long_df,\n",
    "                              title='USA - Long Term',figpath=figpath+'/usa_unilstm.eps')"
   ]
  },
  {
   "cell_type": "code",
   "execution_count": null,
   "id": "9a3239ec",
   "metadata": {},
   "outputs": [],
   "source": [
    "# Multivariate India\n",
    "\n",
    "# Y values\n",
    "y_india_multi_long_df = pd.DataFrame({'y_india_multi_long':india_multi_test_np_long_denorm})\n",
    "y_india_multi_long_df.set_index(dates_df[-129:],inplace=True)\n",
    "print(y_india_multi_long_df.head())\n",
    "\n",
    "# yhat values\n",
    "yhat_multi_india_long_df = pd.DataFrame({'yhat_india_multi_long':yhat_multi_india_long_denorm})\n",
    "yhat_multi_india_long_df.set_index(dates_df[-129:],inplace=True)\n",
    "print(yhat_multi_india_long_df.head())"
   ]
  },
  {
   "cell_type": "code",
   "execution_count": null,
   "id": "c47a9803",
   "metadata": {},
   "outputs": [],
   "source": [
    "plotting.plot_train_test_fore(train=india_train_df,test=y_india_multi_long_df,fore=yhat_multi_india_long_df,\n",
    "                              title='India - Long Term',figpath=figpath+'/india_multilstm.eps')"
   ]
  },
  {
   "cell_type": "code",
   "execution_count": null,
   "id": "d1904e28",
   "metadata": {},
   "outputs": [],
   "source": [
    "# Multivariate USA\n",
    "\n",
    "# Y values\n",
    "y_usa_multi_long_df = pd.DataFrame({'y_usa_multi_long':usa_multi_test_np_long_denorm})\n",
    "y_usa_multi_long_df.set_index(dates_df[-114:],inplace=True)\n",
    "print(y_usa_multi_long_df.head())\n",
    "\n",
    "# yhat values\n",
    "yhat_multi_usa_long_df = pd.DataFrame({'yhat_usa_multi_long':yhat_multi_usa_long_denorm})\n",
    "yhat_multi_usa_long_df.set_index(dates_df[-114:],inplace=True)\n",
    "print(yhat_multi_usa_long_df.head())"
   ]
  },
  {
   "cell_type": "code",
   "execution_count": null,
   "id": "06df4758",
   "metadata": {},
   "outputs": [],
   "source": [
    "plotting.plot_train_test_fore(train=usa_train_df,test=y_usa_multi_long_df,fore=yhat_multi_usa_long_df,\n",
    "                              title='USA - Long Term',figpath=figpath+'/usa_multilstm.eps')"
   ]
  },
  {
   "cell_type": "markdown",
   "id": "987fac51",
   "metadata": {},
   "source": [
    "#### Short-Term "
   ]
  },
  {
   "cell_type": "code",
   "execution_count": null,
   "id": "ddec03d4",
   "metadata": {},
   "outputs": [],
   "source": [
    "# Univariate India\n",
    "\n",
    "# Y values\n",
    "y_india_uni_short_df = pd.DataFrame({'y_india_uni_short':india_uni_test_short_denorm})\n",
    "y_india_uni_short_df.set_index(dates_df[-143:],inplace=True)\n",
    "print(y_india_uni_long_df.head())\n",
    "\n",
    "# yhat values\n",
    "yhat_uni_india_short_df = pd.DataFrame({'yhat_india_uni_short':yhat_uni_india_short_denorm})\n",
    "yhat_uni_india_short_df.set_index(dates_df[-143:],inplace=True)\n",
    "print(yhat_uni_india_short_df.head())"
   ]
  },
  {
   "cell_type": "code",
   "execution_count": null,
   "id": "ba1f5d39",
   "metadata": {},
   "outputs": [],
   "source": [
    "plotting.plot_train_test_fore(train=india_train_df,test=y_india_uni_short_df,fore=yhat_uni_india_short_df,\n",
    "                              title='India - Short Term',figpath=figpath+'/india_unilstm_rolling.eps')"
   ]
  },
  {
   "cell_type": "code",
   "execution_count": null,
   "id": "2c39834a",
   "metadata": {},
   "outputs": [],
   "source": [
    "# Univariate USA\n",
    "\n",
    "# Y values\n",
    "y_usa_uni_short_df = pd.DataFrame({'y_usa_uni_short':usa_uni_test_short_denorm})\n",
    "y_usa_uni_short_df.set_index(dates_df[-128:],inplace=True)\n",
    "print(y_usa_uni_short_df.head())\n",
    "\n",
    "# yhat values\n",
    "yhat_uni_usa_short_df = pd.DataFrame({'yhat_usa_uni_short':yhat_uni_usa_short_denorm})\n",
    "yhat_uni_usa_short_df.set_index(dates_df[-128:],inplace=True)\n",
    "print(yhat_uni_usa_short_df.head())"
   ]
  },
  {
   "cell_type": "code",
   "execution_count": null,
   "id": "eb3f31a0",
   "metadata": {},
   "outputs": [],
   "source": [
    "plotting.plot_train_test_fore(train=usa_train_df,test=y_usa_uni_short_df,fore=yhat_uni_usa_short_df,\n",
    "                              title='USA - Short Term',figpath=figpath+'/usa_unilstm_rolling.eps')"
   ]
  },
  {
   "cell_type": "code",
   "execution_count": null,
   "id": "b0dcfc74",
   "metadata": {},
   "outputs": [],
   "source": [
    "# Multivariate India\n",
    "\n",
    "# Y values\n",
    "y_india_multi_short_df = pd.DataFrame({'y_india_multi_short':india_multi_test_np_short_denorm})\n",
    "y_india_multi_short_df.set_index(dates_df[-143:],inplace=True)\n",
    "print(y_india_multi_short_df.head())\n",
    "\n",
    "# yhat values\n",
    "yhat_multi_india_long_df = pd.DataFrame({'yhat_india_multi_short':yhat_multi_india_short_denorm})\n",
    "yhat_multi_india_long_df.set_index(dates_df[-143:],inplace=True)\n",
    "print(yhat_multi_india_long_df.head())"
   ]
  },
  {
   "cell_type": "code",
   "execution_count": null,
   "id": "6eca9b2d",
   "metadata": {},
   "outputs": [],
   "source": [
    "plotting.plot_train_test_fore(train=india_train_df,test=y_india_multi_short_df,fore=yhat_multi_india_long_df,\n",
    "                              title='India - Short Term',figpath=figpath+'/india_multilstm_rolling.eps')"
   ]
  },
  {
   "cell_type": "code",
   "execution_count": null,
   "id": "8ea52be5",
   "metadata": {
    "scrolled": true
   },
   "outputs": [],
   "source": [
    "# Multivariate USA\n",
    "\n",
    "# Y values\n",
    "y_usa_multi_short_df = pd.DataFrame({'y_usa_multi_short':usa_multi_test_np_short_denorm})\n",
    "y_usa_multi_short_df.set_index(dates_df[-128:],inplace=True)\n",
    "print(y_usa_multi_short_df.head())\n",
    "\n",
    "# yhat values\n",
    "yhat_multi_usa_short_df = pd.DataFrame({'yhat_usa_multi_short':yhat_multi_usa_short_denorm})\n",
    "yhat_multi_usa_short_df.set_index(dates_df[-128:],inplace=True)\n",
    "print(yhat_multi_usa_short_df.head())"
   ]
  },
  {
   "cell_type": "code",
   "execution_count": null,
   "id": "1510a43b",
   "metadata": {
    "scrolled": true
   },
   "outputs": [],
   "source": [
    "plotting.plot_train_test_fore(train=usa_train_df,test=y_usa_multi_short_df,fore=yhat_multi_usa_short_df,\n",
    "                              title='USA - Short Term',figpath=figpath+'/usa_multilstm_rolling.eps')"
   ]
  },
  {
   "cell_type": "code",
   "execution_count": null,
   "id": "f5a75bda",
   "metadata": {},
   "outputs": [],
   "source": []
  },
  {
   "cell_type": "code",
   "execution_count": null,
   "id": "7272b18f",
   "metadata": {},
   "outputs": [],
   "source": []
  }
 ],
 "metadata": {
  "kernelspec": {
   "display_name": "Python 3",
   "language": "python",
   "name": "python3"
  },
  "language_info": {
   "codemirror_mode": {
    "name": "ipython",
    "version": 3
   },
   "file_extension": ".py",
   "mimetype": "text/x-python",
   "name": "python",
   "nbconvert_exporter": "python",
   "pygments_lexer": "ipython3",
   "version": "3.6.9"
  }
 },
 "nbformat": 4,
 "nbformat_minor": 5
}
