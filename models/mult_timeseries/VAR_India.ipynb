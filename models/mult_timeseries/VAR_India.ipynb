{
 "cells": [
  {
   "cell_type": "markdown",
   "id": "b803b727",
   "metadata": {},
   "source": [
    "# VAR India\n",
    "\n",
    "Vector auto-regressive models - VAR, VMA, VARIMA on Covid-19 Cases. For all models, the first-differenced dataset is used (I = 1)."
   ]
  },
  {
   "cell_type": "markdown",
   "id": "ba2864ff",
   "metadata": {},
   "source": [
    "## [Setup](#setup)\n",
    "1. [Imports](#imports)\n",
    "2. [Results table](#results_init)\n",
    "3. [Ingestion](#ingestion)\n",
    "4. [Plotting](#plotting_init)\n",
    "5. [Statistical tests](#stattests1)\n",
    "    1. [Johansen co-integration test](#jci_init)\n",
    "    2. [Augmented DF Test](#adf_init)\n",
    "6. [Differencing](#diff_init)\n",
    "7. [Train test split](#traintest_init)\n",
    "\n",
    "## Long-Term Forecasting\n",
    "\n",
    "### [VAR Model](#var_model)\n",
    "1. [Find order p of VAR](#var_p)\n",
    "2. [VAR(1) Model](#var1)\n",
    "3. [Plots of first differenced predictions](#diff_plot_var)\n",
    "4. [Undifferencing and plotting](#undiff_var)\n",
    "5. [Store metrics - MAE, MAPE, MSE](#store_var)\n",
    "6. [Plot Train, Test, Forecast](#plot_final_var)\n",
    "\n",
    "    \n",
    "### [VMA Model](#vma_model)\n",
    "1. [Find order q of VMA](#vma_q)\n",
    "2. [VMA(1) Model](#vma1)\n",
    "3. [Plots of first differenced predictions](#diff_plot_vma)\n",
    "4. [Undifferencing and plotting](#undiff_vma)\n",
    "5. [Store metrics - MAE, MAPE, MSE](#store_vma)\n",
    "6. [Plot Train, Test, Forecast](#plot_final_vma)\n",
    "\n",
    "\n",
    "### [VARMA Model](#varma_model)\n",
    "1. [Find order (p, q) of VARMA](#varma_pq)\n",
    "2. [VARMA(1, 1) Model](#varma11)\n",
    "3. [Plots of first differenced predictions](#diff_plot_varma)\n",
    "4. [Undifferencing and plotting](#undiff_varma)\n",
    "5. [Store metrics - MAE, MAPE, MSE](#store_varma)\n",
    "6. [Plot Train, Test, Forecast](#plot_final_varma)\n",
    "\n",
    "## [Short-Term/Rolling Forecasting](#shortterm)\n",
    "\n",
    "1. [VAR(1)](#var_roll)\n",
    "2. [VMA(1)](#vma_roll)\n",
    "3. [VARMA(1,1)](#varma_roll)\n",
    "\n",
    "## [Final Metrics](#final_results)"
   ]
  },
  {
   "cell_type": "markdown",
   "id": "937deac7",
   "metadata": {},
   "source": [
    "<a name=setup></a>\n",
    "\n",
    "# Setup"
   ]
  },
  {
   "cell_type": "markdown",
   "id": "3e7ba208",
   "metadata": {},
   "source": [
    "<a name=imports></a>\n",
    "## Imports"
   ]
  },
  {
   "cell_type": "code",
   "execution_count": null,
   "id": "6f0eecac",
   "metadata": {},
   "outputs": [],
   "source": [
    "import pandas as pd\n",
    "import numpy as np\n",
    "import matplotlib.pyplot as plt\n",
    "import warnings\n",
    "\n",
    "warnings.filterwarnings(\"ignore\")"
   ]
  },
  {
   "cell_type": "markdown",
   "id": "aa6f875b",
   "metadata": {},
   "source": [
    "<a name=results_init></a>\n",
    "## Results table"
   ]
  },
  {
   "cell_type": "code",
   "execution_count": null,
   "id": "b420b085",
   "metadata": {},
   "outputs": [],
   "source": [
    "results_columns = ['model', 'mse', 'mape', 'mae']\n",
    "results_table = pd.DataFrame(columns=results_columns)"
   ]
  },
  {
   "cell_type": "markdown",
   "id": "826b5133",
   "metadata": {},
   "source": [
    "<a name=ingestion></a>\n",
    "\n",
    "## Ingestion"
   ]
  },
  {
   "cell_type": "code",
   "execution_count": null,
   "id": "02f36bbe",
   "metadata": {},
   "outputs": [],
   "source": [
    "daily_cases_india = pd.read_csv('../../cleaned_datasets/india/daily_cases_india.csv', parse_dates=['Date'])\n",
    "daily_vacc_india = pd.read_csv('../../cleaned_datasets/india/daily_vacc_india.csv', parse_dates=['date'])"
   ]
  },
  {
   "cell_type": "code",
   "execution_count": null,
   "id": "7140d485",
   "metadata": {},
   "outputs": [],
   "source": [
    "daily_cases_india.dtypes"
   ]
  },
  {
   "cell_type": "code",
   "execution_count": null,
   "id": "63bdb86a",
   "metadata": {},
   "outputs": [],
   "source": [
    "daily_cases_india"
   ]
  },
  {
   "cell_type": "code",
   "execution_count": null,
   "id": "003dd0a3",
   "metadata": {},
   "outputs": [],
   "source": [
    "daily_vacc_india.dtypes"
   ]
  },
  {
   "cell_type": "code",
   "execution_count": null,
   "id": "2aa2299c",
   "metadata": {},
   "outputs": [],
   "source": [
    "daily_vacc_india"
   ]
  },
  {
   "cell_type": "code",
   "execution_count": null,
   "id": "e0de8134",
   "metadata": {},
   "outputs": [],
   "source": [
    "cases_vacc = daily_cases_india.merge(daily_vacc_india, how='outer', left_on='Date', right_on='date')\n",
    "cases_vacc = cases_vacc[[\"Date\", \"Confirmed\", \"Total_Doses\"]]\n",
    "cases_vacc"
   ]
  },
  {
   "cell_type": "code",
   "execution_count": null,
   "id": "5645d08e",
   "metadata": {},
   "outputs": [],
   "source": [
    "cases_vacc.fillna(0, inplace=True)\n",
    "indexed = cases_vacc.set_index('Date')\n",
    "indexed"
   ]
  },
  {
   "cell_type": "markdown",
   "id": "b082da46",
   "metadata": {},
   "source": [
    "<a name=plotting_init></a>\n",
    "## Plot initial data"
   ]
  },
  {
   "cell_type": "code",
   "execution_count": null,
   "id": "2e9f8fe1",
   "metadata": {},
   "outputs": [],
   "source": [
    "def plot_2col_subplots(indexed):\n",
    "    \n",
    "    if type(indexed) == pd.DataFrame:\n",
    "        nrows = int(len(indexed.columns)/2)\n",
    "    else:\n",
    "        nrows = 1\n",
    "        \n",
    "    fig, axes = plt.subplots(nrows=nrows, ncols=2, dpi=120, figsize=(8,4))\n",
    "    for i, ax in enumerate(axes.flatten()):\n",
    "        \n",
    "        if type(indexed) == list:\n",
    "            # fig, ax = plt.subplots()\n",
    "            # fig.set_size_inches(8, 8)\n",
    "\n",
    "            ax.plot(indexed[0][indexed[0].columns[i]], color='blue', label = 'Train')\n",
    "            ax.plot(indexed[1][indexed[1].columns[i]], color='red', label = 'Test')\n",
    "            ax.legend(loc = 'best')\n",
    "            # Decorations\n",
    "            ax.set_title(indexed[0].columns[i])\n",
    "        else:    \n",
    "            data = indexed[indexed.columns[i]]\n",
    "            ax.plot(data, color='blue', linewidth=1)\n",
    "            # Decorations\n",
    "            ax.set_title(indexed.columns[i])\n",
    "        ax.xaxis.set_ticks_position('none')\n",
    "        ax.yaxis.set_ticks_position('none')\n",
    "        ax.spines[\"top\"].set_alpha(0)\n",
    "        ax.tick_params(labelsize=6)\n",
    "    \n",
    "    plt.tight_layout()\n",
    "    \n",
    "plot_2col_subplots(indexed)"
   ]
  },
  {
   "cell_type": "markdown",
   "id": "89e9d2ab",
   "metadata": {},
   "source": [
    "<a name=stattests1></a>\n",
    "## Statistical tests"
   ]
  },
  {
   "cell_type": "markdown",
   "id": "3da372cb",
   "metadata": {},
   "source": [
    "<a name=jci_init></a>\n",
    "\n",
    "### Johansen co-integration test"
   ]
  },
  {
   "cell_type": "code",
   "execution_count": null,
   "id": "685b3dcf",
   "metadata": {},
   "outputs": [],
   "source": [
    "from statsmodels.tsa.vector_ar.vecm import coint_johansen\n",
    "\n",
    "def cointegration_test(df, alpha=0.05): \n",
    "    \"\"\"Perform Johanson's Cointegration Test and Report Summary\"\"\"\n",
    "    out = coint_johansen(df,-1,5)\n",
    "    d = {'0.90':0, '0.95':1, '0.99':2}\n",
    "    traces = out.lr1\n",
    "    cvts = out.cvt[:, d[str(1-alpha)]]\n",
    "    def adjust(val, length= 6): return str(val).ljust(length)\n",
    "\n",
    "    # Summary\n",
    "    print('Name   ::  Test Stat > C(95%)    =>   Signif  \\n', '--'*20)\n",
    "    for col, trace, cvt in zip(df.columns, traces, cvts):\n",
    "        print(adjust(col), ':: ', adjust(round(trace,2), 9), \">\", adjust(cvt, 8), ' =>  ' , trace > cvt)\n",
    "\n",
    "cointegration_test(indexed)"
   ]
  },
  {
   "cell_type": "markdown",
   "id": "a31ae5f3",
   "metadata": {},
   "source": [
    "From JCT, the two time series are not correlated."
   ]
  },
  {
   "cell_type": "markdown",
   "id": "bf0d5ce7",
   "metadata": {},
   "source": [
    "<a name=adf_init></a>\n",
    "\n",
    "### Augmented DF Test"
   ]
  },
  {
   "cell_type": "code",
   "execution_count": null,
   "id": "054ea81d",
   "metadata": {},
   "outputs": [],
   "source": [
    "from statsmodels.tsa.stattools import adfuller\n",
    "\n",
    "def run_dicky_fuller(ts):\n",
    "  '''Function to run Augmented Dicky Fuller test on the passed time series and report the statistics from the test'''\n",
    "  print(\"Observations of Dickey-fuller test\")\n",
    "  dftest = adfuller(ts,autolag='AIC')\n",
    "  dfoutput=pd.Series(dftest[0:4],index=['Test Statistic','p-value','#lags used','number of observations used'])\n",
    "\n",
    "  for key,value in dftest[4].items():\n",
    "      dfoutput['critical value (%s)'%key]= value\n",
    "  print(dfoutput)\n",
    "\n",
    "\n",
    "# ADF Test on each column\n",
    "for name, column in indexed.iteritems():\n",
    "    run_dicky_fuller(column)\n",
    "    print('\\n')"
   ]
  },
  {
   "cell_type": "markdown",
   "id": "3568c70d",
   "metadata": {},
   "source": [
    "The TS is not stationary"
   ]
  },
  {
   "cell_type": "markdown",
   "id": "386084b5",
   "metadata": {},
   "source": [
    "<a name=diff_init></a>\n",
    "## Differencing"
   ]
  },
  {
   "cell_type": "markdown",
   "id": "4920112b",
   "metadata": {},
   "source": [
    "## First order differencing"
   ]
  },
  {
   "cell_type": "code",
   "execution_count": null,
   "id": "c68ae11f",
   "metadata": {},
   "outputs": [],
   "source": [
    "df_diff_1 = indexed.diff().dropna()\n",
    "df_diff_1"
   ]
  },
  {
   "cell_type": "code",
   "execution_count": null,
   "id": "30ec4f80",
   "metadata": {},
   "outputs": [],
   "source": [
    "plot_2col_subplots(df_diff_1)\n"
   ]
  },
  {
   "cell_type": "code",
   "execution_count": null,
   "id": "d5e7db36",
   "metadata": {},
   "outputs": [],
   "source": [
    "# ADF Test on each column\n",
    "for name, column in df_diff_1.iteritems():\n",
    "    run_dicky_fuller(column)\n",
    "    print('\\n')"
   ]
  },
  {
   "cell_type": "code",
   "execution_count": null,
   "id": "d377cbd7",
   "metadata": {},
   "outputs": [],
   "source": [
    "cointegration_test(df_diff_1)"
   ]
  },
  {
   "cell_type": "markdown",
   "id": "8bef3a31",
   "metadata": {},
   "source": [
    "From JCT, the two time series are correlated."
   ]
  },
  {
   "cell_type": "markdown",
   "id": "0fb33795",
   "metadata": {},
   "source": [
    "<a name=traintest_init></a>\n",
    "## Train-test split"
   ]
  },
  {
   "cell_type": "markdown",
   "id": "815f6a3b",
   "metadata": {},
   "source": [
    "### Train-test split - first order differenced"
   ]
  },
  {
   "cell_type": "code",
   "execution_count": null,
   "id": "71a99cf2",
   "metadata": {},
   "outputs": [],
   "source": [
    "percent_90 = int(len(df_diff_1)*0.9)\n",
    "\n",
    "train = df_diff_1.iloc[:percent_90].dropna()\n",
    "test = df_diff_1.iloc[percent_90:]\n",
    "\n",
    "plot_2col_subplots([train, test])"
   ]
  },
  {
   "cell_type": "markdown",
   "id": "e5812776",
   "metadata": {},
   "source": [
    "<a name=var_model></a>\n",
    "\n",
    "# VAR Model"
   ]
  },
  {
   "cell_type": "markdown",
   "id": "5f55dbad",
   "metadata": {},
   "source": [
    "<a name=var_p></a>\n",
    "## Finding the order p for VAR(p)\n",
    "\n",
    "Using PACF plot"
   ]
  },
  {
   "cell_type": "code",
   "execution_count": null,
   "id": "fb43e022",
   "metadata": {},
   "outputs": [],
   "source": [
    "from statsmodels.graphics.tsaplots import plot_pacf, plot_acf\n",
    "\n",
    "pacf_var_confirmed = plot_pacf(df_diff_1['Confirmed'], lags=25)"
   ]
  },
  {
   "cell_type": "code",
   "execution_count": null,
   "id": "125ab9e5",
   "metadata": {},
   "outputs": [],
   "source": [
    "def MAPE(Y_actual, Y_Predicted, title=None):\n",
    "    mask = Y_actual != 0\n",
    "    \n",
    "    mape = np.mean(np.abs((Y_actual - Y_Predicted)/Y_actual)[mask])*100\n",
    "    if title:\n",
    "        print(f\"MAPE of {title} is {mape[mape.index[0]]}%\")\n",
    "    return mape"
   ]
  },
  {
   "cell_type": "code",
   "execution_count": null,
   "id": "30bd30ca",
   "metadata": {},
   "outputs": [],
   "source": [
    "from statsmodels.tsa.statespace.varmax import VARMAX\n",
    "from sklearn.metrics import mean_squared_error, mean_absolute_error\n",
    "\n",
    "# evaluate an VARMA model for a given order (p,d,q)\n",
    "def evaluate_varma_model(train, test, varma_order, column):\n",
    "    \n",
    "    model = VARMAX(train, order=varma_order)\n",
    "    model_fit = model.fit()\n",
    "    yhat = model_fit.forecast(len(test))\n",
    "    mse = mean_squared_error(test[column], yhat[column])\n",
    "    mape = MAPE(test[column], yhat[column])\n",
    "    mae = mean_absolute_error(test[column], yhat[column])\n",
    "    return mse, mape, mae"
   ]
  },
  {
   "cell_type": "code",
   "execution_count": null,
   "id": "c6e2e551",
   "metadata": {},
   "outputs": [],
   "source": [
    "# Grid search\n",
    "\n",
    "# evaluate combinations of p and q values for an VARMA model\n",
    "def evaluate_models(train, test, p_values, q_values, column):\n",
    "    #dataset = dataset.astype('float32')\n",
    "    best_score, best_cfg = {'mse': float(\"inf\")}, None\n",
    "    \n",
    "    for p in p_values:\n",
    "        for q in q_values:\n",
    "            order = (p,q)\n",
    "            try:\n",
    "                mse, mape, mae = evaluate_varma_model(train, test, order, column)\n",
    "                \n",
    "                if mse < best_score['mse']:\n",
    "                    best_score['mse'], best_cfg = mse, order\n",
    "                \n",
    "                print('VARMA%s MSE=%.3f, MAPE=%.3f, MAE=%.3f' % (order,mse,mape,mae))\n",
    "            except:\n",
    "                continue\n",
    "    print()\n",
    "    print('Best VARMA%s MSE=%.3f' % (best_cfg, best_score['mse']))"
   ]
  },
  {
   "cell_type": "code",
   "execution_count": null,
   "id": "223d88f8",
   "metadata": {},
   "outputs": [],
   "source": [
    "evaluate_models(train, test, [1, 9], [0], column='Confirmed')"
   ]
  },
  {
   "cell_type": "markdown",
   "id": "a351f3ab",
   "metadata": {},
   "source": [
    "From trial and error, VAR(9) yields negative values while VAR(1) does not. Therefore, VAR(1) chosen."
   ]
  },
  {
   "cell_type": "markdown",
   "id": "579e7719",
   "metadata": {},
   "source": [
    "<a name=var1></a>\n",
    "## VAR(1) Model"
   ]
  },
  {
   "cell_type": "code",
   "execution_count": null,
   "id": "c792a7f6",
   "metadata": {},
   "outputs": [],
   "source": [
    "model = VARMAX(train, order=(1,0))\n",
    "model_fit = model.fit()\n",
    "forecasted = model_fit.forecast(len(test))\n",
    "\n",
    "df_forecast = pd.DataFrame(forecasted, index=test.index)\n",
    "df_forecast.rename(columns = {'Confirmed': 'Confirmed_forecast', 'Total_Doses': 'Total_Doses_forecast'}, inplace=True)\n",
    "\n",
    "forecasted_conf = df_forecast.join(test)[['Confirmed', 'Confirmed_forecast']]\n",
    "forecasted_vacc = df_forecast.join(test)[['Total_Doses', 'Total_Doses_forecast']]\n",
    "\n",
    "# conf = model_fit.conf_int(alpha=0.05)"
   ]
  },
  {
   "cell_type": "code",
   "execution_count": null,
   "id": "62a393e1",
   "metadata": {},
   "outputs": [],
   "source": [
    "model_fit.summary()"
   ]
  },
  {
   "cell_type": "markdown",
   "id": "6585d600",
   "metadata": {},
   "source": [
    "<a name=diff_plot_var></a>\n",
    "\n",
    "## Plots of Predictions (Differenced)"
   ]
  },
  {
   "cell_type": "code",
   "execution_count": null,
   "id": "6ffa83ea",
   "metadata": {},
   "outputs": [],
   "source": [
    "def plot_fore_test(test, fore, title):\n",
    "    \n",
    "    fig, ax = plt.subplots()\n",
    "    fig.set_size_inches(12, 8)\n",
    "\n",
    "    ax.plot(test, color='blue', label='Test')\n",
    "    ax.plot(fore, color='red', label='Forecast')\n",
    "    ax.legend(loc='best')\n",
    "    plt.title(title)\n",
    "    plt.show()"
   ]
  },
  {
   "cell_type": "code",
   "execution_count": null,
   "id": "de78b6c6",
   "metadata": {},
   "outputs": [],
   "source": [
    "# plot_fore_test(test[['Confirmed']], forecasted[['Confirmed']], title='Diffed Daily cases')"
   ]
  },
  {
   "cell_type": "code",
   "execution_count": null,
   "id": "07716dfc",
   "metadata": {},
   "outputs": [],
   "source": [
    "# plot_fore_test(test[['Total_Doses']], forecasted[['Total_Doses']], title='Diffed Daily vaccinations')"
   ]
  },
  {
   "cell_type": "markdown",
   "id": "b57008d8",
   "metadata": {},
   "source": [
    "<a name=undiff_var></a>\n",
    "\n",
    "## Un-differencing and Plotting"
   ]
  },
  {
   "cell_type": "code",
   "execution_count": null,
   "id": "ea51c8b8",
   "metadata": {},
   "outputs": [],
   "source": [
    "def invert_transformation(diffed, original):\n",
    "    \"\"\"Revert back the differencing to get the forecast to original scale.\"\"\"\n",
    "    df_copy = original.copy()\n",
    "    \n",
    "    columns = diffed.columns\n",
    "    \n",
    "    for col in columns:\n",
    "        # Add corresponding diff column\n",
    "        df_copy[f'undiff_{col}'] = original[col]\n",
    "        df_copy[f'undiff_{col}'][1:] = diffed[col]\n",
    "        df_copy[f'undiff_{col}'] = df_copy[f'undiff_{col}'].cumsum()\n",
    "    \n",
    "        df_copy.drop(col, axis=1, inplace=True)\n",
    "        \n",
    "    return df_copy"
   ]
  },
  {
   "cell_type": "code",
   "execution_count": null,
   "id": "13c3e6c6",
   "metadata": {},
   "outputs": [],
   "source": [
    "# Check if un-diffed df_diff_1 is the same as original\n",
    "\n",
    "#inverted = invert_transformation(df_diff_1, indexed)\n",
    "#(inverted[['undiff_Confirmed']] - indexed[['Confirmed']]).isna().sum()"
   ]
  },
  {
   "cell_type": "code",
   "execution_count": null,
   "id": "9437c42d",
   "metadata": {},
   "outputs": [],
   "source": [
    "# Un-diff the test dataset\n",
    "\n",
    "start_index = indexed.index.get_loc(test.index[0])-1\n",
    "test_original = invert_transformation(test, indexed.iloc[start_index:])\n",
    "\n",
    "#test_original"
   ]
  },
  {
   "cell_type": "code",
   "execution_count": null,
   "id": "dfb798d2",
   "metadata": {},
   "outputs": [],
   "source": [
    "renamed_df = df_forecast.rename(columns={'Confirmed_forecast': 'Confirmed', 'Total_Doses_forecast': 'Total_Doses'}, inplace=False)\n",
    "\n",
    "\n",
    "start_index = indexed.index.get_loc(renamed_df.index[0])-1\n",
    "fore_original = invert_transformation(renamed_df, indexed.iloc[start_index:])"
   ]
  },
  {
   "cell_type": "code",
   "execution_count": null,
   "id": "bbf5d790",
   "metadata": {},
   "outputs": [],
   "source": [
    "end_index = indexed.index.get_loc(fore_original.index[0])\n",
    "train_original = indexed[:end_index]\n",
    "# plot_2col_subplots([train_original, fore_original])"
   ]
  },
  {
   "cell_type": "markdown",
   "id": "e6d05760",
   "metadata": {},
   "source": [
    "<a name=store_var></a>\n",
    "\n",
    "## Store metrics"
   ]
  },
  {
   "cell_type": "code",
   "execution_count": null,
   "id": "4a454090",
   "metadata": {},
   "outputs": [],
   "source": [
    "results_table = results_table.append({\n",
    "    'model': 'VAR(1)',\n",
    "    'mse': mean_squared_error(test_original['undiff_Confirmed'], fore_original['undiff_Confirmed']),\n",
    "    'mape': MAPE(test_original['undiff_Confirmed'], fore_original['undiff_Confirmed']),\n",
    "    'mae': mean_absolute_error(test_original['undiff_Confirmed'], fore_original['undiff_Confirmed'])\n",
    "}, ignore_index=True)\n",
    "\n",
    "results_table"
   ]
  },
  {
   "cell_type": "markdown",
   "id": "d4299881",
   "metadata": {},
   "source": [
    "<a name=plot_final_var></a>\n",
    "\n",
    "## Plot Train, Test, Forecast"
   ]
  },
  {
   "cell_type": "code",
   "execution_count": null,
   "id": "3712c8ba",
   "metadata": {},
   "outputs": [],
   "source": [
    "def plot_train_test_fore(train, test, fore, conf=None, title='Forecast vs Actuals', ylabel='', xlabel='Date', figpath=None):\n",
    "    \n",
    "    # Confidence of cases\n",
    "    if conf is not None:\n",
    "        lower_series = pd.Series(conf[:, 0], index=val.index)\n",
    "        upper_series = pd.Series(conf[:, 1], index=val.index)\n",
    "        plt.fill_between(lower_series.index, lower_series, upper_series, color='k', alpha=.15)\n",
    "        \n",
    "    \n",
    "    plt.figure(figsize=(10,5), dpi=100)\n",
    "    plt.plot(train, label='training')\n",
    "    plt.plot(test, label='actual')\n",
    "    plt.plot(fore, label='forecast')\n",
    "    fig = plt.gcf()\n",
    "    \n",
    "    plt.xlabel=xlabel\n",
    "    plt.ylabel=ylabel\n",
    "\n",
    "    plt.title(title)\n",
    "    plt.legend(loc='upper left', fontsize=8)\n",
    "    plt.show()\n",
    "    \n",
    "    \n",
    "    if figpath is not None:\n",
    "        fig.savefig(figpath, format='eps', bbox_inches='tight')"
   ]
  },
  {
   "cell_type": "code",
   "execution_count": null,
   "id": "79e8cc9f",
   "metadata": {},
   "outputs": [],
   "source": [
    "# Plot of daily cases\n",
    "plot_train_test_fore(train_original.Confirmed, test_original[['undiff_Confirmed']], fore_original[['undiff_Confirmed']], title='Daily cases')\n"
   ]
  },
  {
   "cell_type": "markdown",
   "id": "4496924c",
   "metadata": {},
   "source": [
    "Clearly, a VAR model is not good enough to make predictions"
   ]
  },
  {
   "cell_type": "code",
   "execution_count": null,
   "id": "a71cc6e3",
   "metadata": {},
   "outputs": [],
   "source": [
    "# Plot of daily doses\n",
    "#plot_train_test_fore(train_original.Total_Doses, test_original[['undiff_Total_Doses']], fore_original[['undiff_Total_Doses']], title='Daily doses', figpath='../../figures/v_ar/india_vacc.eps')\n"
   ]
  },
  {
   "cell_type": "markdown",
   "id": "52c7c2bb",
   "metadata": {},
   "source": [
    "<a name=vma_model></a>\n",
    "\n",
    "# VMA Model"
   ]
  },
  {
   "cell_type": "markdown",
   "id": "c71cd4e7",
   "metadata": {},
   "source": [
    "<a name=vma_q></a>\n",
    "## Find order q of VMA"
   ]
  },
  {
   "cell_type": "code",
   "execution_count": null,
   "id": "360246e6",
   "metadata": {},
   "outputs": [],
   "source": [
    "acf_varma_confirmed = plot_acf(train['Confirmed'], lags=25)"
   ]
  },
  {
   "cell_type": "code",
   "execution_count": null,
   "id": "3e041a2e",
   "metadata": {},
   "outputs": [],
   "source": [
    "evaluate_models(train, test, [0], [1, 7], column='Confirmed')"
   ]
  },
  {
   "cell_type": "markdown",
   "id": "3ad53dee",
   "metadata": {},
   "source": [
    "<a name=vma1></a>\n",
    "\n",
    "## VMA(1)"
   ]
  },
  {
   "cell_type": "code",
   "execution_count": null,
   "id": "ed80a44d",
   "metadata": {},
   "outputs": [],
   "source": [
    "model_ma = VARMAX(train, order=(0,1))\n",
    "model_fit_ma = model_ma.fit()\n",
    "forecasted_ma = model_fit_ma.forecast(len(test))\n",
    "\n",
    "df_forecast_ma = pd.DataFrame(forecasted_ma, index=test.index)\n",
    "df_forecast_ma.rename(columns = {'Confirmed': 'Confirmed_forecast', 'Total_Doses': 'Total_Doses_forecast'}, inplace=True)\n",
    "\n",
    "forecasted_conf_ma = df_forecast_ma.join(test)[['Confirmed', 'Confirmed_forecast']]\n",
    "forecasted_vacc_ma = df_forecast_ma.join(test)[['Total_Doses', 'Total_Doses_forecast']]\n",
    "\n",
    "# conf = model_fit.conf_int(alpha=0.05)"
   ]
  },
  {
   "cell_type": "code",
   "execution_count": null,
   "id": "064fe790",
   "metadata": {},
   "outputs": [],
   "source": [
    "model_fit_ma.summary()"
   ]
  },
  {
   "cell_type": "markdown",
   "id": "e774ac01",
   "metadata": {},
   "source": [
    "<a name=diff_plot_vma></a>\n",
    "\n",
    "## Plots of Predictions (Differenced)"
   ]
  },
  {
   "cell_type": "code",
   "execution_count": null,
   "id": "e125de16",
   "metadata": {},
   "outputs": [],
   "source": [
    "plot_fore_test(test[['Confirmed']], forecasted_ma[['Confirmed']], title='Diffed Daily cases')"
   ]
  },
  {
   "cell_type": "code",
   "execution_count": null,
   "id": "c89ca882",
   "metadata": {},
   "outputs": [],
   "source": [
    "plot_fore_test(test[['Total_Doses']], forecasted_ma[['Total_Doses']], title='Diffed Daily vaccinations')"
   ]
  },
  {
   "cell_type": "markdown",
   "id": "0b201cdf",
   "metadata": {},
   "source": [
    "<a name=undiff_vma></a>\n",
    "\n",
    "## Undifferencing and plotting"
   ]
  },
  {
   "cell_type": "code",
   "execution_count": null,
   "id": "2787745d",
   "metadata": {},
   "outputs": [],
   "source": [
    "renamed_df_ma = df_forecast_ma.rename(columns={'Confirmed_forecast': 'Confirmed', 'Total_Doses_forecast': 'Total_Doses'}, inplace=False)\n",
    "\n",
    "\n",
    "start_index_ma = indexed.index.get_loc(renamed_df_ma.index[0])-1\n",
    "fore_original_ma = invert_transformation(renamed_df_ma, indexed.iloc[start_index_ma:])"
   ]
  },
  {
   "cell_type": "code",
   "execution_count": null,
   "id": "0c2ebce6",
   "metadata": {},
   "outputs": [],
   "source": [
    "fore_original_ma"
   ]
  },
  {
   "cell_type": "markdown",
   "id": "945e8a77",
   "metadata": {},
   "source": [
    "<a name=store_vma></a>\n",
    "\n",
    "## Store metrics"
   ]
  },
  {
   "cell_type": "code",
   "execution_count": null,
   "id": "193d8b42",
   "metadata": {},
   "outputs": [],
   "source": [
    "results_table = results_table.append({\n",
    "    'model': 'VMA(1)',\n",
    "    'mse': mean_squared_error(test_original['undiff_Confirmed'], fore_original_ma['undiff_Confirmed']),\n",
    "    'mape': MAPE(test_original['undiff_Confirmed'], fore_original_ma['undiff_Confirmed']),\n",
    "    'mae': mean_absolute_error(test_original['undiff_Confirmed'], fore_original_ma['undiff_Confirmed'])\n",
    "}, ignore_index=True)\n",
    "\n",
    "results_table"
   ]
  },
  {
   "cell_type": "code",
   "execution_count": null,
   "id": "26d6dc0c",
   "metadata": {},
   "outputs": [],
   "source": [
    "# end_index = indexed.index.get_loc(fore_original_ma.index[0])\n",
    "# train_original_ma = indexed[:end_index]\n",
    "# #plot_subplots([train_original, fore_original_ma])"
   ]
  },
  {
   "cell_type": "markdown",
   "id": "16354c25",
   "metadata": {},
   "source": [
    "<a name=plot_final_vma></a>\n",
    "\n",
    "## Plot Train, Test, Forecast"
   ]
  },
  {
   "cell_type": "code",
   "execution_count": null,
   "id": "0629f810",
   "metadata": {},
   "outputs": [],
   "source": [
    "plot_train_test_fore(train_original.Confirmed, test_original[['undiff_Confirmed']], fore_original_ma[['undiff_Confirmed']], title='Daily cases', figpath='../../figures/v_ar/india_cases.eps')\n"
   ]
  },
  {
   "cell_type": "markdown",
   "id": "6f5f06d0",
   "metadata": {},
   "source": [
    "<a name=varma_model></a>\n",
    "\n",
    "# VARMA"
   ]
  },
  {
   "cell_type": "markdown",
   "id": "f0a71f2e",
   "metadata": {},
   "source": [
    "<a name=varma_pq></a>\n",
    "\n",
    "## Find order (p, q) of VARMA"
   ]
  },
  {
   "cell_type": "markdown",
   "id": "30458b97",
   "metadata": {},
   "source": [
    "PACF/ACF"
   ]
  },
  {
   "cell_type": "code",
   "execution_count": null,
   "id": "83c69476",
   "metadata": {},
   "outputs": [],
   "source": [
    "pacf_varma_confirmed = plot_pacf(train['Confirmed'], lags=25)\n",
    "acf_varma_confirmed = plot_acf(train['Confirmed'], lags=25)"
   ]
  },
  {
   "cell_type": "markdown",
   "id": "711a9a15",
   "metadata": {},
   "source": [
    "VARIMA(1, 1), VARIMA(9, 1), VARIMA(1, 7), VARIMA(9, 7)"
   ]
  },
  {
   "cell_type": "code",
   "execution_count": null,
   "id": "3885ea19",
   "metadata": {},
   "outputs": [],
   "source": [
    "evaluate_models(train, test, [1, 9], [1, 7], column='Confirmed')"
   ]
  },
  {
   "cell_type": "markdown",
   "id": "c7b91d57",
   "metadata": {},
   "source": [
    "<a name=varma11></a>\n",
    "\n",
    "## VARMA(1, 1)"
   ]
  },
  {
   "cell_type": "code",
   "execution_count": null,
   "id": "e8151f6d",
   "metadata": {},
   "outputs": [],
   "source": [
    "model = VARMAX(train, order=(1,1))\n",
    "model_fit = model.fit()\n",
    "yhat = model_fit.forecast(len(test))\n",
    "#yhat"
   ]
  },
  {
   "cell_type": "markdown",
   "id": "4c173e69",
   "metadata": {},
   "source": [
    "<a name=diff_plot_varma></a>\n",
    "\n",
    "## Plots of Predictions (Differenced)"
   ]
  },
  {
   "cell_type": "code",
   "execution_count": null,
   "id": "b8868d8e",
   "metadata": {},
   "outputs": [],
   "source": [
    "plot_fore_test(test[['Confirmed']], yhat[['Confirmed']], title='Diffed Daily cases')"
   ]
  },
  {
   "cell_type": "code",
   "execution_count": null,
   "id": "550dc23d",
   "metadata": {},
   "outputs": [],
   "source": [
    "plot_fore_test(test[['Total_Doses']], yhat[['Total_Doses']], title='Diffed Daily Doses')"
   ]
  },
  {
   "cell_type": "markdown",
   "id": "adf8367a",
   "metadata": {},
   "source": [
    "<a name=undiff_varma></a>\n",
    "\n",
    "## Undifferencing and plotting"
   ]
  },
  {
   "cell_type": "code",
   "execution_count": null,
   "id": "c16f9640",
   "metadata": {},
   "outputs": [],
   "source": [
    "# Un-diff the test dataset\n",
    "\n",
    "fore_original_3 = invert_transformation(yhat, indexed.iloc[start_index:])\n",
    "fore_original_3"
   ]
  },
  {
   "cell_type": "code",
   "execution_count": null,
   "id": "64370946",
   "metadata": {},
   "outputs": [],
   "source": [
    "#plot_fore_test(test_original[['undiff_Confirmed']], fore_original_3[['undiff_Confirmed']], title='Daily cases')"
   ]
  },
  {
   "cell_type": "code",
   "execution_count": null,
   "id": "a0708a89",
   "metadata": {},
   "outputs": [],
   "source": [
    "#plot_fore_test(test_original[['undiff_Total_Doses']], fore_original_3[['undiff_Total_Doses']], title='Daily Doses')"
   ]
  },
  {
   "cell_type": "code",
   "execution_count": null,
   "id": "f375649b",
   "metadata": {},
   "outputs": [],
   "source": [
    "plot_2col_subplots([train_original, fore_original_3])"
   ]
  },
  {
   "cell_type": "markdown",
   "id": "0667be7c",
   "metadata": {},
   "source": [
    "<a name=store_varma></a>\n",
    "\n",
    "## Store metrics"
   ]
  },
  {
   "cell_type": "code",
   "execution_count": null,
   "id": "5913ff65",
   "metadata": {},
   "outputs": [],
   "source": [
    "results_table = results_table.append({\n",
    "    'model': 'VARMA(1,1)',\n",
    "    'mse': mean_squared_error(test_original['undiff_Confirmed'], fore_original_3['undiff_Confirmed']),\n",
    "    'mape': MAPE(test_original['undiff_Confirmed'], fore_original_3['undiff_Confirmed']),\n",
    "    'mae': mean_absolute_error(test_original['undiff_Confirmed'], fore_original_3['undiff_Confirmed'])\n",
    "}, ignore_index=True)\n",
    "\n",
    "results_table"
   ]
  },
  {
   "cell_type": "markdown",
   "id": "f473ed28",
   "metadata": {},
   "source": [
    "<a name=plot_final_varma></a>\n",
    "\n",
    "## Plot Train, Test, Forecast"
   ]
  },
  {
   "cell_type": "code",
   "execution_count": null,
   "id": "a498e0a6",
   "metadata": {},
   "outputs": [],
   "source": [
    "# Plot of daily cases\n",
    "plot_train_test_fore(train_original.Confirmed, test_original[['undiff_Confirmed']], fore_original_3[['undiff_Confirmed']], title='Daily cases', figpath='../../figures/varma/india_cases.eps')\n"
   ]
  },
  {
   "cell_type": "code",
   "execution_count": null,
   "id": "1a3cd659",
   "metadata": {},
   "outputs": [],
   "source": [
    "# Plot of daily doses\n",
    "# plot_train_test_fore(train_original.Total_Doses, test_original[['undiff_Total_Doses']], fore_original_3[['undiff_Total_Doses']], title='Daily cases', figpath='../../figures/varma/india_vacc.eps')"
   ]
  },
  {
   "cell_type": "markdown",
   "id": "a8400446",
   "metadata": {},
   "source": [
    "<a name=shortterm></a>\n",
    "\n",
    "# Rolling forecasts"
   ]
  },
  {
   "cell_type": "code",
   "execution_count": null,
   "id": "3d389a72",
   "metadata": {
    "scrolled": true
   },
   "outputs": [],
   "source": [
    "history = train.copy()\n",
    "predicted = pd.DataFrame(columns=[\n",
    "    'VAR_Confirmed', \n",
    "    'VAR_Total_Doses', \n",
    "    'VMA_Confirmed', \n",
    "    'VMA_Total_Doses', \n",
    "    'VARMA_Confirmed', \n",
    "    'VARMA_Total_Doses'\n",
    "], index=test.index)\n",
    "\n",
    "\n",
    "# predicted\n",
    "\n",
    "for t in range(len(test)):\n",
    "    # 3 models\n",
    "    var = VARMAX(history, order=(1,0))\n",
    "    vma = VARMAX(history, order=(0,1))\n",
    "    varma = VARMAX(history, order=(1,1))\n",
    "    \n",
    "    # 3 fitted models\n",
    "    var_fit = var.fit()\n",
    "    vma_fit = vma.fit()\n",
    "    varma_fit = varma.fit()\n",
    "    \n",
    "    # Predictions\n",
    "    yhat_var = var_fit.forecast()\n",
    "    yhat_vma = vma_fit.forecast()\n",
    "    yhat_varma = varma_fit.forecast()\n",
    "    \n",
    "    # Next index to insert\n",
    "    newindex = history.index[-1] + pd.to_timedelta(1, 'D')\n",
    "    \n",
    "    # Confirmed cases\n",
    "    predicted.loc[newindex]['VAR_Confirmed'] = yhat_var['Confirmed'].values[0]\n",
    "    predicted.loc[newindex]['VMA_Confirmed'] = yhat_vma['Confirmed'].values[0]\n",
    "    predicted.loc[newindex]['VARMA_Confirmed'] = yhat_varma['Confirmed'].values[0]\n",
    "    \n",
    "    # Total doses\n",
    "    predicted.loc[newindex]['VAR_Total_Doses'] = yhat_var['Total_Doses'].values[0]\n",
    "    predicted.loc[newindex]['VMA_Total_Doses'] = yhat_vma['Total_Doses'].values[0]\n",
    "    predicted.loc[newindex]['VARMA_Total_Doses'] = yhat_varma['Total_Doses'].values[0]\n",
    "    \n",
    "    history = history.append(test.iloc[t])\n",
    "    # history[newindex]['Total_Doses'] = test.iloc[t]['Total_Doses']\n",
    "    \n",
    "    # print('predicted =', yhat.values, ' ; actual =', test.iloc[t].values)"
   ]
  },
  {
   "cell_type": "code",
   "execution_count": null,
   "id": "077c5830",
   "metadata": {},
   "outputs": [],
   "source": [
    "predicted"
   ]
  },
  {
   "cell_type": "markdown",
   "id": "918404a3",
   "metadata": {},
   "source": [
    "<a name=var_roll></a>\n",
    "\n",
    "## VAR(1)"
   ]
  },
  {
   "cell_type": "code",
   "execution_count": null,
   "id": "37c18085",
   "metadata": {},
   "outputs": [],
   "source": [
    "plot_subplots([test, predicted[['VAR_Confirmed', 'VAR_Total_Doses']]])"
   ]
  },
  {
   "cell_type": "code",
   "execution_count": null,
   "id": "bede722d",
   "metadata": {},
   "outputs": [],
   "source": [
    "# Un-diffing\n",
    "\n",
    "pred_var = predicted[['VAR_Confirmed', 'VAR_Total_Doses']].rename(columns={'VAR_Confirmed': 'Confirmed', 'VAR_Total_Doses': 'Total_Doses'}, inplace=False)\n",
    "fore_original_4_var = invert_transformation(pred_var, indexed.iloc[start_index:])"
   ]
  },
  {
   "cell_type": "code",
   "execution_count": null,
   "id": "917a53af",
   "metadata": {},
   "outputs": [],
   "source": [
    "# fore_original_4_var"
   ]
  },
  {
   "cell_type": "code",
   "execution_count": null,
   "id": "f953a7e7",
   "metadata": {},
   "outputs": [],
   "source": [
    "results_table = results_table.append({\n",
    "    'model': 'VAR(1) - rolling',\n",
    "    'mse': mean_squared_error(test_original['undiff_Confirmed'], fore_original_4_var['undiff_Confirmed']),\n",
    "    'mape': MAPE(test_original['undiff_Confirmed'], fore_original_4_var['undiff_Confirmed']),\n",
    "    'mae': mean_absolute_error(test_original['undiff_Confirmed'], fore_original_4_var['undiff_Confirmed'])\n",
    "}, ignore_index=True)\n",
    "\n",
    "results_table"
   ]
  },
  {
   "cell_type": "code",
   "execution_count": null,
   "id": "c4e23de1",
   "metadata": {},
   "outputs": [],
   "source": [
    "plot_train_test_fore(train_original.Confirmed, test_original[['undiff_Confirmed']], fore_original_4_var[['undiff_Confirmed']], title='Daily cases', figpath='../../figures/varma/india_cases.eps')\n"
   ]
  },
  {
   "cell_type": "markdown",
   "id": "5358dbbb",
   "metadata": {},
   "source": [
    "<a name=vma_roll></a>\n",
    "\n",
    "## VMA(1)"
   ]
  },
  {
   "cell_type": "code",
   "execution_count": null,
   "id": "a5af7d5e",
   "metadata": {},
   "outputs": [],
   "source": [
    "plot_subplots([test, predicted[['VMA_Confirmed', 'VMA_Total_Doses']]])"
   ]
  },
  {
   "cell_type": "code",
   "execution_count": null,
   "id": "9c8a6dbe",
   "metadata": {},
   "outputs": [],
   "source": [
    "# Un-diffing\n",
    "\n",
    "pred_vma = predicted[['VMA_Confirmed', 'VMA_Total_Doses']].rename(columns={'VMA_Confirmed': 'Confirmed', 'VMA_Total_Doses': 'Total_Doses'}, inplace=False)\n",
    "fore_original_4_vma = invert_transformation(pred_vma, indexed.iloc[start_index:])"
   ]
  },
  {
   "cell_type": "code",
   "execution_count": null,
   "id": "2d81e285",
   "metadata": {},
   "outputs": [],
   "source": [
    "# fore_original_4_vma"
   ]
  },
  {
   "cell_type": "code",
   "execution_count": null,
   "id": "2dc01c6b",
   "metadata": {},
   "outputs": [],
   "source": [
    "results_table = results_table.append({\n",
    "    'model': 'VMA(1) - rolling',\n",
    "    'mse': mean_squared_error(test_original['undiff_Confirmed'], fore_original_4_vma['undiff_Confirmed']),\n",
    "    'mape': MAPE(test_original['undiff_Confirmed'], fore_original_4_vma['undiff_Confirmed']),\n",
    "    'mae': mean_absolute_error(test_original['undiff_Confirmed'], fore_original_4_vma['undiff_Confirmed'])\n",
    "}, ignore_index=True)\n",
    "\n",
    "results_table"
   ]
  },
  {
   "cell_type": "code",
   "execution_count": null,
   "id": "fdf857e1",
   "metadata": {},
   "outputs": [],
   "source": [
    "plot_train_test_fore(train_original.Confirmed, test_original[['undiff_Confirmed']], fore_original_4_vma[['undiff_Confirmed']], title='Daily cases', figpath='../../figures/varma/india_cases_vma.eps')\n",
    "\n"
   ]
  },
  {
   "cell_type": "markdown",
   "id": "99caedad",
   "metadata": {},
   "source": [
    "<a name=varma_roll></a>\n",
    "\n",
    "## VARMA(1,1)"
   ]
  },
  {
   "cell_type": "code",
   "execution_count": null,
   "id": "c0ccb4c6",
   "metadata": {},
   "outputs": [],
   "source": [
    "plot_subplots([test, predicted[['VARMA_Confirmed', 'VARMA_Total_Doses']]])"
   ]
  },
  {
   "cell_type": "code",
   "execution_count": null,
   "id": "a442d788",
   "metadata": {},
   "outputs": [],
   "source": [
    "# Un-diffing\n",
    "\n",
    "pred_varma = predicted[['VARMA_Confirmed', 'VARMA_Total_Doses']].rename(columns={'VARMA_Confirmed': 'Confirmed', 'VARMA_Total_Doses': 'Total_Doses'}, inplace=False)\n",
    "fore_original_4_varma = invert_transformation(pred_varma, indexed.iloc[start_index:])"
   ]
  },
  {
   "cell_type": "code",
   "execution_count": null,
   "id": "f9b920c2",
   "metadata": {},
   "outputs": [],
   "source": [
    "# fore_original_4_varma"
   ]
  },
  {
   "cell_type": "code",
   "execution_count": null,
   "id": "a8a32c5a",
   "metadata": {},
   "outputs": [],
   "source": [
    "results_table = results_table.append({\n",
    "    'model': 'VARMA(1) - rolling',\n",
    "    'mse': mean_squared_error(test_original['undiff_Confirmed'], fore_original_4_varma['undiff_Confirmed']),\n",
    "    'mape': MAPE(test_original['undiff_Confirmed'], fore_original_4_varma['undiff_Confirmed']),\n",
    "    'mae': mean_absolute_error(test_original['undiff_Confirmed'], fore_original_4_varma['undiff_Confirmed'])\n",
    "}, ignore_index=True)\n",
    "\n",
    "results_table"
   ]
  },
  {
   "cell_type": "code",
   "execution_count": null,
   "id": "b39abf76",
   "metadata": {},
   "outputs": [],
   "source": [
    "plot_train_test_fore(train_original.Confirmed, test_original[['undiff_Confirmed']], fore_original_4_varma[['undiff_Confirmed']], title='Daily cases', figpath='../../figures/varma/india_cases_varma.eps')\n"
   ]
  },
  {
   "cell_type": "markdown",
   "id": "2898361e",
   "metadata": {},
   "source": [
    "<a name=final_results></a>\n",
    "\n",
    "# Final Results"
   ]
  },
  {
   "cell_type": "code",
   "execution_count": null,
   "id": "8194d937",
   "metadata": {},
   "outputs": [],
   "source": [
    "results_table"
   ]
  }
 ],
 "metadata": {
  "kernelspec": {
   "display_name": "Python 3",
   "language": "python",
   "name": "python3"
  },
  "language_info": {
   "codemirror_mode": {
    "name": "ipython",
    "version": 3
   },
   "file_extension": ".py",
   "mimetype": "text/x-python",
   "name": "python",
   "nbconvert_exporter": "python",
   "pygments_lexer": "ipython3",
   "version": "3.7.3"
  }
 },
 "nbformat": 4,
 "nbformat_minor": 5
}
