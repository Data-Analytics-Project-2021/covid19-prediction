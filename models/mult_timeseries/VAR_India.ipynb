{
 "cells": [
  {
   "cell_type": "markdown",
   "id": "b803b727",
   "metadata": {},
   "source": [
    "# VAR India\n",
    "\n",
    "Vector auto-regressive models - VAR, VMA, VARIMA on Covid-19 Cases. For all models, the first-differenced dataset is used (I = 1)."
   ]
  },
  {
   "cell_type": "markdown",
   "id": "ba2864ff",
   "metadata": {},
   "source": [
    "## [Setup](#setup)\n",
    "1. [Imports](#imports)\n",
    "2. [Results table](#results_init)\n",
    "3. [Ingestion](#ingestion)\n",
    "4. [Plotting](#plotting_init)\n",
    "5. [Statistical tests](#stattests1)\n",
    "    1. [Johansen co-integration test](#jci_init)\n",
    "    2. [Augmented DF Test](#adf_init)\n",
    "6. [Differencing](#diff_init)\n",
    "7. [Train test split](#traintest_init)\n",
    "\n",
    "## Long-Term Forecasting\n",
    "\n",
    "### [VAR Model](#var_model)\n",
    "1. [Find order p of VAR](#var_p)\n",
    "2. [VAR(1) Model](#var1)\n",
    "3. [Plots of first differenced predictions](#diff_plot_var)\n",
    "4. [Undifferencing and plotting](#undiff_var)\n",
    "5. [Store metrics - MAE, MAPE, MSE](#store_var)\n",
    "6. [Plot Train, Test, Forecast](#plot_final_var)\n",
    "\n",
    "    \n",
    "### [VMA Model](#vma_model)\n",
    "1. [Find order q of VMA](#vma_q)\n",
    "2. [VMA(1) Model](#vma1)\n",
    "3. [Plots of first differenced predictions](#diff_plot_vma)\n",
    "4. [Undifferencing and plotting](#undiff_vma)\n",
    "5. [Store metrics - MAE, MAPE, MSE](#store_vma)\n",
    "6. [Plot Train, Test, Forecast](#plot_final_vma)\n",
    "\n",
    "\n",
    "### [VARMA Model](#varma_model)\n",
    "1. [Find order (p, q) of VARMA](#varma_pq)\n",
    "2. [VARMA(1, 1) Model](#varma11)\n",
    "3. [Plots of first differenced predictions](#diff_plot_varma)\n",
    "4. [Undifferencing and plotting](#undiff_varma)\n",
    "5. [Store metrics - MAE, MAPE, MSE](#store_varma)\n",
    "6. [Plot Train, Test, Forecast](#plot_final_varma)\n",
    "\n",
    "## [Short-Term/Rolling Forecasting](#shortterm)\n",
    "\n",
    "1. [VAR(1)](#var_roll)\n",
    "2. [VMA(1)](#vma_roll)\n",
    "3. [VARMA(1,1)](#varma_roll)\n",
    "\n",
    "## [Final Metrics](#final_results)"
   ]
  },
  {
   "cell_type": "markdown",
   "id": "690979a0",
   "metadata": {},
   "source": [
    "<a name=setup></a>\n",
    "\n",
    "# Setup"
   ]
  },
  {
   "cell_type": "markdown",
   "id": "6f81cdab",
   "metadata": {},
   "source": [
    "Install `darts` by running: (or run the cell)\n",
    "\n",
    "1. `pip install darts`\n",
    "\n",
    "If the installation fails, check their [Github](https://github.com/unit8co/darts#installation-guide) or try running:\n",
    "\n",
    "1. `conda install -c conda-forge prophet`\n",
    "2. `conda install pytorch torchvision torchaudio -c pytorch`\n",
    "3. `pip install darts`"
   ]
  },
  {
   "cell_type": "code",
   "execution_count": null,
   "id": "70cff99a",
   "metadata": {},
   "outputs": [],
   "source": [
    "# Comment out if already installed\n",
    "# !pip install darts"
   ]
  },
  {
   "cell_type": "markdown",
   "id": "3e7ba208",
   "metadata": {},
   "source": [
    "<a name=imports></a>\n",
    "## Imports"
   ]
  },
  {
   "cell_type": "code",
   "execution_count": null,
   "id": "6f0eecac",
   "metadata": {},
   "outputs": [],
   "source": [
    "import pandas as pd\n",
    "import numpy as np\n",
    "import matplotlib.pyplot as plt\n",
    "import warnings\n",
    "import importlib\n",
    "\n",
    "from darts import TimeSeries\n",
    "from darts.models.forecasting.varima import VARIMA\n",
    "\n",
    "import preprocessing\n",
    "import plotting\n",
    "import stats_testing\n",
    "import metrics\n",
    "\n",
    "warnings.filterwarnings(\"ignore\")"
   ]
  },
  {
   "cell_type": "markdown",
   "id": "aa6f875b",
   "metadata": {},
   "source": [
    "<a name=results_init></a>\n",
    "## Results table"
   ]
  },
  {
   "cell_type": "code",
   "execution_count": null,
   "id": "b420b085",
   "metadata": {},
   "outputs": [],
   "source": [
    "results_columns = ['model', 'mse', 'mape', 'mae']\n",
    "results_table = pd.DataFrame(columns=results_columns)"
   ]
  },
  {
   "cell_type": "markdown",
   "id": "826b5133",
   "metadata": {},
   "source": [
    "<a name=ingestion></a>\n",
    "\n",
    "## Ingestion"
   ]
  },
  {
   "cell_type": "code",
   "execution_count": null,
   "id": "02f36bbe",
   "metadata": {},
   "outputs": [],
   "source": [
    "daily_cases_india = pd.read_csv('../../cleaned_datasets/india/daily_cases_india.csv', parse_dates=['Date'])\n",
    "cum_vacc_india = pd.read_csv('../../cleaned_datasets/india/cum_vacc_india_cleaned.csv', parse_dates=['Date'])"
   ]
  },
  {
   "cell_type": "code",
   "execution_count": null,
   "id": "7140d485",
   "metadata": {},
   "outputs": [],
   "source": [
    "daily_cases_india.dtypes"
   ]
  },
  {
   "cell_type": "code",
   "execution_count": null,
   "id": "63bdb86a",
   "metadata": {},
   "outputs": [],
   "source": [
    "daily_cases_india"
   ]
  },
  {
   "cell_type": "code",
   "execution_count": null,
   "id": "003dd0a3",
   "metadata": {},
   "outputs": [],
   "source": [
    "cum_vacc_india.dtypes"
   ]
  },
  {
   "cell_type": "code",
   "execution_count": null,
   "id": "260d3d26",
   "metadata": {},
   "outputs": [],
   "source": [
    "first_vacc = cum_vacc_india.iloc[0].Date\n",
    "last_vacc = cum_vacc_india.iloc[-1].Date\n",
    "\n",
    "vacc_dates = pd.date_range(start=first_vacc, end=last_vacc)"
   ]
  },
  {
   "cell_type": "code",
   "execution_count": null,
   "id": "e0de8134",
   "metadata": {},
   "outputs": [],
   "source": [
    "cases_vacc = daily_cases_india.merge(cum_vacc_india, how='outer', left_on='Date', right_on='Date')\n",
    "cases_vacc = cases_vacc[[\"Date\", \"Confirmed\", \"Total_Doses\"]]\n",
    "cases_vacc"
   ]
  },
  {
   "cell_type": "code",
   "execution_count": null,
   "id": "5645d08e",
   "metadata": {},
   "outputs": [],
   "source": [
    "indexed = cases_vacc.set_index('Date')\n",
    "preprocessing.fill_date_gaps(indexed, method='ffill', dates_range=vacc_dates)\n",
    "indexed"
   ]
  },
  {
   "cell_type": "code",
   "execution_count": null,
   "id": "c3dd1c88",
   "metadata": {},
   "outputs": [],
   "source": [
    "series = TimeSeries.from_dataframe(indexed)"
   ]
  },
  {
   "cell_type": "markdown",
   "id": "b082da46",
   "metadata": {},
   "source": [
    "<a name=plotting_init></a>\n",
    "## Plot initial data"
   ]
  },
  {
   "cell_type": "code",
   "execution_count": null,
   "id": "15cf25ab",
   "metadata": {},
   "outputs": [],
   "source": [
    "importlib.reload(plotting)\n",
    "\n",
    "plotting.plot_dataframe(indexed.Confirmed, title='India', color='b', figpath='../../figures/data/india_daily_cases.eps')"
   ]
  },
  {
   "cell_type": "code",
   "execution_count": null,
   "id": "55555799",
   "metadata": {},
   "outputs": [],
   "source": [
    "plotting.plot_dataframe(indexed.Total_Doses, title='India', color='b', figpath='../../figures/data/india_cum_vacc.eps')\n"
   ]
  },
  {
   "cell_type": "code",
   "execution_count": null,
   "id": "2e9f8fe1",
   "metadata": {},
   "outputs": [],
   "source": [
    "plotting.plot_side_by_side(train=series.pd_dataframe())"
   ]
  },
  {
   "cell_type": "markdown",
   "id": "89e9d2ab",
   "metadata": {},
   "source": [
    "<a name=stattests1></a>\n",
    "## Statistical tests"
   ]
  },
  {
   "cell_type": "markdown",
   "id": "3da372cb",
   "metadata": {},
   "source": [
    "<a name=jci_init></a>\n",
    "\n",
    "### Johansen co-integration test"
   ]
  },
  {
   "cell_type": "code",
   "execution_count": null,
   "id": "685b3dcf",
   "metadata": {},
   "outputs": [],
   "source": [
    "stats_testing.cointegration_test(series.pd_dataframe())"
   ]
  },
  {
   "cell_type": "markdown",
   "id": "a31ae5f3",
   "metadata": {},
   "source": [
    "From JCT, the two time series are not correlated."
   ]
  },
  {
   "cell_type": "markdown",
   "id": "bf0d5ce7",
   "metadata": {},
   "source": [
    "<a name=adf_init></a>\n",
    "\n",
    "### Augmented DF Test"
   ]
  },
  {
   "cell_type": "code",
   "execution_count": null,
   "id": "054ea81d",
   "metadata": {},
   "outputs": [],
   "source": [
    "# ADF Test on each column\n",
    "for name, column in series.pd_dataframe().iteritems():\n",
    "    stats_testing.run_dicky_fuller(column)\n",
    "    print('\\n')"
   ]
  },
  {
   "cell_type": "markdown",
   "id": "3568c70d",
   "metadata": {},
   "source": [
    "The TS is not stationary"
   ]
  },
  {
   "cell_type": "markdown",
   "id": "386084b5",
   "metadata": {},
   "source": [
    "<a name=diff_init></a>\n",
    "## Differencing"
   ]
  },
  {
   "cell_type": "markdown",
   "id": "4920112b",
   "metadata": {},
   "source": [
    "## First order differencing"
   ]
  },
  {
   "cell_type": "code",
   "execution_count": null,
   "id": "c68ae11f",
   "metadata": {},
   "outputs": [],
   "source": [
    "df_diff_1 = series.pd_dataframe().diff().dropna()\n",
    "df_diff_1"
   ]
  },
  {
   "cell_type": "code",
   "execution_count": null,
   "id": "30ec4f80",
   "metadata": {},
   "outputs": [],
   "source": [
    "plotting.plot_side_by_side(train=df_diff_1)\n"
   ]
  },
  {
   "cell_type": "code",
   "execution_count": null,
   "id": "b7290440",
   "metadata": {},
   "outputs": [],
   "source": [
    "stats_testing.cointegration_test(df_diff_1)"
   ]
  },
  {
   "cell_type": "code",
   "execution_count": null,
   "id": "d5e7db36",
   "metadata": {},
   "outputs": [],
   "source": [
    "# ADF Test on each column\n",
    "for name, column in df_diff_1.iteritems():\n",
    "    stats_testing.run_dicky_fuller(column)\n",
    "    print('\\n')"
   ]
  },
  {
   "cell_type": "markdown",
   "id": "8bef3a31",
   "metadata": {},
   "source": [
    "From JCT, the two time series are not correlated."
   ]
  },
  {
   "cell_type": "markdown",
   "id": "0fb33795",
   "metadata": {},
   "source": [
    "<a name=traintest_init></a>\n",
    "## Train-test split"
   ]
  },
  {
   "cell_type": "markdown",
   "id": "815f6a3b",
   "metadata": {},
   "source": [
    "### Train-test split"
   ]
  },
  {
   "cell_type": "code",
   "execution_count": null,
   "id": "71a99cf2",
   "metadata": {},
   "outputs": [],
   "source": [
    "importlib.reload(plotting)\n",
    "\n",
    "train, test = preprocessing.train_test_split(series, fraction=0.9)\n",
    "\n",
    "plotting.plot_side_by_side(train=train.pd_dataframe(), test=test.pd_dataframe())"
   ]
  },
  {
   "cell_type": "markdown",
   "id": "5b9f05ac",
   "metadata": {},
   "source": [
    "<a name=var_model></a>\n",
    "\n",
    "# VAR Model"
   ]
  },
  {
   "cell_type": "markdown",
   "id": "5f55dbad",
   "metadata": {},
   "source": [
    "<a name=var_p></a>\n",
    "## Finding the order p for VAR(p)\n",
    "\n",
    "Using PACF plot"
   ]
  },
  {
   "cell_type": "code",
   "execution_count": null,
   "id": "fb43e022",
   "metadata": {},
   "outputs": [],
   "source": [
    "from statsmodels.graphics.tsaplots import plot_pacf, plot_acf\n",
    "\n",
    "pacf_var_confirmed = plot_pacf(train['Confirmed'].pd_dataframe().diff().dropna(), lags=25)"
   ]
  },
  {
   "cell_type": "code",
   "execution_count": null,
   "id": "cad2d42b",
   "metadata": {},
   "outputs": [],
   "source": [
    "from darts.models.forecasting.varima import VARIMA\n",
    "\n",
    "VARIMA.gridsearch(parameters={'p': [1, 7, 8, 9, 10], 'd': [1]}, series=train, n_jobs=2, val_series=test)"
   ]
  },
  {
   "cell_type": "markdown",
   "id": "579e7719",
   "metadata": {},
   "source": [
    "<a name=var1></a>\n",
    "## VARI(7, 1) Model"
   ]
  },
  {
   "cell_type": "code",
   "execution_count": null,
   "id": "8c3eb599",
   "metadata": {},
   "outputs": [],
   "source": [
    "model = VARIMA(p=7, d=1)\n",
    "model.fit(train)\n",
    "forecasted = model.predict(len(test))\n",
    "forecasted.pd_dataframe()"
   ]
  },
  {
   "cell_type": "markdown",
   "id": "e6d05760",
   "metadata": {},
   "source": [
    "<a name=store_var></a>\n",
    "\n",
    "## Store metrics"
   ]
  },
  {
   "cell_type": "code",
   "execution_count": null,
   "id": "4a454090",
   "metadata": {},
   "outputs": [],
   "source": [
    "importlib.reload(metrics)\n",
    "\n",
    "results_table = results_table.append({\n",
    "    'model': 'VARI(7,1)',\n",
    "    'mse': metrics.mean_squared_error(test['Confirmed'].pd_dataframe(), forecasted['Confirmed'].pd_dataframe()),\n",
    "    'mape': metrics.MAPE(test['Confirmed'].pd_dataframe(), forecasted['Confirmed'].pd_dataframe()),\n",
    "    'mae': metrics.mean_absolute_error(test['Confirmed'].pd_dataframe(), forecasted['Confirmed'].pd_dataframe())\n",
    "}, ignore_index=True)\n",
    "\n",
    "results_table"
   ]
  },
  {
   "cell_type": "markdown",
   "id": "f88bc316",
   "metadata": {},
   "source": [
    "<a name=plot_final_var></a>\n",
    "\n",
    "## Plot Train, Test, Forecast"
   ]
  },
  {
   "cell_type": "code",
   "execution_count": null,
   "id": "79e8cc9f",
   "metadata": {},
   "outputs": [],
   "source": [
    "importlib.reload(plotting)\n",
    "# Plot of daily cases\n",
    "\n",
    "plotting.plot_train_test_fore(train=train.pd_dataframe().Confirmed, test=test[['Confirmed']].pd_dataframe(), fore=forecasted[['Confirmed']].pd_dataframe(), title='India - Long Term', start_date='2021-03-01', figpath='../../figures/vari/india_vari.eps')\n"
   ]
  },
  {
   "cell_type": "markdown",
   "id": "4496924c",
   "metadata": {},
   "source": [
    "Clearly, a VAR model is not good enough to make predictions"
   ]
  },
  {
   "cell_type": "markdown",
   "id": "52c7c2bb",
   "metadata": {},
   "source": [
    "<a name=vma_model></a>\n",
    "\n",
    "# VIMA Model"
   ]
  },
  {
   "cell_type": "markdown",
   "id": "cc9d9dd3",
   "metadata": {},
   "source": [
    "<a name=vma_q></a>\n",
    "## Find order q of VMA"
   ]
  },
  {
   "cell_type": "code",
   "execution_count": null,
   "id": "360246e6",
   "metadata": {},
   "outputs": [],
   "source": [
    "acf_varma_confirmed = plot_acf(train['Confirmed'].pd_dataframe().diff().dropna(), lags=25)"
   ]
  },
  {
   "cell_type": "code",
   "execution_count": null,
   "id": "aae318f5",
   "metadata": {},
   "outputs": [],
   "source": [
    "VARIMA.gridsearch(parameters={'p': [0], 'd': [1], 'q': [1, 7, 14]}, series=train, n_jobs=2, val_series=test)"
   ]
  },
  {
   "cell_type": "markdown",
   "id": "9cd4776b",
   "metadata": {},
   "source": [
    "<a name=vma1></a>\n",
    "\n",
    "## VIMA(1, 1)"
   ]
  },
  {
   "cell_type": "code",
   "execution_count": null,
   "id": "3f0d810e",
   "metadata": {},
   "outputs": [],
   "source": [
    "model_ma = VARIMA(p=0, d=1, q=1)\n",
    "model_ma.fit(train)\n",
    "forecasted_ma = model_ma.predict(len(test))\n",
    "forecasted_ma.pd_dataframe()"
   ]
  },
  {
   "cell_type": "markdown",
   "id": "a3239fc0",
   "metadata": {},
   "source": [
    "<a name=store_vma></a>\n",
    "\n",
    "## Store metrics"
   ]
  },
  {
   "cell_type": "code",
   "execution_count": null,
   "id": "193d8b42",
   "metadata": {},
   "outputs": [],
   "source": [
    "results_table = results_table.append({\n",
    "    'model': 'VIMA(1,1)',\n",
    "    'mse': metrics.mean_squared_error(test['Confirmed'].pd_dataframe(), forecasted_ma['Confirmed'].pd_dataframe()),\n",
    "    'mape': metrics.MAPE(test['Confirmed'].pd_dataframe(), forecasted_ma['Confirmed'].pd_dataframe()),\n",
    "    'mae': metrics.mean_absolute_error(test['Confirmed'].pd_dataframe(), forecasted_ma['Confirmed'].pd_dataframe())\n",
    "}, ignore_index=True)\n",
    "\n",
    "results_table"
   ]
  },
  {
   "cell_type": "markdown",
   "id": "5096d8e3",
   "metadata": {},
   "source": [
    "<a name=plot_final_vma></a>\n",
    "\n",
    "## Plot Train, Test, Forecast"
   ]
  },
  {
   "cell_type": "code",
   "execution_count": null,
   "id": "0629f810",
   "metadata": {},
   "outputs": [],
   "source": [
    "importlib.reload(plotting)\n",
    "\n",
    "plotting.plot_train_test_fore(train=train.pd_dataframe().Confirmed, test=test[['Confirmed']].pd_dataframe(), fore=forecasted_ma[['Confirmed']].pd_dataframe(), title='Daily cases')\n"
   ]
  },
  {
   "cell_type": "markdown",
   "id": "6f5f06d0",
   "metadata": {},
   "source": [
    "<a name=varma_model></a>\n",
    "\n",
    "# VARIMA"
   ]
  },
  {
   "cell_type": "markdown",
   "id": "dd694351",
   "metadata": {},
   "source": [
    "<a name=varma_pq></a>\n",
    "\n",
    "## Find order (p,d,q) of VARIMA"
   ]
  },
  {
   "cell_type": "markdown",
   "id": "30458b97",
   "metadata": {},
   "source": [
    "PACF/ACF"
   ]
  },
  {
   "cell_type": "code",
   "execution_count": null,
   "id": "83c69476",
   "metadata": {},
   "outputs": [],
   "source": [
    "pacf_varma_confirmed = plot_pacf(train.pd_dataframe()['Confirmed'].diff().dropna(), lags=25)\n",
    "acf_varma_confirmed = plot_acf(train.pd_dataframe()['Confirmed'].diff().dropna(), lags=25)"
   ]
  },
  {
   "cell_type": "markdown",
   "id": "711a9a15",
   "metadata": {},
   "source": [
    "VARIMA(8, 2)"
   ]
  },
  {
   "cell_type": "code",
   "execution_count": null,
   "id": "d2d5ca0a",
   "metadata": {},
   "outputs": [],
   "source": [
    "_, order = VARIMA.gridsearch(parameters={'p': [1, 7, 8, 9], 'd': [1], 'q': [1, 7, 14]}, series=train, n_jobs=2, val_series=test)\n",
    "order"
   ]
  },
  {
   "cell_type": "markdown",
   "id": "6d2f2b87",
   "metadata": {},
   "source": [
    "<a name=varma11></a>\n",
    "\n",
    "## VARIMA(7, 1, 1)"
   ]
  },
  {
   "cell_type": "code",
   "execution_count": null,
   "id": "3885ea19",
   "metadata": {},
   "outputs": [],
   "source": [
    "model_varima = VARIMA(**order)\n",
    "model_varima.fit(train)\n",
    "forecasted_varima = model_varima.predict(len(test))\n",
    "forecasted_varima.pd_dataframe()"
   ]
  },
  {
   "cell_type": "markdown",
   "id": "19baefeb",
   "metadata": {},
   "source": [
    "<a name=store_varma></a>\n",
    "\n",
    "## Store metrics"
   ]
  },
  {
   "cell_type": "code",
   "execution_count": null,
   "id": "53abb5cc",
   "metadata": {},
   "outputs": [],
   "source": [
    "results_table = results_table.append({\n",
    "    'model': 'VARIMA(7,1,1)',\n",
    "    'mse': metrics.mean_squared_error(test['Confirmed'].pd_dataframe(), forecasted_varima['Confirmed'].pd_dataframe()),\n",
    "    'mape': metrics.MAPE(test['Confirmed'].pd_dataframe(), forecasted_varima['Confirmed'].pd_dataframe()),\n",
    "    'mae': metrics.mean_absolute_error(test['Confirmed'].pd_dataframe(), forecasted_varima['Confirmed'].pd_dataframe())\n",
    "}, ignore_index=True)\n",
    "\n",
    "results_table"
   ]
  },
  {
   "cell_type": "markdown",
   "id": "50061752",
   "metadata": {},
   "source": [
    "<a name=plot_final_varma></a>\n",
    "\n",
    "## Plot Train, Test, Forecast"
   ]
  },
  {
   "cell_type": "code",
   "execution_count": null,
   "id": "a498e0a6",
   "metadata": {},
   "outputs": [],
   "source": [
    "# Plot of daily cases\n",
    "plotting.plot_train_test_fore(train=train.pd_dataframe().Confirmed, test=test[['Confirmed']].pd_dataframe(), fore=forecasted_varima[['Confirmed']].pd_dataframe(), title='India - Long Term', start_date='2021-03-01', figpath='../../figures/varima/india_varima.eps')\n"
   ]
  },
  {
   "cell_type": "markdown",
   "id": "a8400446",
   "metadata": {},
   "source": [
    "<a name=shortterm></a>\n",
    "\n",
    "# Rolling forecasts"
   ]
  },
  {
   "cell_type": "code",
   "execution_count": null,
   "id": "3d389a72",
   "metadata": {
    "scrolled": true
   },
   "outputs": [],
   "source": [
    "history = train.copy()\n",
    "predicted = pd.DataFrame(columns=[\n",
    "    'VAR_Confirmed', \n",
    "    'VAR_Total_Doses', \n",
    "    'VMA_Confirmed', \n",
    "    'VMA_Total_Doses', \n",
    "    'VARIMA_Confirmed', \n",
    "    'VARIMA_Total_Doses'\n",
    "], index=test.pd_dataframe().index)\n",
    "\n",
    "\n",
    "# predicted\n",
    "for t in range(len(test)):\n",
    "    \n",
    "    # 3 models\n",
    "    var = VARIMA(p=9, d=1, q=0)\n",
    "    vma = VARIMA(p=0, d=1, q=1)\n",
    "    varima = VARIMA(p=7, d=1, q=1)\n",
    "\n",
    "    var.fit(history)\n",
    "    vma.fit(history)\n",
    "    varima.fit(history)\n",
    "\n",
    "\n",
    "    forecasted_varima = model_varima.predict(len(test))\n",
    "    forecasted_varima.pd_dataframe()\n",
    "    \n",
    "    \n",
    "    # Predictions\n",
    "    yhat_var = var.predict(n=1)\n",
    "    yhat_vma = vma.predict(n=1)\n",
    "    yhat_varima = varima.predict(n=1)    \n",
    "    \n",
    "    # Confirmed cases\n",
    "    predicted.iloc[t]['VAR_Confirmed'] = yhat_var['Confirmed'].values()[0][0]\n",
    "    predicted.iloc[t]['VMA_Confirmed'] = yhat_vma['Confirmed'].values()[0][0]\n",
    "    predicted.iloc[t]['VARIMA_Confirmed'] = yhat_varima['Confirmed'].values()[0][0]\n",
    "    \n",
    "    # Total doses\n",
    "    predicted.iloc[t]['VAR_Total_Doses'] = yhat_var['Total_Doses'].values()[0][0]\n",
    "    predicted.iloc[t]['VMA_Total_Doses'] = yhat_vma['Total_Doses'].values()[0][0]\n",
    "    predicted.iloc[t]['VARIMA_Total_Doses'] = yhat_varima['Total_Doses'].values()[0][0]\n",
    "    \n",
    "    history = history.append(test[t])"
   ]
  },
  {
   "cell_type": "code",
   "execution_count": null,
   "id": "077c5830",
   "metadata": {},
   "outputs": [],
   "source": [
    "predicted"
   ]
  },
  {
   "cell_type": "markdown",
   "id": "918404a3",
   "metadata": {},
   "source": [
    "<a name=var_roll></a>\n",
    "\n",
    "## VAR(7)"
   ]
  },
  {
   "cell_type": "code",
   "execution_count": null,
   "id": "37c18085",
   "metadata": {},
   "outputs": [],
   "source": [
    "# plotting.plot_fore_test(test=test.pd_dataframe()['Confirmed'], fore=predicted[['VAR_Confirmed']], title='VAR')"
   ]
  },
  {
   "cell_type": "code",
   "execution_count": null,
   "id": "af43eda0",
   "metadata": {},
   "outputs": [],
   "source": [
    "importlib.reload(metrics)\n",
    "\n",
    "metrics.MAPE(test['Confirmed'].pd_dataframe(), predicted['VAR_Confirmed'])"
   ]
  },
  {
   "cell_type": "code",
   "execution_count": null,
   "id": "f953a7e7",
   "metadata": {},
   "outputs": [],
   "source": [
    "results_table = results_table.append({\n",
    "    'model': 'VARI(9,1) - rolling',\n",
    "    'mse': metrics.mean_squared_error(test['Confirmed'].pd_dataframe(), predicted['VAR_Confirmed']),\n",
    "    'mape': metrics.MAPE(test['Confirmed'].pd_dataframe(), predicted['VAR_Confirmed']),\n",
    "    'mae': metrics.mean_absolute_error(test['Confirmed'].pd_dataframe(), predicted['VAR_Confirmed'])\n",
    "}, ignore_index=True)\n",
    "\n",
    "results_table"
   ]
  },
  {
   "cell_type": "code",
   "execution_count": null,
   "id": "c4e23de1",
   "metadata": {},
   "outputs": [],
   "source": [
    "plotting.plot_train_test_fore(train=train.pd_dataframe().Confirmed, test=test[['Confirmed']].pd_dataframe(), fore=predicted[['VAR_Confirmed']], title='India - Short Term', figpath='../../figures/vari/india_vari_rolling.eps')\n"
   ]
  },
  {
   "cell_type": "markdown",
   "id": "5358dbbb",
   "metadata": {},
   "source": [
    "<a name=vma_roll></a>\n",
    "\n",
    "## VMA(1)"
   ]
  },
  {
   "cell_type": "code",
   "execution_count": null,
   "id": "a5af7d5e",
   "metadata": {},
   "outputs": [],
   "source": [
    "# plotting.plot_fore_test(test=test.pd_dataframe()['Confirmed'], fore=predicted[['VMA_Confirmed']], title='VMA')"
   ]
  },
  {
   "cell_type": "code",
   "execution_count": null,
   "id": "2dc01c6b",
   "metadata": {},
   "outputs": [],
   "source": [
    "results_table = results_table.append({\n",
    "    'model': 'VIMA(1,1) - rolling',\n",
    "    'mse': metrics.mean_squared_error(test['Confirmed'].pd_dataframe(), predicted[['VMA_Confirmed']]),\n",
    "    'mape': metrics.MAPE(test['Confirmed'].pd_dataframe(), predicted[['VMA_Confirmed']]),\n",
    "    'mae': metrics.mean_absolute_error(test['Confirmed'].pd_dataframe(), predicted[['VMA_Confirmed']])\n",
    "}, ignore_index=True)\n",
    "\n",
    "results_table"
   ]
  },
  {
   "cell_type": "code",
   "execution_count": null,
   "id": "fdf857e1",
   "metadata": {},
   "outputs": [],
   "source": [
    "# plotting.plot_train_test_fore(train=train.pd_dataframe().Confirmed, test=test[['Confirmed']].pd_dataframe(), fore=predicted[['VMA_Confirmed']], title='VAR - Daily cases')\n",
    "\n"
   ]
  },
  {
   "cell_type": "markdown",
   "id": "99caedad",
   "metadata": {},
   "source": [
    "<a name=varma_roll></a>\n",
    "\n",
    "## VARIMA(7,1,1)"
   ]
  },
  {
   "cell_type": "code",
   "execution_count": null,
   "id": "a8a32c5a",
   "metadata": {},
   "outputs": [],
   "source": [
    "results_table = results_table.append({\n",
    "    'model': 'VARIMA(7,1,1) - rolling',\n",
    "    'mse': metrics.mean_squared_error(test['Confirmed'].pd_dataframe(), predicted[['VARIMA_Confirmed']]),\n",
    "    'mape': metrics.MAPE(test['Confirmed'].pd_dataframe(), predicted[['VARIMA_Confirmed']]),\n",
    "    'mae': metrics.mean_absolute_error(test['Confirmed'].pd_dataframe(), predicted[['VARIMA_Confirmed']])\n",
    "}, ignore_index=True)\n",
    "\n",
    "results_table"
   ]
  },
  {
   "cell_type": "code",
   "execution_count": null,
   "id": "45aad0d1",
   "metadata": {},
   "outputs": [],
   "source": [
    "importlib.reload(metrics)\n",
    "metrics.RMSE(test['Confirmed'].pd_dataframe(), predicted[['VARIMA_Confirmed']], title='VARIMA(7,1,1) - rolling')\n",
    "metrics.MSE(test['Confirmed'].pd_dataframe(), predicted[['VARIMA_Confirmed']], title='VARIMA(7,1,1) - rolling')"
   ]
  },
  {
   "cell_type": "code",
   "execution_count": null,
   "id": "b39abf76",
   "metadata": {},
   "outputs": [],
   "source": [
    "plotting.plot_fore_test(test=test.pd_dataframe()['Confirmed'], fore=predicted[['VARIMA_Confirmed']], title='VARIMA')"
   ]
  },
  {
   "cell_type": "code",
   "execution_count": null,
   "id": "3c1ba066",
   "metadata": {},
   "outputs": [],
   "source": [
    "importlib.reload(plotting)\n",
    "\n",
    "plotting.plot_train_test_fore(train=train.pd_dataframe().Confirmed, test=test[['Confirmed']].pd_dataframe(), fore=predicted[['VARIMA_Confirmed']], title='India - Short Term', figpath='../../figures/varima/india_varima_rolling.eps')\n"
   ]
  },
  {
   "cell_type": "markdown",
   "id": "337673ad",
   "metadata": {},
   "source": [
    "<a name=final_results></a>\n",
    "\n",
    "# Final Results"
   ]
  },
  {
   "cell_type": "code",
   "execution_count": null,
   "id": "8194d937",
   "metadata": {},
   "outputs": [],
   "source": [
    "results_table.to_csv('var_india_results.csv')"
   ]
  },
  {
   "cell_type": "code",
   "execution_count": null,
   "id": "38112520",
   "metadata": {},
   "outputs": [],
   "source": [
    "results_table"
   ]
  },
  {
   "cell_type": "code",
   "execution_count": null,
   "id": "78e5d0f7",
   "metadata": {},
   "outputs": [],
   "source": [
    "x=results_table['mse'][0]\n",
    "print(f'MSE of is {x:.5e}')"
   ]
  },
  {
   "cell_type": "code",
   "execution_count": null,
   "id": "72bf58a1",
   "metadata": {},
   "outputs": [],
   "source": []
  },
  {
   "cell_type": "code",
   "execution_count": null,
   "id": "2a7c6843",
   "metadata": {},
   "outputs": [],
   "source": []
  }
 ],
 "metadata": {
  "kernelspec": {
   "display_name": "Python 3",
   "language": "python",
   "name": "python3"
  },
  "language_info": {
   "codemirror_mode": {
    "name": "ipython",
    "version": 3
   },
   "file_extension": ".py",
   "mimetype": "text/x-python",
   "name": "python",
   "nbconvert_exporter": "python",
   "pygments_lexer": "ipython3",
   "version": "3.6.9"
  }
 },
 "nbformat": 4,
 "nbformat_minor": 5
}
