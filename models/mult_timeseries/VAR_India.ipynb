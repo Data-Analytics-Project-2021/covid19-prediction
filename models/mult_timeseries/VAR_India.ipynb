{
 "cells": [
  {
   "cell_type": "markdown",
   "id": "b803b727",
   "metadata": {},
   "source": [
    "# VAR India\n",
    "\n",
    "Vector auto-regressive models"
   ]
  },
  {
   "cell_type": "markdown",
   "id": "ba2864ff",
   "metadata": {},
   "source": [
    "1. [Imports](#imports)\n",
    "2. [Ingestion](#ingestion)\n",
    "3. [Plotting](#plotting)\n",
    "4. [Statistical tests](#stattests1)\n",
    "5. [Differencing](#diff)\n",
    "\n",
    "\n",
    "### First-Order Differencing\n",
    "1. [Train test split - first order differencing](#traintest1)\n",
    "2. [Find order p of VAR](#var_p_1)\n",
    "3. [VAR(13) Model](#var13_1)\n",
    "4. [Plots of first differenced predictions](#diff1_plot)\n",
    "5. [Undifferencing and predicting](#undiff_1)\n",
    "6. [MAPE](#mape1)\n",
    "\n",
    "### VARMA\n",
    "1. [VARMA](#varma)"
   ]
  },
  {
   "cell_type": "markdown",
   "id": "3e7ba208",
   "metadata": {},
   "source": [
    "<a name=imports></a>\n",
    "## Imports"
   ]
  },
  {
   "cell_type": "code",
   "execution_count": 1,
   "id": "6f0eecac",
   "metadata": {},
   "outputs": [],
   "source": [
    "import pandas as pd\n",
    "import numpy as np\n",
    "import matplotlib.pyplot as plt"
   ]
  },
  {
   "cell_type": "markdown",
   "id": "826b5133",
   "metadata": {},
   "source": [
    "<a name=ingestion></a>\n",
    "## Ingestion"
   ]
  },
  {
   "cell_type": "code",
   "execution_count": 2,
   "id": "02f36bbe",
   "metadata": {},
   "outputs": [],
   "source": [
    "daily_cases_india = pd.read_csv('../../cleaned_datasets/india/daily_cases_india.csv', parse_dates=['Date'], index_col=0)\n",
    "daily_vacc_india = pd.read_csv('../../cleaned_datasets/india/daily_vacc_india.csv', parse_dates=['Updated On'])"
   ]
  },
  {
   "cell_type": "code",
   "execution_count": 3,
   "id": "7140d485",
   "metadata": {},
   "outputs": [
    {
     "data": {
      "text/plain": [
       "Date         datetime64[ns]\n",
       "Confirmed           float64\n",
       "Deaths              float64\n",
       "Recovered           float64\n",
       "Active              float64\n",
       "dtype: object"
      ]
     },
     "execution_count": 3,
     "metadata": {},
     "output_type": "execute_result"
    }
   ],
   "source": [
    "daily_cases_india.dtypes"
   ]
  },
  {
   "cell_type": "code",
   "execution_count": 4,
   "id": "63bdb86a",
   "metadata": {},
   "outputs": [
    {
     "data": {
      "text/html": [
       "<div>\n",
       "<style scoped>\n",
       "    .dataframe tbody tr th:only-of-type {\n",
       "        vertical-align: middle;\n",
       "    }\n",
       "\n",
       "    .dataframe tbody tr th {\n",
       "        vertical-align: top;\n",
       "    }\n",
       "\n",
       "    .dataframe thead th {\n",
       "        text-align: right;\n",
       "    }\n",
       "</style>\n",
       "<table border=\"1\" class=\"dataframe\">\n",
       "  <thead>\n",
       "    <tr style=\"text-align: right;\">\n",
       "      <th></th>\n",
       "      <th>Date</th>\n",
       "      <th>Confirmed</th>\n",
       "      <th>Deaths</th>\n",
       "      <th>Recovered</th>\n",
       "      <th>Active</th>\n",
       "    </tr>\n",
       "  </thead>\n",
       "  <tbody>\n",
       "    <tr>\n",
       "      <th>0</th>\n",
       "      <td>2020-01-30</td>\n",
       "      <td>1.0</td>\n",
       "      <td>0.0</td>\n",
       "      <td>0.0</td>\n",
       "      <td>0.0</td>\n",
       "    </tr>\n",
       "    <tr>\n",
       "      <th>1</th>\n",
       "      <td>2020-01-31</td>\n",
       "      <td>0.0</td>\n",
       "      <td>0.0</td>\n",
       "      <td>0.0</td>\n",
       "      <td>0.0</td>\n",
       "    </tr>\n",
       "    <tr>\n",
       "      <th>2</th>\n",
       "      <td>2020-02-01</td>\n",
       "      <td>0.0</td>\n",
       "      <td>0.0</td>\n",
       "      <td>0.0</td>\n",
       "      <td>0.0</td>\n",
       "    </tr>\n",
       "    <tr>\n",
       "      <th>3</th>\n",
       "      <td>2020-02-02</td>\n",
       "      <td>1.0</td>\n",
       "      <td>0.0</td>\n",
       "      <td>0.0</td>\n",
       "      <td>0.0</td>\n",
       "    </tr>\n",
       "    <tr>\n",
       "      <th>4</th>\n",
       "      <td>2020-02-03</td>\n",
       "      <td>1.0</td>\n",
       "      <td>0.0</td>\n",
       "      <td>0.0</td>\n",
       "      <td>0.0</td>\n",
       "    </tr>\n",
       "    <tr>\n",
       "      <th>...</th>\n",
       "      <td>...</td>\n",
       "      <td>...</td>\n",
       "      <td>...</td>\n",
       "      <td>...</td>\n",
       "      <td>...</td>\n",
       "    </tr>\n",
       "    <tr>\n",
       "      <th>617</th>\n",
       "      <td>2021-10-08</td>\n",
       "      <td>19740.0</td>\n",
       "      <td>248.0</td>\n",
       "      <td>0.0</td>\n",
       "      <td>0.0</td>\n",
       "    </tr>\n",
       "    <tr>\n",
       "      <th>618</th>\n",
       "      <td>2021-10-09</td>\n",
       "      <td>18166.0</td>\n",
       "      <td>214.0</td>\n",
       "      <td>0.0</td>\n",
       "      <td>0.0</td>\n",
       "    </tr>\n",
       "    <tr>\n",
       "      <th>619</th>\n",
       "      <td>2021-10-10</td>\n",
       "      <td>18132.0</td>\n",
       "      <td>193.0</td>\n",
       "      <td>0.0</td>\n",
       "      <td>0.0</td>\n",
       "    </tr>\n",
       "    <tr>\n",
       "      <th>620</th>\n",
       "      <td>2021-10-11</td>\n",
       "      <td>14313.0</td>\n",
       "      <td>181.0</td>\n",
       "      <td>0.0</td>\n",
       "      <td>0.0</td>\n",
       "    </tr>\n",
       "    <tr>\n",
       "      <th>621</th>\n",
       "      <td>2021-10-12</td>\n",
       "      <td>15823.0</td>\n",
       "      <td>226.0</td>\n",
       "      <td>0.0</td>\n",
       "      <td>0.0</td>\n",
       "    </tr>\n",
       "  </tbody>\n",
       "</table>\n",
       "<p>622 rows × 5 columns</p>\n",
       "</div>"
      ],
      "text/plain": [
       "          Date  Confirmed  Deaths  Recovered  Active\n",
       "0   2020-01-30        1.0     0.0        0.0     0.0\n",
       "1   2020-01-31        0.0     0.0        0.0     0.0\n",
       "2   2020-02-01        0.0     0.0        0.0     0.0\n",
       "3   2020-02-02        1.0     0.0        0.0     0.0\n",
       "4   2020-02-03        1.0     0.0        0.0     0.0\n",
       "..         ...        ...     ...        ...     ...\n",
       "617 2021-10-08    19740.0   248.0        0.0     0.0\n",
       "618 2021-10-09    18166.0   214.0        0.0     0.0\n",
       "619 2021-10-10    18132.0   193.0        0.0     0.0\n",
       "620 2021-10-11    14313.0   181.0        0.0     0.0\n",
       "621 2021-10-12    15823.0   226.0        0.0     0.0\n",
       "\n",
       "[622 rows x 5 columns]"
      ]
     },
     "execution_count": 4,
     "metadata": {},
     "output_type": "execute_result"
    }
   ],
   "source": [
    "daily_cases_india"
   ]
  },
  {
   "cell_type": "code",
   "execution_count": 5,
   "id": "003dd0a3",
   "metadata": {},
   "outputs": [
    {
     "data": {
      "text/plain": [
       "Updated On     datetime64[ns]\n",
       "Total_Doses           float64\n",
       "First_Dose            float64\n",
       "Second_Dose           float64\n",
       "dtype: object"
      ]
     },
     "execution_count": 5,
     "metadata": {},
     "output_type": "execute_result"
    }
   ],
   "source": [
    "daily_vacc_india.dtypes"
   ]
  },
  {
   "cell_type": "code",
   "execution_count": 6,
   "id": "2aa2299c",
   "metadata": {},
   "outputs": [
    {
     "data": {
      "text/html": [
       "<div>\n",
       "<style scoped>\n",
       "    .dataframe tbody tr th:only-of-type {\n",
       "        vertical-align: middle;\n",
       "    }\n",
       "\n",
       "    .dataframe tbody tr th {\n",
       "        vertical-align: top;\n",
       "    }\n",
       "\n",
       "    .dataframe thead th {\n",
       "        text-align: right;\n",
       "    }\n",
       "</style>\n",
       "<table border=\"1\" class=\"dataframe\">\n",
       "  <thead>\n",
       "    <tr style=\"text-align: right;\">\n",
       "      <th></th>\n",
       "      <th>Updated On</th>\n",
       "      <th>Total_Doses</th>\n",
       "      <th>First_Dose</th>\n",
       "      <th>Second_Dose</th>\n",
       "    </tr>\n",
       "  </thead>\n",
       "  <tbody>\n",
       "    <tr>\n",
       "      <th>0</th>\n",
       "      <td>2021-01-16</td>\n",
       "      <td>NaN</td>\n",
       "      <td>NaN</td>\n",
       "      <td>NaN</td>\n",
       "    </tr>\n",
       "    <tr>\n",
       "      <th>1</th>\n",
       "      <td>2021-01-17</td>\n",
       "      <td>20656.0</td>\n",
       "      <td>20656.0</td>\n",
       "      <td>0.0</td>\n",
       "    </tr>\n",
       "    <tr>\n",
       "      <th>2</th>\n",
       "      <td>2021-01-18</td>\n",
       "      <td>81690.0</td>\n",
       "      <td>81690.0</td>\n",
       "      <td>0.0</td>\n",
       "    </tr>\n",
       "    <tr>\n",
       "      <th>3</th>\n",
       "      <td>2021-01-19</td>\n",
       "      <td>192152.0</td>\n",
       "      <td>192152.0</td>\n",
       "      <td>0.0</td>\n",
       "    </tr>\n",
       "    <tr>\n",
       "      <th>4</th>\n",
       "      <td>2021-01-20</td>\n",
       "      <td>111510.0</td>\n",
       "      <td>111510.0</td>\n",
       "      <td>0.0</td>\n",
       "    </tr>\n",
       "    <tr>\n",
       "      <th>...</th>\n",
       "      <td>...</td>\n",
       "      <td>...</td>\n",
       "      <td>...</td>\n",
       "      <td>...</td>\n",
       "    </tr>\n",
       "    <tr>\n",
       "      <th>265</th>\n",
       "      <td>2021-10-08</td>\n",
       "      <td>16299888.0</td>\n",
       "      <td>8574512.0</td>\n",
       "      <td>7725376.0</td>\n",
       "    </tr>\n",
       "    <tr>\n",
       "      <th>266</th>\n",
       "      <td>2021-10-09</td>\n",
       "      <td>14222216.0</td>\n",
       "      <td>7383094.0</td>\n",
       "      <td>6839122.0</td>\n",
       "    </tr>\n",
       "    <tr>\n",
       "      <th>267</th>\n",
       "      <td>2021-10-10</td>\n",
       "      <td>9980692.0</td>\n",
       "      <td>5006976.0</td>\n",
       "      <td>4973716.0</td>\n",
       "    </tr>\n",
       "    <tr>\n",
       "      <th>268</th>\n",
       "      <td>2021-10-11</td>\n",
       "      <td>13936784.0</td>\n",
       "      <td>7123464.0</td>\n",
       "      <td>6813320.0</td>\n",
       "    </tr>\n",
       "    <tr>\n",
       "      <th>269</th>\n",
       "      <td>2021-10-12</td>\n",
       "      <td>10997436.0</td>\n",
       "      <td>5707004.0</td>\n",
       "      <td>5290432.0</td>\n",
       "    </tr>\n",
       "  </tbody>\n",
       "</table>\n",
       "<p>270 rows × 4 columns</p>\n",
       "</div>"
      ],
      "text/plain": [
       "    Updated On  Total_Doses  First_Dose  Second_Dose\n",
       "0   2021-01-16          NaN         NaN          NaN\n",
       "1   2021-01-17      20656.0     20656.0          0.0\n",
       "2   2021-01-18      81690.0     81690.0          0.0\n",
       "3   2021-01-19     192152.0    192152.0          0.0\n",
       "4   2021-01-20     111510.0    111510.0          0.0\n",
       "..         ...          ...         ...          ...\n",
       "265 2021-10-08   16299888.0   8574512.0    7725376.0\n",
       "266 2021-10-09   14222216.0   7383094.0    6839122.0\n",
       "267 2021-10-10    9980692.0   5006976.0    4973716.0\n",
       "268 2021-10-11   13936784.0   7123464.0    6813320.0\n",
       "269 2021-10-12   10997436.0   5707004.0    5290432.0\n",
       "\n",
       "[270 rows x 4 columns]"
      ]
     },
     "execution_count": 6,
     "metadata": {},
     "output_type": "execute_result"
    }
   ],
   "source": [
    "daily_vacc_india"
   ]
  },
  {
   "cell_type": "code",
   "execution_count": 7,
   "id": "e0de8134",
   "metadata": {},
   "outputs": [
    {
     "data": {
      "text/html": [
       "<div>\n",
       "<style scoped>\n",
       "    .dataframe tbody tr th:only-of-type {\n",
       "        vertical-align: middle;\n",
       "    }\n",
       "\n",
       "    .dataframe tbody tr th {\n",
       "        vertical-align: top;\n",
       "    }\n",
       "\n",
       "    .dataframe thead th {\n",
       "        text-align: right;\n",
       "    }\n",
       "</style>\n",
       "<table border=\"1\" class=\"dataframe\">\n",
       "  <thead>\n",
       "    <tr style=\"text-align: right;\">\n",
       "      <th></th>\n",
       "      <th>Date</th>\n",
       "      <th>Confirmed</th>\n",
       "      <th>Total_Doses</th>\n",
       "    </tr>\n",
       "  </thead>\n",
       "  <tbody>\n",
       "    <tr>\n",
       "      <th>0</th>\n",
       "      <td>2020-01-30</td>\n",
       "      <td>1.0</td>\n",
       "      <td>NaN</td>\n",
       "    </tr>\n",
       "    <tr>\n",
       "      <th>1</th>\n",
       "      <td>2020-01-31</td>\n",
       "      <td>0.0</td>\n",
       "      <td>NaN</td>\n",
       "    </tr>\n",
       "    <tr>\n",
       "      <th>2</th>\n",
       "      <td>2020-02-01</td>\n",
       "      <td>0.0</td>\n",
       "      <td>NaN</td>\n",
       "    </tr>\n",
       "    <tr>\n",
       "      <th>3</th>\n",
       "      <td>2020-02-02</td>\n",
       "      <td>1.0</td>\n",
       "      <td>NaN</td>\n",
       "    </tr>\n",
       "    <tr>\n",
       "      <th>4</th>\n",
       "      <td>2020-02-03</td>\n",
       "      <td>1.0</td>\n",
       "      <td>NaN</td>\n",
       "    </tr>\n",
       "    <tr>\n",
       "      <th>...</th>\n",
       "      <td>...</td>\n",
       "      <td>...</td>\n",
       "      <td>...</td>\n",
       "    </tr>\n",
       "    <tr>\n",
       "      <th>617</th>\n",
       "      <td>2021-10-08</td>\n",
       "      <td>19740.0</td>\n",
       "      <td>16299888.0</td>\n",
       "    </tr>\n",
       "    <tr>\n",
       "      <th>618</th>\n",
       "      <td>2021-10-09</td>\n",
       "      <td>18166.0</td>\n",
       "      <td>14222216.0</td>\n",
       "    </tr>\n",
       "    <tr>\n",
       "      <th>619</th>\n",
       "      <td>2021-10-10</td>\n",
       "      <td>18132.0</td>\n",
       "      <td>9980692.0</td>\n",
       "    </tr>\n",
       "    <tr>\n",
       "      <th>620</th>\n",
       "      <td>2021-10-11</td>\n",
       "      <td>14313.0</td>\n",
       "      <td>13936784.0</td>\n",
       "    </tr>\n",
       "    <tr>\n",
       "      <th>621</th>\n",
       "      <td>2021-10-12</td>\n",
       "      <td>15823.0</td>\n",
       "      <td>10997436.0</td>\n",
       "    </tr>\n",
       "  </tbody>\n",
       "</table>\n",
       "<p>622 rows × 3 columns</p>\n",
       "</div>"
      ],
      "text/plain": [
       "          Date  Confirmed  Total_Doses\n",
       "0   2020-01-30        1.0          NaN\n",
       "1   2020-01-31        0.0          NaN\n",
       "2   2020-02-01        0.0          NaN\n",
       "3   2020-02-02        1.0          NaN\n",
       "4   2020-02-03        1.0          NaN\n",
       "..         ...        ...          ...\n",
       "617 2021-10-08    19740.0   16299888.0\n",
       "618 2021-10-09    18166.0   14222216.0\n",
       "619 2021-10-10    18132.0    9980692.0\n",
       "620 2021-10-11    14313.0   13936784.0\n",
       "621 2021-10-12    15823.0   10997436.0\n",
       "\n",
       "[622 rows x 3 columns]"
      ]
     },
     "execution_count": 7,
     "metadata": {},
     "output_type": "execute_result"
    }
   ],
   "source": [
    "cases_vacc = daily_cases_india.merge(daily_vacc_india, how='outer', left_on='Date', right_on='Updated On')\n",
    "cases_vacc = cases_vacc[[\"Date\", \"Confirmed\", \"Total_Doses\"]]\n",
    "cases_vacc"
   ]
  },
  {
   "cell_type": "code",
   "execution_count": 8,
   "id": "5645d08e",
   "metadata": {},
   "outputs": [
    {
     "data": {
      "text/html": [
       "<div>\n",
       "<style scoped>\n",
       "    .dataframe tbody tr th:only-of-type {\n",
       "        vertical-align: middle;\n",
       "    }\n",
       "\n",
       "    .dataframe tbody tr th {\n",
       "        vertical-align: top;\n",
       "    }\n",
       "\n",
       "    .dataframe thead th {\n",
       "        text-align: right;\n",
       "    }\n",
       "</style>\n",
       "<table border=\"1\" class=\"dataframe\">\n",
       "  <thead>\n",
       "    <tr style=\"text-align: right;\">\n",
       "      <th></th>\n",
       "      <th>Confirmed</th>\n",
       "      <th>Total_Doses</th>\n",
       "    </tr>\n",
       "    <tr>\n",
       "      <th>Date</th>\n",
       "      <th></th>\n",
       "      <th></th>\n",
       "    </tr>\n",
       "  </thead>\n",
       "  <tbody>\n",
       "    <tr>\n",
       "      <th>2020-01-30</th>\n",
       "      <td>1.0</td>\n",
       "      <td>0.0</td>\n",
       "    </tr>\n",
       "    <tr>\n",
       "      <th>2020-01-31</th>\n",
       "      <td>0.0</td>\n",
       "      <td>0.0</td>\n",
       "    </tr>\n",
       "    <tr>\n",
       "      <th>2020-02-01</th>\n",
       "      <td>0.0</td>\n",
       "      <td>0.0</td>\n",
       "    </tr>\n",
       "    <tr>\n",
       "      <th>2020-02-02</th>\n",
       "      <td>1.0</td>\n",
       "      <td>0.0</td>\n",
       "    </tr>\n",
       "    <tr>\n",
       "      <th>2020-02-03</th>\n",
       "      <td>1.0</td>\n",
       "      <td>0.0</td>\n",
       "    </tr>\n",
       "    <tr>\n",
       "      <th>...</th>\n",
       "      <td>...</td>\n",
       "      <td>...</td>\n",
       "    </tr>\n",
       "    <tr>\n",
       "      <th>2021-10-08</th>\n",
       "      <td>19740.0</td>\n",
       "      <td>16299888.0</td>\n",
       "    </tr>\n",
       "    <tr>\n",
       "      <th>2021-10-09</th>\n",
       "      <td>18166.0</td>\n",
       "      <td>14222216.0</td>\n",
       "    </tr>\n",
       "    <tr>\n",
       "      <th>2021-10-10</th>\n",
       "      <td>18132.0</td>\n",
       "      <td>9980692.0</td>\n",
       "    </tr>\n",
       "    <tr>\n",
       "      <th>2021-10-11</th>\n",
       "      <td>14313.0</td>\n",
       "      <td>13936784.0</td>\n",
       "    </tr>\n",
       "    <tr>\n",
       "      <th>2021-10-12</th>\n",
       "      <td>15823.0</td>\n",
       "      <td>10997436.0</td>\n",
       "    </tr>\n",
       "  </tbody>\n",
       "</table>\n",
       "<p>622 rows × 2 columns</p>\n",
       "</div>"
      ],
      "text/plain": [
       "            Confirmed  Total_Doses\n",
       "Date                              \n",
       "2020-01-30        1.0          0.0\n",
       "2020-01-31        0.0          0.0\n",
       "2020-02-01        0.0          0.0\n",
       "2020-02-02        1.0          0.0\n",
       "2020-02-03        1.0          0.0\n",
       "...               ...          ...\n",
       "2021-10-08    19740.0   16299888.0\n",
       "2021-10-09    18166.0   14222216.0\n",
       "2021-10-10    18132.0    9980692.0\n",
       "2021-10-11    14313.0   13936784.0\n",
       "2021-10-12    15823.0   10997436.0\n",
       "\n",
       "[622 rows x 2 columns]"
      ]
     },
     "execution_count": 8,
     "metadata": {},
     "output_type": "execute_result"
    }
   ],
   "source": [
    "cases_vacc.fillna(0, inplace=True)\n",
    "indexed = cases_vacc.set_index('Date')\n",
    "indexed"
   ]
  },
  {
   "cell_type": "markdown",
   "id": "b082da46",
   "metadata": {},
   "source": [
    "<a name=plotting></a>\n",
    "## Plot initial data"
   ]
  },
  {
   "cell_type": "code",
   "execution_count": 9,
   "id": "2e9f8fe1",
   "metadata": {},
   "outputs": [
    {
     "data": {
      "image/png": "[encoded data removed]",
      "text/plain": [
       "<Figure size 960x480 with 2 Axes>"
      ]
     },
     "metadata": {
      "needs_background": "light"
     },
     "output_type": "display_data"
    }
   ],
   "source": [
    "def plot_subplots(indexed):\n",
    "    \n",
    "    if type(indexed) == pd.DataFrame:\n",
    "        nrows = int(len(indexed.columns)/2)\n",
    "    else:\n",
    "        nrows = 1\n",
    "        \n",
    "    fig, axes = plt.subplots(nrows=nrows, ncols=2, dpi=120, figsize=(8,4))\n",
    "    for i, ax in enumerate(axes.flatten()):\n",
    "        \n",
    "        if type(indexed) == list:\n",
    "            # fig, ax = plt.subplots()\n",
    "            # fig.set_size_inches(8, 8)\n",
    "\n",
    "            ax.plot(indexed[0][indexed[0].columns[i]], color='blue', label = 'Train')\n",
    "            ax.plot(indexed[1][indexed[1].columns[i]], color='red', label = 'Test')\n",
    "            ax.legend(loc = 'best')\n",
    "            # Decorations\n",
    "            ax.set_title(indexed[0].columns[i])\n",
    "        else:    \n",
    "            data = indexed[indexed.columns[i]]\n",
    "            ax.plot(data, color='blue', linewidth=1)\n",
    "            # Decorations\n",
    "            ax.set_title(indexed.columns[i])\n",
    "        ax.xaxis.set_ticks_position('none')\n",
    "        ax.yaxis.set_ticks_position('none')\n",
    "        ax.spines[\"top\"].set_alpha(0)\n",
    "        ax.tick_params(labelsize=6)\n",
    "    \n",
    "    plt.tight_layout()\n",
    "    \n",
    "plot_subplots(indexed)"
   ]
  },
  {
   "cell_type": "markdown",
   "id": "89e9d2ab",
   "metadata": {},
   "source": [
    "<a name=stattests1></a>\n",
    "## Statistical tests"
   ]
  },
  {
   "cell_type": "markdown",
   "id": "3da372cb",
   "metadata": {},
   "source": [
    "### Johansen co-integration test"
   ]
  },
  {
   "cell_type": "code",
   "execution_count": 10,
   "id": "685b3dcf",
   "metadata": {},
   "outputs": [
    {
     "name": "stdout",
     "output_type": "stream",
     "text": [
      "Name   ::  Test Stat > C(95%)    =>   Signif  \n",
      " ----------------------------------------\n",
      "Confirmed ::  3.31      > 12.3212   =>   False\n",
      "Total_Doses ::  0.69      > 4.1296    =>   False\n"
     ]
    }
   ],
   "source": [
    "from statsmodels.tsa.vector_ar.vecm import coint_johansen\n",
    "\n",
    "def cointegration_test(df, alpha=0.05): \n",
    "    \"\"\"Perform Johanson's Cointegration Test and Report Summary\"\"\"\n",
    "    out = coint_johansen(df,-1,5)\n",
    "    d = {'0.90':0, '0.95':1, '0.99':2}\n",
    "    traces = out.lr1\n",
    "    cvts = out.cvt[:, d[str(1-alpha)]]\n",
    "    def adjust(val, length= 6): return str(val).ljust(length)\n",
    "\n",
    "    # Summary\n",
    "    print('Name   ::  Test Stat > C(95%)    =>   Signif  \\n', '--'*20)\n",
    "    for col, trace, cvt in zip(df.columns, traces, cvts):\n",
    "        print(adjust(col), ':: ', adjust(round(trace,2), 9), \">\", adjust(cvt, 8), ' =>  ' , trace > cvt)\n",
    "\n",
    "cointegration_test(indexed)"
   ]
  },
  {
   "cell_type": "markdown",
   "id": "bf0d5ce7",
   "metadata": {},
   "source": [
    "### Augmented DF Test"
   ]
  },
  {
   "cell_type": "code",
   "execution_count": 11,
   "id": "054ea81d",
   "metadata": {},
   "outputs": [
    {
     "name": "stdout",
     "output_type": "stream",
     "text": [
      "Observations of Dickey-fuller test\n",
      "Test Statistic                  -3.842259\n",
      "p-value                          0.002503\n",
      "#lags used                      15.000000\n",
      "number of observations used    606.000000\n",
      "critical value (1%)             -3.441187\n",
      "critical value (5%)             -2.866321\n",
      "critical value (10%)            -2.569316\n",
      "dtype: float64\n",
      "\n",
      "\n",
      "Observations of Dickey-fuller test\n",
      "Test Statistic                  -0.170254\n",
      "p-value                          0.941976\n",
      "#lags used                      13.000000\n",
      "number of observations used    608.000000\n",
      "critical value (1%)             -3.441151\n",
      "critical value (5%)             -2.866305\n",
      "critical value (10%)            -2.569308\n",
      "dtype: float64\n",
      "\n",
      "\n"
     ]
    }
   ],
   "source": [
    "from statsmodels.tsa.stattools import adfuller\n",
    "\n",
    "def run_dicky_fuller(ts):\n",
    "  '''Function to run Augmented Dicky Fuller test on the passed time series and report the statistics from the test'''\n",
    "  print(\"Observations of Dickey-fuller test\")\n",
    "  dftest = adfuller(ts,autolag='AIC')\n",
    "  dfoutput=pd.Series(dftest[0:4],index=['Test Statistic','p-value','#lags used','number of observations used'])\n",
    "\n",
    "  for key,value in dftest[4].items():\n",
    "      dfoutput['critical value (%s)'%key]= value\n",
    "  print(dfoutput)\n",
    "\n",
    "\n",
    "# ADF Test on each column\n",
    "for name, column in indexed.iteritems():\n",
    "    run_dicky_fuller(column)\n",
    "    print('\\n')"
   ]
  },
  {
   "cell_type": "markdown",
   "id": "3568c70d",
   "metadata": {},
   "source": [
    "The TS is not stationary"
   ]
  },
  {
   "cell_type": "markdown",
   "id": "386084b5",
   "metadata": {},
   "source": [
    "<a name=diff></a>\n",
    "## Differencing"
   ]
  },
  {
   "cell_type": "markdown",
   "id": "4920112b",
   "metadata": {},
   "source": [
    "## First order differencing"
   ]
  },
  {
   "cell_type": "code",
   "execution_count": 12,
   "id": "c68ae11f",
   "metadata": {},
   "outputs": [
    {
     "data": {
      "text/html": [
       "<div>\n",
       "<style scoped>\n",
       "    .dataframe tbody tr th:only-of-type {\n",
       "        vertical-align: middle;\n",
       "    }\n",
       "\n",
       "    .dataframe tbody tr th {\n",
       "        vertical-align: top;\n",
       "    }\n",
       "\n",
       "    .dataframe thead th {\n",
       "        text-align: right;\n",
       "    }\n",
       "</style>\n",
       "<table border=\"1\" class=\"dataframe\">\n",
       "  <thead>\n",
       "    <tr style=\"text-align: right;\">\n",
       "      <th></th>\n",
       "      <th>Confirmed</th>\n",
       "      <th>Total_Doses</th>\n",
       "    </tr>\n",
       "    <tr>\n",
       "      <th>Date</th>\n",
       "      <th></th>\n",
       "      <th></th>\n",
       "    </tr>\n",
       "  </thead>\n",
       "  <tbody>\n",
       "    <tr>\n",
       "      <th>2020-01-31</th>\n",
       "      <td>-1.0</td>\n",
       "      <td>0.0</td>\n",
       "    </tr>\n",
       "    <tr>\n",
       "      <th>2020-02-01</th>\n",
       "      <td>0.0</td>\n",
       "      <td>0.0</td>\n",
       "    </tr>\n",
       "    <tr>\n",
       "      <th>2020-02-02</th>\n",
       "      <td>1.0</td>\n",
       "      <td>0.0</td>\n",
       "    </tr>\n",
       "    <tr>\n",
       "      <th>2020-02-03</th>\n",
       "      <td>0.0</td>\n",
       "      <td>0.0</td>\n",
       "    </tr>\n",
       "    <tr>\n",
       "      <th>2020-02-04</th>\n",
       "      <td>-1.0</td>\n",
       "      <td>0.0</td>\n",
       "    </tr>\n",
       "    <tr>\n",
       "      <th>...</th>\n",
       "      <td>...</td>\n",
       "      <td>...</td>\n",
       "    </tr>\n",
       "    <tr>\n",
       "      <th>2021-10-08</th>\n",
       "      <td>-1517.0</td>\n",
       "      <td>5513592.0</td>\n",
       "    </tr>\n",
       "    <tr>\n",
       "      <th>2021-10-09</th>\n",
       "      <td>-1574.0</td>\n",
       "      <td>-2077672.0</td>\n",
       "    </tr>\n",
       "    <tr>\n",
       "      <th>2021-10-10</th>\n",
       "      <td>-34.0</td>\n",
       "      <td>-4241524.0</td>\n",
       "    </tr>\n",
       "    <tr>\n",
       "      <th>2021-10-11</th>\n",
       "      <td>-3819.0</td>\n",
       "      <td>3956092.0</td>\n",
       "    </tr>\n",
       "    <tr>\n",
       "      <th>2021-10-12</th>\n",
       "      <td>1510.0</td>\n",
       "      <td>-2939348.0</td>\n",
       "    </tr>\n",
       "  </tbody>\n",
       "</table>\n",
       "<p>621 rows × 2 columns</p>\n",
       "</div>"
      ],
      "text/plain": [
       "            Confirmed  Total_Doses\n",
       "Date                              \n",
       "2020-01-31       -1.0          0.0\n",
       "2020-02-01        0.0          0.0\n",
       "2020-02-02        1.0          0.0\n",
       "2020-02-03        0.0          0.0\n",
       "2020-02-04       -1.0          0.0\n",
       "...               ...          ...\n",
       "2021-10-08    -1517.0    5513592.0\n",
       "2021-10-09    -1574.0   -2077672.0\n",
       "2021-10-10      -34.0   -4241524.0\n",
       "2021-10-11    -3819.0    3956092.0\n",
       "2021-10-12     1510.0   -2939348.0\n",
       "\n",
       "[621 rows x 2 columns]"
      ]
     },
     "execution_count": 12,
     "metadata": {},
     "output_type": "execute_result"
    }
   ],
   "source": [
    "df_diff_1 = indexed.diff().dropna()\n",
    "df_diff_1"
   ]
  },
  {
   "cell_type": "code",
   "execution_count": 13,
   "id": "30ec4f80",
   "metadata": {},
   "outputs": [
    {
     "name": "stdout",
     "output_type": "stream",
     "text": [
      "Observations of Dickey-fuller test\n",
      "Test Statistic                  -4.673828\n",
      "p-value                          0.000094\n",
      "#lags used                      19.000000\n",
      "number of observations used    601.000000\n",
      "critical value (1%)             -3.441278\n",
      "critical value (5%)             -2.866361\n",
      "critical value (10%)            -2.569338\n",
      "dtype: float64\n",
      "\n",
      "\n",
      "Observations of Dickey-fuller test\n",
      "Test Statistic                -8.925407e+00\n",
      "p-value                        1.014498e-14\n",
      "#lags used                     1.900000e+01\n",
      "number of observations used    6.010000e+02\n",
      "critical value (1%)           -3.441278e+00\n",
      "critical value (5%)           -2.866361e+00\n",
      "critical value (10%)          -2.569338e+00\n",
      "dtype: float64\n",
      "\n",
      "\n"
     ]
    }
   ],
   "source": [
    "# ADF Test on each column\n",
    "for name, column in df_diff_1.iteritems():\n",
    "    run_dicky_fuller(column)\n",
    "    print('\\n')"
   ]
  },
  {
   "cell_type": "code",
   "execution_count": 14,
   "id": "d5e7db36",
   "metadata": {},
   "outputs": [
    {
     "data": {
      "image/png": "[encoded data removed]",
      "text/plain": [
       "<Figure size 960x480 with 2 Axes>"
      ]
     },
     "metadata": {
      "needs_background": "light"
     },
     "output_type": "display_data"
    }
   ],
   "source": [
    "plot_subplots(df_diff_1)"
   ]
  },
  {
   "cell_type": "markdown",
   "id": "0fb33795",
   "metadata": {},
   "source": [
    "<a name=traintest1></a>\n",
    "## Train-test split"
   ]
  },
  {
   "cell_type": "markdown",
   "id": "815f6a3b",
   "metadata": {},
   "source": [
    "### Train-test split - first order differenced"
   ]
  },
  {
   "cell_type": "code",
   "execution_count": 15,
   "id": "71a99cf2",
   "metadata": {},
   "outputs": [
    {
     "data": {
      "image/png": "[encoded data removed]",
      "text/plain": [
       "<Figure size 960x480 with 2 Axes>"
      ]
     },
     "metadata": {
      "needs_background": "light"
     },
     "output_type": "display_data"
    }
   ],
   "source": [
    "percent_90 = int(len(df_diff_1)*0.9)\n",
    "\n",
    "train = df_diff_1.iloc[:percent_90].dropna()\n",
    "test = df_diff_1.iloc[percent_90:]\n",
    "\n",
    "plot_subplots([train, test])"
   ]
  },
  {
   "cell_type": "markdown",
   "id": "f667b36a",
   "metadata": {},
   "source": [
    "<a name=var_p_1></a>\n",
    "### Finding the best value of p for VAR(p)\n",
    "\n",
    "Using AIC, BIC, FPE, HQIC"
   ]
  },
  {
   "cell_type": "code",
   "execution_count": 16,
   "id": "223d88f8",
   "metadata": {},
   "outputs": [
    {
     "name": "stderr",
     "output_type": "stream",
     "text": [
      "/Users/vibhamasti/anaconda3/lib/python3.7/site-packages/statsmodels/tsa/base/tsa_model.py:527: ValueWarning: No frequency information was provided, so inferred frequency D will be used.\n",
      "  % freq, ValueWarning)\n"
     ]
    },
    {
     "data": {
      "text/html": [
       "<table class=\"simpletable\">\n",
       "<caption>VAR Order Selection (* highlights the minimums)</caption>\n",
       "<tr>\n",
       "   <td></td>      <th>AIC</th>         <th>BIC</th>         <th>FPE</th>        <th>HQIC</th>    \n",
       "</tr>\n",
       "<tr>\n",
       "  <th>0</th>  <td>     47.95</td>  <td>     47.96</td>  <td> 6.644e+20</td>  <td>     47.95</td> \n",
       "</tr>\n",
       "<tr>\n",
       "  <th>1</th>  <td>     47.39</td>  <td>     47.44</td>  <td> 3.820e+20</td>  <td>     47.41</td> \n",
       "</tr>\n",
       "<tr>\n",
       "  <th>2</th>  <td>     47.30</td>  <td>     47.38</td>  <td> 3.496e+20</td>  <td>     47.33</td> \n",
       "</tr>\n",
       "<tr>\n",
       "  <th>3</th>  <td>     47.30</td>  <td>     47.41</td>  <td> 3.493e+20</td>  <td>     47.35</td> \n",
       "</tr>\n",
       "<tr>\n",
       "  <th>4</th>  <td>     47.27</td>  <td>     47.41</td>  <td> 3.371e+20</td>  <td>     47.32</td> \n",
       "</tr>\n",
       "<tr>\n",
       "  <th>5</th>  <td>     47.25</td>  <td>     47.43</td>  <td> 3.310e+20</td>  <td>     47.32</td> \n",
       "</tr>\n",
       "<tr>\n",
       "  <th>6</th>  <td>     47.11</td>  <td>     47.32</td>  <td> 2.896e+20</td>  <td>     47.20</td> \n",
       "</tr>\n",
       "<tr>\n",
       "  <th>7</th>  <td>     46.97</td>  <td>     47.21</td>  <td> 2.499e+20</td>  <td>     47.06</td> \n",
       "</tr>\n",
       "<tr>\n",
       "  <th>8</th>  <td>     46.82</td>  <td>     47.09</td>  <td> 2.156e+20</td>  <td>     46.93</td> \n",
       "</tr>\n",
       "<tr>\n",
       "  <th>9</th>  <td>     46.77</td>  <td>     47.08</td>  <td> 2.055e+20</td>  <td>     46.89</td> \n",
       "</tr>\n",
       "<tr>\n",
       "  <th>10</th> <td>     46.78</td>  <td>     47.11</td>  <td> 2.063e+20</td>  <td>     46.91</td> \n",
       "</tr>\n",
       "<tr>\n",
       "  <th>11</th> <td>     46.78</td>  <td>     47.15</td>  <td> 2.063e+20</td>  <td>     46.92</td> \n",
       "</tr>\n",
       "<tr>\n",
       "  <th>12</th> <td>     46.73</td>  <td>     47.13</td>  <td> 1.974e+20</td>  <td>     46.89</td> \n",
       "</tr>\n",
       "<tr>\n",
       "  <th>13</th> <td>     46.62</td>  <td>     47.05*</td> <td> 1.765e+20</td>  <td>     46.79*</td>\n",
       "</tr>\n",
       "<tr>\n",
       "  <th>14</th> <td>     46.61</td>  <td>     47.08</td>  <td> 1.755e+20</td>  <td>     46.80</td> \n",
       "</tr>\n",
       "<tr>\n",
       "  <th>15</th> <td>     46.61</td>  <td>     47.11</td>  <td> 1.745e+20</td>  <td>     46.80</td> \n",
       "</tr>\n",
       "<tr>\n",
       "  <th>16</th> <td>     46.60</td>  <td>     47.13</td>  <td> 1.737e+20</td>  <td>     46.81</td> \n",
       "</tr>\n",
       "<tr>\n",
       "  <th>17</th> <td>     46.60</td>  <td>     47.16</td>  <td> 1.727e+20</td>  <td>     46.82</td> \n",
       "</tr>\n",
       "<tr>\n",
       "  <th>18</th> <td>     46.61</td>  <td>     47.21</td>  <td> 1.750e+20</td>  <td>     46.84</td> \n",
       "</tr>\n",
       "<tr>\n",
       "  <th>19</th> <td>     46.59</td>  <td>     47.22</td>  <td> 1.717e+20</td>  <td>     46.84</td> \n",
       "</tr>\n",
       "<tr>\n",
       "  <th>20</th> <td>     46.57</td>  <td>     47.23</td>  <td> 1.676e+20</td>  <td>     46.83</td> \n",
       "</tr>\n",
       "<tr>\n",
       "  <th>21</th> <td>     46.56</td>  <td>     47.25</td>  <td> 1.664e+20</td>  <td>     46.83</td> \n",
       "</tr>\n",
       "<tr>\n",
       "  <th>22</th> <td>     46.55</td>  <td>     47.27</td>  <td> 1.644e+20</td>  <td>     46.83</td> \n",
       "</tr>\n",
       "<tr>\n",
       "  <th>23</th> <td>     46.52*</td> <td>     47.27</td>  <td> 1.596e+20*</td> <td>     46.81</td> \n",
       "</tr>\n",
       "<tr>\n",
       "  <th>24</th> <td>     46.52</td>  <td>     47.31</td>  <td> 1.604e+20</td>  <td>     46.83</td> \n",
       "</tr>\n",
       "<tr>\n",
       "  <th>25</th> <td>     46.52</td>  <td>     47.34</td>  <td> 1.598e+20</td>  <td>     46.84</td> \n",
       "</tr>\n",
       "</table>"
      ],
      "text/plain": [
       "<class 'statsmodels.iolib.table.SimpleTable'>"
      ]
     },
     "execution_count": 16,
     "metadata": {},
     "output_type": "execute_result"
    }
   ],
   "source": [
    "from statsmodels.tsa.vector_ar.var_model import VAR\n",
    "\n",
    "model = VAR(train)\n",
    "\n",
    "x = model.select_order(maxlags=25)\n",
    "x.summary()"
   ]
  },
  {
   "cell_type": "markdown",
   "id": "1565314e",
   "metadata": {},
   "source": [
    "At p = 13 the value of BIC and HQIC are at their local minima"
   ]
  },
  {
   "cell_type": "markdown",
   "id": "579e7719",
   "metadata": {},
   "source": [
    "<a name=var13_1></a>\n",
    "### VAR(13) Model"
   ]
  },
  {
   "cell_type": "code",
   "execution_count": 17,
   "id": "62a393e1",
   "metadata": {},
   "outputs": [
    {
     "data": {
      "text/plain": [
       "  Summary of Regression Results   \n",
       "==================================\n",
       "Model:                         VAR\n",
       "Method:                        OLS\n",
       "Date:           Mon, 13, Dec, 2021\n",
       "Time:                     12:29:53\n",
       "--------------------------------------------------------------------\n",
       "No. of Equations:         2.00000    BIC:                    46.9967\n",
       "Nobs:                     545.000    HQIC:                   46.7372\n",
       "Log likelihood:          -14183.1    FPE:                1.68041e+20\n",
       "AIC:                      46.5706    Det(Omega_mle):     1.52551e+20\n",
       "--------------------------------------------------------------------\n",
       "Results for equation Confirmed\n",
       "==================================================================================\n",
       "                     coefficient       std. error           t-stat            prob\n",
       "----------------------------------------------------------------------------------\n",
       "const                 -75.250415       430.223174           -0.175           0.861\n",
       "L1.Confirmed           -0.755147         0.043015          -17.556           0.000\n",
       "L1.Total_Doses          0.000375         0.000349            1.073           0.283\n",
       "L2.Confirmed           -0.350090         0.052799           -6.631           0.000\n",
       "L2.Total_Doses          0.001147         0.000417            2.753           0.006\n",
       "L3.Confirmed           -0.065449         0.054277           -1.206           0.228\n",
       "L3.Total_Doses          0.000408         0.000449            0.908           0.364\n",
       "L4.Confirmed            0.147315         0.054260            2.715           0.007\n",
       "L4.Total_Doses         -0.000133         0.000462           -0.288           0.773\n",
       "L5.Confirmed            0.301565         0.053412            5.646           0.000\n",
       "L5.Total_Doses          0.000231         0.000459            0.503           0.615\n",
       "L6.Confirmed            0.474408         0.049337            9.616           0.000\n",
       "L6.Total_Doses         -0.000170         0.000459           -0.371           0.711\n",
       "L7.Confirmed            0.676467         0.045449           14.884           0.000\n",
       "L7.Total_Doses         -0.000285         0.000475           -0.600           0.548\n",
       "L8.Confirmed            0.581209         0.049898           11.648           0.000\n",
       "L8.Total_Doses          0.000555         0.000461            1.205           0.228\n",
       "L9.Confirmed            0.262278         0.054065            4.851           0.000\n",
       "L9.Total_Doses          0.000222         0.000462            0.480           0.631\n",
       "L10.Confirmed          -0.010408         0.054484           -0.191           0.849\n",
       "L10.Total_Doses         0.000710         0.000460            1.545           0.122\n",
       "L11.Confirmed          -0.167921         0.054583           -3.076           0.002\n",
       "L11.Total_Doses         0.000974         0.000453            2.152           0.031\n",
       "L12.Confirmed          -0.281516         0.053432           -5.269           0.000\n",
       "L12.Total_Doses         0.000700         0.000436            1.605           0.109\n",
       "L13.Confirmed          -0.207581         0.043397           -4.783           0.000\n",
       "L13.Total_Doses         0.000295         0.000368            0.801           0.423\n",
       "==================================================================================\n",
       "\n",
       "Results for equation Total_Doses\n",
       "==================================================================================\n",
       "                     coefficient       std. error           t-stat            prob\n",
       "----------------------------------------------------------------------------------\n",
       "const               67219.386968     54107.518373            1.242           0.214\n",
       "L1.Confirmed            1.256136         5.409774            0.232           0.816\n",
       "L1.Total_Doses         -0.645016         0.043942          -14.679           0.000\n",
       "L2.Confirmed           11.391805         6.640355            1.716           0.086\n",
       "L2.Total_Doses         -0.366118         0.052394           -6.988           0.000\n",
       "L3.Confirmed            5.467231         6.826272            0.801           0.423\n",
       "L3.Total_Doses         -0.218806         0.056437           -3.877           0.000\n",
       "L4.Confirmed           -0.367488         6.824046           -0.054           0.957\n",
       "L4.Total_Doses         -0.228793         0.058103           -3.938           0.000\n",
       "L5.Confirmed            5.925666         6.717417            0.882           0.378\n",
       "L5.Total_Doses         -0.238050         0.057762           -4.121           0.000\n",
       "L6.Confirmed           12.899500         6.204895            2.079           0.038\n",
       "L6.Total_Doses         -0.302890         0.057780           -5.242           0.000\n",
       "L7.Confirmed            3.997305         5.715929            0.699           0.484\n",
       "L7.Total_Doses         -0.097829         0.059700           -1.639           0.101\n",
       "L8.Confirmed           -6.765613         6.275419           -1.078           0.281\n",
       "L8.Total_Doses         -0.236388         0.057965           -4.078           0.000\n",
       "L9.Confirmed          -18.514041         6.799540           -2.723           0.006\n",
       "L9.Total_Doses         -0.218154         0.058094           -3.755           0.000\n",
       "L10.Confirmed         -17.819738         6.852230           -2.601           0.009\n",
       "L10.Total_Doses        -0.161275         0.057810           -2.790           0.005\n",
       "L11.Confirmed         -21.094575         6.864677           -3.073           0.002\n",
       "L11.Total_Doses        -0.096053         0.056953           -1.687           0.092\n",
       "L12.Confirmed         -11.620708         6.719975           -1.729           0.084\n",
       "L12.Total_Doses        -0.063366         0.054865           -1.155           0.248\n",
       "L13.Confirmed           4.409751         5.457840            0.808           0.419\n",
       "L13.Total_Doses        -0.309641         0.046320           -6.685           0.000\n",
       "==================================================================================\n",
       "\n",
       "Correlation matrix of residuals\n",
       "               Confirmed  Total_Doses\n",
       "Confirmed       1.000000    -0.026197\n",
       "Total_Doses    -0.026197     1.000000\n",
       "\n"
      ]
     },
     "execution_count": 17,
     "metadata": {},
     "output_type": "execute_result"
    }
   ],
   "source": [
    "model_fitted = model.fit(13)\n",
    "model_fitted.summary()"
   ]
  },
  {
   "cell_type": "code",
   "execution_count": 18,
   "id": "a8ebbec7",
   "metadata": {},
   "outputs": [],
   "source": [
    "forecast_input = test.values\n",
    "\n",
    "\n",
    "forecast_input\n",
    "# Forecast\n",
    "fc = model_fitted.forecast(y=forecast_input, steps=len(forecast_input))\n",
    "\n",
    "\n",
    "df_forecast = pd.DataFrame(fc, index=test.index, columns=test.columns + '_forecast')\n",
    "\n",
    "forecasted_conf = df_forecast.join(test)[['Confirmed', 'Confirmed_forecast']]\n",
    "forecasted_vacc = df_forecast.join(test)[['Total_Doses', 'Total_Doses_forecast']]"
   ]
  },
  {
   "cell_type": "markdown",
   "id": "6585d600",
   "metadata": {},
   "source": [
    "<a name=diff1_plot></a>\n",
    "### Plot Predictions on Diffed"
   ]
  },
  {
   "cell_type": "code",
   "execution_count": 19,
   "id": "6ffa83ea",
   "metadata": {},
   "outputs": [],
   "source": [
    "def plot_fore_test(test, fore, title):\n",
    "    \n",
    "    fig, ax = plt.subplots()\n",
    "    fig.set_size_inches(12, 8)\n",
    "\n",
    "    ax.plot(test, color='blue', label='Test')\n",
    "    ax.plot(fore, color='red', label='Forecast')\n",
    "    ax.legend(loc='best')\n",
    "    plt.title(title)\n",
    "    plt.show()"
   ]
  },
  {
   "cell_type": "code",
   "execution_count": 20,
   "id": "658fbcf6",
   "metadata": {},
   "outputs": [],
   "source": [
    "#plot_fore_test(forecasted_conf[['Confirmed']], forecasted_conf[['Confirmed_forecast']], title='Daily cases')"
   ]
  },
  {
   "cell_type": "code",
   "execution_count": 21,
   "id": "b0d2fe2b",
   "metadata": {},
   "outputs": [],
   "source": [
    "#plot_fore_test(forecasted_vacc[['Total_Doses']], forecasted_vacc[['Total_Doses_forecast']], title='Daily vaccinations')"
   ]
  },
  {
   "cell_type": "markdown",
   "id": "b57008d8",
   "metadata": {},
   "source": [
    "<a name=undiff_1></a>\n",
    "\n",
    "## Un-differencing and Plotting"
   ]
  },
  {
   "cell_type": "code",
   "execution_count": 22,
   "id": "ea51c8b8",
   "metadata": {},
   "outputs": [],
   "source": [
    "def invert_transformation(diffed, original):\n",
    "    \"\"\"Revert back the differencing to get the forecast to original scale.\"\"\"\n",
    "    df_copy = original.copy()\n",
    "    \n",
    "    columns = diffed.columns\n",
    "    \n",
    "    for col in columns:\n",
    "        # Add corresponding diff column\n",
    "        df_copy[f'undiff_{col}'] = original[col]\n",
    "        df_copy[f'undiff_{col}'][1:] = diffed[col]\n",
    "        df_copy[f'undiff_{col}'] = df_copy[f'undiff_{col}'].cumsum()\n",
    "    \n",
    "        df_copy.drop(col, axis=1, inplace=True)\n",
    "        \n",
    "    return df_copy"
   ]
  },
  {
   "cell_type": "code",
   "execution_count": 23,
   "id": "13c3e6c6",
   "metadata": {},
   "outputs": [],
   "source": [
    "# Check if un-diffed df_diff_1 is the same as original\n",
    "\n",
    "#inverted = invert_transformation(df_diff_1, indexed)\n",
    "#(inverted[['undiff_Confirmed']] - indexed[['Confirmed']]).isna().sum()"
   ]
  },
  {
   "cell_type": "code",
   "execution_count": 24,
   "id": "9437c42d",
   "metadata": {},
   "outputs": [],
   "source": [
    "# Un-diff the test dataset\n",
    "\n",
    "start_index = indexed.index.get_loc(test.index[0])-1\n",
    "test_original = invert_transformation(test, indexed.iloc[start_index:])\n",
    "\n",
    "#test_original"
   ]
  },
  {
   "cell_type": "code",
   "execution_count": 25,
   "id": "dfb798d2",
   "metadata": {},
   "outputs": [],
   "source": [
    "renamed_df = df_forecast.rename(columns={'Confirmed_forecast': 'Confirmed', 'Total_Doses_forecast': 'Total_Doses'}, inplace=False)\n",
    "\n",
    "\n",
    "start_index = indexed.index.get_loc(renamed_df.index[0])-1\n",
    "fore_original = invert_transformation(renamed_df, indexed.iloc[start_index:])\n",
    "\n",
    "#fore_original"
   ]
  },
  {
   "cell_type": "code",
   "execution_count": 26,
   "id": "bbf5d790",
   "metadata": {},
   "outputs": [
    {
     "data": {
      "image/png": "[encoded data removed]",
      "text/plain": [
       "<Figure size 960x480 with 2 Axes>"
      ]
     },
     "metadata": {
      "needs_background": "light"
     },
     "output_type": "display_data"
    }
   ],
   "source": [
    "end_index = indexed.index.get_loc(fore_original.index[0])\n",
    "train_original = indexed[:end_index]\n",
    "plot_subplots([train_original, fore_original])"
   ]
  },
  {
   "cell_type": "code",
   "execution_count": 27,
   "id": "3712c8ba",
   "metadata": {},
   "outputs": [],
   "source": [
    "def plot_train_test_fore(train, test, fore, title='Forecast vs Actuals', ylabel='', xlabel='Date', figpath=None):\n",
    "    plt.figure(figsize=(10,5), dpi=100)\n",
    "    plt.plot(train, label='training')\n",
    "    plt.plot(test, label='actual')\n",
    "    plt.plot(fore, label='forecast')\n",
    "    fig = plt.gcf()\n",
    "    \n",
    "    plt.xlabel=xlabel\n",
    "    plt.ylabel=ylabel\n",
    "\n",
    "    plt.title(title)\n",
    "    plt.legend(loc='upper left', fontsize=8)\n",
    "    plt.show()\n",
    "    \n",
    "    \n",
    "    if figpath is not None:\n",
    "        fig.savefig(figpath, format='eps', bbox_inches='tight')"
   ]
  },
  {
   "cell_type": "code",
   "execution_count": 28,
   "id": "79e8cc9f",
   "metadata": {},
   "outputs": [
    {
     "data": {
      "image/png": "[encoded data removed]",
      "text/plain": [
       "<Figure size 1000x500 with 1 Axes>"
      ]
     },
     "metadata": {
      "needs_background": "light"
     },
     "output_type": "display_data"
    },
    {
     "name": "stderr",
     "output_type": "stream",
     "text": [
      "The PostScript backend does not support transparency; partially transparent artists will be rendered opaque.\n",
      "The PostScript backend does not support transparency; partially transparent artists will be rendered opaque.\n"
     ]
    }
   ],
   "source": [
    "# Plot of daily cases\n",
    "plot_train_test_fore(train_original.Confirmed, test_original[['undiff_Confirmed']], fore_original[['undiff_Confirmed']], title='Daily cases', figpath='../../figures/v_ar/india_cases.eps')\n"
   ]
  },
  {
   "cell_type": "code",
   "execution_count": 29,
   "id": "a71cc6e3",
   "metadata": {},
   "outputs": [
    {
     "data": {
      "image/png": "[encoded data removed]",
      "text/plain": [
       "<Figure size 1000x500 with 1 Axes>"
      ]
     },
     "metadata": {
      "needs_background": "light"
     },
     "output_type": "display_data"
    },
    {
     "name": "stderr",
     "output_type": "stream",
     "text": [
      "The PostScript backend does not support transparency; partially transparent artists will be rendered opaque.\n",
      "The PostScript backend does not support transparency; partially transparent artists will be rendered opaque.\n"
     ]
    }
   ],
   "source": [
    "# Plot of daily cases\n",
    "plot_train_test_fore(train_original.Total_Doses, test_original[['undiff_Total_Doses']], fore_original[['undiff_Total_Doses']], title='Daily cases', figpath='../../figures/v_ar/india_vacc.eps')\n"
   ]
  },
  {
   "cell_type": "markdown",
   "id": "8242ee73",
   "metadata": {},
   "source": [
    "### Plot the forecasts"
   ]
  },
  {
   "cell_type": "code",
   "execution_count": 30,
   "id": "2193a662",
   "metadata": {},
   "outputs": [],
   "source": [
    "#plot_fore_test(test_original[['undiff_Confirmed']], fore_original[['undiff_Confirmed']], title='Daily cases')"
   ]
  },
  {
   "cell_type": "code",
   "execution_count": 31,
   "id": "06e9b98d",
   "metadata": {},
   "outputs": [],
   "source": [
    "#plot_fore_test(test_original[['undiff_Total_Doses']], fore_original[['undiff_Total_Doses']], title='Daily vaccinations')"
   ]
  },
  {
   "cell_type": "code",
   "execution_count": 32,
   "id": "8cc2b023",
   "metadata": {},
   "outputs": [],
   "source": [
    "#plot_fore_test(test_original[['undiff_Total_Doses']], fore_original[['undiff_Total_Doses']], title='Daily vaccinations')"
   ]
  },
  {
   "cell_type": "markdown",
   "id": "f7b800c7",
   "metadata": {},
   "source": [
    "<a name=mape1></a>\n",
    "### MAPE"
   ]
  },
  {
   "cell_type": "code",
   "execution_count": 33,
   "id": "85648eb9",
   "metadata": {},
   "outputs": [
    {
     "name": "stdout",
     "output_type": "stream",
     "text": [
      "MAPE of Daily vaccinations is 64.48980378286639%\n",
      "MAPE of Daily cases is 24.440611111244007%\n"
     ]
    }
   ],
   "source": [
    "def MAPE(Y_actual,Y_Predicted, title):\n",
    "    mask = Y_actual != 0\n",
    "    \n",
    "    mape = np.mean(np.abs((Y_actual - Y_Predicted)/Y_actual)[mask])*100\n",
    "    print(f\"MAPE of {title} is {mape[mape.index[0]]}%\")\n",
    "    return mape[mape.index[0]]\n",
    "\n",
    "\n",
    "mape_vacc = MAPE(test_original[['undiff_Total_Doses']], fore_original[['undiff_Total_Doses']], title=\"Daily vaccinations\")\n",
    "mape_cases = MAPE(test_original[['undiff_Confirmed']], fore_original[['undiff_Confirmed']], title=\"Daily cases\")"
   ]
  },
  {
   "cell_type": "markdown",
   "id": "1834a19e",
   "metadata": {},
   "source": [
    "Clearly, a VAR model is not good enough to make predictions"
   ]
  },
  {
   "cell_type": "code",
   "execution_count": 34,
   "id": "620011a1",
   "metadata": {},
   "outputs": [
    {
     "data": {
      "text/plain": [
       "8424.078691094897"
      ]
     },
     "execution_count": 34,
     "metadata": {},
     "output_type": "execute_result"
    }
   ],
   "source": [
    "from sklearn.metrics import mean_absolute_error\n",
    "\n",
    "\n",
    "mean_absolute_error(test_original[['undiff_Confirmed']], fore_original[['undiff_Confirmed']])"
   ]
  },
  {
   "cell_type": "markdown",
   "id": "6f5f06d0",
   "metadata": {},
   "source": [
    "<a name=varma></a>\n",
    "\n",
    "## VARMA"
   ]
  },
  {
   "cell_type": "code",
   "execution_count": 35,
   "id": "4514d466",
   "metadata": {},
   "outputs": [],
   "source": [
    "from statsmodels.tsa.statespace.varmax import VARMAX\n",
    "from sklearn.metrics import mean_squared_error\n",
    "\n",
    "# evaluate an VARMA model for a given order (p,d,q)\n",
    "def evaluate_varma_model(train, test, varma_order):\n",
    "    \n",
    "    model = VARMAX(train, order=varma_order)\n",
    "    model_fit = model.fit()\n",
    "    yhat = model_fit.forecast(len(test))\n",
    "    error = mean_squared_error(test, yhat)\n",
    "    return error"
   ]
  },
  {
   "cell_type": "code",
   "execution_count": 36,
   "id": "3bc62442",
   "metadata": {},
   "outputs": [],
   "source": [
    "# Grid search\n",
    "\n",
    "\n",
    "# evaluate combinations of p and q values for an VARMA model\n",
    "def evaluate_models(train, test, p_values, q_values):\n",
    "    #dataset = dataset.astype('float32')\n",
    "    best_score, best_cfg = float(\"inf\"), None\n",
    "    \n",
    "    for p in p_values:\n",
    "        for q in q_values:\n",
    "            order = (p,q)\n",
    "            try:\n",
    "                mse = evaluate_varma_model(train, test, order)\n",
    "                if mse < best_score:\n",
    "                    best_score, best_cfg = mse, order\n",
    "                print('VARMA%s MSE=%.3f' % (order,mse))\n",
    "            except:\n",
    "                continue\n",
    "    print()\n",
    "    print('Best VARMA%s MSE=%.3f' % (best_cfg, best_score))"
   ]
  },
  {
   "cell_type": "code",
   "execution_count": 37,
   "id": "bd2f3db2",
   "metadata": {},
   "outputs": [
    {
     "name": "stdout",
     "output_type": "stream",
     "text": [
      "VARMA(1, 1) MSE=45532149019906.836\n",
      "VARMA(1, 2) MSE=45565457972346.445\n",
      "VARMA(2, 1) MSE=45532382558558.805\n",
      "VARMA(2, 2) MSE=45594790055084.695\n",
      "\n",
      "Best VARMA(1, 1) MSE=45532149019906.836\n"
     ]
    }
   ],
   "source": [
    "import warnings\n",
    "warnings.filterwarnings(\"ignore\")\n",
    "\n",
    "p_values = range(1, 3)\n",
    "q_values = range(1, 3)\n",
    "\n",
    "evaluate_models(train, test, p_values, q_values)"
   ]
  },
  {
   "cell_type": "code",
   "execution_count": 38,
   "id": "e8151f6d",
   "metadata": {},
   "outputs": [],
   "source": [
    "from statsmodels.tsa.statespace.varmax import VARMAX\n",
    "\n",
    "model = VARMAX(train, order=(1,1))\n",
    "model_fit = model.fit()\n",
    "yhat = model_fit.forecast(len(test))\n",
    "#yhat"
   ]
  },
  {
   "cell_type": "code",
   "execution_count": 39,
   "id": "b8868d8e",
   "metadata": {},
   "outputs": [
    {
     "data": {
      "image/png": "[encoded data removed]",
      "text/plain": [
       "<Figure size 864x576 with 1 Axes>"
      ]
     },
     "metadata": {
      "needs_background": "light"
     },
     "output_type": "display_data"
    }
   ],
   "source": [
    "plot_fore_test(test[['Confirmed']], yhat[['Confirmed']], title='Diffed Daily cases')"
   ]
  },
  {
   "cell_type": "code",
   "execution_count": 40,
   "id": "550dc23d",
   "metadata": {},
   "outputs": [
    {
     "data": {
      "image/png": "[encoded data removed]",
      "text/plain": [
       "<Figure size 864x576 with 1 Axes>"
      ]
     },
     "metadata": {
      "needs_background": "light"
     },
     "output_type": "display_data"
    }
   ],
   "source": [
    "plot_fore_test(test[['Total_Doses']], yhat[['Total_Doses']], title='Diffed Daily Doses')"
   ]
  },
  {
   "cell_type": "code",
   "execution_count": 41,
   "id": "c16f9640",
   "metadata": {},
   "outputs": [
    {
     "data": {
      "text/html": [
       "<div>\n",
       "<style scoped>\n",
       "    .dataframe tbody tr th:only-of-type {\n",
       "        vertical-align: middle;\n",
       "    }\n",
       "\n",
       "    .dataframe tbody tr th {\n",
       "        vertical-align: top;\n",
       "    }\n",
       "\n",
       "    .dataframe thead th {\n",
       "        text-align: right;\n",
       "    }\n",
       "</style>\n",
       "<table border=\"1\" class=\"dataframe\">\n",
       "  <thead>\n",
       "    <tr style=\"text-align: right;\">\n",
       "      <th></th>\n",
       "      <th>undiff_Confirmed</th>\n",
       "      <th>undiff_Total_Doses</th>\n",
       "    </tr>\n",
       "    <tr>\n",
       "      <th>Date</th>\n",
       "      <th></th>\n",
       "      <th></th>\n",
       "    </tr>\n",
       "  </thead>\n",
       "  <tbody>\n",
       "    <tr>\n",
       "      <th>2021-08-10</th>\n",
       "      <td>38353.000000</td>\n",
       "      <td>2.481870e+06</td>\n",
       "    </tr>\n",
       "    <tr>\n",
       "      <th>2021-08-11</th>\n",
       "      <td>25164.275224</td>\n",
       "      <td>8.012873e+06</td>\n",
       "    </tr>\n",
       "    <tr>\n",
       "      <th>2021-08-12</th>\n",
       "      <td>29198.575061</td>\n",
       "      <td>6.953864e+06</td>\n",
       "    </tr>\n",
       "    <tr>\n",
       "      <th>2021-08-13</th>\n",
       "      <td>28053.468507</td>\n",
       "      <td>7.145001e+06</td>\n",
       "    </tr>\n",
       "    <tr>\n",
       "      <th>2021-08-14</th>\n",
       "      <td>28503.041010</td>\n",
       "      <td>7.125721e+06</td>\n",
       "    </tr>\n",
       "    <tr>\n",
       "      <th>...</th>\n",
       "      <td>...</td>\n",
       "      <td>...</td>\n",
       "    </tr>\n",
       "    <tr>\n",
       "      <th>2021-10-08</th>\n",
       "      <td>32261.373361</td>\n",
       "      <td>7.439779e+06</td>\n",
       "    </tr>\n",
       "    <tr>\n",
       "      <th>2021-10-09</th>\n",
       "      <td>32331.363753</td>\n",
       "      <td>7.445465e+06</td>\n",
       "    </tr>\n",
       "    <tr>\n",
       "      <th>2021-10-10</th>\n",
       "      <td>32401.354146</td>\n",
       "      <td>7.451151e+06</td>\n",
       "    </tr>\n",
       "    <tr>\n",
       "      <th>2021-10-11</th>\n",
       "      <td>32471.344538</td>\n",
       "      <td>7.456838e+06</td>\n",
       "    </tr>\n",
       "    <tr>\n",
       "      <th>2021-10-12</th>\n",
       "      <td>32541.334931</td>\n",
       "      <td>7.462524e+06</td>\n",
       "    </tr>\n",
       "  </tbody>\n",
       "</table>\n",
       "<p>64 rows × 2 columns</p>\n",
       "</div>"
      ],
      "text/plain": [
       "            undiff_Confirmed  undiff_Total_Doses\n",
       "Date                                            \n",
       "2021-08-10      38353.000000        2.481870e+06\n",
       "2021-08-11      25164.275224        8.012873e+06\n",
       "2021-08-12      29198.575061        6.953864e+06\n",
       "2021-08-13      28053.468507        7.145001e+06\n",
       "2021-08-14      28503.041010        7.125721e+06\n",
       "...                      ...                 ...\n",
       "2021-10-08      32261.373361        7.439779e+06\n",
       "2021-10-09      32331.363753        7.445465e+06\n",
       "2021-10-10      32401.354146        7.451151e+06\n",
       "2021-10-11      32471.344538        7.456838e+06\n",
       "2021-10-12      32541.334931        7.462524e+06\n",
       "\n",
       "[64 rows x 2 columns]"
      ]
     },
     "execution_count": 41,
     "metadata": {},
     "output_type": "execute_result"
    }
   ],
   "source": [
    "\n",
    "# Un-diff the test dataset\n",
    "\n",
    "fore_original_3 = invert_transformation(yhat, indexed.iloc[start_index:])\n",
    "fore_original_3"
   ]
  },
  {
   "cell_type": "code",
   "execution_count": 42,
   "id": "64370946",
   "metadata": {},
   "outputs": [],
   "source": [
    "#plot_fore_test(test_original[['undiff_Confirmed']], fore_original_3[['undiff_Confirmed']], title='Daily cases')"
   ]
  },
  {
   "cell_type": "code",
   "execution_count": 43,
   "id": "a0708a89",
   "metadata": {},
   "outputs": [],
   "source": [
    "#plot_fore_test(test_original[['undiff_Total_Doses']], fore_original_3[['undiff_Total_Doses']], title='Daily Doses')"
   ]
  },
  {
   "cell_type": "code",
   "execution_count": 44,
   "id": "f375649b",
   "metadata": {},
   "outputs": [],
   "source": [
    "#plot_subplots([train_original, fore_original_3])"
   ]
  },
  {
   "cell_type": "code",
   "execution_count": 45,
   "id": "a498e0a6",
   "metadata": {},
   "outputs": [],
   "source": [
    "# Plot of daily cases\n",
    "#plot_train_test_fore(train_original.Confirmed, test_original[['undiff_Confirmed']], fore_original_3[['undiff_Confirmed']], title='Daily cases', figpath='../../figures/varma/india_cases.eps')\n",
    "\n",
    "\n"
   ]
  },
  {
   "cell_type": "code",
   "execution_count": 46,
   "id": "1a3cd659",
   "metadata": {},
   "outputs": [],
   "source": [
    "# Plot of daily cases\n",
    "#plot_train_test_fore(train_original.Total_Doses, test_original[['undiff_Total_Doses']], fore_original_3[['undiff_Total_Doses']], title='Daily cases', figpath='../../figures/varma/india_vacc.eps')"
   ]
  },
  {
   "cell_type": "code",
   "execution_count": 47,
   "id": "3d389a72",
   "metadata": {
    "scrolled": true
   },
   "outputs": [
    {
     "name": "stdout",
     "output_type": "stream",
     "text": [
      "predicted = [[ -13188.72477621 5531003.08061166]]  ; actual = [2.8420000e+03 1.3774587e+07]\n",
      "predicted = [[ 7.12030427e+03 -7.70333660e+06]]  ; actual = [-1.075000e+03 -4.317811e+06]\n",
      "predicted = [[    3792.27436403 -1075060.40343518]]  ; actual = [  -1453. 1274794.]\n",
      "predicted = [[    3843.84526716 -1706157.93278592]]  ; actual = [  -2584. 2099538.]\n",
      "predicted = [[    5804.12832299 -2295320.56792619]]  ; actual = [-3.1460000e+03 -1.1221076e+07]\n",
      "predicted = [[  -9705.56433222 7432441.59919331]]  ; actual = [-7.771000e+03  1.318665e+07]\n",
      "predicted = [[   10266.78819475 -6223787.81848926]]  ; actual = [   10012. -4974846.]\n",
      "predicted = [[ -2713.63573629 141348.35867147]]  ; actual = [   1223. -650398.]\n",
      "predicted = [[ -1586.25668508 669167.55102309]]  ; actual = [   170. -20568.]\n",
      "predicted = [[ -1074.20101526 527036.93104892]]  ; actual = [-2.114000e+03 -4.156612e+06]\n",
      "predicted = [[-3.25229885e+03  3.93469855e+06]]  ; actual = [  -3509. 3489436.]\n",
      "predicted = [[   1009.91782582 -215829.7687848 ]]  ; actual = [-5.876000e+03 -8.798948e+06]\n",
      "predicted = [[-6.64326987e+03  7.22553999e+06]]  ; actual = [3.950000e+02 1.067959e+07]\n",
      "predicted = [[ 3.12725642e+03 -4.68930832e+06]]  ; actual = [ 12126. 187512.]\n",
      "predicted = [[-1.16410963e+03 -3.02021118e+06]]  ; actual = [   8571. 3584414.]\n",
      "predicted = [[ 2.82686488e+03 -4.68567049e+06]]  ; actual = [ -1506. 146516.]\n",
      "predicted = [[    6448.56634583 -2840840.67556924]]  ; actual = [2.10100e+03 4.72974e+06]\n",
      "predicted = [[    7898.65936753 -4432034.79055379]]  ; actual = [-1.67600e+03 -5.81419e+06]\n",
      "predicted = [[-6.99403181e+02  2.65254280e+06]]  ; actual = [-2.174000e+03 -8.397984e+06]\n",
      "predicted = [[  -9126.87870683 7628415.33398443]]  ; actual = [ -11968. 4757162.]\n",
      "predicted = [[   4135.69360526 1186992.12816566]]  ; actual = [1.1024000e+04 1.5114522e+07]\n",
      "predicted = [[    12483.5987415 -11328429.6422506]]  ; actual = [ 5.12700e+03 -9.12362e+06]\n",
      "predicted = [[ 4.71282219e+02 -1.04918088e+06]]  ; actual = [-1.740000e+03 -2.325216e+06]\n",
      "predicted = [[-5.14187972e+02  7.63000474e+05]]  ; actual = [-2.73400e+03 -2.95308e+06]\n",
      "predicted = [[-2.38238727e+03  2.66831679e+06]]  ; actual = [1.480000e+02 2.184776e+06]\n",
      "predicted = [[-2.24647221e+02  6.10068722e+05]]  ; actual = [-3.818000e+03 -9.111284e+06]\n",
      "predicted = [[-6.57361437e+03  7.67909992e+06]]  ; actual = [-7.7260000e+03  1.7052516e+07]\n",
      "predicted = [[   16384.70344581 -7881117.46800288]]  ; actual = [    6653. -5783888.]\n",
      "predicted = [[    1621.14118436 -1184554.87047774]]  ; actual = [  5388. 879482.]\n",
      "predicted = [[-7.20970226e+02 -1.48207210e+06]]  ; actual = [   -8290. -3397478.]\n",
      "predicted = [[6.53117907e+02 1.79185635e+06]]  ; actual = [  -1597. -929978.]\n",
      "predicted = [[-7.01897329e+02  2.12807965e+06]]  ; actual = [  -4785. 1595978.]\n",
      "predicted = [[  2812.88635424 341112.11240743]]  ; actual = [-1.337000e+03 -3.965792e+06]\n",
      "predicted = [[-2.27871713e+03  3.57013895e+06]]  ; actual = [-1.850000e+03  5.498624e+06]\n",
      "predicted = [[    4774.75943002 -1822020.1010731 ]]  ; actual = [ 1.772000e+03 -3.429796e+06]\n",
      "predicted = [[  -2478.76346516 1395139.54706179]]  ; actual = [  3394. 272818.]\n",
      "predicted = [[ -2905.13058702 909109.21492688]]  ; actual = [   3833. -114022.]\n",
      "predicted = [[ -2276.04332073 763833.2095626 ]]  ; actual = [1.25900e+03 3.98087e+07]\n",
      "predicted = [[    33825.33010007 -33019140.16929852]]  ; actual = [-4.8890000e+03 -4.2691326e+07]\n",
      "predicted = [[-4.22632109e+03  9.41281840e+06]]  ; actual = [-5.17000e+02 -2.42049e+06]\n",
      "predicted = [[-4.68327600e+03  9.27948006e+06]]  ; actual = [-4.1410000e+03  1.1823576e+07]\n",
      "predicted = [[    5789.81342184 -1806747.95710131]]  ; actual = [ 8.490000e+02 -3.869214e+06]\n",
      "predicted = [[-7.95046929e+02  1.42403088e+06]]  ; actual = [    4959. -1174168.]\n",
      "predicted = [[4.48193501e+02 2.21638808e+06]]  ; actual = [ -541. 90096.]\n",
      "predicted = [[   4399.23822242 1670793.86945866]]  ; actual = [  -1766. -215026.]\n",
      "predicted = [[  -1856.95288175 1183226.38903361]]  ; actual = [  -1290. -540226.]\n",
      "predicted = [[   2261.32350987 1618838.59209863]]  ; actual = [-2.285000e+03 -6.123708e+06]\n",
      "predicted = [[-4.34241641e+02  7.10771055e+06]]  ; actual = [-7.2460000e+03  1.2839048e+07]\n",
      "predicted = [[   14786.99344475 -6096888.83297051]]  ; actual = [ 7.500000e+01 -9.036632e+06]\n",
      "predicted = [[-7.82711537e+02  3.24284108e+06]]  ; actual = [   4659. 1628578.]\n",
      "predicted = [[  -2964.81770649 1904737.08263284]]  ; actual = [   3198. -142250.]\n",
      "predicted = [[  1113.01786721 859351.22392464]]  ; actual = [ -2373. 955442.]\n",
      "predicted = [[7.19180609e+02 8.62304943e+05]]  ; actual = [ -1512. 906716.]\n",
      "predicted = [[   1981.85868892 -929815.17319792]]  ; actual = [-2.043000e+03 -9.650264e+06]\n",
      "predicted = [[-2.29224559e+03  7.64613418e+06]]  ; actual = [-2.453000e+03  9.205398e+06]\n",
      "predicted = [[    5044.21379882 -3396837.77242958]]  ; actual = [ 4.870000e+02 -2.154038e+06]\n",
      "predicted = [[-5.15428121e+02  7.29681698e+05]]  ; actual = [ 3.59800e+03 -3.60671e+06]\n",
      "predicted = [[-4.03847366e+03  4.52297945e+06]]  ; actual = [-1.174000e+03  1.648856e+06]\n",
      "predicted = [[   788.80592399 376245.53052433]]  ; actual = [-1.517000e+03  5.513592e+06]\n",
      "predicted = [[    4369.06587595 -4239213.85737111]]  ; actual = [-1.574000e+03 -2.077672e+06]\n",
      "predicted = [[-8.77586128e+02 -1.10309404e+06]]  ; actual = [-3.400000e+01 -4.241524e+06]\n",
      "predicted = [[  -2946.11281136 2479561.10496107]]  ; actual = [-3.819000e+03  3.956092e+06]\n",
      "predicted = [[    2602.44306724 -1410794.77144004]]  ; actual = [ 1.510000e+03 -2.939348e+06]\n"
     ]
    }
   ],
   "source": [
    "history = train.copy()\n",
    "predicted = test.copy()\n",
    "\n",
    "for t in range(len(test)):\n",
    "    model = VARMAX(history, order=(1,1))\n",
    "    model_fit = model.fit()\n",
    "    yhat = model_fit.forecast()\n",
    "    \n",
    "    \n",
    "    newindex = history.index[-1] + pd.to_timedelta(1, 'D')\n",
    "    \n",
    "    predicted.loc[newindex]['Confirmed'] = yhat['Confirmed']\n",
    "    predicted.loc[newindex]['Total_Doses'] = yhat['Total_Doses']\n",
    "    \n",
    "    history = history.append(test.iloc[t])\n",
    "#     history[newindex]['Total_Doses'] = test.iloc[t]['Total_Doses']\n",
    "    \n",
    "    print('predicted =', yhat.values, ' ; actual =', test.iloc[t].values)"
   ]
  },
  {
   "cell_type": "code",
   "execution_count": 48,
   "id": "bede722d",
   "metadata": {},
   "outputs": [],
   "source": [
    "fore_original_4 = invert_transformation(predicted, indexed.iloc[start_index:])"
   ]
  },
  {
   "cell_type": "code",
   "execution_count": 49,
   "id": "917a53af",
   "metadata": {},
   "outputs": [
    {
     "data": {
      "text/html": [
       "<div>\n",
       "<style scoped>\n",
       "    .dataframe tbody tr th:only-of-type {\n",
       "        vertical-align: middle;\n",
       "    }\n",
       "\n",
       "    .dataframe tbody tr th {\n",
       "        vertical-align: top;\n",
       "    }\n",
       "\n",
       "    .dataframe thead th {\n",
       "        text-align: right;\n",
       "    }\n",
       "</style>\n",
       "<table border=\"1\" class=\"dataframe\">\n",
       "  <thead>\n",
       "    <tr style=\"text-align: right;\">\n",
       "      <th></th>\n",
       "      <th>undiff_Confirmed</th>\n",
       "      <th>undiff_Total_Doses</th>\n",
       "    </tr>\n",
       "    <tr>\n",
       "      <th>Date</th>\n",
       "      <th></th>\n",
       "      <th></th>\n",
       "    </tr>\n",
       "  </thead>\n",
       "  <tbody>\n",
       "    <tr>\n",
       "      <th>2021-08-10</th>\n",
       "      <td>38353.000000</td>\n",
       "      <td>2.481870e+06</td>\n",
       "    </tr>\n",
       "    <tr>\n",
       "      <th>2021-08-11</th>\n",
       "      <td>25164.275224</td>\n",
       "      <td>8.012873e+06</td>\n",
       "    </tr>\n",
       "    <tr>\n",
       "      <th>2021-08-12</th>\n",
       "      <td>32284.579496</td>\n",
       "      <td>3.095365e+05</td>\n",
       "    </tr>\n",
       "    <tr>\n",
       "      <th>2021-08-13</th>\n",
       "      <td>36076.853860</td>\n",
       "      <td>-7.655239e+05</td>\n",
       "    </tr>\n",
       "    <tr>\n",
       "      <th>2021-08-14</th>\n",
       "      <td>39920.699128</td>\n",
       "      <td>-2.471682e+06</td>\n",
       "    </tr>\n",
       "    <tr>\n",
       "      <th>...</th>\n",
       "      <td>...</td>\n",
       "      <td>...</td>\n",
       "    </tr>\n",
       "    <tr>\n",
       "      <th>2021-10-08</th>\n",
       "      <td>112186.540400</td>\n",
       "      <td>7.204010e+06</td>\n",
       "    </tr>\n",
       "    <tr>\n",
       "      <th>2021-10-09</th>\n",
       "      <td>116555.606276</td>\n",
       "      <td>2.964796e+06</td>\n",
       "    </tr>\n",
       "    <tr>\n",
       "      <th>2021-10-10</th>\n",
       "      <td>115678.020148</td>\n",
       "      <td>1.861702e+06</td>\n",
       "    </tr>\n",
       "    <tr>\n",
       "      <th>2021-10-11</th>\n",
       "      <td>112731.907337</td>\n",
       "      <td>4.341263e+06</td>\n",
       "    </tr>\n",
       "    <tr>\n",
       "      <th>2021-10-12</th>\n",
       "      <td>115334.350404</td>\n",
       "      <td>2.930468e+06</td>\n",
       "    </tr>\n",
       "  </tbody>\n",
       "</table>\n",
       "<p>64 rows × 2 columns</p>\n",
       "</div>"
      ],
      "text/plain": [
       "            undiff_Confirmed  undiff_Total_Doses\n",
       "Date                                            \n",
       "2021-08-10      38353.000000        2.481870e+06\n",
       "2021-08-11      25164.275224        8.012873e+06\n",
       "2021-08-12      32284.579496        3.095365e+05\n",
       "2021-08-13      36076.853860       -7.655239e+05\n",
       "2021-08-14      39920.699128       -2.471682e+06\n",
       "...                      ...                 ...\n",
       "2021-10-08     112186.540400        7.204010e+06\n",
       "2021-10-09     116555.606276        2.964796e+06\n",
       "2021-10-10     115678.020148        1.861702e+06\n",
       "2021-10-11     112731.907337        4.341263e+06\n",
       "2021-10-12     115334.350404        2.930468e+06\n",
       "\n",
       "[64 rows x 2 columns]"
      ]
     },
     "execution_count": 49,
     "metadata": {},
     "output_type": "execute_result"
    }
   ],
   "source": [
    "fore_original_4"
   ]
  },
  {
   "cell_type": "code",
   "execution_count": 50,
   "id": "c4e23de1",
   "metadata": {},
   "outputs": [
    {
     "data": {
      "image/png": "[encoded data removed]",
      "text/plain": [
       "<Figure size 1000x500 with 1 Axes>"
      ]
     },
     "metadata": {
      "needs_background": "light"
     },
     "output_type": "display_data"
    },
    {
     "name": "stderr",
     "output_type": "stream",
     "text": [
      "The PostScript backend does not support transparency; partially transparent artists will be rendered opaque.\n",
      "The PostScript backend does not support transparency; partially transparent artists will be rendered opaque.\n"
     ]
    }
   ],
   "source": [
    "plot_train_test_fore(train_original.Confirmed, test_original[['undiff_Confirmed']], fore_original_4[['undiff_Confirmed']], title='Daily cases', figpath='../../figures/varma/india_cases.eps')\n",
    "\n",
    "\n"
   ]
  },
  {
   "cell_type": "code",
   "execution_count": 51,
   "id": "fdf857e1",
   "metadata": {},
   "outputs": [
    {
     "name": "stdout",
     "output_type": "stream",
     "text": [
      "MAPE of Daily cases is 179.43442052252288%\n"
     ]
    }
   ],
   "source": [
    "mape_cases = MAPE(test_original[['undiff_Confirmed']], fore_original_4[['undiff_Confirmed']], title=\"Daily cases\")\n",
    "\n"
   ]
  },
  {
   "cell_type": "code",
   "execution_count": 52,
   "id": "990e2bec",
   "metadata": {},
   "outputs": [
    {
     "data": {
      "text/plain": [
       "42059.5738236295"
      ]
     },
     "execution_count": 52,
     "metadata": {},
     "output_type": "execute_result"
    }
   ],
   "source": [
    "mean_absolute_error(test_original[['undiff_Confirmed']], fore_original_4[['undiff_Confirmed']])"
   ]
  },
  {
   "cell_type": "code",
   "execution_count": null,
   "id": "c0ccb4c6",
   "metadata": {},
   "outputs": [],
   "source": []
  }
 ],
 "metadata": {
  "kernelspec": {
   "display_name": "Python 3",
   "language": "python",
   "name": "python3"
  },
  "language_info": {
   "codemirror_mode": {
    "name": "ipython",
    "version": 3
   },
   "file_extension": ".py",
   "mimetype": "text/x-python",
   "name": "python",
   "nbconvert_exporter": "python",
   "pygments_lexer": "ipython3",
   "version": "3.7.3"
  }
 },
 "nbformat": 4,
 "nbformat_minor": 5
}
