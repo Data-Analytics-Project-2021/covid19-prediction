{
 "cells": [
  {
   "cell_type": "markdown",
   "metadata": {},
   "source": [
    "# VAR India\n",
    "\n",
    "Vector auto-regressive models"
   ]
  },
  {
   "cell_type": "markdown",
   "metadata": {},
   "source": [
    "1. [Imports](#imports)\n",
    "2. [Ingestion](#ingestion)\n",
    "3. [Plotting](#plotting)\n",
    "4. [Statistical tests](#stattests1)\n",
    "5. [Differencing](#diff)\n",
    "\n",
    "\n",
    "### First-Order Differencing\n",
    "1. [Train test split - first order differencing](#traintest1)\n",
    "2. [Find order p of VAR](#var_p_1)\n",
    "3. [VAR(13) Model](#var13_1)\n",
    "4. [Plots of first differenced predictions](#diff1_plot)\n",
    "5. [Undifferencing and predicting](#undiff_1)\n",
    "6. [MAPE](#mape1)\n",
    "\n",
    "### Second-Order Differencing\n",
    "1. [Train test split - second order differencing](#traintest2)\n",
    "2. [Find order p or VAR](#var_p_2)\n",
    "3. [VAR(13) Model](#var13_2)\n",
    "4. [Plots of second differenced predictions](#diff2_plot)\n",
    "5. [Plots of first order differenced predictions](#diff21_plot)\n",
    "6. [Plots of undifferenced predictions](#undiff_2)\n",
    "\n",
    "### VARMA\n",
    "1. [VARMA](#varma)"
   ]
  },
  {
   "cell_type": "markdown",
   "metadata": {},
   "source": [
    "<a name=imports></a>\n",
    "## Imports"
   ]
  },
  {
   "cell_type": "code",
   "execution_count": null,
   "metadata": {},
   "outputs": [],
   "source": [
    "import pandas as pd\n",
    "import numpy as np\n",
    "import matplotlib.pyplot as plt"
   ]
  },
  {
   "cell_type": "markdown",
   "metadata": {},
   "source": [
    "<a name=ingestion></a>\n",
    "## Ingestion"
   ]
  },
  {
   "cell_type": "code",
   "execution_count": null,
   "metadata": {},
   "outputs": [],
   "source": [
    "daily_cases_india = pd.read_csv('../../cleaned_datasets/india/daily_cases_india.csv', parse_dates=['Date'], index_col=0)\n",
    "daily_vacc_india = pd.read_csv('../../cleaned_datasets/india/daily_vacc_india.csv', parse_dates=['Updated On'])"
   ]
  },
  {
   "cell_type": "code",
   "execution_count": null,
   "metadata": {},
   "outputs": [],
   "source": [
    "daily_cases_india.dtypes"
   ]
  },
  {
   "cell_type": "code",
   "execution_count": null,
   "metadata": {},
   "outputs": [],
   "source": [
    "daily_cases_india"
   ]
  },
  {
   "cell_type": "code",
   "execution_count": null,
   "metadata": {},
   "outputs": [],
   "source": [
    "daily_vacc_india.dtypes"
   ]
  },
  {
   "cell_type": "code",
   "execution_count": null,
   "metadata": {},
   "outputs": [],
   "source": [
    "daily_vacc_india"
   ]
  },
  {
   "cell_type": "code",
   "execution_count": null,
   "metadata": {},
   "outputs": [],
   "source": [
    "cases_vacc = daily_cases_india.merge(daily_vacc_india, how='outer', left_on='Date', right_on='Updated On')\n",
    "cases_vacc = cases_vacc[[\"Date\", \"Confirmed\", \"Total_Doses\"]]\n",
    "cases_vacc"
   ]
  },
  {
   "cell_type": "code",
   "execution_count": null,
   "metadata": {},
   "outputs": [],
   "source": [
    "cases_vacc.fillna(0, inplace=True)\n",
    "indexed = cases_vacc.set_index('Date')\n",
    "indexed"
   ]
  },
  {
   "cell_type": "markdown",
   "metadata": {},
   "source": [
    "<a name=plotting></a>\n",
    "## Plot initial data"
   ]
  },
  {
   "cell_type": "code",
   "execution_count": null,
   "metadata": {},
   "outputs": [],
   "source": [
    "def plot_subplots(indexed):\n",
    "    \n",
    "    if type(indexed) == pd.DataFrame:\n",
    "        nrows = int(len(indexed.columns)/2)\n",
    "    else:\n",
    "        nrows = 1\n",
    "        \n",
    "    fig, axes = plt.subplots(nrows=nrows, ncols=2, dpi=120, figsize=(8,4))\n",
    "    for i, ax in enumerate(axes.flatten()):\n",
    "        \n",
    "        if type(indexed) == list:\n",
    "            # fig, ax = plt.subplots()\n",
    "            # fig.set_size_inches(8, 8)\n",
    "\n",
    "            ax.plot(indexed[0][indexed[0].columns[i]], color='blue', label = 'Train')\n",
    "            ax.plot(indexed[1][indexed[1].columns[i]], color='red', label = 'Test')\n",
    "            ax.legend(loc = 'best')\n",
    "            # Decorations\n",
    "            ax.set_title(indexed[0].columns[i])\n",
    "        else:    \n",
    "            data = indexed[indexed.columns[i]]\n",
    "            ax.plot(data, color='blue', linewidth=1)\n",
    "            # Decorations\n",
    "            ax.set_title(indexed.columns[i])\n",
    "        ax.xaxis.set_ticks_position('none')\n",
    "        ax.yaxis.set_ticks_position('none')\n",
    "        ax.spines[\"top\"].set_alpha(0)\n",
    "        ax.tick_params(labelsize=6)\n",
    "    \n",
    "    plt.tight_layout()\n",
    "    \n",
    "plot_subplots(indexed)"
   ]
  },
  {
   "cell_type": "markdown",
   "metadata": {},
   "source": [
    "<a name=stattests1></a>\n",
    "## Statistical tests"
   ]
  },
  {
   "cell_type": "markdown",
   "metadata": {},
   "source": [
    "### Johansen co-integration test"
   ]
  },
  {
   "cell_type": "code",
   "execution_count": null,
   "metadata": {},
   "outputs": [],
   "source": [
    "from statsmodels.tsa.vector_ar.vecm import coint_johansen\n",
    "\n",
    "def cointegration_test(df, alpha=0.05): \n",
    "    \"\"\"Perform Johanson's Cointegration Test and Report Summary\"\"\"\n",
    "    out = coint_johansen(df,-1,5)\n",
    "    d = {'0.90':0, '0.95':1, '0.99':2}\n",
    "    traces = out.lr1\n",
    "    cvts = out.cvt[:, d[str(1-alpha)]]\n",
    "    def adjust(val, length= 6): return str(val).ljust(length)\n",
    "\n",
    "    # Summary\n",
    "    print('Name   ::  Test Stat > C(95%)    =>   Signif  \\n', '--'*20)\n",
    "    for col, trace, cvt in zip(df.columns, traces, cvts):\n",
    "        print(adjust(col), ':: ', adjust(round(trace,2), 9), \">\", adjust(cvt, 8), ' =>  ' , trace > cvt)\n",
    "\n",
    "cointegration_test(indexed)"
   ]
  },
  {
   "cell_type": "markdown",
   "metadata": {},
   "source": [
    "### Augmented DF Test"
   ]
  },
  {
   "cell_type": "code",
   "execution_count": null,
   "metadata": {},
   "outputs": [],
   "source": [
    "from statsmodels.tsa.stattools import adfuller\n",
    "\n",
    "def run_dicky_fuller(ts):\n",
    "  '''Function to run Augmented Dicky Fuller test on the passed time series and report the statistics from the test'''\n",
    "  print(\"Observations of Dickey-fuller test\")\n",
    "  dftest = adfuller(ts,autolag='AIC')\n",
    "  dfoutput=pd.Series(dftest[0:4],index=['Test Statistic','p-value','#lags used','number of observations used'])\n",
    "\n",
    "  for key,value in dftest[4].items():\n",
    "      dfoutput['critical value (%s)'%key]= value\n",
    "  print(dfoutput)\n",
    "\n",
    "\n",
    "# ADF Test on each column\n",
    "for name, column in indexed.iteritems():\n",
    "    run_dicky_fuller(column)\n",
    "    print('\\n')"
   ]
  },
  {
   "cell_type": "markdown",
   "metadata": {},
   "source": [
    "The TS is not stationary"
   ]
  },
  {
   "cell_type": "markdown",
   "metadata": {},
   "source": [
    "<a name=diff></a>\n",
    "## Differencing"
   ]
  },
  {
   "cell_type": "markdown",
   "metadata": {},
   "source": [
    "## First order differencing"
   ]
  },
  {
   "cell_type": "code",
   "execution_count": null,
   "metadata": {},
   "outputs": [],
   "source": [
    "df_diff_1 = indexed.diff().dropna()\n",
    "df_diff_1"
   ]
  },
  {
   "cell_type": "code",
   "execution_count": null,
   "metadata": {},
   "outputs": [],
   "source": [
    "# ADF Test on each column\n",
    "for name, column in df_diff_1.iteritems():\n",
    "    run_dicky_fuller(column)\n",
    "    print('\\n')"
   ]
  },
  {
   "cell_type": "code",
   "execution_count": null,
   "metadata": {},
   "outputs": [],
   "source": [
    "plot_subplots(df_diff_1)"
   ]
  },
  {
   "cell_type": "markdown",
   "metadata": {},
   "source": [
    "Even though the data seems to be stationary, there are 2 small sinusoids corresponding with the two waves of cases. Therefore, 2nd order differencing might be required."
   ]
  },
  {
   "cell_type": "markdown",
   "metadata": {},
   "source": [
    "## Second-order differencing"
   ]
  },
  {
   "cell_type": "code",
   "execution_count": null,
   "metadata": {},
   "outputs": [],
   "source": [
    "df_diff_2 = df_diff_1.diff().dropna()\n",
    "df_diff_2"
   ]
  },
  {
   "cell_type": "markdown",
   "metadata": {},
   "source": [
    "<a name=traintest1></a>\n",
    "## Train-test split"
   ]
  },
  {
   "cell_type": "markdown",
   "metadata": {},
   "source": [
    "### Train-test split - first order differenced"
   ]
  },
  {
   "cell_type": "code",
   "execution_count": null,
   "metadata": {},
   "outputs": [],
   "source": [
    "percent_90 = int(len(df_diff_1)*0.9)\n",
    "\n",
    "train = df_diff_1.iloc[:percent_90].dropna()\n",
    "test = df_diff_1.iloc[percent_90:]\n",
    "\n",
    "plot_subplots([train, test])"
   ]
  },
  {
   "cell_type": "markdown",
   "metadata": {},
   "source": [
    "<a name=var_p_1></a>\n",
    "### Finding the best value of p for VAR(p)\n",
    "\n",
    "Using AIC, BIC, FPE, HQIC"
   ]
  },
  {
   "cell_type": "code",
   "execution_count": null,
   "metadata": {},
   "outputs": [],
   "source": [
    "from statsmodels.tsa.vector_ar.var_model import VAR\n",
    "\n",
    "model = VAR(train)\n",
    "\n",
    "x = model.select_order(maxlags=25)\n",
    "x.summary()"
   ]
  },
  {
   "cell_type": "markdown",
   "metadata": {},
   "source": [
    "At p = 13 the value of BIC and HQIC are at their local minima"
   ]
  },
  {
   "cell_type": "markdown",
   "metadata": {},
   "source": [
    "<a name=var13_1></a>\n",
    "### VAR(13) Model"
   ]
  },
  {
   "cell_type": "code",
   "execution_count": null,
   "metadata": {},
   "outputs": [],
   "source": [
    "model_fitted = model.fit(13)\n",
    "model_fitted.summary()"
   ]
  },
  {
   "cell_type": "code",
   "execution_count": null,
   "metadata": {},
   "outputs": [],
   "source": [
    "forecast_input = test.values\n",
    "\n",
    "\n",
    "forecast_input\n",
    "# Forecast\n",
    "fc = model_fitted.forecast(y=forecast_input, steps=len(forecast_input))\n",
    "\n",
    "\n",
    "df_forecast = pd.DataFrame(fc, index=test.index, columns=test.columns + '_forecast')\n",
    "\n",
    "forecasted_conf = df_forecast.join(test)[['Confirmed', 'Confirmed_forecast']]\n",
    "forecasted_vacc = df_forecast.join(test)[['Total_Doses', 'Total_Doses_forecast']]"
   ]
  },
  {
   "cell_type": "markdown",
   "metadata": {},
   "source": [
    "<a name=diff1_plot></a>\n",
    "### Plot Predictions on Diffed"
   ]
  },
  {
   "cell_type": "code",
   "execution_count": null,
   "metadata": {},
   "outputs": [],
   "source": [
    "def plot_fore_test(test, fore, title):\n",
    "    \n",
    "    fig, ax = plt.subplots()\n",
    "    fig.set_size_inches(7, 7)\n",
    "\n",
    "    ax.plot(test, color='blue', label='Test')\n",
    "    ax.plot(fore, color='red', label='Forecast')\n",
    "    ax.legend(loc='best')\n",
    "    plt.title(title)\n",
    "    plt.show()\n"
   ]
  },
  {
   "cell_type": "code",
   "execution_count": null,
   "metadata": {},
   "outputs": [],
   "source": [
    "plot_fore_test(forecasted_conf[['Confirmed']], forecasted_conf[['Confirmed_forecast']], title='Daily cases')"
   ]
  },
  {
   "cell_type": "code",
   "execution_count": null,
   "metadata": {},
   "outputs": [],
   "source": [
    "plot_fore_test(forecasted_vacc[['Total_Doses']], forecasted_vacc[['Total_Doses_forecast']], title='Daily vaccinations')"
   ]
  },
  {
   "cell_type": "markdown",
   "metadata": {},
   "source": [
    "<a name=undiff_1></a>\n",
    "\n",
    "## Un-differencing and Plotting"
   ]
  },
  {
   "cell_type": "code",
   "execution_count": null,
   "metadata": {},
   "outputs": [],
   "source": [
    "def invert_transformation(diffed, original):\n",
    "    \"\"\"Revert back the differencing to get the forecast to original scale.\"\"\"\n",
    "    df_copy = original.copy()\n",
    "    \n",
    "    columns = diffed.columns\n",
    "    \n",
    "    for col in columns:\n",
    "        # Add corresponding diff column\n",
    "        df_copy[f'undiff_{col}'] = original[col]\n",
    "        df_copy[f'undiff_{col}'][1:] = diffed[col]\n",
    "        df_copy[f'undiff_{col}'] = df_copy[f'undiff_{col}'].cumsum()\n",
    "    \n",
    "        df_copy.drop(col, axis=1, inplace=True)\n",
    "        \n",
    "    return df_copy"
   ]
  },
  {
   "cell_type": "code",
   "execution_count": null,
   "metadata": {},
   "outputs": [],
   "source": [
    "# Check if un-diffed df_diff_1 is the same as original\n",
    "\n",
    "#inverted = invert_transformation(df_diff_1, indexed)\n",
    "#(inverted[['undiff_Confirmed']] - indexed[['Confirmed']]).isna().sum()"
   ]
  },
  {
   "cell_type": "code",
   "execution_count": null,
   "metadata": {},
   "outputs": [],
   "source": [
    "# Un-diff the test dataset\n",
    "\n",
    "start_index = indexed.index.get_loc(test.index[0])-1\n",
    "test_original = invert_transformation(test, indexed.iloc[start_index:])\n",
    "\n",
    "#test_original"
   ]
  },
  {
   "cell_type": "code",
   "execution_count": null,
   "metadata": {},
   "outputs": [],
   "source": [
    "renamed_df = df_forecast.rename(columns={'Confirmed_forecast': 'Confirmed', 'Total_Doses_forecast': 'Total_Doses'}, inplace=False)\n",
    "\n",
    "\n",
    "start_index = indexed.index.get_loc(renamed_df.index[0])-1\n",
    "fore_original = invert_transformation(renamed_df, indexed.iloc[start_index:])\n",
    "\n",
    "#fore_original"
   ]
  },
  {
   "cell_type": "code",
   "execution_count": null,
   "metadata": {},
   "outputs": [],
   "source": [
    "end_index = indexed.index.get_loc(fore_original.index[0])\n",
    "train_original = indexed[:end_index]\n",
    "plot_subplots([train_original, fore_original])"
   ]
  },
  {
   "cell_type": "markdown",
   "metadata": {},
   "source": [
    "### Plot the forecasts"
   ]
  },
  {
   "cell_type": "code",
   "execution_count": null,
   "metadata": {},
   "outputs": [],
   "source": [
    "plot_fore_test(test_original[['undiff_Confirmed']], fore_original[['undiff_Confirmed']], title='Daily cases')"
   ]
  },
  {
   "cell_type": "code",
   "execution_count": null,
   "metadata": {},
   "outputs": [],
   "source": [
    "plot_fore_test(test_original[['undiff_Total_Doses']], fore_original[['undiff_Total_Doses']], title='Daily vaccinations')"
   ]
  },
  {
   "cell_type": "markdown",
   "metadata": {},
   "source": [
    "<a name=mape1></a>\n",
    "### MAPE"
   ]
  },
  {
   "cell_type": "code",
   "execution_count": null,
   "metadata": {},
   "outputs": [],
   "source": [
    "def MAPE(Y_actual,Y_Predicted, title):\n",
    "    mask = Y_actual != 0\n",
    "    \n",
    "    mape = np.mean(np.abs((Y_actual - Y_Predicted)/Y_actual)[mask])*100\n",
    "    print(f\"MAPE of {title} is {mape[mape.index[0]]}%\")\n",
    "    return mape[mape.index[0]]\n",
    "\n",
    "\n",
    "mape_vacc = MAPE(test_original[['undiff_Total_Doses']], fore_original[['undiff_Total_Doses']], title=\"Daily vaccinations\")\n",
    "mape_cases = MAPE(test_original[['undiff_Confirmed']], fore_original[['undiff_Confirmed']], title=\"Daily cases\")"
   ]
  },
  {
   "cell_type": "markdown",
   "metadata": {},
   "source": [
    "Clearly, a VAR model is not good enough to make predictions"
   ]
  },
  {
   "cell_type": "markdown",
   "metadata": {},
   "source": [
    "<a name=traintest2></a>\n",
    "\n",
    "## Train-test split - second order differenced"
   ]
  },
  {
   "cell_type": "code",
   "execution_count": null,
   "metadata": {},
   "outputs": [],
   "source": [
    "percent_90 = int(len(df_diff_2)*0.9)\n",
    "\n",
    "train_2 = df_diff_2.iloc[:percent_90].dropna()\n",
    "test_2 = df_diff_2.iloc[percent_90:]\n",
    "\n",
    "plot_subplots([train_2, test_2])"
   ]
  },
  {
   "cell_type": "markdown",
   "metadata": {},
   "source": [
    "<a name=var_p_2></a>\n",
    "### Finding the best value of p for VAR(p)\n",
    "\n",
    "Using AIC, BIC, FPE, HQIC"
   ]
  },
  {
   "cell_type": "code",
   "execution_count": null,
   "metadata": {},
   "outputs": [],
   "source": [
    "model_2 = VAR(train_2)\n",
    "\n",
    "x_2 = model_2.select_order(maxlags=25)\n",
    "x_2.summary()"
   ]
  },
  {
   "cell_type": "markdown",
   "metadata": {},
   "source": [
    "At p = 13 the value of AIC, BIC and HQIC are at their local minima"
   ]
  },
  {
   "cell_type": "markdown",
   "metadata": {},
   "source": [
    "<a name=var13_2></a>\n",
    "\n",
    "### VAR(13) Model"
   ]
  },
  {
   "cell_type": "code",
   "execution_count": null,
   "metadata": {},
   "outputs": [],
   "source": [
    "model_fitted_2 = model_2.fit(13)\n",
    "model_fitted_2.summary()"
   ]
  },
  {
   "cell_type": "markdown",
   "metadata": {},
   "source": [
    "<a name=diff2_plot></a>\n",
    "### Forecasting and Plotting - Second Order Differenced"
   ]
  },
  {
   "cell_type": "code",
   "execution_count": null,
   "metadata": {},
   "outputs": [],
   "source": [
    "forecast_input_2 = test_2.values\n",
    "\n",
    "\n",
    "forecast_input_2\n",
    "# # Forecast\n",
    "fc_2 = model_fitted_2.forecast(y=forecast_input_2, steps=len(forecast_input_2))\n",
    "\n",
    "\n",
    "df_forecast_2 = pd.DataFrame(fc_2, index=test_2.index, columns=test_2.columns + '_forecast')\n",
    "\n",
    "forecasted_conf_2 = df_forecast_2.join(test_2)[['Confirmed', 'Confirmed_forecast']]\n",
    "forecasted_vacc_2 = df_forecast_2.join(test_2)[['Total_Doses', 'Total_Doses_forecast']]"
   ]
  },
  {
   "cell_type": "code",
   "execution_count": null,
   "metadata": {},
   "outputs": [],
   "source": [
    "#forecasted_conf_2"
   ]
  },
  {
   "cell_type": "code",
   "execution_count": null,
   "metadata": {},
   "outputs": [],
   "source": [
    "# Daily cases - diffed twice\n",
    "\n",
    "plot_fore_test(forecasted_conf_2[['Confirmed']], forecasted_conf_2[['Confirmed_forecast']], title='Daily cases')\n"
   ]
  },
  {
   "cell_type": "code",
   "execution_count": null,
   "metadata": {},
   "outputs": [],
   "source": [
    "# Daily vaccinations - diffed twice\n",
    "\n",
    "plot_fore_test(forecasted_vacc_2[['Total_Doses']], forecasted_vacc_2[['Total_Doses_forecast']], title='Daily vaccinations')\n"
   ]
  },
  {
   "cell_type": "markdown",
   "metadata": {},
   "source": [
    "<a name=diff21_plot></a>\n",
    "\n",
    "### Forecasting and Plotting - First Order Differenced"
   ]
  },
  {
   "cell_type": "code",
   "execution_count": null,
   "metadata": {},
   "outputs": [],
   "source": [
    "# Un-diff the test_2 dataset once\n",
    "\n",
    "start_index_2 = test.index.get_loc(test_2.index[0])-1\n",
    "test_2_original = invert_transformation(test_2, test.iloc[start_index_2:])\n",
    "\n",
    "\n",
    "#test_2_original"
   ]
  },
  {
   "cell_type": "code",
   "execution_count": null,
   "metadata": {},
   "outputs": [],
   "source": [
    "# Un-diff the fore_2 dataset once\n",
    "\n",
    "renamed_df_2 = df_forecast_2.rename(columns={'Confirmed_forecast': 'Confirmed', 'Total_Doses_forecast': 'Total_Doses'}, inplace=False)\n",
    "\n",
    "\n",
    "start_index_2 = test.index.get_loc(renamed_df_2.index[0])-1\n",
    "fore_original_2 = invert_transformation(renamed_df_2, test.iloc[start_index_2:])\n",
    "\n",
    "\n",
    "#fore_original_2"
   ]
  },
  {
   "cell_type": "code",
   "execution_count": null,
   "metadata": {},
   "outputs": [],
   "source": [
    "# Un diffed once\n",
    "\n",
    "plot_fore_test(test_2_original[['undiff_Confirmed']], fore_original_2[['undiff_Confirmed']], title='Daily cases')\n"
   ]
  },
  {
   "cell_type": "code",
   "execution_count": null,
   "metadata": {},
   "outputs": [],
   "source": [
    "# Un-diffed once\n",
    "\n",
    "plot_fore_test(test_2_original[['undiff_Total_Doses']], fore_original_2[['undiff_Total_Doses']], title='Daily cases')\n"
   ]
  },
  {
   "cell_type": "markdown",
   "metadata": {},
   "source": [
    "<a name=undiff_2></a>\n",
    "\n",
    "### Forecasting and plotting undifferenced"
   ]
  },
  {
   "cell_type": "code",
   "execution_count": null,
   "metadata": {},
   "outputs": [],
   "source": [
    "# Un-diff the test_2 again\n",
    "\n",
    "test_2_original.rename(columns={'undiff_Confirmed': 'Confirmed', 'undiff_Total_Doses': 'Total_Doses'}, inplace=True)\n",
    "\n",
    "\n",
    "start_index_1 = indexed.index.get_loc(test_2_original.index[0])-1\n",
    "test_original_1 = invert_transformation(test_2_original, indexed.iloc[start_index_1:])\n",
    "\n",
    "test_original_1\n"
   ]
  },
  {
   "cell_type": "code",
   "execution_count": null,
   "metadata": {},
   "outputs": [],
   "source": [
    "fore_original_2.rename(columns={'undiff_Confirmed': 'Confirmed', 'undiff_Total_Doses': 'Total_Doses'}, inplace=True)\n",
    "\n",
    "\n",
    "start_index_1 = indexed.index.get_loc(fore_original_2.index[0])-1\n",
    "fore_original_1 = invert_transformation(fore_original_2, indexed.iloc[start_index_1:])\n",
    "\n",
    "#fore_original_1"
   ]
  },
  {
   "cell_type": "code",
   "execution_count": null,
   "metadata": {},
   "outputs": [],
   "source": [
    "#df_forecast_2"
   ]
  },
  {
   "cell_type": "markdown",
   "metadata": {},
   "source": [
    "## Plot the forecasts"
   ]
  },
  {
   "cell_type": "code",
   "execution_count": null,
   "metadata": {},
   "outputs": [],
   "source": [
    "plot_fore_test(test_original_1[['undiff_Confirmed']], fore_original_1[['undiff_Confirmed']], title='Daily cases')\n",
    "\n"
   ]
  },
  {
   "cell_type": "code",
   "execution_count": null,
   "metadata": {},
   "outputs": [],
   "source": [
    "plot_fore_test(test_original_1[['undiff_Total_Doses']], fore_original_1[['undiff_Total_Doses']], title='Daily cases')\n",
    "\n",
    "# wavelet, svm, ann"
   ]
  },
  {
   "cell_type": "code",
   "execution_count": null,
   "metadata": {},
   "outputs": [],
   "source": [
    "end_index = indexed.index.get_loc(fore_original_1.index[0])\n",
    "\n",
    "train_2_original = indexed[:end_index]\n",
    "\n",
    "plot_subplots([train_2_original, fore_original_1])"
   ]
  },
  {
   "cell_type": "markdown",
   "metadata": {},
   "source": [
    "Predicting with first order differenced data shows a better forecast than second order differenced."
   ]
  },
  {
   "cell_type": "markdown",
   "metadata": {},
   "source": [
    "<a name=varma></a>\n",
    "\n",
    "## VARMA"
   ]
  },
  {
   "cell_type": "code",
   "execution_count": null,
   "metadata": {},
   "outputs": [],
   "source": [
    "from statsmodels.tsa.statespace.varmax import VARMAX\n",
    "from sklearn.metrics import mean_squared_error\n",
    "\n",
    "# evaluate an VARMA model for a given order (p,d,q)\n",
    "def evaluate_varma_model(train, test, varma_order):\n",
    "    \n",
    "    model = VARMAX(train, order=varma_order)\n",
    "    model_fit = model.fit()\n",
    "    yhat = model_fit.forecast(len(test))\n",
    "    error = mean_squared_error(test, yhat)\n",
    "    return error"
   ]
  },
  {
   "cell_type": "code",
   "execution_count": null,
   "metadata": {},
   "outputs": [],
   "source": [
    "# Grid search\n",
    "\n",
    "\n",
    "# evaluate combinations of p and q values for an VARMA model\n",
    "def evaluate_models(train, test, p_values, q_values):\n",
    "    #dataset = dataset.astype('float32')\n",
    "    best_score, best_cfg = float(\"inf\"), None\n",
    "    \n",
    "    for p in p_values:\n",
    "        for q in q_values:\n",
    "            order = (p,q)\n",
    "            try:\n",
    "                mse = evaluate_varma_model(train, test, order)\n",
    "                if mse < best_score:\n",
    "                    best_score, best_cfg = mse, order\n",
    "                print('VARMA%s MSE=%.3f' % (order,mse))\n",
    "            except:\n",
    "                continue\n",
    "    print()\n",
    "    print('Best VARMA%s MSE=%.3f' % (best_cfg, best_score))"
   ]
  },
  {
   "cell_type": "code",
   "execution_count": null,
   "metadata": {},
   "outputs": [],
   "source": [
    "import warnings\n",
    "warnings.filterwarnings(\"ignore\")\n",
    "\n",
    "p_values = range(1, 3)\n",
    "q_values = range(1, 3)\n",
    "\n",
    "evaluate_models(train, test, p_values, q_values)"
   ]
  },
  {
   "cell_type": "code",
   "execution_count": null,
   "metadata": {},
   "outputs": [],
   "source": [
    "from statsmodels.tsa.statespace.varmax import VARMAX\n",
    "\n",
    "model = VARMAX(train, order=(1,1))\n",
    "model_fit = model.fit()\n",
    "yhat = model_fit.forecast(len(test))\n",
    "#yhat"
   ]
  },
  {
   "cell_type": "code",
   "execution_count": null,
   "metadata": {},
   "outputs": [],
   "source": [
    "plot_fore_test(test[['Confirmed']], yhat[['Confirmed']], title='Diffed Daily cases')"
   ]
  },
  {
   "cell_type": "code",
   "execution_count": null,
   "metadata": {},
   "outputs": [],
   "source": [
    "plot_fore_test(test[['Total_Doses']], yhat[['Total_Doses']], title='Diffed Daily Doses')"
   ]
  },
  {
   "cell_type": "code",
   "execution_count": null,
   "metadata": {},
   "outputs": [],
   "source": [
    "\n",
    "# Un-diff the test dataset\n",
    "\n",
    "fore_original_3 = invert_transformation(yhat, indexed.iloc[start_index:])\n",
    "fore_original_3"
   ]
  },
  {
   "cell_type": "code",
   "execution_count": null,
   "metadata": {},
   "outputs": [],
   "source": [
    "plot_fore_test(test_original[['undiff_Confirmed']], fore_original_3[['undiff_Confirmed']], title='Daily cases')"
   ]
  },
  {
   "cell_type": "code",
   "execution_count": null,
   "metadata": {},
   "outputs": [],
   "source": [
    "plot_fore_test(test_original[['undiff_Total_Doses']], fore_original_3[['undiff_Total_Doses']], title='Daily Doses')"
   ]
  },
  {
   "cell_type": "code",
   "execution_count": null,
   "metadata": {},
   "outputs": [],
   "source": [
    "plot_subplots([train_original, fore_original_3])"
   ]
  },
  {
   "cell_type": "code",
   "execution_count": null,
   "metadata": {},
   "outputs": [],
   "source": []
  },
  {
   "cell_type": "code",
   "execution_count": null,
   "metadata": {},
   "outputs": [],
   "source": []
  }
 ],
 "metadata": {
  "kernelspec": {
   "display_name": "Python 3",
   "language": "python",
   "name": "python3"
  },
  "language_info": {
   "codemirror_mode": {
    "name": "ipython",
    "version": 3
   },
   "file_extension": ".py",
   "mimetype": "text/x-python",
   "name": "python",
   "nbconvert_exporter": "python",
   "pygments_lexer": "ipython3",
   "version": "3.8.3"
  }
 },
 "nbformat": 4,
 "nbformat_minor": 5
}
