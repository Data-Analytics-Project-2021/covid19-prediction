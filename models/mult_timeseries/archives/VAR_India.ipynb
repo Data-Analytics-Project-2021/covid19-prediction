{
 "cells": [
  {
   "cell_type": "markdown",
   "id": "b803b727",
   "metadata": {},
   "source": [
    "# VAR India\n",
    "\n",
    "Vector auto-regressive models - VAR, VMA, VARIMA on Covid-19 Cases. For all models, the first-differenced dataset is used (I = 1)."
   ]
  },
  {
   "cell_type": "markdown",
   "id": "ba2864ff",
   "metadata": {},
   "source": [
    "## [Setup](#setup)\n",
    "1. [Imports](#imports)\n",
    "2. [Results table](#results_init)\n",
    "3. [Ingestion](#ingestion)\n",
    "4. [Plotting](#plotting_init)\n",
    "5. [Statistical tests](#stattests1)\n",
    "    1. [Johansen co-integration test](#jci_init)\n",
    "    2. [Augmented DF Test](#adf_init)\n",
    "6. [Differencing](#diff_init)\n",
    "7. [Train test split](#traintest_init)\n",
    "\n",
    "## Long-Term Forecasting\n",
    "\n",
    "### [VAR Model](#var_model)\n",
    "1. [Find order p of VAR](#var_p)\n",
    "2. [VAR(1) Model](#var1)\n",
    "3. [Plots of first differenced predictions](#diff_plot_var)\n",
    "4. [Undifferencing and plotting](#undiff_var)\n",
    "5. [Store metrics - MAE, MAPE, MSE](#store_var)\n",
    "6. [Plot Train, Test, Forecast](#plot_final_var)\n",
    "\n",
    "    \n",
    "### [VMA Model](#vma_model)\n",
    "1. [Find order q of VMA](#vma_q)\n",
    "2. [VMA(1) Model](#vma1)\n",
    "3. [Plots of first differenced predictions](#diff_plot_vma)\n",
    "4. [Undifferencing and plotting](#undiff_vma)\n",
    "5. [Store metrics - MAE, MAPE, MSE](#store_vma)\n",
    "6. [Plot Train, Test, Forecast](#plot_final_vma)\n",
    "\n",
    "\n",
    "### [VARMA Model](#varma_model)\n",
    "1. [Find order (p, q) of VARMA](#varma_pq)\n",
    "2. [VARMA(1, 1) Model](#varma11)\n",
    "3. [Plots of first differenced predictions](#diff_plot_varma)\n",
    "4. [Undifferencing and plotting](#undiff_varma)\n",
    "5. [Store metrics - MAE, MAPE, MSE](#store_varma)\n",
    "6. [Plot Train, Test, Forecast](#plot_final_varma)\n",
    "\n",
    "## [Short-Term/Rolling Forecasting](#shortterm)\n",
    "\n",
    "1. [VAR(1)](#var_roll)\n",
    "2. [VMA(1)](#vma_roll)\n",
    "3. [VARMA(1,1)](#varma_roll)\n",
    "\n",
    "## [Final Metrics](#final_results)"
   ]
  },
  {
   "cell_type": "markdown",
   "id": "690979a0",
   "metadata": {},
   "source": [
    "<a name=setup></a>\n",
    "\n",
    "# Setup"
   ]
  },
  {
   "cell_type": "markdown",
   "id": "3e7ba208",
   "metadata": {},
   "source": [
    "<a name=imports></a>\n",
    "## Imports"
   ]
  },
  {
   "cell_type": "code",
   "execution_count": 84,
   "id": "6f0eecac",
   "metadata": {},
   "outputs": [],
   "source": [
    "import pandas as pd\n",
    "import numpy as np\n",
    "import matplotlib.pyplot as plt\n",
    "import warnings\n",
    "\n",
    "import preprocessing\n",
    "import plotting\n",
    "import stats_testing\n",
    "import metrics\n",
    "\n",
    "# warnings.filterwarnings(\"ignore\")"
   ]
  },
  {
   "cell_type": "markdown",
   "id": "aa6f875b",
   "metadata": {},
   "source": [
    "<a name=results_init></a>\n",
    "## Results table"
   ]
  },
  {
   "cell_type": "code",
   "execution_count": 85,
   "id": "b420b085",
   "metadata": {},
   "outputs": [],
   "source": [
    "results_columns = ['model', 'mse', 'mape', 'mae']\n",
    "results_table = pd.DataFrame(columns=results_columns)"
   ]
  },
  {
   "cell_type": "markdown",
   "id": "826b5133",
   "metadata": {},
   "source": [
    "<a name=ingestion></a>\n",
    "\n",
    "## Ingestion"
   ]
  },
  {
   "cell_type": "code",
   "execution_count": 86,
   "id": "02f36bbe",
   "metadata": {},
   "outputs": [],
   "source": [
    "daily_cases_india = pd.read_csv('../../cleaned_datasets/india/daily_cases_india.csv', parse_dates=['Date'])\n",
    "# daily_vacc_india = pd.read_csv('../../cleaned_datasets/india/daily_vacc_india.csv', parse_dates=['date'])\n",
    "cum_vacc_india = pd.read_csv('../../cleaned_datasets/india/cum_vacc_india.csv', parse_dates=['date'])\n",
    "population = pd.read_csv('../../cleaned_datasets/world_population.csv', index_col='iso_code')"
   ]
  },
  {
   "cell_type": "code",
   "execution_count": 87,
   "id": "7140d485",
   "metadata": {},
   "outputs": [
    {
     "data": {
      "text/plain": [
       "Date         datetime64[ns]\n",
       "Confirmed           float64\n",
       "Deaths              float64\n",
       "Recovered           float64\n",
       "dtype: object"
      ]
     },
     "execution_count": 87,
     "metadata": {},
     "output_type": "execute_result"
    }
   ],
   "source": [
    "daily_cases_india.dtypes"
   ]
  },
  {
   "cell_type": "code",
   "execution_count": 88,
   "id": "63bdb86a",
   "metadata": {},
   "outputs": [
    {
     "data": {
      "text/html": [
       "<div>\n",
       "<style scoped>\n",
       "    .dataframe tbody tr th:only-of-type {\n",
       "        vertical-align: middle;\n",
       "    }\n",
       "\n",
       "    .dataframe tbody tr th {\n",
       "        vertical-align: top;\n",
       "    }\n",
       "\n",
       "    .dataframe thead th {\n",
       "        text-align: right;\n",
       "    }\n",
       "</style>\n",
       "<table border=\"1\" class=\"dataframe\">\n",
       "  <thead>\n",
       "    <tr style=\"text-align: right;\">\n",
       "      <th></th>\n",
       "      <th>Date</th>\n",
       "      <th>Confirmed</th>\n",
       "      <th>Deaths</th>\n",
       "      <th>Recovered</th>\n",
       "    </tr>\n",
       "  </thead>\n",
       "  <tbody>\n",
       "    <tr>\n",
       "      <th>0</th>\n",
       "      <td>2020-01-30</td>\n",
       "      <td>NaN</td>\n",
       "      <td>NaN</td>\n",
       "      <td>NaN</td>\n",
       "    </tr>\n",
       "    <tr>\n",
       "      <th>1</th>\n",
       "      <td>2020-01-31</td>\n",
       "      <td>0.0</td>\n",
       "      <td>0.0</td>\n",
       "      <td>0.0</td>\n",
       "    </tr>\n",
       "    <tr>\n",
       "      <th>2</th>\n",
       "      <td>2020-02-01</td>\n",
       "      <td>0.0</td>\n",
       "      <td>0.0</td>\n",
       "      <td>0.0</td>\n",
       "    </tr>\n",
       "    <tr>\n",
       "      <th>3</th>\n",
       "      <td>2020-02-02</td>\n",
       "      <td>1.0</td>\n",
       "      <td>0.0</td>\n",
       "      <td>0.0</td>\n",
       "    </tr>\n",
       "    <tr>\n",
       "      <th>4</th>\n",
       "      <td>2020-02-03</td>\n",
       "      <td>1.0</td>\n",
       "      <td>0.0</td>\n",
       "      <td>0.0</td>\n",
       "    </tr>\n",
       "    <tr>\n",
       "      <th>...</th>\n",
       "      <td>...</td>\n",
       "      <td>...</td>\n",
       "      <td>...</td>\n",
       "      <td>...</td>\n",
       "    </tr>\n",
       "    <tr>\n",
       "      <th>707</th>\n",
       "      <td>2022-01-06</td>\n",
       "      <td>117100.0</td>\n",
       "      <td>302.0</td>\n",
       "      <td>0.0</td>\n",
       "    </tr>\n",
       "    <tr>\n",
       "      <th>708</th>\n",
       "      <td>2022-01-07</td>\n",
       "      <td>141986.0</td>\n",
       "      <td>285.0</td>\n",
       "      <td>0.0</td>\n",
       "    </tr>\n",
       "    <tr>\n",
       "      <th>709</th>\n",
       "      <td>2022-01-08</td>\n",
       "      <td>159632.0</td>\n",
       "      <td>327.0</td>\n",
       "      <td>0.0</td>\n",
       "    </tr>\n",
       "    <tr>\n",
       "      <th>710</th>\n",
       "      <td>2022-01-09</td>\n",
       "      <td>179723.0</td>\n",
       "      <td>146.0</td>\n",
       "      <td>0.0</td>\n",
       "    </tr>\n",
       "    <tr>\n",
       "      <th>711</th>\n",
       "      <td>2022-01-10</td>\n",
       "      <td>168063.0</td>\n",
       "      <td>277.0</td>\n",
       "      <td>0.0</td>\n",
       "    </tr>\n",
       "  </tbody>\n",
       "</table>\n",
       "<p>712 rows × 4 columns</p>\n",
       "</div>"
      ],
      "text/plain": [
       "          Date  Confirmed  Deaths  Recovered\n",
       "0   2020-01-30        NaN     NaN        NaN\n",
       "1   2020-01-31        0.0     0.0        0.0\n",
       "2   2020-02-01        0.0     0.0        0.0\n",
       "3   2020-02-02        1.0     0.0        0.0\n",
       "4   2020-02-03        1.0     0.0        0.0\n",
       "..         ...        ...     ...        ...\n",
       "707 2022-01-06   117100.0   302.0        0.0\n",
       "708 2022-01-07   141986.0   285.0        0.0\n",
       "709 2022-01-08   159632.0   327.0        0.0\n",
       "710 2022-01-09   179723.0   146.0        0.0\n",
       "711 2022-01-10   168063.0   277.0        0.0\n",
       "\n",
       "[712 rows x 4 columns]"
      ]
     },
     "execution_count": 88,
     "metadata": {},
     "output_type": "execute_result"
    }
   ],
   "source": [
    "daily_cases_india"
   ]
  },
  {
   "cell_type": "code",
   "execution_count": 89,
   "id": "003dd0a3",
   "metadata": {},
   "outputs": [
    {
     "data": {
      "text/plain": [
       "date           datetime64[ns]\n",
       "Total_Doses           float64\n",
       "dtype: object"
      ]
     },
     "execution_count": 89,
     "metadata": {},
     "output_type": "execute_result"
    }
   ],
   "source": [
    "cum_vacc_india.dtypes"
   ]
  },
  {
   "cell_type": "code",
   "execution_count": 90,
   "id": "2aa2299c",
   "metadata": {},
   "outputs": [],
   "source": [
    "# cum_vacc_india.fillna(method='ffill')"
   ]
  },
  {
   "cell_type": "code",
   "execution_count": 91,
   "id": "260d3d26",
   "metadata": {},
   "outputs": [],
   "source": [
    "first_vacc = cum_vacc_india.iloc[0].date\n",
    "last_vacc = cum_vacc_india.iloc[-1].date\n",
    "\n",
    "vacc_dates = pd.date_range(start=first_vacc, end=last_vacc)"
   ]
  },
  {
   "cell_type": "code",
   "execution_count": 92,
   "id": "e0de8134",
   "metadata": {},
   "outputs": [
    {
     "data": {
      "text/html": [
       "<div>\n",
       "<style scoped>\n",
       "    .dataframe tbody tr th:only-of-type {\n",
       "        vertical-align: middle;\n",
       "    }\n",
       "\n",
       "    .dataframe tbody tr th {\n",
       "        vertical-align: top;\n",
       "    }\n",
       "\n",
       "    .dataframe thead th {\n",
       "        text-align: right;\n",
       "    }\n",
       "</style>\n",
       "<table border=\"1\" class=\"dataframe\">\n",
       "  <thead>\n",
       "    <tr style=\"text-align: right;\">\n",
       "      <th></th>\n",
       "      <th>Date</th>\n",
       "      <th>Confirmed</th>\n",
       "      <th>Total_Doses</th>\n",
       "    </tr>\n",
       "  </thead>\n",
       "  <tbody>\n",
       "    <tr>\n",
       "      <th>0</th>\n",
       "      <td>2020-01-30</td>\n",
       "      <td>NaN</td>\n",
       "      <td>NaN</td>\n",
       "    </tr>\n",
       "    <tr>\n",
       "      <th>1</th>\n",
       "      <td>2020-01-31</td>\n",
       "      <td>0.0</td>\n",
       "      <td>NaN</td>\n",
       "    </tr>\n",
       "    <tr>\n",
       "      <th>2</th>\n",
       "      <td>2020-02-01</td>\n",
       "      <td>0.0</td>\n",
       "      <td>NaN</td>\n",
       "    </tr>\n",
       "    <tr>\n",
       "      <th>3</th>\n",
       "      <td>2020-02-02</td>\n",
       "      <td>1.0</td>\n",
       "      <td>NaN</td>\n",
       "    </tr>\n",
       "    <tr>\n",
       "      <th>4</th>\n",
       "      <td>2020-02-03</td>\n",
       "      <td>1.0</td>\n",
       "      <td>NaN</td>\n",
       "    </tr>\n",
       "    <tr>\n",
       "      <th>...</th>\n",
       "      <td>...</td>\n",
       "      <td>...</td>\n",
       "      <td>...</td>\n",
       "    </tr>\n",
       "    <tr>\n",
       "      <th>707</th>\n",
       "      <td>2022-01-06</td>\n",
       "      <td>117100.0</td>\n",
       "      <td>1.491991e+09</td>\n",
       "    </tr>\n",
       "    <tr>\n",
       "      <th>708</th>\n",
       "      <td>2022-01-07</td>\n",
       "      <td>141986.0</td>\n",
       "      <td>1.505592e+09</td>\n",
       "    </tr>\n",
       "    <tr>\n",
       "      <th>709</th>\n",
       "      <td>2022-01-08</td>\n",
       "      <td>159632.0</td>\n",
       "      <td>1.508007e+09</td>\n",
       "    </tr>\n",
       "    <tr>\n",
       "      <th>710</th>\n",
       "      <td>2022-01-09</td>\n",
       "      <td>179723.0</td>\n",
       "      <td>1.517705e+09</td>\n",
       "    </tr>\n",
       "    <tr>\n",
       "      <th>711</th>\n",
       "      <td>2022-01-10</td>\n",
       "      <td>168063.0</td>\n",
       "      <td>1.524223e+09</td>\n",
       "    </tr>\n",
       "  </tbody>\n",
       "</table>\n",
       "<p>712 rows × 3 columns</p>\n",
       "</div>"
      ],
      "text/plain": [
       "          Date  Confirmed   Total_Doses\n",
       "0   2020-01-30        NaN           NaN\n",
       "1   2020-01-31        0.0           NaN\n",
       "2   2020-02-01        0.0           NaN\n",
       "3   2020-02-02        1.0           NaN\n",
       "4   2020-02-03        1.0           NaN\n",
       "..         ...        ...           ...\n",
       "707 2022-01-06   117100.0  1.491991e+09\n",
       "708 2022-01-07   141986.0  1.505592e+09\n",
       "709 2022-01-08   159632.0  1.508007e+09\n",
       "710 2022-01-09   179723.0  1.517705e+09\n",
       "711 2022-01-10   168063.0  1.524223e+09\n",
       "\n",
       "[712 rows x 3 columns]"
      ]
     },
     "execution_count": 92,
     "metadata": {},
     "output_type": "execute_result"
    }
   ],
   "source": [
    "cases_vacc = daily_cases_india.merge(cum_vacc_india, how='outer', left_on='Date', right_on='date')\n",
    "cases_vacc = cases_vacc[[\"Date\", \"Confirmed\", \"Total_Doses\"]]\n",
    "cases_vacc"
   ]
  },
  {
   "cell_type": "code",
   "execution_count": 93,
   "id": "5645d08e",
   "metadata": {},
   "outputs": [
    {
     "data": {
      "text/html": [
       "<div>\n",
       "<style scoped>\n",
       "    .dataframe tbody tr th:only-of-type {\n",
       "        vertical-align: middle;\n",
       "    }\n",
       "\n",
       "    .dataframe tbody tr th {\n",
       "        vertical-align: top;\n",
       "    }\n",
       "\n",
       "    .dataframe thead th {\n",
       "        text-align: right;\n",
       "    }\n",
       "</style>\n",
       "<table border=\"1\" class=\"dataframe\">\n",
       "  <thead>\n",
       "    <tr style=\"text-align: right;\">\n",
       "      <th></th>\n",
       "      <th>Confirmed</th>\n",
       "      <th>Total_Doses</th>\n",
       "    </tr>\n",
       "    <tr>\n",
       "      <th>Date</th>\n",
       "      <th></th>\n",
       "      <th></th>\n",
       "    </tr>\n",
       "  </thead>\n",
       "  <tbody>\n",
       "    <tr>\n",
       "      <th>2020-01-30</th>\n",
       "      <td>0.0</td>\n",
       "      <td>0.000000e+00</td>\n",
       "    </tr>\n",
       "    <tr>\n",
       "      <th>2020-01-31</th>\n",
       "      <td>0.0</td>\n",
       "      <td>0.000000e+00</td>\n",
       "    </tr>\n",
       "    <tr>\n",
       "      <th>2020-02-01</th>\n",
       "      <td>0.0</td>\n",
       "      <td>0.000000e+00</td>\n",
       "    </tr>\n",
       "    <tr>\n",
       "      <th>2020-02-02</th>\n",
       "      <td>1.0</td>\n",
       "      <td>0.000000e+00</td>\n",
       "    </tr>\n",
       "    <tr>\n",
       "      <th>2020-02-03</th>\n",
       "      <td>1.0</td>\n",
       "      <td>0.000000e+00</td>\n",
       "    </tr>\n",
       "    <tr>\n",
       "      <th>...</th>\n",
       "      <td>...</td>\n",
       "      <td>...</td>\n",
       "    </tr>\n",
       "    <tr>\n",
       "      <th>2022-01-06</th>\n",
       "      <td>117100.0</td>\n",
       "      <td>1.491991e+09</td>\n",
       "    </tr>\n",
       "    <tr>\n",
       "      <th>2022-01-07</th>\n",
       "      <td>141986.0</td>\n",
       "      <td>1.505592e+09</td>\n",
       "    </tr>\n",
       "    <tr>\n",
       "      <th>2022-01-08</th>\n",
       "      <td>159632.0</td>\n",
       "      <td>1.508007e+09</td>\n",
       "    </tr>\n",
       "    <tr>\n",
       "      <th>2022-01-09</th>\n",
       "      <td>179723.0</td>\n",
       "      <td>1.517705e+09</td>\n",
       "    </tr>\n",
       "    <tr>\n",
       "      <th>2022-01-10</th>\n",
       "      <td>168063.0</td>\n",
       "      <td>1.524223e+09</td>\n",
       "    </tr>\n",
       "  </tbody>\n",
       "</table>\n",
       "<p>712 rows × 2 columns</p>\n",
       "</div>"
      ],
      "text/plain": [
       "            Confirmed   Total_Doses\n",
       "Date                               \n",
       "2020-01-30        0.0  0.000000e+00\n",
       "2020-01-31        0.0  0.000000e+00\n",
       "2020-02-01        0.0  0.000000e+00\n",
       "2020-02-02        1.0  0.000000e+00\n",
       "2020-02-03        1.0  0.000000e+00\n",
       "...               ...           ...\n",
       "2022-01-06   117100.0  1.491991e+09\n",
       "2022-01-07   141986.0  1.505592e+09\n",
       "2022-01-08   159632.0  1.508007e+09\n",
       "2022-01-09   179723.0  1.517705e+09\n",
       "2022-01-10   168063.0  1.524223e+09\n",
       "\n",
       "[712 rows x 2 columns]"
      ]
     },
     "execution_count": 93,
     "metadata": {},
     "output_type": "execute_result"
    }
   ],
   "source": [
    "indexed = cases_vacc.set_index('Date')\n",
    "preprocessing.fill_date_gaps(indexed, method='ffill', dates_range=vacc_dates)\n",
    "indexed"
   ]
  },
  {
   "cell_type": "markdown",
   "id": "b082da46",
   "metadata": {},
   "source": [
    "<a name=plotting_init></a>\n",
    "## Plot initial data"
   ]
  },
  {
   "cell_type": "code",
   "execution_count": 94,
   "id": "2e9f8fe1",
   "metadata": {},
   "outputs": [
    {
     "data": {
      "image/png": "[encoded data removed]",
      "text/plain": [
       "<Figure size 960x480 with 2 Axes>"
      ]
     },
     "metadata": {
      "needs_background": "light"
     },
     "output_type": "display_data"
    }
   ],
   "source": [
    "plotting.plot_side_by_side(train=indexed)"
   ]
  },
  {
   "cell_type": "markdown",
   "id": "89e9d2ab",
   "metadata": {},
   "source": [
    "<a name=stattests1></a>\n",
    "## Statistical tests"
   ]
  },
  {
   "cell_type": "markdown",
   "id": "3da372cb",
   "metadata": {},
   "source": [
    "<a name=jci_init></a>\n",
    "\n",
    "### Johansen co-integration test"
   ]
  },
  {
   "cell_type": "code",
   "execution_count": 95,
   "id": "685b3dcf",
   "metadata": {},
   "outputs": [
    {
     "name": "stdout",
     "output_type": "stream",
     "text": [
      "Name   ::  Test Stat > C(95%)    =>   Signif  \n",
      " ----------------------------------------\n",
      "Confirmed ::  24.18     > 12.3212   =>   True\n",
      "Total_Doses ::  2.31      > 4.1296    =>   False\n"
     ]
    }
   ],
   "source": [
    "stats_testing.cointegration_test(indexed)"
   ]
  },
  {
   "cell_type": "markdown",
   "id": "a31ae5f3",
   "metadata": {},
   "source": [
    "From JCT, the two time series are not correlated."
   ]
  },
  {
   "cell_type": "markdown",
   "id": "bf0d5ce7",
   "metadata": {},
   "source": [
    "<a name=adf_init></a>\n",
    "\n",
    "### Augmented DF Test"
   ]
  },
  {
   "cell_type": "code",
   "execution_count": 96,
   "id": "054ea81d",
   "metadata": {},
   "outputs": [
    {
     "name": "stdout",
     "output_type": "stream",
     "text": [
      "Observations of Dickey-fuller test\n",
      "Test Statistic                  -3.015566\n",
      "p-value                          0.033466\n",
      "#lags used                      15.000000\n",
      "number of observations used    696.000000\n",
      "critical value (1%)             -3.439780\n",
      "critical value (5%)             -2.865702\n",
      "critical value (10%)            -2.568986\n",
      "dtype: float64\n",
      "\n",
      "\n",
      "Observations of Dickey-fuller test\n",
      "Test Statistic                   1.935822\n",
      "p-value                          0.998584\n",
      "#lags used                      12.000000\n",
      "number of observations used    699.000000\n",
      "critical value (1%)             -3.439740\n",
      "critical value (5%)             -2.865684\n",
      "critical value (10%)            -2.568977\n",
      "dtype: float64\n",
      "\n",
      "\n"
     ]
    }
   ],
   "source": [
    "# ADF Test on each column\n",
    "for name, column in indexed.iteritems():\n",
    "    stats_testing.run_dicky_fuller(column)\n",
    "    print('\\n')"
   ]
  },
  {
   "cell_type": "markdown",
   "id": "3568c70d",
   "metadata": {},
   "source": [
    "The TS is not stationary"
   ]
  },
  {
   "cell_type": "markdown",
   "id": "386084b5",
   "metadata": {},
   "source": [
    "<a name=diff_init></a>\n",
    "## Differencing"
   ]
  },
  {
   "cell_type": "markdown",
   "id": "4920112b",
   "metadata": {},
   "source": [
    "## First order differencing"
   ]
  },
  {
   "cell_type": "code",
   "execution_count": 97,
   "id": "c68ae11f",
   "metadata": {},
   "outputs": [],
   "source": [
    "df_diff_1 = indexed.diff().dropna()\n",
    "# df_diff_1"
   ]
  },
  {
   "cell_type": "code",
   "execution_count": 98,
   "id": "30ec4f80",
   "metadata": {},
   "outputs": [
    {
     "data": {
      "image/png": "[encoded data removed]",
      "text/plain": [
       "<Figure size 960x480 with 2 Axes>"
      ]
     },
     "metadata": {
      "needs_background": "light"
     },
     "output_type": "display_data"
    }
   ],
   "source": [
    "plotting.plot_side_by_side(train=df_diff_1)\n"
   ]
  },
  {
   "cell_type": "code",
   "execution_count": 99,
   "id": "b7290440",
   "metadata": {},
   "outputs": [
    {
     "name": "stdout",
     "output_type": "stream",
     "text": [
      "Name   ::  Test Stat > C(95%)    =>   Signif  \n",
      " ----------------------------------------\n",
      "Confirmed ::  68.38     > 12.3212   =>   True\n",
      "Total_Doses ::  1.39      > 4.1296    =>   False\n"
     ]
    }
   ],
   "source": [
    "stats_testing.cointegration_test(df_diff_1)"
   ]
  },
  {
   "cell_type": "code",
   "execution_count": 100,
   "id": "d5e7db36",
   "metadata": {},
   "outputs": [
    {
     "name": "stdout",
     "output_type": "stream",
     "text": [
      "Observations of Dickey-fuller test\n",
      "Test Statistic                  -3.591903\n",
      "p-value                          0.005918\n",
      "#lags used                      19.000000\n",
      "number of observations used    691.000000\n",
      "critical value (1%)             -3.439849\n",
      "critical value (5%)             -2.865732\n",
      "critical value (10%)            -2.569002\n",
      "dtype: float64\n",
      "\n",
      "\n",
      "Observations of Dickey-fuller test\n",
      "Test Statistic                  -0.548060\n",
      "p-value                          0.882292\n",
      "#lags used                      11.000000\n",
      "number of observations used    699.000000\n",
      "critical value (1%)             -3.439740\n",
      "critical value (5%)             -2.865684\n",
      "critical value (10%)            -2.568977\n",
      "dtype: float64\n",
      "\n",
      "\n"
     ]
    }
   ],
   "source": [
    "# ADF Test on each column\n",
    "for name, column in df_diff_1.iteritems():\n",
    "    stats_testing.run_dicky_fuller(column)\n",
    "    print('\\n')"
   ]
  },
  {
   "cell_type": "markdown",
   "id": "8bef3a31",
   "metadata": {},
   "source": [
    "From JCT, the two time series are not correlated."
   ]
  },
  {
   "cell_type": "markdown",
   "id": "f40e0ffe",
   "metadata": {},
   "source": [
    "## Second order differencing"
   ]
  },
  {
   "cell_type": "code",
   "execution_count": 101,
   "id": "424b2009",
   "metadata": {},
   "outputs": [
    {
     "data": {
      "text/html": [
       "<div>\n",
       "<style scoped>\n",
       "    .dataframe tbody tr th:only-of-type {\n",
       "        vertical-align: middle;\n",
       "    }\n",
       "\n",
       "    .dataframe tbody tr th {\n",
       "        vertical-align: top;\n",
       "    }\n",
       "\n",
       "    .dataframe thead th {\n",
       "        text-align: right;\n",
       "    }\n",
       "</style>\n",
       "<table border=\"1\" class=\"dataframe\">\n",
       "  <thead>\n",
       "    <tr style=\"text-align: right;\">\n",
       "      <th></th>\n",
       "      <th>Confirmed</th>\n",
       "      <th>Total_Doses</th>\n",
       "    </tr>\n",
       "    <tr>\n",
       "      <th>Date</th>\n",
       "      <th></th>\n",
       "      <th></th>\n",
       "    </tr>\n",
       "  </thead>\n",
       "  <tbody>\n",
       "    <tr>\n",
       "      <th>2020-02-01</th>\n",
       "      <td>0.0</td>\n",
       "      <td>0.0</td>\n",
       "    </tr>\n",
       "    <tr>\n",
       "      <th>2020-02-02</th>\n",
       "      <td>1.0</td>\n",
       "      <td>0.0</td>\n",
       "    </tr>\n",
       "    <tr>\n",
       "      <th>2020-02-03</th>\n",
       "      <td>-1.0</td>\n",
       "      <td>0.0</td>\n",
       "    </tr>\n",
       "    <tr>\n",
       "      <th>2020-02-04</th>\n",
       "      <td>-1.0</td>\n",
       "      <td>0.0</td>\n",
       "    </tr>\n",
       "    <tr>\n",
       "      <th>2020-02-05</th>\n",
       "      <td>1.0</td>\n",
       "      <td>0.0</td>\n",
       "    </tr>\n",
       "    <tr>\n",
       "      <th>...</th>\n",
       "      <td>...</td>\n",
       "      <td>...</td>\n",
       "    </tr>\n",
       "    <tr>\n",
       "      <th>2022-01-06</th>\n",
       "      <td>-6659.0</td>\n",
       "      <td>-86635.0</td>\n",
       "    </tr>\n",
       "    <tr>\n",
       "      <th>2022-01-07</th>\n",
       "      <td>-1286.0</td>\n",
       "      <td>3813830.0</td>\n",
       "    </tr>\n",
       "    <tr>\n",
       "      <th>2022-01-08</th>\n",
       "      <td>-7240.0</td>\n",
       "      <td>-11185385.0</td>\n",
       "    </tr>\n",
       "    <tr>\n",
       "      <th>2022-01-09</th>\n",
       "      <td>2445.0</td>\n",
       "      <td>7282363.0</td>\n",
       "    </tr>\n",
       "    <tr>\n",
       "      <th>2022-01-10</th>\n",
       "      <td>-31751.0</td>\n",
       "      <td>-3180398.0</td>\n",
       "    </tr>\n",
       "  </tbody>\n",
       "</table>\n",
       "<p>710 rows × 2 columns</p>\n",
       "</div>"
      ],
      "text/plain": [
       "            Confirmed  Total_Doses\n",
       "Date                              \n",
       "2020-02-01        0.0          0.0\n",
       "2020-02-02        1.0          0.0\n",
       "2020-02-03       -1.0          0.0\n",
       "2020-02-04       -1.0          0.0\n",
       "2020-02-05        1.0          0.0\n",
       "...               ...          ...\n",
       "2022-01-06    -6659.0     -86635.0\n",
       "2022-01-07    -1286.0    3813830.0\n",
       "2022-01-08    -7240.0  -11185385.0\n",
       "2022-01-09     2445.0    7282363.0\n",
       "2022-01-10   -31751.0   -3180398.0\n",
       "\n",
       "[710 rows x 2 columns]"
      ]
     },
     "execution_count": 101,
     "metadata": {},
     "output_type": "execute_result"
    }
   ],
   "source": [
    "df_diff_2 = df_diff_1.diff().dropna()\n",
    "df_diff_2"
   ]
  },
  {
   "cell_type": "code",
   "execution_count": 102,
   "id": "3acf1196",
   "metadata": {},
   "outputs": [
    {
     "data": {
      "image/png": "[encoded data removed]",
      "text/plain": [
       "<Figure size 960x480 with 2 Axes>"
      ]
     },
     "metadata": {
      "needs_background": "light"
     },
     "output_type": "display_data"
    }
   ],
   "source": [
    "plotting.plot_side_by_side(train=df_diff_2)"
   ]
  },
  {
   "cell_type": "code",
   "execution_count": 103,
   "id": "16fa0085",
   "metadata": {},
   "outputs": [
    {
     "name": "stdout",
     "output_type": "stream",
     "text": [
      "Name   ::  Test Stat > C(95%)    =>   Signif  \n",
      " ----------------------------------------\n",
      "Confirmed ::  820.14    > 12.3212   =>   True\n",
      "Total_Doses ::  295.55    > 4.1296    =>   True\n"
     ]
    }
   ],
   "source": [
    "# Cointegration test\n",
    "\n",
    "stats_testing.cointegration_test(df_diff_2)"
   ]
  },
  {
   "cell_type": "markdown",
   "id": "40f4d24c",
   "metadata": {},
   "source": [
    "From JCT, the two time series are correlated."
   ]
  },
  {
   "cell_type": "code",
   "execution_count": 104,
   "id": "2bb0e56c",
   "metadata": {},
   "outputs": [
    {
     "name": "stdout",
     "output_type": "stream",
     "text": [
      "Observations of Dickey-fuller test\n",
      "Test Statistic                -7.025341e+00\n",
      "p-value                        6.385996e-10\n",
      "#lags used                     1.300000e+01\n",
      "number of observations used    6.960000e+02\n",
      "critical value (1%)           -3.439780e+00\n",
      "critical value (5%)           -2.865702e+00\n",
      "critical value (10%)          -2.568986e+00\n",
      "dtype: float64\n",
      "\n",
      "\n",
      "Observations of Dickey-fuller test\n",
      "Test Statistic                -1.312820e+01\n",
      "p-value                        1.513692e-24\n",
      "#lags used                     1.000000e+01\n",
      "number of observations used    6.990000e+02\n",
      "critical value (1%)           -3.439740e+00\n",
      "critical value (5%)           -2.865684e+00\n",
      "critical value (10%)          -2.568977e+00\n",
      "dtype: float64\n",
      "\n",
      "\n"
     ]
    }
   ],
   "source": [
    "# ADF Test on each column\n",
    "for name, column in df_diff_2.iteritems():\n",
    "    stats_testing.run_dicky_fuller(column)\n",
    "    print('\\n')"
   ]
  },
  {
   "cell_type": "markdown",
   "id": "08148046",
   "metadata": {},
   "source": [
    "From ADF, both are stationary."
   ]
  },
  {
   "cell_type": "markdown",
   "id": "0fb33795",
   "metadata": {},
   "source": [
    "<a name=traintest_init></a>\n",
    "## Train-test split"
   ]
  },
  {
   "cell_type": "markdown",
   "id": "815f6a3b",
   "metadata": {},
   "source": [
    "### Train-test split"
   ]
  },
  {
   "cell_type": "code",
   "execution_count": 105,
   "id": "71a99cf2",
   "metadata": {},
   "outputs": [
    {
     "data": {
      "image/png": "[encoded data removed]",
      "text/plain": [
       "<Figure size 960x480 with 2 Axes>"
      ]
     },
     "metadata": {
      "needs_background": "light"
     },
     "output_type": "display_data"
    }
   ],
   "source": [
    "train, test = preprocessing.train_test_split(indexed, fraction=0.9)\n",
    "\n",
    "plotting.plot_side_by_side(train=train, test=test)"
   ]
  },
  {
   "cell_type": "markdown",
   "id": "5b9f05ac",
   "metadata": {},
   "source": [
    "<a name=var_model></a>\n",
    "\n",
    "# VAR Model"
   ]
  },
  {
   "cell_type": "markdown",
   "id": "5f55dbad",
   "metadata": {},
   "source": [
    "<a name=var_p></a>\n",
    "## Finding the order p for VAR(p)\n",
    "\n",
    "Using PACF plot"
   ]
  },
  {
   "cell_type": "code",
   "execution_count": 106,
   "id": "fb43e022",
   "metadata": {},
   "outputs": [
    {
     "data": {
      "image/png": "[encoded data removed]",
      "text/plain": [
       "<Figure size 432x288 with 1 Axes>"
      ]
     },
     "metadata": {
      "needs_background": "light"
     },
     "output_type": "display_data"
    }
   ],
   "source": [
    "from statsmodels.graphics.tsaplots import plot_pacf, plot_acf\n",
    "\n",
    "pacf_var_confirmed = plot_pacf(train['Confirmed'].diff().dropna().diff().dropna(), lags=25)"
   ]
  },
  {
   "cell_type": "code",
   "execution_count": 107,
   "id": "223d88f8",
   "metadata": {},
   "outputs": [
    {
     "name": "stdout",
     "output_type": "stream",
     "text": [
      "VARMA(5, 0): MSE=7301440143.014, MAPE=856.353, MAE=83843.413\n",
      "VARMA(8, 0): MSE=101625477760.473, MAPE=3132.937, MAE=309331.964\n",
      "VARMA(9, 0): MSE=48595666734.458, MAPE=2061.979, MAE=206205.960\n",
      "VARMA(10, 0): MSE=42829951875.646, MAPE=1930.084, MAE=193695.374\n",
      "\n",
      "Best VARMA(5, 0): MSE=7301440143.014\n"
     ]
    }
   ],
   "source": [
    "metrics.evaluate_varma_models(train, test, [5, 8, 9, 10], [0], column='Confirmed')"
   ]
  },
  {
   "cell_type": "markdown",
   "id": "579e7719",
   "metadata": {},
   "source": [
    "<a name=var1></a>\n",
    "## VAR(5) Model"
   ]
  },
  {
   "cell_type": "code",
   "execution_count": 108,
   "id": "c792a7f6",
   "metadata": {},
   "outputs": [],
   "source": [
    "from statsmodels.tsa.statespace.varmax import VARMAX\n",
    "\n",
    "model = VARMAX(train, order=(5, 0))\n",
    "model_fit = model.fit()\n",
    "forecasted = model_fit.get_prediction(start=len(train), end=len(train)+len(test)-1).predicted_mean\n",
    "\n",
    "df_forecast = pd.DataFrame(forecasted, index=test.index)\n",
    "df_forecast.rename(columns = {'Confirmed': 'Confirmed_forecast', 'Total_Doses': 'Total_Doses_forecast'}, inplace=True)\n",
    "\n",
    "forecasted_conf = df_forecast.join(test)[['Confirmed', 'Confirmed_forecast']]\n",
    "forecasted_vacc = df_forecast.join(test)[['Total_Doses', 'Total_Doses_forecast']]\n",
    "\n",
    "# conf = model_fit.conf_int(alpha=0.05)\n",
    "# forecasted.predicted_mean"
   ]
  },
  {
   "cell_type": "code",
   "execution_count": 109,
   "id": "62a393e1",
   "metadata": {},
   "outputs": [
    {
     "data": {
      "text/html": [
       "<table class=\"simpletable\">\n",
       "<caption>Statespace Model Results</caption>\n",
       "<tr>\n",
       "  <th>Dep. Variable:</th>   <td>['Confirmed', 'Total_Doses']</td> <th>  No. Observations:  </th>      <td>640</td>    \n",
       "</tr>\n",
       "<tr>\n",
       "  <th>Model:</th>                      <td>VAR(5)</td>            <th>  Log Likelihood     </th> <td>-1734633.033</td>\n",
       "</tr>\n",
       "<tr>\n",
       "  <th></th>                          <td>+ intercept</td>         <th>  AIC                </th>  <td>3469316.066</td>\n",
       "</tr>\n",
       "<tr>\n",
       "  <th>Date:</th>                  <td>Thu, 27 Jan 2022</td>       <th>  BIC                </th>  <td>3469427.603</td>\n",
       "</tr>\n",
       "<tr>\n",
       "  <th>Time:</th>                      <td>18:11:54</td>           <th>  HQIC               </th>  <td>3469359.359</td>\n",
       "</tr>\n",
       "<tr>\n",
       "  <th>Sample:</th>                   <td>01-30-2020</td>          <th>                     </th>       <td> </td>     \n",
       "</tr>\n",
       "<tr>\n",
       "  <th></th>                         <td>- 10-30-2021</td>         <th>                     </th>       <td> </td>     \n",
       "</tr>\n",
       "<tr>\n",
       "  <th>Covariance Type:</th>              <td>opg</td>             <th>                     </th>       <td> </td>     \n",
       "</tr>\n",
       "</table>\n",
       "<table class=\"simpletable\">\n",
       "<tr>\n",
       "  <th>Ljung-Box (L1) (Q):</th>     <td>521.38, 634.73</td> <th>  Jarque-Bera (JB):  </th> <td>354.95, 196.78</td>\n",
       "</tr>\n",
       "<tr>\n",
       "  <th>Prob(Q):</th>                  <td>0.00, 0.00</td>   <th>  Prob(JB):          </th>   <td>0.00, 0.00</td>  \n",
       "</tr>\n",
       "<tr>\n",
       "  <th>Heteroskedasticity (H):</th>   <td>2.38, 0.18</td>   <th>  Skew:              </th>   <td>-0.45, 1.26</td> \n",
       "</tr>\n",
       "<tr>\n",
       "  <th>Prob(H) (two-sided):</th>      <td>0.00, 0.00</td>   <th>  Kurtosis:          </th>   <td>6.53, 4.00</td>  \n",
       "</tr>\n",
       "</table>\n",
       "<table class=\"simpletable\">\n",
       "<caption>Results for equation Confirmed</caption>\n",
       "<tr>\n",
       "         <td></td>           <th>coef</th>     <th>std err</th>      <th>z</th>      <th>P>|z|</th>  <th>[0.025</th>    <th>0.975]</th>  \n",
       "</tr>\n",
       "<tr>\n",
       "  <th>intercept</th>      <td> 5.355e+04</td> <td> 1.13e-05</td> <td> 4.73e+09</td> <td> 0.000</td> <td> 5.36e+04</td> <td> 5.36e+04</td>\n",
       "</tr>\n",
       "<tr>\n",
       "  <th>L1.Confirmed</th>   <td>   -0.0336</td> <td>    0.005</td> <td>   -6.593</td> <td> 0.000</td> <td>   -0.044</td> <td>   -0.024</td>\n",
       "</tr>\n",
       "<tr>\n",
       "  <th>L1.Total_Doses</th> <td>    0.0021</td> <td> 2.32e-05</td> <td>   88.642</td> <td> 0.000</td> <td>    0.002</td> <td>    0.002</td>\n",
       "</tr>\n",
       "<tr>\n",
       "  <th>L2.Confirmed</th>   <td>    0.4565</td> <td>    0.008</td> <td>   53.974</td> <td> 0.000</td> <td>    0.440</td> <td>    0.473</td>\n",
       "</tr>\n",
       "<tr>\n",
       "  <th>L2.Total_Doses</th> <td>    0.0024</td> <td> 2.77e-05</td> <td>   87.124</td> <td> 0.000</td> <td>    0.002</td> <td>    0.002</td>\n",
       "</tr>\n",
       "<tr>\n",
       "  <th>L3.Confirmed</th>   <td>    0.3541</td> <td>    0.007</td> <td>   50.170</td> <td> 0.000</td> <td>    0.340</td> <td>    0.368</td>\n",
       "</tr>\n",
       "<tr>\n",
       "  <th>L3.Total_Doses</th> <td>   -0.0004</td> <td> 3.44e-05</td> <td>  -10.863</td> <td> 0.000</td> <td>   -0.000</td> <td>   -0.000</td>\n",
       "</tr>\n",
       "<tr>\n",
       "  <th>L4.Confirmed</th>   <td>    0.0025</td> <td>    0.014</td> <td>    0.181</td> <td> 0.857</td> <td>   -0.025</td> <td>    0.030</td>\n",
       "</tr>\n",
       "<tr>\n",
       "  <th>L4.Total_Doses</th> <td>   -0.0026</td> <td> 2.65e-05</td> <td>  -96.302</td> <td> 0.000</td> <td>   -0.003</td> <td>   -0.003</td>\n",
       "</tr>\n",
       "<tr>\n",
       "  <th>L5.Confirmed</th>   <td>   -0.0457</td> <td>    0.013</td> <td>   -3.654</td> <td> 0.000</td> <td>   -0.070</td> <td>   -0.021</td>\n",
       "</tr>\n",
       "<tr>\n",
       "  <th>L5.Total_Doses</th> <td>   -0.0016</td> <td> 2.05e-05</td> <td>  -76.427</td> <td> 0.000</td> <td>   -0.002</td> <td>   -0.002</td>\n",
       "</tr>\n",
       "</table>\n",
       "<table class=\"simpletable\">\n",
       "<caption>Results for equation Total_Doses</caption>\n",
       "<tr>\n",
       "         <td></td>           <th>coef</th>     <th>std err</th>      <th>z</th>      <th>P>|z|</th>  <th>[0.025</th>    <th>0.975]</th>  \n",
       "</tr>\n",
       "<tr>\n",
       "  <th>intercept</th>      <td> 1.567e+08</td> <td> 5.19e-07</td> <td> 3.02e+14</td> <td> 0.000</td> <td> 1.57e+08</td> <td> 1.57e+08</td>\n",
       "</tr>\n",
       "<tr>\n",
       "  <th>L1.Confirmed</th>   <td> -242.9848</td> <td>    0.096</td> <td>-2535.606</td> <td> 0.000</td> <td> -243.173</td> <td> -242.797</td>\n",
       "</tr>\n",
       "<tr>\n",
       "  <th>L1.Total_Doses</th> <td>   -1.9687</td> <td>    0.002</td> <td>-1296.858</td> <td> 0.000</td> <td>   -1.972</td> <td>   -1.966</td>\n",
       "</tr>\n",
       "<tr>\n",
       "  <th>L2.Confirmed</th>   <td> -364.0310</td> <td>    0.108</td> <td>-3366.876</td> <td> 0.000</td> <td> -364.243</td> <td> -363.819</td>\n",
       "</tr>\n",
       "<tr>\n",
       "  <th>L2.Total_Doses</th> <td>   -1.0205</td> <td>    0.002</td> <td> -469.150</td> <td> 0.000</td> <td>   -1.025</td> <td>   -1.016</td>\n",
       "</tr>\n",
       "<tr>\n",
       "  <th>L3.Confirmed</th>   <td> -170.3838</td> <td>    0.119</td> <td>-1433.416</td> <td> 0.000</td> <td> -170.617</td> <td> -170.151</td>\n",
       "</tr>\n",
       "<tr>\n",
       "  <th>L3.Total_Doses</th> <td>    1.1570</td> <td>    0.002</td> <td>  529.150</td> <td> 0.000</td> <td>    1.153</td> <td>    1.161</td>\n",
       "</tr>\n",
       "<tr>\n",
       "  <th>L4.Confirmed</th>   <td>   27.8924</td> <td>    0.111</td> <td>  252.043</td> <td> 0.000</td> <td>   27.676</td> <td>   28.109</td>\n",
       "</tr>\n",
       "<tr>\n",
       "  <th>L4.Total_Doses</th> <td>    1.8911</td> <td>    0.002</td> <td>  911.010</td> <td> 0.000</td> <td>    1.887</td> <td>    1.895</td>\n",
       "</tr>\n",
       "<tr>\n",
       "  <th>L5.Confirmed</th>   <td>   25.5806</td> <td>    0.090</td> <td>  283.340</td> <td> 0.000</td> <td>   25.404</td> <td>   25.758</td>\n",
       "</tr>\n",
       "<tr>\n",
       "  <th>L5.Total_Doses</th> <td>    0.8576</td> <td>    0.002</td> <td>  571.714</td> <td> 0.000</td> <td>    0.855</td> <td>    0.861</td>\n",
       "</tr>\n",
       "</table>\n",
       "<table class=\"simpletable\">\n",
       "<caption>Error covariance matrix</caption>\n",
       "<tr>\n",
       "                 <td></td>                   <th>coef</th>     <th>std err</th>      <th>z</th>      <th>P>|z|</th>  <th>[0.025</th>    <th>0.975]</th>  \n",
       "</tr>\n",
       "<tr>\n",
       "  <th>sqrt.var.Confirmed</th>             <td> 1.113e+04</td> <td>    0.000</td> <td> 9.16e+07</td> <td> 0.000</td> <td> 1.11e+04</td> <td> 1.11e+04</td>\n",
       "</tr>\n",
       "<tr>\n",
       "  <th>sqrt.cov.Confirmed.Total_Doses</th> <td>  7.34e+04</td> <td> 8.08e-06</td> <td> 9.08e+09</td> <td> 0.000</td> <td> 7.34e+04</td> <td> 7.34e+04</td>\n",
       "</tr>\n",
       "<tr>\n",
       "  <th>sqrt.var.Total_Doses</th>           <td> 1.579e+06</td> <td> 5.89e-05</td> <td> 2.68e+10</td> <td> 0.000</td> <td> 1.58e+06</td> <td> 1.58e+06</td>\n",
       "</tr>\n",
       "</table><br/><br/>Warnings:<br/>[1] Covariance matrix calculated using the outer product of gradients (complex-step).<br/>[2] Covariance matrix is singular or near-singular, with condition number 1.36e+24. Standard errors may be unstable."
      ],
      "text/plain": [
       "<class 'statsmodels.iolib.summary.Summary'>\n",
       "\"\"\"\n",
       "                                Statespace Model Results                                \n",
       "========================================================================================\n",
       "Dep. Variable:     ['Confirmed', 'Total_Doses']   No. Observations:                  640\n",
       "Model:                                   VAR(5)   Log Likelihood            -1734633.033\n",
       "                                    + intercept   AIC                        3469316.066\n",
       "Date:                          Thu, 27 Jan 2022   BIC                        3469427.603\n",
       "Time:                                  18:11:54   HQIC                       3469359.359\n",
       "Sample:                              01-30-2020                                         \n",
       "                                   - 10-30-2021                                         \n",
       "Covariance Type:                            opg                                         \n",
       "===================================================================================\n",
       "Ljung-Box (L1) (Q):         521.38, 634.73   Jarque-Bera (JB):       354.95, 196.78\n",
       "Prob(Q):                        0.00, 0.00   Prob(JB):                   0.00, 0.00\n",
       "Heteroskedasticity (H):         2.38, 0.18   Skew:                      -0.45, 1.26\n",
       "Prob(H) (two-sided):            0.00, 0.00   Kurtosis:                   6.53, 4.00\n",
       "                          Results for equation Confirmed                          \n",
       "==================================================================================\n",
       "                     coef    std err          z      P>|z|      [0.025      0.975]\n",
       "----------------------------------------------------------------------------------\n",
       "intercept       5.355e+04   1.13e-05   4.73e+09      0.000    5.36e+04    5.36e+04\n",
       "L1.Confirmed      -0.0336      0.005     -6.593      0.000      -0.044      -0.024\n",
       "L1.Total_Doses     0.0021   2.32e-05     88.642      0.000       0.002       0.002\n",
       "L2.Confirmed       0.4565      0.008     53.974      0.000       0.440       0.473\n",
       "L2.Total_Doses     0.0024   2.77e-05     87.124      0.000       0.002       0.002\n",
       "L3.Confirmed       0.3541      0.007     50.170      0.000       0.340       0.368\n",
       "L3.Total_Doses    -0.0004   3.44e-05    -10.863      0.000      -0.000      -0.000\n",
       "L4.Confirmed       0.0025      0.014      0.181      0.857      -0.025       0.030\n",
       "L4.Total_Doses    -0.0026   2.65e-05    -96.302      0.000      -0.003      -0.003\n",
       "L5.Confirmed      -0.0457      0.013     -3.654      0.000      -0.070      -0.021\n",
       "L5.Total_Doses    -0.0016   2.05e-05    -76.427      0.000      -0.002      -0.002\n",
       "                         Results for equation Total_Doses                         \n",
       "==================================================================================\n",
       "                     coef    std err          z      P>|z|      [0.025      0.975]\n",
       "----------------------------------------------------------------------------------\n",
       "intercept       1.567e+08   5.19e-07   3.02e+14      0.000    1.57e+08    1.57e+08\n",
       "L1.Confirmed    -242.9848      0.096  -2535.606      0.000    -243.173    -242.797\n",
       "L1.Total_Doses    -1.9687      0.002  -1296.858      0.000      -1.972      -1.966\n",
       "L2.Confirmed    -364.0310      0.108  -3366.876      0.000    -364.243    -363.819\n",
       "L2.Total_Doses    -1.0205      0.002   -469.150      0.000      -1.025      -1.016\n",
       "L3.Confirmed    -170.3838      0.119  -1433.416      0.000    -170.617    -170.151\n",
       "L3.Total_Doses     1.1570      0.002    529.150      0.000       1.153       1.161\n",
       "L4.Confirmed      27.8924      0.111    252.043      0.000      27.676      28.109\n",
       "L4.Total_Doses     1.8911      0.002    911.010      0.000       1.887       1.895\n",
       "L5.Confirmed      25.5806      0.090    283.340      0.000      25.404      25.758\n",
       "L5.Total_Doses     0.8576      0.002    571.714      0.000       0.855       0.861\n",
       "                                     Error covariance matrix                                      \n",
       "==================================================================================================\n",
       "                                     coef    std err          z      P>|z|      [0.025      0.975]\n",
       "--------------------------------------------------------------------------------------------------\n",
       "sqrt.var.Confirmed              1.113e+04      0.000   9.16e+07      0.000    1.11e+04    1.11e+04\n",
       "sqrt.cov.Confirmed.Total_Doses   7.34e+04   8.08e-06   9.08e+09      0.000    7.34e+04    7.34e+04\n",
       "sqrt.var.Total_Doses            1.579e+06   5.89e-05   2.68e+10      0.000    1.58e+06    1.58e+06\n",
       "==================================================================================================\n",
       "\n",
       "Warnings:\n",
       "[1] Covariance matrix calculated using the outer product of gradients (complex-step).\n",
       "[2] Covariance matrix is singular or near-singular, with condition number 1.36e+24. Standard errors may be unstable.\n",
       "\"\"\""
      ]
     },
     "execution_count": 109,
     "metadata": {},
     "output_type": "execute_result"
    }
   ],
   "source": [
    "model_fit.summary()"
   ]
  },
  {
   "cell_type": "code",
   "execution_count": 110,
   "id": "b4aae6e7",
   "metadata": {},
   "outputs": [],
   "source": [
    "# # preprocessing.get_all_attrs(model_fit)\n",
    "\n",
    "# for attr in dir(model_fit.model):\n",
    "#     if not attr.startswith('_'):\n",
    "#         print(attr)\n",
    "\n",
    "# model_fit.model.k_ar"
   ]
  },
  {
   "cell_type": "markdown",
   "id": "6585d600",
   "metadata": {},
   "source": [
    "<a name=diff_plot_var></a>\n",
    "\n",
    "## Plots of Predictions (Differenced)"
   ]
  },
  {
   "cell_type": "code",
   "execution_count": 111,
   "id": "de78b6c6",
   "metadata": {},
   "outputs": [
    {
     "data": {
      "image/png": "[encoded data removed]",
      "text/plain": [
       "<Figure size 864x576 with 1 Axes>"
      ]
     },
     "metadata": {
      "needs_background": "light"
     },
     "output_type": "display_data"
    }
   ],
   "source": [
    "plotting.plot_fore_test(test=test[['Confirmed']], fore=forecasted[['Confirmed']], title='Forecasted daily cases')"
   ]
  },
  {
   "cell_type": "markdown",
   "id": "e6d05760",
   "metadata": {},
   "source": [
    "<a name=store_var></a>\n",
    "\n",
    "## Store metrics"
   ]
  },
  {
   "cell_type": "code",
   "execution_count": 112,
   "id": "4a454090",
   "metadata": {},
   "outputs": [
    {
     "data": {
      "text/html": [
       "<div>\n",
       "<style scoped>\n",
       "    .dataframe tbody tr th:only-of-type {\n",
       "        vertical-align: middle;\n",
       "    }\n",
       "\n",
       "    .dataframe tbody tr th {\n",
       "        vertical-align: top;\n",
       "    }\n",
       "\n",
       "    .dataframe thead th {\n",
       "        text-align: right;\n",
       "    }\n",
       "</style>\n",
       "<table border=\"1\" class=\"dataframe\">\n",
       "  <thead>\n",
       "    <tr style=\"text-align: right;\">\n",
       "      <th></th>\n",
       "      <th>model</th>\n",
       "      <th>mse</th>\n",
       "      <th>mape</th>\n",
       "      <th>mae</th>\n",
       "    </tr>\n",
       "  </thead>\n",
       "  <tbody>\n",
       "    <tr>\n",
       "      <th>0</th>\n",
       "      <td>VAR(5)</td>\n",
       "      <td>7.301440e+09</td>\n",
       "      <td>856.353398</td>\n",
       "      <td>83843.412657</td>\n",
       "    </tr>\n",
       "  </tbody>\n",
       "</table>\n",
       "</div>"
      ],
      "text/plain": [
       "    model           mse        mape           mae\n",
       "0  VAR(5)  7.301440e+09  856.353398  83843.412657"
      ]
     },
     "execution_count": 112,
     "metadata": {},
     "output_type": "execute_result"
    }
   ],
   "source": [
    "results_table = results_table.append({\n",
    "    'model': preprocessing.get_varma_model_name(model_fit),\n",
    "    'mse': metrics.mean_squared_error(test['Confirmed'], forecasted['Confirmed']),\n",
    "    'mape': metrics.MAPE(test['Confirmed'], forecasted['Confirmed']),\n",
    "    'mae': metrics.mean_absolute_error(test['Confirmed'], forecasted['Confirmed'])\n",
    "}, ignore_index=True)\n",
    "\n",
    "results_table"
   ]
  },
  {
   "cell_type": "markdown",
   "id": "f88bc316",
   "metadata": {},
   "source": [
    "<a name=plot_final_var></a>\n",
    "\n",
    "## Plot Train, Test, Forecast"
   ]
  },
  {
   "cell_type": "code",
   "execution_count": 113,
   "id": "79e8cc9f",
   "metadata": {},
   "outputs": [
    {
     "data": {
      "image/png": "[encoded data removed]",
      "text/plain": [
       "<Figure size 1000x500 with 1 Axes>"
      ]
     },
     "metadata": {
      "needs_background": "light"
     },
     "output_type": "display_data"
    }
   ],
   "source": [
    "# Plot of daily cases\n",
    "plotting.plot_train_test_fore(train=train.Confirmed, test=test[['Confirmed']], fore=forecasted[['Confirmed']], title='Daily cases')\n"
   ]
  },
  {
   "cell_type": "markdown",
   "id": "4496924c",
   "metadata": {},
   "source": [
    "Clearly, a VAR model is not good enough to make predictions"
   ]
  },
  {
   "cell_type": "markdown",
   "id": "52c7c2bb",
   "metadata": {},
   "source": [
    "<a name=vma_model></a>\n",
    "\n",
    "# VMA Model"
   ]
  },
  {
   "cell_type": "markdown",
   "id": "cc9d9dd3",
   "metadata": {},
   "source": [
    "<a name=vma_q></a>\n",
    "## Find order q of VMA"
   ]
  },
  {
   "cell_type": "code",
   "execution_count": 114,
   "id": "360246e6",
   "metadata": {},
   "outputs": [
    {
     "data": {
      "image/png": "[encoded data removed]",
      "text/plain": [
       "<Figure size 432x288 with 1 Axes>"
      ]
     },
     "metadata": {
      "needs_background": "light"
     },
     "output_type": "display_data"
    }
   ],
   "source": [
    "acf_varma_confirmed = plot_acf(train['Confirmed'].diff().dropna().diff().dropna(), lags=25)"
   ]
  },
  {
   "cell_type": "code",
   "execution_count": 115,
   "id": "3e041a2e",
   "metadata": {},
   "outputs": [
    {
     "name": "stdout",
     "output_type": "stream",
     "text": [
      "VARMA(0, 1): MSE=3635907309.569, MAPE=457.307, MAE=49851.392\n",
      "VARMA(0, 2): MSE=74006516345818.156, MAPE=10678.614, MAE=1090248.578\n",
      "VARMA(0, 7): MSE=51760765088.642, MAPE=908.935, MAE=99383.410\n",
      "\n",
      "Best VARMA(0, 1): MSE=3635907309.569\n"
     ]
    }
   ],
   "source": [
    "metrics.evaluate_varma_models(train, test, [0], [1, 2, 7], column='Confirmed')"
   ]
  },
  {
   "cell_type": "markdown",
   "id": "9cd4776b",
   "metadata": {},
   "source": [
    "<a name=vma1></a>\n",
    "\n",
    "## VMA(1)"
   ]
  },
  {
   "cell_type": "code",
   "execution_count": 116,
   "id": "ed80a44d",
   "metadata": {},
   "outputs": [],
   "source": [
    "model_ma = VARMAX(train, order=(0, 1))\n",
    "model_fit_ma = model_ma.fit()\n",
    "forecasted_ma = model_fit_ma.get_prediction(start=len(train), end=len(train)+len(test)-1).predicted_mean\n",
    "\n",
    "df_forecast_ma = pd.DataFrame(forecasted_ma, index=test.index)\n",
    "df_forecast_ma.rename(columns = {'Confirmed': 'Confirmed_forecast', 'Total_Doses': 'Total_Doses_forecast'}, inplace=True)\n",
    "\n",
    "forecasted_conf_ma = df_forecast_ma.join(test)[['Confirmed', 'Confirmed_forecast']]\n",
    "forecasted_vacc_ma = df_forecast_ma.join(test)[['Total_Doses', 'Total_Doses_forecast']]\n",
    "\n",
    "# conf = model_fit.conf_int(alpha=0.05)"
   ]
  },
  {
   "cell_type": "code",
   "execution_count": 117,
   "id": "7c073c87",
   "metadata": {},
   "outputs": [
    {
     "data": {
      "text/html": [
       "<div>\n",
       "<style scoped>\n",
       "    .dataframe tbody tr th:only-of-type {\n",
       "        vertical-align: middle;\n",
       "    }\n",
       "\n",
       "    .dataframe tbody tr th {\n",
       "        vertical-align: top;\n",
       "    }\n",
       "\n",
       "    .dataframe thead th {\n",
       "        text-align: right;\n",
       "    }\n",
       "</style>\n",
       "<table border=\"1\" class=\"dataframe\">\n",
       "  <thead>\n",
       "    <tr style=\"text-align: right;\">\n",
       "      <th></th>\n",
       "      <th>Confirmed</th>\n",
       "      <th>Total_Doses</th>\n",
       "    </tr>\n",
       "  </thead>\n",
       "  <tbody>\n",
       "    <tr>\n",
       "      <th>2021-10-31</th>\n",
       "      <td>-283238.529979</td>\n",
       "      <td>8.522916e+08</td>\n",
       "    </tr>\n",
       "    <tr>\n",
       "      <th>2021-11-01</th>\n",
       "      <td>53552.029693</td>\n",
       "      <td>1.567496e+08</td>\n",
       "    </tr>\n",
       "    <tr>\n",
       "      <th>2021-11-02</th>\n",
       "      <td>53552.029693</td>\n",
       "      <td>1.567496e+08</td>\n",
       "    </tr>\n",
       "    <tr>\n",
       "      <th>2021-11-03</th>\n",
       "      <td>53552.029693</td>\n",
       "      <td>1.567496e+08</td>\n",
       "    </tr>\n",
       "    <tr>\n",
       "      <th>2021-11-04</th>\n",
       "      <td>53552.029693</td>\n",
       "      <td>1.567496e+08</td>\n",
       "    </tr>\n",
       "    <tr>\n",
       "      <th>...</th>\n",
       "      <td>...</td>\n",
       "      <td>...</td>\n",
       "    </tr>\n",
       "    <tr>\n",
       "      <th>2022-01-06</th>\n",
       "      <td>53552.029693</td>\n",
       "      <td>1.567496e+08</td>\n",
       "    </tr>\n",
       "    <tr>\n",
       "      <th>2022-01-07</th>\n",
       "      <td>53552.029693</td>\n",
       "      <td>1.567496e+08</td>\n",
       "    </tr>\n",
       "    <tr>\n",
       "      <th>2022-01-08</th>\n",
       "      <td>53552.029693</td>\n",
       "      <td>1.567496e+08</td>\n",
       "    </tr>\n",
       "    <tr>\n",
       "      <th>2022-01-09</th>\n",
       "      <td>53552.029693</td>\n",
       "      <td>1.567496e+08</td>\n",
       "    </tr>\n",
       "    <tr>\n",
       "      <th>2022-01-10</th>\n",
       "      <td>53552.029693</td>\n",
       "      <td>1.567496e+08</td>\n",
       "    </tr>\n",
       "  </tbody>\n",
       "</table>\n",
       "<p>72 rows × 2 columns</p>\n",
       "</div>"
      ],
      "text/plain": [
       "                Confirmed   Total_Doses\n",
       "2021-10-31 -283238.529979  8.522916e+08\n",
       "2021-11-01   53552.029693  1.567496e+08\n",
       "2021-11-02   53552.029693  1.567496e+08\n",
       "2021-11-03   53552.029693  1.567496e+08\n",
       "2021-11-04   53552.029693  1.567496e+08\n",
       "...                   ...           ...\n",
       "2022-01-06   53552.029693  1.567496e+08\n",
       "2022-01-07   53552.029693  1.567496e+08\n",
       "2022-01-08   53552.029693  1.567496e+08\n",
       "2022-01-09   53552.029693  1.567496e+08\n",
       "2022-01-10   53552.029693  1.567496e+08\n",
       "\n",
       "[72 rows x 2 columns]"
      ]
     },
     "execution_count": 117,
     "metadata": {},
     "output_type": "execute_result"
    }
   ],
   "source": [
    "model_fit_ma.get_prediction(start=len(train), end=len(train)+len(test)-1).predicted_mean"
   ]
  },
  {
   "cell_type": "code",
   "execution_count": 118,
   "id": "064fe790",
   "metadata": {},
   "outputs": [
    {
     "data": {
      "text/html": [
       "<table class=\"simpletable\">\n",
       "<caption>Statespace Model Results</caption>\n",
       "<tr>\n",
       "  <th>Dep. Variable:</th>   <td>['Confirmed', 'Total_Doses']</td> <th>  No. Observations:  </th>     <td>640</td>    \n",
       "</tr>\n",
       "<tr>\n",
       "  <th>Model:</th>                      <td>VMA(1)</td>            <th>  Log Likelihood     </th> <td>-332670.242</td>\n",
       "</tr>\n",
       "<tr>\n",
       "  <th></th>                          <td>+ intercept</td>         <th>  AIC                </th> <td>665358.484</td> \n",
       "</tr>\n",
       "<tr>\n",
       "  <th>Date:</th>                  <td>Thu, 27 Jan 2022</td>       <th>  BIC                </th> <td>665398.637</td> \n",
       "</tr>\n",
       "<tr>\n",
       "  <th>Time:</th>                      <td>18:12:30</td>           <th>  HQIC               </th> <td>665374.069</td> \n",
       "</tr>\n",
       "<tr>\n",
       "  <th>Sample:</th>                   <td>01-30-2020</td>          <th>                     </th>      <td> </td>     \n",
       "</tr>\n",
       "<tr>\n",
       "  <th></th>                         <td>- 10-30-2021</td>         <th>                     </th>      <td> </td>     \n",
       "</tr>\n",
       "<tr>\n",
       "  <th>Covariance Type:</th>              <td>opg</td>             <th>                     </th>      <td> </td>     \n",
       "</tr>\n",
       "</table>\n",
       "<table class=\"simpletable\">\n",
       "<tr>\n",
       "  <th>Ljung-Box (L1) (Q):</th>     <td>598.45, 423.42</td> <th>  Jarque-Bera (JB):  </th> <td>126.16, 156.48</td>\n",
       "</tr>\n",
       "<tr>\n",
       "  <th>Prob(Q):</th>                  <td>0.00, 0.00</td>   <th>  Prob(JB):          </th>   <td>0.00, 0.00</td>  \n",
       "</tr>\n",
       "<tr>\n",
       "  <th>Heteroskedasticity (H):</th>   <td>3.66, 18.32</td>  <th>  Skew:              </th>   <td>1.09, 0.78</td>  \n",
       "</tr>\n",
       "<tr>\n",
       "  <th>Prob(H) (two-sided):</th>      <td>0.00, 0.00</td>   <th>  Kurtosis:          </th>   <td>2.89, 4.85</td>  \n",
       "</tr>\n",
       "</table>\n",
       "<table class=\"simpletable\">\n",
       "<caption>Results for equation Confirmed</caption>\n",
       "<tr>\n",
       "          <td></td>             <th>coef</th>     <th>std err</th>      <th>z</th>      <th>P>|z|</th>  <th>[0.025</th>    <th>0.975]</th>  \n",
       "</tr>\n",
       "<tr>\n",
       "  <th>intercept</th>         <td> 5.355e+04</td> <td>    0.000</td> <td> 3.54e+08</td> <td> 0.000</td> <td> 5.36e+04</td> <td> 5.36e+04</td>\n",
       "</tr>\n",
       "<tr>\n",
       "  <th>L1.e(Confirmed)</th>   <td>   -0.4351</td> <td> 2.77e-05</td> <td>-1.57e+04</td> <td> 0.000</td> <td>   -0.435</td> <td>   -0.435</td>\n",
       "</tr>\n",
       "<tr>\n",
       "  <th>L1.e(Total_Doses)</th> <td>   -0.0010</td> <td> 5.33e-08</td> <td>-1.92e+04</td> <td> 0.000</td> <td>   -0.001</td> <td>   -0.001</td>\n",
       "</tr>\n",
       "</table>\n",
       "<table class=\"simpletable\">\n",
       "<caption>Results for equation Total_Doses</caption>\n",
       "<tr>\n",
       "          <td></td>             <th>coef</th>     <th>std err</th>      <th>z</th>      <th>P>|z|</th>  <th>[0.025</th>    <th>0.975]</th>  \n",
       "</tr>\n",
       "<tr>\n",
       "  <th>intercept</th>         <td> 1.567e+08</td> <td> 5.28e-08</td> <td> 2.97e+15</td> <td> 0.000</td> <td> 1.57e+08</td> <td> 1.57e+08</td>\n",
       "</tr>\n",
       "<tr>\n",
       "  <th>L1.e(Confirmed)</th>   <td> 1178.3843</td> <td>    0.049</td> <td> 2.38e+04</td> <td> 0.000</td> <td> 1178.287</td> <td> 1178.481</td>\n",
       "</tr>\n",
       "<tr>\n",
       "  <th>L1.e(Total_Doses)</th> <td>    1.6962</td> <td> 2.88e-05</td> <td> 5.89e+04</td> <td> 0.000</td> <td>    1.696</td> <td>    1.696</td>\n",
       "</tr>\n",
       "</table>\n",
       "<table class=\"simpletable\">\n",
       "<caption>Error covariance matrix</caption>\n",
       "<tr>\n",
       "                 <td></td>                   <th>coef</th>     <th>std err</th>      <th>z</th>      <th>P>|z|</th>  <th>[0.025</th>    <th>0.975]</th>  \n",
       "</tr>\n",
       "<tr>\n",
       "  <th>sqrt.var.Confirmed</th>             <td> 1.197e+04</td> <td>    0.001</td> <td> 2.16e+07</td> <td> 0.000</td> <td>  1.2e+04</td> <td>  1.2e+04</td>\n",
       "</tr>\n",
       "<tr>\n",
       "  <th>sqrt.cov.Confirmed.Total_Doses</th> <td> 8.648e+04</td> <td> 7.06e-06</td> <td> 1.23e+10</td> <td> 0.000</td> <td> 8.65e+04</td> <td> 8.65e+04</td>\n",
       "</tr>\n",
       "<tr>\n",
       "  <th>sqrt.var.Total_Doses</th>           <td> 2.379e+06</td> <td> 2.52e-05</td> <td> 9.45e+10</td> <td> 0.000</td> <td> 2.38e+06</td> <td> 2.38e+06</td>\n",
       "</tr>\n",
       "</table><br/><br/>Warnings:<br/>[1] Covariance matrix calculated using the outer product of gradients (complex-step).<br/>[2] Covariance matrix is singular or near-singular, with condition number 4.04e+26. Standard errors may be unstable."
      ],
      "text/plain": [
       "<class 'statsmodels.iolib.summary.Summary'>\n",
       "\"\"\"\n",
       "                                Statespace Model Results                                \n",
       "========================================================================================\n",
       "Dep. Variable:     ['Confirmed', 'Total_Doses']   No. Observations:                  640\n",
       "Model:                                   VMA(1)   Log Likelihood             -332670.242\n",
       "                                    + intercept   AIC                         665358.484\n",
       "Date:                          Thu, 27 Jan 2022   BIC                         665398.637\n",
       "Time:                                  18:12:30   HQIC                        665374.069\n",
       "Sample:                              01-30-2020                                         \n",
       "                                   - 10-30-2021                                         \n",
       "Covariance Type:                            opg                                         \n",
       "===================================================================================\n",
       "Ljung-Box (L1) (Q):         598.45, 423.42   Jarque-Bera (JB):       126.16, 156.48\n",
       "Prob(Q):                        0.00, 0.00   Prob(JB):                   0.00, 0.00\n",
       "Heteroskedasticity (H):        3.66, 18.32   Skew:                       1.09, 0.78\n",
       "Prob(H) (two-sided):            0.00, 0.00   Kurtosis:                   2.89, 4.85\n",
       "                            Results for equation Confirmed                           \n",
       "=====================================================================================\n",
       "                        coef    std err          z      P>|z|      [0.025      0.975]\n",
       "-------------------------------------------------------------------------------------\n",
       "intercept          5.355e+04      0.000   3.54e+08      0.000    5.36e+04    5.36e+04\n",
       "L1.e(Confirmed)      -0.4351   2.77e-05  -1.57e+04      0.000      -0.435      -0.435\n",
       "L1.e(Total_Doses)    -0.0010   5.33e-08  -1.92e+04      0.000      -0.001      -0.001\n",
       "                           Results for equation Total_Doses                          \n",
       "=====================================================================================\n",
       "                        coef    std err          z      P>|z|      [0.025      0.975]\n",
       "-------------------------------------------------------------------------------------\n",
       "intercept          1.567e+08   5.28e-08   2.97e+15      0.000    1.57e+08    1.57e+08\n",
       "L1.e(Confirmed)    1178.3843      0.049   2.38e+04      0.000    1178.287    1178.481\n",
       "L1.e(Total_Doses)     1.6962   2.88e-05   5.89e+04      0.000       1.696       1.696\n",
       "                                     Error covariance matrix                                      \n",
       "==================================================================================================\n",
       "                                     coef    std err          z      P>|z|      [0.025      0.975]\n",
       "--------------------------------------------------------------------------------------------------\n",
       "sqrt.var.Confirmed              1.197e+04      0.001   2.16e+07      0.000     1.2e+04     1.2e+04\n",
       "sqrt.cov.Confirmed.Total_Doses  8.648e+04   7.06e-06   1.23e+10      0.000    8.65e+04    8.65e+04\n",
       "sqrt.var.Total_Doses            2.379e+06   2.52e-05   9.45e+10      0.000    2.38e+06    2.38e+06\n",
       "==================================================================================================\n",
       "\n",
       "Warnings:\n",
       "[1] Covariance matrix calculated using the outer product of gradients (complex-step).\n",
       "[2] Covariance matrix is singular or near-singular, with condition number 4.04e+26. Standard errors may be unstable.\n",
       "\"\"\""
      ]
     },
     "execution_count": 118,
     "metadata": {},
     "output_type": "execute_result"
    }
   ],
   "source": [
    "model_fit_ma.summary()"
   ]
  },
  {
   "cell_type": "markdown",
   "id": "ebb0aaee",
   "metadata": {},
   "source": [
    "<a name=diff_plot_vma></a>\n",
    "\n",
    "## Plots of Predictions (Differenced)"
   ]
  },
  {
   "cell_type": "code",
   "execution_count": 119,
   "id": "e125de16",
   "metadata": {},
   "outputs": [],
   "source": [
    "# plot_fore_test(test[['Confirmed']], forecasted_ma[['Confirmed']], title='Diffed Daily cases')"
   ]
  },
  {
   "cell_type": "code",
   "execution_count": 120,
   "id": "c89ca882",
   "metadata": {},
   "outputs": [],
   "source": [
    "# plot_fore_test(test[['Total_Doses']], forecasted_ma[['Total_Doses']], title='Diffed Daily vaccinations')"
   ]
  },
  {
   "cell_type": "markdown",
   "id": "a3239fc0",
   "metadata": {},
   "source": [
    "<a name=store_vma></a>\n",
    "\n",
    "## Store metrics"
   ]
  },
  {
   "cell_type": "code",
   "execution_count": 121,
   "id": "4f8f4cc9",
   "metadata": {},
   "outputs": [
    {
     "data": {
      "text/html": [
       "<div>\n",
       "<style scoped>\n",
       "    .dataframe tbody tr th:only-of-type {\n",
       "        vertical-align: middle;\n",
       "    }\n",
       "\n",
       "    .dataframe tbody tr th {\n",
       "        vertical-align: top;\n",
       "    }\n",
       "\n",
       "    .dataframe thead th {\n",
       "        text-align: right;\n",
       "    }\n",
       "</style>\n",
       "<table border=\"1\" class=\"dataframe\">\n",
       "  <thead>\n",
       "    <tr style=\"text-align: right;\">\n",
       "      <th></th>\n",
       "      <th>model</th>\n",
       "      <th>mse</th>\n",
       "      <th>mape</th>\n",
       "      <th>mae</th>\n",
       "    </tr>\n",
       "  </thead>\n",
       "  <tbody>\n",
       "    <tr>\n",
       "      <th>0</th>\n",
       "      <td>VAR(5)</td>\n",
       "      <td>7.301440e+09</td>\n",
       "      <td>856.353398</td>\n",
       "      <td>83843.412657</td>\n",
       "    </tr>\n",
       "    <tr>\n",
       "      <th>1</th>\n",
       "      <td>VMA(1)</td>\n",
       "      <td>3.635907e+09</td>\n",
       "      <td>457.307130</td>\n",
       "      <td>49851.391979</td>\n",
       "    </tr>\n",
       "  </tbody>\n",
       "</table>\n",
       "</div>"
      ],
      "text/plain": [
       "    model           mse        mape           mae\n",
       "0  VAR(5)  7.301440e+09  856.353398  83843.412657\n",
       "1  VMA(1)  3.635907e+09  457.307130  49851.391979"
      ]
     },
     "execution_count": 121,
     "metadata": {},
     "output_type": "execute_result"
    }
   ],
   "source": [
    "results_table = results_table.append({\n",
    "    'model': preprocessing.get_varma_model_name(model_fit_ma),\n",
    "    'mse': metrics.mean_squared_error(test['Confirmed'], forecasted_ma['Confirmed']),\n",
    "    'mape': metrics.MAPE(test['Confirmed'], forecasted_ma['Confirmed']),\n",
    "    'mae': metrics.mean_absolute_error(test['Confirmed'], forecasted_ma['Confirmed'])\n",
    "}, ignore_index=True)\n",
    "\n",
    "results_table"
   ]
  },
  {
   "cell_type": "code",
   "execution_count": 122,
   "id": "b1b9cbbf",
   "metadata": {},
   "outputs": [
    {
     "data": {
      "text/html": [
       "<div>\n",
       "<style scoped>\n",
       "    .dataframe tbody tr th:only-of-type {\n",
       "        vertical-align: middle;\n",
       "    }\n",
       "\n",
       "    .dataframe tbody tr th {\n",
       "        vertical-align: top;\n",
       "    }\n",
       "\n",
       "    .dataframe thead th {\n",
       "        text-align: right;\n",
       "    }\n",
       "</style>\n",
       "<table border=\"1\" class=\"dataframe\">\n",
       "  <thead>\n",
       "    <tr style=\"text-align: right;\">\n",
       "      <th></th>\n",
       "      <th>Confirmed</th>\n",
       "      <th>Total_Doses</th>\n",
       "    </tr>\n",
       "  </thead>\n",
       "  <tbody>\n",
       "    <tr>\n",
       "      <th>2021-10-31</th>\n",
       "      <td>-283238.529979</td>\n",
       "      <td>8.522916e+08</td>\n",
       "    </tr>\n",
       "    <tr>\n",
       "      <th>2021-11-01</th>\n",
       "      <td>53552.029693</td>\n",
       "      <td>1.567496e+08</td>\n",
       "    </tr>\n",
       "    <tr>\n",
       "      <th>2021-11-02</th>\n",
       "      <td>53552.029693</td>\n",
       "      <td>1.567496e+08</td>\n",
       "    </tr>\n",
       "    <tr>\n",
       "      <th>2021-11-03</th>\n",
       "      <td>53552.029693</td>\n",
       "      <td>1.567496e+08</td>\n",
       "    </tr>\n",
       "    <tr>\n",
       "      <th>2021-11-04</th>\n",
       "      <td>53552.029693</td>\n",
       "      <td>1.567496e+08</td>\n",
       "    </tr>\n",
       "    <tr>\n",
       "      <th>...</th>\n",
       "      <td>...</td>\n",
       "      <td>...</td>\n",
       "    </tr>\n",
       "    <tr>\n",
       "      <th>2022-01-06</th>\n",
       "      <td>53552.029693</td>\n",
       "      <td>1.567496e+08</td>\n",
       "    </tr>\n",
       "    <tr>\n",
       "      <th>2022-01-07</th>\n",
       "      <td>53552.029693</td>\n",
       "      <td>1.567496e+08</td>\n",
       "    </tr>\n",
       "    <tr>\n",
       "      <th>2022-01-08</th>\n",
       "      <td>53552.029693</td>\n",
       "      <td>1.567496e+08</td>\n",
       "    </tr>\n",
       "    <tr>\n",
       "      <th>2022-01-09</th>\n",
       "      <td>53552.029693</td>\n",
       "      <td>1.567496e+08</td>\n",
       "    </tr>\n",
       "    <tr>\n",
       "      <th>2022-01-10</th>\n",
       "      <td>53552.029693</td>\n",
       "      <td>1.567496e+08</td>\n",
       "    </tr>\n",
       "  </tbody>\n",
       "</table>\n",
       "<p>72 rows × 2 columns</p>\n",
       "</div>"
      ],
      "text/plain": [
       "                Confirmed   Total_Doses\n",
       "2021-10-31 -283238.529979  8.522916e+08\n",
       "2021-11-01   53552.029693  1.567496e+08\n",
       "2021-11-02   53552.029693  1.567496e+08\n",
       "2021-11-03   53552.029693  1.567496e+08\n",
       "2021-11-04   53552.029693  1.567496e+08\n",
       "...                   ...           ...\n",
       "2022-01-06   53552.029693  1.567496e+08\n",
       "2022-01-07   53552.029693  1.567496e+08\n",
       "2022-01-08   53552.029693  1.567496e+08\n",
       "2022-01-09   53552.029693  1.567496e+08\n",
       "2022-01-10   53552.029693  1.567496e+08\n",
       "\n",
       "[72 rows x 2 columns]"
      ]
     },
     "execution_count": 122,
     "metadata": {},
     "output_type": "execute_result"
    }
   ],
   "source": [
    "forecasted_ma"
   ]
  },
  {
   "cell_type": "markdown",
   "id": "5096d8e3",
   "metadata": {},
   "source": [
    "<a name=plot_final_vma></a>\n",
    "\n",
    "## Plot Train, Test, Forecast"
   ]
  },
  {
   "cell_type": "code",
   "execution_count": 123,
   "id": "0629f810",
   "metadata": {},
   "outputs": [
    {
     "data": {
      "image/png": "[encoded data removed]",
      "text/plain": [
       "<Figure size 1000x500 with 1 Axes>"
      ]
     },
     "metadata": {
      "needs_background": "light"
     },
     "output_type": "display_data"
    }
   ],
   "source": [
    "plotting.plot_train_test_fore(train=train.Confirmed, test=test[['Confirmed']], fore=forecasted_ma[['Confirmed']], title='Daily cases')\n"
   ]
  },
  {
   "cell_type": "markdown",
   "id": "6f5f06d0",
   "metadata": {},
   "source": [
    "<a name=varma_model></a>\n",
    "\n",
    "# VARMA"
   ]
  },
  {
   "cell_type": "markdown",
   "id": "dd694351",
   "metadata": {},
   "source": [
    "<a name=varma_pq></a>\n",
    "\n",
    "## Find order (p, q) of VARMA"
   ]
  },
  {
   "cell_type": "markdown",
   "id": "30458b97",
   "metadata": {},
   "source": [
    "PACF/ACF"
   ]
  },
  {
   "cell_type": "code",
   "execution_count": 124,
   "id": "83c69476",
   "metadata": {},
   "outputs": [
    {
     "data": {
      "image/png": "[encoded data removed]",
      "text/plain": [
       "<Figure size 432x288 with 1 Axes>"
      ]
     },
     "metadata": {
      "needs_background": "light"
     },
     "output_type": "display_data"
    },
    {
     "data": {
      "image/png": "[encoded data removed]",
      "text/plain": [
       "<Figure size 432x288 with 1 Axes>"
      ]
     },
     "metadata": {
      "needs_background": "light"
     },
     "output_type": "display_data"
    }
   ],
   "source": [
    "pacf_varma_confirmed = plot_pacf(train['Confirmed'].diff().dropna().diff().dropna(), lags=25)\n",
    "acf_varma_confirmed = plot_acf(train['Confirmed'].diff().dropna().diff().dropna(), lags=25)"
   ]
  },
  {
   "cell_type": "markdown",
   "id": "711a9a15",
   "metadata": {},
   "source": [
    "VARIMA(8, 2)"
   ]
  },
  {
   "cell_type": "code",
   "execution_count": 125,
   "id": "3885ea19",
   "metadata": {},
   "outputs": [
    {
     "name": "stdout",
     "output_type": "stream",
     "text": [
      "VARMA(5, 1): MSE=10200356986.666, MAPE=1023.460, MAE=98469.005\n",
      "VARMA(5, 2): MSE=5048247052.552, MAPE=700.343, MAE=69667.296\n",
      "VARMA(5, 7): MSE=15136127001.782, MAPE=1241.143, MAE=118557.338\n",
      "VARMA(8, 1): MSE=98521196863.871, MAPE=3082.766, MAE=303150.539\n",
      "VARMA(8, 2): MSE=84612584927.652, MAPE=2905.348, MAE=287238.963\n",
      "VARMA(8, 7): MSE=48836050147.129, MAPE=2204.273, MAE=213582.084\n",
      "VARMA(9, 1): MSE=64606870647.530, MAPE=2545.180, MAE=250183.527\n",
      "VARMA(9, 2): MSE=162732206973.935, MAPE=3861.480, MAE=386400.821\n",
      "VARMA(9, 7): MSE=108938894156.052, MAPE=3263.031, MAE=321979.552\n",
      "VARMA(10, 2): MSE=177022613588.015, MAPE=3964.294, MAE=400558.139\n",
      "VARMA(10, 7): MSE=291766295467.295, MAPE=5153.862, MAE=516682.743\n",
      "\n",
      "Best VARMA(5, 2): MSE=5048247052.552\n"
     ]
    }
   ],
   "source": [
    "metrics.evaluate_varma_models(train, test, [5, 8, 9, 10], [1, 2, 7], column='Confirmed')"
   ]
  },
  {
   "cell_type": "markdown",
   "id": "6d2f2b87",
   "metadata": {},
   "source": [
    "<a name=varma11></a>\n",
    "\n",
    "## VARMA(5, 2)"
   ]
  },
  {
   "cell_type": "code",
   "execution_count": 126,
   "id": "e8151f6d",
   "metadata": {},
   "outputs": [],
   "source": [
    "model = VARMAX(train, order=(5, 2))\n",
    "model_fit = model.fit()\n",
    "yhat = model_fit.forecast(len(test))\n",
    "# yhat = model_fit.get_prediction(start=len(train), end=len(train)+len(test)-1).predicted_mean\n",
    "\n",
    "\n",
    "# forecasted_ma = model_fit_ma.get_prediction(start=len(train), end=len(train)+len(test)-1).predicted_mean\n",
    "\n",
    "df_forecast_varma = pd.DataFrame(yhat, index=test.index)\n",
    "df_forecast_varma.rename(columns = {'Confirmed': 'Confirmed_forecast', 'Total_Doses': 'Total_Doses_forecast'}, inplace=True)\n",
    "\n",
    "forecasted_conf_varma = df_forecast_varma.join(test)[['Confirmed', 'Confirmed_forecast']]\n",
    "forecasted_vacc_varma = df_forecast_varma.join(test)[['Total_Doses', 'Total_Doses_forecast']]\n",
    "#yhat"
   ]
  },
  {
   "cell_type": "markdown",
   "id": "f528f266",
   "metadata": {},
   "source": [
    "<a name=diff_plot_varma></a>\n",
    "\n",
    "## Plots of Predictions (Differenced)"
   ]
  },
  {
   "cell_type": "code",
   "execution_count": 127,
   "id": "b8868d8e",
   "metadata": {},
   "outputs": [],
   "source": [
    "# plotting.plot_fore_test(test=test[['Confirmed']], fore=yhat[['Confirmed']], title='Diffed Daily cases')"
   ]
  },
  {
   "cell_type": "code",
   "execution_count": 128,
   "id": "550dc23d",
   "metadata": {},
   "outputs": [],
   "source": [
    "# plotting.plot_fore_test(test=test[['Total_Doses']], fore=yhat[['Total_Doses']], title='Diffed Daily Doses')"
   ]
  },
  {
   "cell_type": "markdown",
   "id": "19baefeb",
   "metadata": {},
   "source": [
    "<a name=store_varma></a>\n",
    "\n",
    "## Store metrics"
   ]
  },
  {
   "cell_type": "code",
   "execution_count": 129,
   "id": "53abb5cc",
   "metadata": {},
   "outputs": [
    {
     "data": {
      "text/html": [
       "<div>\n",
       "<style scoped>\n",
       "    .dataframe tbody tr th:only-of-type {\n",
       "        vertical-align: middle;\n",
       "    }\n",
       "\n",
       "    .dataframe tbody tr th {\n",
       "        vertical-align: top;\n",
       "    }\n",
       "\n",
       "    .dataframe thead th {\n",
       "        text-align: right;\n",
       "    }\n",
       "</style>\n",
       "<table border=\"1\" class=\"dataframe\">\n",
       "  <thead>\n",
       "    <tr style=\"text-align: right;\">\n",
       "      <th></th>\n",
       "      <th>model</th>\n",
       "      <th>mse</th>\n",
       "      <th>mape</th>\n",
       "      <th>mae</th>\n",
       "    </tr>\n",
       "  </thead>\n",
       "  <tbody>\n",
       "    <tr>\n",
       "      <th>0</th>\n",
       "      <td>VAR(5)</td>\n",
       "      <td>7.301440e+09</td>\n",
       "      <td>856.353398</td>\n",
       "      <td>83843.412657</td>\n",
       "    </tr>\n",
       "    <tr>\n",
       "      <th>1</th>\n",
       "      <td>VMA(1)</td>\n",
       "      <td>3.635907e+09</td>\n",
       "      <td>457.307130</td>\n",
       "      <td>49851.391979</td>\n",
       "    </tr>\n",
       "    <tr>\n",
       "      <th>2</th>\n",
       "      <td>VARMA(5, 2)</td>\n",
       "      <td>5.048247e+09</td>\n",
       "      <td>700.342774</td>\n",
       "      <td>69667.296182</td>\n",
       "    </tr>\n",
       "  </tbody>\n",
       "</table>\n",
       "</div>"
      ],
      "text/plain": [
       "         model           mse        mape           mae\n",
       "0       VAR(5)  7.301440e+09  856.353398  83843.412657\n",
       "1       VMA(1)  3.635907e+09  457.307130  49851.391979\n",
       "2  VARMA(5, 2)  5.048247e+09  700.342774  69667.296182"
      ]
     },
     "execution_count": 129,
     "metadata": {},
     "output_type": "execute_result"
    }
   ],
   "source": [
    "results_table = results_table.append({\n",
    "    'model': preprocessing.get_varma_model_name(model_fit),\n",
    "    'mse': metrics.mean_squared_error(test['Confirmed'], yhat['Confirmed']),\n",
    "    'mape': metrics.MAPE(test['Confirmed'], yhat['Confirmed']),\n",
    "    'mae': metrics.mean_absolute_error(test['Confirmed'], yhat['Confirmed'])\n",
    "}, ignore_index=True)\n",
    "\n",
    "results_table"
   ]
  },
  {
   "cell_type": "markdown",
   "id": "50061752",
   "metadata": {},
   "source": [
    "<a name=plot_final_varma></a>\n",
    "\n",
    "## Plot Train, Test, Forecast"
   ]
  },
  {
   "cell_type": "code",
   "execution_count": 130,
   "id": "a498e0a6",
   "metadata": {},
   "outputs": [
    {
     "data": {
      "image/png": "[encoded data removed]",
      "text/plain": [
       "<Figure size 1000x500 with 1 Axes>"
      ]
     },
     "metadata": {
      "needs_background": "light"
     },
     "output_type": "display_data"
    },
    {
     "name": "stderr",
     "output_type": "stream",
     "text": [
      "The PostScript backend does not support transparency; partially transparent artists will be rendered opaque.\n",
      "The PostScript backend does not support transparency; partially transparent artists will be rendered opaque.\n"
     ]
    }
   ],
   "source": [
    "# Plot of daily cases\n",
    "plotting.plot_train_test_fore(train=train.Confirmed, test=test[['Confirmed']], fore=yhat[['Confirmed']], title='Daily cases', figpath='../../figures/varma/india_cases.eps')\n"
   ]
  },
  {
   "cell_type": "markdown",
   "id": "a8400446",
   "metadata": {},
   "source": [
    "<a name=shortterm></a>\n",
    "\n",
    "# Rolling forecasts"
   ]
  },
  {
   "cell_type": "code",
   "execution_count": 131,
   "id": "3d389a72",
   "metadata": {
    "scrolled": true
   },
   "outputs": [],
   "source": [
    "history = train.copy()\n",
    "predicted = pd.DataFrame(columns=[\n",
    "    'VAR_Confirmed', \n",
    "    'VAR_Total_Doses', \n",
    "    'VMA_Confirmed', \n",
    "    'VMA_Total_Doses', \n",
    "    'VARMA_Confirmed', \n",
    "    'VARMA_Total_Doses'\n",
    "], index=test.index)\n",
    "\n",
    "\n",
    "# predicted\n",
    "\n",
    "for t in range(len(test)):\n",
    "    # 3 models\n",
    "    var = VARMAX(history, order=(5,0), enforce_stationarity=True)\n",
    "    vma = VARMAX(history, order=(0,2), enforce_stationarity=True)\n",
    "    varma = VARMAX(history, order=(5,2), enforce_stationarity=True)\n",
    "    \n",
    "    # 3 fitted models\n",
    "    var_fit = var.fit()\n",
    "    vma_fit = vma.fit()\n",
    "    varma_fit = varma.fit()\n",
    "    \n",
    "    # Predictions\n",
    "    yhat_var = var_fit.forecast()\n",
    "    yhat_vma = vma_fit.forecast()\n",
    "    yhat_varma = varma_fit.forecast()\n",
    "    \n",
    "    # Next index to insert\n",
    "    # newindex = history.index[-1] + pd.to_timedelta(1, 'D')\n",
    "    \n",
    "    # Confirmed cases\n",
    "    predicted.iloc[t]['VAR_Confirmed'] = yhat_var['Confirmed'].values[0]\n",
    "    predicted.iloc[t]['VMA_Confirmed'] = yhat_vma['Confirmed'].values[0]\n",
    "    predicted.iloc[t]['VARMA_Confirmed'] = yhat_varma['Confirmed'].values[0]\n",
    "    \n",
    "    # Total doses\n",
    "    predicted.iloc[t]['VAR_Total_Doses'] = yhat_var['Total_Doses'].values[0]\n",
    "    predicted.iloc[t]['VMA_Total_Doses'] = yhat_vma['Total_Doses'].values[0]\n",
    "    predicted.iloc[t]['VARMA_Total_Doses'] = yhat_varma['Total_Doses'].values[0]\n",
    "    \n",
    "    history = history.append(test.iloc[t])\n",
    "    # history[newindex]['Total_Doses'] = test.iloc[t]['Total_Doses']\n",
    "    \n",
    "    # print('predicted =', yhat.values, ' ; actual =', test.iloc[t].values)"
   ]
  },
  {
   "cell_type": "code",
   "execution_count": 132,
   "id": "077c5830",
   "metadata": {},
   "outputs": [
    {
     "data": {
      "text/html": [
       "<div>\n",
       "<style scoped>\n",
       "    .dataframe tbody tr th:only-of-type {\n",
       "        vertical-align: middle;\n",
       "    }\n",
       "\n",
       "    .dataframe tbody tr th {\n",
       "        vertical-align: top;\n",
       "    }\n",
       "\n",
       "    .dataframe thead th {\n",
       "        text-align: right;\n",
       "    }\n",
       "</style>\n",
       "<table border=\"1\" class=\"dataframe\">\n",
       "  <thead>\n",
       "    <tr style=\"text-align: right;\">\n",
       "      <th></th>\n",
       "      <th>VAR_Confirmed</th>\n",
       "      <th>VAR_Total_Doses</th>\n",
       "      <th>VMA_Confirmed</th>\n",
       "      <th>VMA_Total_Doses</th>\n",
       "      <th>VARMA_Confirmed</th>\n",
       "      <th>VARMA_Total_Doses</th>\n",
       "    </tr>\n",
       "    <tr>\n",
       "      <th>Date</th>\n",
       "      <th></th>\n",
       "      <th></th>\n",
       "      <th></th>\n",
       "      <th></th>\n",
       "      <th></th>\n",
       "      <th></th>\n",
       "    </tr>\n",
       "  </thead>\n",
       "  <tbody>\n",
       "    <tr>\n",
       "      <th>2021-10-31</th>\n",
       "      <td>127515.564373</td>\n",
       "      <td>1040126580.470086</td>\n",
       "      <td>-2275654.302415</td>\n",
       "      <td>1010400435.023481</td>\n",
       "      <td>71048.686805</td>\n",
       "      <td>1050117813.50774</td>\n",
       "    </tr>\n",
       "    <tr>\n",
       "      <th>2021-11-01</th>\n",
       "      <td>99551.659613</td>\n",
       "      <td>1046117669.878552</td>\n",
       "      <td>-144938.687494</td>\n",
       "      <td>844846999.110701</td>\n",
       "      <td>53348.018198</td>\n",
       "      <td>1061949571.719436</td>\n",
       "    </tr>\n",
       "    <tr>\n",
       "      <th>2021-11-02</th>\n",
       "      <td>111747.405849</td>\n",
       "      <td>1065559546.786483</td>\n",
       "      <td>-725223.315798</td>\n",
       "      <td>630834195.585999</td>\n",
       "      <td>123601.687446</td>\n",
       "      <td>1070873899.433154</td>\n",
       "    </tr>\n",
       "    <tr>\n",
       "      <th>2021-11-03</th>\n",
       "      <td>86248.637055</td>\n",
       "      <td>1084036402.212948</td>\n",
       "      <td>1286.156881</td>\n",
       "      <td>615771908.239635</td>\n",
       "      <td>38601.211383</td>\n",
       "      <td>1076930891.84468</td>\n",
       "    </tr>\n",
       "    <tr>\n",
       "      <th>2021-11-04</th>\n",
       "      <td>77999.068092</td>\n",
       "      <td>1088790481.813069</td>\n",
       "      <td>-251886.516498</td>\n",
       "      <td>622938719.480097</td>\n",
       "      <td>57260.842997</td>\n",
       "      <td>1082475499.079244</td>\n",
       "    </tr>\n",
       "    <tr>\n",
       "      <th>...</th>\n",
       "      <td>...</td>\n",
       "      <td>...</td>\n",
       "      <td>...</td>\n",
       "      <td>...</td>\n",
       "      <td>...</td>\n",
       "      <td>...</td>\n",
       "    </tr>\n",
       "    <tr>\n",
       "      <th>2022-01-06</th>\n",
       "      <td>109888.873849</td>\n",
       "      <td>1367684737.099372</td>\n",
       "      <td>-46183.507074</td>\n",
       "      <td>868202046.404647</td>\n",
       "      <td>121794.48664</td>\n",
       "      <td>1411121524.086956</td>\n",
       "    </tr>\n",
       "    <tr>\n",
       "      <th>2022-01-07</th>\n",
       "      <td>201439.776997</td>\n",
       "      <td>1308918515.785863</td>\n",
       "      <td>-31329.924044</td>\n",
       "      <td>868942965.307489</td>\n",
       "      <td>115271.070592</td>\n",
       "      <td>1391742744.245286</td>\n",
       "    </tr>\n",
       "    <tr>\n",
       "      <th>2022-01-08</th>\n",
       "      <td>187011.032002</td>\n",
       "      <td>1280569496.791375</td>\n",
       "      <td>-62710.561042</td>\n",
       "      <td>877121132.370981</td>\n",
       "      <td>191315.146508</td>\n",
       "      <td>1403683834.908103</td>\n",
       "    </tr>\n",
       "    <tr>\n",
       "      <th>2022-01-09</th>\n",
       "      <td>225936.551354</td>\n",
       "      <td>1267902959.74244</td>\n",
       "      <td>-37287.913054</td>\n",
       "      <td>882716132.822923</td>\n",
       "      <td>157269.394375</td>\n",
       "      <td>1391783746.7291</td>\n",
       "    </tr>\n",
       "    <tr>\n",
       "      <th>2022-01-10</th>\n",
       "      <td>163031.888109</td>\n",
       "      <td>1300734569.168292</td>\n",
       "      <td>-43676.589155</td>\n",
       "      <td>893365054.815567</td>\n",
       "      <td>157172.563906</td>\n",
       "      <td>1392807157.91116</td>\n",
       "    </tr>\n",
       "  </tbody>\n",
       "</table>\n",
       "<p>72 rows × 6 columns</p>\n",
       "</div>"
      ],
      "text/plain": [
       "            VAR_Confirmed    VAR_Total_Doses   VMA_Confirmed  \\\n",
       "Date                                                           \n",
       "2021-10-31  127515.564373  1040126580.470086 -2275654.302415   \n",
       "2021-11-01   99551.659613  1046117669.878552  -144938.687494   \n",
       "2021-11-02  111747.405849  1065559546.786483  -725223.315798   \n",
       "2021-11-03   86248.637055  1084036402.212948     1286.156881   \n",
       "2021-11-04   77999.068092  1088790481.813069  -251886.516498   \n",
       "...                   ...                ...             ...   \n",
       "2022-01-06  109888.873849  1367684737.099372   -46183.507074   \n",
       "2022-01-07  201439.776997  1308918515.785863   -31329.924044   \n",
       "2022-01-08  187011.032002  1280569496.791375   -62710.561042   \n",
       "2022-01-09  225936.551354   1267902959.74244   -37287.913054   \n",
       "2022-01-10  163031.888109  1300734569.168292   -43676.589155   \n",
       "\n",
       "              VMA_Total_Doses VARMA_Confirmed  VARMA_Total_Doses  \n",
       "Date                                                              \n",
       "2021-10-31  1010400435.023481    71048.686805   1050117813.50774  \n",
       "2021-11-01   844846999.110701    53348.018198  1061949571.719436  \n",
       "2021-11-02   630834195.585999   123601.687446  1070873899.433154  \n",
       "2021-11-03   615771908.239635    38601.211383   1076930891.84468  \n",
       "2021-11-04   622938719.480097    57260.842997  1082475499.079244  \n",
       "...                       ...             ...                ...  \n",
       "2022-01-06   868202046.404647    121794.48664  1411121524.086956  \n",
       "2022-01-07   868942965.307489   115271.070592  1391742744.245286  \n",
       "2022-01-08   877121132.370981   191315.146508  1403683834.908103  \n",
       "2022-01-09   882716132.822923   157269.394375    1391783746.7291  \n",
       "2022-01-10   893365054.815567   157172.563906   1392807157.91116  \n",
       "\n",
       "[72 rows x 6 columns]"
      ]
     },
     "execution_count": 132,
     "metadata": {},
     "output_type": "execute_result"
    }
   ],
   "source": [
    "predicted"
   ]
  },
  {
   "cell_type": "markdown",
   "id": "918404a3",
   "metadata": {},
   "source": [
    "<a name=var_roll></a>\n",
    "\n",
    "## VAR(8)"
   ]
  },
  {
   "cell_type": "code",
   "execution_count": 133,
   "id": "37c18085",
   "metadata": {},
   "outputs": [],
   "source": [
    "# plotting.plot_fore_test(test=test, fore=predicted[['VAR_Confirmed', 'VAR_Total_Doses']], title='Confirmed vs Predicted')"
   ]
  },
  {
   "cell_type": "code",
   "execution_count": 134,
   "id": "917a53af",
   "metadata": {},
   "outputs": [],
   "source": [
    "# fore_original_4_var"
   ]
  },
  {
   "cell_type": "code",
   "execution_count": 135,
   "id": "f953a7e7",
   "metadata": {},
   "outputs": [
    {
     "data": {
      "text/html": [
       "<div>\n",
       "<style scoped>\n",
       "    .dataframe tbody tr th:only-of-type {\n",
       "        vertical-align: middle;\n",
       "    }\n",
       "\n",
       "    .dataframe tbody tr th {\n",
       "        vertical-align: top;\n",
       "    }\n",
       "\n",
       "    .dataframe thead th {\n",
       "        text-align: right;\n",
       "    }\n",
       "</style>\n",
       "<table border=\"1\" class=\"dataframe\">\n",
       "  <thead>\n",
       "    <tr style=\"text-align: right;\">\n",
       "      <th></th>\n",
       "      <th>model</th>\n",
       "      <th>mse</th>\n",
       "      <th>mape</th>\n",
       "      <th>mae</th>\n",
       "    </tr>\n",
       "  </thead>\n",
       "  <tbody>\n",
       "    <tr>\n",
       "      <th>0</th>\n",
       "      <td>VAR(5)</td>\n",
       "      <td>7.301440e+09</td>\n",
       "      <td>856.353398</td>\n",
       "      <td>8.384341e+04</td>\n",
       "    </tr>\n",
       "    <tr>\n",
       "      <th>1</th>\n",
       "      <td>VMA(1)</td>\n",
       "      <td>3.635907e+09</td>\n",
       "      <td>457.307130</td>\n",
       "      <td>4.985139e+04</td>\n",
       "    </tr>\n",
       "    <tr>\n",
       "      <th>2</th>\n",
       "      <td>VARMA(5, 2)</td>\n",
       "      <td>5.048247e+09</td>\n",
       "      <td>700.342774</td>\n",
       "      <td>6.966730e+04</td>\n",
       "    </tr>\n",
       "    <tr>\n",
       "      <th>3</th>\n",
       "      <td>VAR(5) - rolling</td>\n",
       "      <td>5.785455e+13</td>\n",
       "      <td>13058.826925</td>\n",
       "      <td>1.045543e+06</td>\n",
       "    </tr>\n",
       "  </tbody>\n",
       "</table>\n",
       "</div>"
      ],
      "text/plain": [
       "              model           mse          mape           mae\n",
       "0            VAR(5)  7.301440e+09    856.353398  8.384341e+04\n",
       "1            VMA(1)  3.635907e+09    457.307130  4.985139e+04\n",
       "2       VARMA(5, 2)  5.048247e+09    700.342774  6.966730e+04\n",
       "3  VAR(5) - rolling  5.785455e+13  13058.826925  1.045543e+06"
      ]
     },
     "execution_count": 135,
     "metadata": {},
     "output_type": "execute_result"
    }
   ],
   "source": [
    "results_table = results_table.append({\n",
    "    'model': preprocessing.get_varma_model_name(var_fit) + ' - rolling',\n",
    "    'mse': metrics.mean_squared_error(test['Confirmed'], predicted['VAR_Confirmed']),\n",
    "    'mape': metrics.MAPE(test['Confirmed'], predicted['VAR_Confirmed']),\n",
    "    'mae': metrics.mean_absolute_error(test['Confirmed'], predicted['VAR_Confirmed'])\n",
    "}, ignore_index=True)\n",
    "\n",
    "results_table"
   ]
  },
  {
   "cell_type": "code",
   "execution_count": 136,
   "id": "c4e23de1",
   "metadata": {},
   "outputs": [
    {
     "data": {
      "image/png": "[encoded data removed]",
      "text/plain": [
       "<Figure size 1000x500 with 1 Axes>"
      ]
     },
     "metadata": {
      "needs_background": "light"
     },
     "output_type": "display_data"
    }
   ],
   "source": [
    "plotting.plot_train_test_fore(train=train.Confirmed, test=test[['Confirmed']], fore=predicted[['VAR_Confirmed']], title='Daily cases')#, figpath='../../figures/varma/india_cases.eps')\n"
   ]
  },
  {
   "cell_type": "markdown",
   "id": "5358dbbb",
   "metadata": {},
   "source": [
    "<a name=vma_roll></a>\n",
    "\n",
    "## VMA(1)"
   ]
  },
  {
   "cell_type": "code",
   "execution_count": 137,
   "id": "a5af7d5e",
   "metadata": {},
   "outputs": [
    {
     "data": {
      "image/png": "[encoded data removed]",
      "text/plain": [
       "<Figure size 864x576 with 1 Axes>"
      ]
     },
     "metadata": {
      "needs_background": "light"
     },
     "output_type": "display_data"
    }
   ],
   "source": [
    "plotting.plot_fore_test(test=test['Confirmed'], fore=predicted['VMA_Confirmed'], title='Actuals vs Forecasts')"
   ]
  },
  {
   "cell_type": "code",
   "execution_count": 138,
   "id": "2dc01c6b",
   "metadata": {},
   "outputs": [
    {
     "data": {
      "text/html": [
       "<div>\n",
       "<style scoped>\n",
       "    .dataframe tbody tr th:only-of-type {\n",
       "        vertical-align: middle;\n",
       "    }\n",
       "\n",
       "    .dataframe tbody tr th {\n",
       "        vertical-align: top;\n",
       "    }\n",
       "\n",
       "    .dataframe thead th {\n",
       "        text-align: right;\n",
       "    }\n",
       "</style>\n",
       "<table border=\"1\" class=\"dataframe\">\n",
       "  <thead>\n",
       "    <tr style=\"text-align: right;\">\n",
       "      <th></th>\n",
       "      <th>model</th>\n",
       "      <th>mse</th>\n",
       "      <th>mape</th>\n",
       "      <th>mae</th>\n",
       "    </tr>\n",
       "  </thead>\n",
       "  <tbody>\n",
       "    <tr>\n",
       "      <th>0</th>\n",
       "      <td>VAR(5)</td>\n",
       "      <td>7.301440e+09</td>\n",
       "      <td>856.353398</td>\n",
       "      <td>8.384341e+04</td>\n",
       "    </tr>\n",
       "    <tr>\n",
       "      <th>1</th>\n",
       "      <td>VMA(1)</td>\n",
       "      <td>3.635907e+09</td>\n",
       "      <td>457.307130</td>\n",
       "      <td>4.985139e+04</td>\n",
       "    </tr>\n",
       "    <tr>\n",
       "      <th>2</th>\n",
       "      <td>VARMA(5, 2)</td>\n",
       "      <td>5.048247e+09</td>\n",
       "      <td>700.342774</td>\n",
       "      <td>6.966730e+04</td>\n",
       "    </tr>\n",
       "    <tr>\n",
       "      <th>3</th>\n",
       "      <td>VAR(5) - rolling</td>\n",
       "      <td>5.785455e+13</td>\n",
       "      <td>13058.826925</td>\n",
       "      <td>1.045543e+06</td>\n",
       "    </tr>\n",
       "    <tr>\n",
       "      <th>4</th>\n",
       "      <td>VMA(2) - rolling</td>\n",
       "      <td>8.850434e+10</td>\n",
       "      <td>902.835660</td>\n",
       "      <td>1.107337e+05</td>\n",
       "    </tr>\n",
       "  </tbody>\n",
       "</table>\n",
       "</div>"
      ],
      "text/plain": [
       "              model           mse          mape           mae\n",
       "0            VAR(5)  7.301440e+09    856.353398  8.384341e+04\n",
       "1            VMA(1)  3.635907e+09    457.307130  4.985139e+04\n",
       "2       VARMA(5, 2)  5.048247e+09    700.342774  6.966730e+04\n",
       "3  VAR(5) - rolling  5.785455e+13  13058.826925  1.045543e+06\n",
       "4  VMA(2) - rolling  8.850434e+10    902.835660  1.107337e+05"
      ]
     },
     "execution_count": 138,
     "metadata": {},
     "output_type": "execute_result"
    }
   ],
   "source": [
    "results_table = results_table.append({\n",
    "    'model': preprocessing.get_varma_model_name(vma_fit) + ' - rolling',\n",
    "    'mse': metrics.mean_squared_error(test['Confirmed'], predicted['VMA_Confirmed']),\n",
    "    'mape': metrics.MAPE(test['Confirmed'], predicted['VMA_Confirmed']),\n",
    "    'mae': metrics.mean_absolute_error(test['Confirmed'], predicted['VMA_Confirmed'])\n",
    "}, ignore_index=True)\n",
    "\n",
    "results_table"
   ]
  },
  {
   "cell_type": "code",
   "execution_count": 139,
   "id": "fdf857e1",
   "metadata": {},
   "outputs": [
    {
     "data": {
      "image/png": "[encoded data removed]",
      "text/plain": [
       "<Figure size 1000x500 with 1 Axes>"
      ]
     },
     "metadata": {
      "needs_background": "light"
     },
     "output_type": "display_data"
    }
   ],
   "source": [
    "plotting.plot_train_test_fore(train=train.Confirmed, test=test[['Confirmed']], fore=predicted[['VMA_Confirmed']], title='Daily cases')#, figpath='../../figures/varma/india_cases.eps')\n"
   ]
  },
  {
   "cell_type": "markdown",
   "id": "99caedad",
   "metadata": {},
   "source": [
    "<a name=varma_roll></a>\n",
    "\n",
    "## VARMA(1,1)"
   ]
  },
  {
   "cell_type": "code",
   "execution_count": 140,
   "id": "f9b920c2",
   "metadata": {},
   "outputs": [],
   "source": [
    "# fore_original_4_varma"
   ]
  },
  {
   "cell_type": "code",
   "execution_count": 141,
   "id": "a8a32c5a",
   "metadata": {},
   "outputs": [
    {
     "data": {
      "text/html": [
       "<div>\n",
       "<style scoped>\n",
       "    .dataframe tbody tr th:only-of-type {\n",
       "        vertical-align: middle;\n",
       "    }\n",
       "\n",
       "    .dataframe tbody tr th {\n",
       "        vertical-align: top;\n",
       "    }\n",
       "\n",
       "    .dataframe thead th {\n",
       "        text-align: right;\n",
       "    }\n",
       "</style>\n",
       "<table border=\"1\" class=\"dataframe\">\n",
       "  <thead>\n",
       "    <tr style=\"text-align: right;\">\n",
       "      <th></th>\n",
       "      <th>model</th>\n",
       "      <th>mse</th>\n",
       "      <th>mape</th>\n",
       "      <th>mae</th>\n",
       "    </tr>\n",
       "  </thead>\n",
       "  <tbody>\n",
       "    <tr>\n",
       "      <th>0</th>\n",
       "      <td>VAR(5)</td>\n",
       "      <td>7.301440e+09</td>\n",
       "      <td>856.353398</td>\n",
       "      <td>8.384341e+04</td>\n",
       "    </tr>\n",
       "    <tr>\n",
       "      <th>1</th>\n",
       "      <td>VMA(1)</td>\n",
       "      <td>3.635907e+09</td>\n",
       "      <td>457.307130</td>\n",
       "      <td>4.985139e+04</td>\n",
       "    </tr>\n",
       "    <tr>\n",
       "      <th>2</th>\n",
       "      <td>VARMA(5, 2)</td>\n",
       "      <td>5.048247e+09</td>\n",
       "      <td>700.342774</td>\n",
       "      <td>6.966730e+04</td>\n",
       "    </tr>\n",
       "    <tr>\n",
       "      <th>3</th>\n",
       "      <td>VAR(5) - rolling</td>\n",
       "      <td>5.785455e+13</td>\n",
       "      <td>13058.826925</td>\n",
       "      <td>1.045543e+06</td>\n",
       "    </tr>\n",
       "    <tr>\n",
       "      <th>4</th>\n",
       "      <td>VMA(2) - rolling</td>\n",
       "      <td>8.850434e+10</td>\n",
       "      <td>902.835660</td>\n",
       "      <td>1.107337e+05</td>\n",
       "    </tr>\n",
       "    <tr>\n",
       "      <th>5</th>\n",
       "      <td>VARMA(5, 2) - rolling</td>\n",
       "      <td>4.578871e+09</td>\n",
       "      <td>622.091702</td>\n",
       "      <td>5.886780e+04</td>\n",
       "    </tr>\n",
       "  </tbody>\n",
       "</table>\n",
       "</div>"
      ],
      "text/plain": [
       "                   model           mse          mape           mae\n",
       "0                 VAR(5)  7.301440e+09    856.353398  8.384341e+04\n",
       "1                 VMA(1)  3.635907e+09    457.307130  4.985139e+04\n",
       "2            VARMA(5, 2)  5.048247e+09    700.342774  6.966730e+04\n",
       "3       VAR(5) - rolling  5.785455e+13  13058.826925  1.045543e+06\n",
       "4       VMA(2) - rolling  8.850434e+10    902.835660  1.107337e+05\n",
       "5  VARMA(5, 2) - rolling  4.578871e+09    622.091702  5.886780e+04"
      ]
     },
     "execution_count": 141,
     "metadata": {},
     "output_type": "execute_result"
    }
   ],
   "source": [
    "results_table = results_table.append({\n",
    "    'model': preprocessing.get_varma_model_name(varma_fit) + ' - rolling',\n",
    "    'mse': metrics.mean_squared_error(test['Confirmed'], predicted['VARMA_Confirmed']),\n",
    "    'mape': metrics.MAPE(test['Confirmed'], predicted['VARMA_Confirmed']),\n",
    "    'mae': metrics.mean_absolute_error(test['Confirmed'], predicted['VARMA_Confirmed'])\n",
    "}, ignore_index=True)\n",
    "\n",
    "results_table"
   ]
  },
  {
   "cell_type": "code",
   "execution_count": 142,
   "id": "b39abf76",
   "metadata": {},
   "outputs": [
    {
     "data": {
      "image/png": "[encoded data removed]",
      "text/plain": [
       "<Figure size 1000x500 with 1 Axes>"
      ]
     },
     "metadata": {
      "needs_background": "light"
     },
     "output_type": "display_data"
    }
   ],
   "source": [
    "plotting.plot_train_test_fore(train=train.Confirmed, test=test[['Confirmed']], fore=predicted[['VARMA_Confirmed']], title='Daily cases')#, figpath='../../figures/varma/india_cases.eps')\n"
   ]
  },
  {
   "cell_type": "markdown",
   "id": "337673ad",
   "metadata": {},
   "source": [
    "<a name=final_results></a>\n",
    "\n",
    "# Final Results"
   ]
  },
  {
   "cell_type": "code",
   "execution_count": 143,
   "id": "8194d937",
   "metadata": {},
   "outputs": [
    {
     "data": {
      "text/html": [
       "<div>\n",
       "<style scoped>\n",
       "    .dataframe tbody tr th:only-of-type {\n",
       "        vertical-align: middle;\n",
       "    }\n",
       "\n",
       "    .dataframe tbody tr th {\n",
       "        vertical-align: top;\n",
       "    }\n",
       "\n",
       "    .dataframe thead th {\n",
       "        text-align: right;\n",
       "    }\n",
       "</style>\n",
       "<table border=\"1\" class=\"dataframe\">\n",
       "  <thead>\n",
       "    <tr style=\"text-align: right;\">\n",
       "      <th></th>\n",
       "      <th>model</th>\n",
       "      <th>mse</th>\n",
       "      <th>mape</th>\n",
       "      <th>mae</th>\n",
       "    </tr>\n",
       "  </thead>\n",
       "  <tbody>\n",
       "    <tr>\n",
       "      <th>0</th>\n",
       "      <td>VAR(5)</td>\n",
       "      <td>7.301440e+09</td>\n",
       "      <td>856.353398</td>\n",
       "      <td>8.384341e+04</td>\n",
       "    </tr>\n",
       "    <tr>\n",
       "      <th>1</th>\n",
       "      <td>VMA(1)</td>\n",
       "      <td>3.635907e+09</td>\n",
       "      <td>457.307130</td>\n",
       "      <td>4.985139e+04</td>\n",
       "    </tr>\n",
       "    <tr>\n",
       "      <th>2</th>\n",
       "      <td>VARMA(5, 2)</td>\n",
       "      <td>5.048247e+09</td>\n",
       "      <td>700.342774</td>\n",
       "      <td>6.966730e+04</td>\n",
       "    </tr>\n",
       "    <tr>\n",
       "      <th>3</th>\n",
       "      <td>VAR(5) - rolling</td>\n",
       "      <td>5.785455e+13</td>\n",
       "      <td>13058.826925</td>\n",
       "      <td>1.045543e+06</td>\n",
       "    </tr>\n",
       "    <tr>\n",
       "      <th>4</th>\n",
       "      <td>VMA(2) - rolling</td>\n",
       "      <td>8.850434e+10</td>\n",
       "      <td>902.835660</td>\n",
       "      <td>1.107337e+05</td>\n",
       "    </tr>\n",
       "    <tr>\n",
       "      <th>5</th>\n",
       "      <td>VARMA(5, 2) - rolling</td>\n",
       "      <td>4.578871e+09</td>\n",
       "      <td>622.091702</td>\n",
       "      <td>5.886780e+04</td>\n",
       "    </tr>\n",
       "  </tbody>\n",
       "</table>\n",
       "</div>"
      ],
      "text/plain": [
       "                   model           mse          mape           mae\n",
       "0                 VAR(5)  7.301440e+09    856.353398  8.384341e+04\n",
       "1                 VMA(1)  3.635907e+09    457.307130  4.985139e+04\n",
       "2            VARMA(5, 2)  5.048247e+09    700.342774  6.966730e+04\n",
       "3       VAR(5) - rolling  5.785455e+13  13058.826925  1.045543e+06\n",
       "4       VMA(2) - rolling  8.850434e+10    902.835660  1.107337e+05\n",
       "5  VARMA(5, 2) - rolling  4.578871e+09    622.091702  5.886780e+04"
      ]
     },
     "execution_count": 143,
     "metadata": {},
     "output_type": "execute_result"
    }
   ],
   "source": [
    "results_table"
   ]
  }
 ],
 "metadata": {
  "kernelspec": {
   "display_name": "Python 3",
   "language": "python",
   "name": "python3"
  },
  "language_info": {
   "codemirror_mode": {
    "name": "ipython",
    "version": 3
   },
   "file_extension": ".py",
   "mimetype": "text/x-python",
   "name": "python",
   "nbconvert_exporter": "python",
   "pygments_lexer": "ipython3",
   "version": "3.7.3"
  }
 },
 "nbformat": 4,
 "nbformat_minor": 5
}
