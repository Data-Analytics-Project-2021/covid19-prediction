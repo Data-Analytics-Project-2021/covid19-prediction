{
 "cells": [
  {
   "cell_type": "markdown",
   "id": "b5e6cb0d",
   "metadata": {},
   "source": [
    "# VAR USA\n",
    "\n",
    "Vector auto-regressive models"
   ]
  },
  {
   "cell_type": "markdown",
   "id": "c60dd7c7",
   "metadata": {},
   "source": [
    "1. [Imports](#imports)\n",
    "2. [Ingestion](#ingestion)\n",
    "3. [Plotting](#plotting)\n",
    "4. [Statistical tests](#stattests1)\n",
    "5. [Differencing](#diff)\n",
    "\n",
    "\n",
    "### VAR with First-Order Differencing\n",
    "1. [Train test split - first order differencing](#traintest1)\n",
    "2. [Find order p of VAR](#var_p_1)\n",
    "3. [VAR(8) Model](#var8_1)\n",
    "4. [Plots of first differenced predictions](#diff1_plot)\n",
    "5. [Undifferencing and predicting](#undiff_1)\n",
    "6. [MAPE](#mape1)\n",
    "7. [Rolling forecasts](#roll1)\n",
    "\n",
    "\n",
    "### VARMA\n",
    "1. [VARMA](#varma)\n",
    "2. [Rolling forecasts](#roll2)"
   ]
  },
  {
   "cell_type": "markdown",
   "id": "0d4e790a",
   "metadata": {},
   "source": [
    "<a name=imports></a>\n",
    "## Imports"
   ]
  },
  {
   "cell_type": "code",
   "execution_count": null,
   "id": "d7108bf6",
   "metadata": {},
   "outputs": [],
   "source": [
    "import pandas as pd\n",
    "import numpy as np\n",
    "import matplotlib.pyplot as plt\n",
    "import warnings\n",
    "\n",
    "warnings.filterwarnings(\"ignore\")"
   ]
  },
  {
   "cell_type": "markdown",
   "id": "424cd8b5",
   "metadata": {},
   "source": [
    "## Results table"
   ]
  },
  {
   "cell_type": "code",
   "execution_count": null,
   "id": "69dff2e1",
   "metadata": {},
   "outputs": [],
   "source": [
    "results_columns = ['model', 'mse', 'mape', 'mae']\n",
    "results_table = pd.DataFrame(columns=results_columns)"
   ]
  },
  {
   "cell_type": "markdown",
   "id": "64b955fb",
   "metadata": {},
   "source": [
    "<a name=ingestion></a>\n",
    "## Ingestion"
   ]
  },
  {
   "cell_type": "code",
   "execution_count": null,
   "id": "729c65f4",
   "metadata": {},
   "outputs": [],
   "source": [
    "daily_cases_usa = pd.read_csv('../../cleaned_datasets/usa/daily_cases_usa.csv', parse_dates=['Date'])\n",
    "daily_vacc_usa = pd.read_csv('../../cleaned_datasets/usa/daily_vacc_usa.csv', parse_dates=['date'])"
   ]
  },
  {
   "cell_type": "code",
   "execution_count": null,
   "id": "21b99bcf",
   "metadata": {},
   "outputs": [],
   "source": [
    "daily_cases_usa.dtypes"
   ]
  },
  {
   "cell_type": "code",
   "execution_count": null,
   "id": "cc05411c",
   "metadata": {},
   "outputs": [],
   "source": [
    "daily_cases_usa"
   ]
  },
  {
   "cell_type": "code",
   "execution_count": null,
   "id": "00cf1aa5",
   "metadata": {},
   "outputs": [],
   "source": [
    "daily_vacc_usa.dtypes"
   ]
  },
  {
   "cell_type": "code",
   "execution_count": null,
   "id": "071a5081",
   "metadata": {},
   "outputs": [],
   "source": [
    "daily_vacc_usa"
   ]
  },
  {
   "cell_type": "code",
   "execution_count": null,
   "id": "c98d4b25",
   "metadata": {},
   "outputs": [],
   "source": [
    "cases_vacc = daily_cases_usa.merge(daily_vacc_usa, how='outer', left_on='Date', right_on='date')\n",
    "cases_vacc = cases_vacc[[\"Date\", \"Confirmed\", \"Total_Doses\"]]\n",
    "cases_vacc"
   ]
  },
  {
   "cell_type": "code",
   "execution_count": null,
   "id": "4749390f",
   "metadata": {},
   "outputs": [],
   "source": [
    "cases_vacc.fillna(0, inplace=True)\n",
    "indexed = cases_vacc.set_index('Date')\n",
    "indexed"
   ]
  },
  {
   "cell_type": "markdown",
   "id": "3775f479",
   "metadata": {},
   "source": [
    "<a name=plotting></a>\n",
    "## Plot initial data"
   ]
  },
  {
   "cell_type": "code",
   "execution_count": null,
   "id": "00e3808b",
   "metadata": {},
   "outputs": [],
   "source": [
    "def plot_subplots(indexed):\n",
    "    \n",
    "    if type(indexed) == pd.DataFrame:\n",
    "        nrows = int(len(indexed.columns)/2)\n",
    "    else:\n",
    "        nrows = 1\n",
    "        \n",
    "    fig, axes = plt.subplots(nrows=nrows, ncols=2, dpi=120, figsize=(8,4))\n",
    "    for i, ax in enumerate(axes.flatten()):\n",
    "        \n",
    "        if type(indexed) == list:\n",
    "            # fig, ax = plt.subplots()\n",
    "            # fig.set_size_inches(8, 8)\n",
    "\n",
    "            ax.plot(indexed[0][indexed[0].columns[i]], color='blue', label = 'Train')\n",
    "            ax.plot(indexed[1][indexed[1].columns[i]], color='red', label = 'Test')\n",
    "            ax.legend(loc = 'best')\n",
    "            # Decorations\n",
    "            ax.set_title(indexed[0].columns[i])\n",
    "        else:    \n",
    "            data = indexed[indexed.columns[i]]\n",
    "            ax.plot(data, color='blue', linewidth=1)\n",
    "            # Decorations\n",
    "            ax.set_title(indexed.columns[i])\n",
    "        ax.xaxis.set_ticks_position('none')\n",
    "        ax.yaxis.set_ticks_position('none')\n",
    "        ax.spines[\"top\"].set_alpha(0)\n",
    "        ax.tick_params(labelsize=6)\n",
    "    \n",
    "    plt.tight_layout()\n",
    "    \n",
    "plot_subplots(indexed)"
   ]
  },
  {
   "cell_type": "markdown",
   "id": "187e4689",
   "metadata": {},
   "source": [
    "<a name=stattests1></a>\n",
    "## Statistical tests"
   ]
  },
  {
   "cell_type": "markdown",
   "id": "f580318b",
   "metadata": {},
   "source": [
    "### Johansen co-integration test"
   ]
  },
  {
   "cell_type": "code",
   "execution_count": null,
   "id": "c2f218f6",
   "metadata": {},
   "outputs": [],
   "source": [
    "from statsmodels.tsa.vector_ar.vecm import coint_johansen\n",
    "\n",
    "def cointegration_test(df, alpha=0.05): \n",
    "    \"\"\"Perform Johanson's Cointegration Test and Report Summary\"\"\"\n",
    "    out = coint_johansen(df,-1,5)\n",
    "    d = {'0.90':0, '0.95':1, '0.99':2}\n",
    "    traces = out.lr1\n",
    "    cvts = out.cvt[:, d[str(1-alpha)]]\n",
    "    def adjust(val, length= 6): return str(val).ljust(length)\n",
    "\n",
    "    # Summary\n",
    "    print('Name   ::  Test Stat > C(95%)    =>   Signif  \\n', '--'*20)\n",
    "    for col, trace, cvt in zip(df.columns, traces, cvts):\n",
    "        print(adjust(col), ':: ', adjust(round(trace,2), 9), \">\", adjust(cvt, 8), ' =>  ' , trace > cvt)\n",
    "\n",
    "cointegration_test(indexed)"
   ]
  },
  {
   "cell_type": "markdown",
   "id": "ff9d029e",
   "metadata": {},
   "source": [
    "The two datasets are correlated."
   ]
  },
  {
   "cell_type": "markdown",
   "id": "3bed91ae",
   "metadata": {},
   "source": [
    "### Augmented DF Test"
   ]
  },
  {
   "cell_type": "code",
   "execution_count": null,
   "id": "95791ef6",
   "metadata": {},
   "outputs": [],
   "source": [
    "from statsmodels.tsa.stattools import adfuller\n",
    "\n",
    "def run_dicky_fuller(ts):\n",
    "  '''Function to run Augmented Dicky Fuller test on the passed time series and report the statistics from the test'''\n",
    "  print(\"Observations of Dickey-fuller test\")\n",
    "  dftest = adfuller(ts,autolag='AIC')\n",
    "  dfoutput=pd.Series(dftest[0:4],index=['Test Statistic','p-value','#lags used','number of observations used'])\n",
    "\n",
    "  for key,value in dftest[4].items():\n",
    "      dfoutput['critical value (%s)'%key]= value\n",
    "  print(dfoutput)\n",
    "\n",
    "\n",
    "# ADF Test on each column\n",
    "for name, column in indexed.iteritems():\n",
    "    run_dicky_fuller(column)\n",
    "    print('\\n')"
   ]
  },
  {
   "cell_type": "markdown",
   "id": "7b199aab",
   "metadata": {},
   "source": [
    "The TS is not stationary"
   ]
  },
  {
   "cell_type": "markdown",
   "id": "06475b01",
   "metadata": {},
   "source": [
    "<a name=diff></a>\n",
    "## Differencing"
   ]
  },
  {
   "cell_type": "markdown",
   "id": "0e3da578",
   "metadata": {},
   "source": [
    "## First order differencing"
   ]
  },
  {
   "cell_type": "code",
   "execution_count": null,
   "id": "29192b30",
   "metadata": {},
   "outputs": [],
   "source": [
    "df_diff_1 = indexed.diff().dropna()\n",
    "df_diff_1"
   ]
  },
  {
   "cell_type": "code",
   "execution_count": null,
   "id": "416c726e",
   "metadata": {},
   "outputs": [],
   "source": [
    "# ADF Test on each column\n",
    "for name, column in df_diff_1.iteritems():\n",
    "    run_dicky_fuller(column)\n",
    "    print('\\n')"
   ]
  },
  {
   "cell_type": "code",
   "execution_count": null,
   "id": "ea00b1c5",
   "metadata": {},
   "outputs": [],
   "source": [
    "plot_subplots(df_diff_1)"
   ]
  },
  {
   "cell_type": "markdown",
   "id": "0fb33795",
   "metadata": {},
   "source": [
    "<a name=traintest1></a>\n",
    "## Train-test split"
   ]
  },
  {
   "cell_type": "markdown",
   "id": "64441ca3",
   "metadata": {},
   "source": [
    "### Train-test split - first order differenced"
   ]
  },
  {
   "cell_type": "code",
   "execution_count": null,
   "id": "97cc5e85",
   "metadata": {},
   "outputs": [],
   "source": [
    "percent_90 = int(len(df_diff_1)*0.9)\n",
    "\n",
    "train = df_diff_1.iloc[:percent_90].dropna()\n",
    "test = df_diff_1.iloc[percent_90:]\n",
    "\n",
    "plot_subplots([train, test])"
   ]
  },
  {
   "cell_type": "markdown",
   "id": "d9baf25d",
   "metadata": {},
   "source": [
    "<a name=var_p_1></a>\n",
    "### Finding the best value of p for VAR(p)\n",
    "\n",
    "Using PACF plot"
   ]
  },
  {
   "cell_type": "code",
   "execution_count": null,
   "id": "aca26619",
   "metadata": {},
   "outputs": [],
   "source": [
    "from statsmodels.graphics.tsaplots import plot_pacf, plot_acf\n",
    "\n",
    "pacf_var_confirmed = plot_pacf(df_diff_1['Confirmed'], lags=25)"
   ]
  },
  {
   "cell_type": "markdown",
   "id": "5f6bba1b",
   "metadata": {},
   "source": [
    "Possible values of p - 3, 6, 10"
   ]
  },
  {
   "cell_type": "code",
   "execution_count": null,
   "id": "e19d1f0a",
   "metadata": {},
   "outputs": [],
   "source": [
    "def MAPE(Y_actual, Y_Predicted, title=None):\n",
    "    mask = Y_actual != 0\n",
    "    \n",
    "    mape = np.mean(np.abs((Y_actual - Y_Predicted)/Y_actual)[mask])*100\n",
    "    if title:\n",
    "        print(f\"MAPE of {title} is {mape[mape.index[0]]}%\")\n",
    "    return mape"
   ]
  },
  {
   "cell_type": "code",
   "execution_count": null,
   "id": "b43018a5",
   "metadata": {},
   "outputs": [],
   "source": [
    "from statsmodels.tsa.statespace.varmax import VARMAX\n",
    "from sklearn.metrics import mean_squared_error, mean_absolute_error\n",
    "\n",
    "# evaluate an VARMA model for a given order (p,d,q)\n",
    "def evaluate_varma_model(train, test, varma_order, column):\n",
    "    \n",
    "    model = VARMAX(train, order=varma_order)\n",
    "    model_fit = model.fit()\n",
    "    yhat = model_fit.forecast(len(test))\n",
    "    mse = mean_squared_error(test[column], yhat[column])\n",
    "    mape = MAPE(test[column], yhat[column])\n",
    "    mae = mean_absolute_error(test[column], yhat[column])\n",
    "    return mse, mape, mae"
   ]
  },
  {
   "cell_type": "code",
   "execution_count": null,
   "id": "949a7773",
   "metadata": {},
   "outputs": [],
   "source": [
    "# Grid search\n",
    "\n",
    "# evaluate combinations of p and q values for an VARMA model\n",
    "def evaluate_models(train, test, p_values, q_values, column):\n",
    "    #dataset = dataset.astype('float32')\n",
    "    best_score, best_cfg = float(\"inf\"), None\n",
    "    \n",
    "    for p in p_values:\n",
    "        for q in q_values:\n",
    "            order = (p,q)\n",
    "            try:\n",
    "                mse, mape, mae = evaluate_varma_model(train, test, order, column)\n",
    "                if mse < best_score:\n",
    "                    best_score, best_cfg = mse, order\n",
    "                \n",
    "                print('VARMA%s MSE=%.3f, MAPE=%.3f, MAE=%.3f' % (order, mse, mape, mae))\n",
    "            except:\n",
    "                continue\n",
    "    print()\n",
    "    print('Best VARMA%s MSE=%.3f' % (best_cfg, best_score))"
   ]
  },
  {
   "cell_type": "code",
   "execution_count": null,
   "id": "506f728d",
   "metadata": {},
   "outputs": [],
   "source": [
    "evaluate_models(train, test, [3, 6, 10], [0], column='Confirmed')"
   ]
  },
  {
   "cell_type": "code",
   "execution_count": null,
   "id": "34cb11d0",
   "metadata": {},
   "outputs": [],
   "source": [
    "evaluate_models(train, test, [3, 6, 10], [0], column='Total_Doses')"
   ]
  },
  {
   "cell_type": "markdown",
   "id": "b0b0560e",
   "metadata": {},
   "source": [
    "Models to try: VAR(3) and VAR(10)"
   ]
  },
  {
   "cell_type": "markdown",
   "id": "ba96da17",
   "metadata": {},
   "source": [
    "<a name=var8_1></a>\n",
    "### VAR(3) Model"
   ]
  },
  {
   "cell_type": "code",
   "execution_count": null,
   "id": "dcdd44fb",
   "metadata": {},
   "outputs": [],
   "source": [
    "model = VARMAX(train, order=(3,0))\n",
    "model_fit = model.fit()\n",
    "forecasted = model_fit.forecast(len(test))\n",
    "\n",
    "df_forecast = pd.DataFrame(forecasted, index=test.index)\n",
    "df_forecast.rename(columns = {'Confirmed': 'Confirmed_forecast', 'Total_Doses': 'Total_Doses_forecast'}, inplace=True)\n",
    "\n",
    "forecasted_conf = df_forecast.join(test)[['Confirmed', 'Confirmed_forecast']]\n",
    "forecasted_vacc = df_forecast.join(test)[['Total_Doses', 'Total_Doses_forecast']]"
   ]
  },
  {
   "cell_type": "code",
   "execution_count": null,
   "id": "030c8daf",
   "metadata": {},
   "outputs": [],
   "source": [
    "model_fit.summary()"
   ]
  },
  {
   "cell_type": "markdown",
   "id": "e0ea5e7c",
   "metadata": {},
   "source": [
    "<a name=diff1_plot></a>\n",
    "### Plot Predictions on Diffed"
   ]
  },
  {
   "cell_type": "code",
   "execution_count": null,
   "id": "7f080b56",
   "metadata": {},
   "outputs": [],
   "source": [
    "def plot_fore_test(test, fore, title):\n",
    "    \n",
    "    fig, ax = plt.subplots()\n",
    "    fig.set_size_inches(7, 7)\n",
    "\n",
    "    ax.plot(test, color='blue', label='Test')\n",
    "    ax.plot(fore, color='red', label='Forecast')\n",
    "    ax.legend(loc='best')\n",
    "    plt.title(title)\n",
    "    plt.show()\n"
   ]
  },
  {
   "cell_type": "code",
   "execution_count": null,
   "id": "6d5f41a8",
   "metadata": {},
   "outputs": [],
   "source": [
    "plot_fore_test(forecasted_conf[['Confirmed']], forecasted_conf[['Confirmed_forecast']], title='Daily cases')"
   ]
  },
  {
   "cell_type": "code",
   "execution_count": null,
   "id": "9c2b7ab1",
   "metadata": {},
   "outputs": [],
   "source": [
    "plot_fore_test(forecasted_vacc[['Total_Doses']], forecasted_vacc[['Total_Doses_forecast']], title='Daily vaccinations')"
   ]
  },
  {
   "cell_type": "markdown",
   "id": "03d706f0",
   "metadata": {},
   "source": [
    "<a name=undiff_1></a>\n",
    "\n",
    "## Un-differencing and Plotting"
   ]
  },
  {
   "cell_type": "code",
   "execution_count": null,
   "id": "3798120a",
   "metadata": {},
   "outputs": [],
   "source": [
    "def invert_transformation(diffed, original):\n",
    "    \"\"\"Revert back the differencing to get the forecast to original scale.\"\"\"\n",
    "    df_copy = original.copy()\n",
    "    \n",
    "    columns = diffed.columns\n",
    "    \n",
    "    for col in columns:\n",
    "        # Add corresponding diff column\n",
    "        df_copy[f'undiff_{col}'] = original[col]\n",
    "        df_copy[f'undiff_{col}'][1:] = diffed[col]\n",
    "        df_copy[f'undiff_{col}'] = df_copy[f'undiff_{col}'].cumsum()\n",
    "    \n",
    "        df_copy.drop(col, axis=1, inplace=True)\n",
    "        \n",
    "    return df_copy"
   ]
  },
  {
   "cell_type": "code",
   "execution_count": null,
   "id": "dedf4b1e",
   "metadata": {},
   "outputs": [],
   "source": [
    "# Check if un-diffed df_diff_1 is the same as original\n",
    "\n",
    "#inverted = invert_transformation(df_diff_1, indexed)\n",
    "#(inverted[['undiff_Confirmed']] - indexed[['Confirmed']]).isna().sum()"
   ]
  },
  {
   "cell_type": "code",
   "execution_count": null,
   "id": "c4b949a1",
   "metadata": {},
   "outputs": [],
   "source": [
    "# Un-diff the test dataset\n",
    "\n",
    "start_index = indexed.index.get_loc(test.index[0])-1\n",
    "test_original = invert_transformation(test, indexed.iloc[start_index:])\n",
    "\n",
    "#test_original"
   ]
  },
  {
   "cell_type": "code",
   "execution_count": null,
   "id": "876cb428",
   "metadata": {},
   "outputs": [],
   "source": [
    "renamed_df = df_forecast.rename(columns={'Confirmed_forecast': 'Confirmed', 'Total_Doses_forecast': 'Total_Doses'}, inplace=False)\n",
    "\n",
    "\n",
    "start_index = indexed.index.get_loc(renamed_df.index[0])-1\n",
    "fore_original = invert_transformation(renamed_df, indexed.iloc[start_index:])\n",
    "\n",
    "#fore_original"
   ]
  },
  {
   "cell_type": "code",
   "execution_count": null,
   "id": "fa99fdaf",
   "metadata": {},
   "outputs": [],
   "source": [
    "end_index = indexed.index.get_loc(fore_original.index[0])\n",
    "train_original = indexed[:end_index]\n",
    "plot_subplots([train_original, fore_original])"
   ]
  },
  {
   "cell_type": "markdown",
   "id": "0c7ff560",
   "metadata": {},
   "source": [
    "### Store metrics"
   ]
  },
  {
   "cell_type": "code",
   "execution_count": null,
   "id": "abf9e118",
   "metadata": {},
   "outputs": [],
   "source": [
    "results_table = results_table.append({\n",
    "    'model': 'VAR(3)',\n",
    "    'mse': mean_squared_error(test_original['undiff_Confirmed'], fore_original['undiff_Confirmed']),\n",
    "    'mape': MAPE(test_original['undiff_Confirmed'], fore_original['undiff_Confirmed']),\n",
    "    'mae': mean_absolute_error(test_original['undiff_Confirmed'], fore_original['undiff_Confirmed'])\n",
    "}, ignore_index=True)\n",
    "\n",
    "results_table"
   ]
  },
  {
   "cell_type": "markdown",
   "id": "18cf74da",
   "metadata": {},
   "source": [
    "### Plot the forecasts"
   ]
  },
  {
   "cell_type": "code",
   "execution_count": null,
   "id": "bd514097",
   "metadata": {},
   "outputs": [],
   "source": [
    "plot_fore_test(test_original[['undiff_Confirmed']], fore_original[['undiff_Confirmed']], title='Daily cases')"
   ]
  },
  {
   "cell_type": "code",
   "execution_count": null,
   "id": "25398fb6",
   "metadata": {},
   "outputs": [],
   "source": [
    "plot_fore_test(test_original[['undiff_Total_Doses']], fore_original[['undiff_Total_Doses']], title='Daily vaccinations')"
   ]
  },
  {
   "cell_type": "code",
   "execution_count": null,
   "id": "1ccac4cb",
   "metadata": {},
   "outputs": [],
   "source": [
    "def plot_train_test_fore(train, test, fore, title='Forecast vs Actuals', ylabel='', xlabel='Date', figpath=None):\n",
    "    plt.figure(figsize=(10,5), dpi=100)\n",
    "    plt.plot(train, label='training')\n",
    "    plt.plot(test, label='actual')\n",
    "    plt.plot(fore, label='forecast')\n",
    "    fig = plt.gcf()\n",
    "    \n",
    "    plt.xlabel=xlabel\n",
    "    plt.ylabel=ylabel\n",
    "\n",
    "    plt.title(title)\n",
    "    plt.legend(loc='upper left', fontsize=8)\n",
    "    plt.show()\n",
    "    \n",
    "    \n",
    "    if figpath is not None:\n",
    "        fig.savefig(figpath, format='eps', bbox_inches='tight')"
   ]
  },
  {
   "cell_type": "code",
   "execution_count": null,
   "id": "b618c9c3",
   "metadata": {},
   "outputs": [],
   "source": [
    "# Plot of daily cases\n",
    "plot_train_test_fore(train_original.Confirmed, test_original[['undiff_Confirmed']], fore_original[['undiff_Confirmed']], title='Daily cases', figpath='../../figures/v_ar/usa_cases.eps')\n",
    "\n"
   ]
  },
  {
   "cell_type": "code",
   "execution_count": null,
   "id": "3fb7d292",
   "metadata": {},
   "outputs": [],
   "source": [
    "# Plot of daily doses\n",
    "# plot_train_test_fore(train_original.Total_Doses, test_original[['undiff_Total_Doses']], fore_original[['undiff_Total_Doses']], title='Daily doses', figpath='../../figures/v_ar/usa_vacc.eps')\n",
    "\n",
    "\n"
   ]
  },
  {
   "cell_type": "markdown",
   "id": "9d9ae113",
   "metadata": {},
   "source": [
    "### VAR(10) Model"
   ]
  },
  {
   "cell_type": "code",
   "execution_count": null,
   "id": "4749c55f",
   "metadata": {},
   "outputs": [],
   "source": [
    "model_10 = VARMAX(train, order=(10,0))\n",
    "model_fit_10 = model_10.fit()\n",
    "forecasted_10 = model_fit_10.forecast(len(test))\n",
    "\n",
    "df_forecast_10 = pd.DataFrame(forecasted_10, index=test.index)\n",
    "df_forecast_10.rename(columns = {'Confirmed': 'Confirmed_forecast', 'Total_Doses': 'Total_Doses_forecast'}, inplace=True)\n",
    "\n",
    "forecasted_conf_10 = df_forecast_10.join(test)[['Confirmed', 'Confirmed_forecast']]\n",
    "forecasted_vacc_10 = df_forecast_10.join(test)[['Total_Doses', 'Total_Doses_forecast']]"
   ]
  },
  {
   "cell_type": "code",
   "execution_count": null,
   "id": "cdeba19e",
   "metadata": {},
   "outputs": [],
   "source": [
    "model_fit_10.summary()"
   ]
  },
  {
   "cell_type": "markdown",
   "id": "a7d056b8",
   "metadata": {},
   "source": [
    "### Plot Predictions on Diffed"
   ]
  },
  {
   "cell_type": "code",
   "execution_count": null,
   "id": "103310d0",
   "metadata": {},
   "outputs": [],
   "source": [
    "# plot_fore_test(test[['Confirmed']], forecasted_10[['Confirmed']], title='Diffed Daily cases')"
   ]
  },
  {
   "cell_type": "code",
   "execution_count": null,
   "id": "1d45d94b",
   "metadata": {},
   "outputs": [],
   "source": [
    "# plot_fore_test(test[['Total_Doses']], forecasted_10[['Total_Doses']], title='Diffed Daily vaccinations')"
   ]
  },
  {
   "cell_type": "markdown",
   "id": "e0dd14a5",
   "metadata": {},
   "source": [
    "## Un-differencing and Plotting"
   ]
  },
  {
   "cell_type": "code",
   "execution_count": null,
   "id": "005ab582",
   "metadata": {},
   "outputs": [],
   "source": [
    "renamed_df_10 = df_forecast_10.rename(columns={'Confirmed_forecast': 'Confirmed', 'Total_Doses_forecast': 'Total_Doses'}, inplace=False)\n",
    "\n",
    "\n",
    "start_index = indexed.index.get_loc(renamed_df_10.index[0])-1\n",
    "fore_original_10 = invert_transformation(renamed_df_10, indexed.iloc[start_index:])"
   ]
  },
  {
   "cell_type": "markdown",
   "id": "dd583df9",
   "metadata": {},
   "source": [
    "### Store metrics"
   ]
  },
  {
   "cell_type": "code",
   "execution_count": null,
   "id": "9c02fb3b",
   "metadata": {},
   "outputs": [],
   "source": [
    "results_table = results_table.append({\n",
    "    'model': 'VAR(10)',\n",
    "    'mse': mean_squared_error(test_original['undiff_Confirmed'], fore_original_10['undiff_Confirmed']),\n",
    "    'mape': MAPE(test_original['undiff_Confirmed'], fore_original_10['undiff_Confirmed']),\n",
    "    'mae': mean_absolute_error(test_original['undiff_Confirmed'], fore_original_10['undiff_Confirmed'])\n",
    "}, ignore_index=True)\n",
    "\n",
    "results_table"
   ]
  },
  {
   "cell_type": "code",
   "execution_count": null,
   "id": "65a27f29",
   "metadata": {},
   "outputs": [],
   "source": [
    "# Plot of daily cases\n",
    "plot_train_test_fore(train_original.Confirmed, test_original[['undiff_Confirmed']], fore_original_10[['undiff_Confirmed']], title='Daily cases')\n",
    "\n"
   ]
  },
  {
   "cell_type": "markdown",
   "id": "59cae698",
   "metadata": {},
   "source": [
    "## VMA Model"
   ]
  },
  {
   "cell_type": "code",
   "execution_count": null,
   "id": "4af6edbf",
   "metadata": {},
   "outputs": [],
   "source": [
    "acf_varma_confirmed = plot_acf(train['Confirmed'], lags=25)"
   ]
  },
  {
   "cell_type": "markdown",
   "id": "f5911d36",
   "metadata": {},
   "source": [
    "Possible values of q - 2, 6, 7, 9, 13, 14"
   ]
  },
  {
   "cell_type": "code",
   "execution_count": null,
   "id": "482ba7e3",
   "metadata": {},
   "outputs": [],
   "source": [
    "evaluate_models(train, test, [0], [2, 6, 7], column='Confirmed')"
   ]
  },
  {
   "cell_type": "markdown",
   "id": "6f1c70cd",
   "metadata": {},
   "source": [
    "## VMA(2)"
   ]
  },
  {
   "cell_type": "code",
   "execution_count": null,
   "id": "d439ff83",
   "metadata": {},
   "outputs": [],
   "source": [
    "model_ma2 = VARMAX(train, order=(0,2))\n",
    "model_fit_ma2 = model_ma2.fit()\n",
    "forecasted_ma2 = model_fit_ma2.forecast(len(test))\n",
    "\n",
    "df_forecast_ma2 = pd.DataFrame(forecasted_ma2, index=test.index)\n",
    "df_forecast_ma2.rename(columns = {'Confirmed': 'Confirmed_forecast', 'Total_Doses': 'Total_Doses_forecast'}, inplace=True)\n",
    "\n",
    "forecasted_conf_ma2 = df_forecast_ma2.join(test)[['Confirmed', 'Confirmed_forecast']]\n",
    "forecasted_vacc_ma2 = df_forecast_ma2.join(test)[['Total_Doses', 'Total_Doses_forecast']]"
   ]
  },
  {
   "cell_type": "code",
   "execution_count": null,
   "id": "b86100d6",
   "metadata": {},
   "outputs": [],
   "source": [
    "model_fit_ma2.summary()"
   ]
  },
  {
   "cell_type": "code",
   "execution_count": null,
   "id": "d6933e77",
   "metadata": {},
   "outputs": [],
   "source": [
    "# plot_fore_test(test[['Confirmed']], forecasted_ma2[['Confirmed']], title='Diffed Daily cases')"
   ]
  },
  {
   "cell_type": "code",
   "execution_count": null,
   "id": "9926908a",
   "metadata": {},
   "outputs": [],
   "source": [
    "# plot_fore_test(test[['Total_Doses']], forecasted_ma2[['Total_Doses']], title='Diffed Daily vaccinations')"
   ]
  },
  {
   "cell_type": "markdown",
   "id": "8d0a0db4",
   "metadata": {},
   "source": [
    "### Undifferencing and plotting"
   ]
  },
  {
   "cell_type": "code",
   "execution_count": null,
   "id": "32bdb498",
   "metadata": {},
   "outputs": [],
   "source": [
    "renamed_df_ma2 = df_forecast_ma2.rename(columns={'Confirmed_forecast': 'Confirmed', 'Total_Doses_forecast': 'Total_Doses'}, inplace=False)\n",
    "\n",
    "\n",
    "start_index_ma2 = indexed.index.get_loc(renamed_df_ma2.index[0])-1\n",
    "fore_original_ma2 = invert_transformation(renamed_df_ma2, indexed.iloc[start_index_ma2:])"
   ]
  },
  {
   "cell_type": "code",
   "execution_count": null,
   "id": "270e7167",
   "metadata": {},
   "outputs": [],
   "source": [
    "# fore_original_ma2"
   ]
  },
  {
   "cell_type": "code",
   "execution_count": null,
   "id": "9e9dc351",
   "metadata": {},
   "outputs": [],
   "source": [
    "results_table = results_table.append({\n",
    "    'model': 'VMA(2)',\n",
    "    'mse': mean_squared_error(test_original['undiff_Confirmed'], fore_original_ma2['undiff_Confirmed']),\n",
    "    'mape': MAPE(test_original['undiff_Confirmed'], fore_original_ma2['undiff_Confirmed']),\n",
    "    'mae': mean_absolute_error(test_original['undiff_Confirmed'], fore_original_ma2['undiff_Confirmed'])\n",
    "}, ignore_index=True)\n",
    "\n",
    "results_table"
   ]
  },
  {
   "cell_type": "code",
   "execution_count": null,
   "id": "9823c773",
   "metadata": {},
   "outputs": [],
   "source": [
    "plot_train_test_fore(train_original.Confirmed, test_original[['undiff_Confirmed']], fore_original_ma2[['undiff_Confirmed']], title='Daily cases')\n",
    "\n"
   ]
  },
  {
   "cell_type": "markdown",
   "id": "a753eca6",
   "metadata": {},
   "source": [
    "## VMA(6)"
   ]
  },
  {
   "cell_type": "code",
   "execution_count": null,
   "id": "3a1af949",
   "metadata": {},
   "outputs": [],
   "source": [
    "model_ma6 = VARMAX(train, order=(0,6))\n",
    "model_fit_ma6 = model_ma6.fit()\n",
    "forecasted_ma6 = model_fit_ma6.forecast(len(test))\n",
    "\n",
    "df_forecast_ma6 = pd.DataFrame(forecasted_ma6, index=test.index)\n",
    "df_forecast_ma6.rename(columns = {'Confirmed': 'Confirmed_forecast', 'Total_Doses': 'Total_Doses_forecast'}, inplace=True)\n",
    "\n",
    "forecasted_conf_ma6 = df_forecast_ma6.join(test)[['Confirmed', 'Confirmed_forecast']]\n",
    "forecasted_vacc_ma6 = df_forecast_ma6.join(test)[['Total_Doses', 'Total_Doses_forecast']]"
   ]
  },
  {
   "cell_type": "code",
   "execution_count": null,
   "id": "341eb444",
   "metadata": {},
   "outputs": [],
   "source": [
    "model_fit_ma6.summary()"
   ]
  },
  {
   "cell_type": "code",
   "execution_count": null,
   "id": "8a2b699b",
   "metadata": {},
   "outputs": [],
   "source": [
    "# plot_fore_test(test[['Confirmed']], forecasted_ma6[['Confirmed']], title='Diffed Daily cases')"
   ]
  },
  {
   "cell_type": "code",
   "execution_count": null,
   "id": "9a549c2c",
   "metadata": {},
   "outputs": [],
   "source": [
    "# plot_fore_test(test[['Total_Doses']], forecasted_ma6[['Total_Doses']], title='Diffed Daily vaccinations')"
   ]
  },
  {
   "cell_type": "code",
   "execution_count": null,
   "id": "32bdb498",
   "metadata": {},
   "outputs": [],
   "source": [
    "renamed_df_ma6 = df_forecast_ma6.rename(columns={'Confirmed_forecast': 'Confirmed', 'Total_Doses_forecast': 'Total_Doses'}, inplace=False)\n",
    "\n",
    "\n",
    "start_index_ma6 = indexed.index.get_loc(renamed_df_ma6.index[0])-1\n",
    "fore_original_ma6 = invert_transformation(renamed_df_ma6, indexed.iloc[start_index_ma6:])"
   ]
  },
  {
   "cell_type": "code",
   "execution_count": null,
   "id": "270e7167",
   "metadata": {},
   "outputs": [],
   "source": [
    "# fore_original_ma6"
   ]
  },
  {
   "cell_type": "code",
   "execution_count": null,
   "id": "9e9dc351",
   "metadata": {},
   "outputs": [],
   "source": [
    "results_table = results_table.append({\n",
    "    'model': 'VMA(6)',\n",
    "    'mse': mean_squared_error(test_original['undiff_Confirmed'], fore_original_ma6['undiff_Confirmed']),\n",
    "    'mape': MAPE(test_original['undiff_Confirmed'], fore_original_ma6['undiff_Confirmed']),\n",
    "    'mae': mean_absolute_error(test_original['undiff_Confirmed'], fore_original_ma6['undiff_Confirmed'])\n",
    "}, ignore_index=True)\n",
    "\n",
    "results_table"
   ]
  },
  {
   "cell_type": "code",
   "execution_count": null,
   "id": "9823c773",
   "metadata": {},
   "outputs": [],
   "source": [
    "plot_train_test_fore(train_original.Confirmed, test_original[['undiff_Confirmed']], fore_original_ma6[['undiff_Confirmed']], title='Daily cases')\n",
    "\n"
   ]
  },
  {
   "cell_type": "markdown",
   "id": "a753eca6",
   "metadata": {},
   "source": [
    "## VMA(7)"
   ]
  },
  {
   "cell_type": "code",
   "execution_count": null,
   "id": "3a1af949",
   "metadata": {},
   "outputs": [],
   "source": [
    "model_ma7 = VARMAX(train, order=(0,7))\n",
    "model_fit_ma7 = model_ma7.fit()\n",
    "forecasted_ma7 = model_fit_ma7.forecast(len(test))\n",
    "\n",
    "df_forecast_ma7 = pd.DataFrame(forecasted_ma7, index=test.index)\n",
    "df_forecast_ma7.rename(columns = {'Confirmed': 'Confirmed_forecast', 'Total_Doses': 'Total_Doses_forecast'}, inplace=True)\n",
    "\n",
    "forecasted_conf_ma7 = df_forecast_ma7.join(test)[['Confirmed', 'Confirmed_forecast']]\n",
    "forecasted_vacc_ma7 = df_forecast_ma7.join(test)[['Total_Doses', 'Total_Doses_forecast']]"
   ]
  },
  {
   "cell_type": "code",
   "execution_count": null,
   "id": "341eb444",
   "metadata": {},
   "outputs": [],
   "source": [
    "model_fit_ma7.summary()"
   ]
  },
  {
   "cell_type": "code",
   "execution_count": null,
   "id": "8a2b699b",
   "metadata": {},
   "outputs": [],
   "source": [
    "# plot_fore_test(test[['Confirmed']], forecasted_ma7[['Confirmed']], title='Diffed Daily cases')"
   ]
  },
  {
   "cell_type": "code",
   "execution_count": null,
   "id": "9a549c2c",
   "metadata": {},
   "outputs": [],
   "source": [
    "# plot_fore_test(test[['Total_Doses']], forecasted_ma7[['Total_Doses']], title='Diffed Daily vaccinations')"
   ]
  },
  {
   "cell_type": "code",
   "execution_count": null,
   "id": "32bdb498",
   "metadata": {},
   "outputs": [],
   "source": [
    "renamed_df_ma7 = df_forecast_ma7.rename(columns={'Confirmed_forecast': 'Confirmed', 'Total_Doses_forecast': 'Total_Doses'}, inplace=False)\n",
    "\n",
    "\n",
    "start_index_ma7 = indexed.index.get_loc(renamed_df_ma7.index[0])-1\n",
    "fore_original_ma7 = invert_transformation(renamed_df_ma7, indexed.iloc[start_index_ma7:])"
   ]
  },
  {
   "cell_type": "code",
   "execution_count": null,
   "id": "270e7167",
   "metadata": {},
   "outputs": [],
   "source": [
    "# fore_original_ma7"
   ]
  },
  {
   "cell_type": "code",
   "execution_count": null,
   "id": "9e9dc351",
   "metadata": {},
   "outputs": [],
   "source": [
    "results_table = results_table.append({\n",
    "    'model': 'VMA(7)',\n",
    "    'mse': mean_squared_error(test_original['undiff_Confirmed'], fore_original_ma7['undiff_Confirmed']),\n",
    "    'mape': MAPE(test_original['undiff_Confirmed'], fore_original_ma7['undiff_Confirmed']),\n",
    "    'mae': mean_absolute_error(test_original['undiff_Confirmed'], fore_original_ma7['undiff_Confirmed'])\n",
    "}, ignore_index=True)\n",
    "\n",
    "results_table"
   ]
  },
  {
   "cell_type": "code",
   "execution_count": null,
   "id": "9823c773",
   "metadata": {},
   "outputs": [],
   "source": [
    "plot_train_test_fore(train_original.Confirmed, test_original[['undiff_Confirmed']], fore_original_ma7[['undiff_Confirmed']], title='Daily cases')\n",
    "\n"
   ]
  },
  {
   "cell_type": "markdown",
   "id": "44092226",
   "metadata": {},
   "source": [
    "<a name=varma></a>\n",
    "\n",
    "## VARMA"
   ]
  },
  {
   "cell_type": "code",
   "execution_count": null,
   "id": "24da3ebc",
   "metadata": {},
   "outputs": [],
   "source": [
    "pacf_varma_confirmed = plot_pacf(train['Confirmed'], lags=25)\n",
    "acf_varma_confirmed = plot_acf(train['Confirmed'], lags=25)"
   ]
  },
  {
   "cell_type": "code",
   "execution_count": null,
   "id": "b7d13f78",
   "metadata": {},
   "outputs": [],
   "source": [
    "# evaluate_models(train, test, [3, 10], [2, 6, 7], column='Confirmed')"
   ]
  },
  {
   "cell_type": "code",
   "execution_count": null,
   "id": "58c5790b",
   "metadata": {},
   "outputs": [],
   "source": [
    "model_varma = VARMAX(train, order=(3,2))\n",
    "model_fit_varma = model_varma.fit()\n",
    "yhat_varma = model_fit_varma.forecast(len(test))\n",
    "#yhat"
   ]
  },
  {
   "cell_type": "code",
   "execution_count": null,
   "id": "ca7124a0",
   "metadata": {},
   "outputs": [],
   "source": [
    "# plot_fore_test(test[['Confirmed']], yhat_varma[['Confirmed']], title='Diffed Daily cases')"
   ]
  },
  {
   "cell_type": "code",
   "execution_count": null,
   "id": "cf3dbd2b",
   "metadata": {},
   "outputs": [],
   "source": [
    "# plot_fore_test(test[['Total_Doses']], yhat_varma[['Total_Doses']], title='Diffed Daily Doses')"
   ]
  },
  {
   "cell_type": "code",
   "execution_count": null,
   "id": "f12a8d17",
   "metadata": {},
   "outputs": [],
   "source": [
    "# Un-diff the test dataset\n",
    "\n",
    "fore_original_varma = invert_transformation(yhat_varma, indexed.iloc[start_index:])\n",
    "fore_original_varma"
   ]
  },
  {
   "cell_type": "code",
   "execution_count": null,
   "id": "39a87a31",
   "metadata": {},
   "outputs": [],
   "source": [
    "# plot_fore_test(test_original[['undiff_Confirmed']], fore_original_varma[['undiff_Confirmed']], title='Daily cases')"
   ]
  },
  {
   "cell_type": "code",
   "execution_count": null,
   "id": "74981cc2",
   "metadata": {},
   "outputs": [],
   "source": [
    "# plot_fore_test(test_original[['undiff_Total_Doses']], fore_original_varma[['undiff_Total_Doses']], title='Daily Doses')"
   ]
  },
  {
   "cell_type": "code",
   "execution_count": null,
   "id": "64193f18",
   "metadata": {},
   "outputs": [],
   "source": [
    "# plot_subplots([train_original, fore_original_varma])"
   ]
  },
  {
   "cell_type": "code",
   "execution_count": null,
   "id": "e5141e6d",
   "metadata": {},
   "outputs": [],
   "source": [
    "plot_train_test_fore(train_original.Confirmed, test_original[['undiff_Confirmed']], fore_original_varma[['undiff_Confirmed']], title='Daily cases')\n",
    "\n"
   ]
  },
  {
   "cell_type": "code",
   "execution_count": null,
   "id": "3c3f0902",
   "metadata": {},
   "outputs": [],
   "source": [
    "results_table = results_table.append({\n",
    "    'model': 'VARMA(3,2)',\n",
    "    'mse': mean_squared_error(test_original['undiff_Confirmed'], fore_original_varma['undiff_Confirmed']),\n",
    "    'mape': MAPE(test_original['undiff_Confirmed'], fore_original_varma['undiff_Confirmed']),\n",
    "    'mae': mean_absolute_error(test_original['undiff_Confirmed'], fore_original_varma['undiff_Confirmed'])\n",
    "}, ignore_index=True)\n",
    "\n",
    "results_table"
   ]
  },
  {
   "cell_type": "markdown",
   "id": "29d88ce2",
   "metadata": {},
   "source": [
    "<a name=roll2></a>\n",
    "\n",
    "## Rolling Forecasts"
   ]
  },
  {
   "cell_type": "code",
   "execution_count": null,
   "id": "8fde7d61",
   "metadata": {},
   "outputs": [],
   "source": [
    "history = train.copy()\n",
    "predicted = pd.DataFrame(columns=[\n",
    "    'VAR_Confirmed', \n",
    "    'VAR_Total_Doses', \n",
    "    'VMA_Confirmed', \n",
    "    'VMA_Total_Doses', \n",
    "    'VARMA_Confirmed', \n",
    "    'VARMA_Total_Doses'\n",
    "], index=test.index)\n",
    "\n",
    "\n",
    "# predicted\n",
    "\n",
    "for t in range(len(test)):\n",
    "    # 3 models\n",
    "    var = VARMAX(history, order=(3,0))\n",
    "    vma = VARMAX(history, order=(0,2))\n",
    "    varma = VARMAX(history, order=(3,2))\n",
    "    \n",
    "    # 3 fitted models\n",
    "    var_fit = var.fit()\n",
    "    vma_fit = vma.fit()\n",
    "    varma_fit = varma.fit()\n",
    "    \n",
    "    # Predictions\n",
    "    yhat_var = var_fit.forecast()\n",
    "    yhat_vma = vma_fit.forecast()\n",
    "    yhat_varma = varma_fit.forecast()\n",
    "    \n",
    "    # Next index to insert\n",
    "    newindex = history.index[-1] + pd.to_timedelta(1, 'D')\n",
    "    \n",
    "    # Confirmed cases\n",
    "    predicted.loc[newindex]['VAR_Confirmed'] = yhat_var['Confirmed'].values[0]\n",
    "    predicted.loc[newindex]['VMA_Confirmed'] = yhat_vma['Confirmed'].values[0]\n",
    "    predicted.loc[newindex]['VARMA_Confirmed'] = yhat_varma['Confirmed'].values[0]\n",
    "    \n",
    "    # Total doses\n",
    "    predicted.loc[newindex]['VAR_Total_Doses'] = yhat_var['Total_Doses'].values[0]\n",
    "    predicted.loc[newindex]['VMA_Total_Doses'] = yhat_vma['Total_Doses'].values[0]\n",
    "    predicted.loc[newindex]['VARMA_Total_Doses'] = yhat_varma['Total_Doses'].values[0]\n",
    "    \n",
    "    history = history.append(test.iloc[t])\n",
    "    # history[newindex]['Total_Doses'] = test.iloc[t]['Total_Doses']\n",
    "    \n",
    "    # print('predicted =', yhat.values, ' ; actual =', test.iloc[t].values)"
   ]
  },
  {
   "cell_type": "code",
   "execution_count": null,
   "id": "55e7f5b2",
   "metadata": {},
   "outputs": [],
   "source": [
    "predicted"
   ]
  },
  {
   "cell_type": "markdown",
   "id": "967c7e50",
   "metadata": {},
   "source": [
    "## VAR(3)"
   ]
  },
  {
   "cell_type": "code",
   "execution_count": null,
   "id": "e0910c9d",
   "metadata": {},
   "outputs": [],
   "source": [
    "plot_subplots([test, predicted[['VAR_Confirmed', 'VAR_Total_Doses']]])"
   ]
  },
  {
   "cell_type": "code",
   "execution_count": null,
   "id": "6348b87a",
   "metadata": {},
   "outputs": [],
   "source": [
    "# Un-diffing\n",
    "\n",
    "pred_roll_var = predicted[['VAR_Confirmed', 'VAR_Total_Doses']].rename(columns={'VAR_Confirmed': 'Confirmed', 'VAR_Total_Doses': 'Total_Doses'}, inplace=False)\n",
    "fore_original_roll_var = invert_transformation(pred_roll_var, indexed.iloc[start_index:])"
   ]
  },
  {
   "cell_type": "code",
   "execution_count": null,
   "id": "2424b2d1",
   "metadata": {},
   "outputs": [],
   "source": [
    "results_table = results_table.append({\n",
    "    'model': 'VAR(3) - rolling',\n",
    "    'mse': mean_squared_error(test_original['undiff_Confirmed'], fore_original_roll_var['undiff_Confirmed']),\n",
    "    'mape': MAPE(test_original['undiff_Confirmed'], fore_original_roll_var['undiff_Confirmed']),\n",
    "    'mae': mean_absolute_error(test_original['undiff_Confirmed'], fore_original_roll_var['undiff_Confirmed'])\n",
    "}, ignore_index=True)\n",
    "\n",
    "results_table"
   ]
  },
  {
   "cell_type": "code",
   "execution_count": null,
   "id": "8cc48499",
   "metadata": {},
   "outputs": [],
   "source": [
    "# fore_original_roll_var"
   ]
  },
  {
   "cell_type": "code",
   "execution_count": null,
   "id": "9b3e616d",
   "metadata": {},
   "outputs": [],
   "source": [
    "plot_train_test_fore(train_original.Confirmed, test_original[['undiff_Confirmed']], fore_original_roll_var[['undiff_Confirmed']], title='Daily cases')\n",
    "\n",
    "\n"
   ]
  },
  {
   "cell_type": "markdown",
   "id": "967c7e50",
   "metadata": {},
   "source": [
    "## VMA(2)"
   ]
  },
  {
   "cell_type": "code",
   "execution_count": null,
   "id": "e0910c9d",
   "metadata": {},
   "outputs": [],
   "source": [
    "plot_subplots([test, predicted[['VMA_Confirmed', 'VMA_Total_Doses']]])"
   ]
  },
  {
   "cell_type": "code",
   "execution_count": null,
   "id": "6348b87a",
   "metadata": {},
   "outputs": [],
   "source": [
    "# Un-diffing\n",
    "\n",
    "pred_roll_vma = predicted[['VMA_Confirmed', 'VMA_Total_Doses']].rename(columns={'VMA_Confirmed': 'Confirmed', 'VMA_Total_Doses': 'Total_Doses'}, inplace=False)\n",
    "fore_original_roll_vma = invert_transformation(pred_roll_vma, indexed.iloc[start_index:])"
   ]
  },
  {
   "cell_type": "code",
   "execution_count": null,
   "id": "2424b2d1",
   "metadata": {},
   "outputs": [],
   "source": [
    "results_table = results_table.append({\n",
    "    'model': 'VMA(2) - rolling',\n",
    "    'mse': mean_squared_error(test_original['undiff_Confirmed'], fore_original_roll_vma['undiff_Confirmed']),\n",
    "    'mape': MAPE(test_original['undiff_Confirmed'], fore_original_roll_vma['undiff_Confirmed']),\n",
    "    'mae': mean_absolute_error(test_original['undiff_Confirmed'], fore_original_roll_vma['undiff_Confirmed'])\n",
    "}, ignore_index=True)\n",
    "\n",
    "results_table"
   ]
  },
  {
   "cell_type": "code",
   "execution_count": null,
   "id": "8cc48499",
   "metadata": {},
   "outputs": [],
   "source": [
    "# fore_original_roll_vma"
   ]
  },
  {
   "cell_type": "code",
   "execution_count": null,
   "id": "9b3e616d",
   "metadata": {},
   "outputs": [],
   "source": [
    "plot_train_test_fore(train_original.Confirmed, test_original[['undiff_Confirmed']], fore_original_roll_vma[['undiff_Confirmed']], title='Daily cases')\n",
    "\n",
    "\n"
   ]
  },
  {
   "cell_type": "markdown",
   "id": "967c7e50",
   "metadata": {},
   "source": [
    "## VARMA(3,2)"
   ]
  },
  {
   "cell_type": "code",
   "execution_count": null,
   "id": "e0910c9d",
   "metadata": {},
   "outputs": [],
   "source": [
    "plot_subplots([test, predicted[['VARMA_Confirmed', 'VARMA_Total_Doses']]])"
   ]
  },
  {
   "cell_type": "code",
   "execution_count": null,
   "id": "6348b87a",
   "metadata": {},
   "outputs": [],
   "source": [
    "# Un-diffing\n",
    "\n",
    "pred_roll_varma = predicted[['VARMA_Confirmed', 'VARMA_Total_Doses']].rename(columns={'VARMA_Confirmed': 'Confirmed', 'VARMA_Total_Doses': 'Total_Doses'}, inplace=False)\n",
    "fore_original_roll_varma = invert_transformation(pred_roll_varma, indexed.iloc[start_index:])"
   ]
  },
  {
   "cell_type": "code",
   "execution_count": null,
   "id": "2424b2d1",
   "metadata": {},
   "outputs": [],
   "source": [
    "results_table = results_table.append({\n",
    "    'model': 'VARMA(3,2) - rolling',\n",
    "    'mse': mean_squared_error(test_original['undiff_Confirmed'], fore_original_roll_varma['undiff_Confirmed']),\n",
    "    'mape': MAPE(test_original['undiff_Confirmed'], fore_original_roll_varma['undiff_Confirmed']),\n",
    "    'mae': mean_absolute_error(test_original['undiff_Confirmed'], fore_original_roll_varma['undiff_Confirmed'])\n",
    "}, ignore_index=True)\n",
    "\n",
    "results_table"
   ]
  },
  {
   "cell_type": "code",
   "execution_count": null,
   "id": "8cc48499",
   "metadata": {},
   "outputs": [],
   "source": [
    "# fore_original_roll_varma"
   ]
  },
  {
   "cell_type": "code",
   "execution_count": null,
   "id": "9b3e616d",
   "metadata": {},
   "outputs": [],
   "source": [
    "plot_train_test_fore(train_original.Confirmed, test_original[['undiff_Confirmed']], fore_original_roll_varma[['undiff_Confirmed']], title='Daily cases')\n",
    "\n",
    "\n"
   ]
  },
  {
   "cell_type": "code",
   "execution_count": null,
   "id": "2566f23f",
   "metadata": {},
   "outputs": [],
   "source": [
    "results_table"
   ]
  },
  {
   "cell_type": "code",
   "execution_count": null,
   "id": "ea05b971",
   "metadata": {},
   "outputs": [],
   "source": []
  }
 ],
 "metadata": {
  "kernelspec": {
   "display_name": "Python 3",
   "language": "python",
   "name": "python3"
  },
  "language_info": {
   "codemirror_mode": {
    "name": "ipython",
    "version": 3
   },
   "file_extension": ".py",
   "mimetype": "text/x-python",
   "name": "python",
   "nbconvert_exporter": "python",
   "pygments_lexer": "ipython3",
   "version": "3.7.3"
  }
 },
 "nbformat": 4,
 "nbformat_minor": 5
}
