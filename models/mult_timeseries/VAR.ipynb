{
 "cells": [
  {
   "cell_type": "code",
   "execution_count": null,
   "id": "938b4206",
   "metadata": {},
   "outputs": [],
   "source": [
    "import pandas as pd\n",
    "import numpy as np\n",
    "import matplotlib.pyplot as plt"
   ]
  },
  {
   "cell_type": "code",
   "execution_count": null,
   "id": "8f6a0e2e",
   "metadata": {},
   "outputs": [],
   "source": [
    "daily_cases_india = pd.read_csv('../../cleaned_datasets/india/daily_cases_india.csv', parse_dates=['Date'], index_col=0)\n",
    "daily_vacc_india = pd.read_csv('../../cleaned_datasets/india/daily_vacc_india.csv', parse_dates=['Updated On'])"
   ]
  },
  {
   "cell_type": "code",
   "execution_count": null,
   "id": "6cd4ac0c",
   "metadata": {},
   "outputs": [],
   "source": [
    "daily_cases_india.dtypes"
   ]
  },
  {
   "cell_type": "code",
   "execution_count": null,
   "id": "dbfc02b4",
   "metadata": {},
   "outputs": [],
   "source": [
    "daily_cases_india"
   ]
  },
  {
   "cell_type": "code",
   "execution_count": null,
   "id": "32cadcdc",
   "metadata": {},
   "outputs": [],
   "source": [
    "daily_vacc_india.dtypes"
   ]
  },
  {
   "cell_type": "code",
   "execution_count": null,
   "id": "b4ae2fb0",
   "metadata": {},
   "outputs": [],
   "source": [
    "daily_vacc_india"
   ]
  },
  {
   "cell_type": "code",
   "execution_count": null,
   "id": "95e7e252",
   "metadata": {},
   "outputs": [],
   "source": [
    "cases_vacc = daily_cases_india.merge(daily_vacc_india, how='outer', left_on='Date', right_on='Updated On')\n",
    "cases_vacc = cases_vacc[[\"Date\", \"Confirmed\", \"Total_Doses\"]]\n",
    "cases_vacc"
   ]
  },
  {
   "cell_type": "code",
   "execution_count": null,
   "id": "5979fd0e",
   "metadata": {},
   "outputs": [],
   "source": [
    "cases_vacc.fillna(0, inplace=True)\n",
    "indexed = cases_vacc.set_index('Date')\n",
    "indexed"
   ]
  },
  {
   "cell_type": "code",
   "execution_count": null,
   "id": "dc01eb9d",
   "metadata": {},
   "outputs": [],
   "source": [
    "def plot_subplots(indexed):\n",
    "    \n",
    "    if type(indexed) == pd.DataFrame:\n",
    "        nrows = int(len(indexed.columns)/2)\n",
    "    else:\n",
    "        nrows = 1\n",
    "        \n",
    "    fig, axes = plt.subplots(nrows=nrows, ncols=2, dpi=120, figsize=(8,4))\n",
    "    for i, ax in enumerate(axes.flatten()):\n",
    "        \n",
    "        if type(indexed) == list:\n",
    "            # fig, ax = plt.subplots()\n",
    "            # fig.set_size_inches(8, 8)\n",
    "\n",
    "            ax.plot(indexed[0][indexed[0].columns[i]], color='blue', label = 'Train')\n",
    "            ax.plot(indexed[1][indexed[1].columns[i]], color='red', label = 'Test')\n",
    "            ax.legend(loc = 'best')\n",
    "            # Decorations\n",
    "            ax.set_title(indexed[0].columns[i])\n",
    "        else:    \n",
    "            data = indexed[indexed.columns[i]]\n",
    "            ax.plot(data, color='blue', linewidth=1)\n",
    "            # Decorations\n",
    "            ax.set_title(indexed.columns[i])\n",
    "        ax.xaxis.set_ticks_position('none')\n",
    "        ax.yaxis.set_ticks_position('none')\n",
    "        ax.spines[\"top\"].set_alpha(0)\n",
    "        ax.tick_params(labelsize=6)\n",
    "    \n",
    "    plt.tight_layout()\n",
    "    \n",
    "plot_subplots(indexed)"
   ]
  },
  {
   "cell_type": "code",
   "execution_count": null,
   "id": "e196d242",
   "metadata": {},
   "outputs": [],
   "source": [
    "from statsmodels.tsa.vector_ar.vecm import coint_johansen\n",
    "\n",
    "def cointegration_test(df, alpha=0.05): \n",
    "    \"\"\"Perform Johanson's Cointegration Test and Report Summary\"\"\"\n",
    "    out = coint_johansen(df,-1,5)\n",
    "    d = {'0.90':0, '0.95':1, '0.99':2}\n",
    "    traces = out.lr1\n",
    "    cvts = out.cvt[:, d[str(1-alpha)]]\n",
    "    def adjust(val, length= 6): return str(val).ljust(length)\n",
    "\n",
    "    # Summary\n",
    "    print('Name   ::  Test Stat > C(95%)    =>   Signif  \\n', '--'*20)\n",
    "    for col, trace, cvt in zip(df.columns, traces, cvts):\n",
    "        print(adjust(col), ':: ', adjust(round(trace,2), 9), \">\", adjust(cvt, 8), ' =>  ' , trace > cvt)\n",
    "\n",
    "cointegration_test(indexed)"
   ]
  },
  {
   "cell_type": "markdown",
   "id": "19340113",
   "metadata": {},
   "source": [
    "### Augmented DF Test"
   ]
  },
  {
   "cell_type": "code",
   "execution_count": null,
   "id": "8a65029f",
   "metadata": {},
   "outputs": [],
   "source": [
    "from statsmodels.tsa.stattools import adfuller\n",
    "\n",
    "def run_dicky_fuller(ts):\n",
    "  '''Function to run Augmented Dicky Fuller test on the passed time series and report the statistics from the test'''\n",
    "  print(\"Observations of Dickey-fuller test\")\n",
    "  dftest = adfuller(ts,autolag='AIC')\n",
    "  dfoutput=pd.Series(dftest[0:4],index=['Test Statistic','p-value','#lags used','number of observations used'])\n",
    "\n",
    "  for key,value in dftest[4].items():\n",
    "      dfoutput['critical value (%s)'%key]= value\n",
    "  print(dfoutput)\n",
    "\n",
    "\n",
    "# ADF Test on each column\n",
    "for name, column in indexed.iteritems():\n",
    "    run_dicky_fuller(column)\n",
    "    print('\\n')"
   ]
  },
  {
   "cell_type": "markdown",
   "id": "a0cb8841",
   "metadata": {},
   "source": [
    "The TS is not stationary"
   ]
  },
  {
   "cell_type": "markdown",
   "id": "5779be02",
   "metadata": {},
   "source": [
    "### First order differencing"
   ]
  },
  {
   "cell_type": "code",
   "execution_count": null,
   "id": "b6648c36",
   "metadata": {},
   "outputs": [],
   "source": [
    "df_diff_1 = indexed.diff().dropna()\n",
    "df_diff_1"
   ]
  },
  {
   "cell_type": "code",
   "execution_count": null,
   "id": "6ff1e4b3",
   "metadata": {},
   "outputs": [],
   "source": [
    "# ADF Test on each column\n",
    "for name, column in df_diff_1.iteritems():\n",
    "    run_dicky_fuller(column)\n",
    "    print('\\n')"
   ]
  },
  {
   "cell_type": "markdown",
   "id": "5fb974dd",
   "metadata": {},
   "source": [
    "## Train-test split"
   ]
  },
  {
   "cell_type": "code",
   "execution_count": null,
   "id": "187b498e",
   "metadata": {},
   "outputs": [],
   "source": [
    "percent_90 = int(len(df_diff_1)*0.9)\n",
    "\n",
    "train = df_diff_1.iloc[:percent_90].dropna()\n",
    "test = df_diff_1.iloc[percent_90:]\n",
    "\n",
    "plot_subplots([train, test])"
   ]
  },
  {
   "cell_type": "markdown",
   "id": "0aba88d2",
   "metadata": {},
   "source": [
    "### Finding the best value of p for VAR(p)\n",
    "\n",
    "Using AIC, BIC, FPE, HQIC"
   ]
  },
  {
   "cell_type": "code",
   "execution_count": null,
   "id": "24e61dbb",
   "metadata": {},
   "outputs": [],
   "source": [
    "from statsmodels.tsa.vector_ar.var_model import VAR\n",
    "\n",
    "model = VAR(train)\n",
    "# for i in range(1,10):\n",
    "#     result = model.fit(i)\n",
    "#     print('Lag Order =', i)\n",
    "#     print('AIC : ', result.aic)\n",
    "#     print('BIC : ', result.bic)\n",
    "#     print('FPE : ', result.fpe)\n",
    "#     print('HQIC: ', result.hqic, '\\n')\n",
    "\n",
    "x = model.select_order(maxlags=25)\n",
    "x.summary()"
   ]
  },
  {
   "cell_type": "markdown",
   "id": "37bf8484",
   "metadata": {},
   "source": [
    "At p = 13 the value of BIC and HQIC is at it local minimum"
   ]
  },
  {
   "cell_type": "code",
   "execution_count": null,
   "id": "eab12296",
   "metadata": {},
   "outputs": [],
   "source": [
    "model_fitted = model.fit(13)\n",
    "model_fitted.summary()"
   ]
  },
  {
   "cell_type": "code",
   "execution_count": null,
   "id": "3eb4a52c",
   "metadata": {},
   "outputs": [],
   "source": [
    "forecast_input = test.values\n",
    "\n",
    "\n",
    "forecast_input\n",
    "# Forecast\n",
    "fc = model_fitted.forecast(y=forecast_input, steps=len(forecast_input))\n",
    "\n",
    "\n",
    "df_forecast = pd.DataFrame(fc, index=test.index, columns=test.columns + '_forecast')\n",
    "\n",
    "forecasted_conf = df_forecast.join(test)[['Confirmed', 'Confirmed_forecast']]\n",
    "forecasted_vacc = df_forecast.join(test)[['Total_Doses', 'Total_Doses_forecast']]"
   ]
  },
  {
   "cell_type": "code",
   "execution_count": null,
   "id": "d05561d1",
   "metadata": {},
   "outputs": [],
   "source": [
    "def plot_fore_test(test, fore, title):\n",
    "    \n",
    "    fig, ax = plt.subplots()\n",
    "    fig.set_size_inches(7, 7)\n",
    "\n",
    "    ax.plot(test, color='blue', label='Test')\n",
    "    ax.plot(fore, color='red', label='Forecast')\n",
    "    ax.legend(loc='best')\n",
    "    plt.title(title)\n",
    "    plt.show()\n"
   ]
  },
  {
   "cell_type": "code",
   "execution_count": null,
   "id": "1b735a7c",
   "metadata": {},
   "outputs": [],
   "source": [
    "plot_fore_test(forecasted_conf[['Confirmed']], forecasted_conf[['Confirmed_forecast']], title='Daily cases')"
   ]
  },
  {
   "cell_type": "code",
   "execution_count": null,
   "id": "719cf78b",
   "metadata": {},
   "outputs": [],
   "source": [
    "plot_fore_test(forecasted_vacc[['Total_Doses']], forecasted_vacc[['Total_Doses_forecast']], title='Daily vaccinations')"
   ]
  },
  {
   "cell_type": "markdown",
   "id": "84077534",
   "metadata": {},
   "source": [
    "## Un-differencing"
   ]
  },
  {
   "cell_type": "code",
   "execution_count": null,
   "id": "ea677415",
   "metadata": {},
   "outputs": [],
   "source": [
    "def invert_transformation(diffed, original):\n",
    "    \"\"\"Revert back the differencing to get the forecast to original scale.\"\"\"\n",
    "    df_copy = original.copy()\n",
    "    \n",
    "    columns = diffed.columns\n",
    "    \n",
    "    for col in columns:\n",
    "        # Add corresponding diff column\n",
    "        df_copy[f'undiff_{col}'] = original[col]\n",
    "        df_copy[f'undiff_{col}'][1:] = diffed[col]\n",
    "        df_copy[f'undiff_{col}'] = df_copy[f'undiff_{col}'].cumsum()\n",
    "    \n",
    "        df_copy.drop(col, axis=1, inplace=True)\n",
    "        \n",
    "    return df_copy"
   ]
  },
  {
   "cell_type": "code",
   "execution_count": null,
   "id": "3686a36e",
   "metadata": {},
   "outputs": [],
   "source": [
    "# Check if un-diffed df_diff_1 is the same as original\n",
    "\n",
    "inverted = invert_transformation(df_diff_1, indexed)\n",
    "(inverted[['undiff_Confirmed']] - indexed[['Confirmed']]).isna().sum()"
   ]
  },
  {
   "cell_type": "code",
   "execution_count": null,
   "id": "6494fd2e",
   "metadata": {},
   "outputs": [],
   "source": [
    "# Un-diff the test dataset\n",
    "\n",
    "start_index = indexed.index.get_loc(test.index[0])-1\n",
    "test_original = invert_transformation(test, indexed.iloc[start_index:])\n",
    "\n",
    "test_original"
   ]
  },
  {
   "cell_type": "code",
   "execution_count": null,
   "id": "d8e2d1a5",
   "metadata": {},
   "outputs": [],
   "source": [
    "renamed_df = df_forecast.rename(columns={'Confirmed_forecast': 'Confirmed', 'Total_Doses_forecast': 'Total_Doses'}, inplace=False)\n",
    "\n",
    "\n",
    "start_index = indexed.index.get_loc(renamed_df.index[0])-1\n",
    "fore_original = invert_transformation(renamed_df, indexed.iloc[start_index:])\n",
    "\n",
    "fore_original"
   ]
  },
  {
   "cell_type": "markdown",
   "id": "e0fc231a",
   "metadata": {},
   "source": [
    "## Plot the forecasts"
   ]
  },
  {
   "cell_type": "code",
   "execution_count": null,
   "id": "a1a57534",
   "metadata": {},
   "outputs": [],
   "source": [
    "plot_fore_test(test_original[['undiff_Confirmed']], fore_original[['undiff_Confirmed']], title='Daily cases')"
   ]
  },
  {
   "cell_type": "code",
   "execution_count": null,
   "id": "d0cb64fa",
   "metadata": {},
   "outputs": [],
   "source": [
    "plot_fore_test(test_original[['undiff_Total_Doses']], fore_original[['undiff_Total_Doses']], title='Daily vaccinations')"
   ]
  },
  {
   "cell_type": "markdown",
   "id": "8ef6c64c",
   "metadata": {},
   "source": [
    "### MAPE"
   ]
  },
  {
   "cell_type": "code",
   "execution_count": null,
   "id": "1a6ac45c",
   "metadata": {},
   "outputs": [],
   "source": [
    "def MAPE(Y_actual,Y_Predicted, title):\n",
    "    mask = Y_actual != 0\n",
    "    \n",
    "    mape = np.mean(np.abs((Y_actual - Y_Predicted)/Y_actual)[mask])*100\n",
    "    print(f\"MAPE of {title} is {mape[mape.index[0]]}%\")\n",
    "    return mape[mape.index[0]]\n",
    "\n",
    "\n",
    "mape_vacc = MAPE(test_original[['undiff_Total_Doses']], fore_original[['undiff_Total_Doses']], title=\"Daily vaccinations\")\n",
    "mape_cases = MAPE(test_original[['undiff_Confirmed']], fore_original[['undiff_Confirmed']], title=\"Daily cases\")"
   ]
  },
  {
   "cell_type": "markdown",
   "id": "fbd578fc",
   "metadata": {},
   "source": [
    "Clearly, a VAR model is not good enough to make predictions"
   ]
  },
  {
   "cell_type": "code",
   "execution_count": null,
   "id": "d0522619",
   "metadata": {},
   "outputs": [],
   "source": []
  }
 ],
 "metadata": {
  "kernelspec": {
   "display_name": "Python 3",
   "language": "python",
   "name": "python3"
  },
  "language_info": {
   "codemirror_mode": {
    "name": "ipython",
    "version": 3
   },
   "file_extension": ".py",
   "mimetype": "text/x-python",
   "name": "python",
   "nbconvert_exporter": "python",
   "pygments_lexer": "ipython3",
   "version": "3.7.3"
  }
 },
 "nbformat": 4,
 "nbformat_minor": 5
}
