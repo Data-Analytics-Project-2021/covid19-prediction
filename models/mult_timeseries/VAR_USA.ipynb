{
 "cells": [
  {
   "cell_type": "markdown",
   "id": "b5b90847",
   "metadata": {},
   "source": [
    "# VAR USA\n",
    "\n",
    "Vector auto-regressive models"
   ]
  },
  {
   "cell_type": "markdown",
   "id": "7c9b440f",
   "metadata": {},
   "source": [
    "1. [Imports](#imports)\n",
    "2. [Ingestion](#ingestion)\n",
    "3. [Plotting](#plotting)\n",
    "4. [Statistical tests](#stattests1)\n",
    "5. [Differencing](#diff)\n",
    "\n",
    "\n",
    "### VAR with First-Order Differencing\n",
    "1. [Train test split - first order differencing](#traintest1)\n",
    "2. [Find order p of VAR](#var_p_1)\n",
    "3. [VAR(8) Model](#var8_1)\n",
    "4. [Plots of first differenced predictions](#diff1_plot)\n",
    "5. [Undifferencing and predicting](#undiff_1)\n",
    "6. [MAPE](#mape1)\n",
    "7. [Rolling forecasts](#roll1)\n",
    "\n",
    "\n",
    "### VARMA\n",
    "1. [VARMA](#varma)\n",
    "2. [Rolling forecasts](#roll2)"
   ]
  },
  {
   "cell_type": "markdown",
   "id": "45c95c8b",
   "metadata": {},
   "source": [
    "<a name=imports></a>\n",
    "## Imports"
   ]
  },
  {
   "cell_type": "code",
   "execution_count": null,
   "id": "44aa273d",
   "metadata": {},
   "outputs": [],
   "source": [
    "import pandas as pd\n",
    "import numpy as np\n",
    "import matplotlib.pyplot as plt"
   ]
  },
  {
   "cell_type": "markdown",
   "id": "6063c7e2",
   "metadata": {},
   "source": [
    "<a name=ingestion></a>\n",
    "## Ingestion"
   ]
  },
  {
   "cell_type": "code",
   "execution_count": null,
   "id": "3b591df6",
   "metadata": {},
   "outputs": [],
   "source": [
    "daily_cases_usa = pd.read_csv('../../cleaned_datasets/usa/daily_cases_usa.csv', parse_dates=['Date'])\n",
    "daily_vacc_usa = pd.read_csv('../../cleaned_datasets/usa/daily_vacc_usa.csv', parse_dates=['date'])"
   ]
  },
  {
   "cell_type": "code",
   "execution_count": null,
   "id": "b2533283",
   "metadata": {},
   "outputs": [],
   "source": [
    "daily_cases_usa.dtypes"
   ]
  },
  {
   "cell_type": "code",
   "execution_count": null,
   "id": "cc9223bc",
   "metadata": {},
   "outputs": [],
   "source": [
    "daily_vacc_usa.dtypes"
   ]
  },
  {
   "cell_type": "code",
   "execution_count": null,
   "id": "6f875fd2",
   "metadata": {},
   "outputs": [],
   "source": [
    "daily_cases_usa"
   ]
  },
  {
   "cell_type": "code",
   "execution_count": null,
   "id": "c39bc801",
   "metadata": {},
   "outputs": [],
   "source": [
    "daily_vacc_usa"
   ]
  },
  {
   "cell_type": "code",
   "execution_count": null,
   "id": "b6f0e787",
   "metadata": {},
   "outputs": [],
   "source": [
    "cases_vacc = daily_cases_usa.merge(daily_vacc_usa, how='outer', left_on='Date', right_on='date')\n",
    "cases_vacc = cases_vacc[[\"Date\", \"Confirmed\", \"Total_Doses\"]]\n",
    "cases_vacc"
   ]
  },
  {
   "cell_type": "code",
   "execution_count": null,
   "id": "b887ce10",
   "metadata": {},
   "outputs": [],
   "source": [
    "cases_vacc.fillna(0, inplace=True)\n",
    "indexed = cases_vacc.set_index('Date')\n",
    "indexed"
   ]
  },
  {
   "cell_type": "markdown",
   "id": "05d915dd",
   "metadata": {},
   "source": [
    "<a name=plotting></a>\n",
    "## Plot initial data"
   ]
  },
  {
   "cell_type": "code",
   "execution_count": null,
   "id": "a058fc40",
   "metadata": {},
   "outputs": [],
   "source": [
    "def plot_subplots(indexed):\n",
    "    \n",
    "    if type(indexed) == pd.DataFrame:\n",
    "        nrows = int(len(indexed.columns)/2)\n",
    "    else:\n",
    "        nrows = 1\n",
    "        \n",
    "    fig, axes = plt.subplots(nrows=nrows, ncols=2, dpi=120, figsize=(8,4))\n",
    "    for i, ax in enumerate(axes.flatten()):\n",
    "        \n",
    "        if type(indexed) == list:\n",
    "            # fig, ax = plt.subplots()\n",
    "            # fig.set_size_inches(8, 8)\n",
    "\n",
    "            ax.plot(indexed[0][indexed[0].columns[i]], color='blue', label = 'Train')\n",
    "            ax.plot(indexed[1][indexed[1].columns[i]], color='red', label = 'Test')\n",
    "            ax.legend(loc = 'best')\n",
    "            # Decorations\n",
    "            ax.set_title(indexed[0].columns[i])\n",
    "        else:    \n",
    "            data = indexed[indexed.columns[i]]\n",
    "            ax.plot(data, color='blue', linewidth=1)\n",
    "            # Decorations\n",
    "            ax.set_title(indexed.columns[i])\n",
    "        ax.xaxis.set_ticks_position('none')\n",
    "        ax.yaxis.set_ticks_position('none')\n",
    "        ax.spines[\"top\"].set_alpha(0)\n",
    "        ax.tick_params(labelsize=6)\n",
    "    \n",
    "    plt.tight_layout()\n",
    "    \n",
    "plot_subplots(indexed)"
   ]
  },
  {
   "cell_type": "markdown",
   "id": "beb3eb47",
   "metadata": {},
   "source": [
    "<a name=stattests1></a>\n",
    "## Statistical tests"
   ]
  },
  {
   "cell_type": "markdown",
   "id": "d301de14",
   "metadata": {},
   "source": [
    "### Johansen co-integration test"
   ]
  },
  {
   "cell_type": "code",
   "execution_count": null,
   "id": "386f7407",
   "metadata": {},
   "outputs": [],
   "source": [
    "from statsmodels.tsa.vector_ar.vecm import coint_johansen\n",
    "\n",
    "def cointegration_test(df, alpha=0.05): \n",
    "    \"\"\"Perform Johanson's Cointegration Test and Report Summary\"\"\"\n",
    "    out = coint_johansen(df,-1,5)\n",
    "    d = {'0.90':0, '0.95':1, '0.99':2}\n",
    "    traces = out.lr1\n",
    "    cvts = out.cvt[:, d[str(1-alpha)]]\n",
    "    def adjust(val, length= 6): return str(val).ljust(length)\n",
    "\n",
    "    # Summary\n",
    "    print('Name   ::  Test Stat > C(95%)    =>   Signif  \\n', '--'*20)\n",
    "    for col, trace, cvt in zip(df.columns, traces, cvts):\n",
    "        print(adjust(col), ':: ', adjust(round(trace,2), 9), \">\", adjust(cvt, 8), ' =>  ' , trace > cvt)\n",
    "\n",
    "cointegration_test(indexed)"
   ]
  },
  {
   "cell_type": "markdown",
   "id": "08e31686",
   "metadata": {},
   "source": [
    "### Augmented DF Test"
   ]
  },
  {
   "cell_type": "code",
   "execution_count": null,
   "id": "b08bc543",
   "metadata": {},
   "outputs": [],
   "source": [
    "from statsmodels.tsa.stattools import adfuller\n",
    "\n",
    "def run_dicky_fuller(ts):\n",
    "  '''Function to run Augmented Dicky Fuller test on the passed time series and report the statistics from the test'''\n",
    "  print(\"Observations of Dickey-fuller test\")\n",
    "  dftest = adfuller(ts,autolag='AIC')\n",
    "  dfoutput=pd.Series(dftest[0:4],index=['Test Statistic','p-value','#lags used','number of observations used'])\n",
    "\n",
    "  for key,value in dftest[4].items():\n",
    "      dfoutput['critical value (%s)'%key]= value\n",
    "  print(dfoutput)\n",
    "\n",
    "\n",
    "# ADF Test on each column\n",
    "for name, column in indexed.iteritems():\n",
    "    run_dicky_fuller(column)\n",
    "    print('\\n')"
   ]
  },
  {
   "cell_type": "markdown",
   "id": "bc915779",
   "metadata": {},
   "source": [
    "The TS is not stationary"
   ]
  },
  {
   "cell_type": "markdown",
   "id": "c6dd69f3",
   "metadata": {},
   "source": [
    "<a name=diff></a>\n",
    "## Differencing"
   ]
  },
  {
   "cell_type": "markdown",
   "id": "13b0850d",
   "metadata": {},
   "source": [
    "## First order differencing"
   ]
  },
  {
   "cell_type": "code",
   "execution_count": null,
   "id": "a126af6d",
   "metadata": {},
   "outputs": [],
   "source": [
    "df_diff_1 = indexed.diff().dropna()\n",
    "df_diff_1"
   ]
  },
  {
   "cell_type": "code",
   "execution_count": null,
   "id": "d3b44a71",
   "metadata": {},
   "outputs": [],
   "source": [
    "# ADF Test on each column\n",
    "for name, column in df_diff_1.iteritems():\n",
    "    run_dicky_fuller(column)\n",
    "    print('\\n')"
   ]
  },
  {
   "cell_type": "code",
   "execution_count": null,
   "id": "08f0968e",
   "metadata": {},
   "outputs": [],
   "source": [
    "plot_subplots(df_diff_1)"
   ]
  },
  {
   "cell_type": "markdown",
   "id": "4a3968a3",
   "metadata": {},
   "source": [
    "Even though the data seems to be stationary, there are 2 small sinusoids corresponding with the two waves of cases. Therefore, 2nd order differencing might be required."
   ]
  },
  {
   "cell_type": "markdown",
   "id": "0fb33795",
   "metadata": {},
   "source": [
    "<a name=traintest1></a>\n",
    "## Train-test split"
   ]
  },
  {
   "cell_type": "markdown",
   "id": "b0e2a178",
   "metadata": {},
   "source": [
    "### Train-test split - first order differenced"
   ]
  },
  {
   "cell_type": "code",
   "execution_count": null,
   "id": "1d8c4a4b",
   "metadata": {},
   "outputs": [],
   "source": [
    "percent_90 = int(len(df_diff_1)*0.9)\n",
    "\n",
    "train = df_diff_1.iloc[:percent_90].dropna()\n",
    "test = df_diff_1.iloc[percent_90:]\n",
    "\n",
    "plot_subplots([train, test])"
   ]
  },
  {
   "cell_type": "markdown",
   "id": "3b6df644",
   "metadata": {},
   "source": [
    "<a name=var_p_1></a>\n",
    "### Finding the best value of p for VAR(p)\n",
    "\n",
    "Using AIC, BIC, FPE, HQIC"
   ]
  },
  {
   "cell_type": "code",
   "execution_count": null,
   "id": "03c47134",
   "metadata": {},
   "outputs": [],
   "source": [
    "from statsmodels.tsa.vector_ar.var_model import VAR\n",
    "\n",
    "model = VAR(train)\n",
    "\n",
    "x = model.select_order(maxlags=25)\n",
    "x.summary()"
   ]
  },
  {
   "cell_type": "markdown",
   "id": "76e856ca",
   "metadata": {},
   "source": [
    "At p = 8 the value of BIC and HQIC are at their local minima"
   ]
  },
  {
   "cell_type": "markdown",
   "id": "ebbddc6d",
   "metadata": {},
   "source": [
    "<a name=var8_1></a>\n",
    "### VAR(8) Model"
   ]
  },
  {
   "cell_type": "code",
   "execution_count": null,
   "id": "ff1083b8",
   "metadata": {},
   "outputs": [],
   "source": [
    "model_fitted = model.fit(8)\n",
    "model_fitted.summary()"
   ]
  },
  {
   "cell_type": "code",
   "execution_count": null,
   "id": "a0dd25c2",
   "metadata": {},
   "outputs": [],
   "source": [
    "forecast_input = test.values\n",
    "\n",
    "\n",
    "forecast_input\n",
    "# Forecast\n",
    "fc = model_fitted.forecast(y=forecast_input, steps=len(forecast_input))\n",
    "\n",
    "\n",
    "df_forecast = pd.DataFrame(fc, index=test.index, columns=test.columns + '_forecast')\n",
    "\n",
    "forecasted_conf = df_forecast.join(test)[['Confirmed', 'Confirmed_forecast']]\n",
    "forecasted_vacc = df_forecast.join(test)[['Total_Doses', 'Total_Doses_forecast']]"
   ]
  },
  {
   "cell_type": "markdown",
   "id": "5e4f28d9",
   "metadata": {},
   "source": [
    "<a name=diff1_plot></a>\n",
    "### Plot Predictions on Diffed"
   ]
  },
  {
   "cell_type": "code",
   "execution_count": null,
   "id": "af6b5f4c",
   "metadata": {},
   "outputs": [],
   "source": [
    "def plot_fore_test(test, fore, title):\n",
    "    \n",
    "    fig, ax = plt.subplots()\n",
    "    fig.set_size_inches(7, 7)\n",
    "\n",
    "    ax.plot(test, color='blue', label='Test')\n",
    "    ax.plot(fore, color='red', label='Forecast')\n",
    "    ax.legend(loc='best')\n",
    "    plt.title(title)\n",
    "    plt.show()\n"
   ]
  },
  {
   "cell_type": "code",
   "execution_count": null,
   "id": "07a8a9d2",
   "metadata": {},
   "outputs": [],
   "source": [
    "plot_fore_test(forecasted_conf[['Confirmed']], forecasted_conf[['Confirmed_forecast']], title='Daily cases')"
   ]
  },
  {
   "cell_type": "code",
   "execution_count": null,
   "id": "15bdc89f",
   "metadata": {},
   "outputs": [],
   "source": [
    "plot_fore_test(forecasted_vacc[['Total_Doses']], forecasted_vacc[['Total_Doses_forecast']], title='Daily vaccinations')"
   ]
  },
  {
   "cell_type": "markdown",
   "id": "750185be",
   "metadata": {},
   "source": [
    "<a name=undiff_1></a>\n",
    "\n",
    "## Un-differencing and Plotting"
   ]
  },
  {
   "cell_type": "code",
   "execution_count": null,
   "id": "99e8e0bb",
   "metadata": {},
   "outputs": [],
   "source": [
    "def invert_transformation(diffed, original):\n",
    "    \"\"\"Revert back the differencing to get the forecast to original scale.\"\"\"\n",
    "    df_copy = original.copy()\n",
    "    \n",
    "    columns = diffed.columns\n",
    "    \n",
    "    for col in columns:\n",
    "        # Add corresponding diff column\n",
    "        df_copy[f'undiff_{col}'] = original[col]\n",
    "        df_copy[f'undiff_{col}'][1:] = diffed[col]\n",
    "        df_copy[f'undiff_{col}'] = df_copy[f'undiff_{col}'].cumsum()\n",
    "    \n",
    "        df_copy.drop(col, axis=1, inplace=True)\n",
    "        \n",
    "    return df_copy"
   ]
  },
  {
   "cell_type": "code",
   "execution_count": null,
   "id": "b70b6f80",
   "metadata": {},
   "outputs": [],
   "source": [
    "# Check if un-diffed df_diff_1 is the same as original\n",
    "\n",
    "#inverted = invert_transformation(df_diff_1, indexed)\n",
    "#(inverted[['undiff_Confirmed']] - indexed[['Confirmed']]).isna().sum()"
   ]
  },
  {
   "cell_type": "code",
   "execution_count": null,
   "id": "cd37c0c0",
   "metadata": {},
   "outputs": [],
   "source": [
    "# Un-diff the test dataset\n",
    "\n",
    "start_index = indexed.index.get_loc(test.index[0])-1\n",
    "test_original = invert_transformation(test, indexed.iloc[start_index:])\n",
    "\n",
    "#test_original"
   ]
  },
  {
   "cell_type": "code",
   "execution_count": null,
   "id": "d10aaa47",
   "metadata": {},
   "outputs": [],
   "source": [
    "renamed_df = df_forecast.rename(columns={'Confirmed_forecast': 'Confirmed', 'Total_Doses_forecast': 'Total_Doses'}, inplace=False)\n",
    "\n",
    "\n",
    "start_index = indexed.index.get_loc(renamed_df.index[0])-1\n",
    "fore_original = invert_transformation(renamed_df, indexed.iloc[start_index:])\n",
    "\n",
    "#fore_original"
   ]
  },
  {
   "cell_type": "code",
   "execution_count": null,
   "id": "f69ffbbf",
   "metadata": {},
   "outputs": [],
   "source": [
    "end_index = indexed.index.get_loc(fore_original.index[0])\n",
    "train_original = indexed[:end_index]\n",
    "plot_subplots([train_original, fore_original])"
   ]
  },
  {
   "cell_type": "markdown",
   "id": "8242ee73",
   "metadata": {},
   "source": [
    "### Plot the forecasts"
   ]
  },
  {
   "cell_type": "code",
   "execution_count": null,
   "id": "2193a662",
   "metadata": {},
   "outputs": [],
   "source": [
    "plot_fore_test(test_original[['undiff_Confirmed']], fore_original[['undiff_Confirmed']], title='Daily cases')"
   ]
  },
  {
   "cell_type": "code",
   "execution_count": null,
   "id": "06e9b98d",
   "metadata": {},
   "outputs": [],
   "source": [
    "plot_fore_test(test_original[['undiff_Total_Doses']], fore_original[['undiff_Total_Doses']], title='Daily vaccinations')"
   ]
  },
  {
   "cell_type": "code",
   "execution_count": null,
   "id": "1ccac4cb",
   "metadata": {},
   "outputs": [],
   "source": [
    "def plot_train_test_fore(train, test, fore, title='Forecast vs Actuals', ylabel='', xlabel='Date', figpath=None):\n",
    "    plt.figure(figsize=(10,5), dpi=100)\n",
    "    plt.plot(train, label='training')\n",
    "    plt.plot(test, label='actual')\n",
    "    plt.plot(fore, label='forecast')\n",
    "    fig = plt.gcf()\n",
    "    \n",
    "    plt.xlabel=xlabel\n",
    "    plt.ylabel=ylabel\n",
    "\n",
    "    plt.title(title)\n",
    "    plt.legend(loc='upper left', fontsize=8)\n",
    "    plt.show()\n",
    "    \n",
    "    \n",
    "    if figpath is not None:\n",
    "        fig.savefig(figpath, format='eps', bbox_inches='tight')"
   ]
  },
  {
   "cell_type": "code",
   "execution_count": null,
   "id": "b618c9c3",
   "metadata": {},
   "outputs": [],
   "source": [
    "# Plot of daily cases\n",
    "plot_train_test_fore(train_original.Confirmed, test_original[['undiff_Confirmed']], fore_original[['undiff_Confirmed']], title='Daily cases', figpath='../../figures/v_ar/usa_cases.eps')\n",
    "\n"
   ]
  },
  {
   "cell_type": "code",
   "execution_count": null,
   "id": "3fb7d292",
   "metadata": {},
   "outputs": [],
   "source": [
    "# Plot of daily cases\n",
    "plot_train_test_fore(train_original.Total_Doses, test_original[['undiff_Total_Doses']], fore_original[['undiff_Total_Doses']], title='Daily doses', figpath='../../figures/v_ar/usa_vacc.eps')\n",
    "\n",
    "\n"
   ]
  },
  {
   "cell_type": "markdown",
   "id": "f7b800c7",
   "metadata": {},
   "source": [
    "<a name=mape1></a>\n",
    "### MAPE"
   ]
  },
  {
   "cell_type": "code",
   "execution_count": null,
   "id": "85648eb9",
   "metadata": {},
   "outputs": [],
   "source": [
    "def MAPE(Y_actual,Y_Predicted, title):\n",
    "    mask = Y_actual != 0\n",
    "    \n",
    "    mape = np.mean(np.abs((Y_actual - Y_Predicted)/Y_actual)[mask])*100\n",
    "    print(f\"MAPE of {title} is {mape[mape.index[0]]}%\")\n",
    "    return mape[mape.index[0]]\n",
    "\n",
    "\n",
    "mape_vacc = MAPE(test_original[['undiff_Total_Doses']], fore_original[['undiff_Total_Doses']], title=\"Daily vaccinations\")\n",
    "mape_cases = MAPE(test_original[['undiff_Confirmed']], fore_original[['undiff_Confirmed']], title=\"Daily cases\")"
   ]
  },
  {
   "cell_type": "code",
   "execution_count": null,
   "id": "4af6edbf",
   "metadata": {},
   "outputs": [],
   "source": [
    "from sklearn.metrics import mean_absolute_error\n",
    "\n",
    "\n",
    "mean_absolute_error(test_original[['undiff_Confirmed']], fore_original[['undiff_Confirmed']])"
   ]
  },
  {
   "cell_type": "markdown",
   "id": "1834a19e",
   "metadata": {},
   "source": [
    "Clearly, a VAR model is not good enough to make predictions"
   ]
  },
  {
   "cell_type": "markdown",
   "id": "44092226",
   "metadata": {},
   "source": [
    "<a name=varma></a>\n",
    "\n",
    "## VARMA"
   ]
  },
  {
   "cell_type": "code",
   "execution_count": null,
   "id": "9aa31b95",
   "metadata": {},
   "outputs": [],
   "source": [
    "from statsmodels.tsa.statespace.varmax import VARMAX\n",
    "from sklearn.metrics import mean_squared_error\n",
    "\n",
    "# evaluate an VARMA model for a given order (p,d,q)\n",
    "def evaluate_varma_model(train, test, varma_order):\n",
    "    \n",
    "    model = VARMAX(train, order=varma_order)\n",
    "    model_fit = model.fit()\n",
    "    yhat = model_fit.forecast(len(test))\n",
    "    error = mean_squared_error(test, yhat)\n",
    "    return error"
   ]
  },
  {
   "cell_type": "code",
   "execution_count": null,
   "id": "5c115cc8",
   "metadata": {},
   "outputs": [],
   "source": [
    "# Grid search\n",
    "\n",
    "\n",
    "# evaluate combinations of p and q values for an VARMA model\n",
    "def evaluate_models(train, test, p_values, q_values):\n",
    "    #dataset = dataset.astype('float32')\n",
    "    best_score, best_cfg = float(\"inf\"), None\n",
    "    \n",
    "    for p in p_values:\n",
    "        for q in q_values:\n",
    "            order = (p,q)\n",
    "            try:\n",
    "                mse = evaluate_varma_model(train, test, order)\n",
    "                if mse < best_score:\n",
    "                    best_score, best_cfg = mse, order\n",
    "                print('VARMA%s MSE=%.3f' % (order,mse))\n",
    "            except:\n",
    "                continue\n",
    "    print()\n",
    "    print('Best VARMA%s MSE=%.3f' % (best_cfg, best_score))"
   ]
  },
  {
   "cell_type": "code",
   "execution_count": null,
   "id": "58bf7ff9",
   "metadata": {},
   "outputs": [],
   "source": [
    "import warnings\n",
    "warnings.filterwarnings(\"ignore\")\n",
    "\n",
    "p_values = range(1, 3)\n",
    "q_values = range(1, 3)\n",
    "\n",
    "evaluate_models(train, test, p_values, q_values)"
   ]
  },
  {
   "cell_type": "code",
   "execution_count": null,
   "id": "301fef93",
   "metadata": {},
   "outputs": [],
   "source": [
    "from statsmodels.tsa.statespace.varmax import VARMAX\n",
    "\n",
    "model = VARMAX(train, order=(1,1))\n",
    "model_fit = model.fit()\n",
    "yhat = model_fit.forecast(len(test))\n",
    "#yhat"
   ]
  },
  {
   "cell_type": "code",
   "execution_count": null,
   "id": "b2574373",
   "metadata": {},
   "outputs": [],
   "source": [
    "plot_fore_test(test[['Confirmed']], yhat[['Confirmed']], title='Diffed Daily cases')"
   ]
  },
  {
   "cell_type": "code",
   "execution_count": null,
   "id": "76cef9f2",
   "metadata": {},
   "outputs": [],
   "source": [
    "plot_fore_test(test[['Total_Doses']], yhat[['Total_Doses']], title='Diffed Daily Doses')"
   ]
  },
  {
   "cell_type": "code",
   "execution_count": null,
   "id": "68ffb017",
   "metadata": {},
   "outputs": [],
   "source": [
    "\n",
    "# Un-diff the test dataset\n",
    "\n",
    "fore_original_3 = invert_transformation(yhat, indexed.iloc[start_index:])\n",
    "fore_original_3"
   ]
  },
  {
   "cell_type": "code",
   "execution_count": null,
   "id": "8ba003ff",
   "metadata": {},
   "outputs": [],
   "source": [
    "plot_fore_test(test_original[['undiff_Confirmed']], fore_original_3[['undiff_Confirmed']], title='Daily cases')"
   ]
  },
  {
   "cell_type": "code",
   "execution_count": null,
   "id": "863dc428",
   "metadata": {},
   "outputs": [],
   "source": [
    "plot_fore_test(test_original[['undiff_Total_Doses']], fore_original_3[['undiff_Total_Doses']], title='Daily Doses')"
   ]
  },
  {
   "cell_type": "code",
   "execution_count": null,
   "id": "dff69a41",
   "metadata": {},
   "outputs": [],
   "source": [
    "plot_subplots([train_original, fore_original_3])"
   ]
  },
  {
   "cell_type": "markdown",
   "id": "29d88ce2",
   "metadata": {},
   "source": [
    "<a name=roll2></a>\n",
    "\n",
    "## Rolling Forecasts"
   ]
  },
  {
   "cell_type": "code",
   "execution_count": null,
   "id": "8fde7d61",
   "metadata": {},
   "outputs": [],
   "source": [
    "history = train.copy()\n",
    "predicted = test.copy()\n",
    "\n",
    "for t in range(len(test)):\n",
    "    model = VARMAX(history, order=(1,2))\n",
    "    model_fit = model.fit()\n",
    "    yhat = model_fit.forecast()\n",
    "    \n",
    "    \n",
    "    newindex = history.index[-1] + pd.to_timedelta(1, 'D')\n",
    "    \n",
    "    predicted.loc[newindex]['Confirmed'] = yhat['Confirmed']\n",
    "    predicted.loc[newindex]['Total_Doses'] = yhat['Total_Doses']\n",
    "    \n",
    "    history = history.append(test.iloc[t])\n",
    "#     history[newindex]['Total_Doses'] = test.iloc[t]['Total_Doses']\n",
    "    \n",
    "    print('predicted =', yhat.values, ' ; actual =', test.iloc[t].values)"
   ]
  },
  {
   "cell_type": "code",
   "execution_count": null,
   "id": "55e7f5b2",
   "metadata": {},
   "outputs": [],
   "source": [
    "fore_original_4 = invert_transformation(predicted, indexed.iloc[start_index:])"
   ]
  },
  {
   "cell_type": "code",
   "execution_count": null,
   "id": "9b3e616d",
   "metadata": {},
   "outputs": [],
   "source": [
    "plot_train_test_fore(train_original.Confirmed, test_original[['undiff_Confirmed']], fore_original_4[['undiff_Confirmed']], title='Daily cases', figpath='../../figures/varma/usa_cases.eps')\n",
    "\n"
   ]
  },
  {
   "cell_type": "code",
   "execution_count": null,
   "id": "53392511",
   "metadata": {},
   "outputs": [],
   "source": [
    "mape_cases = MAPE(test_original[['undiff_Confirmed']], fore_original_4[['undiff_Confirmed']], title=\"Daily cases\")\n"
   ]
  },
  {
   "cell_type": "code",
   "execution_count": null,
   "id": "49153268",
   "metadata": {},
   "outputs": [],
   "source": [
    "mean_absolute_error(test_original[['undiff_Confirmed']], fore_original_4[['undiff_Confirmed']])"
   ]
  },
  {
   "cell_type": "code",
   "execution_count": null,
   "id": "2566f23f",
   "metadata": {},
   "outputs": [],
   "source": []
  }
 ],
 "metadata": {
  "kernelspec": {
   "display_name": "Python 3",
   "language": "python",
   "name": "python3"
  },
  "language_info": {
   "codemirror_mode": {
    "name": "ipython",
    "version": 3
   },
   "file_extension": ".py",
   "mimetype": "text/x-python",
   "name": "python",
   "nbconvert_exporter": "python",
   "pygments_lexer": "ipython3",
   "version": "3.7.3"
  }
 },
 "nbformat": 4,
 "nbformat_minor": 5
}
