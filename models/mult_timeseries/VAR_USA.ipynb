{
 "cells": [
  {
   "cell_type": "markdown",
   "id": "b5e6cb0d",
   "metadata": {},
   "source": [
    "# VAR USA\n",
    "\n",
    "Vector auto-regressive models"
   ]
  },
  {
   "cell_type": "markdown",
   "id": "c60dd7c7",
   "metadata": {},
   "source": [
    "1. [Imports](#imports)\n",
    "2. [Ingestion](#ingestion)\n",
    "3. [Plotting](#plotting)\n",
    "4. [Statistical tests](#stattests1)\n",
    "5. [Differencing](#diff)\n",
    "\n",
    "\n",
    "### VAR with First-Order Differencing\n",
    "1. [Train test split - first order differencing](#traintest1)\n",
    "2. [Find order p of VAR](#var_p_1)\n",
    "3. [VAR(8) Model](#var8_1)\n",
    "4. [Plots of first differenced predictions](#diff1_plot)\n",
    "5. [Undifferencing and predicting](#undiff_1)\n",
    "6. [MAPE](#mape1)\n",
    "7. [Rolling forecasts](#roll1)\n",
    "\n",
    "\n",
    "### VARMA\n",
    "1. [VARMA](#varma)\n",
    "2. [Rolling forecasts](#roll2)"
   ]
  },
  {
   "cell_type": "markdown",
   "id": "690979a0",
   "metadata": {},
   "source": [
    "<a name=setup></a>\n",
    "\n",
    "# Setup"
   ]
  },
  {
   "cell_type": "markdown",
   "id": "6f81cdab",
   "metadata": {},
   "source": [
    "Install `darts` by running: (or run the cell)\n",
    "\n",
    "1. `pip install darts`\n",
    "\n",
    "If the installation fails, check their [Github](https://github.com/unit8co/darts#installation-guide) or try running:\n",
    "\n",
    "1. `conda install -c conda-forge prophet`\n",
    "2. `conda install pytorch torchvision torchaudio -c pytorch`\n",
    "3. `pip install darts`"
   ]
  },
  {
   "cell_type": "code",
   "execution_count": null,
   "id": "70cff99a",
   "metadata": {},
   "outputs": [],
   "source": [
    "# Comment out if already installed\n",
    "# !pip install darts"
   ]
  },
  {
   "cell_type": "markdown",
   "id": "0d4e790a",
   "metadata": {},
   "source": [
    "<a name=imports></a>\n",
    "## Imports"
   ]
  },
  {
   "cell_type": "code",
   "execution_count": null,
   "id": "d7108bf6",
   "metadata": {},
   "outputs": [],
   "source": [
    "import pandas as pd\n",
    "import numpy as np\n",
    "import matplotlib.pyplot as plt\n",
    "import warnings\n",
    "import importlib\n",
    "\n",
    "from darts import TimeSeries\n",
    "from darts.models.forecasting.varima import VARIMA\n",
    "\n",
    "import preprocessing\n",
    "import plotting\n",
    "import stats_testing\n",
    "import metrics\n",
    "\n",
    "warnings.filterwarnings(\"ignore\")"
   ]
  },
  {
   "cell_type": "markdown",
   "id": "424cd8b5",
   "metadata": {},
   "source": [
    "## Results table"
   ]
  },
  {
   "cell_type": "code",
   "execution_count": null,
   "id": "69dff2e1",
   "metadata": {},
   "outputs": [],
   "source": [
    "results_columns = ['model', 'mse', 'mape', 'mae']\n",
    "results_table = pd.DataFrame(columns=results_columns)"
   ]
  },
  {
   "cell_type": "markdown",
   "id": "64b955fb",
   "metadata": {},
   "source": [
    "<a name=ingestion></a>\n",
    "## Ingestion"
   ]
  },
  {
   "cell_type": "code",
   "execution_count": null,
   "id": "729c65f4",
   "metadata": {},
   "outputs": [],
   "source": [
    "daily_cases_usa = pd.read_csv('../../cleaned_datasets/usa/daily_cases_usa.csv', parse_dates=['Date'])\n",
    "cum_vacc_usa = pd.read_csv('../../cleaned_datasets/usa/cum_vacc_usa_cleaned.csv', parse_dates=['Date'])"
   ]
  },
  {
   "cell_type": "code",
   "execution_count": null,
   "id": "21b99bcf",
   "metadata": {},
   "outputs": [],
   "source": [
    "daily_cases_usa.dtypes"
   ]
  },
  {
   "cell_type": "code",
   "execution_count": null,
   "id": "cc05411c",
   "metadata": {},
   "outputs": [],
   "source": [
    "daily_cases_usa"
   ]
  },
  {
   "cell_type": "code",
   "execution_count": null,
   "id": "071a5081",
   "metadata": {},
   "outputs": [],
   "source": [
    "cum_vacc_usa.dtypes"
   ]
  },
  {
   "cell_type": "code",
   "execution_count": null,
   "id": "aa8cdd73",
   "metadata": {},
   "outputs": [],
   "source": [
    "first_vacc = cum_vacc_usa.iloc[0].Date\n",
    "last_vacc = cum_vacc_usa.iloc[-1].Date\n",
    "\n",
    "vacc_dates = pd.date_range(start=first_vacc, end=last_vacc)"
   ]
  },
  {
   "cell_type": "code",
   "execution_count": null,
   "id": "c98d4b25",
   "metadata": {},
   "outputs": [],
   "source": [
    "cases_vacc = daily_cases_usa.merge(cum_vacc_usa, how='outer', left_on='Date', right_on='Date')\n",
    "cases_vacc = cases_vacc[[\"Date\", \"Confirmed\", \"Total_Doses\"]]\n",
    "cases_vacc"
   ]
  },
  {
   "cell_type": "code",
   "execution_count": null,
   "id": "e850f3ed",
   "metadata": {},
   "outputs": [],
   "source": [
    "indexed = cases_vacc.set_index('Date')\n",
    "preprocessing.fill_date_gaps(indexed, method='ffill', dates_range=vacc_dates)\n",
    "indexed"
   ]
  },
  {
   "cell_type": "code",
   "execution_count": null,
   "id": "65b87d54",
   "metadata": {},
   "outputs": [],
   "source": [
    "series = TimeSeries.from_dataframe(indexed)"
   ]
  },
  {
   "cell_type": "markdown",
   "id": "3775f479",
   "metadata": {},
   "source": [
    "<a name=plotting></a>\n",
    "## Plot initial data"
   ]
  },
  {
   "cell_type": "code",
   "execution_count": null,
   "id": "00e3808b",
   "metadata": {},
   "outputs": [],
   "source": [
    "plotting.plot_side_by_side(train=series.pd_dataframe())"
   ]
  },
  {
   "cell_type": "markdown",
   "id": "187e4689",
   "metadata": {},
   "source": [
    "<a name=stattests1></a>\n",
    "## Statistical tests"
   ]
  },
  {
   "cell_type": "markdown",
   "id": "f580318b",
   "metadata": {},
   "source": [
    "### Johansen co-integration test"
   ]
  },
  {
   "cell_type": "code",
   "execution_count": null,
   "id": "c2f218f6",
   "metadata": {},
   "outputs": [],
   "source": [
    "stats_testing.cointegration_test(series.pd_dataframe())"
   ]
  },
  {
   "cell_type": "markdown",
   "id": "ff9d029e",
   "metadata": {},
   "source": [
    "The two datasets are correlated."
   ]
  },
  {
   "cell_type": "markdown",
   "id": "3bed91ae",
   "metadata": {},
   "source": [
    "### Augmented DF Test"
   ]
  },
  {
   "cell_type": "code",
   "execution_count": null,
   "id": "95791ef6",
   "metadata": {},
   "outputs": [],
   "source": [
    "# ADF Test on each column\n",
    "for name, column in series.pd_dataframe().iteritems():\n",
    "    stats_testing.run_dicky_fuller(column)\n",
    "    print('\\n')"
   ]
  },
  {
   "cell_type": "markdown",
   "id": "7b199aab",
   "metadata": {},
   "source": [
    "The TS is not stationary"
   ]
  },
  {
   "cell_type": "markdown",
   "id": "06475b01",
   "metadata": {},
   "source": [
    "<a name=diff></a>\n",
    "## Differencing"
   ]
  },
  {
   "cell_type": "markdown",
   "id": "0e3da578",
   "metadata": {},
   "source": [
    "## First order differencing"
   ]
  },
  {
   "cell_type": "code",
   "execution_count": null,
   "id": "29192b30",
   "metadata": {},
   "outputs": [],
   "source": [
    "df_diff_1 = series.pd_dataframe().diff().dropna()\n",
    "df_diff_1"
   ]
  },
  {
   "cell_type": "code",
   "execution_count": null,
   "id": "416c726e",
   "metadata": {},
   "outputs": [],
   "source": [
    "plotting.plot_side_by_side(train=df_diff_1)"
   ]
  },
  {
   "cell_type": "code",
   "execution_count": null,
   "id": "ea00b1c5",
   "metadata": {},
   "outputs": [],
   "source": [
    "stats_testing.cointegration_test(df_diff_1)"
   ]
  },
  {
   "cell_type": "code",
   "execution_count": null,
   "id": "1320bac5",
   "metadata": {},
   "outputs": [],
   "source": [
    "# ADF Test on each column\n",
    "for name, column in df_diff_1.iteritems():\n",
    "    stats_testing.run_dicky_fuller(column)\n",
    "    print('\\n')"
   ]
  },
  {
   "cell_type": "markdown",
   "id": "0fb33795",
   "metadata": {},
   "source": [
    "<a name=traintest1></a>\n",
    "## Train-test split"
   ]
  },
  {
   "cell_type": "markdown",
   "id": "64441ca3",
   "metadata": {},
   "source": [
    "### Train-test split - first order differenced"
   ]
  },
  {
   "cell_type": "code",
   "execution_count": null,
   "id": "97cc5e85",
   "metadata": {},
   "outputs": [],
   "source": [
    "train, test = preprocessing.train_test_split(series, fraction=0.9)\n",
    "\n",
    "plotting.plot_side_by_side(train=train.pd_dataframe(), test=test.pd_dataframe())"
   ]
  },
  {
   "cell_type": "markdown",
   "id": "5b9f05ac",
   "metadata": {},
   "source": [
    "<a name=var_model></a>\n",
    "\n",
    "# VAR Model"
   ]
  },
  {
   "cell_type": "markdown",
   "id": "d9baf25d",
   "metadata": {},
   "source": [
    "<a name=var_p_1></a>\n",
    "## Finding the best value of p for VAR(p)\n",
    "\n",
    "Using PACF plot"
   ]
  },
  {
   "cell_type": "code",
   "execution_count": null,
   "id": "aca26619",
   "metadata": {},
   "outputs": [],
   "source": [
    "from statsmodels.graphics.tsaplots import plot_pacf, plot_acf\n",
    "\n",
    "pacf_var_confirmed = plot_pacf(df_diff_1['Confirmed'], lags=25)"
   ]
  },
  {
   "cell_type": "markdown",
   "id": "5f6bba1b",
   "metadata": {},
   "source": [
    "Possible values of p - 3, 6, 10"
   ]
  },
  {
   "cell_type": "code",
   "execution_count": null,
   "id": "e19d1f0a",
   "metadata": {},
   "outputs": [],
   "source": [
    "from darts.models.forecasting.varima import VARIMA\n",
    "\n",
    "VARIMA.gridsearch(parameters={'p': [3, 6, 10], 'd': [1]}, series=train, n_jobs=2, val_series=test)"
   ]
  },
  {
   "cell_type": "markdown",
   "id": "ba96da17",
   "metadata": {},
   "source": [
    "<a name=var8_1></a>\n",
    "## VAR(3,1) Model"
   ]
  },
  {
   "cell_type": "code",
   "execution_count": null,
   "id": "dcdd44fb",
   "metadata": {},
   "outputs": [],
   "source": [
    "model = VARIMA(p=3, d=1)\n",
    "model.fit(train)\n",
    "forecasted = model.predict(len(test))\n",
    "forecasted.pd_dataframe()"
   ]
  },
  {
   "cell_type": "markdown",
   "id": "0c7ff560",
   "metadata": {},
   "source": [
    "## Store metrics"
   ]
  },
  {
   "cell_type": "code",
   "execution_count": null,
   "id": "abf9e118",
   "metadata": {},
   "outputs": [],
   "source": [
    "results_table = results_table.append({\n",
    "    'model': 'VARI(3,1)',\n",
    "    'mse': metrics.mean_squared_error(test['Confirmed'].pd_dataframe(), forecasted['Confirmed'].pd_dataframe()),\n",
    "    'mape': metrics.MAPE(test['Confirmed'].pd_dataframe(), forecasted['Confirmed'].pd_dataframe()),\n",
    "    'mae': metrics.mean_absolute_error(test['Confirmed'].pd_dataframe(), forecasted['Confirmed'].pd_dataframe())\n",
    "}, ignore_index=True)\n",
    "\n",
    "results_table"
   ]
  },
  {
   "cell_type": "markdown",
   "id": "f88bc316",
   "metadata": {},
   "source": [
    "<a name=plot_final_var></a>\n",
    "\n",
    "## Plot Train, Test, Forecast"
   ]
  },
  {
   "cell_type": "code",
   "execution_count": null,
   "id": "79e8cc9f",
   "metadata": {},
   "outputs": [],
   "source": [
    "importlib.reload(plotting)\n",
    "# Plot of daily cases\n",
    "\n",
    "plotting.plot_train_test_fore(train=train.pd_dataframe().Confirmed, test=test[['Confirmed']].pd_dataframe(), fore=forecasted[['Confirmed']].pd_dataframe(), title='USA', start_date='2021-03-01', figpath='../../figures/vari/usa_vari.eps')\n"
   ]
  },
  {
   "cell_type": "markdown",
   "id": "59cae698",
   "metadata": {},
   "source": [
    "# VMA Model"
   ]
  },
  {
   "cell_type": "code",
   "execution_count": null,
   "id": "4af6edbf",
   "metadata": {},
   "outputs": [],
   "source": [
    "acf_varma_confirmed = plot_acf(train['Confirmed'].pd_dataframe().diff().dropna(), lags=25)"
   ]
  },
  {
   "cell_type": "markdown",
   "id": "f5911d36",
   "metadata": {},
   "source": [
    "Possible values of q - 2, 6, 7, 9, 13, 14"
   ]
  },
  {
   "cell_type": "code",
   "execution_count": null,
   "id": "482ba7e3",
   "metadata": {},
   "outputs": [],
   "source": [
    "VARIMA.gridsearch(parameters={'p': [0], 'd': [1], 'q': [2,6,7]}, series=train, n_jobs=2, val_series=test)"
   ]
  },
  {
   "cell_type": "markdown",
   "id": "6f1c70cd",
   "metadata": {},
   "source": [
    "## VMA(1,7)"
   ]
  },
  {
   "cell_type": "code",
   "execution_count": null,
   "id": "d439ff83",
   "metadata": {},
   "outputs": [],
   "source": [
    "model_ma = VARIMA(p=0, d=1, q=7)\n",
    "model_ma.fit(train)\n",
    "forecasted_ma = model_ma.predict(len(test))\n",
    "forecasted_ma.pd_dataframe()"
   ]
  },
  {
   "cell_type": "code",
   "execution_count": null,
   "id": "b86100d6",
   "metadata": {},
   "outputs": [],
   "source": [
    "results_table = results_table.append({\n",
    "    'model': 'VIMA(1,7)',\n",
    "    'mse': metrics.mean_squared_error(test['Confirmed'].pd_dataframe(), forecasted_ma['Confirmed'].pd_dataframe()),\n",
    "    'mape': metrics.MAPE(test['Confirmed'].pd_dataframe(), forecasted_ma['Confirmed'].pd_dataframe()),\n",
    "    'mae': metrics.mean_absolute_error(test['Confirmed'].pd_dataframe(), forecasted_ma['Confirmed'].pd_dataframe())\n",
    "}, ignore_index=True)\n",
    "\n",
    "results_table"
   ]
  },
  {
   "cell_type": "markdown",
   "id": "5096d8e3",
   "metadata": {},
   "source": [
    "<a name=plot_final_vma></a>\n",
    "\n",
    "## Plot Train, Test, Forecast"
   ]
  },
  {
   "cell_type": "code",
   "execution_count": null,
   "id": "9823c773",
   "metadata": {},
   "outputs": [],
   "source": [
    "plotting.plot_train_test_fore(train=train.pd_dataframe().Confirmed, test=test[['Confirmed']].pd_dataframe(), fore=forecasted_ma[['Confirmed']].pd_dataframe(), title='Daily cases')\n"
   ]
  },
  {
   "cell_type": "markdown",
   "id": "44092226",
   "metadata": {},
   "source": [
    "<a name=varma></a>\n",
    "\n",
    "## VARIMA"
   ]
  },
  {
   "cell_type": "code",
   "execution_count": null,
   "id": "24da3ebc",
   "metadata": {},
   "outputs": [],
   "source": [
    "pacf_varma_confirmed = plot_pacf(train.pd_dataframe()['Confirmed'].diff().dropna(), lags=25)\n",
    "acf_varma_confirmed = plot_acf(train.pd_dataframe()['Confirmed'].diff().dropna(), lags=25)"
   ]
  },
  {
   "cell_type": "code",
   "execution_count": null,
   "id": "58c5790b",
   "metadata": {},
   "outputs": [],
   "source": [
    "_, order = VARIMA.gridsearch(parameters={'p': [3, 6, 8, 9], 'd': [1], 'q': [2, 6, 7]}, series=train, n_jobs=2, val_series=test)\n",
    "order"
   ]
  },
  {
   "cell_type": "markdown",
   "id": "6d2f2b87",
   "metadata": {},
   "source": [
    "<a name=varma11></a>\n",
    "\n",
    "## VARIMA(3, 1, 6)"
   ]
  },
  {
   "cell_type": "code",
   "execution_count": null,
   "id": "d5d124ae",
   "metadata": {},
   "outputs": [],
   "source": [
    "model_varima = VARIMA(**order)\n",
    "model_varima.fit(train)\n",
    "forecasted_varima = model_varima.predict(len(test))\n",
    "forecasted_varima.pd_dataframe()"
   ]
  },
  {
   "cell_type": "code",
   "execution_count": null,
   "id": "e5141e6d",
   "metadata": {},
   "outputs": [],
   "source": [
    "results_table = results_table.append({\n",
    "    'model': 'VARIMA(3,1,6)',\n",
    "    'mse': metrics.mean_squared_error(test['Confirmed'].pd_dataframe(), forecasted_varima['Confirmed'].pd_dataframe()),\n",
    "    'mape': metrics.MAPE(test['Confirmed'].pd_dataframe(), forecasted_varima['Confirmed'].pd_dataframe()),\n",
    "    'mae': metrics.mean_absolute_error(test['Confirmed'].pd_dataframe(), forecasted_varima['Confirmed'].pd_dataframe())\n",
    "}, ignore_index=True)\n",
    "\n",
    "results_table"
   ]
  },
  {
   "cell_type": "markdown",
   "id": "50061752",
   "metadata": {},
   "source": [
    "<a name=plot_final_varma></a>\n",
    "\n",
    "## Plot Train, Test, Forecast"
   ]
  },
  {
   "cell_type": "code",
   "execution_count": null,
   "id": "a498e0a6",
   "metadata": {},
   "outputs": [],
   "source": [
    "# Plot of daily cases\n",
    "plotting.plot_train_test_fore(train=train.pd_dataframe().Confirmed, test=test[['Confirmed']].pd_dataframe(), fore=forecasted_varima[['Confirmed']].pd_dataframe(), title='USA', start_date='2021-03-01', figpath='../../figures/varima/usa_varima.eps')\n"
   ]
  },
  {
   "cell_type": "markdown",
   "id": "29d88ce2",
   "metadata": {},
   "source": [
    "<a name=roll2></a>\n",
    "\n",
    "## Rolling Forecasts"
   ]
  },
  {
   "cell_type": "code",
   "execution_count": null,
   "id": "8fde7d61",
   "metadata": {},
   "outputs": [],
   "source": [
    "history = train.copy()\n",
    "predicted = pd.DataFrame(columns=[\n",
    "    'VAR_Confirmed', \n",
    "    'VAR_Total_Doses', \n",
    "    'VMA_Confirmed', \n",
    "    'VMA_Total_Doses', \n",
    "    'VARIMA_Confirmed', \n",
    "    'VARIMA_Total_Doses'\n",
    "], index=test.pd_dataframe().index)\n",
    "\n",
    "\n",
    "# predicted\n",
    "for t in range(len(test)):\n",
    "    \n",
    "    # 3 models\n",
    "    var = VARIMA(p=3, d=1, q=0)\n",
    "    vma = VARIMA(p=0, d=1, q=7)\n",
    "    varima = VARIMA(p=3, d=1, q=6)\n",
    "\n",
    "    var.fit(history)\n",
    "    vma.fit(history)\n",
    "    varima.fit(history)\n",
    "\n",
    "\n",
    "    forecasted_varima = model_varima.predict(len(test))\n",
    "    forecasted_varima.pd_dataframe()\n",
    "    \n",
    "    \n",
    "    # Predictions\n",
    "    yhat_var = var.predict(n=1)\n",
    "    yhat_vma = vma.predict(n=1)\n",
    "    yhat_varima = varima.predict(n=1)    \n",
    "    \n",
    "    # Confirmed cases\n",
    "    predicted.iloc[t]['VAR_Confirmed'] = yhat_var['Confirmed'].values()[0][0]\n",
    "    predicted.iloc[t]['VMA_Confirmed'] = yhat_vma['Confirmed'].values()[0][0]\n",
    "    predicted.iloc[t]['VARIMA_Confirmed'] = yhat_varima['Confirmed'].values()[0][0]\n",
    "    \n",
    "    # Total doses\n",
    "    predicted.iloc[t]['VAR_Total_Doses'] = yhat_var['Total_Doses'].values()[0][0]\n",
    "    predicted.iloc[t]['VMA_Total_Doses'] = yhat_vma['Total_Doses'].values()[0][0]\n",
    "    predicted.iloc[t]['VARIMA_Total_Doses'] = yhat_varima['Total_Doses'].values()[0][0]\n",
    "    \n",
    "    history = history.append(test[t])"
   ]
  },
  {
   "cell_type": "markdown",
   "id": "50061752",
   "metadata": {},
   "source": [
    "<a name=plot_final_varma></a>\n",
    "\n",
    "## Plot Train, Test, Forecast"
   ]
  },
  {
   "cell_type": "code",
   "execution_count": null,
   "id": "a498e0a6",
   "metadata": {},
   "outputs": [],
   "source": [
    "# Plot of daily cases\n",
    "plotting.plot_train_test_fore(train=train.pd_dataframe().Confirmed, test=test[['Confirmed']].pd_dataframe(), fore=forecasted_varima[['Confirmed']].pd_dataframe(), title='Daily cases')\n"
   ]
  },
  {
   "cell_type": "code",
   "execution_count": null,
   "id": "55e7f5b2",
   "metadata": {},
   "outputs": [],
   "source": [
    "predicted"
   ]
  },
  {
   "cell_type": "markdown",
   "id": "967c7e50",
   "metadata": {},
   "source": [
    "## VAR(3)"
   ]
  },
  {
   "cell_type": "code",
   "execution_count": null,
   "id": "e0910c9d",
   "metadata": {},
   "outputs": [],
   "source": [
    "plotting.plot_fore_test(test=test.pd_dataframe()['Confirmed'], fore=predicted[['VAR_Confirmed']], title='VAR')\n"
   ]
  },
  {
   "cell_type": "code",
   "execution_count": null,
   "id": "2424b2d1",
   "metadata": {},
   "outputs": [],
   "source": [
    "results_table = results_table.append({\n",
    "    'model': 'VARI(7,1) - rolling',\n",
    "    'mse': metrics.mean_squared_error(test['Confirmed'].pd_dataframe(), predicted['VAR_Confirmed']),\n",
    "    'mape': metrics.MAPE(test['Confirmed'].pd_dataframe(), predicted['VAR_Confirmed']),\n",
    "    'mae': metrics.mean_absolute_error(test['Confirmed'].pd_dataframe(), predicted['VAR_Confirmed'])\n",
    "}, ignore_index=True)\n",
    "\n",
    "results_table"
   ]
  },
  {
   "cell_type": "code",
   "execution_count": null,
   "id": "8cc48499",
   "metadata": {},
   "outputs": [],
   "source": [
    "plotting.plot_train_test_fore(train=train.pd_dataframe().Confirmed, test=test[['Confirmed']].pd_dataframe(), fore=predicted[['VAR_Confirmed']], title='USA', start_date='2021-03-01', figpath='../../figures/vari/usa_vari_rolling.eps')\n"
   ]
  },
  {
   "cell_type": "markdown",
   "id": "967c7e50",
   "metadata": {},
   "source": [
    "## VMA(2)"
   ]
  },
  {
   "cell_type": "code",
   "execution_count": null,
   "id": "e0910c9d",
   "metadata": {},
   "outputs": [],
   "source": [
    "plotting.plot_fore_test(test=test.pd_dataframe()['Confirmed'], fore=predicted[['VMA_Confirmed']], title='VMA')\n"
   ]
  },
  {
   "cell_type": "code",
   "execution_count": null,
   "id": "2424b2d1",
   "metadata": {},
   "outputs": [],
   "source": [
    "results_table = results_table.append({\n",
    "    'model': 'VIMA(1,1) - rolling',\n",
    "    'mse': metrics.mean_squared_error(test['Confirmed'].pd_dataframe(), predicted[['VMA_Confirmed']]),\n",
    "    'mape': metrics.MAPE(test['Confirmed'].pd_dataframe(), predicted[['VMA_Confirmed']]),\n",
    "    'mae': metrics.mean_absolute_error(test['Confirmed'].pd_dataframe(), predicted[['VMA_Confirmed']])\n",
    "}, ignore_index=True)\n",
    "\n",
    "results_table"
   ]
  },
  {
   "cell_type": "code",
   "execution_count": null,
   "id": "9b3e616d",
   "metadata": {},
   "outputs": [],
   "source": [
    "importlib.reload(plotting)\n",
    "\n",
    "plotting.plot_train_test_fore(train=train.pd_dataframe().Confirmed, test=test[['Confirmed']].pd_dataframe(), fore=predicted[['VMA_Confirmed']], title='VAR - Daily cases')\n",
    "\n",
    "\n"
   ]
  },
  {
   "cell_type": "markdown",
   "id": "967c7e50",
   "metadata": {},
   "source": [
    "## VARMA(3,2)"
   ]
  },
  {
   "cell_type": "code",
   "execution_count": null,
   "id": "e0910c9d",
   "metadata": {},
   "outputs": [],
   "source": [
    "results_table = results_table.append({\n",
    "    'model': 'VARIMA(7,1,1) - rolling',\n",
    "    'mse': metrics.mean_squared_error(test['Confirmed'].pd_dataframe(), predicted[['VARIMA_Confirmed']]),\n",
    "    'mape': metrics.MAPE(test['Confirmed'].pd_dataframe(), predicted[['VARIMA_Confirmed']]),\n",
    "    'mae': metrics.mean_absolute_error(test['Confirmed'].pd_dataframe(), predicted[['VARIMA_Confirmed']])\n",
    "}, ignore_index=True)\n",
    "\n",
    "results_table"
   ]
  },
  {
   "cell_type": "code",
   "execution_count": null,
   "id": "9b3e616d",
   "metadata": {},
   "outputs": [],
   "source": [
    "plotting.plot_fore_test(test=test.pd_dataframe()['Confirmed'], fore=predicted[['VARIMA_Confirmed']], title='VARIMA')\n",
    "\n"
   ]
  },
  {
   "cell_type": "code",
   "execution_count": null,
   "id": "f7d41bfa",
   "metadata": {},
   "outputs": [],
   "source": [
    "plotting.plot_train_test_fore(train=train.pd_dataframe().Confirmed, test=test[['Confirmed']].pd_dataframe(), fore=predicted[['VARIMA_Confirmed']], title='USA', start_date='2021-03-01', figpath='../../figures/varima/usa_varima_rolling.eps')\n"
   ]
  },
  {
   "cell_type": "code",
   "execution_count": null,
   "id": "2566f23f",
   "metadata": {},
   "outputs": [],
   "source": [
    "results_table"
   ]
  },
  {
   "cell_type": "code",
   "execution_count": null,
   "id": "ea05b971",
   "metadata": {},
   "outputs": [],
   "source": []
  }
 ],
 "metadata": {
  "kernelspec": {
   "display_name": "Python 3",
   "language": "python",
   "name": "python3"
  },
  "language_info": {
   "codemirror_mode": {
    "name": "ipython",
    "version": 3
   },
   "file_extension": ".py",
   "mimetype": "text/x-python",
   "name": "python",
   "nbconvert_exporter": "python",
   "pygments_lexer": "ipython3",
   "version": "3.7.10"
  }
 },
 "nbformat": 4,
 "nbformat_minor": 5
}
