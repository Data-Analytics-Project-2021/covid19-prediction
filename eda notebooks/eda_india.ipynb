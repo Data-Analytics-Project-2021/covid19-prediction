{
 "cells": [
  {
   "cell_type": "markdown",
   "id": "0d4868b5",
   "metadata": {},
   "source": [
    "# EDA India"
   ]
  },
  {
   "cell_type": "markdown",
   "id": "ad76e0cc",
   "metadata": {},
   "source": [
    "## Overview\n",
    "This notebook contains **Exploratory Data Analysis** and **Visualization** for the cases and vaccinations in India.\n",
    "\n",
    "**Sections:**\n",
    "1. [Data Ingestion](#Data_Ingestion)\n",
    "2. [Summary Statistics](#Summary_Statistics)\n",
    "3. [Data Cleaning](#3.-Data-Cleaning)\n",
    "4. [Visualization](#Visualization)\n",
    "5. [Correlation](#Correlation)\n",
    "6. [Preprocessing](#Preprocessing)\n",
    "7. [Conclusion](#Conclusion)"
   ]
  },
  {
   "cell_type": "markdown",
   "id": "da1e10a0",
   "metadata": {},
   "source": [
    "***\n",
    "## Setup "
   ]
  },
  {
   "cell_type": "markdown",
   "id": "6dfd7f92",
   "metadata": {},
   "source": [
    "***NOTE***: Please install seaborn version >=  `0.11.0`. You could update your seaborn installation by running `pip install -U seaborn`"
   ]
  },
  {
   "cell_type": "code",
   "execution_count": null,
   "id": "8889461a",
   "metadata": {},
   "outputs": [],
   "source": [
    "import os\n",
    "from datetime import datetime\n",
    "import pandas as pd\n",
    "import seaborn as sns\n",
    "import matplotlib.pyplot as plt\n",
    "import numpy as np\n",
    "from scipy import stats\n",
    "from scipy.interpolate import CubicSpline"
   ]
  },
  {
   "cell_type": "markdown",
   "id": "07711051",
   "metadata": {},
   "source": [
    "***\n",
    "<a id='Data_Ingestion'></a>\n",
    "## 1. Data Ingestion"
   ]
  },
  {
   "cell_type": "markdown",
   "id": "225e7235",
   "metadata": {},
   "source": [
    "### 1.1 Getting daily state-wise cases for India"
   ]
  },
  {
   "cell_type": "code",
   "execution_count": null,
   "id": "696c8254",
   "metadata": {},
   "outputs": [],
   "source": [
    "latest_date = '11-01-2022'\n",
    "folder = 'raw_data_%s' % latest_date"
   ]
  },
  {
   "cell_type": "code",
   "execution_count": null,
   "id": "b7bbceb9",
   "metadata": {},
   "outputs": [],
   "source": [
    "cases = pd.read_csv(f\"{folder}/india_cases_{latest_date}.csv\", index_col=0)\n",
    "cases"
   ]
  },
  {
   "cell_type": "markdown",
   "id": "f4bc62e0",
   "metadata": {},
   "source": [
    "### 1.2  Getting daily state-wise vaccinations for India"
   ]
  },
  {
   "cell_type": "code",
   "execution_count": null,
   "id": "1ad69b51",
   "metadata": {},
   "outputs": [],
   "source": [
    "vacc = pd.read_csv(f\"{folder}/india_vaccines_{latest_date}.csv\", parse_dates=['date'], index_col = 'date')\n",
    "vacc"
   ]
  },
  {
   "cell_type": "markdown",
   "id": "9299c2be",
   "metadata": {},
   "source": [
    "***\n",
    "<a id='Summary_Statistics'></a>\n",
    "## 2. Summary statistics"
   ]
  },
  {
   "cell_type": "code",
   "execution_count": null,
   "id": "82674507",
   "metadata": {
    "scrolled": false
   },
   "outputs": [],
   "source": [
    "# Summary statistics for cases in India\n",
    "cases.describe()"
   ]
  },
  {
   "cell_type": "code",
   "execution_count": null,
   "id": "e0b38f33",
   "metadata": {},
   "outputs": [],
   "source": [
    "# Summary statistics for vaccines in India\n",
    "vacc.describe()"
   ]
  },
  {
   "cell_type": "markdown",
   "id": "59471fda",
   "metadata": {},
   "source": [
    "<a id='missing_outliers'></a>\n",
    "### 2.2 How many missing data and outliers? "
   ]
  },
  {
   "cell_type": "code",
   "execution_count": null,
   "id": "c4e0c51e",
   "metadata": {
    "scrolled": true
   },
   "outputs": [],
   "source": [
    "# Provides the number of missing values for cases in India\n",
    "cases.isnull().sum()"
   ]
  },
  {
   "cell_type": "code",
   "execution_count": null,
   "id": "da74cd8a",
   "metadata": {
    "scrolled": true
   },
   "outputs": [],
   "source": [
    "cases.isnull().sum().sum()"
   ]
  },
  {
   "cell_type": "code",
   "execution_count": null,
   "id": "c571d5cb",
   "metadata": {
    "scrolled": true
   },
   "outputs": [],
   "source": [
    "# Provides the number of missing values for vaccines in India\n",
    "vacc.isnull().sum()"
   ]
  },
  {
   "cell_type": "code",
   "execution_count": null,
   "id": "c4656e30",
   "metadata": {},
   "outputs": [],
   "source": [
    "vacc.isnull().sum().sum()"
   ]
  },
  {
   "cell_type": "code",
   "execution_count": null,
   "id": "26828b6f",
   "metadata": {},
   "outputs": [],
   "source": [
    "z_confirm = np.abs(stats.zscore(cases['Confirmed']))\n",
    "print(z_confirm)"
   ]
  },
  {
   "cell_type": "code",
   "execution_count": null,
   "id": "e95a5e79",
   "metadata": {},
   "outputs": [],
   "source": [
    "z_adminstered = np.abs(stats.zscore(vacc['total_vaccinations'], nan_policy='omit'))\n",
    "print(z_adminstered)"
   ]
  },
  {
   "cell_type": "code",
   "execution_count": null,
   "id": "c1e56dc1",
   "metadata": {
    "scrolled": false
   },
   "outputs": [],
   "source": [
    "threshold = 3\n",
    "# print(np.where(z_confirm>3))"
   ]
  },
  {
   "cell_type": "code",
   "execution_count": null,
   "id": "f698cedf",
   "metadata": {},
   "outputs": [],
   "source": [
    "np.where(z_adminstered>3)"
   ]
  },
  {
   "cell_type": "markdown",
   "id": "8b7a8983",
   "metadata": {},
   "source": [
    "### 2.3 Any Inconsistent, Incomplete, duplicate or incorrect data"
   ]
  },
  {
   "cell_type": "code",
   "execution_count": null,
   "id": "7b5bddf7",
   "metadata": {},
   "outputs": [],
   "source": [
    "cases.duplicated().sum()"
   ]
  },
  {
   "cell_type": "code",
   "execution_count": null,
   "id": "886fbd8d",
   "metadata": {},
   "outputs": [],
   "source": [
    "vacc.duplicated().sum()"
   ]
  },
  {
   "cell_type": "code",
   "execution_count": null,
   "id": "01d0f7c6",
   "metadata": {},
   "outputs": [],
   "source": [
    "incomplete_cases = cases.isnull().any(axis=1)\n",
    "incomplete_cases"
   ]
  },
  {
   "cell_type": "code",
   "execution_count": null,
   "id": "833492b1",
   "metadata": {
    "scrolled": true
   },
   "outputs": [],
   "source": [
    "incomplete_vacc = vacc.isnull().any(axis=1)\n",
    "incomplete_vacc"
   ]
  },
  {
   "cell_type": "markdown",
   "id": "7fcf47d0",
   "metadata": {},
   "source": [
    "***\n",
    "## 3. Data Cleaning"
   ]
  },
  {
   "cell_type": "markdown",
   "id": "d55a5f99",
   "metadata": {},
   "source": [
    "### 3.1 cases "
   ]
  },
  {
   "cell_type": "code",
   "execution_count": null,
   "id": "cd79fa0a",
   "metadata": {},
   "outputs": [],
   "source": [
    "cases.info()"
   ]
  },
  {
   "cell_type": "code",
   "execution_count": null,
   "id": "1a506f7f",
   "metadata": {
    "scrolled": true
   },
   "outputs": [],
   "source": [
    "# Provides the fraction of nulls in a particular column\n",
    "cases.isnull().sum() / len(cases)"
   ]
  },
  {
   "cell_type": "markdown",
   "id": "d0c2eb06",
   "metadata": {},
   "source": [
    "Above we can see that `Province/State`, `FIPS`, `Admin2` have a Null Ratio of `1.00` \n",
    "So we can go ahead and drop these columns from our dataframe"
   ]
  },
  {
   "cell_type": "code",
   "execution_count": null,
   "id": "5962481a",
   "metadata": {},
   "outputs": [],
   "source": [
    "#Dropping the columns with 100% null values\n",
    "cases.drop(['Province/State', 'FIPS', 'Admin2'], inplace = True, axis = 1)"
   ]
  },
  {
   "cell_type": "markdown",
   "id": "97b4bb08",
   "metadata": {},
   "source": [
    "`Last Update`, `Latitude` and `Longitude` have very few non-null values. This is because they are repeated columns corresponding `Last_Update`, `Lat` and `Long_` which have a low Null Ratio. Due to this we have decided to merge the values from the first set *(High Null Ratio)* to its corresponding second set column *(Low Null Ratio)*"
   ]
  },
  {
   "cell_type": "code",
   "execution_count": null,
   "id": "47edf9e8",
   "metadata": {},
   "outputs": [],
   "source": [
    "# Number of nulls in second set columns before combining\n",
    "print(cases['Last_Update'].isnull().sum())\n",
    "print(cases['Lat'].isnull().sum())\n",
    "print(cases['Long_'].isnull().sum())"
   ]
  },
  {
   "cell_type": "code",
   "execution_count": null,
   "id": "fdef9795",
   "metadata": {},
   "outputs": [],
   "source": [
    "# For Last Update and Last_Update\n",
    "cases['Last_Update'] = cases['Last_Update'].combine_first(cases['Last Update'])\n",
    "\n",
    "# For Latitude and Lat\n",
    "cases['Lat'] = cases['Lat'].combine_first(cases['Latitude'])\n",
    "\n",
    "# For Longitude and Long\n",
    "cases['Long_'] = cases['Long_'].combine_first(cases['Longitude'])"
   ]
  },
  {
   "cell_type": "code",
   "execution_count": null,
   "id": "8aa817d4",
   "metadata": {},
   "outputs": [],
   "source": [
    "# Number of nulls in second set columns after combining\n",
    "print(cases['Last_Update'].isnull().sum())\n",
    "print(cases['Lat'].isnull().sum())\n",
    "print(cases['Long_'].isnull().sum())"
   ]
  },
  {
   "cell_type": "markdown",
   "id": "7d133235",
   "metadata": {},
   "source": [
    "Now that `Last Update`, `Latitude` and `Longitude` have been combined into their corresponding `Last_Update`, `Lat` and `Long_` columns, the first set is now redundant. So we can drop them"
   ]
  },
  {
   "cell_type": "code",
   "execution_count": null,
   "id": "d36835fe",
   "metadata": {},
   "outputs": [],
   "source": [
    "cases.drop(['Last Update', 'Latitude', 'Longitude'], inplace=True, axis = 1)"
   ]
  },
  {
   "cell_type": "markdown",
   "id": "381d19ce",
   "metadata": {},
   "source": [
    "Similary by observation `Incidence_Rate` , `Incident_Rate` and `Case-Fatality_Ratio` , `Case_Fatality_Ratio` are pairs of redundant columns. So we need to combine and drop one column from each pair"
   ]
  },
  {
   "cell_type": "code",
   "execution_count": null,
   "id": "3ae27c21",
   "metadata": {},
   "outputs": [],
   "source": [
    "# For Incidence_Rate and Incident_Rate\n",
    "cases['Incident_Rate'] = cases['Incident_Rate'].combine_first(cases['Incidence_Rate'])\n",
    "\n",
    "# For Case-Fatality_Ratio and Case_Fatality_Ratio\n",
    "cases['Case_Fatality_Ratio'] = cases['Case_Fatality_Ratio'].combine_first(cases['Case-Fatality_Ratio'])\n",
    "\n",
    "#Dropping the redundant columns after combining\n",
    "cases.drop(['Incidence_Rate', 'Case-Fatality_Ratio'], inplace=True, axis = 1)"
   ]
  },
  {
   "cell_type": "code",
   "execution_count": null,
   "id": "2c9c1123",
   "metadata": {},
   "outputs": [],
   "source": [
    "# Info after cleaning cases\n",
    "cases.info()"
   ]
  },
  {
   "cell_type": "markdown",
   "id": "3b8a4343",
   "metadata": {},
   "source": [
    "Save as cleaned CSV"
   ]
  },
  {
   "cell_type": "code",
   "execution_count": null,
   "id": "8ee62835",
   "metadata": {},
   "outputs": [],
   "source": [
    "if not os.path.exists('./cleaned_datasets/india'):\n",
    "    os.makedirs('./cleaned_datasets/india')\n",
    "cases.to_csv('./cleaned_datasets/india/statewise_cases_india.csv') "
   ]
  },
  {
   "cell_type": "markdown",
   "id": "321c37a6",
   "metadata": {},
   "source": [
    "### 3.2 vacc"
   ]
  },
  {
   "cell_type": "code",
   "execution_count": null,
   "id": "3f0f50f8",
   "metadata": {},
   "outputs": [],
   "source": [
    "vacc.info()"
   ]
  },
  {
   "cell_type": "code",
   "execution_count": null,
   "id": "5e511947",
   "metadata": {},
   "outputs": [],
   "source": [
    "# Provides the fraction of nulls in a particular column\n",
    "vacc.isnull().sum() / len(vacc)"
   ]
  },
  {
   "cell_type": "markdown",
   "id": "b10e7e13",
   "metadata": {},
   "source": [
    "Above we can see that the column `total_boosters` has a Null Ratio of `1.0` and can be dropped."
   ]
  },
  {
   "cell_type": "code",
   "execution_count": null,
   "id": "39035874",
   "metadata": {},
   "outputs": [],
   "source": [
    "vacc.drop(['total_boosters'], inplace=True, axis=1)"
   ]
  },
  {
   "cell_type": "code",
   "execution_count": null,
   "id": "23d378c0",
   "metadata": {},
   "outputs": [],
   "source": [
    "# After dropping\n",
    "vacc.info()"
   ]
  },
  {
   "cell_type": "markdown",
   "id": "e701e28b",
   "metadata": {},
   "source": [
    "### Removing outliers"
   ]
  },
  {
   "cell_type": "code",
   "execution_count": null,
   "id": "a89dea33",
   "metadata": {},
   "outputs": [],
   "source": [
    "#vacc = vacc.fillna(method='ffill')\n",
    "\n",
    "# Cumulative doses with NaNs filled\n",
    "cum_vacc = vacc.groupby(['date']).agg(Total_Doses = ('total_vaccinations', 'sum'))\n",
    "cum_vacc = cum_vacc.fillna(method='ffill')\n",
    "\n",
    "cum_vacc.plot()\n",
    "\n",
    "# Daily doses\n",
    "daily_vacc = cum_vacc.diff()\n",
    "daily_vacc.iloc[0] = cum_vacc.iloc[0]\n",
    "outliers = daily_vacc[daily_vacc.Total_Doses<=0].index\n",
    "\n",
    "i = 0\n",
    "\n",
    "while not outliers.empty:\n",
    "    i += 1\n",
    "    # Remove outliers\n",
    "    cum_vacc.loc[outliers] = None\n",
    "    cum_vacc.loc[outliers] = (cum_vacc.fillna(method='ffill') + cum_vacc.fillna(method='bfill'))/2\n",
    "    #cum_vacc.plot()\n",
    "\n",
    "    # Re-calculate daily doses\n",
    "    daily_vacc = cum_vacc.diff()\n",
    "    outliers = daily_vacc[daily_vacc.Total_Doses<=0].index\n",
    "\n",
    "cum_vacc.plot()\n",
    "print(i)"
   ]
  },
  {
   "cell_type": "code",
   "execution_count": null,
   "id": "61972db7",
   "metadata": {},
   "outputs": [],
   "source": [
    "vacc.total_vaccinations = vacc.total_vaccinations.fillna(method='ffill')\n",
    "vacc.drop(['Unnamed: 0'], inplace=True, axis=1)"
   ]
  },
  {
   "cell_type": "code",
   "execution_count": null,
   "id": "de58dfa2",
   "metadata": {},
   "outputs": [],
   "source": [
    "if not os.path.exists('./cleaned_datasets/india'):\n",
    "    os.makedirs('./cleaned_datasets/india')\n",
    "\n",
    "vacc.to_csv('cleaned_datasets/india/vacc_india.csv')"
   ]
  },
  {
   "cell_type": "markdown",
   "id": "57f19562",
   "metadata": {},
   "source": [
    "***\n",
    "<a id='Visualization'></a>\n",
    "## 4. Visualization"
   ]
  },
  {
   "cell_type": "markdown",
   "id": "b95aec35",
   "metadata": {},
   "source": [
    "### 4.1 Histograms"
   ]
  },
  {
   "cell_type": "code",
   "execution_count": null,
   "id": "5eaa99ac",
   "metadata": {},
   "outputs": [],
   "source": [
    "histogram_filter_cases = cases[['Confirmed', 'Recovered']]\n",
    "sns.histplot(data=histogram_filter_cases, bins=30, kde=True)"
   ]
  },
  {
   "cell_type": "code",
   "execution_count": null,
   "id": "aa64b0bc",
   "metadata": {},
   "outputs": [],
   "source": [
    "histogram_filter_cases = cases[['Deaths']]\n",
    "sns.histplot(data=histogram_filter_cases, bins=30, kde=True)"
   ]
  },
  {
   "cell_type": "markdown",
   "id": "b1cebecd",
   "metadata": {},
   "source": [
    "### 4.2 Bar Charts"
   ]
  },
  {
   "cell_type": "code",
   "execution_count": null,
   "id": "4e9e84cb",
   "metadata": {
    "scrolled": true
   },
   "outputs": [],
   "source": [
    "barchart_filter_cases = cases[['Confirmed', 'Recovered','Deaths']]\n",
    "sns.set_theme(style='whitegrid')\n",
    "sns.barplot(data=barchart_filter_cases)"
   ]
  },
  {
   "cell_type": "code",
   "execution_count": null,
   "id": "41a207cf",
   "metadata": {
    "scrolled": true
   },
   "outputs": [],
   "source": [
    "barchart_filter_vacc = vacc[['people_vaccinated', 'people_fully_vaccinated']]\n",
    "sns.set_theme(style='whitegrid')\n",
    "sns.barplot(data=barchart_filter_vacc)"
   ]
  },
  {
   "cell_type": "markdown",
   "id": "daaf8db1",
   "metadata": {},
   "source": [
    "### 4.3 Line Plots "
   ]
  },
  {
   "cell_type": "markdown",
   "id": "607facb3",
   "metadata": {},
   "source": [
    "#### Getting Time Series Data\n",
    "Before obtaining Line Plots we first extract the time series data. This is done by\n",
    "- Grouping by Date\n",
    "- Aggregating Confirmed, Deaths and Recovered by Sum"
   ]
  },
  {
   "cell_type": "code",
   "execution_count": null,
   "id": "c06b6d83",
   "metadata": {},
   "outputs": [],
   "source": [
    "# Cumulative Time Series (Add on to previous date's cases)\n",
    "cum_timeseries = cases.groupby(['Date']).agg(Confirmed = ('Confirmed', 'sum'), Deaths = ('Deaths', 'sum'), Recovered = ('Recovered', 'sum'))\n",
    "\n",
    "# Delta Time series (Cases on a particular day)\n",
    "delta_timeseries = cum_timeseries.diff()"
   ]
  },
  {
   "cell_type": "code",
   "execution_count": null,
   "id": "8a99d7a4",
   "metadata": {},
   "outputs": [],
   "source": [
    "if not os.path.exists('./cleaned_datasets/india'):\n",
    "    os.makedirs('./cleaned_datasets/india')\n",
    "\n",
    "cum_timeseries.to_csv('./cleaned_datasets/india/cum_cases_india.csv')\n",
    "delta_timeseries.to_csv('./cleaned_datasets/india/daily_cases_india.csv')"
   ]
  },
  {
   "cell_type": "markdown",
   "id": "826a49db",
   "metadata": {},
   "source": [
    "#### Plots"
   ]
  },
  {
   "cell_type": "markdown",
   "id": "31a1a587",
   "metadata": {},
   "source": [
    "**1. Confirmed Cases**"
   ]
  },
  {
   "cell_type": "markdown",
   "id": "9980958b",
   "metadata": {},
   "source": [
    "1.1 Cumulative confirmed cases"
   ]
  },
  {
   "cell_type": "code",
   "execution_count": null,
   "id": "c14bb2c9",
   "metadata": {},
   "outputs": [],
   "source": [
    "cum_timeseries.Confirmed.plot(figsize=(8, 8))"
   ]
  },
  {
   "cell_type": "markdown",
   "id": "615f0536",
   "metadata": {},
   "source": [
    "1.2 Daily confirmed cases"
   ]
  },
  {
   "cell_type": "code",
   "execution_count": null,
   "id": "335cc2b4",
   "metadata": {},
   "outputs": [],
   "source": [
    "delta_timeseries.Confirmed.plot(figsize=(8, 8))\n",
    "fig = plt.gcf()\n",
    "plt.ylabel('Confirmed cases')\n",
    "fig.savefig('figures/india_cases/daily_cases.eps', format='eps', bbox_inches='tight')"
   ]
  },
  {
   "cell_type": "markdown",
   "id": "9e54fa0d",
   "metadata": {},
   "source": [
    "**2. Deaths**"
   ]
  },
  {
   "cell_type": "markdown",
   "id": "d5e592d3",
   "metadata": {},
   "source": [
    "2.1 Cumulative Deaths"
   ]
  },
  {
   "cell_type": "code",
   "execution_count": null,
   "id": "f31bb6cc",
   "metadata": {},
   "outputs": [],
   "source": [
    "cum_timeseries.Deaths.plot(figsize=(8, 8))"
   ]
  },
  {
   "cell_type": "markdown",
   "id": "95112d9d",
   "metadata": {},
   "source": [
    "2.1 Cumulative Deaths"
   ]
  },
  {
   "cell_type": "code",
   "execution_count": null,
   "id": "3e9c2298",
   "metadata": {},
   "outputs": [],
   "source": [
    "delta_timeseries.Deaths.plot(figsize=(8, 8))"
   ]
  },
  {
   "cell_type": "markdown",
   "id": "88d38f0f",
   "metadata": {},
   "source": [
    "**3. Recovered**    \n",
    "***NOTE:*** Recovered data is only available upto `2021-08-04` and is missing after that date. So the plot has been done only considering dates before `2021-08-05`, after cleaning the data"
   ]
  },
  {
   "cell_type": "code",
   "execution_count": null,
   "id": "02e9bd23",
   "metadata": {},
   "outputs": [],
   "source": [
    "daily_vacc.Total_Doses.plot(figsize=(8, 8))\n",
    "fig = plt.gcf()\n",
    "plt.ylabel('Daily Doses')\n",
    "fig.savefig('figures/india_vaccines/daily_doses.eps', format='eps', bbox_inches='tight')"
   ]
  },
  {
   "cell_type": "code",
   "execution_count": null,
   "id": "18f076b3",
   "metadata": {},
   "outputs": [],
   "source": [
    "# Trimming off NaNs in Recovered Column after 2021-08-04 and then getting aggregate count by date\n",
    "trim_df = cases['Date'] < '2021-08-05'\n",
    "trim_cases = cases.loc[trim_df] \n",
    "rec_cum_timeseries = trim_cases.groupby(['Date']).agg(Recovered = ('Recovered', 'sum'))"
   ]
  },
  {
   "cell_type": "code",
   "execution_count": null,
   "id": "2f9369f3",
   "metadata": {},
   "outputs": [],
   "source": [
    "rec_cum_timeseries.Recovered.plot(figsize=(8, 8))"
   ]
  },
  {
   "cell_type": "code",
   "execution_count": null,
   "id": "2e6d9996",
   "metadata": {},
   "outputs": [],
   "source": [
    "rec_delta_timeseries = rec_cum_timeseries.diff()\n",
    "rec_delta_timeseries.Recovered.plot(figsize=(8, 8))"
   ]
  },
  {
   "cell_type": "code",
   "execution_count": null,
   "id": "5f8f4cbb",
   "metadata": {},
   "outputs": [],
   "source": [
    "cum_vacc.to_csv('./cleaned_datasets/india/cum_vacc_india.csv')\n",
    "daily_vacc.to_csv('./cleaned_datasets/india/daily_vacc_india.csv')"
   ]
  },
  {
   "cell_type": "markdown",
   "id": "239c06ec",
   "metadata": {},
   "source": [
    "### 4.4 PCA"
   ]
  },
  {
   "cell_type": "markdown",
   "id": "3328b810",
   "metadata": {},
   "source": [
    "#### 4.1 Convert categorical columns to numerical"
   ]
  },
  {
   "cell_type": "markdown",
   "id": "30d65436",
   "metadata": {},
   "source": [
    "***\n",
    "<a id='Correlation'></a>\n",
    "\n",
    "## 5. Correlation\n",
    "\n",
    "- Find the correlation matrix for `cases` and `vacc` to see if any attributes are strongly correlated (we take a threshold of 80%)\n",
    "- We see if the correlation is meaningful, or indicative of excessive attributes"
   ]
  },
  {
   "cell_type": "markdown",
   "id": "6fe269b0",
   "metadata": {},
   "source": [
    "### 5.1 Correlation for `cases`"
   ]
  },
  {
   "cell_type": "code",
   "execution_count": null,
   "id": "a1b63c39",
   "metadata": {},
   "outputs": [],
   "source": [
    "# Correlation matrix\n",
    "corr_cases = cases.corr()\n",
    "\n",
    "# Generate a mask for the upper triangle\n",
    "mask = np.triu(np.ones_like(corr_cases, dtype=bool))\n",
    "\n",
    "# Set up the matplotlib figure\n",
    "f, ax = plt.subplots(figsize=(10, 10))\n",
    "\n",
    "sns.heatmap(corr_cases, mask=mask, center=0, square=True, annot=True)"
   ]
  },
  {
   "cell_type": "markdown",
   "id": "b927d285",
   "metadata": {},
   "source": [
    "### Observations - `cases`\n",
    "\n",
    "1. We observe that `Deaths` and `Confirmed` are stronly positively correlated with a correlation coefficient of `0.91`\n",
    "2. We also observe that `Deaths` and `Recovered` are stronly positively correlated with a correlation coefficient of `0.92`\n",
    "3. Finally, we observe that `Recovered` and `Confirmed` are stronly positively correlated with a correlation coefficient of `1`\n",
    "4. There is no strong negative correlation between any of the attributes\n",
    "\n",
    "These observations are consistent with the expectation that as daily case numbers rise, recovered numbers and death counts rise"
   ]
  },
  {
   "cell_type": "markdown",
   "id": "714a9940",
   "metadata": {},
   "source": [
    "### 5.2 Correlation for `vacc`"
   ]
  },
  {
   "cell_type": "code",
   "execution_count": null,
   "id": "de8583b0",
   "metadata": {},
   "outputs": [],
   "source": [
    "# Correlation matrix\n",
    "corr_vacc = vacc.corr()\n",
    "\n",
    "# Generate a mask for the upper triangle\n",
    "mask = np.triu(np.ones_like(corr_vacc, dtype=bool))\n",
    "\n",
    "# Set up the matplotlib figure\n",
    "f, ax = plt.subplots(figsize=(15, 15))\n",
    "\n",
    "sns.heatmap(corr_vacc, mask=mask, center=0, square=True, annot=True)"
   ]
  },
  {
   "cell_type": "markdown",
   "id": "5910db73",
   "metadata": {},
   "source": [
    "### Observations - `vacc`\n",
    "\n",
    "Almost all the attributes are strongly positively correlated. This makes intuitive sense as many of the attributes are subsets of the total doses administered in a single day."
   ]
  },
  {
   "cell_type": "markdown",
   "id": "fa8064ad",
   "metadata": {},
   "source": [
    "***\n",
    "<a id='Preprocessing'></a>\n",
    "## 6. Preprocessing\n",
    "\n",
    "1. Continuum cubic spline curve interpolation"
   ]
  },
  {
   "cell_type": "markdown",
   "id": "ed00f895",
   "metadata": {},
   "source": [
    "### 6.1  Contituum cubic spline curve interpolation on 7-day average\n",
    "\n",
    "- The 7-day average for total daily number of cases is calculated\n",
    "- The values are then interpolated using a cubic spline curve\n",
    "- This is done to create a continuous function out of discrete points\n",
    "- The derivatives of the CS curve are plotted for smoothed out `Confirmed`, `Deaths` and `Recovered`"
   ]
  },
  {
   "cell_type": "markdown",
   "id": "a2e85ffd",
   "metadata": {},
   "source": [
    "#### 6.1.1 Seven-day average of daily confirmed cases"
   ]
  },
  {
   "cell_type": "code",
   "execution_count": null,
   "id": "2c49ff19",
   "metadata": {},
   "outputs": [],
   "source": [
    "# Find 7 day average of confirmed cases from delta_timeseries\n",
    "\n",
    "confirmed_7_day = delta_timeseries.Confirmed.rolling(7, min_periods=1).mean()\n",
    "confirmed_7_day = confirmed_7_day.reset_index()\n",
    "\n",
    "confirmed_7_day"
   ]
  },
  {
   "cell_type": "markdown",
   "id": "33b52d4e",
   "metadata": {},
   "source": [
    "#### Lineplot of smoothed (7-day-average) confirmed cases"
   ]
  },
  {
   "cell_type": "code",
   "execution_count": null,
   "id": "f6eb5a5a",
   "metadata": {},
   "outputs": [],
   "source": [
    "confirmed_7_day.plot(x='Date', figsize=(8, 8))"
   ]
  },
  {
   "cell_type": "markdown",
   "id": "f9867b3b",
   "metadata": {},
   "source": [
    "#### Cubic Spline Curve Interpolation"
   ]
  },
  {
   "cell_type": "code",
   "execution_count": null,
   "id": "e48a21db",
   "metadata": {
    "scrolled": true
   },
   "outputs": [],
   "source": [
    "confirmed_7_day = confirmed_7_day.loc[confirmed_7_day['Confirmed'].notnull()]\n",
    "confirmed_7_day['Date_delta'] = (pd.to_datetime(confirmed_7_day['Date']) - pd.to_datetime(confirmed_7_day['Date']).min())  / np.timedelta64(1,'D')\n",
    "\n",
    "cs_confirmed = CubicSpline(confirmed_7_day.Date_delta, confirmed_7_day.Confirmed)"
   ]
  },
  {
   "cell_type": "markdown",
   "id": "e9a3f579",
   "metadata": {},
   "source": [
    "#### Plot of DC (Daily Confirmed)"
   ]
  },
  {
   "cell_type": "code",
   "execution_count": null,
   "id": "8f596755",
   "metadata": {},
   "outputs": [],
   "source": [
    "fig, ax = plt.subplots(figsize=(8, 8))\n",
    "\n",
    "ax.plot(confirmed_7_day['Date_delta'], cs_confirmed(confirmed_7_day['Date_delta']), label='Daily cases (DC)')"
   ]
  },
  {
   "cell_type": "markdown",
   "id": "f5d41657",
   "metadata": {},
   "source": [
    "#### Plot of DC' (First derivative of Daily Confirmed)"
   ]
  },
  {
   "cell_type": "code",
   "execution_count": null,
   "id": "918b6ab5",
   "metadata": {},
   "outputs": [],
   "source": [
    "fig, ax = plt.subplots(figsize=(8, 8))\n",
    "\n",
    "ax.plot(confirmed_7_day['Date_delta'], cs_confirmed(confirmed_7_day['Date_delta'], 1), label='First derivative of DC')"
   ]
  },
  {
   "cell_type": "markdown",
   "id": "3d0d4e8c",
   "metadata": {},
   "source": [
    "#### 6.1.2 Seven-day average of daily deaths"
   ]
  },
  {
   "cell_type": "code",
   "execution_count": null,
   "id": "14e8b474",
   "metadata": {},
   "outputs": [],
   "source": [
    "# Find 7 day average of deaths from delta_timeseries\n",
    "\n",
    "deaths_7_day = delta_timeseries.Deaths.rolling(7, min_periods=1).mean()\n",
    "deaths_7_day = deaths_7_day.reset_index()\n",
    "\n",
    "deaths_7_day"
   ]
  },
  {
   "cell_type": "markdown",
   "id": "8ecb3b10",
   "metadata": {},
   "source": [
    "#### Lineplot of smoothed (7-day-average) deaths"
   ]
  },
  {
   "cell_type": "code",
   "execution_count": null,
   "id": "5fde3101",
   "metadata": {},
   "outputs": [],
   "source": [
    "deaths_7_day.plot(x='Date', figsize=(8, 8))"
   ]
  },
  {
   "cell_type": "markdown",
   "id": "cd78a03f",
   "metadata": {},
   "source": [
    "#### Cubic Spline Curve Interpolation"
   ]
  },
  {
   "cell_type": "code",
   "execution_count": null,
   "id": "04183473",
   "metadata": {},
   "outputs": [],
   "source": [
    "deaths_7_day = deaths_7_day.loc[deaths_7_day['Deaths'].notnull()]\n",
    "deaths_7_day['Date_delta'] = (pd.to_datetime(deaths_7_day['Date']) - pd.to_datetime(deaths_7_day['Date']).min())  / np.timedelta64(1,'D')\n",
    "\n",
    "cs_deaths = CubicSpline(deaths_7_day.Date_delta, deaths_7_day.Deaths)"
   ]
  },
  {
   "cell_type": "markdown",
   "id": "64590bb4",
   "metadata": {},
   "source": [
    "#### Plot of DD (Daily Deaths)"
   ]
  },
  {
   "cell_type": "code",
   "execution_count": null,
   "id": "0422feae",
   "metadata": {},
   "outputs": [],
   "source": [
    "fig, ax = plt.subplots(figsize=(8, 8))\n",
    "\n",
    "ax.plot(deaths_7_day['Date_delta'], cs_deaths(deaths_7_day['Date_delta']), label='Daily Deaths (DD)')"
   ]
  },
  {
   "cell_type": "markdown",
   "id": "bc582bd5",
   "metadata": {},
   "source": [
    "#### Plot of DD' (First derivative of DD)"
   ]
  },
  {
   "cell_type": "code",
   "execution_count": null,
   "id": "491c946c",
   "metadata": {
    "scrolled": true
   },
   "outputs": [],
   "source": [
    "fig, ax = plt.subplots(figsize=(8, 8))\n",
    "\n",
    "ax.plot(deaths_7_day['Date_delta'], cs_deaths(deaths_7_day['Date_delta'], 1), label='First derivative of DD')"
   ]
  },
  {
   "cell_type": "markdown",
   "id": "61bcf2d7",
   "metadata": {},
   "source": [
    "#### 6.1.3 Seven-day average of daily recoveries"
   ]
  },
  {
   "cell_type": "code",
   "execution_count": null,
   "id": "f654b148",
   "metadata": {},
   "outputs": [],
   "source": [
    "# Find 7 day average of recovered cases from delta_timeseries\n",
    "\n",
    "rec_7_day = rec_delta_timeseries.Recovered.rolling(7, min_periods=1).mean()\n",
    "rec_7_day = rec_7_day.reset_index()\n",
    "\n",
    "rec_7_day"
   ]
  },
  {
   "cell_type": "markdown",
   "id": "06e3cff9",
   "metadata": {},
   "source": [
    "#### Lineplot of smoothed (7-day-average) recoveries"
   ]
  },
  {
   "cell_type": "code",
   "execution_count": null,
   "id": "cce8be13",
   "metadata": {},
   "outputs": [],
   "source": [
    "rec_7_day.plot(x='Date', figsize=(8, 8))"
   ]
  },
  {
   "cell_type": "markdown",
   "id": "7858650b",
   "metadata": {},
   "source": [
    "#### Cubic Spline Curve Interpolation"
   ]
  },
  {
   "cell_type": "code",
   "execution_count": null,
   "id": "927f06aa",
   "metadata": {},
   "outputs": [],
   "source": [
    "rec_7_day = rec_7_day.loc[rec_7_day['Recovered'].notnull()]\n",
    "rec_7_day['Date_delta'] = (pd.to_datetime(rec_7_day['Date']) - pd.to_datetime(rec_7_day['Date']).min())  / np.timedelta64(1,'D')\n",
    "\n",
    "cs_rec = CubicSpline(rec_7_day.Date_delta, rec_7_day.Recovered)"
   ]
  },
  {
   "cell_type": "markdown",
   "id": "d3b2a62b",
   "metadata": {},
   "source": [
    "#### Plot of DR (Daily Recoveries)"
   ]
  },
  {
   "cell_type": "code",
   "execution_count": null,
   "id": "75a46337",
   "metadata": {},
   "outputs": [],
   "source": [
    "fig, ax = plt.subplots(figsize=(8, 8))\n",
    "\n",
    "ax.plot(rec_7_day['Date_delta'], cs_rec(rec_7_day['Date_delta']), label='Daily Recoveries (DR)')"
   ]
  },
  {
   "cell_type": "markdown",
   "id": "4c7eb7d0",
   "metadata": {},
   "source": [
    "#### Plot of DR' (First derivative of DR)"
   ]
  },
  {
   "cell_type": "code",
   "execution_count": null,
   "id": "e80a4e1e",
   "metadata": {},
   "outputs": [],
   "source": [
    "fig, ax = plt.subplots(figsize=(8, 8))\n",
    "\n",
    "ax.plot(rec_7_day['Date_delta'], cs_rec(rec_7_day['Date_delta'], 1), label='First derivative of DR')"
   ]
  },
  {
   "cell_type": "markdown",
   "id": "dbf1388b",
   "metadata": {},
   "source": [
    "***\n",
    "<a id='Conclusion'></a>\n",
    "## 7. Conclusion \n",
    "\n",
    "- How many rows and attributes?\n",
    "    - Size of cases in india is: `(21581, 21)`.\n",
    "    - Size of vaccinations in india is: `(351, 8)`.\n",
    "- How many missing data and outliers?\n",
    "    - `187481` missing elements for cases.\n",
    "    - `351` missing elements for vaccines.\n",
    "- Any inconsistent, incomplete, duplicate or incorrect data?\n",
    "    - All values in cases and vaccines are unique.\n",
    "    - Cases in india contains `21581` incomplete rows.\n",
    "    - Vaccinations in india contains `351` incomplete rows.\n",
    "- Are the variables correlated to each other?\n",
    "    - The `Recovered`, `Confirmed` and `Deaths` columns in `cases` are strongly positively correlated.\n",
    "    - Almost all attributes in `vacc` are strongly positively correlated.\n",
    "\n",
    "- Are any of the preprocessing techniques needed: rolling average, continuum cubic spline curve, dimensionality reduction, range transformation, standardization, etc.?\n",
    "    - Using the 7-day rolling average of the daily `Confirmed`, `Deaths` and `Recovered` shows a smoother plot with less noise.\n",
    "    - Calculating the continuum cubic spline curve allows us to differentiate the function and find the instantaneous slope.\n",
    "\n",
    "<!-- - Does PCA help visualize the data? Do we get any insights from histograms/bar charts/line plots, etc.? -->"
   ]
  },
  {
   "cell_type": "code",
   "execution_count": null,
   "id": "2e428958",
   "metadata": {},
   "outputs": [],
   "source": []
  }
 ],
 "metadata": {
  "interpreter": {
   "hash": "c5770589393bb4cc1bcef6443da766cd4406ee5c470484c1f8aa1e37ee4da54c"
  },
  "kernelspec": {
   "display_name": "Python 3",
   "language": "python",
   "name": "python3"
  },
  "language_info": {
   "codemirror_mode": {
    "name": "ipython",
    "version": 3
   },
   "file_extension": ".py",
   "mimetype": "text/x-python",
   "name": "python",
   "nbconvert_exporter": "python",
   "pygments_lexer": "ipython3",
   "version": "3.7.3"
  }
 },
 "nbformat": 4,
 "nbformat_minor": 5
}
