{
 "cells": [
  {
   "cell_type": "markdown",
   "metadata": {},
   "source": [
    "# Data Sourcing and Cleaning\n",
    "\n",
    "## Data Sources:\n",
    "\n",
    "1. Daily state-wise COVID-19 cases for India: [COVID-19 Data Repository by the Center for Systems Science and Engineering (CSSE) at Johns Hopkins University](https://github.com/CSSEGISandData/COVID-19/tree/ef15d99458d44aa9bc03c0726c609643e6f90d3b)\n",
    "\n",
    "2. Daily state-wise COVID-19 vaccinations for India: \n",
    "\n",
    "3. Daily state-wise COVID-19 cases for USA: todo\n",
    "\n",
    "4. Daily state-wise COVID-19 vaccination for USA: [Data on COVID-19 (coronavirus) vaccinations by Our World in Data](https://github.com/owid/covid-19-data/tree/master/public/data/vaccinations)"
   ]
  },
  {
   "cell_type": "code",
   "execution_count": 12,
   "metadata": {},
   "outputs": [],
   "source": [
    "import os\n",
    "from datetime import datetime\n",
    "import pandas as pd"
   ]
  },
  {
   "cell_type": "markdown",
   "metadata": {},
   "source": [
    "## 1. Getting daily state-wise cases for India\n",
    "\n",
    "- We have linked the repository [COVID-19 Data Repository by the Center for Systems Science and Engineering (CSSE) at Johns Hopkins University](https://github.com/CSSEGISandData/COVID-19/tree/ef15d99458d44aa9bc03c0726c609643e6f90d3b) as a submodule to our repository\n",
    "- The data for all countries (aside from USA) are stored under `COVID-19/csse_covid_19_data/csse_covid_19_daily_reports` as `.csv` files, with one for every date\n",
    "- The files are named in the `mm-dd-yyyy.csv` format\n",
    "- We have filtered out rows for India from `01-22-2020.csv` to `10-12-2021.csv`\n",
    "- Some files use the column name `Country/Region` while others use the column name `Country_Region` for the country in which the cases were recorded\n",
    "- A `Date` column has been added\n",
    "- The aggregated time-series data from all the files are stored in a single file `india_cases_<last_case_date_in_dd-mm-yyyy>.csv`"
   ]
  },
  {
   "cell_type": "code",
   "execution_count": 13,
   "metadata": {},
   "outputs": [],
   "source": [
    "# Store the names of all the daily case files and sort by date\n",
    "daily_reports = filter(lambda x: x.endswith('csv'), os.listdir(\"./COVID-19/csse_covid_19_data/csse_covid_19_daily_reports\"))\n",
    "sorted_files = sorted(daily_reports, key=lambda file: datetime.strptime(file, '%m-%d-%Y.csv'))\n",
    "\n",
    "india_cases = pd.DataFrame()\n",
    "\n",
    "\n",
    "# Aggregate only for India and store in india_cases_<last_case_date>.csv\n",
    "for file in sorted_files:\n",
    "    filename = os.path.join(\"./COVID-19/csse_covid_19_data/csse_covid_19_daily_reports\", file)\n",
    "\n",
    "    temp_df = pd.read_csv(filename)\n",
    "\n",
    "    # Add a column for the date\n",
    "    temp_df['Date'] = datetime.strptime(file, '%m-%d-%Y.csv')\n",
    "    \n",
    "    # Make the column name Country_Region for consistency\n",
    "    if 'Country/Region' in temp_df.columns:\n",
    "        temp_df.rename(columns = {'Country/Region':'Country_Region'}, inplace = True)\n",
    "    \n",
    "    # pd.concat is faster than DataFrame.append when dealing with empty DataFrames\n",
    "    india_cases = pd.concat([india_cases, temp_df[temp_df['Country_Region'] == 'India']])\n",
    "\n",
    "india_cases.reset_index(drop=True, inplace=True)\n",
    "\n",
    "# Find the last date for which cases were recorded from the sorted list of files\n",
    "last_case_date = datetime.strptime(sorted_files[-1], '%m-%d-%Y.csv').strftime('%d-%m-%Y')\n",
    "\n",
    "# Store the aggregated time-series data from all the daily case files into a single file\n",
    "if not os.path.exists('./raw_data_%s' % last_case_date):\n",
    "    os.makedirs('./raw_data_%s' % last_case_date)\n",
    "india_cases.to_csv('./raw_data_%s/india_cases_%s.csv' % (last_case_date, last_case_date))"
   ]
  },
  {
   "cell_type": "markdown",
   "metadata": {},
   "source": [
    "## 2. Getting daily state-wise vaccinations for India (old)\n",
    "\n",
    "- We have obtained the data from [COVID-19 India APIs - cowin_vaccine_data_statewise](https://data.covid19india.org) (raw data source [here](http://data.covid19india.org/csv/latest/cowin_vaccine_data_statewise.csv))\n",
    "- The csv file contains multiple `NaN` entries for `Total Doses Administered` on future dates, as all dates of a month are stored as empty rows at the beginning of the month\n",
    "- The data are stored in a single file `india_vaccines_<last_vaccine_date_in_dd-mm-yyyy>_old.csv`"
   ]
  },
  {
   "cell_type": "code",
   "execution_count": 14,
   "metadata": {},
   "outputs": [],
   "source": [
    "# Load the csv into memory\n",
    "\n",
    "# csv_url = 'http://data.covid19india.org/csv/latest/cowin_vaccine_data_statewise.csv'\n",
    "# india_vaccines = pd.read_csv(csv_url)\n",
    "\n",
    "# # Drop the columns where no doses have been administered (includes future dates)\n",
    "# india_vaccines = india_vaccines[india_vaccines['Total Doses Administered'].notna()]\n",
    "\n",
    "# # Reformat the date and sort\n",
    "# india_vaccines['Updated On'] = pd.to_datetime(india_vaccines['Updated On'], format='%d/%m/%Y')\n",
    "# india_vaccines.sort_values(by=['Updated On', 'State'], inplace=True, ignore_index=True)\n",
    "\n",
    "# # Store into a csv file\n",
    "# last_date_india_vaccines = india_vaccines['Updated On'].max().strftime('%d-%m-%Y')\n",
    "\n",
    "# if not os.path.exists('./raw_data_%s' % last_date_india_vaccines):\n",
    "#     os.makedirs('./raw_data_%s' % last_date_india_vaccines)\n",
    "\n",
    "# india_vaccines.to_csv('./raw_data_%s/india_vaccines_%s_old.csv' % (last_date_india_vaccines, last_date_india_vaccines))"
   ]
  },
  {
   "cell_type": "markdown",
   "metadata": {},
   "source": [
    "## 2. Getting daily daily vaccinations for India\n",
    "\n",
    "- We have obtained the data from [Data on COVID-19 (coronavirus) vaccinations by Our World in Data](https://github.com/owid/covid-19-data/tree/master/public/data/vaccinations/country_data/India.csv) (raw data source [here](https://raw.githubusercontent.com/owid/covid-19-data/master/public/data/vaccinations/country_data/India.csv))\n",
    "- There is no statewise data in this source, but we do not require it\n",
    "- The data are sorted by date and stored in a single file `india_vaccines_<last_vaccine_date_in_dd-mm-yyyy>.csv`"
   ]
  },
  {
   "cell_type": "code",
   "execution_count": 19,
   "metadata": {},
   "outputs": [],
   "source": [
    "# Fetch the daily India vaccination data\n",
    "india_vaccines = pd.read_csv('https://raw.githubusercontent.com/owid/covid-19-data/master/public/data/vaccinations/country_data/India.csv')\n",
    "\n",
    "# reformat the date and sort\n",
    "india_vaccines['date'] = pd.to_datetime(india_vaccines['date'], format='%Y-%m-%d')\n",
    "india_vaccines.sort_values(by=['date'], inplace=True, ignore_index=True)\n",
    "\n",
    "# Store into a csv file\n",
    "last_date_india_vaccines = india_vaccines['date'].max().strftime('%d-%m-%Y')\n",
    "\n",
    "if not os.path.exists('./raw_data_%s' % last_date_india_vaccines):\n",
    "    os.makedirs('./raw_data_%s' % last_date_india_vaccines)\n",
    "\n",
    "india_vaccines.to_csv('./raw_data_%s/india_vaccines_%s.csv' % (last_date_india_vaccines, last_date_india_vaccines))"
   ]
  },
  {
   "cell_type": "markdown",
   "metadata": {},
   "source": [
    "## 3. Getting daily state-wise cases for USA\n",
    "\n",
    "- We have linked the repository [COVID-19 Data Repository by the Center for Systems Science and Engineering (CSSE) at Johns Hopkins University](https://github.com/CSSEGISandData/COVID-19/tree/ef15d99458d44aa9bc03c0726c609643e6f90d3b) as a submodule to our repository\n",
    "- The data for USA are stored under `COVID-19/csse_covid_19_data/csse_covid_19_daily_reports_us` as `.csv` files, with one for every date\n",
    "- The files are named in the `mm-dd-yyyy.csv` format\n",
    "- We have aggregated and sorted data from all dates\n",
    "- A `Date` column has been added\n",
    "- The aggregated time-series data from all the files are stored in a single file `india_cases_<last_case_date_in_dd-mm-yyyy>.csv`"
   ]
  },
  {
   "cell_type": "code",
   "execution_count": 16,
   "metadata": {},
   "outputs": [],
   "source": [
    "# Store the names of all the daily case files and sort by date\n",
    "daily_reports_usa = filter(lambda x: x.endswith('csv'), os.listdir(\"./COVID-19/csse_covid_19_data/csse_covid_19_daily_reports_us\"))\n",
    "sorted_files_usa = sorted(daily_reports_usa, key=lambda file: datetime.strptime(file, '%m-%d-%Y.csv'))\n",
    "\n",
    "usa_cases = pd.DataFrame()\n",
    "\n",
    "\n",
    "# Aggregate only for India and store in india_cases_<last_case_date>.csv\n",
    "for file in sorted_files_usa:\n",
    "    filename = os.path.join(\"./COVID-19/csse_covid_19_data/csse_covid_19_daily_reports_us\", file)\n",
    "\n",
    "    temp_df = pd.read_csv(filename)\n",
    "\n",
    "    # Add a column for the date\n",
    "    temp_df['Date'] = datetime.strptime(file, '%m-%d-%Y.csv')\n",
    "    \n",
    "    # pd.concat is faster than DataFrame.append when dealing with empty DataFrames\n",
    "    usa_cases = pd.concat([usa_cases, temp_df])\n",
    "\n",
    "usa_cases.reset_index(drop=True, inplace=True)\n",
    "\n",
    "# Find the last date for which cases were recorded from the sorted list of files\n",
    "last_case_date_usa = datetime.strptime(sorted_files[-1], '%m-%d-%Y.csv').strftime('%d-%m-%Y')\n",
    "\n",
    "# Store the aggregated time-series data from all the daily case files into a single file\n",
    "if not os.path.exists('./raw_data_%s' % last_case_date_usa):\n",
    "    os.makedirs('./raw_data_%s' % last_case_date_usa)\n",
    "\n",
    "usa_cases.to_csv('./raw_data_%s/usa_cases_%s.csv' % (last_case_date_usa, last_case_date_usa))"
   ]
  },
  {
   "cell_type": "markdown",
   "metadata": {},
   "source": [
    "## 4. Getting daily state-wise vaccinations for USA\n",
    "\n",
    "- We have used data from [Data on COVID-19 (coronavirus) vaccinations by Our World in Data](https://github.com/owid/covid-19-data/tree/master/public/data/vaccinations) (raw data source [here](https://raw.githubusercontent.com/owid/covid-19-data/master/public/data/vaccinations/us_state_vaccinations.csv))\n",
    "- The rows are sorted by date and location and then stored in a single file `usa_vaccines_<last_vaccine_date_in_dd-mm-yyyy>.csv`"
   ]
  },
  {
   "cell_type": "code",
   "execution_count": 17,
   "metadata": {},
   "outputs": [],
   "source": [
    "# Fetch the daily USA vaccination data\n",
    "usa_vaccines = pd.read_csv('https://raw.githubusercontent.com/owid/covid-19-data/master/public/data/vaccinations/us_state_vaccinations.csv')\n",
    "\n",
    "# reformat the date and sort\n",
    "usa_vaccines['date'] = pd.to_datetime(usa_vaccines['date'], format='%Y-%m-%d')\n",
    "usa_vaccines.sort_values(by=['date', 'location'], inplace=True, ignore_index=True)\n",
    "\n",
    "# Store into a csv file\n",
    "last_date_usa_vaccines = usa_vaccines['date'].max().strftime('%d-%m-%Y')\n",
    "\n",
    "if not os.path.exists('./raw_data_%s' % last_date_usa_vaccines):\n",
    "    os.makedirs('./raw_data_%s' % last_date_usa_vaccines)\n",
    "\n",
    "usa_vaccines.to_csv('./raw_data_%s/usa_vaccines_%s.csv' % (last_date_usa_vaccines, last_date_usa_vaccines))"
   ]
  },
  {
   "cell_type": "code",
   "execution_count": null,
   "metadata": {},
   "outputs": [],
   "source": []
  }
 ],
 "metadata": {
  "interpreter": {
   "hash": "c5770589393bb4cc1bcef6443da766cd4406ee5c470484c1f8aa1e37ee4da54c"
  },
  "kernelspec": {
   "display_name": "Python 3",
   "language": "python",
   "name": "python3"
  },
  "language_info": {
   "codemirror_mode": {
    "name": "ipython",
    "version": 3
   },
   "file_extension": ".py",
   "mimetype": "text/x-python",
   "name": "python",
   "nbconvert_exporter": "python",
   "pygments_lexer": "ipython3",
   "version": "3.7.3"
  }
 },
 "nbformat": 4,
 "nbformat_minor": 2
}
