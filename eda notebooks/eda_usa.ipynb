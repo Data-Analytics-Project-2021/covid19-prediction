{
 "cells": [
  {
   "cell_type": "markdown",
   "metadata": {},
   "source": [
    "# EDA USA"
   ]
  },
  {
   "cell_type": "markdown",
   "metadata": {},
   "source": [
    "## Overview\n",
    "This notebook contains **Exploratory Data Analysis** and **Visualization** for the cases and vaccinations in India.\n",
    "\n",
    "**Sections:**\n",
    "1. [Data Ingestion](#Data_Ingestion)\n",
    "2. [Summary Statistics](#Summary_Statistics)\n",
    "3. [Data Cleaning](#Data_Cleaning)\n",
    "4. [Visualization](#Visualization)\n",
    "5. [Correlation](#Correlation)\n",
    "6. [Preprocessing](#Preprocessing)\n",
    "7. [Conclusion](#Conclusion)"
   ]
  },
  {
   "cell_type": "markdown",
   "metadata": {},
   "source": [
    "***\n",
    "## Setup"
   ]
  },
  {
   "cell_type": "markdown",
   "metadata": {},
   "source": [
    "***NOTE***: Please install seaborn version >=  `0.11.0`. You could update your seaborn installation by running `pip install -U seaborn`"
   ]
  },
  {
   "cell_type": "code",
   "execution_count": 2,
   "metadata": {},
   "outputs": [],
   "source": [
    "import os\n",
    "from datetime import datetime\n",
    "import pandas as pd\n",
    "import seaborn as sns\n",
    "import matplotlib.pyplot as plt\n",
    "import numpy as np\n",
    "from scipy import stats"
   ]
  },
  {
   "cell_type": "markdown",
   "metadata": {},
   "source": [
    "***\n",
    "<a id='Data_Ingestion'></a>\n",
    "## 1. Data Ingestion"
   ]
  },
  {
   "cell_type": "markdown",
   "metadata": {},
   "source": [
    "### 1.1 Getting daily state-wise cases for USA"
   ]
  },
  {
   "cell_type": "code",
   "execution_count": 3,
   "metadata": {},
   "outputs": [
    {
     "data": {
      "text/html": [
       "<div>\n",
       "<style scoped>\n",
       "    .dataframe tbody tr th:only-of-type {\n",
       "        vertical-align: middle;\n",
       "    }\n",
       "\n",
       "    .dataframe tbody tr th {\n",
       "        vertical-align: top;\n",
       "    }\n",
       "\n",
       "    .dataframe thead th {\n",
       "        text-align: right;\n",
       "    }\n",
       "</style>\n",
       "<table border=\"1\" class=\"dataframe\">\n",
       "  <thead>\n",
       "    <tr style=\"text-align: right;\">\n",
       "      <th></th>\n",
       "      <th>Province_State</th>\n",
       "      <th>Country_Region</th>\n",
       "      <th>Last_Update</th>\n",
       "      <th>Lat</th>\n",
       "      <th>Long_</th>\n",
       "      <th>Confirmed</th>\n",
       "      <th>Deaths</th>\n",
       "      <th>Recovered</th>\n",
       "      <th>Active</th>\n",
       "      <th>FIPS</th>\n",
       "      <th>...</th>\n",
       "      <th>Mortality_Rate</th>\n",
       "      <th>UID</th>\n",
       "      <th>ISO3</th>\n",
       "      <th>Testing_Rate</th>\n",
       "      <th>Hospitalization_Rate</th>\n",
       "      <th>Date</th>\n",
       "      <th>Total_Test_Results</th>\n",
       "      <th>Case_Fatality_Ratio</th>\n",
       "      <th>Cases_28_Days</th>\n",
       "      <th>Deaths_28_Days</th>\n",
       "    </tr>\n",
       "  </thead>\n",
       "  <tbody>\n",
       "    <tr>\n",
       "      <th>0</th>\n",
       "      <td>Alabama</td>\n",
       "      <td>US</td>\n",
       "      <td>2020-04-12 23:18:15</td>\n",
       "      <td>32.3182</td>\n",
       "      <td>-86.9023</td>\n",
       "      <td>3667</td>\n",
       "      <td>93</td>\n",
       "      <td>NaN</td>\n",
       "      <td>3470.0</td>\n",
       "      <td>1.0</td>\n",
       "      <td>...</td>\n",
       "      <td>2.610160</td>\n",
       "      <td>84000001.0</td>\n",
       "      <td>USA</td>\n",
       "      <td>1265.075660</td>\n",
       "      <td>12.264945</td>\n",
       "      <td>2020-04-12</td>\n",
       "      <td>NaN</td>\n",
       "      <td>NaN</td>\n",
       "      <td>NaN</td>\n",
       "      <td>NaN</td>\n",
       "    </tr>\n",
       "    <tr>\n",
       "      <th>1</th>\n",
       "      <td>Alaska</td>\n",
       "      <td>US</td>\n",
       "      <td>2020-04-12 23:18:15</td>\n",
       "      <td>61.3707</td>\n",
       "      <td>-152.4044</td>\n",
       "      <td>272</td>\n",
       "      <td>8</td>\n",
       "      <td>66.0</td>\n",
       "      <td>264.0</td>\n",
       "      <td>2.0</td>\n",
       "      <td>...</td>\n",
       "      <td>2.941176</td>\n",
       "      <td>84000002.0</td>\n",
       "      <td>USA</td>\n",
       "      <td>1344.711576</td>\n",
       "      <td>11.397059</td>\n",
       "      <td>2020-04-12</td>\n",
       "      <td>NaN</td>\n",
       "      <td>NaN</td>\n",
       "      <td>NaN</td>\n",
       "      <td>NaN</td>\n",
       "    </tr>\n",
       "    <tr>\n",
       "      <th>2</th>\n",
       "      <td>Arizona</td>\n",
       "      <td>US</td>\n",
       "      <td>2020-04-12 23:18:15</td>\n",
       "      <td>33.7298</td>\n",
       "      <td>-111.4312</td>\n",
       "      <td>3542</td>\n",
       "      <td>115</td>\n",
       "      <td>NaN</td>\n",
       "      <td>3427.0</td>\n",
       "      <td>4.0</td>\n",
       "      <td>...</td>\n",
       "      <td>3.246753</td>\n",
       "      <td>84000004.0</td>\n",
       "      <td>USA</td>\n",
       "      <td>578.522286</td>\n",
       "      <td>NaN</td>\n",
       "      <td>2020-04-12</td>\n",
       "      <td>NaN</td>\n",
       "      <td>NaN</td>\n",
       "      <td>NaN</td>\n",
       "      <td>NaN</td>\n",
       "    </tr>\n",
       "    <tr>\n",
       "      <th>3</th>\n",
       "      <td>Arkansas</td>\n",
       "      <td>US</td>\n",
       "      <td>2020-04-12 23:18:15</td>\n",
       "      <td>34.9697</td>\n",
       "      <td>-92.3731</td>\n",
       "      <td>1280</td>\n",
       "      <td>27</td>\n",
       "      <td>367.0</td>\n",
       "      <td>1253.0</td>\n",
       "      <td>5.0</td>\n",
       "      <td>...</td>\n",
       "      <td>2.109375</td>\n",
       "      <td>84000005.0</td>\n",
       "      <td>USA</td>\n",
       "      <td>761.753354</td>\n",
       "      <td>10.156250</td>\n",
       "      <td>2020-04-12</td>\n",
       "      <td>NaN</td>\n",
       "      <td>NaN</td>\n",
       "      <td>NaN</td>\n",
       "      <td>NaN</td>\n",
       "    </tr>\n",
       "    <tr>\n",
       "      <th>4</th>\n",
       "      <td>California</td>\n",
       "      <td>US</td>\n",
       "      <td>2020-04-12 23:18:15</td>\n",
       "      <td>36.1162</td>\n",
       "      <td>-119.6816</td>\n",
       "      <td>22137</td>\n",
       "      <td>645</td>\n",
       "      <td>NaN</td>\n",
       "      <td>22155.0</td>\n",
       "      <td>6.0</td>\n",
       "      <td>...</td>\n",
       "      <td>2.812020</td>\n",
       "      <td>84000006.0</td>\n",
       "      <td>USA</td>\n",
       "      <td>485.423868</td>\n",
       "      <td>22.961176</td>\n",
       "      <td>2020-04-12</td>\n",
       "      <td>NaN</td>\n",
       "      <td>NaN</td>\n",
       "      <td>NaN</td>\n",
       "      <td>NaN</td>\n",
       "    </tr>\n",
       "    <tr>\n",
       "      <th>...</th>\n",
       "      <td>...</td>\n",
       "      <td>...</td>\n",
       "      <td>...</td>\n",
       "      <td>...</td>\n",
       "      <td>...</td>\n",
       "      <td>...</td>\n",
       "      <td>...</td>\n",
       "      <td>...</td>\n",
       "      <td>...</td>\n",
       "      <td>...</td>\n",
       "      <td>...</td>\n",
       "      <td>...</td>\n",
       "      <td>...</td>\n",
       "      <td>...</td>\n",
       "      <td>...</td>\n",
       "      <td>...</td>\n",
       "      <td>...</td>\n",
       "      <td>...</td>\n",
       "      <td>...</td>\n",
       "      <td>...</td>\n",
       "      <td>...</td>\n",
       "    </tr>\n",
       "    <tr>\n",
       "      <th>31855</th>\n",
       "      <td>Virginia</td>\n",
       "      <td>US</td>\n",
       "      <td>2021-10-13 04:31:30</td>\n",
       "      <td>37.7693</td>\n",
       "      <td>-78.1700</td>\n",
       "      <td>895619</td>\n",
       "      <td>13219</td>\n",
       "      <td>NaN</td>\n",
       "      <td>NaN</td>\n",
       "      <td>51.0</td>\n",
       "      <td>...</td>\n",
       "      <td>NaN</td>\n",
       "      <td>84000051.0</td>\n",
       "      <td>USA</td>\n",
       "      <td>111222.504455</td>\n",
       "      <td>NaN</td>\n",
       "      <td>2021-10-12</td>\n",
       "      <td>9493418.0</td>\n",
       "      <td>1.475962</td>\n",
       "      <td>NaN</td>\n",
       "      <td>NaN</td>\n",
       "    </tr>\n",
       "    <tr>\n",
       "      <th>31856</th>\n",
       "      <td>Washington</td>\n",
       "      <td>US</td>\n",
       "      <td>2021-10-13 04:31:30</td>\n",
       "      <td>47.4009</td>\n",
       "      <td>-121.4905</td>\n",
       "      <td>686417</td>\n",
       "      <td>8062</td>\n",
       "      <td>NaN</td>\n",
       "      <td>NaN</td>\n",
       "      <td>53.0</td>\n",
       "      <td>...</td>\n",
       "      <td>NaN</td>\n",
       "      <td>84000053.0</td>\n",
       "      <td>USA</td>\n",
       "      <td>129252.544980</td>\n",
       "      <td>NaN</td>\n",
       "      <td>2021-10-12</td>\n",
       "      <td>9842443.0</td>\n",
       "      <td>1.174505</td>\n",
       "      <td>NaN</td>\n",
       "      <td>NaN</td>\n",
       "    </tr>\n",
       "    <tr>\n",
       "      <th>31857</th>\n",
       "      <td>West Virginia</td>\n",
       "      <td>US</td>\n",
       "      <td>2021-10-13 04:31:30</td>\n",
       "      <td>38.4912</td>\n",
       "      <td>-80.9545</td>\n",
       "      <td>254648</td>\n",
       "      <td>3995</td>\n",
       "      <td>NaN</td>\n",
       "      <td>NaN</td>\n",
       "      <td>54.0</td>\n",
       "      <td>...</td>\n",
       "      <td>NaN</td>\n",
       "      <td>84000054.0</td>\n",
       "      <td>USA</td>\n",
       "      <td>226668.571272</td>\n",
       "      <td>NaN</td>\n",
       "      <td>2021-10-12</td>\n",
       "      <td>4062234.0</td>\n",
       "      <td>1.568832</td>\n",
       "      <td>NaN</td>\n",
       "      <td>NaN</td>\n",
       "    </tr>\n",
       "    <tr>\n",
       "      <th>31858</th>\n",
       "      <td>Wisconsin</td>\n",
       "      <td>US</td>\n",
       "      <td>2021-10-13 04:31:30</td>\n",
       "      <td>44.2685</td>\n",
       "      <td>-89.6165</td>\n",
       "      <td>844102</td>\n",
       "      <td>9101</td>\n",
       "      <td>NaN</td>\n",
       "      <td>NaN</td>\n",
       "      <td>55.0</td>\n",
       "      <td>...</td>\n",
       "      <td>NaN</td>\n",
       "      <td>84000055.0</td>\n",
       "      <td>USA</td>\n",
       "      <td>189778.450043</td>\n",
       "      <td>NaN</td>\n",
       "      <td>2021-10-12</td>\n",
       "      <td>11049725.0</td>\n",
       "      <td>1.078187</td>\n",
       "      <td>NaN</td>\n",
       "      <td>NaN</td>\n",
       "    </tr>\n",
       "    <tr>\n",
       "      <th>31859</th>\n",
       "      <td>Wyoming</td>\n",
       "      <td>US</td>\n",
       "      <td>2021-10-13 04:31:30</td>\n",
       "      <td>42.7560</td>\n",
       "      <td>-107.3025</td>\n",
       "      <td>95620</td>\n",
       "      <td>1080</td>\n",
       "      <td>NaN</td>\n",
       "      <td>NaN</td>\n",
       "      <td>56.0</td>\n",
       "      <td>...</td>\n",
       "      <td>NaN</td>\n",
       "      <td>84000056.0</td>\n",
       "      <td>USA</td>\n",
       "      <td>175247.728329</td>\n",
       "      <td>NaN</td>\n",
       "      <td>2021-10-12</td>\n",
       "      <td>1014262.0</td>\n",
       "      <td>1.129471</td>\n",
       "      <td>NaN</td>\n",
       "      <td>NaN</td>\n",
       "    </tr>\n",
       "  </tbody>\n",
       "</table>\n",
       "<p>31860 rows × 23 columns</p>\n",
       "</div>"
      ],
      "text/plain": [
       "      Province_State Country_Region          Last_Update      Lat     Long_  \\\n",
       "0            Alabama             US  2020-04-12 23:18:15  32.3182  -86.9023   \n",
       "1             Alaska             US  2020-04-12 23:18:15  61.3707 -152.4044   \n",
       "2            Arizona             US  2020-04-12 23:18:15  33.7298 -111.4312   \n",
       "3           Arkansas             US  2020-04-12 23:18:15  34.9697  -92.3731   \n",
       "4         California             US  2020-04-12 23:18:15  36.1162 -119.6816   \n",
       "...              ...            ...                  ...      ...       ...   \n",
       "31855       Virginia             US  2021-10-13 04:31:30  37.7693  -78.1700   \n",
       "31856     Washington             US  2021-10-13 04:31:30  47.4009 -121.4905   \n",
       "31857  West Virginia             US  2021-10-13 04:31:30  38.4912  -80.9545   \n",
       "31858      Wisconsin             US  2021-10-13 04:31:30  44.2685  -89.6165   \n",
       "31859        Wyoming             US  2021-10-13 04:31:30  42.7560 -107.3025   \n",
       "\n",
       "       Confirmed  Deaths  Recovered   Active  FIPS  ...  Mortality_Rate  \\\n",
       "0           3667      93        NaN   3470.0   1.0  ...        2.610160   \n",
       "1            272       8       66.0    264.0   2.0  ...        2.941176   \n",
       "2           3542     115        NaN   3427.0   4.0  ...        3.246753   \n",
       "3           1280      27      367.0   1253.0   5.0  ...        2.109375   \n",
       "4          22137     645        NaN  22155.0   6.0  ...        2.812020   \n",
       "...          ...     ...        ...      ...   ...  ...             ...   \n",
       "31855     895619   13219        NaN      NaN  51.0  ...             NaN   \n",
       "31856     686417    8062        NaN      NaN  53.0  ...             NaN   \n",
       "31857     254648    3995        NaN      NaN  54.0  ...             NaN   \n",
       "31858     844102    9101        NaN      NaN  55.0  ...             NaN   \n",
       "31859      95620    1080        NaN      NaN  56.0  ...             NaN   \n",
       "\n",
       "              UID  ISO3   Testing_Rate  Hospitalization_Rate        Date  \\\n",
       "0      84000001.0   USA    1265.075660             12.264945  2020-04-12   \n",
       "1      84000002.0   USA    1344.711576             11.397059  2020-04-12   \n",
       "2      84000004.0   USA     578.522286                   NaN  2020-04-12   \n",
       "3      84000005.0   USA     761.753354             10.156250  2020-04-12   \n",
       "4      84000006.0   USA     485.423868             22.961176  2020-04-12   \n",
       "...           ...   ...            ...                   ...         ...   \n",
       "31855  84000051.0   USA  111222.504455                   NaN  2021-10-12   \n",
       "31856  84000053.0   USA  129252.544980                   NaN  2021-10-12   \n",
       "31857  84000054.0   USA  226668.571272                   NaN  2021-10-12   \n",
       "31858  84000055.0   USA  189778.450043                   NaN  2021-10-12   \n",
       "31859  84000056.0   USA  175247.728329                   NaN  2021-10-12   \n",
       "\n",
       "       Total_Test_Results  Case_Fatality_Ratio Cases_28_Days  Deaths_28_Days  \n",
       "0                     NaN                  NaN           NaN             NaN  \n",
       "1                     NaN                  NaN           NaN             NaN  \n",
       "2                     NaN                  NaN           NaN             NaN  \n",
       "3                     NaN                  NaN           NaN             NaN  \n",
       "4                     NaN                  NaN           NaN             NaN  \n",
       "...                   ...                  ...           ...             ...  \n",
       "31855           9493418.0             1.475962           NaN             NaN  \n",
       "31856           9842443.0             1.174505           NaN             NaN  \n",
       "31857           4062234.0             1.568832           NaN             NaN  \n",
       "31858          11049725.0             1.078187           NaN             NaN  \n",
       "31859           1014262.0             1.129471           NaN             NaN  \n",
       "\n",
       "[31860 rows x 23 columns]"
      ]
     },
     "execution_count": 3,
     "metadata": {},
     "output_type": "execute_result"
    }
   ],
   "source": [
    "cases = pd.read_csv(\"../raw_datasets/usa_cases_12-10-2021.csv\", index_col=0)\n",
    "cases"
   ]
  },
  {
   "cell_type": "markdown",
   "metadata": {},
   "source": [
    "### 1.2  Getting daily state-wise vaccinations for USA"
   ]
  },
  {
   "cell_type": "code",
   "execution_count": 4,
   "metadata": {},
   "outputs": [
    {
     "data": {
      "text/html": [
       "<div>\n",
       "<style scoped>\n",
       "    .dataframe tbody tr th:only-of-type {\n",
       "        vertical-align: middle;\n",
       "    }\n",
       "\n",
       "    .dataframe tbody tr th {\n",
       "        vertical-align: top;\n",
       "    }\n",
       "\n",
       "    .dataframe thead th {\n",
       "        text-align: right;\n",
       "    }\n",
       "</style>\n",
       "<table border=\"1\" class=\"dataframe\">\n",
       "  <thead>\n",
       "    <tr style=\"text-align: right;\">\n",
       "      <th></th>\n",
       "      <th>date</th>\n",
       "      <th>location</th>\n",
       "      <th>total_vaccinations</th>\n",
       "      <th>total_distributed</th>\n",
       "      <th>people_vaccinated</th>\n",
       "      <th>people_fully_vaccinated_per_hundred</th>\n",
       "      <th>total_vaccinations_per_hundred</th>\n",
       "      <th>people_fully_vaccinated</th>\n",
       "      <th>people_vaccinated_per_hundred</th>\n",
       "      <th>distributed_per_hundred</th>\n",
       "      <th>daily_vaccinations_raw</th>\n",
       "      <th>daily_vaccinations</th>\n",
       "      <th>daily_vaccinations_per_million</th>\n",
       "      <th>share_doses_used</th>\n",
       "    </tr>\n",
       "  </thead>\n",
       "  <tbody>\n",
       "    <tr>\n",
       "      <th>0</th>\n",
       "      <td>2020-12-20</td>\n",
       "      <td>United States</td>\n",
       "      <td>556208.0</td>\n",
       "      <td>NaN</td>\n",
       "      <td>NaN</td>\n",
       "      <td>NaN</td>\n",
       "      <td>0.17</td>\n",
       "      <td>NaN</td>\n",
       "      <td>NaN</td>\n",
       "      <td>NaN</td>\n",
       "      <td>NaN</td>\n",
       "      <td>NaN</td>\n",
       "      <td>NaN</td>\n",
       "      <td>NaN</td>\n",
       "    </tr>\n",
       "    <tr>\n",
       "      <th>1</th>\n",
       "      <td>2020-12-21</td>\n",
       "      <td>United States</td>\n",
       "      <td>614117.0</td>\n",
       "      <td>NaN</td>\n",
       "      <td>NaN</td>\n",
       "      <td>NaN</td>\n",
       "      <td>0.18</td>\n",
       "      <td>NaN</td>\n",
       "      <td>NaN</td>\n",
       "      <td>NaN</td>\n",
       "      <td>57909.0</td>\n",
       "      <td>57909.0</td>\n",
       "      <td>174.0</td>\n",
       "      <td>NaN</td>\n",
       "    </tr>\n",
       "    <tr>\n",
       "      <th>2</th>\n",
       "      <td>2020-12-22</td>\n",
       "      <td>United States</td>\n",
       "      <td>NaN</td>\n",
       "      <td>NaN</td>\n",
       "      <td>NaN</td>\n",
       "      <td>NaN</td>\n",
       "      <td>NaN</td>\n",
       "      <td>NaN</td>\n",
       "      <td>NaN</td>\n",
       "      <td>NaN</td>\n",
       "      <td>NaN</td>\n",
       "      <td>127432.0</td>\n",
       "      <td>384.0</td>\n",
       "      <td>NaN</td>\n",
       "    </tr>\n",
       "    <tr>\n",
       "      <th>3</th>\n",
       "      <td>2020-12-23</td>\n",
       "      <td>United States</td>\n",
       "      <td>1008025.0</td>\n",
       "      <td>NaN</td>\n",
       "      <td>NaN</td>\n",
       "      <td>NaN</td>\n",
       "      <td>0.30</td>\n",
       "      <td>NaN</td>\n",
       "      <td>NaN</td>\n",
       "      <td>NaN</td>\n",
       "      <td>NaN</td>\n",
       "      <td>150606.0</td>\n",
       "      <td>454.0</td>\n",
       "      <td>NaN</td>\n",
       "    </tr>\n",
       "    <tr>\n",
       "      <th>4</th>\n",
       "      <td>2020-12-24</td>\n",
       "      <td>United States</td>\n",
       "      <td>NaN</td>\n",
       "      <td>NaN</td>\n",
       "      <td>NaN</td>\n",
       "      <td>NaN</td>\n",
       "      <td>NaN</td>\n",
       "      <td>NaN</td>\n",
       "      <td>NaN</td>\n",
       "      <td>NaN</td>\n",
       "      <td>NaN</td>\n",
       "      <td>191001.0</td>\n",
       "      <td>575.0</td>\n",
       "      <td>NaN</td>\n",
       "    </tr>\n",
       "    <tr>\n",
       "      <th>...</th>\n",
       "      <td>...</td>\n",
       "      <td>...</td>\n",
       "      <td>...</td>\n",
       "      <td>...</td>\n",
       "      <td>...</td>\n",
       "      <td>...</td>\n",
       "      <td>...</td>\n",
       "      <td>...</td>\n",
       "      <td>...</td>\n",
       "      <td>...</td>\n",
       "      <td>...</td>\n",
       "      <td>...</td>\n",
       "      <td>...</td>\n",
       "      <td>...</td>\n",
       "    </tr>\n",
       "    <tr>\n",
       "      <th>17496</th>\n",
       "      <td>2021-10-12</td>\n",
       "      <td>Virginia</td>\n",
       "      <td>11188615.0</td>\n",
       "      <td>13117025.0</td>\n",
       "      <td>5924366.0</td>\n",
       "      <td>61.57</td>\n",
       "      <td>131.08</td>\n",
       "      <td>5255434.0</td>\n",
       "      <td>69.41</td>\n",
       "      <td>153.68</td>\n",
       "      <td>NaN</td>\n",
       "      <td>23479.0</td>\n",
       "      <td>2751.0</td>\n",
       "      <td>0.853</td>\n",
       "    </tr>\n",
       "    <tr>\n",
       "      <th>17497</th>\n",
       "      <td>2021-10-12</td>\n",
       "      <td>Washington</td>\n",
       "      <td>9876205.0</td>\n",
       "      <td>11708255.0</td>\n",
       "      <td>5186876.0</td>\n",
       "      <td>62.13</td>\n",
       "      <td>129.70</td>\n",
       "      <td>4731460.0</td>\n",
       "      <td>68.11</td>\n",
       "      <td>153.75</td>\n",
       "      <td>NaN</td>\n",
       "      <td>21373.0</td>\n",
       "      <td>2807.0</td>\n",
       "      <td>0.844</td>\n",
       "    </tr>\n",
       "    <tr>\n",
       "      <th>17498</th>\n",
       "      <td>2021-10-12</td>\n",
       "      <td>West Virginia</td>\n",
       "      <td>1571928.0</td>\n",
       "      <td>3038725.0</td>\n",
       "      <td>869531.0</td>\n",
       "      <td>40.69</td>\n",
       "      <td>87.71</td>\n",
       "      <td>729254.0</td>\n",
       "      <td>48.52</td>\n",
       "      <td>169.56</td>\n",
       "      <td>NaN</td>\n",
       "      <td>1706.0</td>\n",
       "      <td>952.0</td>\n",
       "      <td>0.517</td>\n",
       "    </tr>\n",
       "    <tr>\n",
       "      <th>17499</th>\n",
       "      <td>2021-10-12</td>\n",
       "      <td>Wisconsin</td>\n",
       "      <td>6994730.0</td>\n",
       "      <td>7741485.0</td>\n",
       "      <td>3590271.0</td>\n",
       "      <td>57.31</td>\n",
       "      <td>120.13</td>\n",
       "      <td>3336799.0</td>\n",
       "      <td>61.66</td>\n",
       "      <td>132.96</td>\n",
       "      <td>NaN</td>\n",
       "      <td>16533.0</td>\n",
       "      <td>2840.0</td>\n",
       "      <td>0.904</td>\n",
       "    </tr>\n",
       "    <tr>\n",
       "      <th>17500</th>\n",
       "      <td>2021-10-12</td>\n",
       "      <td>Wyoming</td>\n",
       "      <td>540605.0</td>\n",
       "      <td>690305.0</td>\n",
       "      <td>286195.0</td>\n",
       "      <td>42.61</td>\n",
       "      <td>93.41</td>\n",
       "      <td>246602.0</td>\n",
       "      <td>49.45</td>\n",
       "      <td>119.27</td>\n",
       "      <td>NaN</td>\n",
       "      <td>1692.0</td>\n",
       "      <td>2923.0</td>\n",
       "      <td>0.783</td>\n",
       "    </tr>\n",
       "  </tbody>\n",
       "</table>\n",
       "<p>17501 rows × 14 columns</p>\n",
       "</div>"
      ],
      "text/plain": [
       "             date       location  total_vaccinations  total_distributed  \\\n",
       "0      2020-12-20  United States            556208.0                NaN   \n",
       "1      2020-12-21  United States            614117.0                NaN   \n",
       "2      2020-12-22  United States                 NaN                NaN   \n",
       "3      2020-12-23  United States           1008025.0                NaN   \n",
       "4      2020-12-24  United States                 NaN                NaN   \n",
       "...           ...            ...                 ...                ...   \n",
       "17496  2021-10-12       Virginia          11188615.0         13117025.0   \n",
       "17497  2021-10-12     Washington           9876205.0         11708255.0   \n",
       "17498  2021-10-12  West Virginia           1571928.0          3038725.0   \n",
       "17499  2021-10-12      Wisconsin           6994730.0          7741485.0   \n",
       "17500  2021-10-12        Wyoming            540605.0           690305.0   \n",
       "\n",
       "       people_vaccinated  people_fully_vaccinated_per_hundred  \\\n",
       "0                    NaN                                  NaN   \n",
       "1                    NaN                                  NaN   \n",
       "2                    NaN                                  NaN   \n",
       "3                    NaN                                  NaN   \n",
       "4                    NaN                                  NaN   \n",
       "...                  ...                                  ...   \n",
       "17496          5924366.0                                61.57   \n",
       "17497          5186876.0                                62.13   \n",
       "17498           869531.0                                40.69   \n",
       "17499          3590271.0                                57.31   \n",
       "17500           286195.0                                42.61   \n",
       "\n",
       "       total_vaccinations_per_hundred  people_fully_vaccinated  \\\n",
       "0                                0.17                      NaN   \n",
       "1                                0.18                      NaN   \n",
       "2                                 NaN                      NaN   \n",
       "3                                0.30                      NaN   \n",
       "4                                 NaN                      NaN   \n",
       "...                               ...                      ...   \n",
       "17496                          131.08                5255434.0   \n",
       "17497                          129.70                4731460.0   \n",
       "17498                           87.71                 729254.0   \n",
       "17499                          120.13                3336799.0   \n",
       "17500                           93.41                 246602.0   \n",
       "\n",
       "       people_vaccinated_per_hundred  distributed_per_hundred  \\\n",
       "0                                NaN                      NaN   \n",
       "1                                NaN                      NaN   \n",
       "2                                NaN                      NaN   \n",
       "3                                NaN                      NaN   \n",
       "4                                NaN                      NaN   \n",
       "...                              ...                      ...   \n",
       "17496                          69.41                   153.68   \n",
       "17497                          68.11                   153.75   \n",
       "17498                          48.52                   169.56   \n",
       "17499                          61.66                   132.96   \n",
       "17500                          49.45                   119.27   \n",
       "\n",
       "       daily_vaccinations_raw  daily_vaccinations  \\\n",
       "0                         NaN                 NaN   \n",
       "1                     57909.0             57909.0   \n",
       "2                         NaN            127432.0   \n",
       "3                         NaN            150606.0   \n",
       "4                         NaN            191001.0   \n",
       "...                       ...                 ...   \n",
       "17496                     NaN             23479.0   \n",
       "17497                     NaN             21373.0   \n",
       "17498                     NaN              1706.0   \n",
       "17499                     NaN             16533.0   \n",
       "17500                     NaN              1692.0   \n",
       "\n",
       "       daily_vaccinations_per_million  share_doses_used  \n",
       "0                                 NaN               NaN  \n",
       "1                               174.0               NaN  \n",
       "2                               384.0               NaN  \n",
       "3                               454.0               NaN  \n",
       "4                               575.0               NaN  \n",
       "...                               ...               ...  \n",
       "17496                          2751.0             0.853  \n",
       "17497                          2807.0             0.844  \n",
       "17498                           952.0             0.517  \n",
       "17499                          2840.0             0.904  \n",
       "17500                          2923.0             0.783  \n",
       "\n",
       "[17501 rows x 14 columns]"
      ]
     },
     "execution_count": 4,
     "metadata": {},
     "output_type": "execute_result"
    }
   ],
   "source": [
    "vacc = pd.read_csv(\"../raw_datasets/usa_vaccines_12-10-2021.csv\", index_col=0)\n",
    "vacc"
   ]
  },
  {
   "cell_type": "markdown",
   "metadata": {},
   "source": [
    "***\n",
    "<a id='Summary_Statistics'></a>\n",
    "## 2. Summary Statistics"
   ]
  },
  {
   "cell_type": "code",
   "execution_count": 5,
   "metadata": {},
   "outputs": [
    {
     "data": {
      "text/html": [
       "<div>\n",
       "<style scoped>\n",
       "    .dataframe tbody tr th:only-of-type {\n",
       "        vertical-align: middle;\n",
       "    }\n",
       "\n",
       "    .dataframe tbody tr th {\n",
       "        vertical-align: top;\n",
       "    }\n",
       "\n",
       "    .dataframe thead th {\n",
       "        text-align: right;\n",
       "    }\n",
       "</style>\n",
       "<table border=\"1\" class=\"dataframe\">\n",
       "  <thead>\n",
       "    <tr style=\"text-align: right;\">\n",
       "      <th></th>\n",
       "      <th>Lat</th>\n",
       "      <th>Long_</th>\n",
       "      <th>Confirmed</th>\n",
       "      <th>Deaths</th>\n",
       "      <th>Recovered</th>\n",
       "      <th>Active</th>\n",
       "      <th>FIPS</th>\n",
       "      <th>Incident_Rate</th>\n",
       "      <th>People_Tested</th>\n",
       "      <th>People_Hospitalized</th>\n",
       "      <th>Mortality_Rate</th>\n",
       "      <th>UID</th>\n",
       "      <th>Testing_Rate</th>\n",
       "      <th>Hospitalization_Rate</th>\n",
       "      <th>Total_Test_Results</th>\n",
       "      <th>Case_Fatality_Ratio</th>\n",
       "      <th>Cases_28_Days</th>\n",
       "      <th>Deaths_28_Days</th>\n",
       "    </tr>\n",
       "  </thead>\n",
       "  <tbody>\n",
       "    <tr>\n",
       "      <th>count</th>\n",
       "      <td>30744.000000</td>\n",
       "      <td>30744.000000</td>\n",
       "      <td>3.186000e+04</td>\n",
       "      <td>31860.000000</td>\n",
       "      <td>1.512200e+04</td>\n",
       "      <td>1.908300e+04</td>\n",
       "      <td>31841.000000</td>\n",
       "      <td>30744.000000</td>\n",
       "      <td>1.181600e+04</td>\n",
       "      <td>5129.000000</td>\n",
       "      <td>12027.000000</td>\n",
       "      <td>3.186000e+04</td>\n",
       "      <td>30740.000000</td>\n",
       "      <td>5129.000000</td>\n",
       "      <td>1.892400e+04</td>\n",
       "      <td>19273.000000</td>\n",
       "      <td>116.000000</td>\n",
       "      <td>116.000000</td>\n",
       "    </tr>\n",
       "    <tr>\n",
       "      <th>mean</th>\n",
       "      <td>36.840089</td>\n",
       "      <td>-85.206614</td>\n",
       "      <td>3.487884e+05</td>\n",
       "      <td>6563.056058</td>\n",
       "      <td>8.578908e+04</td>\n",
       "      <td>1.056526e+05</td>\n",
       "      <td>3282.314092</td>\n",
       "      <td>5671.899662</td>\n",
       "      <td>1.110360e+06</td>\n",
       "      <td>6151.226555</td>\n",
       "      <td>3.305093</td>\n",
       "      <td>7.676607e+07</td>\n",
       "      <td>82311.855285</td>\n",
       "      <td>12.143891</td>\n",
       "      <td>7.405400e+06</td>\n",
       "      <td>1.637484</td>\n",
       "      <td>34254.456897</td>\n",
       "      <td>170.336207</td>\n",
       "    </tr>\n",
       "    <tr>\n",
       "      <th>std</th>\n",
       "      <td>10.789567</td>\n",
       "      <td>49.309014</td>\n",
       "      <td>5.945479e+05</td>\n",
       "      <td>10668.394849</td>\n",
       "      <td>1.933303e+05</td>\n",
       "      <td>2.789115e+05</td>\n",
       "      <td>17242.983347</td>\n",
       "      <td>4701.584592</td>\n",
       "      <td>2.059909e+06</td>\n",
       "      <td>13791.089316</td>\n",
       "      <td>2.482413</td>\n",
       "      <td>2.357145e+07</td>\n",
       "      <td>78462.835502</td>\n",
       "      <td>5.245396</td>\n",
       "      <td>1.122328e+07</td>\n",
       "      <td>0.656224</td>\n",
       "      <td>61243.435061</td>\n",
       "      <td>264.374962</td>\n",
       "    </tr>\n",
       "    <tr>\n",
       "      <th>min</th>\n",
       "      <td>-14.271000</td>\n",
       "      <td>-170.132200</td>\n",
       "      <td>0.000000e+00</td>\n",
       "      <td>0.000000</td>\n",
       "      <td>0.000000e+00</td>\n",
       "      <td>-1.207200e+05</td>\n",
       "      <td>1.000000</td>\n",
       "      <td>0.000000</td>\n",
       "      <td>3.000000e+00</td>\n",
       "      <td>2.000000</td>\n",
       "      <td>0.000000</td>\n",
       "      <td>1.600000e+01</td>\n",
       "      <td>5.391708</td>\n",
       "      <td>1.418440</td>\n",
       "      <td>1.768000e+03</td>\n",
       "      <td>0.000000</td>\n",
       "      <td>0.000000</td>\n",
       "      <td>0.000000</td>\n",
       "    </tr>\n",
       "    <tr>\n",
       "      <th>25%</th>\n",
       "      <td>34.594600</td>\n",
       "      <td>-101.165775</td>\n",
       "      <td>2.121200e+04</td>\n",
       "      <td>440.000000</td>\n",
       "      <td>3.872000e+03</td>\n",
       "      <td>3.181500e+03</td>\n",
       "      <td>18.000000</td>\n",
       "      <td>1164.169048</td>\n",
       "      <td>1.121925e+05</td>\n",
       "      <td>558.000000</td>\n",
       "      <td>1.667964</td>\n",
       "      <td>8.400001e+07</td>\n",
       "      <td>18665.073967</td>\n",
       "      <td>8.359942</td>\n",
       "      <td>1.544981e+06</td>\n",
       "      <td>1.276743</td>\n",
       "      <td>3603.250000</td>\n",
       "      <td>21.750000</td>\n",
       "    </tr>\n",
       "    <tr>\n",
       "      <th>50%</th>\n",
       "      <td>39.061850</td>\n",
       "      <td>-87.944200</td>\n",
       "      <td>1.212900e+05</td>\n",
       "      <td>2249.000000</td>\n",
       "      <td>1.754850e+04</td>\n",
       "      <td>1.810900e+04</td>\n",
       "      <td>32.000000</td>\n",
       "      <td>4682.972508</td>\n",
       "      <td>4.153255e+05</td>\n",
       "      <td>2014.000000</td>\n",
       "      <td>2.818801</td>\n",
       "      <td>8.400003e+07</td>\n",
       "      <td>63424.241541</td>\n",
       "      <td>11.282093</td>\n",
       "      <td>3.738018e+06</td>\n",
       "      <td>1.589871</td>\n",
       "      <td>17370.500000</td>\n",
       "      <td>102.500000</td>\n",
       "    </tr>\n",
       "    <tr>\n",
       "      <th>75%</th>\n",
       "      <td>42.361650</td>\n",
       "      <td>-76.970625</td>\n",
       "      <td>4.438310e+05</td>\n",
       "      <td>7757.000000</td>\n",
       "      <td>8.425575e+04</td>\n",
       "      <td>8.257850e+04</td>\n",
       "      <td>48.000000</td>\n",
       "      <td>9976.682990</td>\n",
       "      <td>1.152972e+06</td>\n",
       "      <td>6001.000000</td>\n",
       "      <td>4.413457</td>\n",
       "      <td>8.400004e+07</td>\n",
       "      <td>123498.541188</td>\n",
       "      <td>15.268243</td>\n",
       "      <td>8.796718e+06</td>\n",
       "      <td>1.904325</td>\n",
       "      <td>38470.750000</td>\n",
       "      <td>188.000000</td>\n",
       "    </tr>\n",
       "    <tr>\n",
       "      <th>max</th>\n",
       "      <td>61.370700</td>\n",
       "      <td>145.673900</td>\n",
       "      <td>4.792729e+06</td>\n",
       "      <td>70204.000000</td>\n",
       "      <td>2.470308e+06</td>\n",
       "      <td>3.542626e+06</td>\n",
       "      <td>99999.000000</td>\n",
       "      <td>18399.033324</td>\n",
       "      <td>1.956515e+07</td>\n",
       "      <td>89995.000000</td>\n",
       "      <td>70.370370</td>\n",
       "      <td>8.410000e+07</td>\n",
       "      <td>512404.081328</td>\n",
       "      <td>38.501190</td>\n",
       "      <td>9.619718e+07</td>\n",
       "      <td>6.405536</td>\n",
       "      <td>364090.000000</td>\n",
       "      <td>1538.000000</td>\n",
       "    </tr>\n",
       "  </tbody>\n",
       "</table>\n",
       "</div>"
      ],
      "text/plain": [
       "                Lat         Long_     Confirmed        Deaths     Recovered  \\\n",
       "count  30744.000000  30744.000000  3.186000e+04  31860.000000  1.512200e+04   \n",
       "mean      36.840089    -85.206614  3.487884e+05   6563.056058  8.578908e+04   \n",
       "std       10.789567     49.309014  5.945479e+05  10668.394849  1.933303e+05   \n",
       "min      -14.271000   -170.132200  0.000000e+00      0.000000  0.000000e+00   \n",
       "25%       34.594600   -101.165775  2.121200e+04    440.000000  3.872000e+03   \n",
       "50%       39.061850    -87.944200  1.212900e+05   2249.000000  1.754850e+04   \n",
       "75%       42.361650    -76.970625  4.438310e+05   7757.000000  8.425575e+04   \n",
       "max       61.370700    145.673900  4.792729e+06  70204.000000  2.470308e+06   \n",
       "\n",
       "             Active          FIPS  Incident_Rate  People_Tested  \\\n",
       "count  1.908300e+04  31841.000000   30744.000000   1.181600e+04   \n",
       "mean   1.056526e+05   3282.314092    5671.899662   1.110360e+06   \n",
       "std    2.789115e+05  17242.983347    4701.584592   2.059909e+06   \n",
       "min   -1.207200e+05      1.000000       0.000000   3.000000e+00   \n",
       "25%    3.181500e+03     18.000000    1164.169048   1.121925e+05   \n",
       "50%    1.810900e+04     32.000000    4682.972508   4.153255e+05   \n",
       "75%    8.257850e+04     48.000000    9976.682990   1.152972e+06   \n",
       "max    3.542626e+06  99999.000000   18399.033324   1.956515e+07   \n",
       "\n",
       "       People_Hospitalized  Mortality_Rate           UID   Testing_Rate  \\\n",
       "count          5129.000000    12027.000000  3.186000e+04   30740.000000   \n",
       "mean           6151.226555        3.305093  7.676607e+07   82311.855285   \n",
       "std           13791.089316        2.482413  2.357145e+07   78462.835502   \n",
       "min               2.000000        0.000000  1.600000e+01       5.391708   \n",
       "25%             558.000000        1.667964  8.400001e+07   18665.073967   \n",
       "50%            2014.000000        2.818801  8.400003e+07   63424.241541   \n",
       "75%            6001.000000        4.413457  8.400004e+07  123498.541188   \n",
       "max           89995.000000       70.370370  8.410000e+07  512404.081328   \n",
       "\n",
       "       Hospitalization_Rate  Total_Test_Results  Case_Fatality_Ratio  \\\n",
       "count           5129.000000        1.892400e+04         19273.000000   \n",
       "mean              12.143891        7.405400e+06             1.637484   \n",
       "std                5.245396        1.122328e+07             0.656224   \n",
       "min                1.418440        1.768000e+03             0.000000   \n",
       "25%                8.359942        1.544981e+06             1.276743   \n",
       "50%               11.282093        3.738018e+06             1.589871   \n",
       "75%               15.268243        8.796718e+06             1.904325   \n",
       "max               38.501190        9.619718e+07             6.405536   \n",
       "\n",
       "       Cases_28_Days  Deaths_28_Days  \n",
       "count     116.000000      116.000000  \n",
       "mean    34254.456897      170.336207  \n",
       "std     61243.435061      264.374962  \n",
       "min         0.000000        0.000000  \n",
       "25%      3603.250000       21.750000  \n",
       "50%     17370.500000      102.500000  \n",
       "75%     38470.750000      188.000000  \n",
       "max    364090.000000     1538.000000  "
      ]
     },
     "execution_count": 5,
     "metadata": {},
     "output_type": "execute_result"
    }
   ],
   "source": [
    "# Summary statistics for cases in USA\n",
    "cases.describe()"
   ]
  },
  {
   "cell_type": "code",
   "execution_count": 6,
   "metadata": {},
   "outputs": [
    {
     "data": {
      "text/html": [
       "<div>\n",
       "<style scoped>\n",
       "    .dataframe tbody tr th:only-of-type {\n",
       "        vertical-align: middle;\n",
       "    }\n",
       "\n",
       "    .dataframe tbody tr th {\n",
       "        vertical-align: top;\n",
       "    }\n",
       "\n",
       "    .dataframe thead th {\n",
       "        text-align: right;\n",
       "    }\n",
       "</style>\n",
       "<table border=\"1\" class=\"dataframe\">\n",
       "  <thead>\n",
       "    <tr style=\"text-align: right;\">\n",
       "      <th></th>\n",
       "      <th>total_vaccinations</th>\n",
       "      <th>total_distributed</th>\n",
       "      <th>people_vaccinated</th>\n",
       "      <th>people_fully_vaccinated_per_hundred</th>\n",
       "      <th>total_vaccinations_per_hundred</th>\n",
       "      <th>people_fully_vaccinated</th>\n",
       "      <th>people_vaccinated_per_hundred</th>\n",
       "      <th>distributed_per_hundred</th>\n",
       "      <th>daily_vaccinations_raw</th>\n",
       "      <th>daily_vaccinations</th>\n",
       "      <th>daily_vaccinations_per_million</th>\n",
       "      <th>share_doses_used</th>\n",
       "    </tr>\n",
       "  </thead>\n",
       "  <tbody>\n",
       "    <tr>\n",
       "      <th>count</th>\n",
       "      <td>1.684700e+04</td>\n",
       "      <td>1.659400e+04</td>\n",
       "      <td>1.658300e+04</td>\n",
       "      <td>15699.000000</td>\n",
       "      <td>15798.000000</td>\n",
       "      <td>1.650300e+04</td>\n",
       "      <td>15774.000000</td>\n",
       "      <td>15785.000000</td>\n",
       "      <td>1.639100e+04</td>\n",
       "      <td>1.743600e+04</td>\n",
       "      <td>16350.000000</td>\n",
       "      <td>16594.000000</td>\n",
       "    </tr>\n",
       "    <tr>\n",
       "      <th>mean</th>\n",
       "      <td>7.800147e+06</td>\n",
       "      <td>9.530912e+06</td>\n",
       "      <td>4.476359e+06</td>\n",
       "      <td>32.717960</td>\n",
       "      <td>72.039767</td>\n",
       "      <td>3.519152e+06</td>\n",
       "      <td>40.996932</td>\n",
       "      <td>89.038975</td>\n",
       "      <td>4.767542e+04</td>\n",
       "      <td>4.643609e+04</td>\n",
       "      <td>4213.233272</td>\n",
       "      <td>0.780076</td>\n",
       "    </tr>\n",
       "    <tr>\n",
       "      <th>std</th>\n",
       "      <td>3.414258e+07</td>\n",
       "      <td>4.140351e+07</td>\n",
       "      <td>1.937468e+07</td>\n",
       "      <td>19.587797</td>\n",
       "      <td>38.511172</td>\n",
       "      <td>1.594108e+07</td>\n",
       "      <td>20.163901</td>\n",
       "      <td>43.154350</td>\n",
       "      <td>2.201510e+05</td>\n",
       "      <td>2.068789e+05</td>\n",
       "      <td>2918.643435</td>\n",
       "      <td>0.130476</td>\n",
       "    </tr>\n",
       "    <tr>\n",
       "      <th>min</th>\n",
       "      <td>4.160000e+02</td>\n",
       "      <td>6.000000e+03</td>\n",
       "      <td>4.010000e+02</td>\n",
       "      <td>0.000000</td>\n",
       "      <td>0.170000</td>\n",
       "      <td>1.000000e+00</td>\n",
       "      <td>0.240000</td>\n",
       "      <td>6.140000</td>\n",
       "      <td>-4.731910e+05</td>\n",
       "      <td>-5.351900e+04</td>\n",
       "      <td>-16746.000000</td>\n",
       "      <td>0.043000</td>\n",
       "    </tr>\n",
       "    <tr>\n",
       "      <th>25%</th>\n",
       "      <td>5.695970e+05</td>\n",
       "      <td>7.557488e+05</td>\n",
       "      <td>3.513800e+05</td>\n",
       "      <td>14.690000</td>\n",
       "      <td>39.032500</td>\n",
       "      <td>1.836855e+05</td>\n",
       "      <td>24.862500</td>\n",
       "      <td>52.980000</td>\n",
       "      <td>1.703500e+03</td>\n",
       "      <td>3.051500e+03</td>\n",
       "      <td>2033.000000</td>\n",
       "      <td>0.738000</td>\n",
       "    </tr>\n",
       "    <tr>\n",
       "      <th>50%</th>\n",
       "      <td>1.890198e+06</td>\n",
       "      <td>2.371975e+06</td>\n",
       "      <td>1.113514e+06</td>\n",
       "      <td>35.390000</td>\n",
       "      <td>77.425000</td>\n",
       "      <td>7.838020e+05</td>\n",
       "      <td>43.805000</td>\n",
       "      <td>97.510000</td>\n",
       "      <td>9.774000e+03</td>\n",
       "      <td>1.121100e+04</td>\n",
       "      <td>3254.000000</td>\n",
       "      <td>0.805000</td>\n",
       "    </tr>\n",
       "    <tr>\n",
       "      <th>75%</th>\n",
       "      <td>5.368430e+06</td>\n",
       "      <td>6.245680e+06</td>\n",
       "      <td>2.898935e+06</td>\n",
       "      <td>48.080000</td>\n",
       "      <td>101.810000</td>\n",
       "      <td>2.369468e+06</td>\n",
       "      <td>56.170000</td>\n",
       "      <td>122.990000</td>\n",
       "      <td>2.934300e+04</td>\n",
       "      <td>2.870200e+04</td>\n",
       "      <td>5968.750000</td>\n",
       "      <td>0.857000</td>\n",
       "    </tr>\n",
       "    <tr>\n",
       "      <th>max</th>\n",
       "      <td>4.035768e+08</td>\n",
       "      <td>4.881790e+08</td>\n",
       "      <td>2.174039e+08</td>\n",
       "      <td>87.260000</td>\n",
       "      <td>175.520000</td>\n",
       "      <td>1.877148e+08</td>\n",
       "      <td>100.010000</td>\n",
       "      <td>184.790000</td>\n",
       "      <td>4.629928e+06</td>\n",
       "      <td>3.384387e+06</td>\n",
       "      <td>27652.000000</td>\n",
       "      <td>1.108000</td>\n",
       "    </tr>\n",
       "  </tbody>\n",
       "</table>\n",
       "</div>"
      ],
      "text/plain": [
       "       total_vaccinations  total_distributed  people_vaccinated  \\\n",
       "count        1.684700e+04       1.659400e+04       1.658300e+04   \n",
       "mean         7.800147e+06       9.530912e+06       4.476359e+06   \n",
       "std          3.414258e+07       4.140351e+07       1.937468e+07   \n",
       "min          4.160000e+02       6.000000e+03       4.010000e+02   \n",
       "25%          5.695970e+05       7.557488e+05       3.513800e+05   \n",
       "50%          1.890198e+06       2.371975e+06       1.113514e+06   \n",
       "75%          5.368430e+06       6.245680e+06       2.898935e+06   \n",
       "max          4.035768e+08       4.881790e+08       2.174039e+08   \n",
       "\n",
       "       people_fully_vaccinated_per_hundred  total_vaccinations_per_hundred  \\\n",
       "count                         15699.000000                    15798.000000   \n",
       "mean                             32.717960                       72.039767   \n",
       "std                              19.587797                       38.511172   \n",
       "min                               0.000000                        0.170000   \n",
       "25%                              14.690000                       39.032500   \n",
       "50%                              35.390000                       77.425000   \n",
       "75%                              48.080000                      101.810000   \n",
       "max                              87.260000                      175.520000   \n",
       "\n",
       "       people_fully_vaccinated  people_vaccinated_per_hundred  \\\n",
       "count             1.650300e+04                   15774.000000   \n",
       "mean              3.519152e+06                      40.996932   \n",
       "std               1.594108e+07                      20.163901   \n",
       "min               1.000000e+00                       0.240000   \n",
       "25%               1.836855e+05                      24.862500   \n",
       "50%               7.838020e+05                      43.805000   \n",
       "75%               2.369468e+06                      56.170000   \n",
       "max               1.877148e+08                     100.010000   \n",
       "\n",
       "       distributed_per_hundred  daily_vaccinations_raw  daily_vaccinations  \\\n",
       "count             15785.000000            1.639100e+04        1.743600e+04   \n",
       "mean                 89.038975            4.767542e+04        4.643609e+04   \n",
       "std                  43.154350            2.201510e+05        2.068789e+05   \n",
       "min                   6.140000           -4.731910e+05       -5.351900e+04   \n",
       "25%                  52.980000            1.703500e+03        3.051500e+03   \n",
       "50%                  97.510000            9.774000e+03        1.121100e+04   \n",
       "75%                 122.990000            2.934300e+04        2.870200e+04   \n",
       "max                 184.790000            4.629928e+06        3.384387e+06   \n",
       "\n",
       "       daily_vaccinations_per_million  share_doses_used  \n",
       "count                    16350.000000      16594.000000  \n",
       "mean                      4213.233272          0.780076  \n",
       "std                       2918.643435          0.130476  \n",
       "min                     -16746.000000          0.043000  \n",
       "25%                       2033.000000          0.738000  \n",
       "50%                       3254.000000          0.805000  \n",
       "75%                       5968.750000          0.857000  \n",
       "max                      27652.000000          1.108000  "
      ]
     },
     "execution_count": 6,
     "metadata": {},
     "output_type": "execute_result"
    }
   ],
   "source": [
    "# Summary statistics for vaccines in USA\n",
    "vacc.describe()"
   ]
  },
  {
   "cell_type": "markdown",
   "metadata": {},
   "source": [
    "<a id='missing_outliers'></a>\n",
    "### 2.2 How many missing data and outliers? "
   ]
  },
  {
   "cell_type": "code",
   "execution_count": 7,
   "metadata": {},
   "outputs": [
    {
     "data": {
      "text/plain": [
       "Province_State              0\n",
       "Country_Region              0\n",
       "Last_Update                19\n",
       "Lat                      1116\n",
       "Long_                    1116\n",
       "Confirmed                   0\n",
       "Deaths                      0\n",
       "Recovered               16738\n",
       "Active                  12777\n",
       "FIPS                       19\n",
       "Incident_Rate            1116\n",
       "People_Tested           20044\n",
       "People_Hospitalized     26731\n",
       "Mortality_Rate          19833\n",
       "UID                         0\n",
       "ISO3                        0\n",
       "Testing_Rate             1120\n",
       "Hospitalization_Rate    26731\n",
       "Date                        0\n",
       "Total_Test_Results      12936\n",
       "Case_Fatality_Ratio     12587\n",
       "Cases_28_Days           31744\n",
       "Deaths_28_Days          31744\n",
       "dtype: int64"
      ]
     },
     "execution_count": 7,
     "metadata": {},
     "output_type": "execute_result"
    }
   ],
   "source": [
    "# Provides the number of missing values for cases in India\n",
    "cases.isnull().sum()"
   ]
  },
  {
   "cell_type": "code",
   "execution_count": 8,
   "metadata": {},
   "outputs": [
    {
     "data": {
      "text/plain": [
       "216371"
      ]
     },
     "execution_count": 8,
     "metadata": {},
     "output_type": "execute_result"
    }
   ],
   "source": [
    "cases.isnull().sum().sum()"
   ]
  },
  {
   "cell_type": "code",
   "execution_count": 9,
   "metadata": {},
   "outputs": [
    {
     "data": {
      "text/plain": [
       "date                                      0\n",
       "location                                  0\n",
       "total_vaccinations                      654\n",
       "total_distributed                       907\n",
       "people_vaccinated                       918\n",
       "people_fully_vaccinated_per_hundred    1802\n",
       "total_vaccinations_per_hundred         1703\n",
       "people_fully_vaccinated                 998\n",
       "people_vaccinated_per_hundred          1727\n",
       "distributed_per_hundred                1716\n",
       "daily_vaccinations_raw                 1110\n",
       "daily_vaccinations                       65\n",
       "daily_vaccinations_per_million         1151\n",
       "share_doses_used                        907\n",
       "dtype: int64"
      ]
     },
     "execution_count": 9,
     "metadata": {},
     "output_type": "execute_result"
    }
   ],
   "source": [
    "# Provides the number of missing values for vaccines in India\n",
    "vacc.isnull().sum()"
   ]
  },
  {
   "cell_type": "code",
   "execution_count": 10,
   "metadata": {},
   "outputs": [
    {
     "data": {
      "text/plain": [
       "13658"
      ]
     },
     "execution_count": 10,
     "metadata": {},
     "output_type": "execute_result"
    }
   ],
   "source": [
    "vacc.isnull().sum().sum()"
   ]
  },
  {
   "cell_type": "code",
   "execution_count": 11,
   "metadata": {},
   "outputs": [
    {
     "name": "stdout",
     "output_type": "stream",
     "text": [
      "[0.58048614 0.58619645 0.58069638 ... 0.15834192 0.83310603 0.42582333]\n"
     ]
    }
   ],
   "source": [
    "z_confirm = np.abs(stats.zscore(cases['Confirmed']))\n",
    "print(z_confirm)"
   ]
  },
  {
   "cell_type": "code",
   "execution_count": 12,
   "metadata": {},
   "outputs": [
    {
     "name": "stdout",
     "output_type": "stream",
     "text": [
      "[0.21217358 0.21047744        nan ... 0.18242334 0.02359052 0.21263059]\n"
     ]
    }
   ],
   "source": [
    "z_adminstered = np.abs(stats.zscore(vacc['total_vaccinations'], nan_policy='omit'))\n",
    "print(z_adminstered)"
   ]
  },
  {
   "cell_type": "code",
   "execution_count": 13,
   "metadata": {},
   "outputs": [
    {
     "name": "stdout",
     "output_type": "stream",
     "text": [
      "(array([14929, 14987, 15045, 15103, 15161, 15219, 15277, 15335, 15393,\n",
      "       15451, 15509, 15567, 15625, 15683, 15741, 15799, 15857, 15915,\n",
      "       15973, 16031, 16089, 16147, 16205, 16263, 16321, 16365, 16379,\n",
      "       16423, 16437, 16481, 16495, 16539, 16553, 16597, 16611, 16655,\n",
      "       16669, 16713, 16727, 16771, 16785, 16829, 16843, 16887, 16901,\n",
      "       16945, 16959, 17003, 17017, 17061, 17075, 17119, 17133, 17177,\n",
      "       17191, 17235, 17249, 17293, 17307, 17351, 17365, 17409, 17423,\n",
      "       17467, 17481, 17525, 17539, 17583, 17597, 17641, 17655, 17699,\n",
      "       17713, 17757, 17771, 17815, 17829, 17873, 17887, 17931, 17945,\n",
      "       17989, 18003, 18047, 18061, 18105, 18119, 18163, 18177, 18221,\n",
      "       18235, 18279, 18293, 18337, 18351, 18395, 18409, 18453, 18467,\n",
      "       18511, 18525, 18569, 18583, 18627, 18641, 18685, 18699, 18743,\n",
      "       18757, 18801, 18815, 18859, 18873, 18917, 18931, 18975, 18989,\n",
      "       19033, 19047, 19091, 19105, 19149, 19163, 19207, 19221, 19265,\n",
      "       19279, 19323, 19337, 19381, 19395, 19439, 19453, 19497, 19511,\n",
      "       19555, 19569, 19613, 19627, 19671, 19685, 19729, 19743, 19787,\n",
      "       19801, 19845, 19859, 19903, 19917, 19961, 19975, 20019, 20033,\n",
      "       20077, 20091, 20135, 20149, 20193, 20207, 20251, 20265, 20309,\n",
      "       20323, 20367, 20381, 20425, 20439, 20483, 20497, 20541, 20555,\n",
      "       20599, 20613, 20657, 20671, 20715, 20729, 20773, 20787, 20831,\n",
      "       20845, 20889, 20903, 20947, 20961, 21005, 21019, 21063, 21077,\n",
      "       21121, 21135, 21179, 21193, 21237, 21251, 21257, 21295, 21309,\n",
      "       21315, 21353, 21367, 21373, 21411, 21425, 21431, 21469, 21483,\n",
      "       21489, 21527, 21541, 21547, 21585, 21599, 21605, 21643, 21657,\n",
      "       21663, 21701, 21715, 21721, 21759, 21773, 21779, 21817, 21831,\n",
      "       21837, 21875, 21889, 21895, 21933, 21947, 21953, 21991, 22005,\n",
      "       22011, 22049, 22063, 22069, 22107, 22121, 22127, 22165, 22179,\n",
      "       22185, 22223, 22237, 22243, 22281, 22295, 22301, 22339, 22353,\n",
      "       22359, 22397, 22411, 22417, 22455, 22469, 22475, 22513, 22527,\n",
      "       22533, 22571, 22585, 22591, 22629, 22643, 22649, 22687, 22701,\n",
      "       22707, 22745, 22759, 22765, 22803, 22817, 22823, 22861, 22875,\n",
      "       22881, 22919, 22933, 22939, 22977, 22991, 22997, 23035, 23049,\n",
      "       23055, 23093, 23107, 23113, 23151, 23165, 23171, 23209, 23223,\n",
      "       23229, 23267, 23281, 23287, 23325, 23339, 23345, 23383, 23397,\n",
      "       23403, 23441, 23455, 23461, 23499, 23513, 23519, 23557, 23571,\n",
      "       23577, 23615, 23629, 23635, 23673, 23687, 23693, 23731, 23745,\n",
      "       23751, 23789, 23803, 23809, 23847, 23861, 23867, 23905, 23919,\n",
      "       23925, 23963, 23977, 23983, 24021, 24035, 24041, 24079, 24093,\n",
      "       24099, 24137, 24151, 24157, 24195, 24209, 24215, 24253, 24267,\n",
      "       24273, 24311, 24325, 24331, 24369, 24383, 24389, 24427, 24441,\n",
      "       24447, 24485, 24499, 24505, 24543, 24557, 24563, 24601, 24615,\n",
      "       24621, 24659, 24673, 24679, 24717, 24731, 24737, 24775, 24789,\n",
      "       24795, 24833, 24847, 24853, 24891, 24905, 24911, 24949, 24963,\n",
      "       24969, 25007, 25021, 25027, 25065, 25079, 25085, 25123, 25137,\n",
      "       25143, 25181, 25195, 25201, 25239, 25253, 25259, 25297, 25311,\n",
      "       25317, 25355, 25369, 25375, 25413, 25427, 25433, 25471, 25485,\n",
      "       25491, 25529, 25543, 25549, 25587, 25601, 25607, 25645, 25659,\n",
      "       25665, 25703, 25717, 25723, 25761, 25775, 25781, 25819, 25833,\n",
      "       25839, 25877, 25891, 25897, 25935, 25949, 25955, 25993, 26007,\n",
      "       26013, 26051, 26065, 26071, 26109, 26123, 26129, 26167, 26181,\n",
      "       26187, 26225, 26239, 26245, 26283, 26297, 26303, 26341, 26355,\n",
      "       26361, 26399, 26413, 26419, 26457, 26471, 26477, 26515, 26529,\n",
      "       26535, 26573, 26587, 26593, 26631, 26645, 26651, 26689, 26703,\n",
      "       26709, 26747, 26761, 26767, 26805, 26819, 26825, 26863, 26877,\n",
      "       26883, 26921, 26935, 26941, 26979, 26993, 26999, 27037, 27051,\n",
      "       27057, 27095, 27109, 27115, 27140, 27153, 27167, 27173, 27198,\n",
      "       27211, 27225, 27231, 27256, 27269, 27283, 27289, 27314, 27327,\n",
      "       27341, 27347, 27372, 27385, 27399, 27405, 27430, 27443, 27457,\n",
      "       27463, 27488, 27501, 27515, 27521, 27546, 27559, 27573, 27579,\n",
      "       27604, 27617, 27631, 27637, 27662, 27675, 27689, 27695, 27720,\n",
      "       27733, 27747, 27753, 27778, 27791, 27805, 27811, 27836, 27849,\n",
      "       27863, 27869, 27894, 27907, 27921, 27927, 27952, 27965, 27979,\n",
      "       27985, 28010, 28023, 28037, 28043, 28068, 28081, 28095, 28101,\n",
      "       28126, 28139, 28153, 28159, 28184, 28197, 28211, 28217, 28242,\n",
      "       28255, 28269, 28275, 28300, 28313, 28327, 28333, 28358, 28371,\n",
      "       28385, 28391, 28416, 28429, 28443, 28449, 28474, 28487, 28501,\n",
      "       28507, 28532, 28545, 28559, 28565, 28590, 28603, 28617, 28623,\n",
      "       28648, 28661, 28675, 28681, 28706, 28719, 28733, 28739, 28764,\n",
      "       28777, 28791, 28797, 28822, 28835, 28849, 28855, 28880, 28893,\n",
      "       28907, 28913, 28938, 28951, 28965, 28971, 28996, 29009, 29023,\n",
      "       29029, 29054, 29067, 29081, 29087, 29112, 29125, 29139, 29145,\n",
      "       29170, 29183, 29197, 29203, 29228, 29241, 29255, 29261, 29286,\n",
      "       29299, 29313, 29319, 29344, 29357, 29371, 29377, 29402, 29415,\n",
      "       29429, 29435, 29460, 29473, 29487, 29493, 29518, 29531, 29545,\n",
      "       29551, 29576, 29589, 29603, 29609, 29634, 29647, 29661, 29667,\n",
      "       29692, 29705, 29719, 29725, 29750, 29763, 29777, 29783, 29808,\n",
      "       29821, 29835, 29841, 29866, 29879, 29893, 29899, 29924, 29937,\n",
      "       29951, 29957, 29982, 29995, 30009, 30015, 30040, 30053, 30067,\n",
      "       30073, 30098, 30111, 30125, 30131, 30156, 30169, 30183, 30189,\n",
      "       30214, 30227, 30241, 30247, 30272, 30285, 30299, 30305, 30330,\n",
      "       30343, 30357, 30363, 30388, 30401, 30415, 30421, 30446, 30459,\n",
      "       30473, 30479, 30504, 30517, 30531, 30537, 30562, 30575, 30589,\n",
      "       30595, 30620, 30633, 30647, 30653, 30678, 30691, 30705, 30711,\n",
      "       30736, 30749, 30763, 30769, 30794, 30807, 30821, 30827, 30852,\n",
      "       30865, 30879, 30885, 30910, 30923, 30937, 30943, 30968, 30981,\n",
      "       30995, 31001, 31026, 31039, 31053, 31059, 31084, 31097, 31111,\n",
      "       31117, 31142, 31155, 31169, 31175, 31200, 31213, 31227, 31233,\n",
      "       31258, 31271, 31285, 31291, 31316, 31329, 31343, 31349, 31374,\n",
      "       31387, 31401, 31407, 31432, 31445, 31459, 31465, 31490, 31503,\n",
      "       31517, 31523, 31548, 31561, 31575, 31581, 31606, 31619, 31633,\n",
      "       31639, 31664, 31677, 31691, 31697, 31722, 31735, 31749, 31755,\n",
      "       31780, 31793, 31807, 31813, 31838, 31851]),)\n"
     ]
    }
   ],
   "source": [
    "threshold = 3\n",
    "print(np.where(z_confirm>3))"
   ]
  },
  {
   "cell_type": "code",
   "execution_count": 14,
   "metadata": {},
   "outputs": [
    {
     "name": "stderr",
     "output_type": "stream",
     "text": [
      "<ipython-input-14-8fd0555d4138>:1: RuntimeWarning: invalid value encountered in greater\n",
      "  np.where(z_adminstered>3)\n"
     ]
    },
    {
     "data": {
      "text/plain": [
       "(array([ 4116,  4181,  4246,  4311,  4376,  4441,  4506,  4570,  4635,\n",
       "         4700,  4765,  4830,  4895,  4960,  5025,  5090,  5155,  5220,\n",
       "         5285,  5350,  5414,  5479,  5544,  5609,  5674,  5739,  5804,\n",
       "         5868,  5929,  5993,  6058,  6122,  6186,  6250,  6314,  6378,\n",
       "         6442,  6506,  6570,  6634,  6698,  6762,  6826,  6890,  6954,\n",
       "         7018,  7082,  7146,  7210,  7273,  7336,  7400,  7465,  7529,\n",
       "         7593,  7657,  7721,  7785,  7849,  7912,  7975,  8038,  8101,\n",
       "         8164,  8226,  8289,  8351,  8412,  8474,  8536,  8597,  8659,\n",
       "         8722,  8786,  8850,  8914,  9042,  9106,  9170,  9234,  9297,\n",
       "         9361,  9426,  9491,  9556,  9621,  9685,  9749,  9811,  9875,\n",
       "         9939, 10003, 10067, 10131, 10195, 10259, 10323, 10387, 10451,\n",
       "        10515, 10580, 10645, 10710, 10775, 10840, 10905, 10970, 11035,\n",
       "        11100, 11165, 11294, 11357, 11419, 11481, 11543, 11605, 11667,\n",
       "        11729, 11791, 11853, 11913, 11971, 12027, 12078, 12138, 12200,\n",
       "        12262, 12326, 12390, 12454, 12518, 12582, 12646, 12710, 12774,\n",
       "        12838, 12902, 12966, 13030, 13094, 13158, 13222, 13286, 13350,\n",
       "        13413, 13476, 13539, 13603, 13668, 13733, 13796, 13857, 13921,\n",
       "        13986, 14051, 14116, 14181, 14246, 14310, 14373, 14437, 14501,\n",
       "        14564, 14628, 14692, 14756, 14820, 14884, 14948, 15012, 15076,\n",
       "        15268, 15332, 15396, 15460, 15524, 15587, 15649, 15712, 15775,\n",
       "        15839, 15903, 15967, 16030, 16092, 16153, 16214, 16274, 16338,\n",
       "        16402, 16466, 16530, 16658, 16723, 16787, 16851, 16915, 16979,\n",
       "        17043, 17107, 17171, 17235, 17299, 17491]),)"
      ]
     },
     "execution_count": 14,
     "metadata": {},
     "output_type": "execute_result"
    }
   ],
   "source": [
    "np.where(z_adminstered>3)"
   ]
  },
  {
   "cell_type": "markdown",
   "metadata": {},
   "source": [
    "### 2.3 Any Inconsistent, Incomplete, duplicate or incorrect data\n"
   ]
  },
  {
   "cell_type": "code",
   "execution_count": 15,
   "metadata": {},
   "outputs": [
    {
     "data": {
      "text/plain": [
       "0"
      ]
     },
     "execution_count": 15,
     "metadata": {},
     "output_type": "execute_result"
    }
   ],
   "source": [
    "cases.duplicated().sum()"
   ]
  },
  {
   "cell_type": "code",
   "execution_count": 16,
   "metadata": {},
   "outputs": [
    {
     "data": {
      "text/plain": [
       "0"
      ]
     },
     "execution_count": 16,
     "metadata": {},
     "output_type": "execute_result"
    }
   ],
   "source": [
    "vacc.duplicated().sum()"
   ]
  },
  {
   "cell_type": "code",
   "execution_count": 17,
   "metadata": {},
   "outputs": [
    {
     "data": {
      "text/plain": [
       "0        True\n",
       "1        True\n",
       "2        True\n",
       "3        True\n",
       "4        True\n",
       "         ... \n",
       "31855    True\n",
       "31856    True\n",
       "31857    True\n",
       "31858    True\n",
       "31859    True\n",
       "Length: 31860, dtype: bool"
      ]
     },
     "execution_count": 17,
     "metadata": {},
     "output_type": "execute_result"
    }
   ],
   "source": [
    "incomplete_cases = cases.isnull().any(axis=1)\n",
    "incomplete_cases"
   ]
  },
  {
   "cell_type": "code",
   "execution_count": 18,
   "metadata": {},
   "outputs": [
    {
     "data": {
      "text/plain": [
       "0        True\n",
       "1        True\n",
       "2        True\n",
       "3        True\n",
       "4        True\n",
       "         ... \n",
       "17496    True\n",
       "17497    True\n",
       "17498    True\n",
       "17499    True\n",
       "17500    True\n",
       "Length: 17501, dtype: bool"
      ]
     },
     "execution_count": 18,
     "metadata": {},
     "output_type": "execute_result"
    }
   ],
   "source": [
    "incomplete_vacc = vacc.isnull().any(axis=1)\n",
    "incomplete_vacc"
   ]
  },
  {
   "cell_type": "markdown",
   "metadata": {},
   "source": [
    "***\n",
    "<a id='Data_Cleaning'></a>\n",
    "## 3. Data Cleaning"
   ]
  },
  {
   "cell_type": "markdown",
   "metadata": {},
   "source": [
    "### 3.1 cases "
   ]
  },
  {
   "cell_type": "code",
   "execution_count": 19,
   "metadata": {},
   "outputs": [
    {
     "name": "stdout",
     "output_type": "stream",
     "text": [
      "<class 'pandas.core.frame.DataFrame'>\n",
      "Int64Index: 31860 entries, 0 to 31859\n",
      "Data columns (total 23 columns):\n",
      " #   Column                Non-Null Count  Dtype  \n",
      "---  ------                --------------  -----  \n",
      " 0   Province_State        31860 non-null  object \n",
      " 1   Country_Region        31860 non-null  object \n",
      " 2   Last_Update           31841 non-null  object \n",
      " 3   Lat                   30744 non-null  float64\n",
      " 4   Long_                 30744 non-null  float64\n",
      " 5   Confirmed             31860 non-null  int64  \n",
      " 6   Deaths                31860 non-null  int64  \n",
      " 7   Recovered             15122 non-null  float64\n",
      " 8   Active                19083 non-null  float64\n",
      " 9   FIPS                  31841 non-null  float64\n",
      " 10  Incident_Rate         30744 non-null  float64\n",
      " 11  People_Tested         11816 non-null  float64\n",
      " 12  People_Hospitalized   5129 non-null   float64\n",
      " 13  Mortality_Rate        12027 non-null  float64\n",
      " 14  UID                   31860 non-null  float64\n",
      " 15  ISO3                  31860 non-null  object \n",
      " 16  Testing_Rate          30740 non-null  float64\n",
      " 17  Hospitalization_Rate  5129 non-null   float64\n",
      " 18  Date                  31860 non-null  object \n",
      " 19  Total_Test_Results    18924 non-null  float64\n",
      " 20  Case_Fatality_Ratio   19273 non-null  float64\n",
      " 21  Cases_28_Days         116 non-null    float64\n",
      " 22  Deaths_28_Days        116 non-null    float64\n",
      "dtypes: float64(16), int64(2), object(5)\n",
      "memory usage: 5.8+ MB\n"
     ]
    }
   ],
   "source": [
    "cases.info()"
   ]
  },
  {
   "cell_type": "code",
   "execution_count": 20,
   "metadata": {},
   "outputs": [
    {
     "data": {
      "text/plain": [
       "Province_State          0.000000\n",
       "Country_Region          0.000000\n",
       "Last_Update             0.000596\n",
       "Lat                     0.035028\n",
       "Long_                   0.035028\n",
       "Confirmed               0.000000\n",
       "Deaths                  0.000000\n",
       "Recovered               0.525361\n",
       "Active                  0.401036\n",
       "FIPS                    0.000596\n",
       "Incident_Rate           0.035028\n",
       "People_Tested           0.629127\n",
       "People_Hospitalized     0.839014\n",
       "Mortality_Rate          0.622505\n",
       "UID                     0.000000\n",
       "ISO3                    0.000000\n",
       "Testing_Rate            0.035154\n",
       "Hospitalization_Rate    0.839014\n",
       "Date                    0.000000\n",
       "Total_Test_Results      0.406026\n",
       "Case_Fatality_Ratio     0.395072\n",
       "Cases_28_Days           0.996359\n",
       "Deaths_28_Days          0.996359\n",
       "dtype: float64"
      ]
     },
     "execution_count": 20,
     "metadata": {},
     "output_type": "execute_result"
    }
   ],
   "source": [
    "# Provides the fraction of nulls in a particular column\n",
    "cases.isnull().sum() / len(cases)"
   ]
  },
  {
   "cell_type": "markdown",
   "metadata": {},
   "source": [
    "Above we can see that `Cases_28_Days` and `Death_28_Days` have a Null Ratio of `0.9963`, which means 99% of rows are Null. So we can just drop these columns"
   ]
  },
  {
   "cell_type": "code",
   "execution_count": 21,
   "metadata": {},
   "outputs": [],
   "source": [
    "# Dropping the columns with high null ratio\n",
    "cases.drop(['Cases_28_Days', 'Deaths_28_Days'], inplace = True, axis = 1)"
   ]
  },
  {
   "cell_type": "code",
   "execution_count": 22,
   "metadata": {},
   "outputs": [
    {
     "name": "stdout",
     "output_type": "stream",
     "text": [
      "<class 'pandas.core.frame.DataFrame'>\n",
      "Int64Index: 31860 entries, 0 to 31859\n",
      "Data columns (total 21 columns):\n",
      " #   Column                Non-Null Count  Dtype  \n",
      "---  ------                --------------  -----  \n",
      " 0   Province_State        31860 non-null  object \n",
      " 1   Country_Region        31860 non-null  object \n",
      " 2   Last_Update           31841 non-null  object \n",
      " 3   Lat                   30744 non-null  float64\n",
      " 4   Long_                 30744 non-null  float64\n",
      " 5   Confirmed             31860 non-null  int64  \n",
      " 6   Deaths                31860 non-null  int64  \n",
      " 7   Recovered             15122 non-null  float64\n",
      " 8   Active                19083 non-null  float64\n",
      " 9   FIPS                  31841 non-null  float64\n",
      " 10  Incident_Rate         30744 non-null  float64\n",
      " 11  People_Tested         11816 non-null  float64\n",
      " 12  People_Hospitalized   5129 non-null   float64\n",
      " 13  Mortality_Rate        12027 non-null  float64\n",
      " 14  UID                   31860 non-null  float64\n",
      " 15  ISO3                  31860 non-null  object \n",
      " 16  Testing_Rate          30740 non-null  float64\n",
      " 17  Hospitalization_Rate  5129 non-null   float64\n",
      " 18  Date                  31860 non-null  object \n",
      " 19  Total_Test_Results    18924 non-null  float64\n",
      " 20  Case_Fatality_Ratio   19273 non-null  float64\n",
      "dtypes: float64(14), int64(2), object(5)\n",
      "memory usage: 5.3+ MB\n"
     ]
    }
   ],
   "source": [
    "# After dropping\n",
    "cases.info()"
   ]
  },
  {
   "cell_type": "markdown",
   "metadata": {},
   "source": [
    "### 3.2 vacc"
   ]
  },
  {
   "cell_type": "code",
   "execution_count": 23,
   "metadata": {},
   "outputs": [
    {
     "name": "stdout",
     "output_type": "stream",
     "text": [
      "<class 'pandas.core.frame.DataFrame'>\n",
      "Int64Index: 17501 entries, 0 to 17500\n",
      "Data columns (total 14 columns):\n",
      " #   Column                               Non-Null Count  Dtype  \n",
      "---  ------                               --------------  -----  \n",
      " 0   date                                 17501 non-null  object \n",
      " 1   location                             17501 non-null  object \n",
      " 2   total_vaccinations                   16847 non-null  float64\n",
      " 3   total_distributed                    16594 non-null  float64\n",
      " 4   people_vaccinated                    16583 non-null  float64\n",
      " 5   people_fully_vaccinated_per_hundred  15699 non-null  float64\n",
      " 6   total_vaccinations_per_hundred       15798 non-null  float64\n",
      " 7   people_fully_vaccinated              16503 non-null  float64\n",
      " 8   people_vaccinated_per_hundred        15774 non-null  float64\n",
      " 9   distributed_per_hundred              15785 non-null  float64\n",
      " 10  daily_vaccinations_raw               16391 non-null  float64\n",
      " 11  daily_vaccinations                   17436 non-null  float64\n",
      " 12  daily_vaccinations_per_million       16350 non-null  float64\n",
      " 13  share_doses_used                     16594 non-null  float64\n",
      "dtypes: float64(12), object(2)\n",
      "memory usage: 2.0+ MB\n"
     ]
    }
   ],
   "source": [
    "vacc.info()"
   ]
  },
  {
   "cell_type": "code",
   "execution_count": 24,
   "metadata": {},
   "outputs": [
    {
     "data": {
      "text/plain": [
       "date                                   0.000000\n",
       "location                               0.000000\n",
       "total_vaccinations                     0.037369\n",
       "total_distributed                      0.051826\n",
       "people_vaccinated                      0.052454\n",
       "people_fully_vaccinated_per_hundred    0.102966\n",
       "total_vaccinations_per_hundred         0.097309\n",
       "people_fully_vaccinated                0.057025\n",
       "people_vaccinated_per_hundred          0.098680\n",
       "distributed_per_hundred                0.098052\n",
       "daily_vaccinations_raw                 0.063425\n",
       "daily_vaccinations                     0.003714\n",
       "daily_vaccinations_per_million         0.065768\n",
       "share_doses_used                       0.051826\n",
       "dtype: float64"
      ]
     },
     "execution_count": 24,
     "metadata": {},
     "output_type": "execute_result"
    }
   ],
   "source": [
    "# Provides the fraction of nulls in a particular column\n",
    "vacc.isnull().sum() / len(vacc)"
   ]
  },
  {
   "cell_type": "markdown",
   "metadata": {},
   "source": [
    "There is no column with a significant majority of Nulls. **All columns can be left as is**"
   ]
  },
  {
   "cell_type": "code",
   "execution_count": 25,
   "metadata": {},
   "outputs": [],
   "source": [
    "cases.to_csv('../cleaned_datasets/usa/statewise_cases_usa.csv')\n",
    "vacc.to_csv('../cleaned_datasets/usa/statewise_vacc_usa.csv')"
   ]
  },
  {
   "cell_type": "markdown",
   "metadata": {},
   "source": [
    "***\n",
    "<a id='Visualization'></a>\n",
    "## 4. Visualization"
   ]
  },
  {
   "cell_type": "code",
   "execution_count": null,
   "metadata": {},
   "outputs": [],
   "source": []
  },
  {
   "cell_type": "markdown",
   "metadata": {},
   "source": [
    "### 4.1 Histograms"
   ]
  },
  {
   "cell_type": "code",
   "execution_count": 33,
   "metadata": {},
   "outputs": [
    {
     "data": {
      "text/plain": [
       "<matplotlib.axes._subplots.AxesSubplot at 0x7fe4f0b6eb20>"
      ]
     },
     "execution_count": 33,
     "metadata": {},
     "output_type": "execute_result"
    },
    {
     "data": {
      "image/png": "[encoded data removed]",
      "text/plain": [
       "<Figure size 432x288 with 1 Axes>"
      ]
     },
     "metadata": {
      "needs_background": "light"
     },
     "output_type": "display_data"
    }
   ],
   "source": [
    "histogram_filter_cases = cases[['Confirmed', 'Recovered']]\n",
    "sns.histplot(data=histogram_filter_cases, bins=30, kde=True)"
   ]
  },
  {
   "cell_type": "code",
   "execution_count": 34,
   "metadata": {},
   "outputs": [
    {
     "data": {
      "text/plain": [
       "<matplotlib.axes._subplots.AxesSubplot at 0x7fe4f093dd00>"
      ]
     },
     "execution_count": 34,
     "metadata": {},
     "output_type": "execute_result"
    },
    {
     "data": {
      "image/png": "[encoded data removed]",
      "text/plain": [
       "<Figure size 432x288 with 1 Axes>"
      ]
     },
     "metadata": {
      "needs_background": "light"
     },
     "output_type": "display_data"
    }
   ],
   "source": [
    "histogram_filter_cases = cases[['Deaths']]\n",
    "sns.histplot(data=histogram_filter_cases, bins=30, kde=True)"
   ]
  },
  {
   "cell_type": "markdown",
   "metadata": {},
   "source": [
    "### 4.2 Bar Charts"
   ]
  },
  {
   "cell_type": "code",
   "execution_count": 35,
   "metadata": {},
   "outputs": [
    {
     "data": {
      "text/plain": [
       "<matplotlib.axes._subplots.AxesSubplot at 0x7fe4ec5b20a0>"
      ]
     },
     "execution_count": 35,
     "metadata": {},
     "output_type": "execute_result"
    },
    {
     "data": {
      "image/png": "[encoded data removed]",
      "text/plain": [
       "<Figure size 432x288 with 1 Axes>"
      ]
     },
     "metadata": {},
     "output_type": "display_data"
    }
   ],
   "source": [
    "barchart_filter_cases = cases[['Confirmed', 'Recovered','Deaths']]\n",
    "sns.set_theme(style='whitegrid')\n",
    "sns.barplot(data=barchart_filter_cases)"
   ]
  },
  {
   "cell_type": "code",
   "execution_count": 36,
   "metadata": {},
   "outputs": [
    {
     "data": {
      "text/plain": [
       "<matplotlib.axes._subplots.AxesSubplot at 0x7fe4f08cb160>"
      ]
     },
     "execution_count": 36,
     "metadata": {},
     "output_type": "execute_result"
    },
    {
     "data": {
      "image/png": "[encoded data removed]",
      "text/plain": [
       "<Figure size 432x288 with 1 Axes>"
      ]
     },
     "metadata": {},
     "output_type": "display_data"
    }
   ],
   "source": [
    "barchart_filter_vacc = vacc[['people_vaccinated', 'people_fully_vaccinated']]\n",
    "sns.set_theme(style='whitegrid')\n",
    "sns.barplot(data=barchart_filter_vacc)"
   ]
  },
  {
   "cell_type": "markdown",
   "metadata": {},
   "source": [
    "### 4.3 Line Plots"
   ]
  },
  {
   "cell_type": "markdown",
   "metadata": {},
   "source": [
    "#### Getting Time Series Data\n",
    "Before obtaining Line Plots we first extract the time series data. This is done by\n",
    "- Grouping by Date\n",
    "- Aggregating Confirmed, Deaths and Recovered by Sum"
   ]
  },
  {
   "cell_type": "code",
   "execution_count": 37,
   "metadata": {},
   "outputs": [],
   "source": [
    "# Cumulative Time Series (Add on to previous date's cases)\n",
    "cum_timeseries = cases.groupby(['Date']).agg(Confirmed = ('Confirmed', 'sum'), Deaths = ('Deaths', 'sum'), Recovered = ('Recovered', 'sum'))"
   ]
  },
  {
   "cell_type": "code",
   "execution_count": 38,
   "metadata": {},
   "outputs": [],
   "source": [
    "# Delta Time series (Cases on a particular day)\n",
    "delta_timeseries = cases.groupby(['Date']).agg(Confirmed = ('Confirmed', 'sum'), Deaths = ('Deaths', 'sum'), Recovered = ('Recovered', 'sum')).diff()"
   ]
  },
  {
   "cell_type": "markdown",
   "metadata": {},
   "source": [
    "#### 4.3.1 Cumulative confirmed cases"
   ]
  },
  {
   "cell_type": "code",
   "execution_count": 43,
   "metadata": {},
   "outputs": [
    {
     "data": {
      "text/plain": [
       "<matplotlib.axes._subplots.AxesSubplot at 0x7fe4f398b820>"
      ]
     },
     "execution_count": 43,
     "metadata": {},
     "output_type": "execute_result"
    },
    {
     "data": {
      "image/png": "[encoded data removed]",
      "text/plain": [
       "<Figure size 576x576 with 1 Axes>"
      ]
     },
     "metadata": {},
     "output_type": "display_data"
    }
   ],
   "source": [
    "cum_timeseries.Confirmed.plot(figsize=(8, 8))"
   ]
  },
  {
   "cell_type": "markdown",
   "metadata": {},
   "source": [
    "#### 4.3.2 Daily confirmed cases"
   ]
  },
  {
   "cell_type": "code",
   "execution_count": 44,
   "metadata": {},
   "outputs": [
    {
     "data": {
      "text/plain": [
       "<matplotlib.axes._subplots.AxesSubplot at 0x7fe4f3a06820>"
      ]
     },
     "execution_count": 44,
     "metadata": {},
     "output_type": "execute_result"
    },
    {
     "data": {
      "image/png": "[encoded data removed]",
      "text/plain": [
       "<Figure size 576x576 with 1 Axes>"
      ]
     },
     "metadata": {},
     "output_type": "display_data"
    }
   ],
   "source": [
    "delta_timeseries.Confirmed.plot(figsize=(8, 8))"
   ]
  },
  {
   "cell_type": "markdown",
   "metadata": {},
   "source": [
    "#### 4.3.3 Cumulative deaths"
   ]
  },
  {
   "cell_type": "code",
   "execution_count": 41,
   "metadata": {},
   "outputs": [
    {
     "data": {
      "text/plain": [
       "<matplotlib.axes._subplots.AxesSubplot at 0x7fe4f1f6e640>"
      ]
     },
     "execution_count": 41,
     "metadata": {},
     "output_type": "execute_result"
    },
    {
     "data": {
      "image/png": "[encoded data removed]",
      "text/plain": [
       "<Figure size 432x288 with 1 Axes>"
      ]
     },
     "metadata": {},
     "output_type": "display_data"
    }
   ],
   "source": [
    "sns.lineplot(data = cum_timeseries, x = \"Date\", y = \"Deaths\")"
   ]
  },
  {
   "cell_type": "markdown",
   "metadata": {},
   "source": [
    "#### 4.3.4 Daily deaths"
   ]
  },
  {
   "cell_type": "code",
   "execution_count": 42,
   "metadata": {},
   "outputs": [
    {
     "data": {
      "text/plain": [
       "<matplotlib.axes._subplots.AxesSubplot at 0x7fe4f1edc4c0>"
      ]
     },
     "execution_count": 42,
     "metadata": {},
     "output_type": "execute_result"
    },
    {
     "data": {
      "image/png": "[encoded data removed]",
      "text/plain": [
       "<Figure size 432x288 with 1 Axes>"
      ]
     },
     "metadata": {},
     "output_type": "display_data"
    }
   ],
   "source": [
    "sns.lineplot(data = delta_timeseries, x = \"Date\", y = \"Deaths\")"
   ]
  },
  {
   "cell_type": "markdown",
   "metadata": {},
   "source": [
    "#### 4.3.5 Cumulative recoveries"
   ]
  },
  {
   "cell_type": "code",
   "execution_count": 47,
   "metadata": {},
   "outputs": [
    {
     "data": {
      "text/plain": [
       "<matplotlib.axes._subplots.AxesSubplot at 0x7fe4f5999b80>"
      ]
     },
     "execution_count": 47,
     "metadata": {},
     "output_type": "execute_result"
    },
    {
     "data": {
      "image/png": "[encoded data removed]",
      "text/plain": [
       "<Figure size 432x288 with 1 Axes>"
      ]
     },
     "metadata": {},
     "output_type": "display_data"
    }
   ],
   "source": [
    "sns.lineplot(data = cum_timeseries, x = \"Date\", y = \"Recovered\")"
   ]
  },
  {
   "cell_type": "markdown",
   "metadata": {},
   "source": [
    "#### 4.3.6 Daily recoveries"
   ]
  },
  {
   "cell_type": "code",
   "execution_count": 48,
   "metadata": {},
   "outputs": [
    {
     "data": {
      "text/plain": [
       "<matplotlib.axes._subplots.AxesSubplot at 0x7fe4f5fcd760>"
      ]
     },
     "execution_count": 48,
     "metadata": {},
     "output_type": "execute_result"
    },
    {
     "data": {
      "image/png": "[encoded data removed]",
      "text/plain": [
       "<Figure size 432x288 with 1 Axes>"
      ]
     },
     "metadata": {},
     "output_type": "display_data"
    }
   ],
   "source": [
    "sns.lineplot(data = delta_timeseries, x = \"Date\", y = \"Recovered\")"
   ]
  },
  {
   "cell_type": "code",
   "execution_count": 49,
   "metadata": {},
   "outputs": [],
   "source": [
    "cum_timeseries.to_csv('../cleaned_datasets/usa/cum_cases_usa.csv')\n",
    "delta_timeseries.to_csv('../cleaned_datasets/usa/daily_cases_usa.csv')"
   ]
  },
  {
   "cell_type": "code",
   "execution_count": 50,
   "metadata": {},
   "outputs": [],
   "source": [
    "cum_vacc = vacc.groupby(['date']).agg(total_doses = ('total_vaccinations', 'sum'), people_vacc = ('people_vaccinated', 'sum'), people_fully_vacc = ('people_fully_vaccinated', 'sum'), daily_vacc = ('daily_vaccinations', 'sum'))"
   ]
  },
  {
   "cell_type": "code",
   "execution_count": 52,
   "metadata": {},
   "outputs": [],
   "source": [
    "cum_vacc.to_csv('../cleaned_datasets/usa/vacc_usa.csv')"
   ]
  },
  {
   "cell_type": "markdown",
   "metadata": {},
   "source": [
    "### 4.4 PCA"
   ]
  },
  {
   "cell_type": "markdown",
   "metadata": {},
   "source": [
    "***\n",
    "<a id='Correlation'></a>\n",
    "## 5. Correlation"
   ]
  },
  {
   "cell_type": "markdown",
   "metadata": {},
   "source": [
    "- Find the correlation matrix for `cases` and `vacc` to see if any attributes are strongly correlated (we take a threshold of 80%)\n",
    "- We see if the correlation is meaningful, or indicative of excessive attributes"
   ]
  },
  {
   "cell_type": "markdown",
   "metadata": {},
   "source": [
    "### 5.1 Correlation for `cases`"
   ]
  },
  {
   "cell_type": "code",
   "execution_count": null,
   "metadata": {},
   "outputs": [],
   "source": [
    "# Correlation matrix\n",
    "corr_cases = cases.corr()\n",
    "\n",
    "# Generate a mask for the upper triangle\n",
    "mask = np.triu(np.ones_like(corr_cases, dtype=bool))\n",
    "\n",
    "# Set up the matplotlib figure\n",
    "f, ax = plt.subplots(figsize=(15, 15))\n",
    "\n",
    "sns.heatmap(corr_cases, mask=mask, center=0, square=True, annot=True)"
   ]
  },
  {
   "cell_type": "markdown",
   "metadata": {},
   "source": [
    "### 5.2 Correlation for `vacc`"
   ]
  },
  {
   "cell_type": "code",
   "execution_count": null,
   "metadata": {},
   "outputs": [],
   "source": [
    "# Correlation matrix\n",
    "corr_vacc = vacc.corr()\n",
    "\n",
    "# Generate a mask for the upper triangle\n",
    "mask = np.triu(np.ones_like(corr_vacc, dtype=bool))\n",
    "\n",
    "# Set up the matplotlib figure\n",
    "f, ax = plt.subplots(figsize=(10, 10))\n",
    "\n",
    "sns.heatmap(corr_vacc, mask=mask, center=0, square=True, annot=True)"
   ]
  },
  {
   "cell_type": "markdown",
   "metadata": {},
   "source": [
    "***\n",
    "<a id='Preprocessing'></a>\n",
    "## 6. Preprocessing"
   ]
  },
  {
   "cell_type": "markdown",
   "metadata": {},
   "source": [
    "***\n",
    "<a id='Conclusion'></a>\n",
    "## 7. Conclusion"
   ]
  },
  {
   "cell_type": "code",
   "execution_count": null,
   "metadata": {},
   "outputs": [],
   "source": []
  }
 ],
 "metadata": {
  "interpreter": {
   "hash": "c5770589393bb4cc1bcef6443da766cd4406ee5c470484c1f8aa1e37ee4da54c"
  },
  "kernelspec": {
   "display_name": "Python 3",
   "language": "python",
   "name": "python3"
  },
  "language_info": {
   "codemirror_mode": {
    "name": "ipython",
    "version": 3
   },
   "file_extension": ".py",
   "mimetype": "text/x-python",
   "name": "python",
   "nbconvert_exporter": "python",
   "pygments_lexer": "ipython3",
   "version": "3.8.3"
  }
 },
 "nbformat": 4,
 "nbformat_minor": 4
}
